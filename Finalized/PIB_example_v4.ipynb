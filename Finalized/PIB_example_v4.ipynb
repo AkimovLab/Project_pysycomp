{
 "cells": [
  {
   "cell_type": "code",
   "execution_count": 1,
   "metadata": {},
   "outputs": [],
   "source": [
    "from Pysces import *"
   ]
  },
  {
   "cell_type": "markdown",
   "metadata": {},
   "source": [
    "# Normalizing Particle in a Box"
   ]
  },
  {
   "cell_type": "markdown",
   "metadata": {},
   "source": [
    "This can be done in one line, using the PIB() function, the NORMALIZE() function, the .doit() method, and the .replace() method.\n",
    "\n",
    "For the PIB() function, there are three parameters:\n",
    "\n",
    "the first argument is x, which is a variable, and is what the integration is with respec to,\n",
    "\n",
    "the second argument is L, which is the length of the box, \n",
    "\n",
    "and the third argument is n, which is an integer.\n",
    "\n",
    "These variables do not change, unless given explicit values.\n",
    "\n",
    "For the NORMALIZE() function, there are four parameters:\n",
    "\n",
    "the first is the WaveFunction of interest, in this case the PIB() function with the above parameters,\n",
    "\n",
    "the second is what the integral is with respect to, this is commonly \"x\", \n",
    "\n",
    "the third argument is the lower bound of the integral,\n",
    "\n",
    "and the fourth argument is the upper bound of the integral.\n",
    "\n",
    "Since this is a Particle in a Box example, the lower bound is \"0\", and the upper bound is \"L\", the length of the box.\n",
    "\n",
    "The .doit() method computes the integral, and the .replace() method replaces sin(n*pi) with 0, which is equivalent to saying sin(pi) = 0"
   ]
  },
  {
   "cell_type": "code",
   "execution_count": 5,
   "metadata": {
    "scrolled": false
   },
   "outputs": [
    {
     "data": {
      "text/latex": [
       "$$\\begin{cases} \\frac{\\sqrt{2}}{\\sqrt{L}} & \\text{for}\\: \\frac{n \\pi}{L} \\neq 0 \\\\\\tilde{\\infty} & \\text{otherwise} \\end{cases}$$"
      ],
      "text/plain": [
       "⎧√2       n⋅π    \n",
       "⎪──   for ─── ≠ 0\n",
       "⎨√L        L     \n",
       "⎪                \n",
       "⎩zoo   otherwise "
      ]
     },
     "execution_count": 5,
     "metadata": {},
     "output_type": "execute_result"
    }
   ],
   "source": [
    "(NORMALIZE(PIB(x, L, n), x, 0, L).doit().replace(sin(n*pi), 0))"
   ]
  },
  {
   "cell_type": "markdown",
   "metadata": {},
   "source": [
    "The above is a piecewise function. The top expression is what we are interested in, and is the NORMALIZATION CONSTANT for the given WaveFunction.\n",
    "\n",
    "The value can then be multiplied by the original WaveFunction to yield the normalized Particle in a Box."
   ]
  },
  {
   "cell_type": "code",
   "execution_count": 6,
   "metadata": {},
   "outputs": [
    {
     "data": {
      "image/png": "[encoded data removed]",
      "text/latex": [
       "$$\\sqrt{2} \\sqrt{\\frac{1}{L}} \\sin{\\left (\\frac{n \\pi x}{L} \\right )}$$"
      ],
      "text/plain": [
       "       ___           \n",
       "      ╱ 1     ⎛n⋅π⋅x⎞\n",
       "√2⋅  ╱  ─ ⋅sin⎜─────⎟\n",
       "   ╲╱   L     ⎝  L  ⎠"
      ]
     },
     "execution_count": 6,
     "metadata": {},
     "output_type": "execute_result"
    }
   ],
   "source": [
    "(sqrt(2/L))*PIB(x, L, n)"
   ]
  },
  {
   "cell_type": "markdown",
   "metadata": {},
   "source": [
    "# Expectation Value of the Position Operator for Particle in a Box"
   ]
  },
  {
   "cell_type": "markdown",
   "metadata": {},
   "source": [
    "We can also do a simple positional expectation value using the normalized Particle in a Box.\n",
    "\n",
    "The normalized Particle in a Box, although we were able to compute it, is given by the function PIB_NORMALIZE() with the same parameters as the PIB() function.\n",
    "\n",
    "The EXPECTATION() function calculates the expectation value for an operator of interest. In this example we are using the \"x\", or positional, operator.\n",
    "\n",
    "The EXPECTATION() function has FIVE positional arguments:\n",
    "\n",
    "the first argument is the Normalized WaveFunction of interest, in this case the standard normalized Particle in a Box,\n",
    "\n",
    "the second argument is the operator of interest, in this case the \"x\" operator (positional operator),\n",
    "\n",
    "the third is what the integral is with respect to, this is commonly \"x\",\n",
    "\n",
    "the fourth argument is the lower bound of the integral,\n",
    "\n",
    "and the fifth argument is the upper bound of the integral.\n",
    "\n",
    "Since this is a Particle in a Box example, the lower bound is \"0\", and the upper bound is \"L\", the length of the box.\n",
    "\n",
    "The .doit() method computes the integral, and the .replace() method replaces sin(n*pi) with 0, which is equivalent to saying sin(pi) = 0, and it also replaces cos(n*pi) with 1 for similar reasoning.\n"
   ]
  },
  {
   "cell_type": "code",
   "execution_count": 7,
   "metadata": {},
   "outputs": [
    {
     "data": {
      "text/latex": [
       "$$\\begin{cases} 0 & \\text{for}\\: \\left(n = 0 \\wedge \\pi = 0\\right) \\vee n = 0 \\vee \\pi = 0 \\\\\\frac{L}{2} & \\text{otherwise} \\end{cases}$$"
      ],
      "text/plain": [
       "⎧0  for (n = 0 ∧ π = 0) ∨ n = 0 ∨ π = 0\n",
       "⎪                                      \n",
       "⎨L                                     \n",
       "⎪─               otherwise             \n",
       "⎩2                                     "
      ]
     },
     "execution_count": 7,
     "metadata": {},
     "output_type": "execute_result"
    }
   ],
   "source": [
    "(EXPECTATION(PIB_NORMALIZE(x, L, n), x, x, 0, L)).doit().replace(sin(n*pi), 0).replace(cos(n*pi), 1)"
   ]
  },
  {
   "cell_type": "markdown",
   "metadata": {},
   "source": [
    "The expectation value is the average value of an operator for a given WaveFunction between certain bounds. This quantity, L/2, for the positional operator, indicates the most likely location to find the particle in a 1-dimensional box at L/2, which is the center of the box."
   ]
  },
  {
   "cell_type": "markdown",
   "metadata": {},
   "source": [
    "# Expectation Value of the Kinetic Energy Operator for Particle in a Box"
   ]
  },
  {
   "cell_type": "code",
   "execution_count": 8,
   "metadata": {},
   "outputs": [
    {
     "data": {
      "text/latex": [
       "$$\\begin{cases} \\frac{\\pi^{2} h_{b}^{2} n^{2}}{2 L^{2} m} & \\text{for}\\: \\frac{\\pi n}{L} \\neq 0 \\\\0 & \\text{otherwise} \\end{cases}$$"
      ],
      "text/plain": [
       "⎧ 2    2  2             \n",
       "⎪π ⋅h_b ⋅n       π⋅n    \n",
       "⎪──────────  for ─── ≠ 0\n",
       "⎨     2           L     \n",
       "⎪  2⋅L ⋅m               \n",
       "⎪                       \n",
       "⎩    0        otherwise "
      ]
     },
     "execution_count": 8,
     "metadata": {},
     "output_type": "execute_result"
    }
   ],
   "source": [
    "EXPECTATION(PIB_NORMALIZE(x, L, n), KINETIC_ENERGY(x), x, 0, L)"
   ]
  },
  {
   "cell_type": "markdown",
   "metadata": {},
   "source": [
    "# Graphing the WaveFunction of Particle in a Box"
   ]
  },
  {
   "cell_type": "markdown",
   "metadata": {},
   "source": [
    "Again, we know that for the PIB_NORMALIZE() function:\n",
    "\n",
    "L = length of box\n",
    "\n",
    "n = some integer\n",
    "\n",
    "x = variable\n",
    "\n",
    "Let's take n = 1 , and L = 1\n",
    "\n",
    "Note that L is the length of the box, and so it is easiest to observe when equal to 1\n",
    "\n",
    "We can then use the plot() function, which has two arguments:\n",
    "\n",
    "the first argument is the function of interest (in this case the normalized Particle in a Box),\n",
    "\n",
    "and the second argument has three more arguments in parentheses:\n",
    "\n",
    "the first sub-argument is the x-axis (this is denoted by \"x\"),\n",
    "\n",
    "the second sub-argument is the lower bound of the domain, in this case 0,\n",
    "\n",
    "and the third sub-argument is the upper bound of the domain, in this case L."
   ]
  },
  {
   "cell_type": "code",
   "execution_count": 10,
   "metadata": {},
   "outputs": [
    {
     "data": {
      "image/png": "[encoded data removed]",
      "text/plain": [
       "<Figure size 432x288 with 1 Axes>"
      ]
     },
     "metadata": {
      "needs_background": "light"
     },
     "output_type": "display_data"
    },
    {
     "data": {
      "text/plain": [
       "<sympy.plotting.plot.Plot at 0x26418d28240>"
      ]
     },
     "execution_count": 10,
     "metadata": {},
     "output_type": "execute_result"
    }
   ],
   "source": [
    "L = 1\n",
    "n = 1\n",
    "\n",
    "PLOT(PIB_NORMALIZE(x, 1, 1), x, 0, 1)"
   ]
  },
  {
   "cell_type": "markdown",
   "metadata": {},
   "source": [
    "Note: The WaveFunction will not print if the n and L arguments are not assigned numerical values.\n",
    "\n",
    "L should be kept at L = 1, but the n argument can change to any integer.\n",
    "\n",
    "Sometimes, the plot is not graphed when the cell is run. It normally has to be run twice to have the correct output."
   ]
  },
  {
   "cell_type": "code",
   "execution_count": null,
   "metadata": {},
   "outputs": [],
   "source": []
  }
 ],
 "metadata": {
  "kernelspec": {
   "display_name": "Python 3",
   "language": "python",
   "name": "python3"
  },
  "language_info": {
   "codemirror_mode": {
    "name": "ipython",
    "version": 3
   },
   "file_extension": ".py",
   "mimetype": "text/x-python",
   "name": "python",
   "nbconvert_exporter": "python",
   "pygments_lexer": "ipython3",
   "version": "3.7.1"
  }
 },
 "nbformat": 4,
 "nbformat_minor": 2
}
