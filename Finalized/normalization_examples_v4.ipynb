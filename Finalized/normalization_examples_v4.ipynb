{
 "cells": [
  {
   "cell_type": "code",
   "execution_count": 2,
   "metadata": {},
   "outputs": [],
   "source": [
    "from Pysces import *"
   ]
  },
  {
   "cell_type": "markdown",
   "metadata": {},
   "source": [
    "# GENERAL NOTATION"
   ]
  },
  {
   "cell_type": "markdown",
   "metadata": {},
   "source": [
    "The general form of normalization is:\n",
    "\n",
    "Where psi is the wavefunction, Dagger(psi) is the complex conjugate of said wavefunction, and A is the normalization constant."
   ]
  },
  {
   "cell_type": "code",
   "execution_count": 3,
   "metadata": {
    "scrolled": true
   },
   "outputs": [
    {
     "data": {
      "image/png": "[encoded data removed]",
      "text/latex": [
       "$$\\int A^{2} \\psi \\psi^{\\dagger}\\, dx$$"
      ],
      "text/plain": [
       "⌠           \n",
       "⎮  2    †   \n",
       "⎮ A ⋅ψ⋅ψ  dx\n",
       "⌡           "
      ]
     },
     "execution_count": 3,
     "metadata": {},
     "output_type": "execute_result"
    }
   ],
   "source": [
    "Integral((A**2)*psi*Dagger(psi), x)"
   ]
  },
  {
   "cell_type": "markdown",
   "metadata": {},
   "source": [
    "Therefore, A = "
   ]
  },
  {
   "cell_type": "code",
   "execution_count": 4,
   "metadata": {
    "scrolled": true
   },
   "outputs": [
    {
     "data": {
      "image/png": "[encoded data removed]",
      "text/latex": [
       "$$\\frac{1}{\\sqrt{\\int \\psi \\psi^{\\dagger}\\, dx}}$$"
      ],
      "text/plain": [
       "       1        \n",
       "────────────────\n",
       "     ___________\n",
       "    ╱ ⌠         \n",
       "   ╱  ⎮    †    \n",
       "  ╱   ⎮ ψ⋅ψ  dx \n",
       "╲╱    ⌡         "
      ]
     },
     "execution_count": 4,
     "metadata": {},
     "output_type": "execute_result"
    }
   ],
   "source": [
    "1/sqrt(Integral(psi*Dagger(psi), x))"
   ]
  },
  {
   "cell_type": "markdown",
   "metadata": {},
   "source": [
    "These are common definitions of wavefunctions important in quantum mechanics."
   ]
  },
  {
   "cell_type": "markdown",
   "metadata": {},
   "source": [
    "The CONJUGATE() function will give us the complex conjugate of the wavefunction\n",
    "\n",
    "The NORMALIZE() function will give us the normalization constant, as defined above in the general notation."
   ]
  },
  {
   "cell_type": "markdown",
   "metadata": {},
   "source": [
    "# Let's take some wavefunctions from Homework 2:\n"
   ]
  },
  {
   "cell_type": "code",
   "execution_count": 5,
   "metadata": {},
   "outputs": [
    {
     "data": {
      "image/png": "[encoded data removed]",
      "text/latex": [
       "$$e^{x}$$"
      ],
      "text/plain": [
       " x\n",
       "ℯ "
      ]
     },
     "execution_count": 5,
     "metadata": {},
     "output_type": "execute_result"
    }
   ],
   "source": [
    "exp(x)"
   ]
  },
  {
   "cell_type": "markdown",
   "metadata": {},
   "source": [
    "Let's look at what the definition of the normalization constant means:\n",
    "\n",
    "NORMALIZE(A, x, y, z)\n",
    "\n",
    "The first argument is the wavefunction (in general notiation, this is psi),\n",
    "\n",
    "the second argument is the variable we are integrating with respect to. This is usually \"x\",\n",
    "\n",
    "the third argument is the lower bound. This is usually going to be \"-oo\",\n",
    "\n",
    "and the fourth argument is the upper bound. This is usually going to be \"oo\"\n",
    "\n",
    "Note that in sympy notation, two \"o\"s (oo) represents infinity. If a bound is not given, integrate from (-oo, oo)"
   ]
  },
  {
   "cell_type": "code",
   "execution_count": 6,
   "metadata": {
    "scrolled": true
   },
   "outputs": [
    {
     "data": {
      "image/png": "[encoded data removed]",
      "text/latex": [
       "$$\\frac{1}{\\sqrt{\\int_{-\\infty}^{0} e^{2 x}\\, dx}}$$"
      ],
      "text/plain": [
       "         1         \n",
       "───────────────────\n",
       "       ____________\n",
       "      ╱ 0          \n",
       "     ╱  ⌠          \n",
       "    ╱   ⎮   2⋅x    \n",
       "   ╱    ⎮  ℯ    dx \n",
       "  ╱     ⌡          \n",
       "╲╱      -∞         "
      ]
     },
     "execution_count": 6,
     "metadata": {},
     "output_type": "execute_result"
    }
   ],
   "source": [
    "NORMALIZE(exp(x), x, -oo, 0)"
   ]
  },
  {
   "cell_type": "markdown",
   "metadata": {},
   "source": [
    "The above is just symbolic notation. To calculate the integral, the .doit() function can be applied at the end of the string, as follows:"
   ]
  },
  {
   "cell_type": "code",
   "execution_count": 7,
   "metadata": {},
   "outputs": [
    {
     "data": {
      "image/png": "[encoded data removed]",
      "text/latex": [
       "$$\\sqrt{2}$$"
      ],
      "text/plain": [
       "√2"
      ]
     },
     "execution_count": 7,
     "metadata": {},
     "output_type": "execute_result"
    }
   ],
   "source": [
    "NORMALIZE(exp(x), x, -oo, 0).doit()"
   ]
  },
  {
   "cell_type": "markdown",
   "metadata": {},
   "source": [
    "Again, this is the normalization constant. To get the normalized wavefunction, simply multiply the calculated normalization constant by the original wavefunction:"
   ]
  },
  {
   "cell_type": "code",
   "execution_count": 8,
   "metadata": {},
   "outputs": [
    {
     "data": {
      "image/png": "[encoded data removed]",
      "text/latex": [
       "$$\\sqrt{2} e^{x}$$"
      ],
      "text/plain": [
       "    x\n",
       "√2⋅ℯ "
      ]
     },
     "execution_count": 8,
     "metadata": {},
     "output_type": "execute_result"
    }
   ],
   "source": [
    "NORMALIZE(exp(x), x, -oo, 0).doit()*(exp(x))"
   ]
  },
  {
   "cell_type": "markdown",
   "metadata": {},
   "source": [
    "Let's try another example over the integral (0,1)\n",
    "\n",
    "This time using psi for simplicity:"
   ]
  },
  {
   "cell_type": "code",
   "execution_count": 9,
   "metadata": {},
   "outputs": [],
   "source": [
    "psi = a*x*(x-1)"
   ]
  },
  {
   "cell_type": "code",
   "execution_count": 9,
   "metadata": {
    "scrolled": true
   },
   "outputs": [
    {
     "data": {
      "image/png": "[encoded data removed]",
      "text/latex": [
       "$$\\frac{\\psi}{\\sqrt{\\psi^{2}}}$$"
      ],
      "text/plain": [
       "   ψ   \n",
       "───────\n",
       "   ____\n",
       "  ╱  2 \n",
       "╲╱  ψ  "
      ]
     },
     "execution_count": 9,
     "metadata": {},
     "output_type": "execute_result"
    }
   ],
   "source": [
    "NORMALIZE(psi, x, 0, 1).doit()*(psi)"
   ]
  },
  {
   "cell_type": "markdown",
   "metadata": {},
   "source": [
    "The same can be done with problems involving complex numbers:"
   ]
  },
  {
   "cell_type": "code",
   "execution_count": 10,
   "metadata": {},
   "outputs": [
    {
     "data": {
      "image/png": "[encoded data removed]",
      "text/latex": [
       "$$\\frac{e^{I x}}{\\sqrt{L}}$$"
      ],
      "text/plain": [
       " I⋅x\n",
       "ℯ   \n",
       "────\n",
       " √L "
      ]
     },
     "execution_count": 10,
     "metadata": {},
     "output_type": "execute_result"
    }
   ],
   "source": [
    "psi = exp(I*x)\n",
    "\n",
    "NORMALIZE((psi), x, 0, L).doit()*(psi)"
   ]
  },
  {
   "cell_type": "code",
   "execution_count": null,
   "metadata": {},
   "outputs": [],
   "source": []
  }
 ],
 "metadata": {
  "kernelspec": {
   "display_name": "Python 3",
   "language": "python",
   "name": "python3"
  },
  "language_info": {
   "codemirror_mode": {
    "name": "ipython",
    "version": 3
   },
   "file_extension": ".py",
   "mimetype": "text/x-python",
   "name": "python",
   "nbconvert_exporter": "python",
   "pygments_lexer": "ipython3",
   "version": "3.7.1"
  }
 },
 "nbformat": 4,
 "nbformat_minor": 2
}
