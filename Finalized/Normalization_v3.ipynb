{
 "cells": [
  {
   "cell_type": "code",
   "execution_count": 2,
   "metadata": {},
   "outputs": [],
   "source": [
    "from Pysces import *"
   ]
  },
  {
   "cell_type": "markdown",
   "metadata": {},
   "source": [
    "# GENERAL NOTATION"
   ]
  },
  {
   "cell_type": "markdown",
   "metadata": {},
   "source": [
    "The general form of normalization is:\n",
    "\n",
    "Where psi is the wavefunction, Dagger(psi) is the complex conjugate of said wavefunction, and A is the normalization constant."
   ]
  },
  {
   "cell_type": "code",
   "execution_count": 3,
   "metadata": {
    "scrolled": true
   },
   "outputs": [
    {
     "data": {
      "image/png": "[encoded data removed]",
      "text/latex": [
       "$$\\int A^{2} \\psi \\psi^{\\dagger}\\, dx$$"
      ],
      "text/plain": [
       "⌠           \n",
       "⎮  2    †   \n",
       "⎮ A ⋅ψ⋅ψ  dx\n",
       "⌡           "
      ]
     },
     "execution_count": 3,
     "metadata": {},
     "output_type": "execute_result"
    }
   ],
   "source": [
    "Integral((A**2)*psi*Dagger(psi), x)"
   ]
  },
  {
   "cell_type": "markdown",
   "metadata": {},
   "source": [
    "Therefore, A = "
   ]
  },
  {
   "cell_type": "code",
   "execution_count": 4,
   "metadata": {
    "scrolled": true
   },
   "outputs": [
    {
     "data": {
      "image/png": "[encoded data removed]",
      "text/latex": [
       "$$\\frac{1}{\\sqrt{\\int \\psi \\psi^{\\dagger}\\, dx}}$$"
      ],
      "text/plain": [
       "       1        \n",
       "────────────────\n",
       "     ___________\n",
       "    ╱ ⌠         \n",
       "   ╱  ⎮    †    \n",
       "  ╱   ⎮ ψ⋅ψ  dx \n",
       "╲╱    ⌡         "
      ]
     },
     "execution_count": 4,
     "metadata": {},
     "output_type": "execute_result"
    }
   ],
   "source": [
    "1/sqrt(Integral(psi*Dagger(psi), x))"
   ]
  },
  {
   "cell_type": "markdown",
   "metadata": {},
   "source": [
    "These are common definitions of wavefunctions important in quantum mechanics."
   ]
  },
  {
   "cell_type": "markdown",
   "metadata": {},
   "source": [
    "The Conj() function will give us the complex conjugate of the wavefunction\n",
    "\n",
    "The Norm() function will give us the normalization constant, as defined above in the general notation."
   ]
  },
  {
   "cell_type": "markdown",
   "metadata": {},
   "source": [
    "# Let's take some wavefunctions from Homework 2:\n"
   ]
  },
  {
   "cell_type": "code",
   "execution_count": 5,
   "metadata": {},
   "outputs": [
    {
     "data": {
      "image/png": "[encoded data removed]",
      "text/latex": [
       "$$e^{x}$$"
      ],
      "text/plain": [
       " x\n",
       "ℯ "
      ]
     },
     "execution_count": 5,
     "metadata": {},
     "output_type": "execute_result"
    }
   ],
   "source": [
    "exp(x)"
   ]
  },
  {
   "cell_type": "markdown",
   "metadata": {},
   "source": [
    "Let's look at what the definition of the normalization constant means:\n",
    "\n",
    "Norm(A, x, y, z)\n",
    "\n",
    "A = the wavefunction (in general notiation, this is psi)\n",
    "\n",
    "x = the variable we are integrating with respect to. This is usually x\n",
    "\n",
    "y = the lower bound. This is usually going to be -oo\n",
    "\n",
    "z = the upper bound. This is usually going to be oo\n",
    "\n",
    "Note that in sympy notation, two \"o\"s (oo) represents infinity."
   ]
  },
  {
   "cell_type": "code",
   "execution_count": 6,
   "metadata": {
    "scrolled": true
   },
   "outputs": [
    {
     "data": {
      "image/png": "[encoded data removed]",
      "text/latex": [
       "$$\\frac{1}{\\sqrt{\\int_{-\\infty}^{0} e^{2 x}\\, dx}}$$"
      ],
      "text/plain": [
       "         1         \n",
       "───────────────────\n",
       "       ____________\n",
       "      ╱ 0          \n",
       "     ╱  ⌠          \n",
       "    ╱   ⎮   2⋅x    \n",
       "   ╱    ⎮  ℯ    dx \n",
       "  ╱     ⌡          \n",
       "╲╱      -∞         "
      ]
     },
     "execution_count": 6,
     "metadata": {},
     "output_type": "execute_result"
    }
   ],
   "source": [
    "Norm(exp(x), x, -oo, 0)"
   ]
  },
  {
   "cell_type": "markdown",
   "metadata": {},
   "source": [
    "The above is just symbolic notation. To calculate the integral, the .doit() function can be applied at the end of the string, as follows:"
   ]
  },
  {
   "cell_type": "code",
   "execution_count": 7,
   "metadata": {},
   "outputs": [
    {
     "data": {
      "image/png": "[encoded data removed]",
      "text/latex": [
       "$$\\sqrt{2}$$"
      ],
      "text/plain": [
       "√2"
      ]
     },
     "execution_count": 7,
     "metadata": {},
     "output_type": "execute_result"
    }
   ],
   "source": [
    "Norm(exp(x), x, -oo, 0).doit()"
   ]
  },
  {
   "cell_type": "markdown",
   "metadata": {},
   "source": [
    "Again, this is the normalization constant. To get the normalized wavefunction, simply multiply the calculated normalization constant by the original wavefunction:"
   ]
  },
  {
   "cell_type": "code",
   "execution_count": 8,
   "metadata": {},
   "outputs": [
    {
     "data": {
      "image/png": "[encoded data removed]",
      "text/latex": [
       "$$\\sqrt{2} e^{x}$$"
      ],
      "text/plain": [
       "    x\n",
       "√2⋅ℯ "
      ]
     },
     "execution_count": 8,
     "metadata": {},
     "output_type": "execute_result"
    }
   ],
   "source": [
    "Norm(exp(x), x, -oo, 0).doit()*(exp(x))"
   ]
  },
  {
   "cell_type": "markdown",
   "metadata": {},
   "source": [
    "Let's try another example over the integral (0,1)\n",
    "\n",
    "This time using psi for simplicity:"
   ]
  },
  {
   "cell_type": "code",
   "execution_count": 9,
   "metadata": {},
   "outputs": [],
   "source": [
    "psi = a*x*(x-1)"
   ]
  },
  {
   "cell_type": "code",
   "execution_count": 10,
   "metadata": {
    "scrolled": true
   },
   "outputs": [
    {
     "data": {
      "image/png": "[encoded data removed]",
      "text/latex": [
       "$$\\frac{\\sqrt{30} a x \\left(x - 1\\right)}{\\sqrt{a^{2}}}$$"
      ],
      "text/plain": [
       "√30⋅a⋅x⋅(x - 1)\n",
       "───────────────\n",
       "       ____    \n",
       "      ╱  2     \n",
       "    ╲╱  a      "
      ]
     },
     "execution_count": 10,
     "metadata": {},
     "output_type": "execute_result"
    }
   ],
   "source": [
    "Norm(psi, x, 0, 1).doit()*(psi)"
   ]
  },
  {
   "cell_type": "markdown",
   "metadata": {},
   "source": [
    "The same can be done with problems involving complex numbers:"
   ]
  },
  {
   "cell_type": "code",
   "execution_count": 18,
   "metadata": {},
   "outputs": [
    {
     "data": {
      "image/png": "[encoded data removed]",
      "text/latex": [
       "$$\\frac{e^{I x}}{\\sqrt{L}}$$"
      ],
      "text/plain": [
       " I⋅x\n",
       "ℯ   \n",
       "────\n",
       " √L "
      ]
     },
     "execution_count": 18,
     "metadata": {},
     "output_type": "execute_result"
    }
   ],
   "source": [
    "psi = exp(I*x)\n",
    "\n",
    "Norm((psi), x, 0, L).doit()*(psi)"
   ]
  },
  {
   "cell_type": "markdown",
   "metadata": {},
   "source": [
    "# Particle in a Box"
   ]
  },
  {
   "cell_type": "markdown",
   "metadata": {},
   "source": [
    "This example uses the PiB() function, along with the Norm() function. "
   ]
  },
  {
   "cell_type": "code",
   "execution_count": 67,
   "metadata": {},
   "outputs": [
    {
     "data": {
      "image/png": "[encoded data removed]",
      "text/latex": [
       "$$\\frac{1}{\\sqrt{\\int_{0}^{L} \\sin^{2}{\\left (\\frac{n \\pi x}{L} \\right )}\\, dx}}$$"
      ],
      "text/plain": [
       "            1             \n",
       "──────────────────────────\n",
       "        __________________\n",
       "       ╱ L                \n",
       "      ╱  ⌠                \n",
       "     ╱   ⎮    2⎛n⋅π⋅x⎞    \n",
       "    ╱    ⎮ sin ⎜─────⎟ dx \n",
       "   ╱     ⎮     ⎝  L  ⎠    \n",
       "  ╱      ⌡                \n",
       "╲╱       0                "
      ]
     },
     "execution_count": 67,
     "metadata": {},
     "output_type": "execute_result"
    }
   ],
   "source": [
    "Norm((PiB(x, L, n)), x, 0, L)"
   ]
  },
  {
   "cell_type": "markdown",
   "metadata": {},
   "source": [
    "The .doit() simply performs the integration.\n",
    "\n",
    "This should have both the display() for easy viewing and the print() for copying and pasting."
   ]
  },
  {
   "cell_type": "code",
   "execution_count": 64,
   "metadata": {},
   "outputs": [
    {
     "data": {
      "text/latex": [
       "$$\\begin{cases} \\frac{\\sqrt{2}}{\\sqrt{L - \\frac{L \\sin{\\left (2 n \\pi \\right )}}{2 n \\pi}}} & \\text{for}\\: \\frac{n \\pi}{L} \\neq 0 \\\\\\tilde{\\infty} & \\text{otherwise} \\end{cases}$$"
      ],
      "text/plain": [
       "⎧          √2                n⋅π    \n",
       "⎪──────────────────────  for ─── ≠ 0\n",
       "⎪    __________________       L     \n",
       "⎪   ╱     L⋅sin(2⋅n⋅π)              \n",
       "⎨  ╱  L - ────────────              \n",
       "⎪╲╱          2⋅n⋅π                  \n",
       "⎪                                   \n",
       "⎪         zoo             otherwise \n",
       "⎩                                   "
      ]
     },
     "metadata": {},
     "output_type": "display_data"
    },
    {
     "name": "stdout",
     "output_type": "stream",
     "text": [
      "Piecewise((sqrt(2)/sqrt(L - L*sin(2*n*pi)/(2*n*pi)), Ne(n*pi/L, 0)), (zoo, True))\n"
     ]
    }
   ],
   "source": [
    "display(simplify(Norm((PiB(x, L, n)), x, 0, L).doit()))\n",
    "\n",
    "print(simplify(Norm((PiB(x, L, n)), x, 0, L).doit()))"
   ]
  },
  {
   "cell_type": "markdown",
   "metadata": {},
   "source": [
    "The first argument in the piecewise can then be copied and pasted into the next cell, and substitutions can then be made for the trigonometric term.\n",
    "\n",
    "Looking at the sin() term, sin(2*pi) is going to be equal to zero, along with sin(2*n*pi) where n is an integer:"
   ]
  },
  {
   "cell_type": "code",
   "execution_count": 59,
   "metadata": {
    "scrolled": true
   },
   "outputs": [
    {
     "data": {
      "image/png": "[encoded data removed]",
      "text/latex": [
       "$$\\frac{\\sqrt{2}}{\\sqrt{L}}$$"
      ],
      "text/plain": [
       "√2\n",
       "──\n",
       "√L"
      ]
     },
     "execution_count": 59,
     "metadata": {},
     "output_type": "execute_result"
    }
   ],
   "source": [
    "Normal_Const = (sqrt(2)/sqrt(L - L*sin(2*n*pi)/(2*n*pi)).replace(sin(2*n*pi), 0))\n",
    "\n",
    "Normal_Const"
   ]
  },
  {
   "cell_type": "markdown",
   "metadata": {},
   "source": [
    "Finally, it can get multiplied by the original particle in a box function to yield the normalized wavefunction:"
   ]
  },
  {
   "cell_type": "code",
   "execution_count": 61,
   "metadata": {},
   "outputs": [
    {
     "data": {
      "image/png": "[encoded data removed]",
      "text/latex": [
       "$$\\frac{\\sqrt{2} \\sin{\\left (\\frac{n \\pi x}{L} \\right )}}{\\sqrt{L}}$$"
      ],
      "text/plain": [
       "      ⎛n⋅π⋅x⎞\n",
       "√2⋅sin⎜─────⎟\n",
       "      ⎝  L  ⎠\n",
       "─────────────\n",
       "      √L     "
      ]
     },
     "execution_count": 61,
     "metadata": {},
     "output_type": "execute_result"
    }
   ],
   "source": [
    "Normal_Const*PiB(x, L, n)"
   ]
  },
  {
   "cell_type": "markdown",
   "metadata": {},
   "source": [
    "This function is equal to the already defined PiB_Norm() function:"
   ]
  },
  {
   "cell_type": "code",
   "execution_count": 62,
   "metadata": {},
   "outputs": [
    {
     "data": {
      "image/png": "[encoded data removed]",
      "text/latex": [
       "$$\\sqrt{2} \\sqrt{\\frac{1}{L}} \\sin{\\left (\\frac{n \\pi x}{L} \\right )}$$"
      ],
      "text/plain": [
       "       ___           \n",
       "      ╱ 1     ⎛n⋅π⋅x⎞\n",
       "√2⋅  ╱  ─ ⋅sin⎜─────⎟\n",
       "   ╲╱   L     ⎝  L  ⎠"
      ]
     },
     "execution_count": 62,
     "metadata": {},
     "output_type": "execute_result"
    }
   ],
   "source": [
    "PiB_Norm(x, L, n)"
   ]
  },
  {
   "cell_type": "markdown",
   "metadata": {},
   "source": [
    "The PiB_Norm() function was used, because this is a commonly used wavefunction, and so it makes other computations, such as normalization, easier."
   ]
  }
 ],
 "metadata": {
  "kernelspec": {
   "display_name": "Python 3",
   "language": "python",
   "name": "python3"
  },
  "language_info": {
   "codemirror_mode": {
    "name": "ipython",
    "version": 3
   },
   "file_extension": ".py",
   "mimetype": "text/x-python",
   "name": "python",
   "nbconvert_exporter": "python",
   "pygments_lexer": "ipython3",
   "version": "3.7.5"
  }
 },
 "nbformat": 4,
 "nbformat_minor": 2
}
