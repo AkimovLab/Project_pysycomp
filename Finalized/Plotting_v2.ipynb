{
 "cells": [
  {
   "cell_type": "code",
   "execution_count": 12,
   "metadata": {},
   "outputs": [],
   "source": [
    "import math\n",
    "from Pysces import *"
   ]
  },
  {
   "cell_type": "markdown",
   "metadata": {},
   "source": [
    "# Graphical Representation of Particle in a Box"
   ]
  },
  {
   "cell_type": "markdown",
   "metadata": {},
   "source": [
    "Looking at the function of PiB_Norm:\n",
    "\n",
    "PiB_Norm(x, L, n)\n",
    "\n",
    "L = length of box\n",
    "\n",
    "n = some integer"
   ]
  },
  {
   "cell_type": "markdown",
   "metadata": {},
   "source": [
    "Let's take n = 1 , and L = 1\n",
    "\n",
    "Note that L is the length of the box, and so it is easiest to observe when equal to 1"
   ]
  },
  {
   "cell_type": "markdown",
   "metadata": {},
   "source": [
    "We can then use the plot() function\n",
    "\n",
    "In general:\n",
    "\n",
    "plot(x, y)\n",
    "\n",
    "where:\n",
    "\n",
    "x = the function being plotted (such as the wavefunction)\n",
    "y = the x-axis domain"
   ]
  },
  {
   "cell_type": "code",
   "execution_count": 13,
   "metadata": {
    "scrolled": true
   },
   "outputs": [
    {
     "name": "stdout",
     "output_type": "stream",
     "text": [
      "1.4142135623731*sin(pi*x)\n"
     ]
    }
   ],
   "source": [
    "print(PiB_Norm(x, 1, 1))"
   ]
  },
  {
   "cell_type": "code",
   "execution_count": 14,
   "metadata": {},
   "outputs": [
    {
     "data": {
      "image/png": "[encoded data removed]",
      "text/plain": [
       "<Figure size 432x288 with 1 Axes>"
      ]
     },
     "metadata": {
      "needs_background": "light"
     },
     "output_type": "display_data"
    },
    {
     "data": {
      "text/plain": [
       "<sympy.plotting.plot.Plot at 0x7f84f9970dd0>"
      ]
     },
     "execution_count": 14,
     "metadata": {},
     "output_type": "execute_result"
    }
   ],
   "source": [
    "plot(1.4142135623731*sin(math.pi*x), (x, 0, 1))"
   ]
  },
  {
   "cell_type": "markdown",
   "metadata": {},
   "source": [
    "It's important to note that this technique for plotting does not recognize L as the x-axis."
   ]
  },
  {
   "cell_type": "markdown",
   "metadata": {},
   "source": [
    "# Laguerre Polynomials and the Radial Solution"
   ]
  },
  {
   "cell_type": "markdown",
   "metadata": {},
   "source": [
    "Let's look at some of the defined functions:\n",
    "\n",
    "Laguerre(r, n) represents a Laguerre polynomial, given by the general formula:"
   ]
  },
  {
   "cell_type": "code",
   "execution_count": 15,
   "metadata": {},
   "outputs": [
    {
     "data": {
      "image/png": "[encoded data removed]",
      "text/latex": [
       "$$e^{r} \\frac{\\partial^{l}}{\\partial r^{l}} r^{l} e^{- r}$$"
      ],
      "text/plain": [
       "     l        \n",
       " r  ∂ ⎛ l  -r⎞\n",
       "ℯ ⋅───⎝r ⋅ℯ  ⎠\n",
       "     l        \n",
       "   ∂r         "
      ]
     },
     "execution_count": 15,
     "metadata": {},
     "output_type": "execute_result"
    }
   ],
   "source": [
    "exp(r)*Derivative(exp(-r)*(r**l), (r, l))"
   ]
  },
  {
   "cell_type": "markdown",
   "metadata": {},
   "source": [
    "Where r is what the expression is with respect to. This is often \"x\" \n",
    "\n",
    "and \n",
    "\n",
    "l is the angular momentum quantum number\n",
    "\n",
    "For a 1s orbital, l=0"
   ]
  },
  {
   "cell_type": "markdown",
   "metadata": {},
   "source": [
    "The Laguerre polynomial can be used to calculate the Laguerre Associated polynomial, given by the following:\n",
    "\n",
    "Laguerre_Assoc(n, l)\n",
    "\n",
    "Where n is the principal quantum number and l is the angular momentum quantum number.\n",
    "\n",
    "For a 1s orbital, n=1, l=0\n",
    "\n",
    "The expression is given by:"
   ]
  },
  {
   "cell_type": "code",
   "execution_count": 16,
   "metadata": {},
   "outputs": [
    {
     "data": {
      "image/png": "[encoded data removed]",
      "text/latex": [
       "$$\\left(-1\\right)^{l} \\frac{\\partial^{l}}{\\partial r^{l}} e^{r} \\frac{\\partial^{l + n}}{\\partial r^{l + n}} r^{l + n} e^{- r}$$"
      ],
      "text/plain": [
       "        l⎛     l + n            ⎞\n",
       "    l  ∂ ⎜ r  ∂     ⎛ l + n  -r⎞⎟\n",
       "(-1) ⋅───⎜ℯ ⋅───────⎝r     ⋅ℯ  ⎠⎟\n",
       "        l⎜     l + n            ⎟\n",
       "      ∂r ⎝   ∂r                 ⎠"
      ]
     },
     "execution_count": 16,
     "metadata": {},
     "output_type": "execute_result"
    }
   ],
   "source": [
    "((-1)**l)*Derivative(Laguerre(r, n+l), (r, l))"
   ]
  },
  {
   "cell_type": "markdown",
   "metadata": {},
   "source": [
    "Finally, the radial solution can be described using the above functions, leading to:\n",
    "\n",
    "Radial(n, l)"
   ]
  },
  {
   "cell_type": "code",
   "execution_count": 17,
   "metadata": {
    "scrolled": true
   },
   "outputs": [
    {
     "data": {
      "image/png": "[encoded data removed]",
      "text/latex": [
       "$$\\left(-1\\right)^{l} r^{l} e^{- \\frac{Z r}{n}} \\frac{\\partial^{l}}{\\partial r^{l}} e^{r} \\frac{\\partial^{l + n}}{\\partial r^{l + n}} r^{l + n} e^{- r}$$"
      ],
      "text/plain": [
       "          -Z⋅r                             \n",
       "          ─────   l⎛     l + n            ⎞\n",
       "    l  l    n    ∂ ⎜ r  ∂     ⎛ l + n  -r⎞⎟\n",
       "(-1) ⋅r ⋅ℯ     ⋅───⎜ℯ ⋅───────⎝r     ⋅ℯ  ⎠⎟\n",
       "                  l⎜     l + n            ⎟\n",
       "                ∂r ⎝   ∂r                 ⎠"
      ]
     },
     "execution_count": 17,
     "metadata": {},
     "output_type": "execute_result"
    }
   ],
   "source": [
    "(r**l)*Laguerre_Assoc(n, l)*exp((-Z/n)*r)"
   ]
  },
  {
   "cell_type": "markdown",
   "metadata": {},
   "source": [
    "As a general expression."
   ]
  },
  {
   "cell_type": "markdown",
   "metadata": {},
   "source": [
    "To solve for specific quantum numbers, it is important to put the .doit() function at the end of whatever you are calculating.\n",
    "\n",
    "This will solve the derivative present in the expressions"
   ]
  },
  {
   "cell_type": "markdown",
   "metadata": {},
   "source": [
    "# Radial Solution for a 1s Hydrogen Atom"
   ]
  },
  {
   "cell_type": "code",
   "execution_count": 18,
   "metadata": {
    "scrolled": true
   },
   "outputs": [
    {
     "data": {
      "image/png": "[encoded data removed]",
      "text/latex": [
       "$$\\left(- r e^{- r} + e^{- r}\\right) e^{r} e^{- Z r}$$"
      ],
      "text/plain": [
       "⎛     -r    -r⎞  r  -Z⋅r\n",
       "⎝- r⋅ℯ   + ℯ  ⎠⋅ℯ ⋅ℯ    "
      ]
     },
     "execution_count": 18,
     "metadata": {},
     "output_type": "execute_result"
    }
   ],
   "source": [
    "Radial(1, 0).doit()"
   ]
  },
  {
   "cell_type": "markdown",
   "metadata": {},
   "source": [
    "However, this is not the correct function. The normalized solution to this is actually:\n",
    "\n",
    "2*(z**(3/2))*exp(-z*r)"
   ]
  },
  {
   "cell_type": "markdown",
   "metadata": {},
   "source": [
    "Since this is a hydrogen orbital, the charge, z = 1\n",
    "\n",
    "This function can then be plotted:"
   ]
  },
  {
   "cell_type": "code",
   "execution_count": 19,
   "metadata": {
    "scrolled": false
   },
   "outputs": [
    {
     "data": {
      "image/png": "[encoded data removed]",
      "text/plain": [
       "<Figure size 432x288 with 1 Axes>"
      ]
     },
     "metadata": {
      "needs_background": "light"
     },
     "output_type": "display_data"
    },
    {
     "data": {
      "text/plain": [
       "<sympy.plotting.plot.Plot at 0x7f84f997d3d0>"
      ]
     },
     "execution_count": 19,
     "metadata": {},
     "output_type": "execute_result"
    }
   ],
   "source": [
    "z = 1\n",
    "\n",
    "Radial = 2*(z**(3/2))*exp(-z*r)\n",
    "\n",
    "plot(Radial, (r, 0, 5))"
   ]
  }
 ],
 "metadata": {
  "kernelspec": {
   "display_name": "Python 3",
   "language": "python",
   "name": "python3"
  },
  "language_info": {
   "codemirror_mode": {
    "name": "ipython",
    "version": 3
   },
   "file_extension": ".py",
   "mimetype": "text/x-python",
   "name": "python",
   "nbconvert_exporter": "python",
   "pygments_lexer": "ipython3",
   "version": "3.7.5"
  }
 },
 "nbformat": 4,
 "nbformat_minor": 2
}
