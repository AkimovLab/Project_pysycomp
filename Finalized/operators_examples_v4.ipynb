{
 "cells": [
  {
   "cell_type": "code",
   "execution_count": 1,
   "metadata": {},
   "outputs": [],
   "source": [
    "from Pysces import *"
   ]
  },
  {
   "cell_type": "markdown",
   "metadata": {},
   "source": [
    "# Example 1:\n",
    "\n",
    "[p_x, x]"
   ]
  },
  {
   "cell_type": "markdown",
   "metadata": {},
   "source": [
    "The EXPRESSION_REPLACE() function is called, where two arguments are used:\n",
    "\n",
    "the first argument is the Commutator,\n",
    "\n",
    "and the second argument is with what variable it is with respect to, in this case the variable \"x\".\n",
    "\n",
    "\n",
    "For this example, the COMM() function is used as the first argument, and has three arguments:\n",
    "\n",
    "the first argument is the first operator,\n",
    "\n",
    "the second argument is the second operator,\n",
    "\n",
    "and the third argument is the auxiliary function, with respect to the chosen variable."
   ]
  },
  {
   "cell_type": "code",
   "execution_count": 2,
   "metadata": {},
   "outputs": [
    {
     "data": {
      "image/png": "[encoded data removed]",
      "text/latex": [
       "$$- i h_{b} F{\\left (x \\right )}$$"
      ],
      "text/plain": [
       "-ⅈ⋅h_b⋅F(x)"
      ]
     },
     "execution_count": 2,
     "metadata": {},
     "output_type": "execute_result"
    }
   ],
   "source": [
    "EXPRESSION_REPLACE(COMM(P_OPERATOR(x), x, F(x)), x)"
   ]
  },
  {
   "cell_type": "markdown",
   "metadata": {},
   "source": [
    "Note that the answer is retrieved automatically by this notation."
   ]
  },
  {
   "cell_type": "markdown",
   "metadata": {},
   "source": [
    "# Example 2:\n",
    "\n",
    "[L_z, x]"
   ]
  },
  {
   "cell_type": "markdown",
   "metadata": {},
   "source": [
    "This example also utilizes the COMM() function, except with four arguments:\n",
    "\n",
    "the first argument is the FIRST TERM of the L_z operator (this is : \"x*p_y\"),\n",
    "\n",
    "the second argument is the SECOND TERM of the L_z operator (this is : \"y*p_x\"),\n",
    "\n",
    "the third argument is the second operator, in this case \"x\",\n",
    "\n",
    "and the fourth argument is zero, \"0\"."
   ]
  },
  {
   "cell_type": "code",
   "execution_count": 4,
   "metadata": {},
   "outputs": [],
   "source": [
    "p_x, p_y, p_z, x, y, z = symbols(\"p_x p_y p_z x y z\")"
   ]
  },
  {
   "cell_type": "code",
   "execution_count": 5,
   "metadata": {},
   "outputs": [
    {
     "data": {
      "image/png": "[encoded data removed]",
      "text/latex": [
       "$$- \\left[x,p_{x} y\\right] - \\left[x,p_{y} x\\right]$$"
      ],
      "text/plain": [
       "-[x,pₓ⋅y] - [x,p_y⋅x]"
      ]
     },
     "execution_count": 5,
     "metadata": {},
     "output_type": "execute_result"
    }
   ],
   "source": [
    "COMM(x*p_y, y*p_x, x, 0)"
   ]
  },
  {
   "cell_type": "markdown",
   "metadata": {},
   "source": [
    "Because this commutator was split into two commutators, the FACTOR_COMM() function must be used, which has four arguments:\n",
    "\n",
    "Looking at the first commutator:\n",
    "\n",
    "the first argument is the first term of the first operator, in this case \"x\"\n",
    "\n",
    "the second argument is the second term of the first operator, which would be \"1\" in this case. Note that the first operator is simply \"x\", not multiplied by another operator.\n",
    "\n",
    "the third argument is the first term of the second operator, in this case \"p_x\"\n",
    "\n",
    "and finally the fourth argument is the second term in the second operator, in this case \"y\"\n",
    "\n",
    "This method is repeated for the second operator as well."
   ]
  },
  {
   "cell_type": "code",
   "execution_count": 6,
   "metadata": {},
   "outputs": [
    {
     "data": {
      "image/png": "[encoded data removed]",
      "text/latex": [
       "$$- 1 y \\left[p_{x},x\\right]$$"
      ],
      "text/plain": [
       "-1⋅y⋅[pₓ,x]"
      ]
     },
     "execution_count": 6,
     "metadata": {},
     "output_type": "execute_result"
    }
   ],
   "source": [
    "FACTOR_COMM(x, 1, p_x, y) + FACTOR_COMM(x, 1, p_y, x)"
   ]
  },
  {
   "cell_type": "markdown",
   "metadata": {},
   "source": [
    "Note that in the above line, the two commutators were computed in the same line, and were added. This is equivalent to the negative commutator that was computed in the COMM() function previously."
   ]
  },
  {
   "cell_type": "markdown",
   "metadata": {},
   "source": [
    "The commutator is then computed the same way as in Example 1:"
   ]
  },
  {
   "cell_type": "code",
   "execution_count": 7,
   "metadata": {},
   "outputs": [
    {
     "data": {
      "image/png": "[encoded data removed]",
      "text/latex": [
       "$$i h_{b} y F{\\left (x \\right )}$$"
      ],
      "text/plain": [
       "ⅈ⋅h_b⋅y⋅F(x)"
      ]
     },
     "execution_count": 7,
     "metadata": {},
     "output_type": "execute_result"
    }
   ],
   "source": [
    "(-y)*EXPRESSION_REPLACE(COMM(P_OPERATOR(x), x, F(x)), x)"
   ]
  },
  {
   "cell_type": "markdown",
   "metadata": {},
   "source": [
    "Note: Don't forget to multiply by the outside term, in this case \"-y\""
   ]
  },
  {
   "cell_type": "markdown",
   "metadata": {},
   "source": [
    "# Example 3:\n",
    "\n",
    "[L_x, L_y]"
   ]
  },
  {
   "cell_type": "markdown",
   "metadata": {},
   "source": [
    "Once again, this question is started by using the COMM() function, with four arguments:\n",
    "\n",
    "the first argument is the first term of the first operator, in this case, \"y*p_z\",\n",
    "\n",
    "the second argument is the second term of the first operator, in this case \"z*p_y\",\n",
    "\n",
    "the third argument is the first term of the second operator, in this case \"x*p_z\", \n",
    "\n",
    "and finally the fourth argument is the second term of the second operator, in this case \"z*p_x\".\n"
   ]
  },
  {
   "cell_type": "code",
   "execution_count": 8,
   "metadata": {},
   "outputs": [
    {
     "data": {
      "image/png": "[encoded data removed]",
      "text/latex": [
       "$$- \\left[p_{x} z,p_{y} z\\right] - \\left[p_{x} z,p_{z} y\\right] + \\left[p_{y} z,p_{z} x\\right] + \\left[p_{z} x,p_{z} y\\right]$$"
      ],
      "text/plain": [
       "-[pₓ⋅z,p_y⋅z] - [pₓ⋅z,p_z⋅y] + [p_y⋅z,p_z⋅x] + [p_z⋅x,p_z⋅y]"
      ]
     },
     "execution_count": 8,
     "metadata": {},
     "output_type": "execute_result"
    }
   ],
   "source": [
    "COMM(y*p_z, z*p_y, z*p_x, x*p_z)"
   ]
  },
  {
   "cell_type": "markdown",
   "metadata": {},
   "source": [
    "Again, the FACTOR_COMM() function can be applied, with four arguments:\n",
    "\n",
    "the first argument for this example would be \"p_x\",\n",
    "\n",
    "the second argument is \"z\",\n",
    "\n",
    "the third argument is \"p_y\"\n",
    "\n",
    "the fourth argument is \"z\"\n",
    "\n",
    "This would be repeated for all four commutators."
   ]
  },
  {
   "cell_type": "code",
   "execution_count": 9,
   "metadata": {},
   "outputs": [
    {
     "data": {
      "image/png": "[encoded data removed]",
      "text/latex": [
       "$$p_{x} y \\left[p_{z},z\\right] - p_{y} x \\left[p_{z},z\\right]$$"
      ],
      "text/plain": [
       "pₓ⋅y⋅[p_z,z] - p_y⋅x⋅[p_z,z]"
      ]
     },
     "execution_count": 9,
     "metadata": {},
     "output_type": "execute_result"
    }
   ],
   "source": [
    "- FACTOR_COMM(p_x, z, p_y, z) - FACTOR_COMM(p_x, z, p_z, y) + FACTOR_COMM(p_y, z, p_z, x) + FACTOR_COMM(p_z, x, p_z, y)"
   ]
  },
  {
   "cell_type": "markdown",
   "metadata": {},
   "source": [
    "The factor() function can be called in the same step, or in a new cell.\n",
    "\n",
    "If you're doing it in a new cell, you can either copy and paste, or set the above expression equal to a variable, such as \"A\", and take the factor(A), as shown below:"
   ]
  },
  {
   "cell_type": "code",
   "execution_count": 10,
   "metadata": {},
   "outputs": [
    {
     "data": {
      "image/png": "[encoded data removed]",
      "text/latex": [
       "$$p_{x} y \\left[p_{z},z\\right] - p_{y} x \\left[p_{z},z\\right]$$"
      ],
      "text/plain": [
       "pₓ⋅y⋅[p_z,z] - p_y⋅x⋅[p_z,z]"
      ]
     },
     "execution_count": 10,
     "metadata": {},
     "output_type": "execute_result"
    }
   ],
   "source": [
    "A = - FACTOR_COMM(p_x, z, p_y, z) - FACTOR_COMM(p_x, z, p_z, y) + FACTOR_COMM(p_y, z, p_z, x) + FACTOR_COMM(p_z, x, p_z, y)\n",
    "\n",
    "A"
   ]
  },
  {
   "cell_type": "code",
   "execution_count": 11,
   "metadata": {},
   "outputs": [
    {
     "data": {
      "image/png": "[encoded data removed]",
      "text/latex": [
       "$$\\left(p_{x} y - p_{y} x\\right) \\left[p_{z},z\\right]$$"
      ],
      "text/plain": [
       "(pₓ⋅y - p_y⋅x)⋅[p_z,z]"
      ]
     },
     "execution_count": 11,
     "metadata": {},
     "output_type": "execute_result"
    }
   ],
   "source": [
    "factor(A)"
   ]
  },
  {
   "cell_type": "markdown",
   "metadata": {},
   "source": [
    "Again, this can also all happen in one cell:"
   ]
  },
  {
   "cell_type": "code",
   "execution_count": 12,
   "metadata": {},
   "outputs": [
    {
     "data": {
      "image/png": "[encoded data removed]",
      "text/latex": [
       "$$\\left(p_{x} y - p_{y} x\\right) \\left[p_{z},z\\right]$$"
      ],
      "text/plain": [
       "(pₓ⋅y - p_y⋅x)⋅[p_z,z]"
      ]
     },
     "execution_count": 12,
     "metadata": {},
     "output_type": "execute_result"
    }
   ],
   "source": [
    "factor(- FACTOR_COMM(p_x, z, p_y, z) - FACTOR_COMM(p_x, z, p_z, y) + FACTOR_COMM(p_y, z, p_z, x) + FACTOR_COMM(p_z, x, p_z, y))"
   ]
  },
  {
   "cell_type": "markdown",
   "metadata": {},
   "source": [
    "The commutator can then be solved like the first example, and the factored component can be replaced with the proper angular momentum operator.\n",
    "\n",
    "At this point, this is a manual replacement."
   ]
  },
  {
   "cell_type": "code",
   "execution_count": 14,
   "metadata": {},
   "outputs": [
    {
     "data": {
      "image/png": "[encoded data removed]",
      "text/latex": [
       "$$- i h_{b} F{\\left (z \\right )} L_{z}$$"
      ],
      "text/plain": [
       "-ⅈ⋅h_b⋅F(z)⋅L_z"
      ]
     },
     "execution_count": 14,
     "metadata": {},
     "output_type": "execute_result"
    }
   ],
   "source": [
    "L_z, L_y, L_x = symbols(\"L_z L_y L_x\")\n",
    "\n",
    "Operator(L_z)*(EXPRESSION_REPLACE(COMM(P_OPERATOR(z), z, F(z)), z))"
   ]
  },
  {
   "cell_type": "markdown",
   "metadata": {},
   "source": [
    "Note that in this step, they are all defined as operators, using \"OP()\" function, and for the p_z operator, using the \"P_OP()\" function."
   ]
  },
  {
   "cell_type": "code",
   "execution_count": null,
   "metadata": {},
   "outputs": [],
   "source": []
  }
 ],
 "metadata": {
  "kernelspec": {
   "display_name": "Python 3",
   "language": "python",
   "name": "python3"
  },
  "language_info": {
   "codemirror_mode": {
    "name": "ipython",
    "version": 3
   },
   "file_extension": ".py",
   "mimetype": "text/x-python",
   "name": "python",
   "nbconvert_exporter": "python",
   "pygments_lexer": "ipython3",
   "version": "3.7.1"
  }
 },
 "nbformat": 4,
 "nbformat_minor": 2
}
