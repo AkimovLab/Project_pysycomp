{
 "cells": [
  {
   "cell_type": "code",
   "execution_count": 1,
   "metadata": {},
   "outputs": [],
   "source": [
    "from Pysces import *"
   ]
  },
  {
   "cell_type": "markdown",
   "metadata": {},
   "source": [
    "# Try this example: "
   ]
  },
  {
   "cell_type": "markdown",
   "metadata": {},
   "source": [
    "Note: This is the x operator and the momentum operator in respect to x"
   ]
  },
  {
   "attachments": {
    "image.png": {
     "image/png": "[encoded data removed]"
    }
   },
   "cell_type": "markdown",
   "metadata": {},
   "source": [
    "![image.png](attachment:image.png)"
   ]
  },
  {
   "cell_type": "markdown",
   "metadata": {},
   "source": [
    "Step one: Plug in the values into the COMM() function:\n",
    "\n",
    "It is important to note that this function utilizes an auxillary function, f(x)"
   ]
  },
  {
   "cell_type": "code",
   "execution_count": 2,
   "metadata": {},
   "outputs": [
    {
     "name": "stdout",
     "output_type": "stream",
     "text": [
      "-x*-I*h_b*Derivative(1, x)*f(x) - I*h_b*Derivative(1, x)*x*f(x)\n"
     ]
    },
    {
     "data": {
      "image/png": "[encoded data removed]",
      "text/latex": [
       "$$- x - I h_{b} \\frac{d}{d x} 1 f{\\left (x \\right )} + - I h_{b} \\frac{d}{d x} 1 x f{\\left (x \\right )}$$"
      ],
      "text/plain": [
       "    ⎛       d    ⎞               d           \n",
       "- x⋅⎜-I⋅h_b⋅──(1)⎟⋅f(x) + -I⋅h_b⋅──(1)⋅x⋅f(x)\n",
       "    ⎝       dx   ⎠               dx          "
      ]
     },
     "metadata": {},
     "output_type": "display_data"
    }
   ],
   "source": [
    "print(COMM(p_OP(x), OP(x), f(x))) \n",
    "display(COMM(p_OP(x), OP(x), f(x)))                    "
   ]
  },
  {
   "cell_type": "markdown",
   "metadata": {},
   "source": [
    "Copy and paste the first line into the next cell - the one with the print()\n",
    "\n",
    "The second line is shown so it is easier to visualize, but is not necessary."
   ]
  },
  {
   "cell_type": "raw",
   "metadata": {},
   "source": [
    "-f*x*-I*h_b*Derivative(1, x) + f*-I*h_b*Derivative(1, x)*x"
   ]
  },
  {
   "cell_type": "markdown",
   "metadata": {},
   "source": [
    "There are two derivatives in this example, and both need to be replaced. "
   ]
  },
  {
   "cell_type": "markdown",
   "metadata": {},
   "source": [
    "So, the derivative in the first term, Derivative(1, x)*f will be replaced with:\n",
    "\n",
    "Derivative(f(x), x)\n",
    "\n",
    "Which does not compute the derivative, it is a symbollic representation of the derivative of the auxillary function.\n",
    "\n",
    "\n",
    "\n",
    "The derivative in the second term involves the product rule. Derivative(1, x)*x*f, will be replaced with:\n",
    "\n",
    "Prod_Rule_Sp(x, f(x))\n",
    "\n",
    "Since f(x) is an auxillary function, it cannot be differentiated normally. This lead to the development of Prod_Rule_Sp()\n",
    "\n",
    "This allows the derivative of f(x) to be taken symbollicaly when the product rule is applied, while still being able to differentiate the other term."
   ]
  },
  {
   "cell_type": "code",
   "execution_count": 3,
   "metadata": {},
   "outputs": [
    {
     "name": "stdout",
     "output_type": "stream",
     "text": [
      "I*h_b*x*Derivative(f(x), x) - I*h_b*(x*Derivative(f(x), x) + f(x))\n"
     ]
    },
    {
     "data": {
      "image/png": "[encoded data removed]",
      "text/latex": [
       "$$I h_{b} x \\frac{d}{d x} f{\\left (x \\right )} - I h_{b} \\left(x \\frac{d}{d x} f{\\left (x \\right )} + f{\\left (x \\right )}\\right)$$"
      ],
      "text/plain": [
       "        d                ⎛  d              ⎞\n",
       "I⋅h_b⋅x⋅──(f(x)) - I⋅h_b⋅⎜x⋅──(f(x)) + f(x)⎟\n",
       "        dx               ⎝  dx             ⎠"
      ]
     },
     "metadata": {},
     "output_type": "display_data"
    }
   ],
   "source": [
    "print((-x*-I*h_b*Derivative(f(x), x) - I*h_b*Prod_Rule_Sp(x, f(x), x)))\n",
    "display(-x*-I*h_b*Derivative(f(x), x) - I*h_b*Prod_Rule_Sp(x, f(x), x))"
   ]
  },
  {
   "cell_type": "markdown",
   "metadata": {},
   "source": [
    "Again, you can copy the first line, then use the function expand()\n",
    "\n",
    "This function will simplify the expression.\n",
    "\n",
    "Again, the display() line is not necessary, but is helpful for visualization."
   ]
  },
  {
   "cell_type": "code",
   "execution_count": 4,
   "metadata": {},
   "outputs": [
    {
     "data": {
      "image/png": "[encoded data removed]",
      "text/latex": [
       "$$- I h_{b} f{\\left (x \\right )}$$"
      ],
      "text/plain": [
       "-I⋅h_b⋅f(x)"
      ]
     },
     "execution_count": 4,
     "metadata": {},
     "output_type": "execute_result"
    }
   ],
   "source": [
    "expand(I*h_b*x*Derivative(f(x), x) - I*h_b*(x*Derivative(f(x), x) + f(x)))"
   ]
  },
  {
   "cell_type": "markdown",
   "metadata": {},
   "source": [
    "# General Notation & Explanations"
   ]
  },
  {
   "cell_type": "markdown",
   "metadata": {},
   "source": [
    "Once the operators are chosen/defined, plug them into the COMM(A, B, f) function. This is used along with the auxillary function, f(x)"
   ]
  },
  {
   "cell_type": "markdown",
   "metadata": {},
   "source": [
    "If there are derivatives, such as:\n",
    "\n",
    "Derivative(\"1\", x, x)\n",
    "\n",
    "In the expanded commutator, it is important to change the function that is being derived manually.\n",
    "For example, if there is the derivative, as shown above, then replace the \"1\" placeholder with the function to the right.\n",
    "NOTE THAT THIS IS ONLY IF \"f\" IS DIRECTLY TO THE RIGHT OF THE DERIVATIVE, AND IS THE ONLY VARIABLE TO THE RIGHT\n",
    "\n",
    "If there are two or more variables, the product rule needs to happen.\n",
    "\n",
    "diff((x**2)*y, x, y)\n",
    "\n",
    "This means replacing \"Derivative(\"1\", x, x)\" with \"diff((A, B, a, b))\"\n",
    "A and B are the expressions, and a, and b are what they are being derived in respect to.\n",
    "If there is only one derivation, just \"a\" is needed, no \"b\"\n",
    "\n",
    "diff((x**2)*y, x)\n",
    "\n",
    "If there are two variables, and one of which is the function, the function:\n",
    "\n",
    "Prod_Rule_Sp(A, f(x))\n",
    "\n",
    "Is used. It is important to note that the auxillary function \"f\" always needs to be second in the list, or else it will not compute.\n",
    "\n",
    "Again, these terms would be inserted into the original expanded commutator.\n",
    "Once everything is inserted, I would again print twice, once with print() and once with disply()"
   ]
  },
  {
   "cell_type": "markdown",
   "metadata": {},
   "source": [
    "# Constants for Reference"
   ]
  },
  {
   "cell_type": "raw",
   "metadata": {},
   "source": [
    "h = 6.62607004E-34 #(m^2*kg)/s\n",
    "c = 3*10**8            #m/s\n",
    "J = 1.602*10**-19      #conversion factor for eV to Joules, also electron in C\n",
    "R = 8.3145         #J/mol·K\n",
    "E_o = 8.8542*10**-12   #𝐶^2/(J*m)\n",
    "h_b = 1.055*10**-34    #𝐽*𝑠\n",
    "m_e = 9.109*10**-31      #kg    mass of electron"
   ]
  }
 ],
 "metadata": {
  "kernelspec": {
   "display_name": "Python 3",
   "language": "python",
   "name": "python3"
  },
  "language_info": {
   "codemirror_mode": {
    "name": "ipython",
    "version": 3
   },
   "file_extension": ".py",
   "mimetype": "text/x-python",
   "name": "python",
   "nbconvert_exporter": "python",
   "pygments_lexer": "ipython3",
   "version": "3.7.5"
  }
 },
 "nbformat": 4,
 "nbformat_minor": 2
}
