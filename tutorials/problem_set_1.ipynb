{
 "cells": [
  {
   "cell_type": "code",
   "execution_count": 1,
   "metadata": {
    "scrolled": true
   },
   "outputs": [],
   "source": [
    "from pysces import *"
   ]
  },
  {
   "cell_type": "markdown",
   "metadata": {},
   "source": [
    "If you don't know how to use certain functions, check out either the \"tutorial\" folder, or look at the documentation using the \"help()\" function.\n",
    "\n",
    "Example:\n",
    "\n",
    "    help(normalization_constant)"
   ]
  },
  {
   "cell_type": "markdown",
   "metadata": {},
   "source": [
    "# Normalizing Wave Functions"
   ]
  },
  {
   "cell_type": "markdown",
   "metadata": {},
   "source": [
    "1. wave function = x \n",
    "\n",
    "    on the bounds [0, 1]\n",
    "\n",
    "hint: try using the normalization_constant() function."
   ]
  },
  {
   "cell_type": "code",
   "execution_count": 3,
   "metadata": {},
   "outputs": [
    {
     "name": "stdout",
     "output_type": "stream",
     "text": [
      "Help on function normalization_constant in module pysces:\n",
      "\n",
      "normalization_constant(wavefunc, lower, upper, var1, var2=None)\n",
      "    Args:\n",
      "        wavefunc: The WaveFunction/expression of interest\n",
      "        lower: The lower bound of the integral. If bounds are not listed, this is -oo\n",
      "        upper: The upper bound of the integral. If bounds are not listed, this is oo\n",
      "        var1: What the integral is taken with respect to\n",
      "        var2: What the second integral is taken with respect to \n",
      "    \n",
      "    Returns:\n",
      "        The normalization constant, with respect to the given parameters. To find the normalized WaveFunction, the output for \n",
      "        normalization_constant() must be multiplied by the original WaveFunction. A normalized WaveFunction indicates that the probability \n",
      "        of finding a particle within certain bounds must be equal to one.\n",
      "    \n",
      "    Note:\n",
      "        The double integration only works if they are integrated over the same bounds.\n",
      "\n"
     ]
    },
    {
     "data": {
      "image/png": "[encoded data removed]",
      "text/latex": [
       "$$\\sqrt{3}$$"
      ],
      "text/plain": [
       "√3"
      ]
     },
     "execution_count": 3,
     "metadata": {},
     "output_type": "execute_result"
    }
   ],
   "source": [
    "help(normalization_constant)\n",
    "\n",
    "normalization_constant(x, 0, 1, x)"
   ]
  },
  {
   "cell_type": "markdown",
   "metadata": {},
   "source": [
    "2. wave function = planewave\n",
    "\n",
    "    on the bounds [a, b]\n",
    "    \n",
    "hint: try using the planewave() function."
   ]
  },
  {
   "cell_type": "code",
   "execution_count": 5,
   "metadata": {},
   "outputs": [
    {
     "name": "stdout",
     "output_type": "stream",
     "text": [
      "Help on function planewave in module pysces:\n",
      "\n",
      "planewave(x)\n",
      "    Args:\n",
      "        x: What the function is with respect to.\n",
      "    \n",
      "    Returns:\n",
      "        The PlaneWave function with respect to the parameter.\n",
      "\n"
     ]
    },
    {
     "data": {
      "image/png": "[encoded data removed]",
      "text/latex": [
       "$$\\frac{1}{\\sqrt{- a + b}}$$"
      ],
      "text/plain": [
       "    1     \n",
       "──────────\n",
       "  ________\n",
       "╲╱ -a + b "
      ]
     },
     "execution_count": 5,
     "metadata": {},
     "output_type": "execute_result"
    }
   ],
   "source": [
    "help(planewave)\n",
    "\n",
    "normalization_constant(planewave(x), a, b, x)"
   ]
  },
  {
   "cell_type": "markdown",
   "metadata": {},
   "source": [
    "3. wave function = fixed gaussian\n",
    "\n",
    "    on the bounds [-oo, oo]\n",
    "    \n",
    "hint: try using the fixed_gaussian() function, and the simplify() function"
   ]
  },
  {
   "cell_type": "code",
   "execution_count": 4,
   "metadata": {},
   "outputs": [],
   "source": [
    "alpha, x_0, p_0 = symbols(\"alpha, x_0, p_0\")"
   ]
  },
  {
   "cell_type": "code",
   "execution_count": null,
   "metadata": {},
   "outputs": [],
   "source": []
  },
  {
   "cell_type": "markdown",
   "metadata": {},
   "source": [
    "# Operators and Commutators"
   ]
  },
  {
   "cell_type": "markdown",
   "metadata": {},
   "source": [
    "1. Starting simply, let's have:\n",
    "\n",
    "    A = Derivative(1, x)\n",
    "    \n",
    "    B = x\n",
    "    \n",
    "*please note that the \"1\" is a placeholder in the derivative.*\n",
    "\n",
    "Hint: try using the \"comm()\" function."
   ]
  },
  {
   "cell_type": "code",
   "execution_count": 5,
   "metadata": {},
   "outputs": [],
   "source": [
    "x = Symbol(\"x\")"
   ]
  },
  {
   "cell_type": "code",
   "execution_count": 6,
   "metadata": {},
   "outputs": [],
   "source": [
    "A = Derivative(1, x)\n",
    "B = x"
   ]
  },
  {
   "cell_type": "code",
   "execution_count": null,
   "metadata": {},
   "outputs": [],
   "source": []
  },
  {
   "cell_type": "markdown",
   "metadata": {},
   "source": [
    "2. Let's look at the commutator:\n",
    "\n",
    "    [z, p_z]\n",
    "    \n",
    "hint: try using the comm() function and the lin_mom() function\n",
    "\n",
    "    note: p with a subscript (p_z) is the \"p\" operator, or linear momentum operator"
   ]
  },
  {
   "cell_type": "code",
   "execution_count": null,
   "metadata": {},
   "outputs": [],
   "source": []
  },
  {
   "cell_type": "markdown",
   "metadata": {},
   "source": [
    "3. Let's try another one:\n",
    "\n",
    "    [L_x, z]\n",
    "\n",
    "hint: you might need to solve more than one commutator.\n",
    "\n",
    "    note: the \"L_x\" notation is the angular momentum operator"
   ]
  },
  {
   "cell_type": "code",
   "execution_count": 7,
   "metadata": {},
   "outputs": [],
   "source": [
    "L_x = Symbol(\"L_x\")"
   ]
  },
  {
   "cell_type": "code",
   "execution_count": null,
   "metadata": {},
   "outputs": [],
   "source": []
  },
  {
   "cell_type": "code",
   "execution_count": null,
   "metadata": {},
   "outputs": [],
   "source": []
  },
  {
   "cell_type": "markdown",
   "metadata": {},
   "source": [
    "# Expectation Values"
   ]
  },
  {
   "cell_type": "markdown",
   "metadata": {},
   "source": [
    "1. Starting off simple:\n",
    "\n",
    "    normalized wave function = x^2\n",
    "    \n",
    "    operator = x\n",
    "    \n",
    "    over the region [0, 1]\n",
    "    \n",
    "hint: try using the expectation_value() function"
   ]
  },
  {
   "cell_type": "code",
   "execution_count": null,
   "metadata": {},
   "outputs": [],
   "source": []
  },
  {
   "cell_type": "markdown",
   "metadata": {},
   "source": [
    "# Orbital Overlap"
   ]
  },
  {
   "cell_type": "markdown",
   "metadata": {},
   "source": [
    "1. We can try looking at the overlap of an orbital with its conjugate to find the probability of finding a particle in a box in a certain location in the box.\n",
    "\n",
    "    Let's try the following:\n",
    "    \n",
    "    Probability of finding a particle in a box for the interval [0, L/2]\n",
    "\n",
    "hint: try using the overlap() function with the PIB_normalized() function."
   ]
  },
  {
   "cell_type": "code",
   "execution_count": null,
   "metadata": {},
   "outputs": [],
   "source": []
  }
 ],
 "metadata": {
  "kernelspec": {
   "display_name": "Python 3",
   "language": "python",
   "name": "python3"
  },
  "language_info": {
   "codemirror_mode": {
    "name": "ipython",
    "version": 3
   },
   "file_extension": ".py",
   "mimetype": "text/x-python",
   "name": "python",
   "nbconvert_exporter": "python",
   "pygments_lexer": "ipython3",
   "version": "3.7.1"
  }
 },
 "nbformat": 4,
 "nbformat_minor": 2
}
