{
 "cells": [
  {
   "cell_type": "code",
   "execution_count": 22,
   "id": "24a0c295",
   "metadata": {
    "scrolled": true
   },
   "outputs": [],
   "source": [
    "from QHD import *\n",
    "\n",
    "import matplotlib.pyplot as plt\n",
    "import numpy as np"
   ]
  },
  {
   "cell_type": "markdown",
   "id": "e23b1dff",
   "metadata": {},
   "source": [
    "# The Gaussian Potential"
   ]
  },
  {
   "cell_type": "markdown",
   "id": "88842918",
   "metadata": {},
   "source": [
    "We first must define the potential along with its parameters, as described below, given by Rossman et. al"
   ]
  },
  {
   "cell_type": "markdown",
   "id": "1d350a9c",
   "metadata": {},
   "source": [
    "### 1. The Potential"
   ]
  },
  {
   "cell_type": "markdown",
   "id": "ca1e3cdc",
   "metadata": {},
   "source": [
    "**Parameters**\n",
    "\n",
    "$v_0 = 1$ Hartree\n",
    "\n",
    "$\\sigma = 0.1$ Angstrom\n",
    "\n",
    "**Potential**\n",
    "\n",
    "$V(q)=-v_0*e^{(\\frac{-q^2}{2*\\sigma^2})}$"
   ]
  },
  {
   "cell_type": "markdown",
   "id": "cd51a57c",
   "metadata": {},
   "source": [
    "We can define this potential as `potential`, and define the given parameters as `D`, `alpha`, and `q_0` as described below. We will also need to define the dependent variable, in this case `q` as a range using the `linspace` function found in `numpy`. The parameters are all in *atomic units*."
   ]
  },
  {
   "cell_type": "code",
   "execution_count": 23,
   "id": "2fe24e97",
   "metadata": {
    "scrolled": true
   },
   "outputs": [],
   "source": [
    "v_0 = 5 # Hartree\n",
    "sigma = 0.75 # Angstrom\n",
    "sigma1 = 1.5\n",
    "\n",
    "q = np.linspace(-5, 5, 1000)\n",
    "\n",
    "alpha1 = 1/(2*sigma1**2)\n",
    "alpha = 1/(2*sigma**2)\n",
    "\n",
    "potential = -v_0*np.exp(-q**2*alpha)\n",
    "potential1 = -v_0*np.exp(-alpha1*q**2)"
   ]
  },
  {
   "cell_type": "markdown",
   "id": "0814a72d",
   "metadata": {},
   "source": [
    "Now that the parameters and potential have been defined, the potential can be plotted using the `matplotlib.pyplot` library. Any of the lines can be changed as desired."
   ]
  },
  {
   "cell_type": "code",
   "execution_count": 24,
   "id": "c6bdc0db",
   "metadata": {
    "scrolled": true
   },
   "outputs": [
    {
     "data": {
      "image/png": "[encoded data removed]",
      "text/plain": [
       "<Figure size 432x288 with 1 Axes>"
      ]
     },
     "metadata": {
      "needs_background": "light"
     },
     "output_type": "display_data"
    }
   ],
   "source": [
    "q = np.linspace(-1, 1, 1000)\n",
    "plt.plot(q, potential, 'k')\n",
    "plt.plot(q, potential1, \"m\")\n",
    "plt.title(\"Gaussian Potential\")\n",
    "plt.legend([r\"$\\sigma$ = 0.75\", r\"$\\sigma$ = 1.5\"])\n",
    "plt.xlim(-1, 1)\n",
    "plt.xlabel(\"Position, q\")\n",
    "plt.ylabel(\"Potential, V(q)\")\n",
    "plt.savefig(\"gaussian_vVq.png\")\n",
    "plt.show()"
   ]
  },
  {
   "cell_type": "markdown",
   "id": "19377087",
   "metadata": {},
   "source": [
    "### 2. Derivation of  QHD formulas"
   ]
  },
  {
   "cell_type": "markdown",
   "id": "8b6b9a80",
   "metadata": {},
   "source": [
    "Here, we use the pysces library, able to derive the equations of motion in the QHD method. We will need to define the `q`, `p`, `p2`, `x`, `x2`, and `xp` variables. In order to do this, we must first calculate the first and second derivatives of the potential of interest, defined in section 1. We will also use a change of variables as well, described below."
   ]
  },
  {
   "cell_type": "markdown",
   "id": "fea8f2b4",
   "metadata": {},
   "source": [
    "**2.1 The First and Second Derivatives of the Potential**"
   ]
  },
  {
   "cell_type": "markdown",
   "id": "c30ec4a7",
   "metadata": {},
   "source": [
    "To take the derivatives, we must represent the potential symbolically. This can be done by:"
   ]
  },
  {
   "cell_type": "code",
   "execution_count": 25,
   "id": "91660bfc",
   "metadata": {
    "scrolled": true
   },
   "outputs": [],
   "source": [
    "# First, we must define all the parameters as stated in section 1 as symbols:\n",
    "\n",
    "v_0, sigma, q, alpha = symbols(\"v_0, sigma q alpha\")\n",
    "\n",
    "# When computing symbolically, we do not need to use the numpy exponential function.\n",
    "\n",
    "potential_sym = -v_0*exp(-alpha*q**2)"
   ]
  },
  {
   "cell_type": "markdown",
   "id": "152bf992",
   "metadata": {},
   "source": [
    "\n",
    "Now that the potential is represented symbolically, we may take the first and second derivatives, described by diff1 and diff2, respectively"
   ]
  },
  {
   "cell_type": "code",
   "execution_count": 26,
   "id": "75188ad0",
   "metadata": {
    "scrolled": true
   },
   "outputs": [
    {
     "data": {
      "image/png": "[encoded data removed]",
      "text/latex": [
       "$\\displaystyle \\left( 2 \\alpha q v_{0} e^{- \\alpha q^{2}}, \\  - 4 \\alpha^{2} q^{2} v_{0} e^{- \\alpha q^{2}} + 2 \\alpha v_{0} e^{- \\alpha q^{2}}\\right)$"
      ],
      "text/plain": [
       "⎛              2                    2               2⎞\n",
       "⎜          -α⋅q        2  2     -α⋅q            -α⋅q ⎟\n",
       "⎝2⋅α⋅q⋅v₀⋅ℯ     , - 4⋅α ⋅q ⋅v₀⋅ℯ      + 2⋅α⋅v₀⋅ℯ     ⎠"
      ]
     },
     "execution_count": 26,
     "metadata": {},
     "output_type": "execute_result"
    }
   ],
   "source": [
    "diff1 = diff(potential_sym, q)\n",
    "diff2 = diff(diff1, q)\n",
    "\n",
    "diff1, diff2"
   ]
  },
  {
   "cell_type": "markdown",
   "id": "4e222ac8",
   "metadata": {},
   "source": [
    "**2.2 Change of Variable**"
   ]
  },
  {
   "cell_type": "markdown",
   "id": "e48d4113",
   "metadata": {},
   "source": [
    "We can do a change of variable in the potential to:\n",
    "\n",
    "$$x=e^{-\\alpha*q^2}$$\n",
    "\n",
    "And so:\n",
    "\n",
    "$$V(q)=A*x$$\n",
    "\n",
    "We will now take the first and second derivatives of the original potential, and then perform the change of variables."
   ]
  },
  {
   "cell_type": "markdown",
   "id": "719cf509",
   "metadata": {},
   "source": [
    "- The First Derivative:"
   ]
  },
  {
   "cell_type": "code",
   "execution_count": 27,
   "id": "31f01035",
   "metadata": {
    "scrolled": true
   },
   "outputs": [
    {
     "data": {
      "image/png": "[encoded data removed]",
      "text/latex": [
       "$\\displaystyle 2 \\alpha q v_{0} x$"
      ],
      "text/plain": [
       "2⋅α⋅q⋅v₀⋅x"
      ]
     },
     "execution_count": 27,
     "metadata": {},
     "output_type": "execute_result"
    }
   ],
   "source": [
    "x = Symbol(\"x\")\n",
    "\n",
    "diff11 = diff1.replace(exp(-alpha*q**2), x)\n",
    "\n",
    "diff11"
   ]
  },
  {
   "cell_type": "markdown",
   "id": "39796be7",
   "metadata": {},
   "source": [
    "- The Second Derivative:"
   ]
  },
  {
   "cell_type": "code",
   "execution_count": 28,
   "id": "d4e18d54",
   "metadata": {
    "scrolled": true
   },
   "outputs": [
    {
     "data": {
      "image/png": "[encoded data removed]",
      "text/latex": [
       "$\\displaystyle - 4 \\alpha^{2} q^{2} v_{0} x + 2 \\alpha v_{0} x$"
      ],
      "text/plain": [
       "     2  2                \n",
       "- 4⋅α ⋅q ⋅v₀⋅x + 2⋅α⋅v₀⋅x"
      ]
     },
     "execution_count": 28,
     "metadata": {},
     "output_type": "execute_result"
    }
   ],
   "source": [
    "diff22 = diff2.replace(exp(-alpha*q**2), x)\n",
    "\n",
    "diff22"
   ]
  },
  {
   "cell_type": "markdown",
   "id": "bd4fc062",
   "metadata": {},
   "source": [
    "**2.3 Solving for the Equations of Motion**"
   ]
  },
  {
   "cell_type": "markdown",
   "id": "65e379f7",
   "metadata": {},
   "source": [
    "We must solve the equations of motion for `q`, `p`, `x`, `x2`, and `xp` using the parameters defined in section 1."
   ]
  },
  {
   "cell_type": "code",
   "execution_count": 29,
   "id": "8ae5f953",
   "metadata": {
    "scrolled": true
   },
   "outputs": [],
   "source": [
    "# Again, we must first define all variables as symbols. #\n",
    "\n",
    "q, p, p2, x, x2, xp, dt, mass, D, alpha, sigma, q2 = symbols(\"q, p, p2, x, x2, xp, dt, mass, D, alpha, sigma q2\")\n",
    "q_0 = 0.0\n",
    "\n",
    "########## EOM Calculations ##########\n",
    "\n",
    "# If you want to see the output of any of the below, uncomment the desired print line. #\n",
    "\n",
    "px = xp\n",
    "q1 = str(time_deriv(q, 1)*dt + q)\n",
    "#print(\"q = \" + str(q1))\n",
    "\n",
    "q21 = str(time_deriv(q, 2)*dt + q2)\n",
    "#print(q21)\n",
    "\n",
    "x = exp(-alpha*q**2)\n",
    "x1 = sympify(str(time_deriv(x, 1)).replace(\"exp(-alpha*q**2)\", \"x\"))\n",
    "x1 = str((symmetrize(x1))*(0.5)*dt + Symbol(\"x\"))\n",
    "x1 = str(x1).replace(\"p*q*x\", \"q*xp\")\n",
    "#print(\"x = \" + str(x1))\n",
    "\n",
    "p1 = str(time_deriv(p, 1)).replace(\"v(q)\", str(potential_sym))\n",
    "p1 = expand(sympify(p1).doit())\n",
    "p1 = str(p1).replace(\"exp(-2.0*q**2)\", \"x2\").replace(\"alpha**2\", \"0\")\n",
    "p1 = sympify(p1)\n",
    "p1 = str(symmetrize(p1)*(0.5)*dt + p).replace(\"exp(-alpha*q**2)\", \"x\")\n",
    "#print(\"p = \" + str(p1))\n",
    "\n",
    "x = Symbol(\"x\")\n",
    "p21 = str(time_deriv(p, 2)).replace(\"v(q)\", str(potential_sym))\n",
    "p21 = expand(sympify(p21).doit())\n",
    "p21 = str(-p21).replace(\"exp(-alpha*q**2)\", \"x\").replace(\"exp(-2*alpha*q**2)\", \"x2\").replace(\"alpha**2\", \"0\")\n",
    "p21 = str(symmetrize(p21)*(0.5)*dt + p2).replace(\"exp(-alpha*q**2)\", \"x\").replace(\"exp(-2.0*q**2)\", \"x2\")\n",
    "p21 = str(p21).replace(\"p*q*v_0*x\", \"v_0*q*xp\")\n",
    "#print(\"p2 = \" + str(p21))\n",
    "\n",
    "### Please note these last two need to be in functions to work properly.\n",
    "alpha = Symbol(\"alpha\")\n",
    "\n",
    "def integrate_x2(q,p,pq,q2,p2,x,x2,xp,xq,dt,mass,alp,D):\n",
    "    x2 = x2 - (q*x*(xp - x*p))/mass*0.5*dt #4.0*(alp/mass)*x*(xp - x*p)*0.5*dt\n",
    "    x2 = exp(-2.0*alp*(dt*p/mass)**2)*x2\n",
    "    x2 = x2 - (q*x*(xp - x*p))/mass*0.5*dt  #4.0*(alp/mass)*x*(xp - x*p)*0.5*dt\n",
    "    return x2\n",
    "\n",
    "def integrate_xp(q,p,pq,q2,p2,x,x2,xp,xq,dt,mass,alp,D):\n",
    "    xp = xp + 0.5*dt*(((x*(p2-2*p*p)))/(-2*mass) - (-v_0*x2*2*alpha*q+v_0**2*4*alpha**2*q2*x2))#0.5*dt*(2.0*alp*D*(x*(3.0*x2 - 2*x*x) - x2)  - (alp*x/mass)*(p2 - 2.0*p*p) )\n",
    "    xp = exp(-2*alpha*(dt*p/mass)**2)*xp\n",
    "    xp = xp + 0.5*dt*(((x*(p2-2*p*p)))/(-2*mass) - (-v_0*x2*2*alpha*q+v_0**2*4*alpha**2*q2*x2))#0.5*dt*(2.0*alp*D*(x*(3.0*x2 - 2*x*x) - x2)  - (alp*x/mass)*(p2 - 2.0*p*p) )\n",
    "    return xp"
   ]
  },
  {
   "cell_type": "markdown",
   "id": "9cf46d70",
   "metadata": {},
   "source": [
    "Now, we are ready to make plots of the data based on the EOM's as computed above."
   ]
  },
  {
   "cell_type": "markdown",
   "id": "f0f4c430",
   "metadata": {},
   "source": [
    "# 3. Graphing"
   ]
  },
  {
   "cell_type": "markdown",
   "id": "0fb0527b",
   "metadata": {},
   "source": [
    "**3.1 Generating Time-Dependent Values**"
   ]
  },
  {
   "cell_type": "markdown",
   "id": "5d2f3329",
   "metadata": {},
   "source": [
    "We will first define all of the parameters necessary to perform the QHD calculations as followed:\n",
    "\n",
    "`hbar`: Plancks constant\n",
    "\n",
    "`convert`: A conversion factor for the mass\n",
    "\n",
    "`mass`: The mass of the particle in the potential. In this case, the mass of a hydrogen atom is used.\n",
    "\n",
    "`q0`: The starting position value\n",
    "\n",
    "`p0`: The starting momentum value\n",
    "\n",
    "`s0`:\n",
    "\n",
    "`ps0`:\n",
    "\n",
    "`sigma`: A constant in the guassian potential\n",
    "\n",
    "`alp` (`alpha`): A constant in the gaussian potential\n",
    "\n",
    "`D`: A constant in the gaussian potential\n",
    "\n",
    "`dt`: The time step used"
   ]
  },
  {
   "cell_type": "code",
   "execution_count": 30,
   "id": "8bb89580",
   "metadata": {
    "scrolled": true
   },
   "outputs": [],
   "source": [
    "##### Constants #####\n",
    "\n",
    "v_0 = 5 # Hartree\n",
    "sigma = 0.75 # Angstrom\n",
    "mass = 1836 # a.u.\n",
    "hbar = 0.6582  # eV * fs\n",
    "convert = (1.0/17.586)\n",
    "\n",
    "\n",
    "# Feel free to change any of the below parameters to observe what happens when you change them\n",
    "mass =  2980.0*convert\n",
    "q0 = 0.15\n",
    "p0 = 0.0\n",
    "s0 = 0.05\n",
    "ps0 = 0.0\n",
    "\n",
    "dt = 0.1\n",
    "alpha = 1/(2*sigma**2)\n",
    "alp = alpha"
   ]
  },
  {
   "cell_type": "markdown",
   "id": "f85a96a6",
   "metadata": {},
   "source": [
    "**Q1.** How does the `alpha` parameter change the potential, qualitatively?"
   ]
  },
  {
   "cell_type": "markdown",
   "id": "e90846cc",
   "metadata": {},
   "source": []
  },
  {
   "cell_type": "markdown",
   "id": "94976367",
   "metadata": {},
   "source": [
    "Below, the initial conditions are described. These initial conditions describe a gaussian wavepacket, and do not need to be changed."
   ]
  },
  {
   "cell_type": "code",
   "execution_count": 31,
   "id": "0c1c301f",
   "metadata": {
    "scrolled": true
   },
   "outputs": [],
   "source": [
    "##### Initial Conditions (Do Not Change) #####\n",
    "\n",
    "t = 0.0    \n",
    "Etot = 0.0\n",
    "Etot0 = 0.0\n",
    "Etot_cl = 0.0\n",
    "Etot_cl0 = 0.0\n",
    "q,p,pq,q2,p2,x,x2,xp,xq = 0.0, 0.0, 0.0, 0.0, 0.0, 0.0, 0.0, 0.0, 0.0\n",
    "q, p = q0, p0\n",
    "q_0 = 0.0\n",
    "q2 = q*q + s0*s0\n",
    "pq = ps0*s0 + q*p\n",
    "p2 = p*p + ps0*ps0 + (0.5*hbar/s0)**2\n",
    "x = exp(-alp*q0)*exp(0.5*alp*alp*s0*s0)\n",
    "x2 = exp(-2.0*alp*q0)*exp(2.0*alp*alp*s0*s0)\n",
    "xq = x*(q-alp*s0*s0)\n",
    "xp = x*(p - s0*ps0*alp)\n",
    "\n",
    "##### ----- #####\n",
    "\n",
    "xp = integrate_xp(q,p,pq,q2,p2,x,x2,xp,xq,0.5*dt,mass,alp,D)\n",
    "x2 = integrate_x2(q,p,pq,q2,p2,x,x2,xp,xq,0.5*dt,mass,alp,D)\n",
    "x = eval(x1)\n",
    "p2 = eval(p21)\n",
    "q2 = eval(q21)\n",
    "p = eval(p1)\n",
    "q = eval(q1)\n",
    "p = eval(p1)\n",
    "q2 = eval(q21)\n",
    "p2 = eval(p21)\n",
    "x = eval(x1)\n",
    "x2 = integrate_x2(q,p,pq,q2,p2,x,x2,xp,xq,0.5*dt,mass,alp,D)\n",
    "xp = integrate_xp(q,p,pq,q2,p2,x,x2,xp,xq,0.5*dt,mass,alp,D)"
   ]
  },
  {
   "cell_type": "markdown",
   "id": "10f48ae2",
   "metadata": {},
   "source": [
    "Below, empty lists are created to store the data generated. Feel free to create your own lists to examine how different variables change over time."
   ]
  },
  {
   "cell_type": "code",
   "execution_count": 32,
   "id": "2142a7fa",
   "metadata": {
    "scrolled": true
   },
   "outputs": [],
   "source": [
    "##### Empty Lists for Data Storage: #####\n",
    "\n",
    "q_list = [] \n",
    "p_list = []"
   ]
  },
  {
   "cell_type": "markdown",
   "id": "324fcc77",
   "metadata": {},
   "source": [
    "**Q2.** Create an empty list for `p2` and `q2` values and observe how this variable changes over time."
   ]
  },
  {
   "cell_type": "code",
   "execution_count": null,
   "id": "3798d891",
   "metadata": {
    "scrolled": true
   },
   "outputs": [],
   "source": []
  },
  {
   "cell_type": "markdown",
   "id": "9d2bcea2",
   "metadata": {},
   "source": [
    "Now that the parameters have been defined, we can compute the desired values of position and energy over a given time interval."
   ]
  },
  {
   "cell_type": "markdown",
   "id": "7f8bf07c",
   "metadata": {},
   "source": [
    "**Q3.** Try changing the time step (`dt`) or the finish time (`t_f`)."
   ]
  },
  {
   "cell_type": "code",
   "execution_count": 33,
   "id": "00edfe36",
   "metadata": {
    "scrolled": true
   },
   "outputs": [
    {
     "name": "stdout",
     "output_type": "stream",
     "text": [
      "Total runtime is 27.545118808746338\n"
     ]
    }
   ],
   "source": [
    "#### --- Do Not Change Anything In This Cell --- #####\n",
    "\n",
    "### Time how long it takes to compute ###\n",
    "\n",
    "import time \n",
    "begin = time.time()\n",
    "\n",
    "\n",
    "### Compute the x values ###\n",
    "\n",
    "dt = 0.1 # step size\n",
    "t_i = 0.0 # start\n",
    "t_f = 1000 # finish\n",
    "\n",
    "\n",
    "### Compute the y values ###\n",
    "\n",
    "while t_i<=t_f:\n",
    "    xp = integrate_xp(q,p,pq,q2,p2,x,x2,xp,xq,0.5*dt,mass,alp,D)\n",
    "    x2 = integrate_x2(q,p,pq,q2,p2,x,x2,xp,xq,0.5*dt,mass,alp,D)\n",
    "    x = eval(x1)\n",
    "    p2 = eval(p21)\n",
    "    q2 = eval(q21)\n",
    "    p = eval(p1)\n",
    "    q = eval(q1)\n",
    "    p = eval(p1)\n",
    "    q2 = eval(q21)\n",
    "    p2 = eval(p21)\n",
    "    x = eval(x1)\n",
    "    x2 = integrate_x2(q,p,pq,q2,p2,x,x2,xp,xq,0.5*dt,mass,alp,D)\n",
    "    xp = integrate_xp(q,p,pq,q2,p2,x,x2,xp,xq,0.5*dt,mass,alp,D)\n",
    "\n",
    "    t_i = t_i + dt\n",
    "\n",
    "    q_list.append(q)\n",
    "    p_list.append(p)\n",
    "\n",
    "\n",
    "### Compute the end time ###\n",
    "    \n",
    "time.sleep(1)\n",
    "# store end time\n",
    "end = time.time()\n",
    "  \n",
    "# total time taken\n",
    "print(f\"Total runtime is {end - begin}\")"
   ]
  },
  {
   "cell_type": "markdown",
   "id": "0a29468e",
   "metadata": {},
   "source": [
    "For the x values, we create a range with `(t_i, t_f, dt)` as the parameters. Due to the increasing nature of `t_i`, the initial value of `0.0` is used in its place."
   ]
  },
  {
   "cell_type": "code",
   "execution_count": 36,
   "id": "3b70b4f5",
   "metadata": {
    "scrolled": true
   },
   "outputs": [],
   "source": [
    "### Define the x values ###\n",
    "\n",
    "x_list = np.arange(0, t_f, dt)"
   ]
  },
  {
   "cell_type": "markdown",
   "id": "2f191f7a",
   "metadata": {},
   "source": [
    "**3.2 Graphing Position versus Time**"
   ]
  },
  {
   "cell_type": "code",
   "execution_count": 40,
   "id": "f5a6f597",
   "metadata": {
    "scrolled": true
   },
   "outputs": [
    {
     "data": {
      "image/png": "[encoded data removed]",
      "text/plain": [
       "<Figure size 432x288 with 1 Axes>"
      ]
     },
     "metadata": {
      "needs_background": "light"
     },
     "output_type": "display_data"
    }
   ],
   "source": [
    "plt.plot(x_list, q_list, 'm')\n",
    "plt.title(\"Position vs. Time, Gaussian Potential\")\n",
    "#plt.xlim(0, 20)\n",
    "plt.xlabel(\"Time (fs)\")\n",
    "#plt.ylim(-2,2)\n",
    "plt.ylabel(\"Position, q\")\n",
    "#plt.savefig('gaussian_qVt.png')\n",
    "plt.show()"
   ]
  },
  {
   "cell_type": "markdown",
   "id": "38596fd7",
   "metadata": {},
   "source": [
    "**3.3 Graphing Potential versus Time**"
   ]
  },
  {
   "cell_type": "code",
   "execution_count": 39,
   "id": "45fe7f1d",
   "metadata": {
    "scrolled": true
   },
   "outputs": [
    {
     "data": {
      "image/png": "[encoded data removed]",
      "text/plain": [
       "<Figure size 432x288 with 1 Axes>"
      ]
     },
     "metadata": {
      "needs_background": "light"
     },
     "output_type": "display_data"
    }
   ],
   "source": [
    "plt.plot(x_list, p_list, 'm')\n",
    "plt.title(\"Momentum vs. Time, Gaussian Potential\")\n",
    "#plt.xlim(0, 20)\n",
    "plt.xlabel(\"Time (fs)\")\n",
    "#plt.ylim(-0.5, 30)\n",
    "plt.ylabel(\"Momentum, p\")\n",
    "#plt.savefig('gaussian_pVt_dissoc.png')\n",
    "plt.show()"
   ]
  },
  {
   "cell_type": "markdown",
   "id": "39fbc6e9",
   "metadata": {},
   "source": [
    "**Q4.** How does increasing `sigma` to `1.5` affect the position and momentum?"
   ]
  },
  {
   "cell_type": "markdown",
   "id": "8101dd78",
   "metadata": {},
   "source": []
  },
  {
   "cell_type": "markdown",
   "id": "332c65eb",
   "metadata": {},
   "source": [
    "**Q5.** How does changing the starting position, `q0`, affect the position versus time? At what value of `q0` does the particle dissociate?"
   ]
  },
  {
   "cell_type": "markdown",
   "id": "dfe270b5",
   "metadata": {},
   "source": []
  },
  {
   "cell_type": "markdown",
   "id": "055fd893",
   "metadata": {},
   "source": [
    "# 4. Graphing Dissociation"
   ]
  },
  {
   "cell_type": "markdown",
   "id": "d523bf1f",
   "metadata": {},
   "source": [
    "Here, you will compare classical equations of motion to the QHD equations of motion as described in the previous sections. In order to do this, we must repeat some of the above codes."
   ]
  },
  {
   "cell_type": "markdown",
   "id": "3c74ce70",
   "metadata": {},
   "source": [
    "**Q6.** What do you predict the classical plot to look like? The QHD plot?"
   ]
  },
  {
   "cell_type": "markdown",
   "id": "82e77937",
   "metadata": {},
   "source": []
  },
  {
   "cell_type": "code",
   "execution_count": null,
   "id": "6534abc5",
   "metadata": {
    "scrolled": false
   },
   "outputs": [],
   "source": [
    "# Again, we must first define all variables as symbols. #\n",
    "\n",
    "q, p, p2, x, x2, xp, dt, mass, D, alpha, sigma, q2 = symbols(\"q, p, p2, x, x2, xp, dt, mass, D, alpha, sigma q2\")\n",
    "q_0 = 0.0\n",
    "\n",
    "########## EOM Calculations ##########\n",
    "\n",
    "# If you want to see the output of any of the below, uncomment the desired print line. #\n",
    "\n",
    "# There are two ways to derive the EOM's, using the `time_deriv` function and then the original way is with `QHD_int`\n",
    "# The `time_deriv` function is used as it's more versatile at this time, however it's still not perfect.\n",
    "# `QHD_int` uses the `time_deriv` function\n",
    "\n",
    "px = xp\n",
    "q1 = str(time_deriv(q, 1)*dt + q)\n",
    "print(\"q = \" + str(q1))\n",
    "\n",
    "q21 = str(time_deriv(q, 2)*dt + q2)\n",
    "print(q21)\n",
    "\n",
    "p1 = str(time_deriv(p, 1)).replace(\"v(q)\", str(potential_sym))\n",
    "p1 = expand(sympify(p1).doit())\n",
    "p1 = str(p1)\n",
    "p1 = sympify(p1)\n",
    "p1 = str(symmetrize(p1)*(0.5)*dt + p)\n",
    "print(\"p = \" + str(p1))\n",
    "\n",
    "p21 = str(time_deriv(p, 2)).replace(\"v(q)\", str(potential_sym))\n",
    "p21 = expand(sympify(p21).doit())\n",
    "p21 = str(-p21)\n",
    "p21 = str(symmetrize(p21)*(0.5)*dt + p2)\n",
    "p21 = str(p21)\n",
    "print(\"p2 = \" + str(p21))"
   ]
  },
  {
   "cell_type": "code",
   "execution_count": null,
   "id": "d723fd16",
   "metadata": {
    "scrolled": true
   },
   "outputs": [],
   "source": [
    "##### Constants #####\n",
    "\n",
    "v_0 = 5 # Hartree\n",
    "sigma = 0.75 # Angstrom\n",
    "mass = 1836 # a.u.\n",
    "\n",
    "# Feel free to change any of the below parameters to observe what happens when you change them\n",
    "hbar = 0.6582  # eV * fs\n",
    "convert = (1.0/17.586)\n",
    "mass =  2980.0*convert\n",
    "q0 = -0.50\n",
    "p0 = 0.0\n",
    "s0 = 0.05\n",
    "ps0 = 0.0\n",
    "\n",
    "dt = 0.1\n",
    "#alpha = 2.567\n",
    "alpha = 1/(2*sigma**2)\n",
    "alp = alpha"
   ]
  },
  {
   "cell_type": "code",
   "execution_count": null,
   "id": "963f9e68",
   "metadata": {
    "scrolled": true
   },
   "outputs": [],
   "source": [
    "##### Initial Conditions (Do Not Change) #####\n",
    "\n",
    "t = 0.0    \n",
    "Etot = 0.0\n",
    "Etot0 = 0.0\n",
    "Etot_cl = 0.0\n",
    "Etot_cl0 = 0.0\n",
    "q,p,pq,q2,p2,x,x2,xp,xq = 0.0, 0.0, 0.0, 0.0, 0.0, 0.0, 0.0, 0.0, 0.0\n",
    "q, p = q0, p0\n",
    "q_0 = 0.0\n",
    "q2 = q*q + s0*s0\n",
    "pq = ps0*s0 + q*p\n",
    "p2 = p*p + ps0*ps0 + (0.5*hbar/s0)**2\n",
    "x = exp(-alp*q0)*exp(0.5*alp*alp*s0*s0)\n",
    "x2 = exp(-2.0*alp*q0)*exp(2.0*alp*alp*s0*s0)\n",
    "xq = x*(q-alp*s0*s0)\n",
    "xp = x*(p - s0*ps0*alp)\n",
    "\n",
    "##### ----- #####\n",
    "\n",
    "p2 = eval(p21)\n",
    "q2 = eval(q21)\n",
    "p = eval(p1)\n",
    "q = eval(q1)\n",
    "p = eval(p1)\n",
    "q2 = eval(q21)\n",
    "p2 = eval(p21)"
   ]
  },
  {
   "cell_type": "code",
   "execution_count": null,
   "id": "115575ae",
   "metadata": {
    "scrolled": true
   },
   "outputs": [],
   "source": [
    "##### Empty Lists for Data Storage: #####\n",
    "\n",
    "q_list_classical = [] \n",
    "p_list_classical = []"
   ]
  },
  {
   "cell_type": "code",
   "execution_count": null,
   "id": "1e7e41aa",
   "metadata": {
    "scrolled": true
   },
   "outputs": [],
   "source": [
    "### Time how long it takes to compute ###\n",
    "\n",
    "import time \n",
    "begin = time.time()\n",
    "\n",
    "\n",
    "### Compute the x values ###\n",
    "\n",
    "dt = 0.1 # step size\n",
    "t_i = 0.0 # start\n",
    "t_f = 1000 # finish\n",
    "\n",
    "\n",
    "### Compute the y values ###\n",
    "\n",
    "while t_i<=t_f:\n",
    "\n",
    "    p2 = eval(p21)\n",
    "    q2 = eval(q21)\n",
    "    p = eval(p1)\n",
    "    q = eval(q1)\n",
    "    p = eval(p1)\n",
    "    q2 = eval(q21)\n",
    "    p2 = eval(p21)\n",
    "\n",
    "    t_i = t_i + dt\n",
    "    \n",
    "    # Here is where you add the lists to store data\n",
    "    q_list_classical.append(q)\n",
    "    p_list_classical.append(p)\n",
    "\n",
    "### Compute the end time ###\n",
    "    \n",
    "time.sleep(1)\n",
    "# store end time\n",
    "end = time.time()\n",
    "  \n",
    "# total time taken\n",
    "print(f\"Total runtime is {end - begin}\")"
   ]
  },
  {
   "cell_type": "code",
   "execution_count": null,
   "id": "28c4c542",
   "metadata": {
    "scrolled": true
   },
   "outputs": [],
   "source": [
    "x_list_classical = np.arange(0, t_f, dt)"
   ]
  },
  {
   "cell_type": "code",
   "execution_count": null,
   "id": "6e238f68",
   "metadata": {
    "scrolled": true
   },
   "outputs": [],
   "source": [
    "plt.plot(x_list, q_list, 'k')\n",
    "plt.plot(x_list_classical, q_list_classical, \"m\")\n",
    "plt.title(\"Position vs. Time, Gaussian Potential\")\n",
    "plt.xlim(0, 40)\n",
    "plt.xlabel(\"Time (fs)\")\n",
    "plt.ylim(-2, 2)\n",
    "plt.ylabel(\"Position, q\")\n",
    "#plt.savefig('gaussian_qVt_classical_dissoc.png')\n",
    "plt.show()"
   ]
  },
  {
   "cell_type": "code",
   "execution_count": null,
   "id": "b35fe14e",
   "metadata": {
    "scrolled": true
   },
   "outputs": [],
   "source": []
  }
 ],
 "metadata": {
  "kernelspec": {
   "display_name": "Python 3",
   "language": "python",
   "name": "python3"
  },
  "language_info": {
   "codemirror_mode": {
    "name": "ipython",
    "version": 3
   },
   "file_extension": ".py",
   "mimetype": "text/x-python",
   "name": "python",
   "nbconvert_exporter": "python",
   "pygments_lexer": "ipython3",
   "version": "3.8.8"
  }
 },
 "nbformat": 4,
 "nbformat_minor": 5
}
