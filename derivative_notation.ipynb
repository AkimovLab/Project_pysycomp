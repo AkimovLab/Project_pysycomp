{
 "cells": [
  {
   "cell_type": "code",
   "execution_count": 3,
   "metadata": {},
   "outputs": [],
   "source": [
    "from Pysces import *"
   ]
  },
  {
   "cell_type": "code",
   "execution_count": 7,
   "metadata": {},
   "outputs": [
    {
     "data": {
      "image/png": "[encoded data removed]",
      "text/latex": [
       "$$- I h_{b} \\frac{d}{d x} 1$$"
      ],
      "text/plain": [
       "       d    \n",
       "-I⋅h_b⋅──(1)\n",
       "       dx   "
      ]
     },
     "execution_count": 7,
     "metadata": {},
     "output_type": "execute_result"
    }
   ],
   "source": [
    "P_OPERATOR(x)"
   ]
  },
  {
   "cell_type": "markdown",
   "metadata": {},
   "source": [
    "Issue: the above commutator has \"1\" as a placeholder."
   ]
  },
  {
   "cell_type": "code",
   "execution_count": 8,
   "metadata": {},
   "outputs": [
    {
     "data": {
      "image/png": "[encoded data removed]",
      "text/latex": [
       "$$B - I h_{b} \\frac{d}{d x} 1$$"
      ],
      "text/plain": [
       "  ⎛       d    ⎞\n",
       "B⋅⎜-I⋅h_b⋅──(1)⎟\n",
       "  ⎝       dx   ⎠"
      ]
     },
     "execution_count": 8,
     "metadata": {},
     "output_type": "execute_result"
    }
   ],
   "source": [
    "P_OPERATOR(x)*B"
   ]
  },
  {
   "cell_type": "markdown",
   "metadata": {},
   "source": [
    "We want the \"B\" to automatically replace the \"1\" in the Derivative() function."
   ]
  },
  {
   "cell_type": "markdown",
   "metadata": {},
   "source": [
    "\n",
    "_______________________________________________________________________________________________________________________________\n",
    "\n",
    "\n",
    "# *Food for thought: Are there general instances where we need to change the derivatives? Or do we only need the change in specific cases (i.e. Expectation values)?*\n",
    "\n",
    "_______________________________________________________________________________________________________________________________"
   ]
  },
  {
   "cell_type": "markdown",
   "metadata": {},
   "source": [
    "### sympy derivative is defined as:\n",
    "\n",
    "class Derivative(sympy.core.expr.Expr)\n",
    "\n",
    " |  \"Derivative(expr, *variables, **kwargs)\"\n",
    " \n",
    "#### Variables and kwargs are optional arguments, expr. (expression) is not..."
   ]
  },
  {
   "cell_type": "markdown",
   "metadata": {},
   "source": [
    "Therefore, it looks like it needs something in that position... Is it possible to automatically change this expression from the placeholder, \"1\", to the expression of interest?\n",
    "\n",
    "This is important for expectation values, for example."
   ]
  },
  {
   "cell_type": "markdown",
   "metadata": {},
   "source": [
    "# *General Replacements*"
   ]
  },
  {
   "cell_type": "markdown",
   "metadata": {},
   "source": [
    "## Option One:"
   ]
  },
  {
   "cell_type": "code",
   "execution_count": 9,
   "metadata": {},
   "outputs": [
    {
     "data": {
      "image/png": "[encoded data removed]",
      "text/latex": [
       "$$- I h_{b} \\frac{d}{d x} x$$"
      ],
      "text/plain": [
       "       d    \n",
       "-I⋅h_b⋅──(x)\n",
       "       dx   "
      ]
     },
     "execution_count": 9,
     "metadata": {},
     "output_type": "execute_result"
    }
   ],
   "source": [
    "def P_OPERATOR(x, B = None):\n",
    "    h_b = Symbol(\"h_b\")\n",
    "    if B == None:\n",
    "        return Operator(-I*h_b*(Derivative(\"1\", x)))\n",
    "    else:\n",
    "        return Operator(-I*h_b*(Derivative(B, x)))\n",
    "    \n",
    "P_OPERATOR(x, x)"
   ]
  },
  {
   "cell_type": "markdown",
   "metadata": {},
   "source": [
    "This option involves having multiple parameters for the operators themselves. However, it also involves understanding how an expression is set up... Maybe look into an if/else statement that involves replacements, similar to the EXPRESSION_REPLACE() function already defined."
   ]
  },
  {
   "cell_type": "markdown",
   "metadata": {},
   "source": [
    "More specifically, the if/else statement should be able to replace two functions with the redefined P_OPERATOR function with two parameters.\n",
    "\n",
    "This could be done with strings."
   ]
  },
  {
   "cell_type": "markdown",
   "metadata": {},
   "source": [
    "# Option Two:\n",
    "\n",
    "### This one is similar to the EXPRESSION_REPLACE function, but can only be used if there is one derivative present. (So, not possible with commutators)"
   ]
  },
  {
   "cell_type": "code",
   "execution_count": 10,
   "metadata": {},
   "outputs": [],
   "source": [
    "def OPERATOR_REPLACE(R, B, K):\n",
    "    if K == x:\n",
    "        return sympify(str(R).replace(str(1), str(B))).doit()"
   ]
  },
  {
   "cell_type": "code",
   "execution_count": 11,
   "metadata": {},
   "outputs": [
    {
     "data": {
      "image/png": "[encoded data removed]",
      "text/latex": [
       "$$- 3 i h_{b} x^{2}$$"
      ],
      "text/plain": [
       "          2\n",
       "-3⋅ⅈ⋅h_b⋅x "
      ]
     },
     "execution_count": 11,
     "metadata": {},
     "output_type": "execute_result"
    }
   ],
   "source": [
    "OPERATOR_REPLACE(P_OPERATOR(x), x**3, x)"
   ]
  },
  {
   "cell_type": "markdown",
   "metadata": {},
   "source": [
    "#### For reference, this is how the EXPRESSION_REPLACE function works:"
   ]
  },
  {
   "cell_type": "code",
   "execution_count": 12,
   "metadata": {
    "scrolled": true
   },
   "outputs": [
    {
     "data": {
      "text/plain": [
       "'-x*-I*h_b*Derivative(1, x)*F(x) - I*h_b*Derivative(x*F(x), x)'"
      ]
     },
     "execution_count": 12,
     "metadata": {},
     "output_type": "execute_result"
    }
   ],
   "source": [
    "str(COMM(P_OPERATOR(x), x, F(x))).replace(str('Derivative(1, x)*x*F(x)'), str(Derivative(x*F(x), x)))"
   ]
  },
  {
   "cell_type": "markdown",
   "metadata": {},
   "source": [
    "Why does it need to be in quotes? - I think this has to do with length of the string...?"
   ]
  },
  {
   "cell_type": "markdown",
   "metadata": {},
   "source": [
    "# The EXPECTATION function was then redefined."
   ]
  },
  {
   "cell_type": "code",
   "execution_count": 13,
   "metadata": {},
   "outputs": [
    {
     "data": {
      "image/png": "[encoded data removed]",
      "text/latex": [
       "$$\\frac{I^{2} h_{b}^{2} \\left(\\frac{d}{d x} 1\\right)^{2}}{2 m}$$"
      ],
      "text/plain": [
       "               2\n",
       " 2    2 ⎛d    ⎞ \n",
       "I ⋅h_b ⋅⎜──(1)⎟ \n",
       "        ⎝dx   ⎠ \n",
       "────────────────\n",
       "      2⋅m       "
      ]
     },
     "execution_count": 13,
     "metadata": {},
     "output_type": "execute_result"
    }
   ],
   "source": [
    "KINETIC_ENERGY(x)"
   ]
  },
  {
   "cell_type": "code",
   "execution_count": 14,
   "metadata": {},
   "outputs": [
    {
     "data": {
      "text/latex": [
       "$$\\begin{cases} - \\frac{\\sqrt{2} L \\sqrt{\\frac{1}{L}} \\cos{\\left (n \\pi \\right )} - \\frac{\\sqrt{2} I h_{b} n \\pi \\sqrt{\\frac{1}{L}} \\cos{\\left (n \\pi \\right )}}{L}}{n \\pi} + \\frac{\\sqrt{2} L \\sqrt{\\frac{1}{L}} - \\frac{\\sqrt{2} I h_{b} n \\pi \\sqrt{\\frac{1}{L}}}{L}}{n \\pi} & \\text{for}\\: \\frac{n \\pi}{L} \\neq 0 \\\\0 & \\text{otherwise} \\end{cases}$$"
      ],
      "text/plain": [
       "⎧                                          ___                                \n",
       "⎪                                         ╱ 1                                 \n",
       "⎪           ___          -√2⋅I⋅h_b⋅n⋅π⋅  ╱  ─ ⋅cos(n⋅π)             ___ -√2⋅I⋅\n",
       "⎪          ╱ 1                         ╲╱   L                      ╱ 1        \n",
       "⎪  √2⋅L⋅  ╱  ─ ⋅cos(n⋅π)⋅───────────────────────────────   √2⋅L⋅  ╱  ─ ⋅──────\n",
       "⎨       ╲╱   L                          L                       ╲╱   L        \n",
       "⎪- ───────────────────────────────────────────────────── + ───────────────────\n",
       "⎪                           n⋅π                                            n⋅π\n",
       "⎪                                                                             \n",
       "⎪                                              0                              \n",
       "⎩                                                                             \n",
       "\n",
       "            ___              \n",
       "           ╱ 1               \n",
       "h_b⋅n⋅π⋅  ╱  ─               \n",
       "        ╲╱   L               \n",
       "────────────────             \n",
       "    L                 n⋅π    \n",
       "────────────────  for ─── ≠ 0\n",
       "                       L     \n",
       "                             \n",
       "                   otherwise \n",
       "                             "
      ]
     },
     "execution_count": 14,
     "metadata": {},
     "output_type": "execute_result"
    }
   ],
   "source": [
    "EXPECTATION(PIB_NORMALIZE(y, L, n), P_OPERATOR(y), y, 0, L).doit()"
   ]
  },
  {
   "cell_type": "code",
   "execution_count": 19,
   "metadata": {},
   "outputs": [
    {
     "data": {
      "image/png": "[encoded data removed]",
      "text/latex": [
       "$$0$$"
      ],
      "text/plain": [
       "0"
      ]
     },
     "execution_count": 19,
     "metadata": {},
     "output_type": "execute_result"
    }
   ],
   "source": [
    "EXPECTATION(PIB_NORMALIZE(x, L, n), KINETIC_ENERGY(x), x, 0, L).doit().replace(cos(n*pi), 1).replace(sin(n*pi), 0)"
   ]
  },
  {
   "cell_type": "markdown",
   "metadata": {},
   "source": [
    "The new EXPECTATION function can now apply the derivative to specific terms. At this time, it is only available for the p operator and kinetic energy. "
   ]
  },
  {
   "cell_type": "code",
   "execution_count": null,
   "metadata": {},
   "outputs": [],
   "source": []
  }
 ],
 "metadata": {
  "kernelspec": {
   "display_name": "Python 3",
   "language": "python",
   "name": "python3"
  },
  "language_info": {
   "codemirror_mode": {
    "name": "ipython",
    "version": 3
   },
   "file_extension": ".py",
   "mimetype": "text/x-python",
   "name": "python",
   "nbconvert_exporter": "python",
   "pygments_lexer": "ipython3",
   "version": "3.7.1"
  }
 },
 "nbformat": 4,
 "nbformat_minor": 2
}
