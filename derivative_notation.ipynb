{
 "cells": [
  {
   "cell_type": "code",
   "execution_count": 2,
   "metadata": {},
   "outputs": [],
   "source": [
    "from Pysces import *"
   ]
  },
  {
   "cell_type": "code",
   "execution_count": 3,
   "metadata": {},
   "outputs": [
    {
     "data": {
      "image/png": "[encoded data removed]",
      "text/latex": [
       "$$\\frac{d^{2}}{d x^{2}} 1$$"
      ],
      "text/plain": [
       "  2   \n",
       " d    \n",
       "───(1)\n",
       "  2   \n",
       "dx    "
      ]
     },
     "execution_count": 3,
     "metadata": {},
     "output_type": "execute_result"
    }
   ],
   "source": [
    "Derivative(1, x, x)"
   ]
  },
  {
   "cell_type": "code",
   "execution_count": 4,
   "metadata": {},
   "outputs": [
    {
     "data": {
      "image/png": "[encoded data removed]",
      "text/latex": [
       "$$\\frac{d}{d x} x^{2}$$"
      ],
      "text/plain": [
       "d ⎛ 2⎞\n",
       "──⎝x ⎠\n",
       "dx    "
      ]
     },
     "execution_count": 4,
     "metadata": {},
     "output_type": "execute_result"
    }
   ],
   "source": [
    "Derivative(x**2, x)"
   ]
  },
  {
   "cell_type": "code",
   "execution_count": 5,
   "metadata": {},
   "outputs": [
    {
     "data": {
      "image/png": "[encoded data removed]",
      "text/latex": [
       "$$2 x$$"
      ],
      "text/plain": [
       "2⋅x"
      ]
     },
     "execution_count": 5,
     "metadata": {},
     "output_type": "execute_result"
    }
   ],
   "source": [
    "Derivative(x**2, x).doit()"
   ]
  },
  {
   "cell_type": "code",
   "execution_count": 6,
   "metadata": {},
   "outputs": [
    {
     "data": {
      "image/png": "[encoded data removed]",
      "text/latex": [
       "$$- I h_{b} \\frac{d}{d x} 1$$"
      ],
      "text/plain": [
       "       d    \n",
       "-I⋅h_b⋅──(1)\n",
       "       dx   "
      ]
     },
     "execution_count": 6,
     "metadata": {},
     "output_type": "execute_result"
    }
   ],
   "source": [
    "P_OPERATOR(x)"
   ]
  },
  {
   "cell_type": "markdown",
   "metadata": {},
   "source": [
    "Issue: the above commutator has \"1\" as a placeholder."
   ]
  },
  {
   "cell_type": "code",
   "execution_count": 13,
   "metadata": {},
   "outputs": [
    {
     "data": {
      "image/png": "[encoded data removed]",
      "text/latex": [
       "$$B - I h_{b} \\frac{d}{d x} 1$$"
      ],
      "text/plain": [
       "  ⎛       d    ⎞\n",
       "B⋅⎜-I⋅h_b⋅──(1)⎟\n",
       "  ⎝       dx   ⎠"
      ]
     },
     "execution_count": 13,
     "metadata": {},
     "output_type": "execute_result"
    }
   ],
   "source": [
    "P_OPERATOR(x)*B"
   ]
  },
  {
   "cell_type": "markdown",
   "metadata": {},
   "source": [
    "We want the \"B\" to automatically replace the \"1\" in the Derivative() function."
   ]
  },
  {
   "cell_type": "markdown",
   "metadata": {},
   "source": [
    "### sympy derivative is defined as:\n",
    "\n",
    "class Derivative(sympy.core.expr.Expr)\n",
    "\n",
    " |  \"Derivative(expr, *variables, **kwargs)\"\n",
    " \n",
    "#### Variables and kwargs are optional arguments, expr. (expression) is not..."
   ]
  },
  {
   "cell_type": "markdown",
   "metadata": {},
   "source": [
    "Therefore, it looks like it needs something in that position... Is it possible to automatically change this expression from the placeholder, \"1\", to the expression of interest?\n",
    "\n",
    "This is important for expectation values, for example."
   ]
  },
  {
   "cell_type": "markdown",
   "metadata": {},
   "source": [
    "## Option One:"
   ]
  },
  {
   "cell_type": "code",
   "execution_count": 8,
   "metadata": {},
   "outputs": [
    {
     "data": {
      "image/png": "[encoded data removed]",
      "text/latex": [
       "$$- \\frac{i h_{b} \\frac{d}{d x} A}{2 m}$$"
      ],
      "text/plain": [
       "       d     \n",
       "-ⅈ⋅h_b⋅──(A) \n",
       "       dx    \n",
       "─────────────\n",
       "     2⋅m     "
      ]
     },
     "execution_count": 8,
     "metadata": {},
     "output_type": "execute_result"
    }
   ],
   "source": [
    "def REPLACE_OPERATOR(R, B, K):\n",
    "    if K == x:\n",
    "        return sympify(str(R).replace(str(Derivative(1, x)), str(Derivative(B, x))))\n",
    "\n",
    "REPLACE_OPERATOR((HAMILTONIAN(x)), A, x)"
   ]
  },
  {
   "cell_type": "markdown",
   "metadata": {},
   "source": [
    "This would need copy and paste... Trying to avoid this."
   ]
  },
  {
   "cell_type": "markdown",
   "metadata": {},
   "source": [
    "## Option Two:"
   ]
  },
  {
   "cell_type": "code",
   "execution_count": 12,
   "metadata": {},
   "outputs": [
    {
     "data": {
      "image/png": "[encoded data removed]",
      "text/latex": [
       "$$- I h_{b} \\frac{d}{d x} x$$"
      ],
      "text/plain": [
       "       d    \n",
       "-I⋅h_b⋅──(x)\n",
       "       dx   "
      ]
     },
     "execution_count": 12,
     "metadata": {},
     "output_type": "execute_result"
    }
   ],
   "source": [
    "def P_OPERATOR(x, B = None):\n",
    "    h_b = Symbol(\"h_b\")\n",
    "    if B == None:\n",
    "        return Operator(-I*h_b*(Derivative(\"1\", x)))\n",
    "    else:\n",
    "        return Operator(-I*h_b*(Derivative(B, x)))\n",
    "    \n",
    "P_OPERATOR(x, x)"
   ]
  },
  {
   "cell_type": "markdown",
   "metadata": {},
   "source": [
    "This option involves having multiple parameters for the operators themselves. However, it also involves understanding how an expression is set up... Maybe look into an if/else statement that involves replacements, similar to the EXPRESSION_REPLACE() function already defined."
   ]
  },
  {
   "cell_type": "markdown",
   "metadata": {},
   "source": [
    "More specifically, the if/else statement should be able to replace two functions with the redefined P_OPERATOR function with two parameters."
   ]
  },
  {
   "cell_type": "code",
   "execution_count": null,
   "metadata": {},
   "outputs": [],
   "source": []
  }
 ],
 "metadata": {
  "kernelspec": {
   "display_name": "Python 3",
   "language": "python",
   "name": "python3"
  },
  "language_info": {
   "codemirror_mode": {
    "name": "ipython",
    "version": 3
   },
   "file_extension": ".py",
   "mimetype": "text/x-python",
   "name": "python",
   "nbconvert_exporter": "python",
   "pygments_lexer": "ipython3",
   "version": "3.7.1"
  }
 },
 "nbformat": 4,
 "nbformat_minor": 2
}
