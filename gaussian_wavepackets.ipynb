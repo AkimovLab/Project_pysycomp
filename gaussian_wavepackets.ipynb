{
 "cells": [
  {
   "cell_type": "code",
   "execution_count": 1,
   "metadata": {},
   "outputs": [],
   "source": [
    "from Pysces import *"
   ]
  },
  {
   "cell_type": "markdown",
   "metadata": {},
   "source": [
    "# This work is based on the Gaussian Wavepacket Matrix Derivations by Professor Akimov.\n",
    "\n",
    "\n",
    "# 1. Definition\n",
    "\n",
    "First, the normalized gaussian wavefunction was defined:"
   ]
  },
  {
   "cell_type": "code",
   "execution_count": 44,
   "metadata": {},
   "outputs": [
    {
     "data": {
      "image/png": "[encoded data removed]",
      "text/latex": [
       "$$1.18920711500272 \\left(\\frac{\\alpha_{1}}{\\pi}\\right)^{0.25} e^{\\frac{I \\gamma_{1}}{h_{b}} + \\frac{I p_{0} \\left(x - x_{1}\\right)}{h_{b}} - \\alpha_{1} \\left(x - x_{1}\\right)^{2}}$$"
      ],
      "text/plain": [
       "                           I⋅γ₁   I⋅p₀⋅(x - x₁)              2\n",
       "                     0.25  ──── + ───────────── - α₁⋅(x - x₁) \n",
       "                 ⎛α₁⎞      h_b         h_b                    \n",
       "1.18920711500272⋅⎜──⎟    ⋅ℯ                                   \n",
       "                 ⎝π ⎠                                         "
      ]
     },
     "execution_count": 44,
     "metadata": {},
     "output_type": "execute_result"
    }
   ],
   "source": [
    "alpha, gamma, x, x_0, p_0, h_b, alpha_1, alpha_2, gamma_1, gamma_2, x_1, x_2, p_1, p_2 = symbols(\"alpha gamma x x_0 p_0 h_b alpha_1 alpha_2 gamma_1 gamma_2 x_1 x_2 p_1 p_2\")\n",
    "\n",
    "def GAUSSIAN_NORMALIZE(alpha, gamma, x_0, p_0):\n",
    "    return ((2*alpha)/pi)**(1/4) * exp(-alpha*(x - x_0)**2 + ((I*p_0)/h_b)*(x - x_0) + (I*gamma)/h_b)\n",
    "\n",
    "GAUSSIAN_NORMALIZE(alpha_1, gamma_1, x_1, p_0)"
   ]
  },
  {
   "cell_type": "markdown",
   "metadata": {},
   "source": [
    "# 2. Overlap Integral"
   ]
  },
  {
   "cell_type": "markdown",
   "metadata": {},
   "source": [
    "Then, the overlap integral was defined:"
   ]
  },
  {
   "cell_type": "code",
   "execution_count": 45,
   "metadata": {},
   "outputs": [],
   "source": [
    "def OVERLAP(A, B):\n",
    "    return Integral(A*B, (x, -oo, oo))"
   ]
  },
  {
   "cell_type": "markdown",
   "metadata": {},
   "source": [
    "We are calculating the overlap with regards to two gaussian wave packets, R and Q:"
   ]
  },
  {
   "cell_type": "code",
   "execution_count": 46,
   "metadata": {},
   "outputs": [
    {
     "data": {
      "image/png": "[encoded data removed]",
      "text/latex": [
       "$$1.18920711500272 \\left(\\frac{\\alpha_{1}}{\\pi}\\right)^{0.25} e^{\\frac{I \\gamma_{1}}{h_{b}} + \\frac{I p_{1} \\left(x - x_{1}\\right)}{h_{b}} - \\alpha_{1} \\left(x - x_{1}\\right)^{2}}$$"
      ],
      "text/plain": [
       "                           I⋅γ₁   I⋅p₁⋅(x - x₁)              2\n",
       "                     0.25  ──── + ───────────── - α₁⋅(x - x₁) \n",
       "                 ⎛α₁⎞      h_b         h_b                    \n",
       "1.18920711500272⋅⎜──⎟    ⋅ℯ                                   \n",
       "                 ⎝π ⎠                                         "
      ]
     },
     "metadata": {},
     "output_type": "display_data"
    },
    {
     "data": {
      "image/png": "[encoded data removed]",
      "text/latex": [
       "$$1.18920711500272 \\left(\\frac{\\alpha_{2}}{\\pi}\\right)^{0.25} e^{\\frac{I \\gamma_{2}}{h_{b}} + \\frac{I p_{2} \\left(x - x_{2}\\right)}{h_{b}} - \\alpha_{2} \\left(x - x_{2}\\right)^{2}}$$"
      ],
      "text/plain": [
       "                           I⋅γ₂   I⋅p₂⋅(x - x₂)              2\n",
       "                     0.25  ──── + ───────────── - α₂⋅(x - x₂) \n",
       "                 ⎛α₂⎞      h_b         h_b                    \n",
       "1.18920711500272⋅⎜──⎟    ⋅ℯ                                   \n",
       "                 ⎝π ⎠                                         "
      ]
     },
     "metadata": {},
     "output_type": "display_data"
    }
   ],
   "source": [
    "R = GAUSSIAN_NORMALIZE(alpha_1, gamma_1, x_1, p_1)\n",
    "\n",
    "display(R)\n",
    "\n",
    "Q = GAUSSIAN_NORMALIZE(alpha_2, gamma_2, x_2, p_2)\n",
    "\n",
    "display(Q)"
   ]
  },
  {
   "cell_type": "markdown",
   "metadata": {},
   "source": [
    "First, constant terms were factored out:\n",
    "\n",
    "*Note that this is incorrect, and is missing a factored term, involving exp(). I am unsure at this time why this is.*"
   ]
  },
  {
   "cell_type": "code",
   "execution_count": 48,
   "metadata": {
    "scrolled": false
   },
   "outputs": [
    {
     "data": {
      "image/png": "[encoded data removed]",
      "text/latex": [
       "$$1.41421356237309 \\left(\\frac{\\alpha_{1}}{\\pi}\\right)^{0.25} \\left(\\frac{\\alpha_{2}}{\\pi}\\right)^{0.25} e^{- \\alpha_{1} x_{1}^{2}} e^{- \\alpha_{2} x_{2}^{2}} e^{\\frac{I \\gamma_{1}}{h_{b}}} e^{\\frac{I \\gamma_{2}}{h_{b}}} e^{- \\frac{I p_{1} x_{1}}{h_{b}}} e^{- \\frac{I p_{2} x_{2}}{h_{b}}} \\int_{-\\infty}^{\\infty} e^{- \\alpha_{1} x^{2}} e^{- \\alpha_{2} x^{2}} e^{2 \\alpha_{1} x x_{1}} e^{2 \\alpha_{2} x x_{2}} e^{\\frac{I p_{1} x}{h_{b}}} e^{\\frac{I p_{2} x}{h_{b}}}\\, dx$$"
      ],
      "text/plain": [
       "                                                                              \n",
       "                                                                              \n",
       "                                                      I⋅γ₁  I⋅γ₂  -I⋅p₁⋅x₁   -\n",
       "                     0.25     0.25        2        2  ────  ────  ─────────  ─\n",
       "                 ⎛α₁⎞     ⎛α₂⎞      -α₁⋅x₁   -α₂⋅x₂   h_b   h_b      h_b      \n",
       "1.41421356237309⋅⎜──⎟    ⋅⎜──⎟    ⋅ℯ       ⋅ℯ       ⋅ℯ    ⋅ℯ    ⋅ℯ         ⋅ℯ \n",
       "                 ⎝π ⎠     ⎝π ⎠                                                \n",
       "                                                                              \n",
       "\n",
       "         ∞                                                          \n",
       "         ⌠                                                          \n",
       "I⋅p₂⋅x₂  ⎮                                         I⋅p₁⋅x  I⋅p₂⋅x   \n",
       "──────── ⎮        2       2                        ──────  ──────   \n",
       "  h_b    ⎮   -α₁⋅x   -α₂⋅x   2⋅α₁⋅x⋅x₁  2⋅α₂⋅x⋅x₂   h_b     h_b     \n",
       "        ⋅⎮  ℯ      ⋅ℯ      ⋅ℯ         ⋅ℯ         ⋅ℯ      ⋅ℯ       dx\n",
       "         ⌡                                                          \n",
       "         -∞                                                         "
      ]
     },
     "metadata": {},
     "output_type": "display_data"
    },
    {
     "name": "stdout",
     "output_type": "stream",
     "text": [
      "1.41421356237309*(alpha_1/pi)**0.25*(alpha_2/pi)**0.25*exp(-alpha_1*x_1**2)*exp(-alpha_2*x_2**2)*exp(I*gamma_1/h_b)*exp(I*gamma_2/h_b)*exp(-I*p_1*x_1/h_b)*exp(-I*p_2*x_2/h_b)*Integral(exp(-alpha_1*x**2)*exp(-alpha_2*x**2)*exp(2*alpha_1*x*x_1)*exp(2*alpha_2*x*x_2)*exp(I*p_1*x/h_b)*exp(I*p_2*x/h_b), (x, -oo, oo))\n"
     ]
    }
   ],
   "source": [
    "display(factor(OVERLAP(Q, R)))\n",
    "print(factor(OVERLAP(Q, R)))"
   ]
  },
  {
   "cell_type": "markdown",
   "metadata": {},
   "source": [
    "Please note that the numerical value is equivalent to 4^(1/4):"
   ]
  },
  {
   "cell_type": "code",
   "execution_count": 96,
   "metadata": {},
   "outputs": [
    {
     "data": {
      "image/png": "[encoded data removed]",
      "text/latex": [
       "$$1.4142135623730951$$"
      ],
      "text/plain": [
       "1.4142135623730951"
      ]
     },
     "execution_count": 96,
     "metadata": {},
     "output_type": "execute_result"
    }
   ],
   "source": [
    "4**(1/4)"
   ]
  },
  {
   "cell_type": "markdown",
   "metadata": {},
   "source": [
    "The specific term that is missing is:\n",
    "\n",
    "Most likely this term is still within the integral. Is it possible to factor this term out? How does it affect the final answer?"
   ]
  },
  {
   "cell_type": "code",
   "execution_count": 93,
   "metadata": {},
   "outputs": [
    {
     "data": {
      "image/png": "[encoded data removed]",
      "text/latex": [
       "$$e^{\\frac{i \\left(\\alpha_{1} p_{2} + \\alpha_{2} p_{1}\\right)}{h_{b} \\left(\\alpha_{1} + \\alpha_{2}\\right)}}$$"
      ],
      "text/plain": [
       " ⅈ⋅(α₁⋅p₂ + α₂⋅p₁)\n",
       " ─────────────────\n",
       "   h_b⋅(α₁ + α₂)  \n",
       "ℯ                 "
      ]
     },
     "execution_count": 93,
     "metadata": {},
     "output_type": "execute_result"
    }
   ],
   "source": [
    "exp(I*(alpha_2*p_1 + alpha_1*p_2)/(h_b*(alpha_1 + alpha_2)))"
   ]
  },
  {
   "cell_type": "markdown",
   "metadata": {},
   "source": [
    "Continuing *without* this term leads to:"
   ]
  },
  {
   "cell_type": "code",
   "execution_count": 86,
   "metadata": {
    "scrolled": false
   },
   "outputs": [
    {
     "name": "stdout",
     "output_type": "stream",
     "text": [
      "Piecewise((sqrt(pi)*exp((2*alpha_1*h_b*x_1 + 2*alpha_2*h_b*x_2 + I*p_1 + I*p_2)**2/(4*alpha_1*h_b**2 + 4*alpha_2*h_b**2))/(sqrt(alpha_1)*sqrt(polar_lift(1 + alpha_2/alpha_1))), (pi/2 > Abs(arg(alpha_1) + arg((alpha_1 + alpha_2)/alpha_1))) | ((pi/2 >= Abs(arg(alpha_1) + arg((alpha_1 + alpha_2)/alpha_1))) & (pi > Abs(2*arg(alpha_1) + 2*arg(x_1) + 2*arg(1 + alpha_2*x_2/(alpha_1*x_1)) + 2*arg(1 - p_2/(alpha_1*h_b*x_1*polar_lift(2*exp_polar(I*pi/2)*polar_lift(1 + alpha_2*x_2/(alpha_1*x_1)) - p_1/(alpha_1*h_b*x_1)))) + 2*arg(2 - p_1*exp_polar(-I*pi/2)/(alpha_1*h_b*x_1*polar_lift(1 + alpha_2*x_2/(alpha_1*x_1)))))) & (pi > Abs(2*arg(alpha_1) + 2*arg(x_1) + 2*arg(1 + alpha_2*x_2/(alpha_1*x_1)) + 2*arg(1 - p_2/(alpha_1*h_b*x_1*polar_lift(2*exp_polar(I*pi/2)*polar_lift(1 + alpha_2*x_2/(alpha_1*x_1)) - p_1/(alpha_1*h_b*x_1)))) + 2*arg(2 - p_1*exp_polar(-I*pi/2)/(alpha_1*h_b*x_1*polar_lift(1 + alpha_2*x_2/(alpha_1*x_1)))) + 2*pi)))), (Integral(exp(x*(-alpha_1*h_b*x + 2*alpha_1*h_b*x_1 - alpha_2*h_b*x + 2*alpha_2*h_b*x_2 + I*p_1 + I*p_2)/h_b), (x, -oo, oo)), True))\n"
     ]
    }
   ],
   "source": [
    "I = sqrt(-1)\n",
    "\n",
    "A = ((simplify(Integral(exp(-alpha_1*x**2)*exp(-alpha_2*x**2)*exp(2*alpha_1*x*x_1)*exp(2*alpha_2*x*x_2)*exp(I*p_1*x/h_b)*exp(I*p_2*x/h_b), (x, -oo, oo)).doit())))\n",
    "print(A)"
   ]
  },
  {
   "cell_type": "markdown",
   "metadata": {},
   "source": [
    "The above output is a piecewise function. The first expression of the piecewise was copied and pasted below for clarity:"
   ]
  },
  {
   "cell_type": "code",
   "execution_count": 90,
   "metadata": {},
   "outputs": [
    {
     "data": {
      "image/png": "[encoded data removed]",
      "text/latex": [
       "$$\\frac{\\sqrt{\\pi} e^{\\frac{\\left(2 \\alpha_{1} h_{b} x_{1} + 2 \\alpha_{2} h_{b} x_{2} + i p_{1} + i p_{2}\\right)^{2}}{4 \\alpha_{1} h_{b}^{2} + 4 \\alpha_{2} h_{b}^{2}}}}{\\sqrt{\\alpha_{1}} \\sqrt{\\operatorname{polar\\_lift}{\\left (1 + \\frac{\\alpha_{2}}{\\alpha_{1}} \\right )}}}$$"
      ],
      "text/plain": [
       "                                             2\n",
       "    (2⋅α₁⋅h_b⋅x₁ + 2⋅α₂⋅h_b⋅x₂ + ⅈ⋅p₁ + ⅈ⋅p₂) \n",
       "    ──────────────────────────────────────────\n",
       "                      2           2           \n",
       "              4⋅α₁⋅h_b  + 4⋅α₂⋅h_b            \n",
       "√π⋅ℯ                                          \n",
       "──────────────────────────────────────────────\n",
       "                  ____________________        \n",
       "         ____    ╱           ⎛    α₂⎞         \n",
       "       ╲╱ α₁ ⋅  ╱  polar_lift⎜1 + ──⎟         \n",
       "              ╲╱             ⎝    α₁⎠         "
      ]
     },
     "execution_count": 90,
     "metadata": {},
     "output_type": "execute_result"
    }
   ],
   "source": [
    "B = (sqrt(pi)*exp((2*alpha_1*h_b*x_1 + 2*alpha_2*h_b*x_2 + I*p_1 + I*p_2)**2/(4*alpha_1*h_b**2 + 4*alpha_2*h_b**2))/(sqrt(alpha_1)*sqrt(polar_lift(1 + alpha_2/alpha_1))))\n",
    "\n",
    "B"
   ]
  },
  {
   "cell_type": "markdown",
   "metadata": {},
   "source": [
    "This was then factored, in the hopes of clarification and simplification:"
   ]
  },
  {
   "cell_type": "code",
   "execution_count": 92,
   "metadata": {},
   "outputs": [
    {
     "data": {
      "image/png": "[encoded data removed]",
      "text/latex": [
       "$$\\frac{\\sqrt{\\pi} e^{- \\frac{p_{1}^{2}}{4 \\alpha_{1} h_{b}^{2} + 4 \\alpha_{2} h_{b}^{2}}} e^{- \\frac{p_{2}^{2}}{4 \\alpha_{1} h_{b}^{2} + 4 \\alpha_{2} h_{b}^{2}}} e^{- \\frac{2 p_{1} p_{2}}{4 \\alpha_{1} h_{b}^{2} + 4 \\alpha_{2} h_{b}^{2}}} e^{\\frac{4 \\alpha_{1}^{2} h_{b}^{2} x_{1}^{2}}{4 \\alpha_{1} h_{b}^{2} + 4 \\alpha_{2} h_{b}^{2}}} e^{\\frac{4 \\alpha_{2}^{2} h_{b}^{2} x_{2}^{2}}{4 \\alpha_{1} h_{b}^{2} + 4 \\alpha_{2} h_{b}^{2}}} e^{\\frac{4 i \\alpha_{1} h_{b} p_{1} x_{1}}{4 \\alpha_{1} h_{b}^{2} + 4 \\alpha_{2} h_{b}^{2}}} e^{\\frac{4 i \\alpha_{1} h_{b} p_{2} x_{1}}{4 \\alpha_{1} h_{b}^{2} + 4 \\alpha_{2} h_{b}^{2}}} e^{\\frac{4 i \\alpha_{2} h_{b} p_{1} x_{2}}{4 \\alpha_{1} h_{b}^{2} + 4 \\alpha_{2} h_{b}^{2}}} e^{\\frac{4 i \\alpha_{2} h_{b} p_{2} x_{2}}{4 \\alpha_{1} h_{b}^{2} + 4 \\alpha_{2} h_{b}^{2}}} e^{\\frac{8 \\alpha_{1} \\alpha_{2} h_{b}^{2} x_{1} x_{2}}{4 \\alpha_{1} h_{b}^{2} + 4 \\alpha_{2} h_{b}^{2}}}}{\\sqrt{\\alpha_{1}} \\sqrt{\\operatorname{polar\\_lift}{\\left (1 + \\frac{\\alpha_{2}}{\\alpha_{1}} \\right )}}}$$"
      ],
      "text/plain": [
       "               2                      2                                       \n",
       "            -p₁                    -p₂                  -2⋅p₁⋅p₂             4\n",
       "    ─────────────────────  ─────────────────────  ─────────────────────  ─────\n",
       "            2           2          2           2          2           2       \n",
       "    4⋅α₁⋅h_b  + 4⋅α₂⋅h_b   4⋅α₁⋅h_b  + 4⋅α₂⋅h_b   4⋅α₁⋅h_b  + 4⋅α₂⋅h_b   4⋅α₁⋅\n",
       "√π⋅ℯ                     ⋅ℯ                     ⋅ℯ                     ⋅ℯ     \n",
       "──────────────────────────────────────────────────────────────────────────────\n",
       "                                                                              \n",
       "                                                                              \n",
       "                                                                              \n",
       "                                                                              \n",
       "\n",
       "   2    2   2             2    2   2                                          \n",
       "⋅α₁ ⋅h_b ⋅x₁          4⋅α₂ ⋅h_b ⋅x₂         4⋅ⅈ⋅α₁⋅h_b⋅p₁⋅x₁       4⋅ⅈ⋅α₁⋅h_b⋅\n",
       "────────────────  ─────────────────────  ─────────────────────  ──────────────\n",
       "   2           2          2           2          2           2          2     \n",
       "h_b  + 4⋅α₂⋅h_b   4⋅α₁⋅h_b  + 4⋅α₂⋅h_b   4⋅α₁⋅h_b  + 4⋅α₂⋅h_b   4⋅α₁⋅h_b  + 4⋅\n",
       "                ⋅ℯ                     ⋅ℯ                     ⋅ℯ              \n",
       "──────────────────────────────────────────────────────────────────────────────\n",
       "                                 ____________________                         \n",
       "                        ____    ╱           ⎛    α₂⎞                          \n",
       "                      ╲╱ α₁ ⋅  ╱  polar_lift⎜1 + ──⎟                          \n",
       "                             ╲╱             ⎝    α₁⎠                          \n",
       "\n",
       "                                                                    2       \n",
       "p₂⋅x₁       4⋅ⅈ⋅α₂⋅h_b⋅p₁⋅x₂       4⋅ⅈ⋅α₂⋅h_b⋅p₂⋅x₂      8⋅α₁⋅α₂⋅h_b ⋅x₁⋅x₂ \n",
       "───────  ─────────────────────  ─────────────────────  ─────────────────────\n",
       "      2          2           2          2           2          2           2\n",
       "α₂⋅h_b   4⋅α₁⋅h_b  + 4⋅α₂⋅h_b   4⋅α₁⋅h_b  + 4⋅α₂⋅h_b   4⋅α₁⋅h_b  + 4⋅α₂⋅h_b \n",
       "       ⋅ℯ                     ⋅ℯ                     ⋅ℯ                     \n",
       "────────────────────────────────────────────────────────────────────────────\n",
       "                                                                            \n",
       "                                                                            \n",
       "                                                                            \n",
       "                                                                            "
      ]
     },
     "execution_count": 92,
     "metadata": {},
     "output_type": "execute_result"
    }
   ],
   "source": [
    "factor(B)"
   ]
  },
  {
   "cell_type": "markdown",
   "metadata": {},
   "source": [
    "At this time, I am not too sure about the \"polar_lift()\" function shown, but it seems to be something from the sympy library. If this function is ignored, the denominator may be simplified as follows:"
   ]
  },
  {
   "cell_type": "code",
   "execution_count": 95,
   "metadata": {},
   "outputs": [
    {
     "data": {
      "image/png": "[encoded data removed]",
      "text/latex": [
       "$$\\sqrt{\\alpha_{1}} \\sqrt{\\frac{\\alpha_{1} + \\alpha_{2}}{\\alpha_{1}}}$$"
      ],
      "text/plain": [
       "           _________\n",
       "  ____    ╱ α₁ + α₂ \n",
       "╲╱ α₁ ⋅  ╱  ─────── \n",
       "       ╲╱      α₁   "
      ]
     },
     "execution_count": 95,
     "metadata": {},
     "output_type": "execute_result"
    }
   ],
   "source": [
    "simplify(sqrt(alpha_1)*sqrt(1+(alpha_2)/alpha_1))"
   ]
  },
  {
   "cell_type": "markdown",
   "metadata": {},
   "source": [
    "Which is *similar* to the solved integral found in the derivations.\n",
    "\n",
    "There are also similarities in the exponents found in the \"factor(B)\" cell to that of which is listed in the derivations. However, it is unable to be simplified further by python. This is an area of interest to look into."
   ]
  },
  {
   "cell_type": "markdown",
   "metadata": {},
   "source": [
    "# 3. Transition Dipole Moment"
   ]
  },
  {
   "cell_type": "code",
   "execution_count": 103,
   "metadata": {},
   "outputs": [
    {
     "data": {
      "image/png": "[encoded data removed]",
      "text/latex": [
       "$$\\int_{-\\infty}^{\\infty} x e^{\\left(- \\alpha_{1} - \\alpha_{2}\\right) \\left(x - \\frac{\\alpha_{1} x_{1} + \\alpha_{2} x_{2} + \\frac{i \\left(- p_{1} + p_{2}\\right)}{2 h_{b}}}{\\alpha_{1} + \\alpha_{2}}\\right)^{2}}\\, dx$$"
      ],
      "text/plain": [
       "∞                                                      \n",
       "⌠                                                      \n",
       "⎮                                                  2   \n",
       "⎮                ⎛                    ⅈ⋅(-p₁ + p₂)⎞    \n",
       "⎮                ⎜    α₁⋅x₁ + α₂⋅x₂ + ────────────⎟    \n",
       "⎮                ⎜                       2⋅h_b    ⎟    \n",
       "⎮     (-α₁ - α₂)⋅⎜x - ────────────────────────────⎟    \n",
       "⎮                ⎝              α₁ + α₂           ⎠    \n",
       "⎮  x⋅ℯ                                               dx\n",
       "⌡                                                      \n",
       "-∞                                                     "
      ]
     },
     "execution_count": 103,
     "metadata": {},
     "output_type": "execute_result"
    }
   ],
   "source": [
    "A = Integral(x*exp((-(alpha_1 + alpha_2)*(x - (alpha_2*x_2 +alpha_1*x_1 + (I*(p_2 - p_1))/(2*h_b))/(alpha_1 +alpha_2))**2)), (x, -oo, oo))\n",
    "\n",
    "A"
   ]
  },
  {
   "cell_type": "code",
   "execution_count": 105,
   "metadata": {},
   "outputs": [],
   "source": [
    "# A.doit()"
   ]
  },
  {
   "cell_type": "markdown",
   "metadata": {},
   "source": [
    "Python is unable to compute the above integral. This is due (I believe) to the exp() term. \n",
    "\n",
    "I am not able to get an output at this time. (The cell runs indefinitely)\n",
    "\n",
    "At this time, I am unable to solve this problem. "
   ]
  },
  {
   "cell_type": "markdown",
   "metadata": {},
   "source": [
    "# 4. Derivative Coupling"
   ]
  },
  {
   "cell_type": "code",
   "execution_count": 111,
   "metadata": {},
   "outputs": [
    {
     "data": {
      "image/png": "[encoded data removed]",
      "text/latex": [
       "$$\\frac{\\alpha_{1} x_{1} + \\alpha_{2} x_{2}}{\\alpha_{1} + \\alpha_{2}} + \\frac{i \\left(- p_{1} + p_{2}\\right)}{2 h_{b} \\left(\\alpha_{1} + \\alpha_{2}\\right)}$$"
      ],
      "text/plain": [
       "α₁⋅x₁ + α₂⋅x₂     ⅈ⋅(-p₁ + p₂) \n",
       "───────────── + ───────────────\n",
       "   α₁ + α₂      2⋅h_b⋅(α₁ + α₂)"
      ]
     },
     "execution_count": 111,
     "metadata": {},
     "output_type": "execute_result"
    }
   ],
   "source": [
    "mu = (alpha_2*x_2 + alpha_1*x_1)/(alpha_1 + alpha_2) + I/(2*h_b)*(p_2 - p_1)/(alpha_1 + alpha_2)\n",
    "\n",
    "mu"
   ]
  },
  {
   "cell_type": "code",
   "execution_count": 115,
   "metadata": {},
   "outputs": [
    {
     "data": {
      "image/png": "[encoded data removed]",
      "text/latex": [
       "$$\\frac{- 2 \\alpha_{1} \\alpha_{2} h_{b} x_{1} + 2 \\alpha_{1} \\alpha_{2} h_{b} x_{2} + i \\alpha_{1} p_{2} + i \\alpha_{2} p_{1}}{h_{b} \\left(\\alpha_{1} + \\alpha_{2}\\right)}$$"
      ],
      "text/plain": [
       "-2⋅α₁⋅α₂⋅h_b⋅x₁ + 2⋅α₁⋅α₂⋅h_b⋅x₂ + ⅈ⋅α₁⋅p₂ + ⅈ⋅α₂⋅p₁\n",
       "────────────────────────────────────────────────────\n",
       "                   h_b⋅(α₁ + α₂)                    "
      ]
     },
     "execution_count": 115,
     "metadata": {},
     "output_type": "execute_result"
    }
   ],
   "source": [
    "simplify(-2*alpha_2*mu + 2*alpha_2*x_2 + (I*p_2)/h_b)"
   ]
  },
  {
   "cell_type": "markdown",
   "metadata": {},
   "source": [
    "This is equivalent to what is present in the derivations."
   ]
  },
  {
   "cell_type": "code",
   "execution_count": null,
   "metadata": {},
   "outputs": [],
   "source": []
  }
 ],
 "metadata": {
  "kernelspec": {
   "display_name": "Python 3",
   "language": "python",
   "name": "python3"
  },
  "language_info": {
   "codemirror_mode": {
    "name": "ipython",
    "version": 3
   },
   "file_extension": ".py",
   "mimetype": "text/x-python",
   "name": "python",
   "nbconvert_exporter": "python",
   "pygments_lexer": "ipython3",
   "version": "3.7.1"
  }
 },
 "nbformat": 4,
 "nbformat_minor": 2
}
