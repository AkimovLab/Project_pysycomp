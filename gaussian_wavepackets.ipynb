{
 "cells": [
  {
   "cell_type": "code",
   "execution_count": 2,
   "metadata": {},
   "outputs": [],
   "source": [
    "from Pysces import *"
   ]
  },
  {
   "cell_type": "markdown",
   "metadata": {},
   "source": [
    "# This work is based on the Gaussian Wavepacket Matrix Derivations by Professor Akimov.\n",
    "\n",
    "\n",
    "# 1. Definition\n",
    "\n",
    "First, the normalized gaussian wavefunction was defined:"
   ]
  },
  {
   "cell_type": "code",
   "execution_count": 3,
   "metadata": {},
   "outputs": [
    {
     "data": {
      "image/png": "[encoded data removed]",
      "text/latex": [
       "$$1.18920711500272 \\left(\\frac{\\alpha_{1}}{\\pi}\\right)^{0.25} e^{- \\alpha_{1} \\left(x - x_{1}\\right)^{2} + \\frac{i \\gamma_{1}}{h_{b}} + \\frac{i p_{0} \\left(x - x_{1}\\right)}{h_{b}}}$$"
      ],
      "text/plain": [
       "                                        2   ⅈ⋅γ₁   ⅈ⋅p₀⋅(x - x₁)\n",
       "                     0.25  - α₁⋅(x - x₁)  + ──── + ─────────────\n",
       "                 ⎛α₁⎞                       h_b         h_b     \n",
       "1.18920711500272⋅⎜──⎟    ⋅ℯ                                     \n",
       "                 ⎝π ⎠                                           "
      ]
     },
     "execution_count": 3,
     "metadata": {},
     "output_type": "execute_result"
    }
   ],
   "source": [
    "alpha, gamma, x, x_0, p_0, h_b, alpha_1, alpha_2, gamma_1, gamma_2, x_1, x_2, p_1, p_2 = symbols(\"alpha gamma x x_0 p_0 h_b alpha_1 alpha_2 gamma_1 gamma_2 x_1 x_2 p_1 p_2\")\n",
    "\n",
    "def gaussian_normalize(alpha, gamma, x_0, p_0):\n",
    "    return ((2*alpha)/pi)**(1/4) * exp(-alpha*(x - x_0)**2 + ((I*p_0)/h_b)*(x - x_0) + (I*gamma)/h_b)\n",
    "\n",
    "gaussian_normalize(alpha_1, gamma_1, x_1, p_0)"
   ]
  },
  {
   "cell_type": "markdown",
   "metadata": {},
   "source": [
    "# 2. Overlap Integral"
   ]
  },
  {
   "cell_type": "markdown",
   "metadata": {},
   "source": [
    "Then, the overlap integral was defined:"
   ]
  },
  {
   "cell_type": "code",
   "execution_count": 4,
   "metadata": {},
   "outputs": [],
   "source": [
    "def overlap(A, B):\n",
    "    return Integral(A*B, (x, -oo, oo))"
   ]
  },
  {
   "cell_type": "markdown",
   "metadata": {},
   "source": [
    "We are calculating the overlap with regards to two gaussian wave packets, R and Q:"
   ]
  },
  {
   "cell_type": "code",
   "execution_count": 5,
   "metadata": {},
   "outputs": [
    {
     "data": {
      "image/png": "[encoded data removed]",
      "text/latex": [
       "$$1.18920711500272 \\left(\\frac{\\alpha_{1}}{\\pi}\\right)^{0.25} e^{- \\alpha_{1} \\left(x - x_{1}\\right)^{2} + \\frac{i \\gamma_{1}}{h_{b}} + \\frac{i p_{1} \\left(x - x_{1}\\right)}{h_{b}}}$$"
      ],
      "text/plain": [
       "                                        2   ⅈ⋅γ₁   ⅈ⋅p₁⋅(x - x₁)\n",
       "                     0.25  - α₁⋅(x - x₁)  + ──── + ─────────────\n",
       "                 ⎛α₁⎞                       h_b         h_b     \n",
       "1.18920711500272⋅⎜──⎟    ⋅ℯ                                     \n",
       "                 ⎝π ⎠                                           "
      ]
     },
     "metadata": {},
     "output_type": "display_data"
    },
    {
     "data": {
      "image/png": "[encoded data removed]",
      "text/latex": [
       "$$1.18920711500272 \\left(\\frac{\\alpha_{2}}{\\pi}\\right)^{0.25} e^{- \\alpha_{2} \\left(x - x_{2}\\right)^{2} + \\frac{i \\gamma_{2}}{h_{b}} + \\frac{i p_{2} \\left(x - x_{2}\\right)}{h_{b}}}$$"
      ],
      "text/plain": [
       "                                        2   ⅈ⋅γ₂   ⅈ⋅p₂⋅(x - x₂)\n",
       "                     0.25  - α₂⋅(x - x₂)  + ──── + ─────────────\n",
       "                 ⎛α₂⎞                       h_b         h_b     \n",
       "1.18920711500272⋅⎜──⎟    ⋅ℯ                                     \n",
       "                 ⎝π ⎠                                           "
      ]
     },
     "metadata": {},
     "output_type": "display_data"
    }
   ],
   "source": [
    "R = gaussian_normalize(alpha_1, gamma_1, x_1, p_1)\n",
    "\n",
    "display(R)\n",
    "\n",
    "Q = gaussian_normalize(alpha_2, gamma_2, x_2, p_2)\n",
    "\n",
    "display(Q)"
   ]
  },
  {
   "cell_type": "markdown",
   "metadata": {},
   "source": [
    "First, constant terms were factored out:\n",
    "\n",
    "*Note that this is incorrect, and is missing a factored term, involving exp(). I am unsure at this time why this is.*"
   ]
  },
  {
   "cell_type": "code",
   "execution_count": 6,
   "metadata": {
    "scrolled": false
   },
   "outputs": [
    {
     "data": {
      "image/png": "[encoded data removed]",
      "text/latex": [
       "$$1.41421356237309 \\left(\\frac{\\alpha_{1}}{\\pi}\\right)^{0.25} \\left(\\frac{\\alpha_{2}}{\\pi}\\right)^{0.25} e^{- \\alpha_{1} x_{1}^{2}} e^{- \\alpha_{2} x_{2}^{2}} e^{\\frac{i \\gamma_{1}}{h_{b}}} e^{\\frac{i \\gamma_{2}}{h_{b}}} e^{- \\frac{i p_{1} x_{1}}{h_{b}}} e^{- \\frac{i p_{2} x_{2}}{h_{b}}} \\int_{-\\infty}^{\\infty} e^{- \\alpha_{1} x^{2}} e^{- \\alpha_{2} x^{2}} e^{2 \\alpha_{1} x x_{1}} e^{2 \\alpha_{2} x x_{2}} e^{\\frac{i p_{1} x}{h_{b}}} e^{\\frac{i p_{2} x}{h_{b}}}\\, dx$$"
      ],
      "text/plain": [
       "                                                                              \n",
       "                                                                              \n",
       "                                                      ⅈ⋅γ₁  ⅈ⋅γ₂  -ⅈ⋅p₁⋅x₁   -\n",
       "                     0.25     0.25        2        2  ────  ────  ─────────  ─\n",
       "                 ⎛α₁⎞     ⎛α₂⎞      -α₁⋅x₁   -α₂⋅x₂   h_b   h_b      h_b      \n",
       "1.41421356237309⋅⎜──⎟    ⋅⎜──⎟    ⋅ℯ       ⋅ℯ       ⋅ℯ    ⋅ℯ    ⋅ℯ         ⋅ℯ \n",
       "                 ⎝π ⎠     ⎝π ⎠                                                \n",
       "                                                                              \n",
       "\n",
       "         ∞                                                          \n",
       "         ⌠                                                          \n",
       "ⅈ⋅p₂⋅x₂  ⎮                                         ⅈ⋅p₁⋅x  ⅈ⋅p₂⋅x   \n",
       "──────── ⎮        2       2                        ──────  ──────   \n",
       "  h_b    ⎮   -α₁⋅x   -α₂⋅x   2⋅α₁⋅x⋅x₁  2⋅α₂⋅x⋅x₂   h_b     h_b     \n",
       "        ⋅⎮  ℯ      ⋅ℯ      ⋅ℯ         ⋅ℯ         ⋅ℯ      ⋅ℯ       dx\n",
       "         ⌡                                                          \n",
       "         -∞                                                         "
      ]
     },
     "metadata": {},
     "output_type": "display_data"
    },
    {
     "name": "stdout",
     "output_type": "stream",
     "text": [
      "1.41421356237309*(alpha_1/pi)**0.25*(alpha_2/pi)**0.25*exp(-alpha_1*x_1**2)*exp(-alpha_2*x_2**2)*exp(I*gamma_1/h_b)*exp(I*gamma_2/h_b)*exp(-I*p_1*x_1/h_b)*exp(-I*p_2*x_2/h_b)*Integral(exp(-alpha_1*x**2)*exp(-alpha_2*x**2)*exp(2*alpha_1*x*x_1)*exp(2*alpha_2*x*x_2)*exp(I*p_1*x/h_b)*exp(I*p_2*x/h_b), (x, -oo, oo))\n"
     ]
    }
   ],
   "source": [
    "display(factor(overlap(Q, R)))\n",
    "print(factor(overlap(Q, R)))"
   ]
  },
  {
   "cell_type": "code",
   "execution_count": 7,
   "metadata": {},
   "outputs": [
    {
     "data": {
      "image/png": "[encoded data removed]",
      "text/latex": [
       "$$1.41421356237309 \\left(\\frac{\\alpha_{1}}{\\pi}\\right)^{0.25} \\left(\\frac{\\alpha_{2}}{\\pi}\\right)^{0.25} e^{\\frac{- \\alpha_{1} h_{b} x_{1}^{2} - \\alpha_{2} h_{b} x_{2}^{2} + i \\gamma_{1} + i \\gamma_{2} - i p_{1} x_{1} - i p_{2} x_{2}}{h_{b}}}$$"
      ],
      "text/plain": [
       "                                               2            2                 \n",
       "                                    - α₁⋅h_b⋅x₁  - α₂⋅h_b⋅x₂  + ⅈ⋅γ₁ + ⅈ⋅γ₂ - \n",
       "                     0.25     0.25  ──────────────────────────────────────────\n",
       "                 ⎛α₁⎞     ⎛α₂⎞                                  h_b           \n",
       "1.41421356237309⋅⎜──⎟    ⋅⎜──⎟    ⋅ℯ                                          \n",
       "                 ⎝π ⎠     ⎝π ⎠                                                \n",
       "\n",
       "                 \n",
       "ⅈ⋅p₁⋅x₁ - ⅈ⋅p₂⋅x₂\n",
       "─────────────────\n",
       "                 \n",
       "                 \n",
       "                 "
      ]
     },
     "execution_count": 7,
     "metadata": {},
     "output_type": "execute_result"
    }
   ],
   "source": [
    "Const = 1.41421356237309*(alpha_1/pi)**0.25*(alpha_2/pi)**0.25*exp(-alpha_1*x_1**2)*exp(-alpha_2*x_2**2)*exp(I*gamma_1/h_b)*exp(I*gamma_2/h_b)*exp(-I*p_1*x_1/h_b)*exp(-I*p_2*x_2/h_b)\n",
    "\n",
    "simplify(Const)"
   ]
  },
  {
   "cell_type": "markdown",
   "metadata": {},
   "source": [
    "Please note that the numerical value is equivalent to 4^(1/4):"
   ]
  },
  {
   "cell_type": "code",
   "execution_count": 8,
   "metadata": {},
   "outputs": [
    {
     "data": {
      "image/png": "[encoded data removed]",
      "text/latex": [
       "$$1.4142135623730951$$"
      ],
      "text/plain": [
       "1.4142135623730951"
      ]
     },
     "execution_count": 8,
     "metadata": {},
     "output_type": "execute_result"
    }
   ],
   "source": [
    "4**(1/4)"
   ]
  },
  {
   "cell_type": "markdown",
   "metadata": {},
   "source": [
    "The specific term that is missing is:\n",
    "\n",
    "Most likely this term is still within the integral. Is it possible to factor this term out? How does it affect the final answer?"
   ]
  },
  {
   "cell_type": "code",
   "execution_count": 9,
   "metadata": {},
   "outputs": [
    {
     "data": {
      "image/png": "[encoded data removed]",
      "text/latex": [
       "$$e^{\\frac{i \\left(\\alpha_{1} p_{2} + \\alpha_{2} p_{1}\\right)}{h_{b} \\left(\\alpha_{1} + \\alpha_{2}\\right)}}$$"
      ],
      "text/plain": [
       " ⅈ⋅(α₁⋅p₂ + α₂⋅p₁)\n",
       " ─────────────────\n",
       "   h_b⋅(α₁ + α₂)  \n",
       "ℯ                 "
      ]
     },
     "execution_count": 9,
     "metadata": {},
     "output_type": "execute_result"
    }
   ],
   "source": [
    "exp(I*(alpha_2*p_1 + alpha_1*p_2)/(h_b*(alpha_1 + alpha_2)))"
   ]
  },
  {
   "cell_type": "markdown",
   "metadata": {},
   "source": [
    "Continuing *without* this term leads to:"
   ]
  },
  {
   "cell_type": "code",
   "execution_count": 10,
   "metadata": {
    "scrolled": false
   },
   "outputs": [
    {
     "name": "stdout",
     "output_type": "stream",
     "text": [
      "Piecewise((sqrt(pi)*exp((2*alpha_1*h_b*x_1 + 2*alpha_2*h_b*x_2 + I*p_1 + I*p_2)**2/(4*alpha_1*h_b**2 + 4*alpha_2*h_b**2))/(sqrt(alpha_1)*sqrt(polar_lift(1 + alpha_2/alpha_1))), (pi/2 > Abs(arg(alpha_1) + arg((alpha_1 + alpha_2)/alpha_1))) | ((pi/2 >= Abs(arg(alpha_1) + arg((alpha_1 + alpha_2)/alpha_1))) & (pi > Abs(2*arg(alpha_1) + 2*arg(x_1) + 2*arg(1 + alpha_2*x_2/(alpha_1*x_1)) + 2*arg(1 - p_2/(alpha_1*h_b*x_1*polar_lift(2*exp_polar(I*pi/2)*polar_lift(1 + alpha_2*x_2/(alpha_1*x_1)) - p_1/(alpha_1*h_b*x_1)))) + 2*arg(2 - p_1*exp_polar(-I*pi/2)/(alpha_1*h_b*x_1*polar_lift(1 + alpha_2*x_2/(alpha_1*x_1)))))) & (pi > Abs(2*arg(alpha_1) + 2*arg(x_1) + 2*arg(1 + alpha_2*x_2/(alpha_1*x_1)) + 2*arg(1 - p_2/(alpha_1*h_b*x_1*polar_lift(2*exp_polar(I*pi/2)*polar_lift(1 + alpha_2*x_2/(alpha_1*x_1)) - p_1/(alpha_1*h_b*x_1)))) + 2*arg(2 - p_1*exp_polar(-I*pi/2)/(alpha_1*h_b*x_1*polar_lift(1 + alpha_2*x_2/(alpha_1*x_1)))) + 2*pi)))), (Integral(exp(x*(-alpha_1*h_b*x + 2*alpha_1*h_b*x_1 - alpha_2*h_b*x + 2*alpha_2*h_b*x_2 + I*p_1 + I*p_2)/h_b), (x, -oo, oo)), True))\n"
     ]
    }
   ],
   "source": [
    "I = sqrt(-1)\n",
    "\n",
    "A = ((simplify(Integral(exp(-alpha_1*x**2)*exp(-alpha_2*x**2)*exp(2*alpha_1*x*x_1)*exp(2*alpha_2*x*x_2)*exp(I*p_1*x/h_b)*exp(I*p_2*x/h_b), (x, -oo, oo)).doit())))\n",
    "print(A)"
   ]
  },
  {
   "cell_type": "markdown",
   "metadata": {},
   "source": [
    "The above output is a piecewise function. The first expression of the piecewise was copied and pasted below for clarity:"
   ]
  },
  {
   "cell_type": "code",
   "execution_count": 11,
   "metadata": {},
   "outputs": [
    {
     "data": {
      "image/png": "[encoded data removed]",
      "text/latex": [
       "$$\\frac{\\sqrt{\\pi} e^{\\frac{\\left(2 \\alpha_{1} h_{b} x_{1} + 2 \\alpha_{2} h_{b} x_{2} + i p_{1} + i p_{2}\\right)^{2}}{4 \\alpha_{1} h_{b}^{2} + 4 \\alpha_{2} h_{b}^{2}}}}{\\sqrt{\\alpha_{1}} \\sqrt{\\operatorname{polar\\_lift}{\\left (1 + \\frac{\\alpha_{2}}{\\alpha_{1}} \\right )}}}$$"
      ],
      "text/plain": [
       "                                             2\n",
       "    (2⋅α₁⋅h_b⋅x₁ + 2⋅α₂⋅h_b⋅x₂ + ⅈ⋅p₁ + ⅈ⋅p₂) \n",
       "    ──────────────────────────────────────────\n",
       "                      2           2           \n",
       "              4⋅α₁⋅h_b  + 4⋅α₂⋅h_b            \n",
       "√π⋅ℯ                                          \n",
       "──────────────────────────────────────────────\n",
       "                  ____________________        \n",
       "         ____    ╱           ⎛    α₂⎞         \n",
       "       ╲╱ α₁ ⋅  ╱  polar_lift⎜1 + ──⎟         \n",
       "              ╲╱             ⎝    α₁⎠         "
      ]
     },
     "execution_count": 11,
     "metadata": {},
     "output_type": "execute_result"
    }
   ],
   "source": [
    "B = (sqrt(pi)*exp((2*alpha_1*h_b*x_1 + 2*alpha_2*h_b*x_2 + I*p_1 + I*p_2)**2/(4*alpha_1*h_b**2 + 4*alpha_2*h_b**2))/(sqrt(alpha_1)*sqrt(polar_lift(1 + alpha_2/alpha_1))))\n",
    "\n",
    "B"
   ]
  },
  {
   "cell_type": "markdown",
   "metadata": {},
   "source": [
    "*Note that for the next step (Transition Dipole Moment), it may be easier to leave it in the above form*"
   ]
  },
  {
   "cell_type": "code",
   "execution_count": 12,
   "metadata": {
    "scrolled": true
   },
   "outputs": [
    {
     "data": {
      "image/png": "[encoded data removed]",
      "text/latex": [
       "$$\\frac{1.41421356237309 \\sqrt{\\pi} \\left(\\frac{\\alpha_{1}}{\\pi}\\right)^{0.25} \\left(\\frac{\\alpha_{2}}{\\pi}\\right)^{0.25} e^{\\frac{- \\alpha_{1} h_{b} x_{1}^{2} - \\alpha_{2} h_{b} x_{2}^{2} + i \\gamma_{1} + i \\gamma_{2} - i p_{1} x_{1} - i p_{2} x_{2}}{h_{b}}} e^{\\frac{\\left(2 \\alpha_{1} h_{b} x_{1} + 2 \\alpha_{2} h_{b} x_{2} + i p_{1} + i p_{2}\\right)^{2}}{4 \\alpha_{1} h_{b}^{2} + 4 \\alpha_{2} h_{b}^{2}}}}{\\sqrt{\\alpha_{1}} \\sqrt{\\operatorname{polar\\_lift}{\\left (1 + \\frac{\\alpha_{2}}{\\alpha_{1}} \\right )}}}$$"
      ],
      "text/plain": [
       "                                                                              \n",
       "                                                  2            2              \n",
       "                                       - α₁⋅h_b⋅x₁  - α₂⋅h_b⋅x₂  + ⅈ⋅γ₁ + ⅈ⋅γ₂\n",
       "                        0.25     0.25  ───────────────────────────────────────\n",
       "                    ⎛α₁⎞     ⎛α₂⎞                                  h_b        \n",
       "1.41421356237309⋅√π⋅⎜──⎟    ⋅⎜──⎟    ⋅ℯ                                       \n",
       "                    ⎝π ⎠     ⎝π ⎠                                             \n",
       "──────────────────────────────────────────────────────────────────────────────\n",
       "                                                                  ____________\n",
       "                                                         ____    ╱           ⎛\n",
       "                                                       ╲╱ α₁ ⋅  ╱  polar_lift⎜\n",
       "                                                              ╲╱             ⎝\n",
       "\n",
       "                                                               2\n",
       "                      (2⋅α₁⋅h_b⋅x₁ + 2⋅α₂⋅h_b⋅x₂ + ⅈ⋅p₁ + ⅈ⋅p₂) \n",
       " - ⅈ⋅p₁⋅x₁ - ⅈ⋅p₂⋅x₂  ──────────────────────────────────────────\n",
       "────────────────────                    2           2           \n",
       "                                4⋅α₁⋅h_b  + 4⋅α₂⋅h_b            \n",
       "                    ⋅ℯ                                          \n",
       "                                                                \n",
       "────────────────────────────────────────────────────────────────\n",
       "________                                                        \n",
       "    α₂⎞                                                         \n",
       "1 + ──⎟                                                         \n",
       "    α₁⎠                                                         "
      ]
     },
     "execution_count": 12,
     "metadata": {},
     "output_type": "execute_result"
    }
   ],
   "source": [
    "simplify(Const)*B"
   ]
  },
  {
   "cell_type": "markdown",
   "metadata": {},
   "source": [
    "Note that the above expression is not accurate, yet it shows similar characteristics to the expression computed in the derivations."
   ]
  },
  {
   "cell_type": "markdown",
   "metadata": {},
   "source": [
    "At this time, I am not too sure about the \"polar_lift()\" function shown, but it seems to be something from the sympy library. If this function is ignored, the denominator may be simplified as follows:"
   ]
  },
  {
   "cell_type": "code",
   "execution_count": 13,
   "metadata": {},
   "outputs": [
    {
     "data": {
      "image/png": "[encoded data removed]",
      "text/latex": [
       "$$\\sqrt{\\alpha_{1}} \\sqrt{\\frac{\\alpha_{1} + \\alpha_{2}}{\\alpha_{1}}}$$"
      ],
      "text/plain": [
       "           _________\n",
       "  ____    ╱ α₁ + α₂ \n",
       "╲╱ α₁ ⋅  ╱  ─────── \n",
       "       ╲╱      α₁   "
      ]
     },
     "execution_count": 13,
     "metadata": {},
     "output_type": "execute_result"
    }
   ],
   "source": [
    "simplify(sqrt(alpha_1)*sqrt(1+(alpha_2)/alpha_1))"
   ]
  },
  {
   "cell_type": "markdown",
   "metadata": {},
   "source": [
    "Which is *similar* to the solved integral found in the derivations.\n",
    "\n",
    "There are also similarities in the exponents found in the \"factor(B)\" cell to that of which is listed in the derivations. However, it is unable to be simplified further by python. This is an area of interest to look into."
   ]
  },
  {
   "cell_type": "markdown",
   "metadata": {},
   "source": [
    "# 3. Transition Dipole Moment"
   ]
  },
  {
   "cell_type": "markdown",
   "metadata": {},
   "source": [
    "##### Let's try with the expectation values approach:\n",
    "\n",
    "For this, we need to redefine EXPECTATION() function."
   ]
  },
  {
   "cell_type": "code",
   "execution_count": 14,
   "metadata": {},
   "outputs": [
    {
     "data": {
      "image/png": "[encoded data removed]",
      "text/latex": [
       "$$\\int_{-\\infty}^{\\infty} 1.41421356237309 x \\left(\\frac{\\alpha_{1}}{\\pi}\\right)^{0.25} \\left(\\frac{\\alpha_{2}}{\\pi}\\right)^{0.25} e^{- \\alpha_{1} \\left(x - x_{1}\\right)^{2} - \\frac{i \\gamma_{1}}{h_{b}} - \\frac{i p_{1} \\left(x - x_{1}\\right)}{h_{b}}} e^{- \\alpha_{2} \\left(x - x_{2}\\right)^{2} + \\frac{i \\gamma_{2}}{h_{b}} + \\frac{i p_{2} \\left(x - x_{2}\\right)}{h_{b}}}\\, dx$$"
      ],
      "text/plain": [
       "∞                                                                             \n",
       "⌠                                                                             \n",
       "⎮                                                     2   ⅈ⋅γ₁   ⅈ⋅p₁⋅(x - x₁)\n",
       "⎮                         0.25     0.25  - α₁⋅(x - x₁)  - ──── - ─────────────\n",
       "⎮                     ⎛α₁⎞     ⎛α₂⎞                       h_b         h_b     \n",
       "⎮  1.41421356237309⋅x⋅⎜──⎟    ⋅⎜──⎟    ⋅ℯ                                     \n",
       "⎮                     ⎝π ⎠     ⎝π ⎠                                           \n",
       "⌡                                                                             \n",
       "-∞                                                                            \n",
       "\n",
       "                                          \n",
       "                                          \n",
       "               2   ⅈ⋅γ₂   ⅈ⋅p₂⋅(x - x₂)   \n",
       "  - α₂⋅(x - x₂)  + ──── + ─────────────   \n",
       "                   h_b         h_b        \n",
       "⋅ℯ                                      dx\n",
       "                                          \n",
       "                                          \n",
       "                                          "
      ]
     },
     "execution_count": 14,
     "metadata": {},
     "output_type": "execute_result"
    }
   ],
   "source": [
    "def expectation_new(A, B, C, x, y, z):\n",
    "    return Integral(conjugate(A)*B*C, (x, y, z))\n",
    "\n",
    "expectation_new(R, x, Q, x, -oo, oo)"
   ]
  },
  {
   "cell_type": "markdown",
   "metadata": {},
   "source": [
    "Note that the above is not in the correct order, but it should not matter since there are no derivatives present."
   ]
  },
  {
   "cell_type": "code",
   "execution_count": 15,
   "metadata": {},
   "outputs": [
    {
     "name": "stdout",
     "output_type": "stream",
     "text": [
      "1.41421356237309*(alpha_1/pi)**0.25*(alpha_2/pi)**0.25*exp(-alpha_1*x_1**2)*exp(-alpha_2*x_2**2)*exp(-I*gamma_1/h_b)*exp(I*gamma_2/h_b)*exp(I*p_1*x_1/h_b)*exp(-I*p_2*x_2/h_b)*Integral(x*exp(-alpha_1*x**2)*exp(-alpha_2*x**2)*exp(2*alpha_1*x*x_1)*exp(2*alpha_2*x*x_2)*exp(-I*p_1*x/h_b)*exp(I*p_2*x/h_b), (x, -oo, oo))\n"
     ]
    }
   ],
   "source": [
    "print(factor(expectation_new(R, x, Q, x, -oo, oo)))"
   ]
  },
  {
   "cell_type": "markdown",
   "metadata": {},
   "source": [
    "The above is quite complicated, but the integral can be copied and pasted into the next cell, and the constants can be left alone:"
   ]
  },
  {
   "cell_type": "code",
   "execution_count": 16,
   "metadata": {},
   "outputs": [
    {
     "name": "stdout",
     "output_type": "stream",
     "text": [
      "Piecewise((h_b*(sqrt(pi)*alpha_1**(3/2)*x_1**3*(1 + alpha_2*x_2/(alpha_1*x_1))**3*(1 - I*p_1/(2*alpha_1*h_b*x_1*(1 + alpha_2*x_2/(alpha_1*x_1))))**3*(1 + I*p_2/(2*alpha_1*h_b*x_1*(1 + alpha_2*x_2/(alpha_1*x_1))*(1 - I*p_1/(2*alpha_1*h_b*x_1*(1 + alpha_2*x_2/(alpha_1*x_1))))))**3*(sqrt(pi)*erf(sqrt(alpha_1)*x_1*(1 + alpha_2*x_2/(alpha_1*x_1))*(1 - I*p_1/(2*alpha_1*h_b*x_1*(1 + alpha_2*x_2/(alpha_1*x_1))))*(1 + I*p_2/(2*alpha_1*h_b*x_1*(1 + alpha_2*x_2/(alpha_1*x_1))*(1 - I*p_1/(2*alpha_1*h_b*x_1*(1 + alpha_2*x_2/(alpha_1*x_1))))))/sqrt(polar_lift(1 + alpha_2/alpha_1))) + exp(-alpha_1*x_1**2*(1 + alpha_2*x_2/(alpha_1*x_1))**2*(1 - I*p_1/(2*alpha_1*h_b*x_1*(1 + alpha_2*x_2/(alpha_1*x_1))))**2*(1 + I*p_2/(2*alpha_1*h_b*x_1*(1 + alpha_2*x_2/(alpha_1*x_1))*(1 - I*p_1/(2*alpha_1*h_b*x_1*(1 + alpha_2*x_2/(alpha_1*x_1))))))**2/(1 + alpha_2/alpha_1))*sqrt(polar_lift(1 + alpha_2/alpha_1))/(sqrt(alpha_1)*x_1*(1 + alpha_2*x_2/(alpha_1*x_1))*(1 - I*p_1/(2*alpha_1*h_b*x_1*(1 + alpha_2*x_2/(alpha_1*x_1))))*(1 + I*p_2/(2*alpha_1*h_b*x_1*(1 + alpha_2*x_2/(alpha_1*x_1))*(1 - I*p_1/(2*alpha_1*h_b*x_1*(1 + alpha_2*x_2/(alpha_1*x_1))))))))*exp(alpha_1*x_1**2*(1 + alpha_2*x_2/(alpha_1*x_1))**2*(1 - I*p_1/(2*alpha_1*h_b*x_1*(1 + alpha_2*x_2/(alpha_1*x_1))))**2*(1 + I*p_2/(2*alpha_1*h_b*x_1*(1 + alpha_2*x_2/(alpha_1*x_1))*(1 - I*p_1/(2*alpha_1*h_b*x_1*(1 + alpha_2*x_2/(alpha_1*x_1))))))**2/(1 + alpha_2/alpha_1))/polar_lift(1 + alpha_2/alpha_1)**(3/2) - pi*alpha_1**(3/2)*x_1**3*(1 + alpha_2*x_2/(alpha_1*x_1))**3*(1 - I*p_1/(2*alpha_1*h_b*x_1*(1 + alpha_2*x_2/(alpha_1*x_1))))**3*(1 + I*p_2/(2*alpha_1*h_b*x_1*(1 + alpha_2*x_2/(alpha_1*x_1))*(1 - I*p_1/(2*alpha_1*h_b*x_1*(1 + alpha_2*x_2/(alpha_1*x_1))))))**3*exp(alpha_1*x_1**2*(1 + alpha_2*x_2/(alpha_1*x_1))**2*(1 - I*p_1/(2*alpha_1*h_b*x_1*(1 + alpha_2*x_2/(alpha_1*x_1))))**2*(1 + I*p_2/(2*alpha_1*h_b*x_1*(1 + alpha_2*x_2/(alpha_1*x_1))*(1 - I*p_1/(2*alpha_1*h_b*x_1*(1 + alpha_2*x_2/(alpha_1*x_1))))))**2/(1 + alpha_2/alpha_1))/polar_lift(1 + alpha_2/alpha_1)**(3/2))/(sqrt(pi)*alpha_1*x_1*(1 + alpha_2*x_2/(alpha_1*x_1))*(1 - I*p_1/(2*alpha_1*h_b*x_1*(1 + alpha_2*x_2/(alpha_1*x_1))))*(1 + I*p_2/(2*alpha_1*h_b*x_1*(1 + alpha_2*x_2/(alpha_1*x_1))*(1 - I*p_1/(2*alpha_1*h_b*x_1*(1 + alpha_2*x_2/(alpha_1*x_1))))))**2*(-2*alpha_1*h_b*x_1 - 2*alpha_2*h_b*x_2 + I*p_1)) - h_b*(sqrt(pi)*alpha_1**(3/2)*x_1**3*(1 + alpha_2*x_2/(alpha_1*x_1))**3*(1 - I*p_1/(2*alpha_1*h_b*x_1*(1 + alpha_2*x_2/(alpha_1*x_1))))**3*(1 + I*p_2/(2*alpha_1*h_b*x_1*(1 + alpha_2*x_2/(alpha_1*x_1))*(1 - I*p_1/(2*alpha_1*h_b*x_1*(1 + alpha_2*x_2/(alpha_1*x_1))))))**3*(sqrt(pi)*erf(sqrt(alpha_1)*x_1*(1 + alpha_2*x_2/(alpha_1*x_1))*(1 - I*p_1/(2*alpha_1*h_b*x_1*(1 + alpha_2*x_2/(alpha_1*x_1))))*(1 + I*p_2/(2*alpha_1*h_b*x_1*(1 + alpha_2*x_2/(alpha_1*x_1))*(1 - I*p_1/(2*alpha_1*h_b*x_1*(1 + alpha_2*x_2/(alpha_1*x_1))))))/sqrt(polar_lift(1 + alpha_2/alpha_1))) + exp(-alpha_1*x_1**2*(1 + alpha_2*x_2/(alpha_1*x_1))**2*(1 - I*p_1/(2*alpha_1*h_b*x_1*(1 + alpha_2*x_2/(alpha_1*x_1))))**2*(1 + I*p_2/(2*alpha_1*h_b*x_1*(1 + alpha_2*x_2/(alpha_1*x_1))*(1 - I*p_1/(2*alpha_1*h_b*x_1*(1 + alpha_2*x_2/(alpha_1*x_1))))))**2/(1 + alpha_2/alpha_1))*sqrt(polar_lift(1 + alpha_2/alpha_1))/(sqrt(alpha_1)*x_1*(1 + alpha_2*x_2/(alpha_1*x_1))*(1 - I*p_1/(2*alpha_1*h_b*x_1*(1 + alpha_2*x_2/(alpha_1*x_1))))*(1 + I*p_2/(2*alpha_1*h_b*x_1*(1 + alpha_2*x_2/(alpha_1*x_1))*(1 - I*p_1/(2*alpha_1*h_b*x_1*(1 + alpha_2*x_2/(alpha_1*x_1))))))))*exp(alpha_1*x_1**2*(1 + alpha_2*x_2/(alpha_1*x_1))**2*(1 - I*p_1/(2*alpha_1*h_b*x_1*(1 + alpha_2*x_2/(alpha_1*x_1))))**2*(1 + I*p_2/(2*alpha_1*h_b*x_1*(1 + alpha_2*x_2/(alpha_1*x_1))*(1 - I*p_1/(2*alpha_1*h_b*x_1*(1 + alpha_2*x_2/(alpha_1*x_1))))))**2/(1 + alpha_2/alpha_1))/polar_lift(1 + alpha_2/alpha_1)**(3/2) + pi*alpha_1**(3/2)*x_1**3*(1 + alpha_2*x_2/(alpha_1*x_1))**3*(1 - I*p_1/(2*alpha_1*h_b*x_1*(1 + alpha_2*x_2/(alpha_1*x_1))))**3*(1 + I*p_2/(2*alpha_1*h_b*x_1*(1 + alpha_2*x_2/(alpha_1*x_1))*(1 - I*p_1/(2*alpha_1*h_b*x_1*(1 + alpha_2*x_2/(alpha_1*x_1))))))**3*exp(alpha_1*x_1**2*(1 + alpha_2*x_2/(alpha_1*x_1))**2*(1 - I*p_1/(2*alpha_1*h_b*x_1*(1 + alpha_2*x_2/(alpha_1*x_1))))**2*(1 + I*p_2/(2*alpha_1*h_b*x_1*(1 + alpha_2*x_2/(alpha_1*x_1))*(1 - I*p_1/(2*alpha_1*h_b*x_1*(1 + alpha_2*x_2/(alpha_1*x_1))))))**2/(1 + alpha_2/alpha_1))/polar_lift(1 + alpha_2/alpha_1)**(3/2))/(sqrt(pi)*alpha_1*x_1*(1 + alpha_2*x_2/(alpha_1*x_1))*(1 - I*p_1/(2*alpha_1*h_b*x_1*(1 + alpha_2*x_2/(alpha_1*x_1))))*(1 + I*p_2/(2*alpha_1*h_b*x_1*(1 + alpha_2*x_2/(alpha_1*x_1))*(1 - I*p_1/(2*alpha_1*h_b*x_1*(1 + alpha_2*x_2/(alpha_1*x_1))))))**2*(-2*alpha_1*h_b*x_1 - 2*alpha_2*h_b*x_2 + I*p_1)), ((pi/2 > Abs(arg(alpha_1) + arg(1 + alpha_2/alpha_1))) | ((pi/2 >= Abs(arg(alpha_1) + arg(1 + alpha_2/alpha_1))) & (pi > Abs(2*arg(alpha_1) + 2*arg(x_1) + 2*arg(1 + alpha_2*x_2/(alpha_1*x_1)) + 2*arg(1 - p_1*exp_polar(I*pi/2)/(2*alpha_1*h_b*x_1*polar_lift(1 + alpha_2*x_2/(alpha_1*x_1)))) + 2*arg(1 - p_2*exp_polar(-I*pi/2)/(2*alpha_1*h_b*x_1*polar_lift(1 + alpha_2*x_2/(alpha_1*x_1))*polar_lift(1 - p_1*exp_polar(I*pi/2)/(2*alpha_1*h_b*x_1*polar_lift(1 + alpha_2*x_2/(alpha_1*x_1))))))))) | ((pi/2 > Abs(arg(alpha_1) + arg(1 + alpha_2/alpha_1))) & (pi >= Abs(2*arg(alpha_1) + 2*arg(x_1) + 2*arg(1 + alpha_2*x_2/(alpha_1*x_1)) + 2*arg(1 - p_1*exp_polar(I*pi/2)/(2*alpha_1*h_b*x_1*polar_lift(1 + alpha_2*x_2/(alpha_1*x_1)))) + 2*arg(1 - p_2*exp_polar(-I*pi/2)/(2*alpha_1*h_b*x_1*polar_lift(1 + alpha_2*x_2/(alpha_1*x_1))*polar_lift(1 - p_1*exp_polar(I*pi/2)/(2*alpha_1*h_b*x_1*polar_lift(1 + alpha_2*x_2/(alpha_1*x_1))))))))) | ((pi/2 > Abs(arg(alpha_1) + arg(1 + alpha_2/alpha_1))) & (pi > Abs(2*arg(alpha_1) + 2*arg(x_1) + 2*arg(1 + alpha_2*x_2/(alpha_1*x_1)) + 2*arg(1 - p_1*exp_polar(I*pi/2)/(2*alpha_1*h_b*x_1*polar_lift(1 + alpha_2*x_2/(alpha_1*x_1)))) + 2*arg(1 - p_2*exp_polar(-I*pi/2)/(2*alpha_1*h_b*x_1*polar_lift(1 + alpha_2*x_2/(alpha_1*x_1))*polar_lift(1 - p_1*exp_polar(I*pi/2)/(2*alpha_1*h_b*x_1*polar_lift(1 + alpha_2*x_2/(alpha_1*x_1)))))))))) & ((pi/2 > Abs(arg(alpha_1) + arg(1 + alpha_2/alpha_1))) | ((pi/2 >= Abs(arg(alpha_1) + arg(1 + alpha_2/alpha_1))) & (pi > Abs(2*arg(alpha_1) + 2*arg(x_1) + 2*arg(1 + alpha_2*x_2/(alpha_1*x_1)) + 2*arg(1 - p_1*exp_polar(I*pi/2)/(2*alpha_1*h_b*x_1*polar_lift(1 + alpha_2*x_2/(alpha_1*x_1)))) + 2*arg(1 - p_2*exp_polar(-I*pi/2)/(2*alpha_1*h_b*x_1*polar_lift(1 + alpha_2*x_2/(alpha_1*x_1))*polar_lift(1 - p_1*exp_polar(I*pi/2)/(2*alpha_1*h_b*x_1*polar_lift(1 + alpha_2*x_2/(alpha_1*x_1)))))) + 2*pi))) | ((pi/2 > Abs(arg(alpha_1) + arg(1 + alpha_2/alpha_1))) & (pi >= Abs(2*arg(alpha_1) + 2*arg(x_1) + 2*arg(1 + alpha_2*x_2/(alpha_1*x_1)) + 2*arg(1 - p_1*exp_polar(I*pi/2)/(2*alpha_1*h_b*x_1*polar_lift(1 + alpha_2*x_2/(alpha_1*x_1)))) + 2*arg(1 - p_2*exp_polar(-I*pi/2)/(2*alpha_1*h_b*x_1*polar_lift(1 + alpha_2*x_2/(alpha_1*x_1))*polar_lift(1 - p_1*exp_polar(I*pi/2)/(2*alpha_1*h_b*x_1*polar_lift(1 + alpha_2*x_2/(alpha_1*x_1)))))) + 2*pi))) | ((pi/2 > Abs(arg(alpha_1) + arg(1 + alpha_2/alpha_1))) & (pi > Abs(2*arg(alpha_1) + 2*arg(x_1) + 2*arg(1 + alpha_2*x_2/(alpha_1*x_1)) + 2*arg(1 - p_1*exp_polar(I*pi/2)/(2*alpha_1*h_b*x_1*polar_lift(1 + alpha_2*x_2/(alpha_1*x_1)))) + 2*arg(1 - p_2*exp_polar(-I*pi/2)/(2*alpha_1*h_b*x_1*polar_lift(1 + alpha_2*x_2/(alpha_1*x_1))*polar_lift(1 - p_1*exp_polar(I*pi/2)/(2*alpha_1*h_b*x_1*polar_lift(1 + alpha_2*x_2/(alpha_1*x_1)))))) + 2*pi))))), (Integral(x*exp(x*(-alpha_1*h_b*x + 2*alpha_1*h_b*x_1 - alpha_2*h_b*x + 2*alpha_2*h_b*x_2 - I*p_1 + I*p_2)/h_b), (x, -oo, oo)), True))\n"
     ]
    }
   ],
   "source": [
    "print(simplify(Integral(x*exp(-alpha_1*x**2)*exp(-alpha_2*x**2)*exp(2*alpha_1*x*x_1)*exp(2*alpha_2*x*x_2)*exp(-I*p_1*x/h_b)*exp(I*p_2*x/h_b), (x, -oo, oo))).doit())"
   ]
  },
  {
   "cell_type": "markdown",
   "metadata": {},
   "source": [
    "The above is *EXTREMELY* complicated. HOWEVER, by doing ctrl+F (find function for windows), we can look for \">\" symbol which indicates where the piecewise function is. The expression before this can then be copied and pasted into the next cell:"
   ]
  },
  {
   "cell_type": "code",
   "execution_count": 17,
   "metadata": {},
   "outputs": [
    {
     "data": {
      "image/png": "[encoded data removed]",
      "text/latex": [
       "$$\\frac{\\sqrt{\\pi} \\left(2 h_{b} \\left(\\alpha_{1} x_{1} + \\alpha_{2} x_{2}\\right) - i p_{1}\\right) \\left(2 h_{b} \\left(\\alpha_{1} x_{1} + \\alpha_{2} x_{2}\\right) - i p_{1} + i p_{2}\\right) e^{\\frac{\\left(2 h_{b} \\left(\\alpha_{1} x_{1} + \\alpha_{2} x_{2}\\right) - i p_{1} + i p_{2}\\right)^{2}}{4 h_{b}^{2} \\left(\\alpha_{1} + \\alpha_{2}\\right)}}}{2 \\alpha_{1}^{1.5} h_{b} \\left(2 \\alpha_{1} h_{b} x_{1} + 2 \\alpha_{2} h_{b} x_{2} - i p_{1}\\right) \\operatorname{polar\\_lift}^{1.5}{\\left (\\frac{\\alpha_{1} + \\alpha_{2}}{\\alpha_{1}} \\right )}}$$"
      ],
      "text/plain": [
       "                                                                              \n",
       "                                                                              \n",
       "                                                                              \n",
       "                                                                              \n",
       "  -1.5                                                                        \n",
       "α₁    ⋅√π⋅(2⋅h_b⋅(α₁⋅x₁ + α₂⋅x₂) - ⅈ⋅p₁)⋅(2⋅h_b⋅(α₁⋅x₁ + α₂⋅x₂) - ⅈ⋅p₁ + ⅈ⋅p₂)\n",
       "                                                                              \n",
       "──────────────────────────────────────────────────────────────────────────────\n",
       "                                                   2⋅h_b⋅(2⋅α₁⋅h_b⋅x₁ + 2⋅α₂⋅h\n",
       "\n",
       "                                       2                        \n",
       "  (2⋅h_b⋅(α₁⋅x₁ + α₂⋅x₂) - ⅈ⋅p₁ + ⅈ⋅p₂)                         \n",
       "  ──────────────────────────────────────                        \n",
       "                  2                                             \n",
       "             4⋅h_b ⋅(α₁ + α₂)                      -1.5⎛α₁ + α₂⎞\n",
       "⋅ℯ                                      ⋅polar_lift    ⎜───────⎟\n",
       "                                                       ⎝   α₁  ⎠\n",
       "────────────────────────────────────────────────────────────────\n",
       "_b⋅x₂ - ⅈ⋅p₁)                                                   "
      ]
     },
     "execution_count": 17,
     "metadata": {},
     "output_type": "execute_result"
    }
   ],
   "source": [
    "E = (h_b*(sqrt(pi)*alpha_1**(3/2)*x_1**3*(1 + alpha_2*x_2/(alpha_1*x_1))**3*(1 - I*p_1/(2*alpha_1*h_b*x_1*(1 + alpha_2*x_2/(alpha_1*x_1))))**3*(1 + I*p_2/(2*alpha_1*h_b*x_1*(1 + alpha_2*x_2/(alpha_1*x_1))*(1 - I*p_1/(2*alpha_1*h_b*x_1*(1 + alpha_2*x_2/(alpha_1*x_1))))))**3*(sqrt(pi)*erf(sqrt(alpha_1)*x_1*(1 + alpha_2*x_2/(alpha_1*x_1))*(1 - I*p_1/(2*alpha_1*h_b*x_1*(1 + alpha_2*x_2/(alpha_1*x_1))))*(1 + I*p_2/(2*alpha_1*h_b*x_1*(1 + alpha_2*x_2/(alpha_1*x_1))*(1 - I*p_1/(2*alpha_1*h_b*x_1*(1 + alpha_2*x_2/(alpha_1*x_1))))))/sqrt(polar_lift(1 + alpha_2/alpha_1))) + exp(-alpha_1*x_1**2*(1 + alpha_2*x_2/(alpha_1*x_1))**2*(1 - I*p_1/(2*alpha_1*h_b*x_1*(1 + alpha_2*x_2/(alpha_1*x_1))))**2*(1 + I*p_2/(2*alpha_1*h_b*x_1*(1 + alpha_2*x_2/(alpha_1*x_1))*(1 - I*p_1/(2*alpha_1*h_b*x_1*(1 + alpha_2*x_2/(alpha_1*x_1))))))**2/(1 + alpha_2/alpha_1))*sqrt(polar_lift(1 + alpha_2/alpha_1))/(sqrt(alpha_1)*x_1*(1 + alpha_2*x_2/(alpha_1*x_1))*(1 - I*p_1/(2*alpha_1*h_b*x_1*(1 + alpha_2*x_2/(alpha_1*x_1))))*(1 + I*p_2/(2*alpha_1*h_b*x_1*(1 + alpha_2*x_2/(alpha_1*x_1))*(1 - I*p_1/(2*alpha_1*h_b*x_1*(1 + alpha_2*x_2/(alpha_1*x_1))))))))*exp(alpha_1*x_1**2*(1 + alpha_2*x_2/(alpha_1*x_1))**2*(1 - I*p_1/(2*alpha_1*h_b*x_1*(1 + alpha_2*x_2/(alpha_1*x_1))))**2*(1 + I*p_2/(2*alpha_1*h_b*x_1*(1 + alpha_2*x_2/(alpha_1*x_1))*(1 - I*p_1/(2*alpha_1*h_b*x_1*(1 + alpha_2*x_2/(alpha_1*x_1))))))**2/(1 + alpha_2/alpha_1))/polar_lift(1 + alpha_2/alpha_1)**(3/2) - pi*alpha_1**(3/2)*x_1**3*(1 + alpha_2*x_2/(alpha_1*x_1))**3*(1 - I*p_1/(2*alpha_1*h_b*x_1*(1 + alpha_2*x_2/(alpha_1*x_1))))**3*(1 + I*p_2/(2*alpha_1*h_b*x_1*(1 + alpha_2*x_2/(alpha_1*x_1))*(1 - I*p_1/(2*alpha_1*h_b*x_1*(1 + alpha_2*x_2/(alpha_1*x_1))))))**3*exp(alpha_1*x_1**2*(1 + alpha_2*x_2/(alpha_1*x_1))**2*(1 - I*p_1/(2*alpha_1*h_b*x_1*(1 + alpha_2*x_2/(alpha_1*x_1))))**2*(1 + I*p_2/(2*alpha_1*h_b*x_1*(1 + alpha_2*x_2/(alpha_1*x_1))*(1 - I*p_1/(2*alpha_1*h_b*x_1*(1 + alpha_2*x_2/(alpha_1*x_1))))))**2/(1 + alpha_2/alpha_1))/polar_lift(1 + alpha_2/alpha_1)**(3/2))/(sqrt(pi)*alpha_1*x_1*(1 + alpha_2*x_2/(alpha_1*x_1))*(1 - I*p_1/(2*alpha_1*h_b*x_1*(1 + alpha_2*x_2/(alpha_1*x_1))))*(1 + I*p_2/(2*alpha_1*h_b*x_1*(1 + alpha_2*x_2/(alpha_1*x_1))*(1 - I*p_1/(2*alpha_1*h_b*x_1*(1 + alpha_2*x_2/(alpha_1*x_1))))))**2*(-2*alpha_1*h_b*x_1 - 2*alpha_2*h_b*x_2 + I*p_1)) - h_b*(sqrt(pi)*alpha_1**(3/2)*x_1**3*(1 + alpha_2*x_2/(alpha_1*x_1))**3*(1 - I*p_1/(2*alpha_1*h_b*x_1*(1 + alpha_2*x_2/(alpha_1*x_1))))**3*(1 + I*p_2/(2*alpha_1*h_b*x_1*(1 + alpha_2*x_2/(alpha_1*x_1))*(1 - I*p_1/(2*alpha_1*h_b*x_1*(1 + alpha_2*x_2/(alpha_1*x_1))))))**3*(sqrt(pi)*erf(sqrt(alpha_1)*x_1*(1 + alpha_2*x_2/(alpha_1*x_1))*(1 - I*p_1/(2*alpha_1*h_b*x_1*(1 + alpha_2*x_2/(alpha_1*x_1))))*(1 + I*p_2/(2*alpha_1*h_b*x_1*(1 + alpha_2*x_2/(alpha_1*x_1))*(1 - I*p_1/(2*alpha_1*h_b*x_1*(1 + alpha_2*x_2/(alpha_1*x_1))))))/sqrt(polar_lift(1 + alpha_2/alpha_1))) + exp(-alpha_1*x_1**2*(1 + alpha_2*x_2/(alpha_1*x_1))**2*(1 - I*p_1/(2*alpha_1*h_b*x_1*(1 + alpha_2*x_2/(alpha_1*x_1))))**2*(1 + I*p_2/(2*alpha_1*h_b*x_1*(1 + alpha_2*x_2/(alpha_1*x_1))*(1 - I*p_1/(2*alpha_1*h_b*x_1*(1 + alpha_2*x_2/(alpha_1*x_1))))))**2/(1 + alpha_2/alpha_1))*sqrt(polar_lift(1 + alpha_2/alpha_1))/(sqrt(alpha_1)*x_1*(1 + alpha_2*x_2/(alpha_1*x_1))*(1 - I*p_1/(2*alpha_1*h_b*x_1*(1 + alpha_2*x_2/(alpha_1*x_1))))*(1 + I*p_2/(2*alpha_1*h_b*x_1*(1 + alpha_2*x_2/(alpha_1*x_1))*(1 - I*p_1/(2*alpha_1*h_b*x_1*(1 + alpha_2*x_2/(alpha_1*x_1))))))))*exp(alpha_1*x_1**2*(1 + alpha_2*x_2/(alpha_1*x_1))**2*(1 - I*p_1/(2*alpha_1*h_b*x_1*(1 + alpha_2*x_2/(alpha_1*x_1))))**2*(1 + I*p_2/(2*alpha_1*h_b*x_1*(1 + alpha_2*x_2/(alpha_1*x_1))*(1 - I*p_1/(2*alpha_1*h_b*x_1*(1 + alpha_2*x_2/(alpha_1*x_1))))))**2/(1 + alpha_2/alpha_1))/polar_lift(1 + alpha_2/alpha_1)**(3/2) + pi*alpha_1**(3/2)*x_1**3*(1 + alpha_2*x_2/(alpha_1*x_1))**3*(1 - I*p_1/(2*alpha_1*h_b*x_1*(1 + alpha_2*x_2/(alpha_1*x_1))))**3*(1 + I*p_2/(2*alpha_1*h_b*x_1*(1 + alpha_2*x_2/(alpha_1*x_1))*(1 - I*p_1/(2*alpha_1*h_b*x_1*(1 + alpha_2*x_2/(alpha_1*x_1))))))**3*exp(alpha_1*x_1**2*(1 + alpha_2*x_2/(alpha_1*x_1))**2*(1 - I*p_1/(2*alpha_1*h_b*x_1*(1 + alpha_2*x_2/(alpha_1*x_1))))**2*(1 + I*p_2/(2*alpha_1*h_b*x_1*(1 + alpha_2*x_2/(alpha_1*x_1))*(1 - I*p_1/(2*alpha_1*h_b*x_1*(1 + alpha_2*x_2/(alpha_1*x_1))))))**2/(1 + alpha_2/alpha_1))/polar_lift(1 + alpha_2/alpha_1)**(3/2))/(sqrt(pi)*alpha_1*x_1*(1 + alpha_2*x_2/(alpha_1*x_1))*(1 - I*p_1/(2*alpha_1*h_b*x_1*(1 + alpha_2*x_2/(alpha_1*x_1))))*(1 + I*p_2/(2*alpha_1*h_b*x_1*(1 + alpha_2*x_2/(alpha_1*x_1))*(1 - I*p_1/(2*alpha_1*h_b*x_1*(1 + alpha_2*x_2/(alpha_1*x_1))))))**2*(-2*alpha_1*h_b*x_1 - 2*alpha_2*h_b*x_2 + I*p_1)))\n",
    "\n",
    "simplify(E)"
   ]
  },
  {
   "cell_type": "markdown",
   "metadata": {},
   "source": [
    "This is \"simpler\", yet still incredibly complicated. We know from the derivations that the Transition Dipole Moment is an expression multiplied by the overlap found in part *2*.\n",
    "\n",
    "There are in fact similarities between the two, such as the pi term, the exp() term, and in the denominator the a_1**(3/2) and polar_lift()** (3/2) terms. It is interesting that the denominator terms are to the (3/2) power instead of (1/2) as in the overlap example.\n",
    "\n",
    "It is of interest to find a way to automatically factor these terms out to leave the expression multipled by the overlap.\n",
    "\n",
    "That all being said, there are similarities between this answer and the answer given in the derivations. If this was able to be simplified, it would be highly effective to use the methods described. \n",
    "\n",
    "Also note that, similarly to the overlap example, we have \"ignored\" the constants that were originally factored out of the integral. This is for simplicity, but it is not accurate to delete these terms from the expression. "
   ]
  },
  {
   "cell_type": "markdown",
   "metadata": {},
   "source": [
    "# 4. Derivative Coupling"
   ]
  },
  {
   "cell_type": "markdown",
   "metadata": {},
   "source": [
    "The derivative coupling is equivalent to differentiating the second Gaussian term (the \"ket\" term):"
   ]
  },
  {
   "cell_type": "code",
   "execution_count": 18,
   "metadata": {},
   "outputs": [
    {
     "data": {
      "image/png": "[encoded data removed]",
      "text/latex": [
       "$$\\frac{\\partial}{\\partial x} 1.18920711500272 \\left(\\frac{\\alpha_{2}}{\\pi}\\right)^{0.25} e^{\\frac{I \\gamma_{2}}{h_{b}} + \\frac{I p_{2} \\left(x - x_{2}\\right)}{h_{b}} - \\alpha_{2} \\left(x - x_{2}\\right)^{2}}$$"
      ],
      "text/plain": [
       "  ⎛                           I⋅γ₂   I⋅p₂⋅(x - x₂)              2⎞\n",
       "  ⎜                     0.25  ──── + ───────────── - α₂⋅(x - x₂) ⎟\n",
       "∂ ⎜                 ⎛α₂⎞      h_b         h_b                    ⎟\n",
       "──⎜1.18920711500272⋅⎜──⎟    ⋅ℯ                                   ⎟\n",
       "∂x⎝                 ⎝π ⎠                                         ⎠"
      ]
     },
     "execution_count": 18,
     "metadata": {},
     "output_type": "execute_result"
    }
   ],
   "source": [
    "Derivative(Q, x)"
   ]
  },
  {
   "cell_type": "code",
   "execution_count": 19,
   "metadata": {},
   "outputs": [
    {
     "data": {
      "image/png": "[encoded data removed]",
      "text/latex": [
       "$$1.18920711500272 \\left(\\frac{\\alpha_{2}}{\\pi}\\right)^{0.25} \\left(\\frac{I p_{2}}{h_{b}} - \\alpha_{2} \\left(2 x - 2 x_{2}\\right)\\right) e^{\\frac{I \\gamma_{2}}{h_{b}} + \\frac{I p_{2} \\left(x - x_{2}\\right)}{h_{b}} - \\alpha_{2} \\left(x - x_{2}\\right)^{2}}$$"
      ],
      "text/plain": [
       "                                                    I⋅γ₂   I⋅p₂⋅(x - x₂)      \n",
       "                     0.25                           ──── + ───────────── - α₂⋅\n",
       "                 ⎛α₂⎞     ⎛I⋅p₂                  ⎞  h_b         h_b           \n",
       "1.18920711500272⋅⎜──⎟    ⋅⎜──── - α₂⋅(2⋅x - 2⋅x₂)⎟⋅ℯ                          \n",
       "                 ⎝π ⎠     ⎝h_b                   ⎠                            \n",
       "\n",
       "        2\n",
       "(x - x₂) \n",
       "         \n",
       "         \n",
       "         "
      ]
     },
     "execution_count": 19,
     "metadata": {},
     "output_type": "execute_result"
    }
   ],
   "source": [
    "Derivative(Q, x).doit()"
   ]
  },
  {
   "cell_type": "markdown",
   "metadata": {},
   "source": [
    "The above term is equivalent to the ket function, Q, multiplied by the expression:"
   ]
  },
  {
   "cell_type": "code",
   "execution_count": 20,
   "metadata": {},
   "outputs": [
    {
     "data": {
      "image/png": "[encoded data removed]",
      "text/latex": [
       "$$- 2 \\alpha_{2} \\left(x - x_{2}\\right) + \\frac{i p_{2}}{h_{b}}$$"
      ],
      "text/plain": [
       "                 ⅈ⋅p₂\n",
       "-2⋅α₂⋅(x - x₂) + ────\n",
       "                 h_b "
      ]
     },
     "execution_count": 20,
     "metadata": {},
     "output_type": "execute_result"
    }
   ],
   "source": [
    "I = sqrt(-1)\n",
    "\n",
    "((I*p_2)/h_b) - 2*alpha_2*(x - x_2)"
   ]
  },
  {
   "cell_type": "markdown",
   "metadata": {},
   "source": [
    "This is equivalent to what is given in the derivations, and is equivalent to:"
   ]
  },
  {
   "cell_type": "code",
   "execution_count": 21,
   "metadata": {},
   "outputs": [
    {
     "data": {
      "image/png": "[encoded data removed]",
      "text/latex": [
       "$$- 2 \\alpha_{2} \\mu + 2 \\alpha_{2} x_{2} + \\frac{i p_{2}}{h_{b}}$$"
      ],
      "text/plain": [
       "                    ⅈ⋅p₂\n",
       "-2⋅α₂⋅μ + 2⋅α₂⋅x₂ + ────\n",
       "                    h_b "
      ]
     },
     "execution_count": 21,
     "metadata": {},
     "output_type": "execute_result"
    }
   ],
   "source": [
    "-2*alpha_2*mu + 2*alpha_2*x_2 + (I*p_2)/h_b"
   ]
  },
  {
   "cell_type": "markdown",
   "metadata": {},
   "source": [
    "Note that this expression should be multiplied by the overlap, S_12, but this term is ommitted for clarity."
   ]
  },
  {
   "cell_type": "code",
   "execution_count": 22,
   "metadata": {},
   "outputs": [
    {
     "data": {
      "image/png": "[encoded data removed]",
      "text/latex": [
       "$$\\frac{\\alpha_{1} x_{1} + \\alpha_{2} x_{2}}{\\alpha_{1} + \\alpha_{2}} + \\frac{i \\left(- p_{1} + p_{2}\\right)}{2 h_{b} \\left(\\alpha_{1} + \\alpha_{2}\\right)}$$"
      ],
      "text/plain": [
       "α₁⋅x₁ + α₂⋅x₂     ⅈ⋅(-p₁ + p₂) \n",
       "───────────── + ───────────────\n",
       "   α₁ + α₂      2⋅h_b⋅(α₁ + α₂)"
      ]
     },
     "execution_count": 22,
     "metadata": {},
     "output_type": "execute_result"
    }
   ],
   "source": [
    "mu = (alpha_2*x_2 + alpha_1*x_1)/(alpha_1 + alpha_2) + I/(2*h_b)*(p_2 - p_1)/(alpha_1 + alpha_2)\n",
    "\n",
    "mu"
   ]
  },
  {
   "cell_type": "code",
   "execution_count": 23,
   "metadata": {},
   "outputs": [
    {
     "data": {
      "image/png": "[encoded data removed]",
      "text/latex": [
       "$$\\frac{- 2 \\alpha_{1} \\alpha_{2} h_{b} x_{1} + 2 \\alpha_{1} \\alpha_{2} h_{b} x_{2} + i \\alpha_{1} p_{2} + i \\alpha_{2} p_{1}}{h_{b} \\left(\\alpha_{1} + \\alpha_{2}\\right)}$$"
      ],
      "text/plain": [
       "-2⋅α₁⋅α₂⋅h_b⋅x₁ + 2⋅α₁⋅α₂⋅h_b⋅x₂ + ⅈ⋅α₁⋅p₂ + ⅈ⋅α₂⋅p₁\n",
       "────────────────────────────────────────────────────\n",
       "                   h_b⋅(α₁ + α₂)                    "
      ]
     },
     "execution_count": 23,
     "metadata": {},
     "output_type": "execute_result"
    }
   ],
   "source": [
    "simplify(-2*alpha_2*mu + 2*alpha_2*x_2 + (I*p_2)/h_b)"
   ]
  },
  {
   "cell_type": "markdown",
   "metadata": {},
   "source": [
    "This is equivalent to what is present in the derivations."
   ]
  },
  {
   "cell_type": "markdown",
   "metadata": {},
   "source": [
    "#### However, let's look into the expectation value approach:"
   ]
  },
  {
   "cell_type": "code",
   "execution_count": 18,
   "metadata": {},
   "outputs": [
    {
     "name": "stdout",
     "output_type": "stream",
     "text": [
      "-1.68179283050743*(alpha_1/pi)**0.25*(alpha_2/pi)**0.5*exp(-alpha_1*x_1**2)*exp(-2*alpha_2*x_2**2)*exp(-I*gamma_1/h_b)*exp(2*I*gamma_2/h_b)*exp(I*p_1*x_1/h_b)*exp(-2*I*p_2*x_2/h_b)*Integral((2*alpha_2*h_b*x - 2*alpha_2*h_b*x_2 - I*p_2)*exp(-alpha_1*x**2)*exp(-2*alpha_2*x**2)*exp(2*alpha_1*x*x_1)*exp(4*alpha_2*x*x_2)*exp(-I*p_1*x/h_b)*exp(2*I*p_2*x/h_b), (x, -oo, oo))/h_b\n"
     ]
    }
   ],
   "source": [
    "P = Derivative(Q, x).doit()\n",
    "\n",
    "print(factor(expectation_new(R, P, Q, x, -oo, oo)))"
   ]
  },
  {
   "cell_type": "code",
   "execution_count": 19,
   "metadata": {},
   "outputs": [
    {
     "data": {
      "image/png": "[encoded data removed]",
      "text/latex": [
       "$$\\int_{-\\infty}^{\\infty} \\left(2 \\alpha_{2} h_{b} x - 2 \\alpha_{2} h_{b} x_{2} - i p_{2}\\right) e^{- \\alpha_{1} x^{2}} e^{- 2 \\alpha_{2} x^{2}} e^{2 \\alpha_{1} x x_{1}} e^{4 \\alpha_{2} x x_{2}} e^{- \\frac{i p_{1} x}{h_{b}}} e^{\\frac{2 i p_{2} x}{h_{b}}}\\, dx$$"
      ],
      "text/plain": [
       "∞                                                                             \n",
       "⌠                                                                             \n",
       "⎮                                                                             \n",
       "⎮                                          2         2                        \n",
       "⎮                                     -α₁⋅x   -2⋅α₂⋅x   2⋅α₁⋅x⋅x₁  4⋅α₂⋅x⋅x₂  \n",
       "⎮  (2⋅α₂⋅h_b⋅x - 2⋅α₂⋅h_b⋅x₂ - ⅈ⋅p₂)⋅ℯ      ⋅ℯ        ⋅ℯ         ⋅ℯ         ⋅ℯ\n",
       "⌡                                                                             \n",
       "-∞                                                                            \n",
       "\n",
       "                     \n",
       "                     \n",
       "-ⅈ⋅p₁⋅x   2⋅ⅈ⋅p₂⋅x   \n",
       "────────  ────────   \n",
       "  h_b       h_b      \n",
       "        ⋅ℯ         dx\n",
       "                     \n",
       "                     "
      ]
     },
     "execution_count": 19,
     "metadata": {},
     "output_type": "execute_result"
    }
   ],
   "source": [
    "INT = Integral((-I*p_2 + 2*alpha_2*h_b*x - 2*alpha_2*h_b*x_2)*exp(-alpha_1*x**2)*exp(-2*alpha_2*x**2)*exp(2*alpha_1*x*x_1)*exp(4*alpha_2*x*x_2)*exp(-I*p_1*x/h_b)*exp(2*I*p_2*x/h_b), (x, -oo, oo))\n",
    "\n",
    "INT"
   ]
  },
  {
   "cell_type": "code",
   "execution_count": 20,
   "metadata": {},
   "outputs": [
    {
     "name": "stdout",
     "output_type": "stream",
     "text": [
      "Piecewise((2*alpha_2*h_b**2*x_2*(-pi*alpha_2*x_2*(1 - I*p_1/(2*alpha_2*h_b*x_2*(alpha_1*x_1/(alpha_2*x_2) + 2)))*(1 + I*p_2/(alpha_2*h_b*x_2*(1 - I*p_1/(2*alpha_2*h_b*x_2*(alpha_1*x_1/(alpha_2*x_2) + 2)))*(alpha_1*x_1/(alpha_2*x_2) + 2)))*(alpha_1*x_1/(alpha_2*x_2) + 2)*exp(alpha_2**2*x_2**2*(1 - I*p_1/(2*alpha_2*h_b*x_2*(alpha_1*x_1/(alpha_2*x_2) + 2)))**2*(1 + I*p_2/(alpha_2*h_b*x_2*(1 - I*p_1/(2*alpha_2*h_b*x_2*(alpha_1*x_1/(alpha_2*x_2) + 2)))*(alpha_1*x_1/(alpha_2*x_2) + 2)))**2*(alpha_1*x_1/(alpha_2*x_2) + 2)**2/(alpha_1*(1 + 2*alpha_2/alpha_1)))*erf(alpha_2*x_2*(1 - I*p_1/(2*alpha_2*h_b*x_2*(alpha_1*x_1/(alpha_2*x_2) + 2)))*(1 + I*p_2/(alpha_2*h_b*x_2*(1 - I*p_1/(2*alpha_2*h_b*x_2*(alpha_1*x_1/(alpha_2*x_2) + 2)))*(alpha_1*x_1/(alpha_2*x_2) + 2)))*(alpha_1*x_1/(alpha_2*x_2) + 2)/(sqrt(alpha_1)*sqrt(polar_lift(1 + 2*alpha_2/alpha_1))))/(sqrt(alpha_1)*sqrt(polar_lift(1 + 2*alpha_2/alpha_1))) + pi*alpha_2*x_2*(1 - I*p_1/(2*alpha_2*h_b*x_2*(alpha_1*x_1/(alpha_2*x_2) + 2)))*(1 + I*p_2/(alpha_2*h_b*x_2*(1 - I*p_1/(2*alpha_2*h_b*x_2*(alpha_1*x_1/(alpha_2*x_2) + 2)))*(alpha_1*x_1/(alpha_2*x_2) + 2)))*(alpha_1*x_1/(alpha_2*x_2) + 2)*exp(alpha_2**2*x_2**2*(1 - I*p_1/(2*alpha_2*h_b*x_2*(alpha_1*x_1/(alpha_2*x_2) + 2)))**2*(1 + I*p_2/(alpha_2*h_b*x_2*(1 - I*p_1/(2*alpha_2*h_b*x_2*(alpha_1*x_1/(alpha_2*x_2) + 2)))*(alpha_1*x_1/(alpha_2*x_2) + 2)))**2*(alpha_1*x_1/(alpha_2*x_2) + 2)**2/(alpha_1*(1 + 2*alpha_2/alpha_1)))/(sqrt(alpha_1)*sqrt(polar_lift(1 + 2*alpha_2/alpha_1))))/(sqrt(pi)*(1 + I*p_2/(alpha_2*h_b*x_2*(1 - I*p_1/(2*alpha_2*h_b*x_2*(alpha_1*x_1/(alpha_2*x_2) + 2)))*(alpha_1*x_1/(alpha_2*x_2) + 2)))*(-2*alpha_1*h_b*x_1 - 4*alpha_2*h_b*x_2 + I*p_1)) - 2*alpha_2*h_b**2*x_2*(-pi*sqrt(alpha_1)*x_1*(1 + 2*alpha_2*x_2/(alpha_1*x_1))*(1 - I*p_1/(2*alpha_1*h_b*x_1*(1 + 2*alpha_2*x_2/(alpha_1*x_1))))*(1 + I*p_2/(alpha_1*h_b*x_1*(1 + 2*alpha_2*x_2/(alpha_1*x_1))*(1 - I*p_1/(2*alpha_1*h_b*x_1*(1 + 2*alpha_2*x_2/(alpha_1*x_1))))))*exp(alpha_1*x_1**2*(1 + 2*alpha_2*x_2/(alpha_1*x_1))**2*(1 - I*p_1/(2*alpha_1*h_b*x_1*(1 + 2*alpha_2*x_2/(alpha_1*x_1))))**2*(1 + I*p_2/(alpha_1*h_b*x_1*(1 + 2*alpha_2*x_2/(alpha_1*x_1))*(1 - I*p_1/(2*alpha_1*h_b*x_1*(1 + 2*alpha_2*x_2/(alpha_1*x_1))))))**2/(1 + 2*alpha_2/alpha_1))*erf(sqrt(alpha_1)*x_1*(1 + 2*alpha_2*x_2/(alpha_1*x_1))*(1 - I*p_1/(2*alpha_1*h_b*x_1*(1 + 2*alpha_2*x_2/(alpha_1*x_1))))*(1 + I*p_2/(alpha_1*h_b*x_1*(1 + 2*alpha_2*x_2/(alpha_1*x_1))*(1 - I*p_1/(2*alpha_1*h_b*x_1*(1 + 2*alpha_2*x_2/(alpha_1*x_1))))))/sqrt(polar_lift(1 + 2*alpha_2/alpha_1)))/sqrt(polar_lift(1 + 2*alpha_2/alpha_1)) - pi*sqrt(alpha_1)*x_1*(1 + 2*alpha_2*x_2/(alpha_1*x_1))*(1 - I*p_1/(2*alpha_1*h_b*x_1*(1 + 2*alpha_2*x_2/(alpha_1*x_1))))*(1 + I*p_2/(alpha_1*h_b*x_1*(1 + 2*alpha_2*x_2/(alpha_1*x_1))*(1 - I*p_1/(2*alpha_1*h_b*x_1*(1 + 2*alpha_2*x_2/(alpha_1*x_1))))))*exp(alpha_1*x_1**2*(1 + 2*alpha_2*x_2/(alpha_1*x_1))**2*(1 - I*p_1/(2*alpha_1*h_b*x_1*(1 + 2*alpha_2*x_2/(alpha_1*x_1))))**2*(1 + I*p_2/(alpha_1*h_b*x_1*(1 + 2*alpha_2*x_2/(alpha_1*x_1))*(1 - I*p_1/(2*alpha_1*h_b*x_1*(1 + 2*alpha_2*x_2/(alpha_1*x_1))))))**2/(1 + 2*alpha_2/alpha_1))/sqrt(polar_lift(1 + 2*alpha_2/alpha_1)))/(sqrt(pi)*(1 + I*p_2/(alpha_1*h_b*x_1*(1 + 2*alpha_2*x_2/(alpha_1*x_1))*(1 - I*p_1/(2*alpha_1*h_b*x_1*(1 + 2*alpha_2*x_2/(alpha_1*x_1))))))*(-2*alpha_1*h_b*x_1 - 4*alpha_2*h_b*x_2 + I*p_1)) + 2*h_b**2*(sqrt(pi)*alpha_2**3*x_2**3*(1 - I*p_1/(2*alpha_2*h_b*x_2*(alpha_1*x_1/(alpha_2*x_2) + 2)))**3*(1 + I*p_2/(alpha_2*h_b*x_2*(1 - I*p_1/(2*alpha_2*h_b*x_2*(alpha_1*x_1/(alpha_2*x_2) + 2)))*(alpha_1*x_1/(alpha_2*x_2) + 2)))**3*(alpha_1*x_1/(alpha_2*x_2) + 2)**3*(sqrt(alpha_1)*exp(-alpha_2**2*x_2**2*(1 - I*p_1/(2*alpha_2*h_b*x_2*(alpha_1*x_1/(alpha_2*x_2) + 2)))**2*(1 + I*p_2/(alpha_2*h_b*x_2*(1 - I*p_1/(2*alpha_2*h_b*x_2*(alpha_1*x_1/(alpha_2*x_2) + 2)))*(alpha_1*x_1/(alpha_2*x_2) + 2)))**2*(alpha_1*x_1/(alpha_2*x_2) + 2)**2/(alpha_1*(1 + 2*alpha_2/alpha_1)))*sqrt(polar_lift(1 + 2*alpha_2/alpha_1))/(alpha_2*x_2*(1 - I*p_1/(2*alpha_2*h_b*x_2*(alpha_1*x_1/(alpha_2*x_2) + 2)))*(1 + I*p_2/(alpha_2*h_b*x_2*(1 - I*p_1/(2*alpha_2*h_b*x_2*(alpha_1*x_1/(alpha_2*x_2) + 2)))*(alpha_1*x_1/(alpha_2*x_2) + 2)))*(alpha_1*x_1/(alpha_2*x_2) + 2)) + sqrt(pi)*erf(alpha_2*x_2*(1 - I*p_1/(2*alpha_2*h_b*x_2*(alpha_1*x_1/(alpha_2*x_2) + 2)))*(1 + I*p_2/(alpha_2*h_b*x_2*(1 - I*p_1/(2*alpha_2*h_b*x_2*(alpha_1*x_1/(alpha_2*x_2) + 2)))*(alpha_1*x_1/(alpha_2*x_2) + 2)))*(alpha_1*x_1/(alpha_2*x_2) + 2)/(sqrt(alpha_1)*sqrt(polar_lift(1 + 2*alpha_2/alpha_1)))))*exp(alpha_2**2*x_2**2*(1 - I*p_1/(2*alpha_2*h_b*x_2*(alpha_1*x_1/(alpha_2*x_2) + 2)))**2*(1 + I*p_2/(alpha_2*h_b*x_2*(1 - I*p_1/(2*alpha_2*h_b*x_2*(alpha_1*x_1/(alpha_2*x_2) + 2)))*(alpha_1*x_1/(alpha_2*x_2) + 2)))**2*(alpha_1*x_1/(alpha_2*x_2) + 2)**2/(alpha_1*(1 + 2*alpha_2/alpha_1)))/(alpha_1**(3/2)*polar_lift(1 + 2*alpha_2/alpha_1)**(3/2)) - pi*alpha_2**3*x_2**3*(1 - I*p_1/(2*alpha_2*h_b*x_2*(alpha_1*x_1/(alpha_2*x_2) + 2)))**3*(1 + I*p_2/(alpha_2*h_b*x_2*(1 - I*p_1/(2*alpha_2*h_b*x_2*(alpha_1*x_1/(alpha_2*x_2) + 2)))*(alpha_1*x_1/(alpha_2*x_2) + 2)))**3*(alpha_1*x_1/(alpha_2*x_2) + 2)**3*exp(alpha_2**2*x_2**2*(1 - I*p_1/(2*alpha_2*h_b*x_2*(alpha_1*x_1/(alpha_2*x_2) + 2)))**2*(1 + I*p_2/(alpha_2*h_b*x_2*(1 - I*p_1/(2*alpha_2*h_b*x_2*(alpha_1*x_1/(alpha_2*x_2) + 2)))*(alpha_1*x_1/(alpha_2*x_2) + 2)))**2*(alpha_1*x_1/(alpha_2*x_2) + 2)**2/(alpha_1*(1 + 2*alpha_2/alpha_1)))/(alpha_1**(3/2)*polar_lift(1 + 2*alpha_2/alpha_1)**(3/2)))/(sqrt(pi)*x_2*(1 - I*p_1/(2*alpha_2*h_b*x_2*(alpha_1*x_1/(alpha_2*x_2) + 2)))*(1 + I*p_2/(alpha_2*h_b*x_2*(1 - I*p_1/(2*alpha_2*h_b*x_2*(alpha_1*x_1/(alpha_2*x_2) + 2)))*(alpha_1*x_1/(alpha_2*x_2) + 2)))**2*(alpha_1*x_1/(alpha_2*x_2) + 2)*(-2*alpha_1*h_b*x_1 - 4*alpha_2*h_b*x_2 + I*p_1)) + I*h_b*p_2*(-pi*alpha_2*x_2*(1 - I*p_1/(2*alpha_2*h_b*x_2*(alpha_1*x_1/(alpha_2*x_2) + 2)))*(1 + I*p_2/(alpha_2*h_b*x_2*(1 - I*p_1/(2*alpha_2*h_b*x_2*(alpha_1*x_1/(alpha_2*x_2) + 2)))*(alpha_1*x_1/(alpha_2*x_2) + 2)))*(alpha_1*x_1/(alpha_2*x_2) + 2)*exp(alpha_2**2*x_2**2*(1 - I*p_1/(2*alpha_2*h_b*x_2*(alpha_1*x_1/(alpha_2*x_2) + 2)))**2*(1 + I*p_2/(alpha_2*h_b*x_2*(1 - I*p_1/(2*alpha_2*h_b*x_2*(alpha_1*x_1/(alpha_2*x_2) + 2)))*(alpha_1*x_1/(alpha_2*x_2) + 2)))**2*(alpha_1*x_1/(alpha_2*x_2) + 2)**2/(alpha_1*(1 + 2*alpha_2/alpha_1)))*erf(alpha_2*x_2*(1 - I*p_1/(2*alpha_2*h_b*x_2*(alpha_1*x_1/(alpha_2*x_2) + 2)))*(1 + I*p_2/(alpha_2*h_b*x_2*(1 - I*p_1/(2*alpha_2*h_b*x_2*(alpha_1*x_1/(alpha_2*x_2) + 2)))*(alpha_1*x_1/(alpha_2*x_2) + 2)))*(alpha_1*x_1/(alpha_2*x_2) + 2)/(sqrt(alpha_1)*sqrt(polar_lift(1 + 2*alpha_2/alpha_1))))/(sqrt(alpha_1)*sqrt(polar_lift(1 + 2*alpha_2/alpha_1))) + pi*alpha_2*x_2*(1 - I*p_1/(2*alpha_2*h_b*x_2*(alpha_1*x_1/(alpha_2*x_2) + 2)))*(1 + I*p_2/(alpha_2*h_b*x_2*(1 - I*p_1/(2*alpha_2*h_b*x_2*(alpha_1*x_1/(alpha_2*x_2) + 2)))*(alpha_1*x_1/(alpha_2*x_2) + 2)))*(alpha_1*x_1/(alpha_2*x_2) + 2)*exp(alpha_2**2*x_2**2*(1 - I*p_1/(2*alpha_2*h_b*x_2*(alpha_1*x_1/(alpha_2*x_2) + 2)))**2*(1 + I*p_2/(alpha_2*h_b*x_2*(1 - I*p_1/(2*alpha_2*h_b*x_2*(alpha_1*x_1/(alpha_2*x_2) + 2)))*(alpha_1*x_1/(alpha_2*x_2) + 2)))**2*(alpha_1*x_1/(alpha_2*x_2) + 2)**2/(alpha_1*(1 + 2*alpha_2/alpha_1)))/(sqrt(alpha_1)*sqrt(polar_lift(1 + 2*alpha_2/alpha_1))))/(sqrt(pi)*(1 + I*p_2/(alpha_2*h_b*x_2*(1 - I*p_1/(2*alpha_2*h_b*x_2*(alpha_1*x_1/(alpha_2*x_2) + 2)))*(alpha_1*x_1/(alpha_2*x_2) + 2)))*(-2*alpha_1*h_b*x_1 - 4*alpha_2*h_b*x_2 + I*p_1)) - I*h_b*p_2*(-pi*sqrt(alpha_1)*x_1*(1 + 2*alpha_2*x_2/(alpha_1*x_1))*(1 - I*p_1/(2*alpha_1*h_b*x_1*(1 + 2*alpha_2*x_2/(alpha_1*x_1))))*(1 + I*p_2/(alpha_1*h_b*x_1*(1 + 2*alpha_2*x_2/(alpha_1*x_1))*(1 - I*p_1/(2*alpha_1*h_b*x_1*(1 + 2*alpha_2*x_2/(alpha_1*x_1))))))*exp(alpha_1*x_1**2*(1 + 2*alpha_2*x_2/(alpha_1*x_1))**2*(1 - I*p_1/(2*alpha_1*h_b*x_1*(1 + 2*alpha_2*x_2/(alpha_1*x_1))))**2*(1 + I*p_2/(alpha_1*h_b*x_1*(1 + 2*alpha_2*x_2/(alpha_1*x_1))*(1 - I*p_1/(2*alpha_1*h_b*x_1*(1 + 2*alpha_2*x_2/(alpha_1*x_1))))))**2/(1 + 2*alpha_2/alpha_1))*erf(sqrt(alpha_1)*x_1*(1 + 2*alpha_2*x_2/(alpha_1*x_1))*(1 - I*p_1/(2*alpha_1*h_b*x_1*(1 + 2*alpha_2*x_2/(alpha_1*x_1))))*(1 + I*p_2/(alpha_1*h_b*x_1*(1 + 2*alpha_2*x_2/(alpha_1*x_1))*(1 - I*p_1/(2*alpha_1*h_b*x_1*(1 + 2*alpha_2*x_2/(alpha_1*x_1))))))/sqrt(polar_lift(1 + 2*alpha_2/alpha_1)))/sqrt(polar_lift(1 + 2*alpha_2/alpha_1)) - pi*sqrt(alpha_1)*x_1*(1 + 2*alpha_2*x_2/(alpha_1*x_1))*(1 - I*p_1/(2*alpha_1*h_b*x_1*(1 + 2*alpha_2*x_2/(alpha_1*x_1))))*(1 + I*p_2/(alpha_1*h_b*x_1*(1 + 2*alpha_2*x_2/(alpha_1*x_1))*(1 - I*p_1/(2*alpha_1*h_b*x_1*(1 + 2*alpha_2*x_2/(alpha_1*x_1))))))*exp(alpha_1*x_1**2*(1 + 2*alpha_2*x_2/(alpha_1*x_1))**2*(1 - I*p_1/(2*alpha_1*h_b*x_1*(1 + 2*alpha_2*x_2/(alpha_1*x_1))))**2*(1 + I*p_2/(alpha_1*h_b*x_1*(1 + 2*alpha_2*x_2/(alpha_1*x_1))*(1 - I*p_1/(2*alpha_1*h_b*x_1*(1 + 2*alpha_2*x_2/(alpha_1*x_1))))))**2/(1 + 2*alpha_2/alpha_1))/sqrt(polar_lift(1 + 2*alpha_2/alpha_1)))/(sqrt(pi)*(1 + I*p_2/(alpha_1*h_b*x_1*(1 + 2*alpha_2*x_2/(alpha_1*x_1))*(1 - I*p_1/(2*alpha_1*h_b*x_1*(1 + 2*alpha_2*x_2/(alpha_1*x_1))))))*(-2*alpha_1*h_b*x_1 - 4*alpha_2*h_b*x_2 + I*p_1)) - 2*alpha_2*h_b**2*(sqrt(pi)*alpha_1**(3/2)*x_1**3*(1 + 2*alpha_2*x_2/(alpha_1*x_1))**3*(1 - I*p_1/(2*alpha_1*h_b*x_1*(1 + 2*alpha_2*x_2/(alpha_1*x_1))))**3*(1 + I*p_2/(alpha_1*h_b*x_1*(1 + 2*alpha_2*x_2/(alpha_1*x_1))*(1 - I*p_1/(2*alpha_1*h_b*x_1*(1 + 2*alpha_2*x_2/(alpha_1*x_1))))))**3*(sqrt(pi)*erf(sqrt(alpha_1)*x_1*(1 + 2*alpha_2*x_2/(alpha_1*x_1))*(1 - I*p_1/(2*alpha_1*h_b*x_1*(1 + 2*alpha_2*x_2/(alpha_1*x_1))))*(1 + I*p_2/(alpha_1*h_b*x_1*(1 + 2*alpha_2*x_2/(alpha_1*x_1))*(1 - I*p_1/(2*alpha_1*h_b*x_1*(1 + 2*alpha_2*x_2/(alpha_1*x_1))))))/sqrt(polar_lift(1 + 2*alpha_2/alpha_1))) + exp(-alpha_1*x_1**2*(1 + 2*alpha_2*x_2/(alpha_1*x_1))**2*(1 - I*p_1/(2*alpha_1*h_b*x_1*(1 + 2*alpha_2*x_2/(alpha_1*x_1))))**2*(1 + I*p_2/(alpha_1*h_b*x_1*(1 + 2*alpha_2*x_2/(alpha_1*x_1))*(1 - I*p_1/(2*alpha_1*h_b*x_1*(1 + 2*alpha_2*x_2/(alpha_1*x_1))))))**2/(1 + 2*alpha_2/alpha_1))*sqrt(polar_lift(1 + 2*alpha_2/alpha_1))/(sqrt(alpha_1)*x_1*(1 + 2*alpha_2*x_2/(alpha_1*x_1))*(1 - I*p_1/(2*alpha_1*h_b*x_1*(1 + 2*alpha_2*x_2/(alpha_1*x_1))))*(1 + I*p_2/(alpha_1*h_b*x_1*(1 + 2*alpha_2*x_2/(alpha_1*x_1))*(1 - I*p_1/(2*alpha_1*h_b*x_1*(1 + 2*alpha_2*x_2/(alpha_1*x_1))))))))*exp(alpha_1*x_1**2*(1 + 2*alpha_2*x_2/(alpha_1*x_1))**2*(1 - I*p_1/(2*alpha_1*h_b*x_1*(1 + 2*alpha_2*x_2/(alpha_1*x_1))))**2*(1 + I*p_2/(alpha_1*h_b*x_1*(1 + 2*alpha_2*x_2/(alpha_1*x_1))*(1 - I*p_1/(2*alpha_1*h_b*x_1*(1 + 2*alpha_2*x_2/(alpha_1*x_1))))))**2/(1 + 2*alpha_2/alpha_1))/polar_lift(1 + 2*alpha_2/alpha_1)**(3/2) + pi*alpha_1**(3/2)*x_1**3*(1 + 2*alpha_2*x_2/(alpha_1*x_1))**3*(1 - I*p_1/(2*alpha_1*h_b*x_1*(1 + 2*alpha_2*x_2/(alpha_1*x_1))))**3*(1 + I*p_2/(alpha_1*h_b*x_1*(1 + 2*alpha_2*x_2/(alpha_1*x_1))*(1 - I*p_1/(2*alpha_1*h_b*x_1*(1 + 2*alpha_2*x_2/(alpha_1*x_1))))))**3*exp(alpha_1*x_1**2*(1 + 2*alpha_2*x_2/(alpha_1*x_1))**2*(1 - I*p_1/(2*alpha_1*h_b*x_1*(1 + 2*alpha_2*x_2/(alpha_1*x_1))))**2*(1 + I*p_2/(alpha_1*h_b*x_1*(1 + 2*alpha_2*x_2/(alpha_1*x_1))*(1 - I*p_1/(2*alpha_1*h_b*x_1*(1 + 2*alpha_2*x_2/(alpha_1*x_1))))))**2/(1 + 2*alpha_2/alpha_1))/polar_lift(1 + 2*alpha_2/alpha_1)**(3/2))/(sqrt(pi)*alpha_1*x_1*(1 + 2*alpha_2*x_2/(alpha_1*x_1))*(1 - I*p_1/(2*alpha_1*h_b*x_1*(1 + 2*alpha_2*x_2/(alpha_1*x_1))))*(1 + I*p_2/(alpha_1*h_b*x_1*(1 + 2*alpha_2*x_2/(alpha_1*x_1))*(1 - I*p_1/(2*alpha_1*h_b*x_1*(1 + 2*alpha_2*x_2/(alpha_1*x_1))))))**2*(-2*alpha_1*h_b*x_1 - 4*alpha_2*h_b*x_2 + I*p_1)), ((pi/2 > Abs(arg(alpha_1) + arg(1 + 2*alpha_2/alpha_1))) | ((pi/2 >= Abs(arg(alpha_1) + arg(1 + 2*alpha_2/alpha_1))) & (pi > Abs(2*arg(alpha_2) + 2*arg(x_2) + 2*arg(1 - p_1*exp_polar(I*pi/2)/(2*alpha_2*h_b*x_2*polar_lift(alpha_1*x_1/(alpha_2*x_2) + 2))) + 2*arg(1 - p_2*exp_polar(-I*pi/2)/(alpha_2*h_b*x_2*polar_lift(1 - p_1*exp_polar(I*pi/2)/(2*alpha_2*h_b*x_2*polar_lift(alpha_1*x_1/(alpha_2*x_2) + 2)))*polar_lift(alpha_1*x_1/(alpha_2*x_2) + 2))) + 2*arg(alpha_1*x_1/(alpha_2*x_2) + 2)))) | ((pi/2 > Abs(arg(alpha_1) + arg(1 + 2*alpha_2/alpha_1))) & (pi >= Abs(2*arg(alpha_2) + 2*arg(x_2) + 2*arg(1 - p_1*exp_polar(I*pi/2)/(2*alpha_2*h_b*x_2*polar_lift(alpha_1*x_1/(alpha_2*x_2) + 2))) + 2*arg(1 - p_2*exp_polar(-I*pi/2)/(alpha_2*h_b*x_2*polar_lift(1 - p_1*exp_polar(I*pi/2)/(2*alpha_2*h_b*x_2*polar_lift(alpha_1*x_1/(alpha_2*x_2) + 2)))*polar_lift(alpha_1*x_1/(alpha_2*x_2) + 2))) + 2*arg(alpha_1*x_1/(alpha_2*x_2) + 2)))) | ((pi/2 > Abs(arg(alpha_1) + arg(1 + 2*alpha_2/alpha_1))) & (pi > Abs(2*arg(alpha_2) + 2*arg(x_2) + 2*arg(1 - p_1*exp_polar(I*pi/2)/(2*alpha_2*h_b*x_2*polar_lift(alpha_1*x_1/(alpha_2*x_2) + 2))) + 2*arg(1 - p_2*exp_polar(-I*pi/2)/(alpha_2*h_b*x_2*polar_lift(1 - p_1*exp_polar(I*pi/2)/(2*alpha_2*h_b*x_2*polar_lift(alpha_1*x_1/(alpha_2*x_2) + 2)))*polar_lift(alpha_1*x_1/(alpha_2*x_2) + 2))) + 2*arg(alpha_1*x_1/(alpha_2*x_2) + 2))))) & ((pi/2 > Abs(arg(alpha_1) + arg(1 + 2*alpha_2/alpha_1))) | ((pi/2 >= Abs(arg(alpha_1) + arg(1 + 2*alpha_2/alpha_1))) & (pi > Abs(2*arg(alpha_1) + 2*arg(x_1) + 2*arg(1 + 2*alpha_2*x_2/(alpha_1*x_1)) + 2*arg(1 - p_1*exp_polar(I*pi/2)/(2*alpha_1*h_b*x_1*polar_lift(1 + 2*alpha_2*x_2/(alpha_1*x_1)))) + 2*arg(1 - p_2*exp_polar(-I*pi/2)/(alpha_1*h_b*x_1*polar_lift(1 + 2*alpha_2*x_2/(alpha_1*x_1))*polar_lift(1 - p_1*exp_polar(I*pi/2)/(2*alpha_1*h_b*x_1*polar_lift(1 + 2*alpha_2*x_2/(alpha_1*x_1)))))) + 2*pi))) | ((pi/2 > Abs(arg(alpha_1) + arg(1 + 2*alpha_2/alpha_1))) & (pi >= Abs(2*arg(alpha_1) + 2*arg(x_1) + 2*arg(1 + 2*alpha_2*x_2/(alpha_1*x_1)) + 2*arg(1 - p_1*exp_polar(I*pi/2)/(2*alpha_1*h_b*x_1*polar_lift(1 + 2*alpha_2*x_2/(alpha_1*x_1)))) + 2*arg(1 - p_2*exp_polar(-I*pi/2)/(alpha_1*h_b*x_1*polar_lift(1 + 2*alpha_2*x_2/(alpha_1*x_1))*polar_lift(1 - p_1*exp_polar(I*pi/2)/(2*alpha_1*h_b*x_1*polar_lift(1 + 2*alpha_2*x_2/(alpha_1*x_1)))))) + 2*pi))) | ((pi/2 > Abs(arg(alpha_1) + arg(1 + 2*alpha_2/alpha_1))) & (pi > Abs(2*arg(alpha_1) + 2*arg(x_1) + 2*arg(1 + 2*alpha_2*x_2/(alpha_1*x_1)) + 2*arg(1 - p_1*exp_polar(I*pi/2)/(2*alpha_1*h_b*x_1*polar_lift(1 + 2*alpha_2*x_2/(alpha_1*x_1)))) + 2*arg(1 - p_2*exp_polar(-I*pi/2)/(alpha_1*h_b*x_1*polar_lift(1 + 2*alpha_2*x_2/(alpha_1*x_1))*polar_lift(1 - p_1*exp_polar(I*pi/2)/(2*alpha_1*h_b*x_1*polar_lift(1 + 2*alpha_2*x_2/(alpha_1*x_1)))))) + 2*pi))))), (Integral((2*alpha_2*h_b*x - 2*alpha_2*h_b*x_2 - I*p_2)*exp(-alpha_1*x**2)*exp(-2*alpha_2*x**2)*exp(2*alpha_1*x*x_1)*exp(4*alpha_2*x*x_2)*exp(-I*p_1*x/h_b)*exp(2*I*p_2*x/h_b), (x, -oo, oo)), True))\n"
     ]
    }
   ],
   "source": [
    "print(INT.doit())"
   ]
  },
  {
   "cell_type": "code",
   "execution_count": 21,
   "metadata": {},
   "outputs": [
    {
     "data": {
      "image/png": "[encoded data removed]",
      "text/latex": [
       "$$\\frac{\\sqrt{\\pi} \\left(2 h_{b} \\left(\\alpha_{1} x_{1} + 2 \\alpha_{2} x_{2}\\right) - i p_{1}\\right) \\left(2 \\sqrt{\\alpha_{1}} \\alpha_{2} \\left(2 h_{b} \\left(\\alpha_{1} x_{1} + 2 \\alpha_{2} x_{2}\\right) - i p_{1} + 2 i p_{2}\\right) \\sqrt{\\operatorname{polar\\_lift}{\\left (\\frac{\\alpha_{1} + 2 \\alpha_{2}}{\\alpha_{1}} \\right )}} + \\alpha_{1}^{1.5} \\left(2 \\alpha_{2} h_{b} x_{2} \\left(\\operatorname{erf}{\\left (\\frac{2 h_{b} \\left(\\alpha_{1} x_{1} + 2 \\alpha_{2} x_{2}\\right) - i p_{1} + 2 i p_{2}}{2 \\sqrt{\\alpha_{1}} h_{b} \\sqrt{\\operatorname{polar\\_lift}{\\left (\\frac{\\alpha_{1} + 2 \\alpha_{2}}{\\alpha_{1}} \\right )}}} \\right )} - 1\\right) - 2 \\alpha_{2} h_{b} x_{2} \\left(\\operatorname{erf}{\\left (\\frac{2 h_{b} \\left(\\alpha_{1} x_{1} + 2 \\alpha_{2} x_{2}\\right) - i p_{1} + 2 i p_{2}}{2 \\sqrt{\\alpha_{1}} h_{b} \\sqrt{\\operatorname{polar\\_lift}{\\left (\\frac{\\alpha_{1} + 2 \\alpha_{2}}{\\alpha_{1}} \\right )}}} \\right )} + 1\\right) + i p_{2} \\left(\\operatorname{erf}{\\left (\\frac{2 h_{b} \\left(\\alpha_{1} x_{1} + 2 \\alpha_{2} x_{2}\\right) - i p_{1} + 2 i p_{2}}{2 \\sqrt{\\alpha_{1}} h_{b} \\sqrt{\\operatorname{polar\\_lift}{\\left (\\frac{\\alpha_{1} + 2 \\alpha_{2}}{\\alpha_{1}} \\right )}}} \\right )} - 1\\right) - i p_{2} \\left(\\operatorname{erf}{\\left (\\frac{2 h_{b} \\left(\\alpha_{1} x_{1} + 2 \\alpha_{2} x_{2}\\right) - i p_{1} + 2 i p_{2}}{2 \\sqrt{\\alpha_{1}} h_{b} \\sqrt{\\operatorname{polar\\_lift}{\\left (\\frac{\\alpha_{1} + 2 \\alpha_{2}}{\\alpha_{1}} \\right )}}} \\right )} + 1\\right)\\right) \\operatorname{polar\\_lift}^{1.5}{\\left (\\frac{\\alpha_{1} + 2 \\alpha_{2}}{\\alpha_{1}} \\right )}\\right) e^{\\frac{\\left(2 h_{b} \\left(\\alpha_{1} x_{1} + 2 \\alpha_{2} x_{2}\\right) - i p_{1} + 2 i p_{2}\\right)^{2}}{4 h_{b}^{2} \\left(\\alpha_{1} + 2 \\alpha_{2}\\right)}}}{2 \\alpha_{1}^{2.0} \\left(2 \\alpha_{1} h_{b} x_{1} + 4 \\alpha_{2} h_{b} x_{2} - i p_{1}\\right) \\operatorname{polar\\_lift}^{2.0}{\\left (\\frac{\\alpha_{1} + 2 \\alpha_{2}}{\\alpha_{1}} \\right )}}$$"
      ],
      "text/plain": [
       "                                                                              \n",
       "                                                                              \n",
       "                                                                              \n",
       "                                           ⎛                                  \n",
       "  -2.0                                     ⎜    ____                          \n",
       "α₁    ⋅√π⋅(2⋅h_b⋅(α₁⋅x₁ + 2⋅α₂⋅x₂) - ⅈ⋅p₁)⋅⎜2⋅╲╱ α₁ ⋅α₂⋅(2⋅h_b⋅(α₁⋅x₁ + 2⋅α₂⋅x\n",
       "                                           ⎜                                  \n",
       "                                           ⎜                                  \n",
       "                                           ⎜                                  \n",
       "                                           ⎝                                  \n",
       "──────────────────────────────────────────────────────────────────────────────\n",
       "                                                                              \n",
       "\n",
       "                                                                              \n",
       "                                                                              \n",
       "                                                                              \n",
       "                        _______________________                               \n",
       "                       ╱           ⎛α₁ + 2⋅α₂⎞      1.5 ⎛            ⎛   ⎛2⋅h_\n",
       "₂) - ⅈ⋅p₁ + 2⋅ⅈ⋅p₂)⋅  ╱  polar_lift⎜─────────⎟  + α₁   ⋅⎜2⋅α₂⋅h_b⋅x₂⋅⎜erf⎜────\n",
       "                    ╲╱             ⎝    α₁   ⎠          ⎜            ⎜   ⎜    \n",
       "                                                        ⎜            ⎜   ⎜    \n",
       "                                                        ⎜            ⎜   ⎜2⋅╲╱\n",
       "                                                        ⎝            ⎝   ⎝    \n",
       "──────────────────────────────────────────────────────────────────────────────\n",
       "                                                                              \n",
       "\n",
       "                                                                              \n",
       "                                                                              \n",
       "                                                                              \n",
       "                                                                              \n",
       "b⋅(α₁⋅x₁ + 2⋅α₂⋅x₂) - ⅈ⋅p₁ + 2⋅ⅈ⋅p₂ ⎞    ⎞               ⎛   ⎛2⋅h_b⋅(α₁⋅x₁ + 2\n",
       "────────────────────────────────────⎟ - 1⎟ - 2⋅α₂⋅h_b⋅x₂⋅⎜erf⎜────────────────\n",
       "             _______________________⎟    ⎟               ⎜   ⎜                \n",
       "____        ╱           ⎛α₁ + 2⋅α₂⎞ ⎟    ⎟               ⎜   ⎜    ____        \n",
       " α₁ ⋅h_b⋅  ╱  polar_lift⎜─────────⎟ ⎟    ⎟               ⎜   ⎜2⋅╲╱ α₁ ⋅h_b⋅  ╱\n",
       "         ╲╱             ⎝    α₁   ⎠ ⎠    ⎠               ⎝   ⎝             ╲╱ \n",
       "──────────────────────────────────────────────────────────────────────────────\n",
       "                                                                  2⋅(2⋅α₁⋅h_b⋅\n",
       "\n",
       "                                                                              \n",
       "                                                                              \n",
       "                                                                              \n",
       "                                                                              \n",
       "⋅α₂⋅x₂) - ⅈ⋅p₁ + 2⋅ⅈ⋅p₂ ⎞    ⎞        ⎛   ⎛2⋅h_b⋅(α₁⋅x₁ + 2⋅α₂⋅x₂) - ⅈ⋅p₁ + 2⋅\n",
       "────────────────────────⎟ + 1⎟ + ⅈ⋅p₂⋅⎜erf⎜───────────────────────────────────\n",
       " _______________________⎟    ⎟        ⎜   ⎜                 __________________\n",
       "╱           ⎛α₁ + 2⋅α₂⎞ ⎟    ⎟        ⎜   ⎜    ____        ╱           ⎛α₁ + 2\n",
       "  polar_lift⎜─────────⎟ ⎟    ⎟        ⎜   ⎜2⋅╲╱ α₁ ⋅h_b⋅  ╱  polar_lift⎜──────\n",
       "            ⎝    α₁   ⎠ ⎠    ⎠        ⎝   ⎝             ╲╱             ⎝    α₁\n",
       "──────────────────────────────────────────────────────────────────────────────\n",
       "x₁ + 4⋅α₂⋅h_b⋅x₂ - ⅈ⋅p₁)                                                      \n",
       "\n",
       "                                                                              \n",
       "                                                                              \n",
       "                                                                              \n",
       "                                                                              \n",
       "ⅈ⋅p₂ ⎞    ⎞        ⎛   ⎛2⋅h_b⋅(α₁⋅x₁ + 2⋅α₂⋅x₂) - ⅈ⋅p₁ + 2⋅ⅈ⋅p₂ ⎞    ⎞⎞       \n",
       "─────⎟ - 1⎟ - ⅈ⋅p₂⋅⎜erf⎜────────────────────────────────────────⎟ + 1⎟⎟⋅polar_\n",
       "_____⎟    ⎟        ⎜   ⎜                 _______________________⎟    ⎟⎟       \n",
       "⋅α₂⎞ ⎟    ⎟        ⎜   ⎜    ____        ╱           ⎛α₁ + 2⋅α₂⎞ ⎟    ⎟⎟       \n",
       "───⎟ ⎟    ⎟        ⎜   ⎜2⋅╲╱ α₁ ⋅h_b⋅  ╱  polar_lift⎜─────────⎟ ⎟    ⎟⎟       \n",
       "   ⎠ ⎠    ⎠        ⎝   ⎝             ╲╱             ⎝    α₁   ⎠ ⎠    ⎠⎠       \n",
       "──────────────────────────────────────────────────────────────────────────────\n",
       "                                                                              \n",
       "\n",
       "                                                              2               \n",
       "                     (2⋅h_b⋅(α₁⋅x₁ + 2⋅α₂⋅x₂) - ⅈ⋅p₁ + 2⋅ⅈ⋅p₂)                \n",
       "                     ──────────────────────────────────────────               \n",
       "                  ⎞                   2                                       \n",
       "    1.5⎛α₁ + 2⋅α₂⎞⎟              4⋅h_b ⋅(α₁ + 2⋅α₂)                       -2.0\n",
       "lift   ⎜─────────⎟⎟⋅ℯ                                          ⋅polar_lift    \n",
       "       ⎝    α₁   ⎠⎟                                                           \n",
       "                  ⎟                                                           \n",
       "                  ⎟                                                           \n",
       "                  ⎠                                                           \n",
       "──────────────────────────────────────────────────────────────────────────────\n",
       "                                                                              \n",
       "\n",
       "           \n",
       "           \n",
       "           \n",
       "           \n",
       "⎛α₁ + 2⋅α₂⎞\n",
       "⎜─────────⎟\n",
       "⎝    α₁   ⎠\n",
       "           \n",
       "           \n",
       "           \n",
       "───────────\n",
       "           "
      ]
     },
     "execution_count": 21,
     "metadata": {},
     "output_type": "execute_result"
    }
   ],
   "source": [
    "INTEGARL = (2*alpha_2*h_b**2*x_2*(-pi*alpha_2*x_2*(1 - I*p_1/(2*alpha_2*h_b*x_2*(alpha_1*x_1/(alpha_2*x_2) + 2)))*(1 + I*p_2/(alpha_2*h_b*x_2*(1 - I*p_1/(2*alpha_2*h_b*x_2*(alpha_1*x_1/(alpha_2*x_2) + 2)))*(alpha_1*x_1/(alpha_2*x_2) + 2)))*(alpha_1*x_1/(alpha_2*x_2) + 2)*exp(alpha_2**2*x_2**2*(1 - I*p_1/(2*alpha_2*h_b*x_2*(alpha_1*x_1/(alpha_2*x_2) + 2)))**2*(1 + I*p_2/(alpha_2*h_b*x_2*(1 - I*p_1/(2*alpha_2*h_b*x_2*(alpha_1*x_1/(alpha_2*x_2) + 2)))*(alpha_1*x_1/(alpha_2*x_2) + 2)))**2*(alpha_1*x_1/(alpha_2*x_2) + 2)**2/(alpha_1*(1 + 2*alpha_2/alpha_1)))*erf(alpha_2*x_2*(1 - I*p_1/(2*alpha_2*h_b*x_2*(alpha_1*x_1/(alpha_2*x_2) + 2)))*(1 + I*p_2/(alpha_2*h_b*x_2*(1 - I*p_1/(2*alpha_2*h_b*x_2*(alpha_1*x_1/(alpha_2*x_2) + 2)))*(alpha_1*x_1/(alpha_2*x_2) + 2)))*(alpha_1*x_1/(alpha_2*x_2) + 2)/(sqrt(alpha_1)*sqrt(polar_lift(1 + 2*alpha_2/alpha_1))))/(sqrt(alpha_1)*sqrt(polar_lift(1 + 2*alpha_2/alpha_1))) + pi*alpha_2*x_2*(1 - I*p_1/(2*alpha_2*h_b*x_2*(alpha_1*x_1/(alpha_2*x_2) + 2)))*(1 + I*p_2/(alpha_2*h_b*x_2*(1 - I*p_1/(2*alpha_2*h_b*x_2*(alpha_1*x_1/(alpha_2*x_2) + 2)))*(alpha_1*x_1/(alpha_2*x_2) + 2)))*(alpha_1*x_1/(alpha_2*x_2) + 2)*exp(alpha_2**2*x_2**2*(1 - I*p_1/(2*alpha_2*h_b*x_2*(alpha_1*x_1/(alpha_2*x_2) + 2)))**2*(1 + I*p_2/(alpha_2*h_b*x_2*(1 - I*p_1/(2*alpha_2*h_b*x_2*(alpha_1*x_1/(alpha_2*x_2) + 2)))*(alpha_1*x_1/(alpha_2*x_2) + 2)))**2*(alpha_1*x_1/(alpha_2*x_2) + 2)**2/(alpha_1*(1 + 2*alpha_2/alpha_1)))/(sqrt(alpha_1)*sqrt(polar_lift(1 + 2*alpha_2/alpha_1))))/(sqrt(pi)*(1 + I*p_2/(alpha_2*h_b*x_2*(1 - I*p_1/(2*alpha_2*h_b*x_2*(alpha_1*x_1/(alpha_2*x_2) + 2)))*(alpha_1*x_1/(alpha_2*x_2) + 2)))*(-2*alpha_1*h_b*x_1 - 4*alpha_2*h_b*x_2 + I*p_1)) - 2*alpha_2*h_b**2*x_2*(-pi*sqrt(alpha_1)*x_1*(1 + 2*alpha_2*x_2/(alpha_1*x_1))*(1 - I*p_1/(2*alpha_1*h_b*x_1*(1 + 2*alpha_2*x_2/(alpha_1*x_1))))*(1 + I*p_2/(alpha_1*h_b*x_1*(1 + 2*alpha_2*x_2/(alpha_1*x_1))*(1 - I*p_1/(2*alpha_1*h_b*x_1*(1 + 2*alpha_2*x_2/(alpha_1*x_1))))))*exp(alpha_1*x_1**2*(1 + 2*alpha_2*x_2/(alpha_1*x_1))**2*(1 - I*p_1/(2*alpha_1*h_b*x_1*(1 + 2*alpha_2*x_2/(alpha_1*x_1))))**2*(1 + I*p_2/(alpha_1*h_b*x_1*(1 + 2*alpha_2*x_2/(alpha_1*x_1))*(1 - I*p_1/(2*alpha_1*h_b*x_1*(1 + 2*alpha_2*x_2/(alpha_1*x_1))))))**2/(1 + 2*alpha_2/alpha_1))*erf(sqrt(alpha_1)*x_1*(1 + 2*alpha_2*x_2/(alpha_1*x_1))*(1 - I*p_1/(2*alpha_1*h_b*x_1*(1 + 2*alpha_2*x_2/(alpha_1*x_1))))*(1 + I*p_2/(alpha_1*h_b*x_1*(1 + 2*alpha_2*x_2/(alpha_1*x_1))*(1 - I*p_1/(2*alpha_1*h_b*x_1*(1 + 2*alpha_2*x_2/(alpha_1*x_1))))))/sqrt(polar_lift(1 + 2*alpha_2/alpha_1)))/sqrt(polar_lift(1 + 2*alpha_2/alpha_1)) - pi*sqrt(alpha_1)*x_1*(1 + 2*alpha_2*x_2/(alpha_1*x_1))*(1 - I*p_1/(2*alpha_1*h_b*x_1*(1 + 2*alpha_2*x_2/(alpha_1*x_1))))*(1 + I*p_2/(alpha_1*h_b*x_1*(1 + 2*alpha_2*x_2/(alpha_1*x_1))*(1 - I*p_1/(2*alpha_1*h_b*x_1*(1 + 2*alpha_2*x_2/(alpha_1*x_1))))))*exp(alpha_1*x_1**2*(1 + 2*alpha_2*x_2/(alpha_1*x_1))**2*(1 - I*p_1/(2*alpha_1*h_b*x_1*(1 + 2*alpha_2*x_2/(alpha_1*x_1))))**2*(1 + I*p_2/(alpha_1*h_b*x_1*(1 + 2*alpha_2*x_2/(alpha_1*x_1))*(1 - I*p_1/(2*alpha_1*h_b*x_1*(1 + 2*alpha_2*x_2/(alpha_1*x_1))))))**2/(1 + 2*alpha_2/alpha_1))/sqrt(polar_lift(1 + 2*alpha_2/alpha_1)))/(sqrt(pi)*(1 + I*p_2/(alpha_1*h_b*x_1*(1 + 2*alpha_2*x_2/(alpha_1*x_1))*(1 - I*p_1/(2*alpha_1*h_b*x_1*(1 + 2*alpha_2*x_2/(alpha_1*x_1))))))*(-2*alpha_1*h_b*x_1 - 4*alpha_2*h_b*x_2 + I*p_1)) + 2*h_b**2*(sqrt(pi)*alpha_2**3*x_2**3*(1 - I*p_1/(2*alpha_2*h_b*x_2*(alpha_1*x_1/(alpha_2*x_2) + 2)))**3*(1 + I*p_2/(alpha_2*h_b*x_2*(1 - I*p_1/(2*alpha_2*h_b*x_2*(alpha_1*x_1/(alpha_2*x_2) + 2)))*(alpha_1*x_1/(alpha_2*x_2) + 2)))**3*(alpha_1*x_1/(alpha_2*x_2) + 2)**3*(sqrt(alpha_1)*exp(-alpha_2**2*x_2**2*(1 - I*p_1/(2*alpha_2*h_b*x_2*(alpha_1*x_1/(alpha_2*x_2) + 2)))**2*(1 + I*p_2/(alpha_2*h_b*x_2*(1 - I*p_1/(2*alpha_2*h_b*x_2*(alpha_1*x_1/(alpha_2*x_2) + 2)))*(alpha_1*x_1/(alpha_2*x_2) + 2)))**2*(alpha_1*x_1/(alpha_2*x_2) + 2)**2/(alpha_1*(1 + 2*alpha_2/alpha_1)))*sqrt(polar_lift(1 + 2*alpha_2/alpha_1))/(alpha_2*x_2*(1 - I*p_1/(2*alpha_2*h_b*x_2*(alpha_1*x_1/(alpha_2*x_2) + 2)))*(1 + I*p_2/(alpha_2*h_b*x_2*(1 - I*p_1/(2*alpha_2*h_b*x_2*(alpha_1*x_1/(alpha_2*x_2) + 2)))*(alpha_1*x_1/(alpha_2*x_2) + 2)))*(alpha_1*x_1/(alpha_2*x_2) + 2)) + sqrt(pi)*erf(alpha_2*x_2*(1 - I*p_1/(2*alpha_2*h_b*x_2*(alpha_1*x_1/(alpha_2*x_2) + 2)))*(1 + I*p_2/(alpha_2*h_b*x_2*(1 - I*p_1/(2*alpha_2*h_b*x_2*(alpha_1*x_1/(alpha_2*x_2) + 2)))*(alpha_1*x_1/(alpha_2*x_2) + 2)))*(alpha_1*x_1/(alpha_2*x_2) + 2)/(sqrt(alpha_1)*sqrt(polar_lift(1 + 2*alpha_2/alpha_1)))))*exp(alpha_2**2*x_2**2*(1 - I*p_1/(2*alpha_2*h_b*x_2*(alpha_1*x_1/(alpha_2*x_2) + 2)))**2*(1 + I*p_2/(alpha_2*h_b*x_2*(1 - I*p_1/(2*alpha_2*h_b*x_2*(alpha_1*x_1/(alpha_2*x_2) + 2)))*(alpha_1*x_1/(alpha_2*x_2) + 2)))**2*(alpha_1*x_1/(alpha_2*x_2) + 2)**2/(alpha_1*(1 + 2*alpha_2/alpha_1)))/(alpha_1**(3/2)*polar_lift(1 + 2*alpha_2/alpha_1)**(3/2)) - pi*alpha_2**3*x_2**3*(1 - I*p_1/(2*alpha_2*h_b*x_2*(alpha_1*x_1/(alpha_2*x_2) + 2)))**3*(1 + I*p_2/(alpha_2*h_b*x_2*(1 - I*p_1/(2*alpha_2*h_b*x_2*(alpha_1*x_1/(alpha_2*x_2) + 2)))*(alpha_1*x_1/(alpha_2*x_2) + 2)))**3*(alpha_1*x_1/(alpha_2*x_2) + 2)**3*exp(alpha_2**2*x_2**2*(1 - I*p_1/(2*alpha_2*h_b*x_2*(alpha_1*x_1/(alpha_2*x_2) + 2)))**2*(1 + I*p_2/(alpha_2*h_b*x_2*(1 - I*p_1/(2*alpha_2*h_b*x_2*(alpha_1*x_1/(alpha_2*x_2) + 2)))*(alpha_1*x_1/(alpha_2*x_2) + 2)))**2*(alpha_1*x_1/(alpha_2*x_2) + 2)**2/(alpha_1*(1 + 2*alpha_2/alpha_1)))/(alpha_1**(3/2)*polar_lift(1 + 2*alpha_2/alpha_1)**(3/2)))/(sqrt(pi)*x_2*(1 - I*p_1/(2*alpha_2*h_b*x_2*(alpha_1*x_1/(alpha_2*x_2) + 2)))*(1 + I*p_2/(alpha_2*h_b*x_2*(1 - I*p_1/(2*alpha_2*h_b*x_2*(alpha_1*x_1/(alpha_2*x_2) + 2)))*(alpha_1*x_1/(alpha_2*x_2) + 2)))**2*(alpha_1*x_1/(alpha_2*x_2) + 2)*(-2*alpha_1*h_b*x_1 - 4*alpha_2*h_b*x_2 + I*p_1)) + I*h_b*p_2*(-pi*alpha_2*x_2*(1 - I*p_1/(2*alpha_2*h_b*x_2*(alpha_1*x_1/(alpha_2*x_2) + 2)))*(1 + I*p_2/(alpha_2*h_b*x_2*(1 - I*p_1/(2*alpha_2*h_b*x_2*(alpha_1*x_1/(alpha_2*x_2) + 2)))*(alpha_1*x_1/(alpha_2*x_2) + 2)))*(alpha_1*x_1/(alpha_2*x_2) + 2)*exp(alpha_2**2*x_2**2*(1 - I*p_1/(2*alpha_2*h_b*x_2*(alpha_1*x_1/(alpha_2*x_2) + 2)))**2*(1 + I*p_2/(alpha_2*h_b*x_2*(1 - I*p_1/(2*alpha_2*h_b*x_2*(alpha_1*x_1/(alpha_2*x_2) + 2)))*(alpha_1*x_1/(alpha_2*x_2) + 2)))**2*(alpha_1*x_1/(alpha_2*x_2) + 2)**2/(alpha_1*(1 + 2*alpha_2/alpha_1)))*erf(alpha_2*x_2*(1 - I*p_1/(2*alpha_2*h_b*x_2*(alpha_1*x_1/(alpha_2*x_2) + 2)))*(1 + I*p_2/(alpha_2*h_b*x_2*(1 - I*p_1/(2*alpha_2*h_b*x_2*(alpha_1*x_1/(alpha_2*x_2) + 2)))*(alpha_1*x_1/(alpha_2*x_2) + 2)))*(alpha_1*x_1/(alpha_2*x_2) + 2)/(sqrt(alpha_1)*sqrt(polar_lift(1 + 2*alpha_2/alpha_1))))/(sqrt(alpha_1)*sqrt(polar_lift(1 + 2*alpha_2/alpha_1))) + pi*alpha_2*x_2*(1 - I*p_1/(2*alpha_2*h_b*x_2*(alpha_1*x_1/(alpha_2*x_2) + 2)))*(1 + I*p_2/(alpha_2*h_b*x_2*(1 - I*p_1/(2*alpha_2*h_b*x_2*(alpha_1*x_1/(alpha_2*x_2) + 2)))*(alpha_1*x_1/(alpha_2*x_2) + 2)))*(alpha_1*x_1/(alpha_2*x_2) + 2)*exp(alpha_2**2*x_2**2*(1 - I*p_1/(2*alpha_2*h_b*x_2*(alpha_1*x_1/(alpha_2*x_2) + 2)))**2*(1 + I*p_2/(alpha_2*h_b*x_2*(1 - I*p_1/(2*alpha_2*h_b*x_2*(alpha_1*x_1/(alpha_2*x_2) + 2)))*(alpha_1*x_1/(alpha_2*x_2) + 2)))**2*(alpha_1*x_1/(alpha_2*x_2) + 2)**2/(alpha_1*(1 + 2*alpha_2/alpha_1)))/(sqrt(alpha_1)*sqrt(polar_lift(1 + 2*alpha_2/alpha_1))))/(sqrt(pi)*(1 + I*p_2/(alpha_2*h_b*x_2*(1 - I*p_1/(2*alpha_2*h_b*x_2*(alpha_1*x_1/(alpha_2*x_2) + 2)))*(alpha_1*x_1/(alpha_2*x_2) + 2)))*(-2*alpha_1*h_b*x_1 - 4*alpha_2*h_b*x_2 + I*p_1)) - I*h_b*p_2*(-pi*sqrt(alpha_1)*x_1*(1 + 2*alpha_2*x_2/(alpha_1*x_1))*(1 - I*p_1/(2*alpha_1*h_b*x_1*(1 + 2*alpha_2*x_2/(alpha_1*x_1))))*(1 + I*p_2/(alpha_1*h_b*x_1*(1 + 2*alpha_2*x_2/(alpha_1*x_1))*(1 - I*p_1/(2*alpha_1*h_b*x_1*(1 + 2*alpha_2*x_2/(alpha_1*x_1))))))*exp(alpha_1*x_1**2*(1 + 2*alpha_2*x_2/(alpha_1*x_1))**2*(1 - I*p_1/(2*alpha_1*h_b*x_1*(1 + 2*alpha_2*x_2/(alpha_1*x_1))))**2*(1 + I*p_2/(alpha_1*h_b*x_1*(1 + 2*alpha_2*x_2/(alpha_1*x_1))*(1 - I*p_1/(2*alpha_1*h_b*x_1*(1 + 2*alpha_2*x_2/(alpha_1*x_1))))))**2/(1 + 2*alpha_2/alpha_1))*erf(sqrt(alpha_1)*x_1*(1 + 2*alpha_2*x_2/(alpha_1*x_1))*(1 - I*p_1/(2*alpha_1*h_b*x_1*(1 + 2*alpha_2*x_2/(alpha_1*x_1))))*(1 + I*p_2/(alpha_1*h_b*x_1*(1 + 2*alpha_2*x_2/(alpha_1*x_1))*(1 - I*p_1/(2*alpha_1*h_b*x_1*(1 + 2*alpha_2*x_2/(alpha_1*x_1))))))/sqrt(polar_lift(1 + 2*alpha_2/alpha_1)))/sqrt(polar_lift(1 + 2*alpha_2/alpha_1)) - pi*sqrt(alpha_1)*x_1*(1 + 2*alpha_2*x_2/(alpha_1*x_1))*(1 - I*p_1/(2*alpha_1*h_b*x_1*(1 + 2*alpha_2*x_2/(alpha_1*x_1))))*(1 + I*p_2/(alpha_1*h_b*x_1*(1 + 2*alpha_2*x_2/(alpha_1*x_1))*(1 - I*p_1/(2*alpha_1*h_b*x_1*(1 + 2*alpha_2*x_2/(alpha_1*x_1))))))*exp(alpha_1*x_1**2*(1 + 2*alpha_2*x_2/(alpha_1*x_1))**2*(1 - I*p_1/(2*alpha_1*h_b*x_1*(1 + 2*alpha_2*x_2/(alpha_1*x_1))))**2*(1 + I*p_2/(alpha_1*h_b*x_1*(1 + 2*alpha_2*x_2/(alpha_1*x_1))*(1 - I*p_1/(2*alpha_1*h_b*x_1*(1 + 2*alpha_2*x_2/(alpha_1*x_1))))))**2/(1 + 2*alpha_2/alpha_1))/sqrt(polar_lift(1 + 2*alpha_2/alpha_1)))/(sqrt(pi)*(1 + I*p_2/(alpha_1*h_b*x_1*(1 + 2*alpha_2*x_2/(alpha_1*x_1))*(1 - I*p_1/(2*alpha_1*h_b*x_1*(1 + 2*alpha_2*x_2/(alpha_1*x_1))))))*(-2*alpha_1*h_b*x_1 - 4*alpha_2*h_b*x_2 + I*p_1)) - 2*alpha_2*h_b**2*(sqrt(pi)*alpha_1**(3/2)*x_1**3*(1 + 2*alpha_2*x_2/(alpha_1*x_1))**3*(1 - I*p_1/(2*alpha_1*h_b*x_1*(1 + 2*alpha_2*x_2/(alpha_1*x_1))))**3*(1 + I*p_2/(alpha_1*h_b*x_1*(1 + 2*alpha_2*x_2/(alpha_1*x_1))*(1 - I*p_1/(2*alpha_1*h_b*x_1*(1 + 2*alpha_2*x_2/(alpha_1*x_1))))))**3*(sqrt(pi)*erf(sqrt(alpha_1)*x_1*(1 + 2*alpha_2*x_2/(alpha_1*x_1))*(1 - I*p_1/(2*alpha_1*h_b*x_1*(1 + 2*alpha_2*x_2/(alpha_1*x_1))))*(1 + I*p_2/(alpha_1*h_b*x_1*(1 + 2*alpha_2*x_2/(alpha_1*x_1))*(1 - I*p_1/(2*alpha_1*h_b*x_1*(1 + 2*alpha_2*x_2/(alpha_1*x_1))))))/sqrt(polar_lift(1 + 2*alpha_2/alpha_1))) + exp(-alpha_1*x_1**2*(1 + 2*alpha_2*x_2/(alpha_1*x_1))**2*(1 - I*p_1/(2*alpha_1*h_b*x_1*(1 + 2*alpha_2*x_2/(alpha_1*x_1))))**2*(1 + I*p_2/(alpha_1*h_b*x_1*(1 + 2*alpha_2*x_2/(alpha_1*x_1))*(1 - I*p_1/(2*alpha_1*h_b*x_1*(1 + 2*alpha_2*x_2/(alpha_1*x_1))))))**2/(1 + 2*alpha_2/alpha_1))*sqrt(polar_lift(1 + 2*alpha_2/alpha_1))/(sqrt(alpha_1)*x_1*(1 + 2*alpha_2*x_2/(alpha_1*x_1))*(1 - I*p_1/(2*alpha_1*h_b*x_1*(1 + 2*alpha_2*x_2/(alpha_1*x_1))))*(1 + I*p_2/(alpha_1*h_b*x_1*(1 + 2*alpha_2*x_2/(alpha_1*x_1))*(1 - I*p_1/(2*alpha_1*h_b*x_1*(1 + 2*alpha_2*x_2/(alpha_1*x_1))))))))*exp(alpha_1*x_1**2*(1 + 2*alpha_2*x_2/(alpha_1*x_1))**2*(1 - I*p_1/(2*alpha_1*h_b*x_1*(1 + 2*alpha_2*x_2/(alpha_1*x_1))))**2*(1 + I*p_2/(alpha_1*h_b*x_1*(1 + 2*alpha_2*x_2/(alpha_1*x_1))*(1 - I*p_1/(2*alpha_1*h_b*x_1*(1 + 2*alpha_2*x_2/(alpha_1*x_1))))))**2/(1 + 2*alpha_2/alpha_1))/polar_lift(1 + 2*alpha_2/alpha_1)**(3/2) + pi*alpha_1**(3/2)*x_1**3*(1 + 2*alpha_2*x_2/(alpha_1*x_1))**3*(1 - I*p_1/(2*alpha_1*h_b*x_1*(1 + 2*alpha_2*x_2/(alpha_1*x_1))))**3*(1 + I*p_2/(alpha_1*h_b*x_1*(1 + 2*alpha_2*x_2/(alpha_1*x_1))*(1 - I*p_1/(2*alpha_1*h_b*x_1*(1 + 2*alpha_2*x_2/(alpha_1*x_1))))))**3*exp(alpha_1*x_1**2*(1 + 2*alpha_2*x_2/(alpha_1*x_1))**2*(1 - I*p_1/(2*alpha_1*h_b*x_1*(1 + 2*alpha_2*x_2/(alpha_1*x_1))))**2*(1 + I*p_2/(alpha_1*h_b*x_1*(1 + 2*alpha_2*x_2/(alpha_1*x_1))*(1 - I*p_1/(2*alpha_1*h_b*x_1*(1 + 2*alpha_2*x_2/(alpha_1*x_1))))))**2/(1 + 2*alpha_2/alpha_1))/polar_lift(1 + 2*alpha_2/alpha_1)**(3/2))/(sqrt(pi)*alpha_1*x_1*(1 + 2*alpha_2*x_2/(alpha_1*x_1))*(1 - I*p_1/(2*alpha_1*h_b*x_1*(1 + 2*alpha_2*x_2/(alpha_1*x_1))))*(1 + I*p_2/(alpha_1*h_b*x_1*(1 + 2*alpha_2*x_2/(alpha_1*x_1))*(1 - I*p_1/(2*alpha_1*h_b*x_1*(1 + 2*alpha_2*x_2/(alpha_1*x_1))))))**2*(-2*alpha_1*h_b*x_1 - 4*alpha_2*h_b*x_2 + I*p_1)))\n",
    "\n",
    "simplify(INTEGARL)"
   ]
  },
  {
   "cell_type": "code",
   "execution_count": null,
   "metadata": {},
   "outputs": [],
   "source": []
  }
 ],
 "metadata": {
  "kernelspec": {
   "display_name": "Python 3",
   "language": "python",
   "name": "python3"
  },
  "language_info": {
   "codemirror_mode": {
    "name": "ipython",
    "version": 3
   },
   "file_extension": ".py",
   "mimetype": "text/x-python",
   "name": "python",
   "nbconvert_exporter": "python",
   "pygments_lexer": "ipython3",
   "version": "3.7.1"
  }
 },
 "nbformat": 4,
 "nbformat_minor": 2
}
