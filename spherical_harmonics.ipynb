{
 "cells": [
  {
   "cell_type": "code",
   "execution_count": 2,
   "metadata": {},
   "outputs": [],
   "source": [
    "from Pysces import *"
   ]
  },
  {
   "cell_type": "markdown",
   "metadata": {},
   "source": [
    "Certain operators for spherical harmonics are defined in the Pysces library, such as L_2, L_z, the L_lowering_operator, the L_raising_operator, and the L_x operator."
   ]
  },
  {
   "cell_type": "markdown",
   "metadata": {},
   "source": [
    "Let's first look at the L_2 operator. Note that this is the \"L^2\" operator, which is an eigenvalue in spherical harmonics and is the vector magnitude."
   ]
  },
  {
   "cell_type": "code",
   "execution_count": 3,
   "metadata": {},
   "outputs": [
    {
     "data": {
      "image/png": "[encoded data removed]",
      "text/latex": [
       "$$h_{b}^{2} j \\left(j + 1\\right) {\\left\\langle j,m\\right|} {\\left|j,m\\right\\rangle }$$"
      ],
      "text/plain": [
       "   2                      \n",
       "h_b ⋅j⋅(j + 1)⋅⟨j,m❘⋅❘j,m⟩"
      ]
     },
     "execution_count": 3,
     "metadata": {},
     "output_type": "execute_result"
    }
   ],
   "source": [
    "L_2(j, m)"
   ]
  },
  {
   "cell_type": "markdown",
   "metadata": {},
   "source": [
    "This is the general notation, with j and m variables.\n",
    "\n",
    "Let's look at an example, where:\n",
    "\n",
    "j = 2\n",
    "\n",
    "m = 1"
   ]
  },
  {
   "cell_type": "code",
   "execution_count": 4,
   "metadata": {},
   "outputs": [
    {
     "data": {
      "image/png": "[encoded data removed]",
      "text/latex": [
       "$$6 h_{b}^{2} {\\left\\langle 2,1\\right|} {\\left|2,1\\right\\rangle }$$"
      ],
      "text/plain": [
       "     2            \n",
       "6⋅h_b ⋅⟨2,1❘⋅❘2,1⟩"
      ]
     },
     "execution_count": 4,
     "metadata": {},
     "output_type": "execute_result"
    }
   ],
   "source": [
    "L_2(2, 1)"
   ]
  },
  {
   "cell_type": "markdown",
   "metadata": {},
   "source": [
    "Note that the \"bra\" and \"ket\" are the same, and therefore equal one.\n",
    "\n",
    "It is an ongoing area of research to have this equal one automatically."
   ]
  },
  {
   "cell_type": "markdown",
   "metadata": {},
   "source": [
    "Now, let's look at the L_z eigenvalue, which in spherical harmonics is the projection on a preferred direction, in this case the z direction."
   ]
  },
  {
   "cell_type": "code",
   "execution_count": 5,
   "metadata": {},
   "outputs": [
    {
     "data": {
      "image/png": "[encoded data removed]",
      "text/latex": [
       "$$h_{b} m {\\left\\langle j,m\\right|} {\\left|j,m\\right\\rangle }$$"
      ],
      "text/plain": [
       "h_b⋅m⋅⟨j,m❘⋅❘j,m⟩"
      ]
     },
     "execution_count": 5,
     "metadata": {},
     "output_type": "execute_result"
    }
   ],
   "source": [
    "L_z(j, m)"
   ]
  },
  {
   "cell_type": "markdown",
   "metadata": {},
   "source": [
    "This is the general notation, with j and m variables.\n",
    "\n",
    "Let's look at an example, where:\n",
    "\n",
    "j = 2\n",
    "\n",
    "m = 1"
   ]
  },
  {
   "cell_type": "code",
   "execution_count": 8,
   "metadata": {},
   "outputs": [
    {
     "data": {
      "image/png": "[encoded data removed]",
      "text/latex": [
       "$$h_{b} {\\left\\langle 2,1\\right|} {\\left|2,1\\right\\rangle }$$"
      ],
      "text/plain": [
       "h_b⋅⟨2,1❘⋅❘2,1⟩"
      ]
     },
     "execution_count": 8,
     "metadata": {},
     "output_type": "execute_result"
    }
   ],
   "source": [
    "L_z(2, 1)"
   ]
  },
  {
   "cell_type": "markdown",
   "metadata": {},
   "source": [
    "Again, the \"bra\" and \"ket\" are the same, and therefore equal one."
   ]
  },
  {
   "cell_type": "markdown",
   "metadata": {},
   "source": [
    "We also have defined the lowering and raising operators in spherical harmonics."
   ]
  },
  {
   "cell_type": "code",
   "execution_count": 6,
   "metadata": {},
   "outputs": [
    {
     "data": {
      "image/png": "[encoded data removed]",
      "text/latex": [
       "$$h_{b} \\sqrt{j \\left(j + 1\\right) - m \\left(m - 1\\right)} {\\left\\langle j,m\\right|} {\\left|j,m - 1\\right\\rangle }$$"
      ],
      "text/plain": [
       "      _______________________                \n",
       "h_b⋅╲╱ j⋅(j + 1) - m⋅(m - 1) ⋅⟨j,m❘⋅❘j,m - 1⟩"
      ]
     },
     "metadata": {},
     "output_type": "display_data"
    },
    {
     "data": {
      "image/png": "[encoded data removed]",
      "text/latex": [
       "$$h_{b} \\sqrt{j \\left(j + 1\\right) - m \\left(m + 1\\right)} {\\left\\langle j,m\\right|} {\\left|j,m + 1\\right\\rangle }$$"
      ],
      "text/plain": [
       "      _______________________                \n",
       "h_b⋅╲╱ j⋅(j + 1) - m⋅(m + 1) ⋅⟨j,m❘⋅❘j,m + 1⟩"
      ]
     },
     "metadata": {},
     "output_type": "display_data"
    }
   ],
   "source": [
    "display(L_lowering_operator(j, m))\n",
    "\n",
    "display(L_raising_operator(j, m))"
   ]
  },
  {
   "cell_type": "markdown",
   "metadata": {},
   "source": [
    "Let's look at an example where:\n",
    "\n",
    "j = 2\n",
    "\n",
    "m = 2\n",
    "\n",
    "for both the lowering and raising operators."
   ]
  },
  {
   "cell_type": "code",
   "execution_count": 9,
   "metadata": {
    "scrolled": true
   },
   "outputs": [
    {
     "data": {
      "image/png": "[encoded data removed]",
      "text/latex": [
       "$$2 h_{b} {\\left\\langle 2,2\\right|} {\\left|2,1\\right\\rangle }$$"
      ],
      "text/plain": [
       "2⋅h_b⋅⟨2,2❘⋅❘2,1⟩"
      ]
     },
     "execution_count": 9,
     "metadata": {},
     "output_type": "execute_result"
    }
   ],
   "source": [
    "L_lowering_operator(2, 2)"
   ]
  },
  {
   "cell_type": "code",
   "execution_count": 10,
   "metadata": {},
   "outputs": [
    {
     "data": {
      "image/png": "[encoded data removed]",
      "text/latex": [
       "$$0$$"
      ],
      "text/plain": [
       "0"
      ]
     },
     "execution_count": 10,
     "metadata": {},
     "output_type": "execute_result"
    }
   ],
   "source": [
    "L_raising_operator(2, 2)"
   ]
  },
  {
   "cell_type": "markdown",
   "metadata": {},
   "source": [
    "These can be used in the L_x operator for spherical harmonics. The general expression can be found using the L_x() function without any variables:"
   ]
  },
  {
   "cell_type": "code",
   "execution_count": 10,
   "metadata": {},
   "outputs": [
    {
     "data": {
      "image/png": "[encoded data removed]",
      "text/latex": [
       "$$0.5 L_{+} + 0.5 L_{-}$$"
      ],
      "text/plain": [
       "0.5⋅L₊ + 0.5⋅L₋"
      ]
     },
     "execution_count": 10,
     "metadata": {},
     "output_type": "execute_result"
    }
   ],
   "source": [
    "L_x()"
   ]
  },
  {
   "cell_type": "markdown",
   "metadata": {},
   "source": [
    "It can also be shown as:"
   ]
  },
  {
   "cell_type": "code",
   "execution_count": 12,
   "metadata": {},
   "outputs": [
    {
     "data": {
      "image/png": "[encoded data removed]",
      "text/latex": [
       "$$0.5 \\left(h_{b} \\sqrt{j \\left(j + 1\\right) - m \\left(m - 1\\right)} {\\left\\langle j,m\\right|} {\\left|j,m - 1\\right\\rangle } + h_{b} \\sqrt{j \\left(j + 1\\right) - m \\left(m + 1\\right)} {\\left\\langle j,m\\right|} {\\left|j,m + 1\\right\\rangle }\\right)$$"
      ],
      "text/plain": [
       "    ⎛      _______________________                         ___________________\n",
       "0.5⋅⎝h_b⋅╲╱ j⋅(j + 1) - m⋅(m - 1) ⋅⟨j,m❘⋅❘j,m - 1⟩ + h_b⋅╲╱ j⋅(j + 1) - m⋅(m +\n",
       "\n",
       "____                ⎞\n",
       " 1) ⋅⟨j,m❘⋅❘j,m + 1⟩⎠"
      ]
     },
     "execution_count": 12,
     "metadata": {},
     "output_type": "execute_result"
    }
   ],
   "source": [
    "L_x(j, m)"
   ]
  },
  {
   "cell_type": "markdown",
   "metadata": {},
   "source": [
    "The following example is used with:\n",
    "\n",
    "j = 2\n",
    "\n",
    "m = 2"
   ]
  },
  {
   "cell_type": "code",
   "execution_count": 11,
   "metadata": {},
   "outputs": [
    {
     "data": {
      "image/png": "[encoded data removed]",
      "text/latex": [
       "$$1.0 h_{b} {\\left\\langle 2,2\\right|} {\\left|2,1\\right\\rangle }$$"
      ],
      "text/plain": [
       "1.0⋅h_b⋅⟨2,2❘⋅❘2,1⟩"
      ]
     },
     "execution_count": 11,
     "metadata": {},
     "output_type": "execute_result"
    }
   ],
   "source": [
    "L_x(2, 2)"
   ]
  },
  {
   "cell_type": "markdown",
   "metadata": {},
   "source": [
    "Since the \"bra\" and \"ket\" notation are different-valued, it equals zero, and therefore the entire expression is equal to zero."
   ]
  },
  {
   "cell_type": "code",
   "execution_count": null,
   "metadata": {},
   "outputs": [],
   "source": []
  }
 ],
 "metadata": {
  "kernelspec": {
   "display_name": "Python 3",
   "language": "python",
   "name": "python3"
  },
  "language_info": {
   "codemirror_mode": {
    "name": "ipython",
    "version": 3
   },
   "file_extension": ".py",
   "mimetype": "text/x-python",
   "name": "python",
   "nbconvert_exporter": "python",
   "pygments_lexer": "ipython3",
   "version": "3.7.1"
  }
 },
 "nbformat": 4,
 "nbformat_minor": 2
}
