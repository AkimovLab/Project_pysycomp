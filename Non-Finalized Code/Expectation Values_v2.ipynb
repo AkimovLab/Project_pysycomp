{
 "cells": [
  {
   "cell_type": "code",
   "execution_count": 1,
   "metadata": {},
   "outputs": [],
   "source": [
    "from Pysces import *"
   ]
  },
  {
   "cell_type": "markdown",
   "metadata": {},
   "source": [
    "Let's discuss what the above definition means:\n",
    "\n",
    "An expectation value is the average value of a normalized function over an integral.\n",
    "\n",
    "A = the wavefunction (generally denoted by psi)\n",
    "B = the average value you are looking at\n",
    "x = the variable that the integration is with respect to\n",
    "y = the lower bound of integration\n",
    "z = the upper bound of integration\n",
    "\n",
    "So, a general expression would be:"
   ]
  },
  {
   "cell_type": "code",
   "execution_count": 2,
   "metadata": {},
   "outputs": [
    {
     "data": {
      "image/png": "[encoded data removed]",
      "text/latex": [
       "$$\\int_{y}^{z} \\psi B \\psi\\, dx$$"
      ],
      "text/plain": [
       "z         \n",
       "⌠         \n",
       "⎮ ψ⋅B⋅ψ dx\n",
       "⌡         \n",
       "y         "
      ]
     },
     "execution_count": 2,
     "metadata": {},
     "output_type": "execute_result"
    }
   ],
   "source": [
    "Expect(psi, B, x, y, z)"
   ]
  },
  {
   "cell_type": "markdown",
   "metadata": {},
   "source": [
    "Note that the second A variable is the complex conjugate, but is not explicitly shown as such, since:\n",
    "\n",
    "Conj(psi) = psi"
   ]
  },
  {
   "cell_type": "markdown",
   "metadata": {},
   "source": [
    "# Particle in a Box"
   ]
  },
  {
   "cell_type": "markdown",
   "metadata": {},
   "source": [
    "We can, in theory, use the above notation to examine the particle in a box problem:\n",
    "\n",
    "PiB() function is just the particle in a box function\n",
    "\n",
    "PiB_Norm() function is the normalized particle in a box function"
   ]
  },
  {
   "cell_type": "markdown",
   "metadata": {},
   "source": [
    "We are looking for the average location (x) of the particle in a one-dimensional box:"
   ]
  },
  {
   "cell_type": "code",
   "execution_count": 5,
   "metadata": {},
   "outputs": [
    {
     "data": {
      "image/png": "[encoded data removed]",
      "text/latex": [
       "$$\\int_{0}^{L} \\sqrt{2} \\sqrt{\\frac{1}{L}} \\sin{\\left (\\frac{n \\pi x}{L} \\right )} x \\sqrt{2} \\sqrt{\\frac{1}{L}} \\sin{\\left (\\frac{n \\pi x}{L} \\right )}\\, dx$$"
      ],
      "text/plain": [
       "L                                                 \n",
       "⌠                                                 \n",
       "⎮        ___                     ___              \n",
       "⎮       ╱ 1     ⎛n⋅π⋅x⎞         ╱ 1     ⎛n⋅π⋅x⎞   \n",
       "⎮ √2⋅  ╱  ─ ⋅sin⎜─────⎟⋅x⋅√2⋅  ╱  ─ ⋅sin⎜─────⎟ dx\n",
       "⎮    ╲╱   L     ⎝  L  ⎠      ╲╱   L     ⎝  L  ⎠   \n",
       "⌡                                                 \n",
       "0                                                 "
      ]
     },
     "metadata": {},
     "output_type": "display_data"
    },
    {
     "data": {
      "text/latex": [
       "$$\\begin{cases} - \\frac{\\sqrt{2} L \\sqrt{\\frac{1}{L}} \\cos{\\left (n \\pi \\right )} L \\sqrt{2} \\sqrt{\\frac{1}{L}} \\sin{\\left (n \\pi \\right )}}{n \\pi} + \\frac{\\sqrt{2} L \\sqrt{\\frac{1}{L}} 0^{2}}{n \\pi} & \\text{for}\\: \\frac{n \\pi}{L} \\neq 0 \\\\0 & \\text{otherwise} \\end{cases}$$"
      ],
      "text/plain": [
       "⎧           ___                   ___                     ___                \n",
       "⎪          ╱ 1                   ╱ 1                     ╱ 1   2             \n",
       "⎪  √2⋅L⋅  ╱  ─ ⋅cos(n⋅π)⋅L⋅√2⋅  ╱  ─ ⋅sin(n⋅π)   √2⋅L⋅  ╱  ─ ⋅0              \n",
       "⎪       ╲╱   L                ╲╱   L                  ╲╱   L          n⋅π    \n",
       "⎨- ─────────────────────────────────────────── + ───────────────  for ─── ≠ 0\n",
       "⎪                      n⋅π                             n⋅π             L     \n",
       "⎪                                                                            \n",
       "⎪                               0                                  otherwise \n",
       "⎩                                                                            "
      ]
     },
     "metadata": {},
     "output_type": "display_data"
    }
   ],
   "source": [
    "psi = PiB_Norm(x, L, n)\n",
    "\n",
    "display(Expect(psi, x, x, 0, L))\n",
    "display(Expect(psi, x, x, 0, L).doit())"
   ]
  },
  {
   "cell_type": "markdown",
   "metadata": {},
   "source": [
    "However, this is an incorrect computation for the particle in a box. The correct expectation value is:\n",
    "\n",
    "2/L\n",
    "\n",
    "Indicating the most probable location for finding the particle is in the center of the box."
   ]
  },
  {
   "cell_type": "code",
   "execution_count": null,
   "metadata": {},
   "outputs": [],
   "source": []
  }
 ],
 "metadata": {
  "kernelspec": {
   "display_name": "Python 3",
   "language": "python",
   "name": "python3"
  },
  "language_info": {
   "codemirror_mode": {
    "name": "ipython",
    "version": 3
   },
   "file_extension": ".py",
   "mimetype": "text/x-python",
   "name": "python",
   "nbconvert_exporter": "python",
   "pygments_lexer": "ipython3",
   "version": "3.7.5"
  }
 },
 "nbformat": 4,
 "nbformat_minor": 2
}
