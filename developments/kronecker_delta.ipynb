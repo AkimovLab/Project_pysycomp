{
 "cells": [
  {
   "cell_type": "code",
   "execution_count": 11,
   "metadata": {
    "scrolled": true
   },
   "outputs": [],
   "source": [
    "from Pysces import *"
   ]
  },
  {
   "cell_type": "markdown",
   "metadata": {},
   "source": [
    "This is quite a simple definition and code."
   ]
  },
  {
   "cell_type": "code",
   "execution_count": 29,
   "metadata": {},
   "outputs": [],
   "source": [
    "def kronecker(i, j):\n",
    "    if i == j:\n",
    "        return 1\n",
    "    else:\n",
    "        return 0"
   ]
  },
  {
   "cell_type": "markdown",
   "metadata": {},
   "source": [
    "In order to compute the kronecker delta for a given summation, the \"i\" is described by a range, where the lower and upper values can be replaced.\n",
    "\n",
    "In the second line, the function (if there is one, in this case it is \"i*B\" can be replaced with a function of interest, given in the problem. \n",
    "\n",
    "The second argument in the kronecker is \"j\", and can be replaced if it is given a specific value, in the below example it is \"2\"."
   ]
  },
  {
   "cell_type": "code",
   "execution_count": 30,
   "metadata": {},
   "outputs": [
    {
     "data": {
      "image/png": "[encoded data removed]",
      "text/latex": [
       "$$0$$"
      ],
      "text/plain": [
       "0"
      ]
     },
     "metadata": {},
     "output_type": "display_data"
    },
    {
     "data": {
      "image/png": "[encoded data removed]",
      "text/latex": [
       "$$2 B$$"
      ],
      "text/plain": [
       "2⋅B"
      ]
     },
     "metadata": {},
     "output_type": "display_data"
    },
    {
     "data": {
      "image/png": "[encoded data removed]",
      "text/latex": [
       "$$0$$"
      ],
      "text/plain": [
       "0"
      ]
     },
     "metadata": {},
     "output_type": "display_data"
    }
   ],
   "source": [
    "for i in range(1, 4):\n",
    "    display(i*B*kronecker(i, 2))"
   ]
  },
  {
   "cell_type": "markdown",
   "metadata": {},
   "source": [
    "It is of interest to see if this can be displayed as an expression where the terms are added, instead of separate terms as is printed above."
   ]
  },
  {
   "cell_type": "markdown",
   "metadata": {},
   "source": [
    "\n",
    "\n",
    "_______________________________________________________________________________________________________________________________\n",
    "\n",
    "\n",
    "# Other experimentations, all have been unsuccessful."
   ]
  },
  {
   "cell_type": "code",
   "execution_count": 15,
   "metadata": {},
   "outputs": [],
   "source": [
    "def KRONECKER_1(A, D):\n",
    "    if A == D:\n",
    "        return 1\n",
    "    else:\n",
    "        return 0\n",
    "\n",
    "\n",
    "def KRONECKER(C, D):\n",
    "    if D == 1:\n",
    "        return C*KRONECKER_1(A, D)\n",
    "    if D == 2:\n",
    "        return C*KRONECKER_1(A, 1) + C*KRONECKER_1(A, D)"
   ]
  },
  {
   "cell_type": "code",
   "execution_count": 16,
   "metadata": {},
   "outputs": [
    {
     "data": {
      "image/png": "[encoded data removed]",
      "text/latex": [
       "$$x$$"
      ],
      "text/plain": [
       "x"
      ]
     },
     "execution_count": 16,
     "metadata": {},
     "output_type": "execute_result"
    }
   ],
   "source": [
    "x = Symbol('x')\n",
    "A = 2\n",
    "\n",
    "KRONECKER(x, 2)"
   ]
  },
  {
   "cell_type": "markdown",
   "metadata": {},
   "source": [
    "Maybe look into doing a loop... for loop?\n"
   ]
  },
  {
   "cell_type": "code",
   "execution_count": 17,
   "metadata": {},
   "outputs": [],
   "source": [
    "def KRONECKER(B, i, j, X, Y):\n",
    "    C, D = symbols(\"C D\")\n",
    "    display(Sum(B*i*j, (i, X, Y)))\n",
    "    for C in range(X, Y):\n",
    "        for D in range(X, Y):\n",
    "            if i == j:\n",
    "                return Sum(B*delta_ij, (i, X, Y)).doit().replace(i, 1).replace(j, 1)\n",
    "            elif i == j == B:\n",
    "                return B*i\n",
    "            else:\n",
    "                return 0\n",
    "\n",
    "            \n"
   ]
  },
  {
   "cell_type": "code",
   "execution_count": 18,
   "metadata": {},
   "outputs": [
    {
     "data": {
      "image/png": "[encoded data removed]",
      "text/latex": [
       "$$\\delta_{ij}$$"
      ],
      "text/plain": [
       "δ_ij"
      ]
     },
     "execution_count": 18,
     "metadata": {},
     "output_type": "execute_result"
    }
   ],
   "source": [
    "delta, delta_ij = symbols(\"delta delta_ij\")\n",
    "\n",
    "delta_ij"
   ]
  },
  {
   "cell_type": "markdown",
   "metadata": {},
   "source": [
    "\n",
    "_____________________________________________________________________________________________________________________________\n",
    "\n",
    "Below makes the most logical sense, and is based on what is in the second cell and applying it to a function. However, this is unsuccessful."
   ]
  },
  {
   "cell_type": "code",
   "execution_count": 27,
   "metadata": {},
   "outputs": [],
   "source": [
    "   \n",
    "def KRONECKER_DELTA(A, j, X, Y):\n",
    "    for i in range(X, Y):\n",
    "        return A*kronecker(i, j)"
   ]
  },
  {
   "cell_type": "code",
   "execution_count": 28,
   "metadata": {},
   "outputs": [
    {
     "data": {
      "image/png": "[encoded data removed]",
      "text/latex": [
       "$$0$$"
      ],
      "text/plain": [
       "0"
      ]
     },
     "execution_count": 28,
     "metadata": {},
     "output_type": "execute_result"
    }
   ],
   "source": [
    "   \n",
    "KRONECKER_DELTA(x, 2, 1, 5)"
   ]
  },
  {
   "cell_type": "markdown",
   "metadata": {},
   "source": [
    "I have also tried including \"i\" in the arguments and it does not work for some reason."
   ]
  },
  {
   "cell_type": "code",
   "execution_count": null,
   "metadata": {},
   "outputs": [],
   "source": []
  }
 ],
 "metadata": {
  "kernelspec": {
   "display_name": "Python 3",
   "language": "python",
   "name": "python3"
  },
  "language_info": {
   "codemirror_mode": {
    "name": "ipython",
    "version": 3
   },
   "file_extension": ".py",
   "mimetype": "text/x-python",
   "name": "python",
   "nbconvert_exporter": "python",
   "pygments_lexer": "ipython3",
   "version": "3.7.1"
  }
 },
 "nbformat": 4,
 "nbformat_minor": 2
}
