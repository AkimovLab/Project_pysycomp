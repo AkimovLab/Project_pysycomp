{
 "cells": [
  {
   "cell_type": "code",
   "execution_count": 1,
   "metadata": {},
   "outputs": [],
   "source": [
    "from pysces import *"
   ]
  },
  {
   "cell_type": "markdown",
   "metadata": {},
   "source": [
    "# Introduction to Spherical Harmonics"
   ]
  },
  {
   "cell_type": "markdown",
   "metadata": {},
   "source": [
    "First, let's look at the relationship between spherical and cartesian coordinate systems.\n",
    "\n",
    "Pysces has a predefined function, `spherical`, which can translate cartesian coordinates into spherical coordinates. Looking at the documentation, there is only one parameter:\n",
    "\n",
    "    expr: The expression of interest to be changed into spherical coordinates\n",
    "\n",
    "This looks like:\n",
    "\n",
    "`spherical(expr)`\n",
    "\n",
    "Let's look at a simple example."
   ]
  },
  {
   "cell_type": "markdown",
   "metadata": {},
   "source": [
    "# Example 1\n",
    "\n",
    "\n",
    "Let's look at a very simple function, $x^2$:"
   ]
  },
  {
   "cell_type": "code",
   "execution_count": 2,
   "metadata": {},
   "outputs": [
    {
     "data": {
      "image/png": "[encoded data removed]",
      "text/latex": [
       "$\\displaystyle r^{2} \\sin^{2}{\\left(\\theta \\right)} \\cos^{2}{\\left(\\phi \\right)}$"
      ],
      "text/plain": [
       " 2    2       2   \n",
       "r ⋅sin (θ)⋅cos (φ)"
      ]
     },
     "execution_count": 2,
     "metadata": {},
     "output_type": "execute_result"
    }
   ],
   "source": [
    "spherical(x**2)"
   ]
  },
  {
   "cell_type": "markdown",
   "metadata": {},
   "source": [
    "# Example 2"
   ]
  },
  {
   "cell_type": "code",
   "execution_count": 3,
   "metadata": {},
   "outputs": [
    {
     "data": {
      "image/png": "[encoded data removed]",
      "text/latex": [
       "$\\displaystyle - \\hbar i \\frac{d}{d z} 1$"
      ],
      "text/plain": [
       "     d    \n",
       "-h̅⋅i⋅──(1)\n",
       "     dz   "
      ]
     },
     "execution_count": 3,
     "metadata": {},
     "output_type": "execute_result"
    }
   ],
   "source": [
    "lin_mom(z)"
   ]
  },
  {
   "cell_type": "code",
   "execution_count": 4,
   "metadata": {},
   "outputs": [
    {
     "data": {
      "image/png": "[encoded data removed]",
      "text/latex": [
       "$\\displaystyle - \\hbar i \\left(\\cos{\\left(\\theta \\right)} \\frac{d}{d r} 1 - \\frac{\\sin{\\left(\\theta \\right)} \\frac{d}{d \\theta} 1}{r}\\right)$"
      ],
      "text/plain": [
       "     ⎛                      d    ⎞\n",
       "     ⎜               sin(θ)⋅──(1)⎟\n",
       "     ⎜       d              dθ   ⎟\n",
       "-h̅⋅i⋅⎜cos(θ)⋅──(1) - ────────────⎟\n",
       "     ⎝       dr           r      ⎠"
      ]
     },
     "execution_count": 4,
     "metadata": {},
     "output_type": "execute_result"
    }
   ],
   "source": [
    "spherical(lin_mom(z))"
   ]
  },
  {
   "cell_type": "markdown",
   "metadata": {},
   "source": [
    "# Spherical Harmonics Operators"
   ]
  },
  {
   "cell_type": "markdown",
   "metadata": {},
   "source": [
    "Certain operators for spherical harmonics are defined in the pysces library, such as `L_2`, `L_z`, the `L_lowering_operator`, the `L_raising_operator`, and the `L_x` operator."
   ]
  },
  {
   "cell_type": "markdown",
   "metadata": {},
   "source": [
    "# $L^2$ Operator"
   ]
  },
  {
   "cell_type": "markdown",
   "metadata": {},
   "source": [
    "Let's first look at the `ang_mom_2` operator. Note that this is the $\"L^2\"$ operator, which is an eigenvalue in spherical harmonics and is the vector magnitude. This operator has two parameters:\n",
    "\n",
    "        j: The total angular momentum quantum number\n",
    "        m: The magnetic quantum number\n",
    "\n",
    "This looks like:\n",
    "\n",
    "`ang_mom_2(j, m)`\n",
    "\n",
    "By running this function with the `j` and `m` values specifically, the output is the general notation for the $L^2$ operator."
   ]
  },
  {
   "cell_type": "code",
   "execution_count": 5,
   "metadata": {},
   "outputs": [
    {
     "data": {
      "image/png": "[encoded data removed]",
      "text/latex": [
       "$\\displaystyle \\hbar^{2} j \\left(j + 1\\right) {\\left\\langle j,m\\right|} {\\left|j,m\\right\\rangle }$"
      ],
      "text/plain": [
       " 2                      \n",
       "h̅ ⋅j⋅(j + 1)⋅⟨j,m❘⋅❘j,m⟩"
      ]
     },
     "execution_count": 5,
     "metadata": {},
     "output_type": "execute_result"
    }
   ],
   "source": [
    "ang_mom_2(j, m)"
   ]
  },
  {
   "cell_type": "markdown",
   "metadata": {},
   "source": [
    "This is the general notation, with j and m variables.\n",
    "\n",
    "# Example 3\n",
    "\n",
    "Let's look at an example, where:\n",
    "\n",
    "`ang_mom` = 2\n",
    "\n",
    "`mag` = 1"
   ]
  },
  {
   "cell_type": "code",
   "execution_count": 6,
   "metadata": {},
   "outputs": [
    {
     "data": {
      "image/png": "[encoded data removed]",
      "text/latex": [
       "$\\displaystyle 6 \\hbar^{2}$"
      ],
      "text/plain": [
       "   2\n",
       "6⋅h̅ "
      ]
     },
     "execution_count": 6,
     "metadata": {},
     "output_type": "execute_result"
    }
   ],
   "source": [
    "ang_mom_2(2, 1)"
   ]
  },
  {
   "cell_type": "markdown",
   "metadata": {},
   "source": [
    "Note that the \"bra\" and \"ket\" are the same, and therefore equal one. This is automatically computed."
   ]
  },
  {
   "cell_type": "markdown",
   "metadata": {},
   "source": [
    "# $L_z$ Eigenvalue"
   ]
  },
  {
   "cell_type": "markdown",
   "metadata": {},
   "source": [
    "Now, let's look at the $L_z$ eigenvalue which is defined by `ang_mom_z()` in the pysces library. This eigenvalue in spherical harmonics is the projection on a preferred direction, in this case the z direction."
   ]
  },
  {
   "cell_type": "code",
   "execution_count": 7,
   "metadata": {},
   "outputs": [
    {
     "data": {
      "image/png": "[encoded data removed]",
      "text/latex": [
       "$\\displaystyle \\hbar m {\\left\\langle j,m\\right|} {\\left|j,m\\right\\rangle }$"
      ],
      "text/plain": [
       "h̅⋅m⋅⟨j,m❘⋅❘j,m⟩"
      ]
     },
     "execution_count": 7,
     "metadata": {},
     "output_type": "execute_result"
    }
   ],
   "source": [
    "ang_mom_z(j, m)"
   ]
  },
  {
   "cell_type": "markdown",
   "metadata": {},
   "source": [
    "This is the general notation, with j and m variables.\n",
    "\n",
    "# Example 4\n",
    "\n",
    "Let's look at an example, where:\n",
    "\n",
    "`ang_mom` = 2\n",
    "\n",
    "`mag` = 1"
   ]
  },
  {
   "cell_type": "code",
   "execution_count": 8,
   "metadata": {},
   "outputs": [
    {
     "data": {
      "image/png": "[encoded data removed]",
      "text/latex": [
       "$\\displaystyle \\hbar$"
      ],
      "text/plain": [
       "h̅"
      ]
     },
     "execution_count": 8,
     "metadata": {},
     "output_type": "execute_result"
    }
   ],
   "source": [
    "ang_mom_z(2, 1)"
   ]
  },
  {
   "cell_type": "markdown",
   "metadata": {},
   "source": [
    "Again, the \"bra\" and \"ket\" are the same, and therefore equal one."
   ]
  },
  {
   "cell_type": "markdown",
   "metadata": {},
   "source": [
    "# Lowering and Raising Operators"
   ]
  },
  {
   "cell_type": "markdown",
   "metadata": {},
   "source": [
    "We also have defined the lowering and raising operators in spherical harmonics.\n",
    "\n",
    "For the `ang_mom_lowering()` and `ang_mom_raising()` functions, there are two parameters:\n",
    "\n",
    "        ang_mom: The total angular momentum quantum number\n",
    "        mag: The magnetic quantum number\n",
    "        \n",
    "Which looks like:\n",
    "\n",
    "`ang_mom_lowering(ang_mom, mag)` or `ang_mom_raising(ang_mom, mag)`\n",
    "\n",
    "The general notation can be found if `ang_mom` = j and `mag` = m"
   ]
  },
  {
   "cell_type": "code",
   "execution_count": 9,
   "metadata": {},
   "outputs": [
    {
     "data": {
      "image/png": "[encoded data removed]",
      "text/latex": [
       "$\\displaystyle \\hbar \\sqrt{j \\left(j + 1\\right) - m \\left(m - 1\\right)} {\\left\\langle j,m\\right|} {\\left|j,m - 1\\right\\rangle }$"
      ],
      "text/plain": [
       "    _______________________                \n",
       "h̅⋅╲╱ j⋅(j + 1) - m⋅(m - 1) ⋅⟨j,m❘⋅❘j,m - 1⟩"
      ]
     },
     "metadata": {},
     "output_type": "display_data"
    },
    {
     "data": {
      "image/png": "[encoded data removed]",
      "text/latex": [
       "$\\displaystyle \\hbar \\sqrt{j \\left(j + 1\\right) - m \\left(m + 1\\right)} {\\left\\langle j,m\\right|} {\\left|j,m + 1\\right\\rangle }$"
      ],
      "text/plain": [
       "    _______________________                \n",
       "h̅⋅╲╱ j⋅(j + 1) - m⋅(m + 1) ⋅⟨j,m❘⋅❘j,m + 1⟩"
      ]
     },
     "metadata": {},
     "output_type": "display_data"
    }
   ],
   "source": [
    "display(ang_mom_lowering(j, m))\n",
    "\n",
    "display(ang_mom_raising(j, m))"
   ]
  },
  {
   "cell_type": "markdown",
   "metadata": {},
   "source": [
    "# Example 5\n",
    "\n",
    "Let's look at an example where:\n",
    "\n",
    "`ang_mom` = 2\n",
    "\n",
    "`mag` = 2\n",
    "\n",
    "for both the lowering and raising operators."
   ]
  },
  {
   "cell_type": "code",
   "execution_count": 10,
   "metadata": {
    "scrolled": true
   },
   "outputs": [
    {
     "data": {
      "image/png": "[encoded data removed]",
      "text/latex": [
       "$\\displaystyle 0$"
      ],
      "text/plain": [
       "0"
      ]
     },
     "execution_count": 10,
     "metadata": {},
     "output_type": "execute_result"
    }
   ],
   "source": [
    "ang_mom_lowering(2, 2)"
   ]
  },
  {
   "cell_type": "code",
   "execution_count": 11,
   "metadata": {},
   "outputs": [
    {
     "data": {
      "image/png": "[encoded data removed]",
      "text/latex": [
       "$\\displaystyle 0$"
      ],
      "text/plain": [
       "0"
      ]
     },
     "execution_count": 11,
     "metadata": {},
     "output_type": "execute_result"
    }
   ],
   "source": [
    "ang_mom_raising(2, 2)"
   ]
  },
  {
   "cell_type": "markdown",
   "metadata": {},
   "source": [
    "Because the \"bra\" and \"ket\" values are different, both of the above examples are equal to zero."
   ]
  },
  {
   "cell_type": "markdown",
   "metadata": {},
   "source": [
    "These can be used in the $L_x$ operator for spherical harmonics. The general expression in terms of the angular momentum raising and lowering operators can be found using the `ang_mom_x()` function without any parameters:"
   ]
  },
  {
   "cell_type": "code",
   "execution_count": 12,
   "metadata": {},
   "outputs": [
    {
     "data": {
      "image/png": "[encoded data removed]",
      "text/latex": [
       "$\\displaystyle 0.5 L_{+} + 0.5 L_{-}$"
      ],
      "text/plain": [
       "0.5⋅L₊ + 0.5⋅L₋"
      ]
     },
     "execution_count": 12,
     "metadata": {},
     "output_type": "execute_result"
    }
   ],
   "source": [
    "ang_mom_x()"
   ]
  },
  {
   "cell_type": "markdown",
   "metadata": {},
   "source": [
    "It can also be shown using Dirac notation by using `ang_mom` = j and `mag` = m as the parameters. The parameters in general are:\n",
    "\n",
    "        ang_mom: The total angular momentum quantum number\n",
    "        mag: The magnetic quantum number\n",
    "\n",
    "Which looks like:\n",
    "\n",
    "`ang_mom_x(ang_mom, mag)`"
   ]
  },
  {
   "cell_type": "code",
   "execution_count": 13,
   "metadata": {},
   "outputs": [
    {
     "data": {
      "image/png": "[encoded data removed]",
      "text/latex": [
       "$\\displaystyle 0.5 \\left(\\hbar \\sqrt{j \\left(j + 1\\right) - m \\left(m - 1\\right)} {\\left\\langle j,m\\right|} {\\left|j,m - 1\\right\\rangle } + \\hbar \\sqrt{j \\left(j + 1\\right) - m \\left(m + 1\\right)} {\\left\\langle j,m\\right|} {\\left|j,m + 1\\right\\rangle }\\right)$"
      ],
      "text/plain": [
       "    ⎛    _______________________                       _______________________\n",
       "0.5⋅⎝h̅⋅╲╱ j⋅(j + 1) - m⋅(m - 1) ⋅⟨j,m❘⋅❘j,m - 1⟩ + h̅⋅╲╱ j⋅(j + 1) - m⋅(m + 1\n",
       "\n",
       "                ⎞\n",
       ") ⋅⟨j,m❘⋅❘j,m + 1⟩⎠"
      ]
     },
     "execution_count": 13,
     "metadata": {},
     "output_type": "execute_result"
    }
   ],
   "source": [
    "ang_mom_x(j, m)"
   ]
  },
  {
   "cell_type": "markdown",
   "metadata": {},
   "source": [
    "# Example 6\n",
    "\n",
    "The following example is used with:\n",
    "\n",
    "`ang_mom` = 2\n",
    "\n",
    "`mag` = 2"
   ]
  },
  {
   "cell_type": "code",
   "execution_count": 14,
   "metadata": {},
   "outputs": [
    {
     "data": {
      "image/png": "[encoded data removed]",
      "text/latex": [
       "$\\displaystyle 0.0$"
      ],
      "text/plain": [
       "0.0"
      ]
     },
     "execution_count": 14,
     "metadata": {},
     "output_type": "execute_result"
    }
   ],
   "source": [
    "ang_mom_x(2, 2)"
   ]
  },
  {
   "cell_type": "markdown",
   "metadata": {},
   "source": [
    "Since the \"bra\" and \"ket\" notation are different-valued, it equals zero, and therefore the entire expression is equal to zero."
   ]
  }
 ],
 "metadata": {
  "kernelspec": {
   "display_name": "Python 3",
   "language": "python",
   "name": "python3"
  },
  "language_info": {
   "codemirror_mode": {
    "name": "ipython",
    "version": 3
   },
   "file_extension": ".py",
   "mimetype": "text/x-python",
   "name": "python",
   "nbconvert_exporter": "python",
   "pygments_lexer": "ipython3",
   "version": "3.8.5"
  }
 },
 "nbformat": 4,
 "nbformat_minor": 2
}
