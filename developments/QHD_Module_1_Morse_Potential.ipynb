{
 "cells": [
  {
   "cell_type": "code",
   "execution_count": 1,
   "id": "e6665771",
   "metadata": {},
   "outputs": [],
   "source": [
    "from QHD import *\n",
    "\n",
    "import matplotlib.pyplot as plt\n",
    "import numpy as np"
   ]
  },
  {
   "cell_type": "markdown",
   "id": "c91b6ec0",
   "metadata": {},
   "source": [
    "# The Morse Potential"
   ]
  },
  {
   "cell_type": "markdown",
   "id": "18a34227",
   "metadata": {},
   "source": [
    "### 1. The Potential"
   ]
  },
  {
   "cell_type": "markdown",
   "id": "ceb84033",
   "metadata": {},
   "source": [
    "**Parameters**\n",
    "\n",
    "$D = 4.419 eV$\n",
    "\n",
    "$\\alpha = 2.567 A^{(-1)}$\n",
    "\n",
    "$q_0 = 0 A$\n",
    "\n",
    "\n",
    "\n",
    "\n",
    "**Potential**\n",
    "\n",
    "$V(q) = D*(1-e^{-\\alpha(q-q_0)})^2$"
   ]
  },
  {
   "cell_type": "code",
   "execution_count": 2,
   "id": "8919b086",
   "metadata": {},
   "outputs": [
    {
     "data": {
      "image/png": "[encoded data removed]",
      "text/plain": [
       "<Figure size 432x288 with 1 Axes>"
      ]
     },
     "metadata": {
      "needs_background": "light"
     },
     "output_type": "display_data"
    }
   ],
   "source": [
    "def morse_potential(D, alpha, q_0):\n",
    "    return D * (1 - np.exp(-alpha*(q-q_0)))**2\n",
    "\n",
    "D = 4.419 *1.602*10**(-19) #eV -> J\n",
    "alpha = 2.567 *10**10 #angstrom(-1) -> meter(-1)\n",
    "q_0 = 0\n",
    "\n",
    "\n",
    "# Above values given in QHD paper for water O-H stretch\n",
    "\n",
    "\n",
    "q = np.linspace(-10**(-9), 10**(-9), 1000)\n",
    "plt.plot(q, morse_potential(D, alpha, q_0))\n",
    "plt.title(\"Morse Potential\")\n",
    "plt.ylim(0, 1*10**(-18))\n",
    "plt.ylabel(\"Potential, V(q)\")\n",
    "plt.xlim(-0.5*10**(-10), 2*10**(-10))\n",
    "plt.xlabel(\"Position, q\")\n",
    "plt.savefig('morse_vVq.png')\n",
    "plt.show()"
   ]
  },
  {
   "cell_type": "markdown",
   "id": "e3801b39",
   "metadata": {},
   "source": [
    "### 2. Derivation of  QHD formulas"
   ]
  },
  {
   "cell_type": "markdown",
   "id": "519ac246",
   "metadata": {},
   "source": [
    "The x expressions:"
   ]
  },
  {
   "cell_type": "code",
   "execution_count": 3,
   "id": "d705fe0d",
   "metadata": {},
   "outputs": [
    {
     "name": "stdout",
     "output_type": "stream",
     "text": [
      "x = -alpha*dt*xp/mass + x\n",
      "\n",
      "x2 = -2.0*alpha*dt*x*(-p*x + xp)/mass + (-2.0*alpha*dt*x*(-p*x + xp)/mass + x2)*exp(-2.0*alpha*dt*p/mass)\n",
      "\n",
      "xp = 0.5*dt*(2.0*D*alpha*(x*(-2*x**2 + 3.0*x2) - x2) - alpha*x*(-2.0*p**2 + p2)/mass) + (0.5*dt*(2.0*D*alpha*(x*(-2*x**2 + 3.0*x2) - x2) - alpha*x*(-2.0*p**2 + p2)/mass) + xp)*exp(-2.0*alpha*dt*p/mass)\n",
      "\n"
     ]
    }
   ],
   "source": [
    "p,x,x2,xp,dt,mass,alpha,D = symbols(\"p,x,x2,xp,dt,mass,alpha,D\")\n",
    "\n",
    "print(\"x = \" + str(QHD_int(x, 1, dt)) + \"\\n\")\n",
    "\n",
    "print(\"x2 = \" + str(QHD_int(x, 2, dt)) + \"\\n\")\n",
    "\n",
    "print(\"xp = \" + str(QHD_int(xp, 1, dt)) + \"\\n\")"
   ]
  },
  {
   "cell_type": "markdown",
   "id": "0b34280d",
   "metadata": {},
   "source": [
    "**2.1 The q expression.**"
   ]
  },
  {
   "cell_type": "code",
   "execution_count": 4,
   "id": "f3a3b50a",
   "metadata": {},
   "outputs": [
    {
     "name": "stdout",
     "output_type": "stream",
     "text": [
      "q = dt*p/mass + q\n"
     ]
    }
   ],
   "source": [
    "q, p, mass = symbols(\"q p mass\")\n",
    "\n",
    "print(\"q = \" + str(QHD_int(q, 1, dt)))"
   ]
  },
  {
   "cell_type": "markdown",
   "id": "c59ac822",
   "metadata": {},
   "source": [
    "**2.2 Taking the derivative in Python**"
   ]
  },
  {
   "cell_type": "markdown",
   "id": "11316320",
   "metadata": {},
   "source": [
    "We can do a change of variable in the potential to:\n",
    "\n",
    "$$x=e^{-\\alpha q}$$\n",
    "\n",
    "And so:\n",
    "\n",
    "$$V(q)=D[x^2-2x]$$\n",
    "\n",
    "We will now take the first and second derivatives of the original potential, and then perform the change of variables:"
   ]
  },
  {
   "cell_type": "code",
   "execution_count": 5,
   "id": "c81d086a",
   "metadata": {},
   "outputs": [],
   "source": [
    "dt, alpha = symbols(\"dt, alpha\")\n",
    "\n",
    "mor = QHD_morse(e)"
   ]
  },
  {
   "cell_type": "code",
   "execution_count": 6,
   "id": "9e05d8ae",
   "metadata": {},
   "outputs": [
    {
     "data": {
      "image/png": "[encoded data removed]",
      "text/latex": [
       "$\\displaystyle \\left( D \\left(2 \\alpha e^{- \\alpha q} - 2 \\alpha e^{- 2 \\alpha q}\\right), \\  D \\left(- 2 \\alpha^{2} e^{- \\alpha q} + 4 \\alpha^{2} e^{- 2 \\alpha q}\\right)\\right)$"
      ],
      "text/plain": [
       "⎛  ⎛     -α⋅q        -2⋅α⋅q⎞    ⎛     2  -α⋅q      2  -2⋅α⋅q⎞⎞\n",
       "⎝D⋅⎝2⋅α⋅ℯ     - 2⋅α⋅ℯ      ⎠, D⋅⎝- 2⋅α ⋅ℯ     + 4⋅α ⋅ℯ      ⎠⎠"
      ]
     },
     "execution_count": 6,
     "metadata": {},
     "output_type": "execute_result"
    }
   ],
   "source": [
    "diff1 = diff(mor, q)\n",
    "diff2 = diff(diff1, q)\n",
    "\n",
    "diff1, diff2"
   ]
  },
  {
   "cell_type": "code",
   "execution_count": 7,
   "id": "968637c1",
   "metadata": {},
   "outputs": [
    {
     "data": {
      "image/png": "[encoded data removed]",
      "text/latex": [
       "$\\displaystyle D \\left(- 2 \\alpha x^{2} + 2 \\alpha x\\right)$"
      ],
      "text/plain": [
       "  ⎛       2        ⎞\n",
       "D⋅⎝- 2⋅α⋅x  + 2⋅α⋅x⎠"
      ]
     },
     "execution_count": 7,
     "metadata": {},
     "output_type": "execute_result"
    }
   ],
   "source": [
    "### First derivative ###\n",
    "\n",
    "diff11 = diff1.replace(exp(-alpha*q), x).replace(exp(-2*alpha*q), x**2)\n",
    "\n",
    "diff11"
   ]
  },
  {
   "cell_type": "code",
   "execution_count": 8,
   "id": "7d5d7cc3",
   "metadata": {},
   "outputs": [
    {
     "data": {
      "image/png": "[encoded data removed]",
      "text/latex": [
       "$\\displaystyle D \\left(4 \\alpha^{2} x^{2} - 2 \\alpha^{2} x\\right)$"
      ],
      "text/plain": [
       "  ⎛   2  2      2  ⎞\n",
       "D⋅⎝4⋅α ⋅x  - 2⋅α ⋅x⎠"
      ]
     },
     "execution_count": 8,
     "metadata": {},
     "output_type": "execute_result"
    }
   ],
   "source": [
    "### Second derivative ###\n",
    "\n",
    "diff22 = diff2.replace(exp(-alpha*q), x).replace(exp(-2*alpha*q), x**2)\n",
    "\n",
    "diff22"
   ]
  },
  {
   "cell_type": "markdown",
   "id": "174b5455",
   "metadata": {},
   "source": [
    "These can now be inserted into the \"p\" expressions, derived in the next section."
   ]
  },
  {
   "cell_type": "markdown",
   "id": "6bdecfc9",
   "metadata": {},
   "source": [
    "**2.3 The p expressions.**"
   ]
  },
  {
   "cell_type": "code",
   "execution_count": 9,
   "id": "7114edee",
   "metadata": {},
   "outputs": [
    {
     "name": "stdout",
     "output_type": "stream",
     "text": [
      "p = -D*dt*(-2*alpha*x**2 + 2*alpha*x) + p\n",
      "\n",
      "p2 = dt*(4.0*D*p*(-2*alpha*x**2 + 2*alpha*x) + 2.0*D*(4*alpha**2*x**2 - 2*alpha**2*x)) + p**2\n",
      "\n"
     ]
    }
   ],
   "source": [
    "p,x,x2,dt,mass,alpha,D = symbols(\"p,x,x2,dt,mass,alpha,D\")\n",
    "\n",
    "QHD_p = sympify(str(QHD_int(p, 1, dt)).replace(\"Derivative(v(q), q)\", str(diff11)))\n",
    "\n",
    "print(\"p = \" + str(QHD_p) + \"\\n\")\n",
    "\n",
    "QHD_p2 = sympify(str(QHD_int(p, 2, dt)).replace(\"Derivative(v(q), (q, 2))\", str(diff22)).replace(\"Derivative(v(q), q)\", str(diff11)))\n",
    "\n",
    "print(\"p2 = \" + str(QHD_p2) + \"\\n\")"
   ]
  },
  {
   "cell_type": "markdown",
   "id": "02061412",
   "metadata": {},
   "source": [
    "### 3. Plot position versus time"
   ]
  },
  {
   "cell_type": "code",
   "execution_count": 10,
   "id": "ca8d7982",
   "metadata": {},
   "outputs": [
    {
     "name": "stdout",
     "output_type": "stream",
     "text": [
      "Total runtime is 142.86371564865112\n"
     ]
    }
   ],
   "source": [
    "### Time how long it takes to compute ###\n",
    "\n",
    "import time \n",
    "begin = time.time()\n",
    "\n",
    "### Parameters: ###\n",
    "\n",
    "q0 = 0.15\n",
    "p0 = 0.0\n",
    "s0 = 0.05\n",
    "ps0 = 0.0\n",
    "\n",
    "\n",
    "D = 4.419\n",
    "mass = 1836\n",
    "alpha = 2.56\n",
    "hbar = 0.6582  # eV * fs\n",
    "y_list = []\n",
    "\n",
    "Etot = 0.0\n",
    "Etot0 = 0.0\n",
    "Etot_cl = 0.0\n",
    "Etot_cl0 = 0.0\n",
    "q,p,p2,x,x2,xp = 0.0, 0.0, 0.0, 0.0, 0.0, 0.0\n",
    "q, p = q0, p0\n",
    "p2 = p*p + ps0*ps0 + (0.5*hbar/s0)**2\n",
    "x = exp(-alpha*q0)*exp(0.5*alpha*alpha*s0*s0)\n",
    "x2 = exp(-2.0*alpha*q0)*exp(2.0*alpha*alpha*s0*s0)\n",
    "xp = x*(p - s0*ps0*alpha)\n",
    "\n",
    "### Compute the y values ###\n",
    "\n",
    "dt = 0.1\n",
    "t = 0.0\n",
    "T = 1000\n",
    "\n",
    "y_list = []\n",
    "\n",
    "while t <= T:\n",
    "    xp = 0.5*dt*(2.0*D*alpha*(x*(-2*x**2 + 3.0*x2) - x2) - alpha*x*(-2.0*p**2 + p2)/mass) + (0.5*dt*(2.0*D*alpha*(x*(-2*x**2 + 3.0*x2) - x2) - alpha*x*(-2.0*p**2 + p2)/mass) + xp)*exp(-2.0*alpha*dt*p/mass)\n",
    "    \n",
    "    x2 = -2.0*alpha*dt*x*(-p*x + xp)/mass + (-2.0*alpha*dt*x*(-p*x + xp)/mass + x2)*exp(-2.0*alpha*dt*p/mass)\n",
    "    \n",
    "    x = -alpha*dt*xp/mass + x\n",
    "   \n",
    "    q = dt*p/mass + q   \n",
    "\n",
    "    p = -dt*D*(-2*alpha*x**2 + 2*alpha*x) + p\n",
    "\n",
    "    p2 = dt*(4.0*p*D*(-2*alpha*x**2 + 2*alpha*x) + 2.0*D*(4*alpha**2*x**2 - 2*alpha**2*x)) + p**2\n",
    "    \n",
    "    t = t + dt\n",
    "    \n",
    "    y_list.append(q)\n",
    "    \n",
    "time.sleep(1)\n",
    "# store end time\n",
    "end = time.time()\n",
    "  \n",
    "# total time taken\n",
    "print(f\"Total runtime is {end - begin}\")"
   ]
  },
  {
   "cell_type": "code",
   "execution_count": 11,
   "id": "f00c5f75",
   "metadata": {},
   "outputs": [],
   "source": [
    "### The above cell usually takes a minute or so to run ###"
   ]
  },
  {
   "cell_type": "code",
   "execution_count": 12,
   "id": "847fc1f8",
   "metadata": {},
   "outputs": [
    {
     "data": {
      "image/png": "[encoded data removed]",
      "text/plain": [
       "<Figure size 432x288 with 1 Axes>"
      ]
     },
     "metadata": {
      "needs_background": "light"
     },
     "output_type": "display_data"
    }
   ],
   "source": [
    "### Define the x values ###\n",
    "\n",
    "x_list = np.arange(0, 1000, 0.1)\n",
    "plt.plot(x_list, y_list)\n",
    "plt.plot([0, 500], [0, 0], \"k-\")\n",
    "plt.title(\"Position vs. Time, Morse Potential\")\n",
    "plt.xlim(0, 200)\n",
    "plt.xlabel(\"Time (fs)\")\n",
    "plt.ylim(-0.5, 0.5)\n",
    "plt.ylabel(\"Position, q\")\n",
    "plt.savefig('morse_qVt.png')\n",
    "plt.show()"
   ]
  },
  {
   "cell_type": "code",
   "execution_count": null,
   "id": "c503b0ef",
   "metadata": {},
   "outputs": [],
   "source": []
  }
 ],
 "metadata": {
  "kernelspec": {
   "display_name": "Python 3",
   "language": "python",
   "name": "python3"
  },
  "language_info": {
   "codemirror_mode": {
    "name": "ipython",
    "version": 3
   },
   "file_extension": ".py",
   "mimetype": "text/x-python",
   "name": "python",
   "nbconvert_exporter": "python",
   "pygments_lexer": "ipython3",
   "version": "3.8.8"
  }
 },
 "nbformat": 4,
 "nbformat_minor": 5
}
