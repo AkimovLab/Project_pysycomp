{
 "cells": [
  {
   "cell_type": "code",
   "execution_count": 1,
   "id": "e6665771",
   "metadata": {},
   "outputs": [],
   "source": [
    "from QHD import *\n",
    "\n",
    "import matplotlib.pyplot as plt\n",
    "import numpy as np"
   ]
  },
  {
   "cell_type": "markdown",
   "id": "c91b6ec0",
   "metadata": {},
   "source": [
    "# The Morse Potential"
   ]
  },
  {
   "cell_type": "markdown",
   "id": "ea5b7116",
   "metadata": {},
   "source": [
    "For this first module, we will be looking at a morse potential."
   ]
  },
  {
   "cell_type": "markdown",
   "id": "18a34227",
   "metadata": {},
   "source": [
    "### 1. The Potential"
   ]
  },
  {
   "cell_type": "markdown",
   "id": "82213fe9",
   "metadata": {},
   "source": [
    "We first must define the potential along with its parameters, as described below for the O-H stretch in a water molecule."
   ]
  },
  {
   "cell_type": "markdown",
   "id": "ceb84033",
   "metadata": {},
   "source": [
    "**Parameters**\n",
    "\n",
    "$D = 4.419 eV$\n",
    "\n",
    "$\\alpha = 2.567 A^{(-1)}$\n",
    "\n",
    "$q_0 = 0 A$\n",
    "\n",
    "\n",
    "\n",
    "\n",
    "**Potential**\n",
    "\n",
    "$V(q) = D*(1-e^{-\\alpha(q-q_0)})^2$"
   ]
  },
  {
   "cell_type": "markdown",
   "id": "df7d0d16",
   "metadata": {},
   "source": [
    "We can define this potential as `potential`, and define the given parameters as `D`, `alpha`, and `q_0` as described below. We will also need to define the dependent variable, in this case `q` as a range using the `linspace` function found in `numpy`. The parameters are all in *atomic units*."
   ]
  },
  {
   "cell_type": "code",
   "execution_count": 2,
   "id": "8919b086",
   "metadata": {},
   "outputs": [],
   "source": [
    "D = 4.419 *0.0367493 # eV -> Hartree\n",
    "alpha = 2.567 # Angstrom(-1) \n",
    "q_0 = 0 # Angstrom\n",
    "q = np.linspace(-10, 10, 1000) # Angstrom\n",
    "\n",
    "potential = D * (1 - np.exp(-alpha*(q-q_0)))**2\n",
    "\n",
    "# Above values given in QHD paper for water O-H stretch"
   ]
  },
  {
   "cell_type": "markdown",
   "id": "fed0efdf",
   "metadata": {},
   "source": [
    "Now that the parameters and potential have been defined, the potential can be plotted using the `matplotlib.pyplot` library. Any of the lines can be changed as desired."
   ]
  },
  {
   "cell_type": "code",
   "execution_count": 3,
   "id": "16710487",
   "metadata": {},
   "outputs": [
    {
     "data": {
      "image/png": "[encoded data removed]",
      "text/plain": [
       "<Figure size 432x288 with 1 Axes>"
      ]
     },
     "metadata": {
      "needs_background": "light"
     },
     "output_type": "display_data"
    }
   ],
   "source": [
    "plt.plot(q, potential)\n",
    "plt.title(\"Morse Potential\") # Title of the graph\n",
    "plt.ylim(0, 0.4) # (Lower, Upper) limit of the y-axis\n",
    "plt.ylabel(\"Potential, V(q)\") \n",
    "plt.xlim(-0.5, 2.5) # (Lower, Upper) limit of the x-axis\n",
    "plt.xlabel(\"Position, q\")\n",
    "plt.savefig('morse_vVq.png') # Save to this file name, as a png file\n",
    "plt.show()"
   ]
  },
  {
   "cell_type": "markdown",
   "id": "e3801b39",
   "metadata": {},
   "source": [
    "### 2. Derivation of  QHD formulas"
   ]
  },
  {
   "cell_type": "markdown",
   "id": "be04ef1a",
   "metadata": {},
   "source": [
    "Here, we use the pysces library, able to derive the equations of motion in the QHD method. We will need to define the `q`, `p`, `p2`, `x`, `x2`, and `xp` variables. In order to do this, we must first calculate the first and second derivatives of the potential of interest, defined in section 1. We will also use a change of variables as well, described below."
   ]
  },
  {
   "cell_type": "markdown",
   "id": "fb8c2b8d",
   "metadata": {},
   "source": [
    "**2.1 The First and Second Derivatives of the Potential**"
   ]
  },
  {
   "cell_type": "markdown",
   "id": "2efa2ada",
   "metadata": {},
   "source": [
    "To take the derivatives, we must represent the potential symbollically. This can be done by:"
   ]
  },
  {
   "cell_type": "code",
   "execution_count": 4,
   "id": "7367cbc9",
   "metadata": {},
   "outputs": [],
   "source": [
    "# First, we must define all the parameters as stated in section 1 as symbols:\n",
    "\n",
    "D, alpha, q_0, q = symbols(\"D, alpha, q_0, q\")\n",
    "\n",
    "# When computing symbolically, we do not need to use the numpy exponential function.\n",
    "\n",
    "potential_sym = D * (1 - exp(-alpha*(q-q_0)))**2"
   ]
  },
  {
   "cell_type": "markdown",
   "id": "7db9267c",
   "metadata": {},
   "source": [
    "Now that the potential is represented symbolically, we may take the first and second derivatives, described by diff1 and diff2, respectively"
   ]
  },
  {
   "cell_type": "code",
   "execution_count": 5,
   "id": "c753d303",
   "metadata": {},
   "outputs": [
    {
     "data": {
      "image/png": "[encoded data removed]",
      "text/latex": [
       "$\\displaystyle \\left( 2 D \\alpha \\left(1 - e^{- \\alpha \\left(q - q_{0}\\right)}\\right) e^{- \\alpha \\left(q - q_{0}\\right)}, \\  - 2 D \\alpha^{2} \\left(1 - e^{- \\alpha \\left(q - q_{0}\\right)}\\right) e^{- \\alpha \\left(q - q_{0}\\right)} + 2 D \\alpha^{2} e^{- 2 \\alpha \\left(q - q_{0}\\right)}\\right)$"
      ],
      "text/plain": [
       "⎛      ⎛     -α⋅(q - q₀)⎞  -α⋅(q - q₀)         2 ⎛     -α⋅(q - q₀)⎞  -α⋅(q - q\n",
       "⎝2⋅D⋅α⋅⎝1 - ℯ           ⎠⋅ℯ           , - 2⋅D⋅α ⋅⎝1 - ℯ           ⎠⋅ℯ         \n",
       "\n",
       "₀)        2  -2⋅α⋅(q - q₀)⎞\n",
       "   + 2⋅D⋅α ⋅ℯ             ⎠"
      ]
     },
     "execution_count": 5,
     "metadata": {},
     "output_type": "execute_result"
    }
   ],
   "source": [
    "diff1 = diff(potential_sym, q)\n",
    "diff2 = diff(diff1, q)\n",
    "\n",
    "diff1, diff2"
   ]
  },
  {
   "cell_type": "markdown",
   "id": "dafe6a6f",
   "metadata": {},
   "source": [
    "**2.2 Change of Variable**"
   ]
  },
  {
   "cell_type": "markdown",
   "id": "532d41a0",
   "metadata": {},
   "source": [
    "We can do a change of variable in the potential to:\n",
    "\n",
    "$$x=e^{-\\alpha q}$$\n",
    "\n",
    "And so:\n",
    "\n",
    "$$V(q)=D[x^2-2x]$$\n",
    "\n",
    "We will now take the first and second derivatives of the original potential, and then perform the change of variables."
   ]
  },
  {
   "cell_type": "markdown",
   "id": "eb5d9c51",
   "metadata": {},
   "source": [
    "- The First Derivative:"
   ]
  },
  {
   "cell_type": "code",
   "execution_count": 6,
   "id": "5c0ec3ac",
   "metadata": {},
   "outputs": [
    {
     "data": {
      "image/png": "[encoded data removed]",
      "text/latex": [
       "$\\displaystyle 2 D \\alpha x \\left(1 - x\\right)$"
      ],
      "text/plain": [
       "2⋅D⋅α⋅x⋅(1 - x)"
      ]
     },
     "execution_count": 6,
     "metadata": {},
     "output_type": "execute_result"
    }
   ],
   "source": [
    "diff11 = diff1.replace(exp(-alpha*(q-q_0)), x).replace(exp(-2*alpha*(q-q_0)), x**2)\n",
    "\n",
    "diff11"
   ]
  },
  {
   "cell_type": "markdown",
   "id": "8c2edfc1",
   "metadata": {},
   "source": [
    "- The Second Derivative:"
   ]
  },
  {
   "cell_type": "code",
   "execution_count": 7,
   "id": "d351b9fa",
   "metadata": {},
   "outputs": [
    {
     "data": {
      "image/png": "[encoded data removed]",
      "text/latex": [
       "$\\displaystyle 2 D \\alpha^{2} x^{2} - 2 D \\alpha^{2} x \\left(1 - x\\right)$"
      ],
      "text/plain": [
       "     2  2        2          \n",
       "2⋅D⋅α ⋅x  - 2⋅D⋅α ⋅x⋅(1 - x)"
      ]
     },
     "execution_count": 7,
     "metadata": {},
     "output_type": "execute_result"
    }
   ],
   "source": [
    "diff22 = diff2.replace(exp(-alpha*(q-q_0)), x).replace(exp(-2*alpha*(q-q_0)), x**2)\n",
    "\n",
    "diff22"
   ]
  },
  {
   "cell_type": "markdown",
   "id": "c8655483",
   "metadata": {},
   "source": [
    "We can now solve for the equations of motion."
   ]
  },
  {
   "cell_type": "markdown",
   "id": "9dcec9f4",
   "metadata": {},
   "source": [
    "**2.3 Solving for the Equations of Motion**"
   ]
  },
  {
   "cell_type": "markdown",
   "id": "59d7c3e4",
   "metadata": {},
   "source": [
    "We must solve the equations of motion for `q`, `p`, `x`, `x2`, and `xp` using the parameters defined in section 1."
   ]
  },
  {
   "cell_type": "code",
   "execution_count": 8,
   "id": "b1c6676f",
   "metadata": {},
   "outputs": [],
   "source": [
    "# Again, we must first define all variables as symbols. #\n",
    "\n",
    "q, p, x, x2, xp, dt, mass, alpha, D = symbols(\"q, p, x, x2, xp, dt, mass, alpha, D\")\n",
    "\n",
    "\n",
    "\n",
    "########## EOM Calculations ##########\n",
    "\n",
    "# If you want to see the output of any of the below, uncomment the desired print line. #\n",
    "\n",
    "q1 = str(QHD_int(q, 1, dt))\n",
    "\n",
    "#print(q1)\n",
    "\n",
    "x1 = str(QHD_int(x, 1, dt))\n",
    "\n",
    "#print(x1)\n",
    "\n",
    "x21 = str(QHD_int(x, 2, dt))\n",
    "\n",
    "#print(x21)\n",
    "\n",
    "xp1 = str(QHD_int(xp, 1, dt))\n",
    "\n",
    "#print(xp1)\n",
    "\n",
    "p1 = str(sympify(str(QHD_int(p, 1, dt)).replace(\"Derivative(v(q), q)\", str(diff11))))\n",
    "\n",
    "#print(p1)\n",
    "\n",
    "p21 = str(sympify(str(QHD_int(p, 2, dt)).replace(\"Derivative(v(q), (q, 2))\", str(diff22)).replace(\"Derivative(v(q), q)\", str(diff11))))\n",
    "\n",
    "#print(p21)"
   ]
  },
  {
   "cell_type": "markdown",
   "id": "149a08c3",
   "metadata": {},
   "source": [
    "Now, we are ready to make plots of the data based on the EOM's as computed above."
   ]
  },
  {
   "cell_type": "markdown",
   "id": "ac0399e1",
   "metadata": {},
   "source": [
    "# 3. Graphing"
   ]
  },
  {
   "cell_type": "markdown",
   "id": "0972da32",
   "metadata": {},
   "source": [
    "**3.1 Generating Time-Dependent Values**"
   ]
  },
  {
   "cell_type": "markdown",
   "id": "f198134e",
   "metadata": {},
   "source": [
    "We will first define all of the parameters necessary to perform the QHD calculations, starting with the potential specific parameters. These parameters are also defined in part 1."
   ]
  },
  {
   "cell_type": "code",
   "execution_count": 9,
   "id": "93f2a26d",
   "metadata": {},
   "outputs": [],
   "source": [
    "### Specific Parameters: ###\n",
    "\n",
    "D = 4.419\n",
    "mass = 1836\n",
    "alpha = 2.56\n",
    "hbar = 0.6582  # eV * fs"
   ]
  },
  {
   "cell_type": "markdown",
   "id": "17a0a42a",
   "metadata": {},
   "source": [
    "Now, we are able to define the initial conditions in the cell below. These are usually general and can be used for any potential. However, if you are using a potential *other* than the morse potential as defined in part 1, please change the `x`, `x2`, and `xp` variables accordingly in the below cell."
   ]
  },
  {
   "cell_type": "code",
   "execution_count": 10,
   "id": "6cdd6871",
   "metadata": {},
   "outputs": [],
   "source": [
    "### General Parameters: ###\n",
    "\n",
    "q0 = 0.15\n",
    "p0 = 0.0\n",
    "s0 = 0.05\n",
    "ps0 = 0.0\n",
    "\n",
    "Etot = 0.0\n",
    "Etot0 = 0.0\n",
    "Etot_cl = 0.0\n",
    "Etot_cl0 = 0.0\n",
    "q,p,p2,x,x2,xp = 0.0, 0.0, 0.0, 0.0, 0.0, 0.0\n",
    "q, p = q0, p0\n",
    "p2 = p*p + ps0*ps0 + (0.5*hbar/s0)**2\n",
    "x = exp(-alpha*q0)*exp(0.5*alpha*alpha*s0*s0)\n",
    "x2 = exp(-2.0*alpha*q0)*exp(2.0*alpha*alpha*s0*s0)\n",
    "xp = x*(p - s0*ps0*alpha)\n",
    "\n",
    "Etot, Etot_cl = Etot0, Etot_cl0"
   ]
  },
  {
   "cell_type": "markdown",
   "id": "a8398fdb",
   "metadata": {},
   "source": [
    "To prepare to calculate the energy of the system, the below cell is needed."
   ]
  },
  {
   "cell_type": "code",
   "execution_count": 11,
   "id": "f520fbea",
   "metadata": {},
   "outputs": [],
   "source": [
    "dt = 0.0\n",
    "p = QHD_int(p, 1, dt)\n",
    "p2 = QHD_int(p, 2, dt)\n",
    "Ekin_cl = 0.5*p*p/mass\n",
    "Ekin    = 0.5*p2/mass\n",
    "Epot_cl = D*(math.exp(-2.0*alpha*q) - 2.0*math.exp(-alpha*q))\n",
    "Epot    = D*(x2 - 2.0*x)\n",
    "Etot_cl = Ekin_cl + Epot_cl\n",
    "Etot    = Ekin    + Epot\n",
    "\n",
    "Etot, Etot_cl = Etot0,Etot_cl0"
   ]
  },
  {
   "cell_type": "markdown",
   "id": "dcfa93af",
   "metadata": {},
   "source": [
    "We can also define empty lists which will store the data computed"
   ]
  },
  {
   "cell_type": "code",
   "execution_count": 12,
   "id": "9e55a96b",
   "metadata": {},
   "outputs": [],
   "source": [
    "dt = 0.1\n",
    "t_i = 0.0\n",
    "t_f = 5000"
   ]
  },
  {
   "cell_type": "code",
   "execution_count": 13,
   "id": "c87e4d8b",
   "metadata": {},
   "outputs": [],
   "source": [
    "q_list = [0]*int(t_f/dt)\n",
    "y_list = [0]*int(t_f/dt)\n",
    "y_list1 = [0]*int(t_f/dt)\n",
    "y_list2 = [0]*int(t_f/dt)"
   ]
  },
  {
   "cell_type": "code",
   "execution_count": 14,
   "id": "bfac9ea2",
   "metadata": {},
   "outputs": [
    {
     "name": "stdout",
     "output_type": "stream",
     "text": [
      "Total runtime is 189.6665596961975\n"
     ]
    }
   ],
   "source": [
    "### Time how long it takes to compute ###\n",
    "\n",
    "import time \n",
    "begin = time.time()\n",
    "\n",
    "\n",
    "### The x values: ###\n",
    "\n",
    "dt = 0.1\n",
    "t_i = 0.0\n",
    "t_f = 5000\n",
    "\n",
    "### Compute the y values ###\n",
    "\n",
    "pos = 0\n",
    "\n",
    "while t_i <= t_f:\n",
    "    xp = eval((xp1))\n",
    "    \n",
    "    x2 = eval((x21))\n",
    "    \n",
    "    x = eval((x1))\n",
    "   \n",
    "    q = eval((q1))  \n",
    "    \n",
    "    p = eval((p1))\n",
    "    \n",
    "    p2 = eval((p21))\n",
    "    \n",
    "    Ekin_cl = 0.5*p**2/mass\n",
    "    Ekin    = 0.5*p2/mass\n",
    "    Epot_cl = D*(exp(-2.0*alpha*q) - 2.0*exp(-alpha*q))\n",
    "    Epot    = D*(x2 - 2.0*x)\n",
    "    Etot_cl = Ekin_cl + Epot_cl\n",
    "    Etot    = Ekin    + Epot\n",
    "\n",
    "#    Etot = Etot0\n",
    "    \n",
    "#    Etot1 = Etot/Etot0\n",
    "    \n",
    "#    y_list.append(Etot1)\n",
    "\n",
    "    y_list1[pos] = Etot #.append(Etot)\n",
    "    y_list2[pos] = Etot_cl #.append(Etot_cl)\n",
    "    \n",
    "    q_list[pos] = q #.append(q)\n",
    "    \n",
    "    t_i = t_i + dt\n",
    "    pos += 1\n",
    "    \n",
    "time.sleep(1)\n",
    "# store end time\n",
    "end = time.time()\n",
    "  \n",
    "# total time taken\n",
    "print(f\"Total runtime is {end - begin}\")"
   ]
  },
  {
   "cell_type": "code",
   "execution_count": 15,
   "id": "8830d8cf",
   "metadata": {},
   "outputs": [],
   "source": [
    "# Issue with E/E_0"
   ]
  },
  {
   "cell_type": "code",
   "execution_count": 16,
   "id": "4c65fc8c",
   "metadata": {},
   "outputs": [],
   "source": [
    "##### 10,000 points #####\n",
    "\n",
    "# Total runtime is 225.7712049484253\n",
    "\n",
    "# Total runtime is 224.03664135932922\n",
    "\n",
    "# List append energies:\n",
    "# Total runtime is 229.75896096229553\n",
    "\n",
    "# Removing parameters:\n",
    "# Total runtime is 78.04802513122559\n",
    "\n",
    "# Removing parameters:\n",
    "# Total runtime is 44.69326615333557\n",
    "\n",
    "# Removing parameters:\n",
    "# Total runtime is 43.016199827194214\n",
    "\n",
    "# Now that the runtime is optimized, trying for 50,000 points\n",
    "\n",
    "##### 50,000 points #####\n",
    "\n",
    "# Total runtime is 180.05417132377625\n",
    "\n",
    "# Total runtime is 178.98350715637207\n",
    "\n",
    "# Use numpy array of predetermined length:\n",
    "# Total runtime is 189.6665596961975"
   ]
  },
  {
   "cell_type": "markdown",
   "id": "487afe1f",
   "metadata": {},
   "source": [
    "For the x values, we create a range with `(t_i, t_f, dt)` as the parameters. Due to the increasing nature of `t_i`, the initial value of `0.0` is used in its place."
   ]
  },
  {
   "cell_type": "code",
   "execution_count": 17,
   "id": "de1fef9e",
   "metadata": {},
   "outputs": [],
   "source": [
    "### Define the x values ###\n",
    "\n",
    "x_list = np.arange(0, t_f, dt)\n",
    "\n",
    "#for i in range(0, len(x_list)):\n",
    "#    x_list[i] = x_list[i]*0.02418884254 # a.u. to femtoseconds"
   ]
  },
  {
   "cell_type": "markdown",
   "id": "b1e3c135",
   "metadata": {},
   "source": [
    "**3.2 Graphing Position versus Time**"
   ]
  },
  {
   "cell_type": "code",
   "execution_count": 18,
   "id": "cecd2bb0",
   "metadata": {},
   "outputs": [
    {
     "data": {
      "image/png": "[encoded data removed]",
      "text/plain": [
       "<Figure size 432x288 with 1 Axes>"
      ]
     },
     "metadata": {
      "needs_background": "light"
     },
     "output_type": "display_data"
    }
   ],
   "source": [
    "plt.plot(x_list, q_list)\n",
    "plt.plot([0, 500], [0, 0], \"k-\")\n",
    "plt.title(\"Position vs. Time, Morse Potential\")\n",
    "plt.xlim(0, 200)\n",
    "plt.xlabel(\"Time (fs)\")\n",
    "plt.ylim(-0.5, 0.5)\n",
    "plt.ylabel(\"Position, q\")\n",
    "plt.savefig('QHD_morse_qVt.png')\n",
    "plt.show()"
   ]
  },
  {
   "cell_type": "markdown",
   "id": "93c6801c",
   "metadata": {},
   "source": [
    "**3.3 Energy versus Time**"
   ]
  },
  {
   "cell_type": "code",
   "execution_count": 19,
   "id": "52c9e71c",
   "metadata": {},
   "outputs": [
    {
     "data": {
      "image/png": "[encoded data removed]",
      "text/plain": [
       "<Figure size 432x288 with 1 Axes>"
      ]
     },
     "metadata": {
      "needs_background": "light"
     },
     "output_type": "display_data"
    }
   ],
   "source": [
    "#plt.plot(x_list, y_list)\n",
    "plt.plot(x_list, y_list1, \"k\")\n",
    "plt.plot(x_list, y_list2, \"m\")\n",
    "plt.legend([\"QHD E\", \"Classical E\"])\n",
    "#plt.plot([0, 500], [0, 0], \"k-\")\n",
    "plt.title(\"Energy vs. Time, Morse Potential\")\n",
    "plt.xlim(0, 1000)\n",
    "plt.xlabel(\"Time (fs)\")\n",
    "plt.ylim(-5, 0.5)\n",
    "plt.ylabel(\"Energy, eV\")\n",
    "plt.savefig('morse_eVt.png')\n",
    "plt.show()"
   ]
  },
  {
   "cell_type": "markdown",
   "id": "92c08aaf",
   "metadata": {},
   "source": [
    "We can also look at the graphs separately by making a subplot:"
   ]
  },
  {
   "cell_type": "code",
   "execution_count": 20,
   "id": "b58d0041",
   "metadata": {},
   "outputs": [
    {
     "data": {
      "text/plain": [
       "Text(0.5, 1.0, 'Classical Energy vs. Time, Morse Potential')"
      ]
     },
     "execution_count": 20,
     "metadata": {},
     "output_type": "execute_result"
    },
    {
     "data": {
      "image/png": "[encoded data removed]",
      "text/plain": [
       "<Figure size 432x288 with 3 Axes>"
      ]
     },
     "metadata": {
      "needs_background": "light"
     },
     "output_type": "display_data"
    }
   ],
   "source": [
    "plt.subplot(2, 2, 1)\n",
    "#plt.plot(x_list, y_list1)\n",
    "#plt.title(\"Total Energy vs. Time, Morse Potential\")\n",
    "plt.subplot(2, 2, 2)\n",
    "plt.plot(x_list, y_list1)\n",
    "plt.title(\"QHD Energy vs. Time, Morse Potential\")\n",
    "plt.subplot(2, 2, 3)\n",
    "plt.plot(x_list, y_list2)\n",
    "plt.title(\"Classical Energy vs. Time, Morse Potential\")"
   ]
  },
  {
   "cell_type": "code",
   "execution_count": null,
   "id": "15c26810",
   "metadata": {},
   "outputs": [],
   "source": []
  }
 ],
 "metadata": {
  "kernelspec": {
   "display_name": "Python 3",
   "language": "python",
   "name": "python3"
  },
  "language_info": {
   "codemirror_mode": {
    "name": "ipython",
    "version": 3
   },
   "file_extension": ".py",
   "mimetype": "text/x-python",
   "name": "python",
   "nbconvert_exporter": "python",
   "pygments_lexer": "ipython3",
   "version": "3.8.8"
  }
 },
 "nbformat": 4,
 "nbformat_minor": 5
}
