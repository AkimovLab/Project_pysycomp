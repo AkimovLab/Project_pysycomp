{
 "cells": [
  {
   "cell_type": "code",
   "execution_count": 1,
   "id": "e6665771",
   "metadata": {},
   "outputs": [],
   "source": [
    "from QHD import *\n",
    "\n",
    "import matplotlib.pyplot as plt\n",
    "import numpy as np"
   ]
  },
  {
   "cell_type": "markdown",
   "id": "c91b6ec0",
   "metadata": {},
   "source": [
    "# The Morse Potential"
   ]
  },
  {
   "cell_type": "markdown",
   "id": "ea5b7116",
   "metadata": {},
   "source": [
    "For this first module, we will be looking at a morse potential."
   ]
  },
  {
   "cell_type": "markdown",
   "id": "18a34227",
   "metadata": {},
   "source": [
    "### 1. The Potential"
   ]
  },
  {
   "cell_type": "markdown",
   "id": "82213fe9",
   "metadata": {},
   "source": [
    "We first must define the potential along with its parameters, as described below for the O-H stretch in a water molecule."
   ]
  },
  {
   "cell_type": "markdown",
   "id": "ceb84033",
   "metadata": {},
   "source": [
    "**Parameters**\n",
    "\n",
    "$D = 4.419 eV$\n",
    "\n",
    "$\\alpha = 2.567 A^{(-1)}$\n",
    "\n",
    "$q_0 = 0 A$\n",
    "\n",
    "\n",
    "\n",
    "\n",
    "**Potential**\n",
    "\n",
    "$V(q) = D*(1-e^{-\\alpha(q-q_0)})^2$"
   ]
  },
  {
   "cell_type": "markdown",
   "id": "df7d0d16",
   "metadata": {},
   "source": [
    "We can define this potential as `potential`, and define the given parameters as `D`, `alpha`, and `q_0` as described below. We will also need to define the dependent variable, in this case `q` as a range using the `linspace` function found in `numpy`. The parameters are all in *atomic units*."
   ]
  },
  {
   "cell_type": "code",
   "execution_count": 2,
   "id": "8919b086",
   "metadata": {},
   "outputs": [],
   "source": [
    "D = 4.419 #*0.0367493 # eV -> Hartree\n",
    "D1 = 1 #*0.0367493 # eV -> Hartree\n",
    "D2 = 10 #*0.0367493 # eV -> Hartree\n",
    "alpha = 2.567 # Angstrom(-1) \n",
    "q_0 = 0 # Angstrom\n",
    "q = np.linspace(-10, 10, 1000) # Angstrom\n",
    "\n",
    "potential = D * (1 - np.exp(-alpha*(q-q_0)))**2\n",
    "potential1 = D1 * (1 - np.exp(-alpha*(q-q_0)))**2\n",
    "potential2 = D2 * (1 - np.exp(-alpha*(q-q_0)))**2\n",
    "\n",
    "# Above values given in QHD paper for water O-H stretch"
   ]
  },
  {
   "cell_type": "markdown",
   "id": "fed0efdf",
   "metadata": {},
   "source": [
    "Now that the parameters and potential have been defined, the potential can be plotted using the `matplotlib.pyplot` library. Any of the lines can be changed as desired."
   ]
  },
  {
   "cell_type": "code",
   "execution_count": 3,
   "id": "16710487",
   "metadata": {},
   "outputs": [
    {
     "data": {
      "image/png": "[encoded data removed]",
      "text/plain": [
       "<Figure size 432x288 with 1 Axes>"
      ]
     },
     "metadata": {
      "needs_background": "light"
     },
     "output_type": "display_data"
    }
   ],
   "source": [
    "plt.plot(q, potential, 'k')\n",
    "plt.plot(q, potential1, 'm')\n",
    "plt.plot(q, potential2, \"g\")\n",
    "plt.legend([\"D = 4.419 eV\", \"D = 1 eV\", \"D = 10 eV\"])\n",
    "plt.title(\"Morse Potential\") # Title of the graph\n",
    "plt.ylim(0, 15) # (Lower, Upper) limit of the y-axis\n",
    "plt.ylabel(\"Potential, V(q)\") \n",
    "plt.xlim(-1, 2.5) # (Lower, Upper) limit of the x-axis\n",
    "plt.xlabel(\"Position, q\")\n",
    "plt.savefig('morse_vVq.png') # Save to this file name, as a png file\n",
    "plt.show()"
   ]
  },
  {
   "cell_type": "markdown",
   "id": "e3801b39",
   "metadata": {},
   "source": [
    "### 2. Derivation of  QHD formulas"
   ]
  },
  {
   "cell_type": "markdown",
   "id": "be04ef1a",
   "metadata": {},
   "source": [
    "Here, we use the pysces library, able to derive the equations of motion in the QHD method. We will need to define the `q`, `p`, `p2`, `x`, `x2`, and `xp` variables. In order to do this, we must first calculate the first and second derivatives of the potential of interest, defined in section 1. We will also use a change of variables as well, described below."
   ]
  },
  {
   "cell_type": "markdown",
   "id": "fb8c2b8d",
   "metadata": {},
   "source": [
    "**2.1 The First and Second Derivatives of the Potential**"
   ]
  },
  {
   "cell_type": "markdown",
   "id": "2efa2ada",
   "metadata": {},
   "source": [
    "To take the derivatives, we must represent the potential symbolically. This can be done by:"
   ]
  },
  {
   "cell_type": "code",
   "execution_count": 4,
   "id": "7367cbc9",
   "metadata": {},
   "outputs": [],
   "source": [
    "# First, we must define all the parameters as stated in section 1 as symbols:\n",
    "\n",
    "D, alpha, q = symbols(\"D, alpha, q\")\n",
    "q_0 = 0.0\n",
    "\n",
    "# When computing symbolically, we do not need to use the numpy exponential function.\n",
    "\n",
    "potential_sym = D * (1 - exp(-alpha*(q-q_0)))**2"
   ]
  },
  {
   "cell_type": "markdown",
   "id": "7db9267c",
   "metadata": {},
   "source": [
    "Now that the potential is represented symbolically, we may take the first and second derivatives, described by diff1 and diff2, respectively"
   ]
  },
  {
   "cell_type": "code",
   "execution_count": 5,
   "id": "c753d303",
   "metadata": {},
   "outputs": [
    {
     "data": {
      "image/png": "[encoded data removed]",
      "text/latex": [
       "$\\displaystyle \\left( 2 D \\alpha \\left(1 - e^{- \\alpha q}\\right) e^{- \\alpha q}, \\  - 2 D \\alpha^{2} \\left(1 - e^{- \\alpha q}\\right) e^{- \\alpha q} + 2 D \\alpha^{2} e^{- 2 \\alpha q}\\right)$"
      ],
      "text/plain": [
       "⎛      ⎛     -α⋅q⎞  -α⋅q         2 ⎛     -α⋅q⎞  -α⋅q        2  -2⋅α⋅q⎞\n",
       "⎝2⋅D⋅α⋅⎝1 - ℯ    ⎠⋅ℯ    , - 2⋅D⋅α ⋅⎝1 - ℯ    ⎠⋅ℯ     + 2⋅D⋅α ⋅ℯ      ⎠"
      ]
     },
     "execution_count": 5,
     "metadata": {},
     "output_type": "execute_result"
    }
   ],
   "source": [
    "diff1 = diff(potential_sym, q)\n",
    "diff2 = diff(diff1, q)\n",
    "\n",
    "diff1, diff2"
   ]
  },
  {
   "cell_type": "markdown",
   "id": "dafe6a6f",
   "metadata": {},
   "source": [
    "**2.2 Change of Variable**"
   ]
  },
  {
   "cell_type": "markdown",
   "id": "532d41a0",
   "metadata": {},
   "source": [
    "We can do a change of variable in the potential to:\n",
    "\n",
    "$$x=e^{-\\alpha q}$$\n",
    "\n",
    "And so:\n",
    "\n",
    "$$V(q)=D[x^2-2x]$$\n",
    "\n",
    "We will now take the first and second derivatives of the original potential, and then perform the change of variables."
   ]
  },
  {
   "cell_type": "markdown",
   "id": "eb5d9c51",
   "metadata": {},
   "source": [
    "- The First Derivative:"
   ]
  },
  {
   "cell_type": "code",
   "execution_count": 6,
   "id": "5c0ec3ac",
   "metadata": {},
   "outputs": [
    {
     "data": {
      "image/png": "[encoded data removed]",
      "text/latex": [
       "$\\displaystyle 2 D \\alpha x \\left(1 - x\\right)$"
      ],
      "text/plain": [
       "2⋅D⋅α⋅x⋅(1 - x)"
      ]
     },
     "execution_count": 6,
     "metadata": {},
     "output_type": "execute_result"
    }
   ],
   "source": [
    "x = Symbol(\"x\")\n",
    "\n",
    "diff11 = diff1.replace(exp(-alpha*(q-q_0)), x).replace(exp(-2*alpha*(q-q_0)), x**2)\n",
    "\n",
    "diff11"
   ]
  },
  {
   "cell_type": "markdown",
   "id": "8c2edfc1",
   "metadata": {},
   "source": [
    "- The Second Derivative:"
   ]
  },
  {
   "cell_type": "code",
   "execution_count": 7,
   "id": "d351b9fa",
   "metadata": {},
   "outputs": [
    {
     "data": {
      "image/png": "[encoded data removed]",
      "text/latex": [
       "$\\displaystyle 2 D \\alpha^{2} x^{2} - 2 D \\alpha^{2} x \\left(1 - x\\right)$"
      ],
      "text/plain": [
       "     2  2        2          \n",
       "2⋅D⋅α ⋅x  - 2⋅D⋅α ⋅x⋅(1 - x)"
      ]
     },
     "execution_count": 7,
     "metadata": {},
     "output_type": "execute_result"
    }
   ],
   "source": [
    "diff22 = diff2.replace(exp(-alpha*(q-q_0)), x).replace(exp(-2*alpha*(q-q_0)), x**2)\n",
    "\n",
    "diff22"
   ]
  },
  {
   "cell_type": "markdown",
   "id": "c8655483",
   "metadata": {},
   "source": [
    "We can now solve for the equations of motion."
   ]
  },
  {
   "cell_type": "markdown",
   "id": "9dcec9f4",
   "metadata": {},
   "source": [
    "**2.3 Solving for the Equations of Motion**"
   ]
  },
  {
   "cell_type": "markdown",
   "id": "59d7c3e4",
   "metadata": {},
   "source": [
    "We must solve the equations of motion for `q`, `p`, `x`, `x2`, and `xp` using the parameters defined in section 1."
   ]
  },
  {
   "cell_type": "code",
   "execution_count": 10,
   "id": "ab0de99a",
   "metadata": {},
   "outputs": [
    {
     "name": "stdout",
     "output_type": "stream",
     "text": [
      "q = dt*p/mass + q\n",
      "x = -0.5*alpha*dt*xp/mass + x\n",
      "p = dt*(1.0*D*alpha*x2 - 1.0*D*alpha*x) + p\n",
      "p2 = dt*(-2.0*D*alpha*xp + 2.0*D*alpha*(-2*p*x**2 + p*x2 + 2*x*xp)) + p2\n"
     ]
    }
   ],
   "source": [
    "# Again, we must first define all variables as symbols. #\n",
    "\n",
    "q, p, p2, x, x2, xp, dt, mass, D, alpha = symbols(\"q, p, p2, x, x2, xp, dt, mass, D, alpha\")\n",
    "q_0 = 0.0\n",
    "########## EOM Calculations ##########\n",
    "\n",
    "# If you want to see the output of any of the below, uncomment the desired print line. #\n",
    "\n",
    "# There are two ways to derive the EOM's, using the `time_deriv` function and then the original way is with `QHD_int`\n",
    "# The `time_deriv` function is used as it's more versatile at this time, however it's still not perfect.\n",
    "# `QHD_int` uses the `time_deriv` function\n",
    "\n",
    "px = xp\n",
    "q1 = str(time_deriv(q, 1)*dt + q)\n",
    "print(\"q = \" + str(q1))\n",
    "\n",
    "x = exp(-alpha*q)\n",
    "x1 = sympify(str(time_deriv(x, 1)).replace(\"exp(-alpha*q)\", \"x\"))\n",
    "x1 = str((symmetrize(x1))*(0.5)*dt + Symbol(\"x\"))\n",
    "print(\"x = \" + str(x1))\n",
    "\n",
    "p1 = str(time_deriv(p, 1)).replace(\"v(q)\", str(potential_sym))\n",
    "p1 = expand(sympify(p1).doit())\n",
    "p1 = str(p1).replace(\"exp(-2*alpha*q)\", \"x2\").replace(\"alpha**2\", \"0\")\n",
    "p1 = sympify(p1)\n",
    "p1 = str(symmetrize(p1)*(0.5)*dt + p).replace(\"exp(-alpha*q)\", \"x\")\n",
    "print(\"p = \" + str(p1))\n",
    "\n",
    "x = Symbol(\"x\")\n",
    "p21 = str(time_deriv(p, 2)).replace(\"v(q)\", str(potential_sym))\n",
    "p21 = expand(sympify(p21).doit())\n",
    "p21 = str(-p21).replace(\"exp(-alpha*q)\", \"x\").replace(\"exp(-2*alpha*q)\", \"x2\").replace(\"alpha**2\", \"0\")\n",
    "p21 = str(symmetrize(p21)*(0.5)*dt + p2).replace(\"exp(-alpha*q)\", \"x\").replace(\"exp(-2*alpha*q)\", \"x2\")\n",
    "print(\"p2 = \" + str(p21))"
   ]
  },
  {
   "cell_type": "code",
   "execution_count": 11,
   "id": "ac9136ce",
   "metadata": {},
   "outputs": [],
   "source": [
    "alp = alpha\n",
    "\n",
    "def integrate_x2(q,p,pq,q2,p2,x,x2,xp,xq,dt,mass,alp,D):\n",
    "    x2 = x2 - 4.0*(alp/mass)*x*(xp - x*p)*0.5*dt\n",
    "    x2 = exp(-2.0*alp*p*dt/mass)*x2\n",
    "    x2 = x2 - 4.0*(alp/mass)*x*(xp - x*p)*0.5*dt\n",
    "    return x2\n",
    "\n",
    "def integrate_xp(q,p,pq,q2,p2,x,x2,xp,xq,dt,mass,alp,D):\n",
    "    xp = xp + 0.5*dt*(2.0*alp*D*(x*(3.0*x2 - 2*x*x) - x2)  - (alp*x/mass)*(p2 - 2.0*p*p) )\n",
    "    xp = exp(-2.0*alp*p*dt/mass)*xp\n",
    "    xp = xp + 0.5*dt*(2.0*alp*D*(x*(3.0*x2 - 2*x*x) - x2)  - (alp*x/mass)*(p2 - 2.0*p*p) )\n",
    "    return xp"
   ]
  },
  {
   "cell_type": "markdown",
   "id": "149a08c3",
   "metadata": {},
   "source": [
    "Now, we are ready to make plots of the data based on the EOM's as computed above."
   ]
  },
  {
   "cell_type": "markdown",
   "id": "ac0399e1",
   "metadata": {},
   "source": [
    "# 3. Graphing"
   ]
  },
  {
   "cell_type": "markdown",
   "id": "0972da32",
   "metadata": {},
   "source": [
    "**3.1 Generating Time-Dependent Values**"
   ]
  },
  {
   "cell_type": "markdown",
   "id": "f198134e",
   "metadata": {},
   "source": [
    "We will first define all of the parameters necessary to perform the QHD calculations."
   ]
  },
  {
   "cell_type": "code",
   "execution_count": 38,
   "id": "f057f929",
   "metadata": {},
   "outputs": [],
   "source": [
    "##### Constants #####\n",
    "\n",
    "hbar = 0.6582  # eV * fs\n",
    "convert = (1.0/17.586)\n",
    "mass, q0, p0, s0, ps0, T, dt = 2980.0*convert, 0.15, 0.0, 0.05, 0.0, 500, 0.1\n",
    "alp = 2.567\n",
    "alpha = alp\n",
    "\n",
    "\n",
    "D = 4.419\n",
    "#D = 1\n",
    "#D = 10\n",
    "\n",
    "##### Initial Conditions #####\n",
    "\n",
    "t = 0.0    \n",
    "Etot = 0.0\n",
    "Etot0 = 0.0\n",
    "Etot_cl = 0.0\n",
    "Etot_cl0 = 0.0\n",
    "q,p,pq,q2,p2,x,x2,xp,xq = 0.0, 0.0, 0.0, 0.0, 0.0, 0.0, 0.0, 0.0, 0.0\n",
    "q, p = q0, p0\n",
    "q_0 = 0.0\n",
    "q2 = q*q + s0*s0\n",
    "pq = ps0*s0 + q*p\n",
    "p2 = p*p + ps0*ps0 + (0.5*hbar/s0)**2\n",
    "x = math.exp(-alp*q0)*math.exp(0.5*alp*alp*s0*s0)\n",
    "x2 = math.exp(-2.0*alp*q0)*math.exp(2.0*alp*alp*s0*s0)\n",
    "xq = x*(q-alp*s0*s0)\n",
    "xp = x*(p - s0*ps0*alp)\n",
    "\n",
    "##### ----- #####\n",
    "\n",
    "xp = integrate_xp(q,p,pq,q2,p2,x,x2,xp,xq,0.5*dt,mass,alp,D)\n",
    "\n",
    "x2 = integrate_x2(q,p,pq,q2,p2,x,x2,xp,xq,0.5*dt,mass,alp,D)\n",
    "\n",
    "x = eval(x1)\n",
    "\n",
    "p2 = eval(p21)\n",
    "\n",
    "p = eval(p1)\n",
    "\n",
    "q = eval(q1)\n",
    "\n",
    "p = eval(p1)\n",
    "\n",
    "p2 = eval(p21)\n",
    "\n",
    "x = eval(x1)\n",
    "\n",
    "x2 = integrate_x2(q,p,pq,q2,p2,x,x2,xp,xq,0.5*dt,mass,alp,D)\n",
    "\n",
    "xp = integrate_xp(q,p,pq,q2,p2,x,x2,xp,xq,0.5*dt,mass,alp,D)\n",
    "\n",
    "##### Empty Lists for Data Storage: #####\n",
    "\n",
    "q_list = [] \n",
    "p_list = []"
   ]
  },
  {
   "cell_type": "markdown",
   "id": "7fc0f208",
   "metadata": {},
   "source": [
    "Now that the parameters have been defined, we can compute the desired values of position and energy over a given time interval."
   ]
  },
  {
   "cell_type": "code",
   "execution_count": 39,
   "id": "bfac9ea2",
   "metadata": {
    "scrolled": true
   },
   "outputs": [
    {
     "name": "stdout",
     "output_type": "stream",
     "text": [
      "Total runtime is 44.89966940879822\n"
     ]
    }
   ],
   "source": [
    "### Time how long it takes to compute ###\n",
    "\n",
    "import time \n",
    "begin = time.time()\n",
    "\n",
    "\n",
    "### Compute the x values ###\n",
    "\n",
    "dt = 0.1 # step size\n",
    "t_i = 0.0 # start\n",
    "t_f = 1000 # finish\n",
    "\n",
    "\n",
    "### Compute the y values ###\n",
    "\n",
    "i=0\n",
    "while i<1:        \n",
    "    s = (q2 - q*q)\n",
    "    if s>0.0:\n",
    "        s = math.sqrt(s)\n",
    "    else: \n",
    "        s = 0.0\n",
    "    if s>0.0:\n",
    "        ps = (pq - p*q)/s\n",
    "    else: \n",
    "        ps = 0.0\n",
    "    i = i+1\n",
    "\n",
    "\n",
    "while t_i<=t_f:\n",
    "    xp = integrate_xp(q,p,pq,q2,p2,x,x2,xp,xq,0.5*dt,mass,alp,D)\n",
    "\n",
    "    x2 = integrate_x2(q,p,pq,q2,p2,x,x2,xp,xq,0.5*dt,mass,alp,D)\n",
    "\n",
    "    x = eval(x1)\n",
    "\n",
    "    p2 = eval(p21)\n",
    "\n",
    "    p = eval(p1)\n",
    "\n",
    "    q = eval(q1)\n",
    "\n",
    "    p = eval(p1)\n",
    "\n",
    "    p2 = eval(p21)\n",
    "\n",
    "    x = eval(x1)\n",
    "\n",
    "    x2 = integrate_x2(q,p,pq,q2,p2,x,x2,xp,xq,0.5*dt,mass,alp,D)\n",
    "\n",
    "    xp = integrate_xp(q,p,pq,q2,p2,x,x2,xp,xq,0.5*dt,mass,alp,D)\n",
    "\n",
    "\n",
    "    t_i = t_i + dt\n",
    "    i=0\n",
    "    while i<1:\n",
    "        s = (q2 - q*q)\n",
    "        if s>0.0:\n",
    "            s = math.sqrt(s)\n",
    "        else: \n",
    "            s = 0.0\n",
    "        if s>0.0:\n",
    "            ps = (pq - p*q)/s\n",
    "        else: \n",
    "            ps = 0.0\n",
    "\n",
    "        i = i+1\n",
    "        q_list.append(q)\n",
    "        p_list.append(p)\n",
    "\n",
    "\n",
    "### Compute the end time ###\n",
    "    \n",
    "time.sleep(1)\n",
    "# store end time\n",
    "end = time.time()\n",
    "  \n",
    "# total time taken\n",
    "print(f\"Total runtime is {end - begin}\")"
   ]
  },
  {
   "cell_type": "markdown",
   "id": "9d8da204",
   "metadata": {},
   "source": [
    "The above cell takes about 40-45 seconds to run for `t_f = 1000`"
   ]
  },
  {
   "cell_type": "markdown",
   "id": "487afe1f",
   "metadata": {},
   "source": [
    "For the x values, we create a range with `(t_i, t_f, dt)` as the parameters. Due to the increasing nature of `t_i`, the initial value of `0.0` is used in its place."
   ]
  },
  {
   "cell_type": "code",
   "execution_count": 40,
   "id": "de1fef9e",
   "metadata": {},
   "outputs": [],
   "source": [
    "### Define the x values ###\n",
    "\n",
    "x_list = np.arange(0, t_f, dt)"
   ]
  },
  {
   "cell_type": "markdown",
   "id": "b1e3c135",
   "metadata": {},
   "source": [
    "**3.2 Graphing Position versus Time**"
   ]
  },
  {
   "cell_type": "code",
   "execution_count": 41,
   "id": "cecd2bb0",
   "metadata": {},
   "outputs": [
    {
     "data": {
      "image/png": "[encoded data removed]",
      "text/plain": [
       "<Figure size 432x288 with 1 Axes>"
      ]
     },
     "metadata": {
      "needs_background": "light"
     },
     "output_type": "display_data"
    }
   ],
   "source": [
    "plt.plot(x_list, q_list, 'm')\n",
    "plt.title(\"Position vs. Time, Morse Potential\")\n",
    "plt.xlim(0, 500)\n",
    "plt.xlabel(\"Time (fs)\")\n",
    "#plt.ylim(-0.5, 0.5)\n",
    "plt.ylabel(\"Position, q\")\n",
    "plt.show()"
   ]
  },
  {
   "cell_type": "markdown",
   "id": "65eef1a9",
   "metadata": {},
   "source": [
    "**3.2.1 Graphing Potential versus Time**"
   ]
  },
  {
   "cell_type": "code",
   "execution_count": 42,
   "id": "1f39abe6",
   "metadata": {},
   "outputs": [
    {
     "data": {
      "image/png": "[encoded data removed]",
      "text/plain": [
       "<Figure size 432x288 with 1 Axes>"
      ]
     },
     "metadata": {
      "needs_background": "light"
     },
     "output_type": "display_data"
    }
   ],
   "source": [
    "plt.plot(x_list, p_list, 'm')\n",
    "#plt.plot([0, 5000], [0, 0], \"k\")\n",
    "plt.title(\"Momentum vs. Time, Morse Potential\")\n",
    "plt.xlim(0, 500)\n",
    "plt.xlabel(\"Time (fs)\")\n",
    "#plt.ylim(-0.5, 0.5)\n",
    "plt.ylabel(\"Momentum, p\")\n",
    "plt.show()"
   ]
  },
  {
   "cell_type": "code",
   "execution_count": null,
   "id": "7acd5b89",
   "metadata": {},
   "outputs": [],
   "source": []
  },
  {
   "cell_type": "code",
   "execution_count": null,
   "id": "d485e4ae",
   "metadata": {},
   "outputs": [],
   "source": []
  },
  {
   "cell_type": "code",
   "execution_count": null,
   "id": "1ac18840",
   "metadata": {},
   "outputs": [],
   "source": [
    "# Maybe don't do energy..."
   ]
  },
  {
   "cell_type": "markdown",
   "id": "93c6801c",
   "metadata": {},
   "source": [
    "**3.3 Energy versus Time**"
   ]
  },
  {
   "cell_type": "code",
   "execution_count": 25,
   "id": "52c9e71c",
   "metadata": {},
   "outputs": [
    {
     "ename": "ValueError",
     "evalue": "x and y must have same first dimension, but have shapes (10000,) and (0,)",
     "output_type": "error",
     "traceback": [
      "\u001b[1;31m---------------------------------------------------------------------------\u001b[0m",
      "\u001b[1;31mValueError\u001b[0m                                Traceback (most recent call last)",
      "\u001b[1;32m<ipython-input-25-80d6289a78d0>\u001b[0m in \u001b[0;36m<module>\u001b[1;34m\u001b[0m\n\u001b[0;32m      1\u001b[0m \u001b[1;31m#plt.plot(x_list, e_list0)\u001b[0m\u001b[1;33m\u001b[0m\u001b[1;33m\u001b[0m\u001b[1;33m\u001b[0m\u001b[0m\n\u001b[1;32m----> 2\u001b[1;33m \u001b[0mplt\u001b[0m\u001b[1;33m.\u001b[0m\u001b[0mplot\u001b[0m\u001b[1;33m(\u001b[0m\u001b[0mx_list\u001b[0m\u001b[1;33m,\u001b[0m \u001b[0me_list1\u001b[0m\u001b[1;33m,\u001b[0m \u001b[1;34m\"k\"\u001b[0m\u001b[1;33m)\u001b[0m\u001b[1;33m\u001b[0m\u001b[1;33m\u001b[0m\u001b[0m\n\u001b[0m\u001b[0;32m      3\u001b[0m \u001b[0mplt\u001b[0m\u001b[1;33m.\u001b[0m\u001b[0mplot\u001b[0m\u001b[1;33m(\u001b[0m\u001b[0mx_list\u001b[0m\u001b[1;33m,\u001b[0m \u001b[0me_list2\u001b[0m\u001b[1;33m,\u001b[0m \u001b[1;34m\"m\"\u001b[0m\u001b[1;33m)\u001b[0m\u001b[1;33m\u001b[0m\u001b[1;33m\u001b[0m\u001b[0m\n\u001b[0;32m      4\u001b[0m \u001b[0mplt\u001b[0m\u001b[1;33m.\u001b[0m\u001b[0mlegend\u001b[0m\u001b[1;33m(\u001b[0m\u001b[1;33m[\u001b[0m\u001b[1;34m\"Classical E\"\u001b[0m\u001b[1;33m,\u001b[0m \u001b[1;34mr\"E/$E_0$\"\u001b[0m\u001b[1;33m]\u001b[0m\u001b[1;33m)\u001b[0m\u001b[1;33m\u001b[0m\u001b[1;33m\u001b[0m\u001b[0m\n\u001b[0;32m      5\u001b[0m \u001b[1;31m#plt.plot([0, 500], [0, 0], \"k-\")\u001b[0m\u001b[1;33m\u001b[0m\u001b[1;33m\u001b[0m\u001b[1;33m\u001b[0m\u001b[0m\n",
      "\u001b[1;32m~\\anaconda3\\lib\\site-packages\\matplotlib\\pyplot.py\u001b[0m in \u001b[0;36mplot\u001b[1;34m(scalex, scaley, data, *args, **kwargs)\u001b[0m\n\u001b[0;32m   2838\u001b[0m \u001b[1;33m@\u001b[0m\u001b[0m_copy_docstring_and_deprecators\u001b[0m\u001b[1;33m(\u001b[0m\u001b[0mAxes\u001b[0m\u001b[1;33m.\u001b[0m\u001b[0mplot\u001b[0m\u001b[1;33m)\u001b[0m\u001b[1;33m\u001b[0m\u001b[1;33m\u001b[0m\u001b[0m\n\u001b[0;32m   2839\u001b[0m \u001b[1;32mdef\u001b[0m \u001b[0mplot\u001b[0m\u001b[1;33m(\u001b[0m\u001b[1;33m*\u001b[0m\u001b[0margs\u001b[0m\u001b[1;33m,\u001b[0m \u001b[0mscalex\u001b[0m\u001b[1;33m=\u001b[0m\u001b[1;32mTrue\u001b[0m\u001b[1;33m,\u001b[0m \u001b[0mscaley\u001b[0m\u001b[1;33m=\u001b[0m\u001b[1;32mTrue\u001b[0m\u001b[1;33m,\u001b[0m \u001b[0mdata\u001b[0m\u001b[1;33m=\u001b[0m\u001b[1;32mNone\u001b[0m\u001b[1;33m,\u001b[0m \u001b[1;33m**\u001b[0m\u001b[0mkwargs\u001b[0m\u001b[1;33m)\u001b[0m\u001b[1;33m:\u001b[0m\u001b[1;33m\u001b[0m\u001b[1;33m\u001b[0m\u001b[0m\n\u001b[1;32m-> 2840\u001b[1;33m     return gca().plot(\n\u001b[0m\u001b[0;32m   2841\u001b[0m         \u001b[1;33m*\u001b[0m\u001b[0margs\u001b[0m\u001b[1;33m,\u001b[0m \u001b[0mscalex\u001b[0m\u001b[1;33m=\u001b[0m\u001b[0mscalex\u001b[0m\u001b[1;33m,\u001b[0m \u001b[0mscaley\u001b[0m\u001b[1;33m=\u001b[0m\u001b[0mscaley\u001b[0m\u001b[1;33m,\u001b[0m\u001b[1;33m\u001b[0m\u001b[1;33m\u001b[0m\u001b[0m\n\u001b[0;32m   2842\u001b[0m         **({\"data\": data} if data is not None else {}), **kwargs)\n",
      "\u001b[1;32m~\\anaconda3\\lib\\site-packages\\matplotlib\\axes\\_axes.py\u001b[0m in \u001b[0;36mplot\u001b[1;34m(self, scalex, scaley, data, *args, **kwargs)\u001b[0m\n\u001b[0;32m   1741\u001b[0m         \"\"\"\n\u001b[0;32m   1742\u001b[0m         \u001b[0mkwargs\u001b[0m \u001b[1;33m=\u001b[0m \u001b[0mcbook\u001b[0m\u001b[1;33m.\u001b[0m\u001b[0mnormalize_kwargs\u001b[0m\u001b[1;33m(\u001b[0m\u001b[0mkwargs\u001b[0m\u001b[1;33m,\u001b[0m \u001b[0mmlines\u001b[0m\u001b[1;33m.\u001b[0m\u001b[0mLine2D\u001b[0m\u001b[1;33m)\u001b[0m\u001b[1;33m\u001b[0m\u001b[1;33m\u001b[0m\u001b[0m\n\u001b[1;32m-> 1743\u001b[1;33m         \u001b[0mlines\u001b[0m \u001b[1;33m=\u001b[0m \u001b[1;33m[\u001b[0m\u001b[1;33m*\u001b[0m\u001b[0mself\u001b[0m\u001b[1;33m.\u001b[0m\u001b[0m_get_lines\u001b[0m\u001b[1;33m(\u001b[0m\u001b[1;33m*\u001b[0m\u001b[0margs\u001b[0m\u001b[1;33m,\u001b[0m \u001b[0mdata\u001b[0m\u001b[1;33m=\u001b[0m\u001b[0mdata\u001b[0m\u001b[1;33m,\u001b[0m \u001b[1;33m**\u001b[0m\u001b[0mkwargs\u001b[0m\u001b[1;33m)\u001b[0m\u001b[1;33m]\u001b[0m\u001b[1;33m\u001b[0m\u001b[1;33m\u001b[0m\u001b[0m\n\u001b[0m\u001b[0;32m   1744\u001b[0m         \u001b[1;32mfor\u001b[0m \u001b[0mline\u001b[0m \u001b[1;32min\u001b[0m \u001b[0mlines\u001b[0m\u001b[1;33m:\u001b[0m\u001b[1;33m\u001b[0m\u001b[1;33m\u001b[0m\u001b[0m\n\u001b[0;32m   1745\u001b[0m             \u001b[0mself\u001b[0m\u001b[1;33m.\u001b[0m\u001b[0madd_line\u001b[0m\u001b[1;33m(\u001b[0m\u001b[0mline\u001b[0m\u001b[1;33m)\u001b[0m\u001b[1;33m\u001b[0m\u001b[1;33m\u001b[0m\u001b[0m\n",
      "\u001b[1;32m~\\anaconda3\\lib\\site-packages\\matplotlib\\axes\\_base.py\u001b[0m in \u001b[0;36m__call__\u001b[1;34m(self, data, *args, **kwargs)\u001b[0m\n\u001b[0;32m    271\u001b[0m                 \u001b[0mthis\u001b[0m \u001b[1;33m+=\u001b[0m \u001b[0margs\u001b[0m\u001b[1;33m[\u001b[0m\u001b[1;36m0\u001b[0m\u001b[1;33m]\u001b[0m\u001b[1;33m,\u001b[0m\u001b[1;33m\u001b[0m\u001b[1;33m\u001b[0m\u001b[0m\n\u001b[0;32m    272\u001b[0m                 \u001b[0margs\u001b[0m \u001b[1;33m=\u001b[0m \u001b[0margs\u001b[0m\u001b[1;33m[\u001b[0m\u001b[1;36m1\u001b[0m\u001b[1;33m:\u001b[0m\u001b[1;33m]\u001b[0m\u001b[1;33m\u001b[0m\u001b[1;33m\u001b[0m\u001b[0m\n\u001b[1;32m--> 273\u001b[1;33m             \u001b[1;32myield\u001b[0m \u001b[1;32mfrom\u001b[0m \u001b[0mself\u001b[0m\u001b[1;33m.\u001b[0m\u001b[0m_plot_args\u001b[0m\u001b[1;33m(\u001b[0m\u001b[0mthis\u001b[0m\u001b[1;33m,\u001b[0m \u001b[0mkwargs\u001b[0m\u001b[1;33m)\u001b[0m\u001b[1;33m\u001b[0m\u001b[1;33m\u001b[0m\u001b[0m\n\u001b[0m\u001b[0;32m    274\u001b[0m \u001b[1;33m\u001b[0m\u001b[0m\n\u001b[0;32m    275\u001b[0m     \u001b[1;32mdef\u001b[0m \u001b[0mget_next_color\u001b[0m\u001b[1;33m(\u001b[0m\u001b[0mself\u001b[0m\u001b[1;33m)\u001b[0m\u001b[1;33m:\u001b[0m\u001b[1;33m\u001b[0m\u001b[1;33m\u001b[0m\u001b[0m\n",
      "\u001b[1;32m~\\anaconda3\\lib\\site-packages\\matplotlib\\axes\\_base.py\u001b[0m in \u001b[0;36m_plot_args\u001b[1;34m(self, tup, kwargs)\u001b[0m\n\u001b[0;32m    397\u001b[0m \u001b[1;33m\u001b[0m\u001b[0m\n\u001b[0;32m    398\u001b[0m         \u001b[1;32mif\u001b[0m \u001b[0mx\u001b[0m\u001b[1;33m.\u001b[0m\u001b[0mshape\u001b[0m\u001b[1;33m[\u001b[0m\u001b[1;36m0\u001b[0m\u001b[1;33m]\u001b[0m \u001b[1;33m!=\u001b[0m \u001b[0my\u001b[0m\u001b[1;33m.\u001b[0m\u001b[0mshape\u001b[0m\u001b[1;33m[\u001b[0m\u001b[1;36m0\u001b[0m\u001b[1;33m]\u001b[0m\u001b[1;33m:\u001b[0m\u001b[1;33m\u001b[0m\u001b[1;33m\u001b[0m\u001b[0m\n\u001b[1;32m--> 399\u001b[1;33m             raise ValueError(f\"x and y must have same first dimension, but \"\n\u001b[0m\u001b[0;32m    400\u001b[0m                              f\"have shapes {x.shape} and {y.shape}\")\n\u001b[0;32m    401\u001b[0m         \u001b[1;32mif\u001b[0m \u001b[0mx\u001b[0m\u001b[1;33m.\u001b[0m\u001b[0mndim\u001b[0m \u001b[1;33m>\u001b[0m \u001b[1;36m2\u001b[0m \u001b[1;32mor\u001b[0m \u001b[0my\u001b[0m\u001b[1;33m.\u001b[0m\u001b[0mndim\u001b[0m \u001b[1;33m>\u001b[0m \u001b[1;36m2\u001b[0m\u001b[1;33m:\u001b[0m\u001b[1;33m\u001b[0m\u001b[1;33m\u001b[0m\u001b[0m\n",
      "\u001b[1;31mValueError\u001b[0m: x and y must have same first dimension, but have shapes (10000,) and (0,)"
     ]
    },
    {
     "data": {
      "image/png": "[encoded data removed]",
      "text/plain": [
       "<Figure size 432x288 with 1 Axes>"
      ]
     },
     "metadata": {
      "needs_background": "light"
     },
     "output_type": "display_data"
    }
   ],
   "source": [
    "#plt.plot(x_list, e_list0)\n",
    "plt.plot(x_list, e_list1, \"k\")\n",
    "plt.plot(x_list, e_list2, \"m\")\n",
    "plt.legend([\"Classical E\", r\"E/$E_0$\"])\n",
    "#plt.plot([0, 500], [0, 0], \"k-\")\n",
    "plt.title(\"Energy vs. Time, D = 4.419 eV\")\n",
    "plt.xlim(0, 20)\n",
    "plt.xlabel(\"Time (fs)\")\n",
    "#plt.ylim(0, 2)\n",
    "plt.ylabel(\"Energy, eV\")\n",
    "plt.savefig('morse_eVt.png')\n",
    "plt.show()"
   ]
  },
  {
   "cell_type": "code",
   "execution_count": null,
   "id": "891c27a4",
   "metadata": {},
   "outputs": [],
   "source": []
  }
 ],
 "metadata": {
  "kernelspec": {
   "display_name": "Python 3",
   "language": "python",
   "name": "python3"
  },
  "language_info": {
   "codemirror_mode": {
    "name": "ipython",
    "version": 3
   },
   "file_extension": ".py",
   "mimetype": "text/x-python",
   "name": "python",
   "nbconvert_exporter": "python",
   "pygments_lexer": "ipython3",
   "version": "3.8.8"
  }
 },
 "nbformat": 4,
 "nbformat_minor": 5
}
