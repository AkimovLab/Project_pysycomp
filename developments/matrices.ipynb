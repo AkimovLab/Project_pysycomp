{
 "cells": [
  {
   "cell_type": "code",
   "execution_count": 1,
   "metadata": {},
   "outputs": [],
   "source": [
    "from sympy import *  \n",
    "init_printing() \n",
    "import numpy as np"
   ]
  },
  {
   "cell_type": "code",
   "execution_count": 2,
   "metadata": {},
   "outputs": [
    {
     "data": {
      "text/latex": [
       "$$\\left[\\begin{matrix}1 & 2 & 3\\\\4 & 5 & 6\\\\7 & 8 & 9\\end{matrix}\\right]$$"
      ],
      "text/plain": [
       "⎡1  2  3⎤\n",
       "⎢       ⎥\n",
       "⎢4  5  6⎥\n",
       "⎢       ⎥\n",
       "⎣7  8  9⎦"
      ]
     },
     "execution_count": 2,
     "metadata": {},
     "output_type": "execute_result"
    }
   ],
   "source": [
    "A = Matrix([[1, 2, 3], \n",
    "            [4, 5, 6], \n",
    "            [7,8,9]])\n",
    "\n",
    "A"
   ]
  },
  {
   "cell_type": "code",
   "execution_count": 3,
   "metadata": {},
   "outputs": [
    {
     "data": {
      "text/latex": [
       "$$\\left[\\begin{matrix}1 & 4 & 7\\\\2 & 5 & 8\\\\3 & 6 & 9\\end{matrix}\\right]$$"
      ],
      "text/plain": [
       "⎡1  4  7⎤\n",
       "⎢       ⎥\n",
       "⎢2  5  8⎥\n",
       "⎢       ⎥\n",
       "⎣3  6  9⎦"
      ]
     },
     "execution_count": 3,
     "metadata": {},
     "output_type": "execute_result"
    }
   ],
   "source": [
    "# To find the transpose:\n",
    "\n",
    "A.T"
   ]
  },
  {
   "cell_type": "code",
   "execution_count": 4,
   "metadata": {},
   "outputs": [
    {
     "data": {
      "text/latex": [
       "$$\\left[\\begin{matrix}1 & 0\\\\0 & 1\\end{matrix}\\right]$$"
      ],
      "text/plain": [
       "⎡1  0⎤\n",
       "⎢    ⎥\n",
       "⎣0  1⎦"
      ]
     },
     "metadata": {},
     "output_type": "display_data"
    },
    {
     "data": {
      "text/latex": [
       "$$\\left[\\begin{matrix}1 & 0 & 0 & 0\\\\0 & 1 & 0 & 0\\\\0 & 0 & 1 & 0\\\\0 & 0 & 0 & 1\\end{matrix}\\right]$$"
      ],
      "text/plain": [
       "⎡1  0  0  0⎤\n",
       "⎢          ⎥\n",
       "⎢0  1  0  0⎥\n",
       "⎢          ⎥\n",
       "⎢0  0  1  0⎥\n",
       "⎢          ⎥\n",
       "⎣0  0  0  1⎦"
      ]
     },
     "metadata": {},
     "output_type": "display_data"
    }
   ],
   "source": [
    "# To construct an identity matrix:\n",
    "\n",
    "display(eye(2))\n",
    "\n",
    "display(eye(4))"
   ]
  },
  {
   "cell_type": "code",
   "execution_count": 5,
   "metadata": {},
   "outputs": [
    {
     "data": {
      "image/png": "[encoded data removed]",
      "text/latex": [
       "$$0$$"
      ],
      "text/plain": [
       "0"
      ]
     },
     "execution_count": 5,
     "metadata": {},
     "output_type": "execute_result"
    }
   ],
   "source": [
    "# To take the determinant:\n",
    "\n",
    "A.det()"
   ]
  },
  {
   "cell_type": "code",
   "execution_count": 6,
   "metadata": {},
   "outputs": [
    {
     "data": {
      "text/latex": [
       "$$\\left[\\begin{matrix}x & 1 & 0 & 0 & 1\\\\1 & x & 1 & 0 & 0\\\\0 & 1 & x & 1 & 0\\\\0 & 0 & 1 & x & 1\\\\1 & 0 & 0 & 1 & x\\end{matrix}\\right]$$"
      ],
      "text/plain": [
       "⎡x  1  0  0  1⎤\n",
       "⎢             ⎥\n",
       "⎢1  x  1  0  0⎥\n",
       "⎢             ⎥\n",
       "⎢0  1  x  1  0⎥\n",
       "⎢             ⎥\n",
       "⎢0  0  1  x  1⎥\n",
       "⎢             ⎥\n",
       "⎣1  0  0  1  x⎦"
      ]
     },
     "execution_count": 6,
     "metadata": {},
     "output_type": "execute_result"
    }
   ],
   "source": [
    "x, alpha, beta = symbols(\"x alpha beta\")\n",
    "\n",
    "A = Matrix([[x, 1, 0, 0, 1],\n",
    "       [1, x, 1, 0, 0],\n",
    "       [0, 1, x, 1, 0],\n",
    "       [0, 0, 1, x, 1],\n",
    "       [1, 0, 0, 1, x]]\n",
    "      )\n",
    "\n",
    "A"
   ]
  },
  {
   "cell_type": "code",
   "execution_count": 7,
   "metadata": {},
   "outputs": [
    {
     "data": {
      "image/png": "[encoded data removed]",
      "text/latex": [
       "$$x^{5} - 5 x^{3} + 5 x + 2$$"
      ],
      "text/plain": [
       " 5      3          \n",
       "x  - 5⋅x  + 5⋅x + 2"
      ]
     },
     "execution_count": 7,
     "metadata": {},
     "output_type": "execute_result"
    }
   ],
   "source": [
    "A.det()"
   ]
  },
  {
   "cell_type": "markdown",
   "metadata": {},
   "source": [
    "# --------------------------------------------------------------------------------"
   ]
  },
  {
   "cell_type": "code",
   "execution_count": 8,
   "metadata": {},
   "outputs": [],
   "source": [
    "s = Function('s')\n",
    "d = Function('d')\n",
    "phi = Function('phi')\n",
    "i, j, a, b, a1, b1 = symbols(\"i, j, a, b, a1, b1\")"
   ]
  },
  {
   "cell_type": "code",
   "execution_count": 13,
   "metadata": {},
   "outputs": [
    {
     "data": {
      "image/png": "[encoded data removed]",
      "text/latex": [
       "$$\\left\\langle \\phi{\\left (i,j \\right )} \\right. {\\left|\\phi{\\left (a,b \\right )} - \\phi{\\left (a_{1},b_{1} \\right )}\\right\\rangle }$$"
      ],
      "text/plain": [
       "⟨φ(i, j)❘φ(a, b) - φ(a₁, b₁)⟩"
      ]
     },
     "execution_count": 13,
     "metadata": {},
     "output_type": "execute_result"
    }
   ],
   "source": [
    "from sympy.physics.quantum import Bra, Ket, TensorProduct\n",
    "\n",
    "Bra(phi(i, j))*Ket(phi(a, b) - phi(a1, b1)) \n"
   ]
  },
  {
   "cell_type": "code",
   "execution_count": 24,
   "metadata": {},
   "outputs": [
    {
     "data": {
      "image/png": "[encoded data removed]",
      "text/latex": [
       "$$\\left\\langle \\phi{\\left (i,j \\right )} \\right. {\\left|\\phi{\\left (a,b \\right )}\\right\\rangle } + \\left\\langle \\phi{\\left (i,j \\right )} \\right. {\\left|- \\phi{\\left (a_{1},b_{1} \\right )}\\right\\rangle }$$"
      ],
      "text/plain": [
       "⟨φ(i, j)❘φ(a, b)⟩ + ⟨φ(i, j)❘-φ(a₁, b₁)⟩"
      ]
     },
     "metadata": {},
     "output_type": "display_data"
    },
    {
     "data": {
      "text/latex": [
       "$$\\left[\\begin{matrix}\\phi{\\left (b \\right )} \\phi{\\left (i \\right )} & \\phi{\\left (a_{1} \\right )} \\phi{\\left (i \\right )} & \\phi{\\left (b_{1} \\right )} \\phi{\\left (i \\right )}\\\\\\phi{\\left (b \\right )} \\phi{\\left (j \\right )} & \\phi{\\left (a_{1} \\right )} \\phi{\\left (j \\right )} & \\phi{\\left (b_{1} \\right )} \\phi{\\left (j \\right )}\\\\\\phi{\\left (a \\right )} \\phi{\\left (b \\right )} & \\phi{\\left (a \\right )} \\phi{\\left (a_{1} \\right )} & \\phi{\\left (a \\right )} \\phi{\\left (b_{1} \\right )}\\end{matrix}\\right]$$"
      ],
      "text/plain": [
       "⎡φ(b)⋅φ(i)  φ(a₁)⋅φ(i)  φ(b₁)⋅φ(i)⎤\n",
       "⎢                                 ⎥\n",
       "⎢φ(b)⋅φ(j)  φ(a₁)⋅φ(j)  φ(b₁)⋅φ(j)⎥\n",
       "⎢                                 ⎥\n",
       "⎣φ(a)⋅φ(b)  φ(a)⋅φ(a₁)  φ(a)⋅φ(b₁)⎦"
      ]
     },
     "execution_count": 24,
     "metadata": {},
     "output_type": "execute_result"
    }
   ],
   "source": [
    "def dirac_expand_1(bra, bra1, ket, ket1):\n",
    "    if bra1 == 1:\n",
    "        return Bra(bra)*Ket(ket) + Bra(bra)*Ket(ket1)\n",
    "    else:\n",
    "        return Bra(bra)*Ket(ket) + Bra(bra1)*Ket(ket) + Bra(bra)*Ket(ket1) + Bra(bra1)*Ket(ket1)\n",
    "\n",
    "\n",
    "display(dirac_expand_1(phi(i, j), 1, phi(a, b), -phi(a1, b1)))\n",
    "\n",
    "\n",
    "def dirac_to_matrix(var1, var2, var3, var4, var5 = None, var6 = None):\n",
    "    if var5 == None and var6 == None:\n",
    "        return Matrix([\n",
    "            [(var1)*(var3), (var1)*(var4)],\n",
    "            [(var2)*(var3), (var2)*(var4)]\n",
    "                                        ])\n",
    "    else:\n",
    "        return Matrix([\n",
    "            [var1*var4, var1*var5, var1*var6],\n",
    "            [var2*var4, var2*var5, var2*var6],\n",
    "            [var3*var4, var3*var5, var3*var6]\n",
    "                                            ])\n",
    "\n",
    "\n",
    "dirac_to_matrix(phi(i), phi(j), phi(a), phi(b), phi(a1), phi(b1))"
   ]
  },
  {
   "cell_type": "code",
   "execution_count": 32,
   "metadata": {},
   "outputs": [
    {
     "data": {
      "text/latex": [
       "$$\\left[\\begin{matrix}\\phi{\\left (a \\right )} \\phi{\\left (i \\right )} & \\phi{\\left (b \\right )} \\phi{\\left (i \\right )}\\\\\\phi{\\left (a \\right )} \\phi{\\left (j \\right )} & \\phi{\\left (b \\right )} \\phi{\\left (j \\right )}\\end{matrix}\\right]$$"
      ],
      "text/plain": [
       "⎡φ(a)⋅φ(i)  φ(b)⋅φ(i)⎤\n",
       "⎢                    ⎥\n",
       "⎣φ(a)⋅φ(j)  φ(b)⋅φ(j)⎦"
      ]
     },
     "metadata": {},
     "output_type": "display_data"
    },
    {
     "data": {
      "text/latex": [
       "$$\\left[\\begin{matrix}\\phi{\\left (a_{1} \\right )} \\phi{\\left (i \\right )} & \\phi{\\left (b_{1} \\right )} \\phi{\\left (i \\right )}\\\\\\phi{\\left (a_{1} \\right )} \\phi{\\left (j \\right )} & \\phi{\\left (b_{1} \\right )} \\phi{\\left (j \\right )}\\end{matrix}\\right]$$"
      ],
      "text/plain": [
       "⎡φ(a₁)⋅φ(i)  φ(b₁)⋅φ(i)⎤\n",
       "⎢                      ⎥\n",
       "⎣φ(a₁)⋅φ(j)  φ(b₁)⋅φ(j)⎦"
      ]
     },
     "metadata": {},
     "output_type": "display_data"
    }
   ],
   "source": [
    "A1 = Matrix([\n",
    "    [phi(i)*phi(a), phi(i)*phi(b)],\n",
    "    [phi(j)*phi(a), phi(j)*phi(b)]\n",
    "])\n",
    "\n",
    "A2 = Matrix([\n",
    "    [phi(i)*phi(a1), phi(i)*phi(b1)],\n",
    "    [phi(j)*phi(a1), phi(j)*phi(b1)]\n",
    "])\n",
    "\n",
    "display(A1, A2)"
   ]
  },
  {
   "cell_type": "code",
   "execution_count": 33,
   "metadata": {
    "scrolled": false
   },
   "outputs": [
    {
     "data": {
      "text/latex": [
       "$$\\left[\\begin{matrix}d{\\left (a \\right )} & s{\\left (b \\right )} & s{\\left (c \\right )} & s{\\left (e \\right )}\\\\d{\\left (a \\right )} & s{\\left (b \\right )} & s{\\left (c \\right )} & s{\\left (e \\right )}\\\\d{\\left (i \\right )} & s{\\left (j \\right )} & s{\\left (k \\right )} & s{\\left (l \\right )}\\\\d{\\left (a \\right )} & s{\\left (l \\right )} & s{\\left (k \\right )} & s{\\left (e \\right )}\\end{matrix}\\right]$$"
      ],
      "text/plain": [
       "⎡d(a)  s(b)  s(c)  s(e)⎤\n",
       "⎢                      ⎥\n",
       "⎢d(a)  s(b)  s(c)  s(e)⎥\n",
       "⎢                      ⎥\n",
       "⎢d(i)  s(j)  s(k)  s(l)⎥\n",
       "⎢                      ⎥\n",
       "⎣d(a)  s(l)  s(k)  s(e)⎦"
      ]
     },
     "metadata": {},
     "output_type": "display_data"
    },
    {
     "data": {
      "text/latex": [
       "$$\\left[\\begin{matrix}s{\\left (a \\right )} & d{\\left (b \\right )} & s{\\left (c \\right )} & s{\\left (e \\right )}\\\\s{\\left (a \\right )} & d{\\left (b \\right )} & s{\\left (c \\right )} & s{\\left (e \\right )}\\\\s{\\left (i \\right )} & d{\\left (j \\right )} & s{\\left (k \\right )} & s{\\left (l \\right )}\\\\s{\\left (a \\right )} & d{\\left (l \\right )} & s{\\left (k \\right )} & s{\\left (e \\right )}\\end{matrix}\\right]$$"
      ],
      "text/plain": [
       "⎡s(a)  d(b)  s(c)  s(e)⎤\n",
       "⎢                      ⎥\n",
       "⎢s(a)  d(b)  s(c)  s(e)⎥\n",
       "⎢                      ⎥\n",
       "⎢s(i)  d(j)  s(k)  s(l)⎥\n",
       "⎢                      ⎥\n",
       "⎣s(a)  d(l)  s(k)  s(e)⎦"
      ]
     },
     "metadata": {},
     "output_type": "display_data"
    },
    {
     "data": {
      "text/latex": [
       "$$\\left[\\begin{matrix}s{\\left (a \\right )} & s{\\left (b \\right )} & d{\\left (c \\right )} & s{\\left (e \\right )}\\\\s{\\left (a \\right )} & s{\\left (b \\right )} & d{\\left (c \\right )} & s{\\left (e \\right )}\\\\s{\\left (i \\right )} & s{\\left (j \\right )} & d{\\left (k \\right )} & s{\\left (l \\right )}\\\\s{\\left (a \\right )} & s{\\left (l \\right )} & d{\\left (k \\right )} & s{\\left (e \\right )}\\end{matrix}\\right]$$"
      ],
      "text/plain": [
       "⎡s(a)  s(b)  d(c)  s(e)⎤\n",
       "⎢                      ⎥\n",
       "⎢s(a)  s(b)  d(c)  s(e)⎥\n",
       "⎢                      ⎥\n",
       "⎢s(i)  s(j)  d(k)  s(l)⎥\n",
       "⎢                      ⎥\n",
       "⎣s(a)  s(l)  d(k)  s(e)⎦"
      ]
     },
     "metadata": {},
     "output_type": "display_data"
    },
    {
     "data": {
      "text/latex": [
       "$$\\left[\\begin{matrix}s{\\left (a \\right )} & s{\\left (b \\right )} & s{\\left (c \\right )} & d{\\left (e \\right )}\\\\s{\\left (a \\right )} & s{\\left (b \\right )} & s{\\left (c \\right )} & d{\\left (e \\right )}\\\\s{\\left (i \\right )} & s{\\left (j \\right )} & s{\\left (k \\right )} & d{\\left (l \\right )}\\\\s{\\left (a \\right )} & s{\\left (l \\right )} & s{\\left (k \\right )} & d{\\left (e \\right )}\\end{matrix}\\right]$$"
      ],
      "text/plain": [
       "⎡s(a)  s(b)  s(c)  d(e)⎤\n",
       "⎢                      ⎥\n",
       "⎢s(a)  s(b)  s(c)  d(e)⎥\n",
       "⎢                      ⎥\n",
       "⎢s(i)  s(j)  s(k)  d(l)⎥\n",
       "⎢                      ⎥\n",
       "⎣s(a)  s(l)  s(k)  d(e)⎦"
      ]
     },
     "metadata": {},
     "output_type": "display_data"
    },
    {
     "data": {
      "text/plain": [
       "(None, None, None, None)"
      ]
     },
     "execution_count": 33,
     "metadata": {},
     "output_type": "execute_result"
    }
   ],
   "source": [
    "n = Symbol(\"n\")\n",
    "\n",
    "    \n",
    "def Matrix_transform_1(matrix, dim):\n",
    "    if dim == 2:\n",
    "        Matrix_1 = matrix.col(0).replace(phi, d)\n",
    "        Matrix_2 = matrix.col(1).replace(phi, s)\n",
    "        \n",
    "        return Matrix([[Matrix_1, Matrix_2]])\n",
    "    \n",
    "    if dim == 3:\n",
    "        Matrix_1 = matrix.col(0).replace(phi, d)\n",
    "        Matrix_2 = matrix.col(1).replace(phi, s)\n",
    "        Matrix_3 = matrix.col(2).replace(phi, s)\n",
    "        return Matrix([[Matrix_1, Matrix_2, Matrix_3]])\n",
    "    \n",
    "    else:\n",
    "        Matrix_1 = matrix.col(0).replace(phi, d)\n",
    "        Matrix_2 = matrix.col(1).replace(phi, s)\n",
    "        Matrix_3 = matrix.col(2).replace(phi, s)\n",
    "        Matrix_4 = matrix.col(3).replace(phi, s)\n",
    "        return Matrix([[Matrix_1, Matrix_2, Matrix_3, Matrix_4]])\n",
    "\n",
    "def Matrix_transform_2(matrix, dim):\n",
    "    if dim == 2:\n",
    "        Matrix_1 = matrix.col(0).replace(phi, s)\n",
    "        Matrix_2 = matrix.col(1).replace(phi, d)\n",
    "        \n",
    "        return Matrix([[Matrix_1, Matrix_2]])\n",
    "    \n",
    "    if dim == 3:\n",
    "        Matrix_1 = matrix.col(0).replace(phi, s)\n",
    "        Matrix_2 = matrix.col(1).replace(phi, d)\n",
    "        Matrix_3 = matrix.col(2).replace(phi, s)\n",
    "        return Matrix([[Matrix_1, Matrix_2, Matrix_3]])\n",
    "    \n",
    "    else:\n",
    "        Matrix_1 = matrix.col(0).replace(phi, s)\n",
    "        Matrix_2 = matrix.col(1).replace(phi, d)\n",
    "        Matrix_3 = matrix.col(2).replace(phi, s)\n",
    "        Matrix_4 = matrix.col(3).replace(phi, s)\n",
    "        return Matrix([[Matrix_1, Matrix_2, Matrix_3, Matrix_4]])\n",
    "\n",
    "\n",
    "def Matrix_transform_3(matrix, dim):\n",
    "    \n",
    "    \n",
    "    if dim == 2:\n",
    "        return 0\n",
    "    \n",
    "    if dim == 3:\n",
    "        Matrix_1 = matrix.col(0).replace(phi, s)\n",
    "        Matrix_2 = matrix.col(1).replace(phi, s)\n",
    "        Matrix_3 = matrix.col(2).replace(phi, d)\n",
    "        return Matrix([[Matrix_1, Matrix_2, Matrix_3]])\n",
    "    \n",
    "    else:\n",
    "        Matrix_1 = matrix.col(0).replace(phi, s)\n",
    "        Matrix_2 = matrix.col(1).replace(phi, s)\n",
    "        Matrix_3 = matrix.col(2).replace(phi, d)\n",
    "        Matrix_4 = matrix.col(3).replace(phi, s)\n",
    "        return Matrix([[Matrix_1, Matrix_2, Matrix_3, Matrix_4]])\n",
    "\n",
    "def Matrix_transform_4(matrix, dim):\n",
    "    \n",
    "    if dim == 2 or dim == 3:\n",
    "        return 0\n",
    "    \n",
    "    else:\n",
    "        Matrix_1 = matrix.col(0).replace(phi, s)\n",
    "        Matrix_2 = matrix.col(1).replace(phi, s)\n",
    "        Matrix_3 = matrix.col(2).replace(phi, s)\n",
    "        Matrix_4 = matrix.col(3).replace(phi, d)\n",
    "        return Matrix([[Matrix_1, Matrix_2, Matrix_3, Matrix_4]])\n",
    "\n",
    "\n",
    "def matrix_transform(matrix, dim):\n",
    "    if dim == 2:\n",
    "        return TensorProduct(Matrix_transform_1(matrix, dim) + Matrix_transform_2(matrix, dim), eye(dim))\n",
    "    if dim == 3:\n",
    "        return display(TensorProduct(Matrix_transform_1(matrix, dim))) , display(TensorProduct(Matrix_transform_2(matrix, dim))) , display(TensorProduct(Matrix_transform_3(matrix, dim), eye(dim)))\n",
    "    if dim == 4:\n",
    "        return display(TensorProduct(Matrix_transform_1(matrix, dim), eye(dim))) , display(TensorProduct(Matrix_transform_2(matrix, dim), eye(dim))) , display(TensorProduct(Matrix_transform_3(matrix, dim), eye(dim))) , display(TensorProduct(Matrix_transform_4(matrix, dim), eye(dim)))\n",
    "\n",
    "\n",
    "# R = simplify(Matrix_transform_1(B) + Matrix_transform_2(B))\n",
    "\n",
    "a, b, c, e, i, j, k, l = symbols(\"a, b, c, e, i, j, k, l\")\n",
    "psi = Function('psi')\n",
    "\n",
    "M = Matrix([[phi(a), phi(b), phi(c), phi(e)],\n",
    "       [phi(a), phi(b), phi(c), phi(e)],\n",
    "       [phi(i), phi(j), phi(k), phi(l)],\n",
    "           [phi(a), phi(l), phi(k), phi(e)]\n",
    "           ])\n",
    "\n",
    "matrix_transform(M, 4)"
   ]
  },
  {
   "cell_type": "code",
   "execution_count": 37,
   "metadata": {},
   "outputs": [
    {
     "data": {
      "text/latex": [
       "$$\\left[\\begin{matrix}d{\\left (a \\right )} d{\\left (i \\right )} + s{\\left (a \\right )} s{\\left (i \\right )} & d{\\left (b \\right )} d{\\left (i \\right )} + s{\\left (b \\right )} s{\\left (i \\right )}\\\\d{\\left (a \\right )} d{\\left (j \\right )} + s{\\left (a \\right )} s{\\left (j \\right )} & d{\\left (b \\right )} d{\\left (j \\right )} + s{\\left (b \\right )} s{\\left (j \\right )}\\end{matrix}\\right]$$"
      ],
      "text/plain": [
       "⎡d(a)⋅d(i) + s(a)⋅s(i)  d(b)⋅d(i) + s(b)⋅s(i)⎤\n",
       "⎢                                            ⎥\n",
       "⎣d(a)⋅d(j) + s(a)⋅s(j)  d(b)⋅d(j) + s(b)⋅s(j)⎦"
      ]
     },
     "metadata": {},
     "output_type": "display_data"
    },
    {
     "data": {
      "text/latex": [
       "$$\\left[\\begin{matrix}d{\\left (a_{1} \\right )} d{\\left (i \\right )} + s{\\left (a_{1} \\right )} s{\\left (i \\right )} & d{\\left (b_{1} \\right )} d{\\left (i \\right )} + s{\\left (b_{1} \\right )} s{\\left (i \\right )}\\\\d{\\left (a_{1} \\right )} d{\\left (j \\right )} + s{\\left (a_{1} \\right )} s{\\left (j \\right )} & d{\\left (b_{1} \\right )} d{\\left (j \\right )} + s{\\left (b_{1} \\right )} s{\\left (j \\right )}\\end{matrix}\\right]$$"
      ],
      "text/plain": [
       "⎡d(a₁)⋅d(i) + s(a₁)⋅s(i)  d(b₁)⋅d(i) + s(b₁)⋅s(i)⎤\n",
       "⎢                                                ⎥\n",
       "⎣d(a₁)⋅d(j) + s(a₁)⋅s(j)  d(b₁)⋅d(j) + s(b₁)⋅s(j)⎦"
      ]
     },
     "metadata": {},
     "output_type": "display_data"
    },
    {
     "data": {
      "image/png": "[encoded data removed]",
      "text/latex": [
       "$$d{\\left (a \\right )} d{\\left (i \\right )} s{\\left (b \\right )} s{\\left (j \\right )} - d{\\left (a \\right )} d{\\left (j \\right )} s{\\left (b \\right )} s{\\left (i \\right )} + d{\\left (a_{1} \\right )} d{\\left (i \\right )} s{\\left (b_{1} \\right )} s{\\left (j \\right )} - d{\\left (a_{1} \\right )} d{\\left (j \\right )} s{\\left (b_{1} \\right )} s{\\left (i \\right )} - d{\\left (b \\right )} d{\\left (i \\right )} s{\\left (a \\right )} s{\\left (j \\right )} + d{\\left (b \\right )} d{\\left (j \\right )} s{\\left (a \\right )} s{\\left (i \\right )} - d{\\left (b_{1} \\right )} d{\\left (i \\right )} s{\\left (a_{1} \\right )} s{\\left (j \\right )} + d{\\left (b_{1} \\right )} d{\\left (j \\right )} s{\\left (a_{1} \\right )} s{\\left (i \\right )}$$"
      ],
      "text/plain": [
       "d(a)⋅d(i)⋅s(b)⋅s(j) - d(a)⋅d(j)⋅s(b)⋅s(i) + d(a₁)⋅d(i)⋅s(b₁)⋅s(j) - d(a₁)⋅d(j)\n",
       "⋅s(b₁)⋅s(i) - d(b)⋅d(i)⋅s(a)⋅s(j) + d(b)⋅d(j)⋅s(a)⋅s(i) - d(b₁)⋅d(i)⋅s(a₁)⋅s(j\n",
       ") + d(b₁)⋅d(j)⋅s(a₁)⋅s(i)"
      ]
     },
     "execution_count": 37,
     "metadata": {},
     "output_type": "execute_result"
    }
   ],
   "source": [
    "SUCCESS = Matrix_transform(A1, 2)\n",
    "maybe = Matrix_transform(A2, 2)\n",
    "\n",
    "display(factor(SUCCESS), factor(maybe))\n",
    "\n",
    "expand(det(factor(simplify(SUCCESS))) + det(factor(simplify(maybe))))\n",
    "\n",
    "\n",
    "def determinant(matrix):\n",
    "    return expand(det(factor(simplify(matrix))))\n",
    "\n",
    "q = determinant(SUCCESS) + determinant(maybe)\n",
    "\n",
    "q"
   ]
  },
  {
   "cell_type": "markdown",
   "metadata": {},
   "source": [
    "Note: need to break it into two matrices to compute properly."
   ]
  },
  {
   "cell_type": "code",
   "execution_count": 38,
   "metadata": {
    "scrolled": false
   },
   "outputs": [
    {
     "data": {
      "image/png": "[encoded data removed]",
      "text/latex": [
       "$$\\frac{\\sqrt{2} \\left(- d^{2}{\\left (\\alpha \\right )} s{\\left (\\beta \\right )} s{\\left (2 \\beta \\right )} + d{\\left (\\alpha \\right )} d{\\left (2 \\alpha \\right )} s^{2}{\\left (\\beta \\right )} + d{\\left (\\alpha \\right )} d{\\left (\\beta \\right )} s{\\left (\\alpha \\right )} s{\\left (2 \\beta \\right )} - d{\\left (\\alpha \\right )} d{\\left (\\beta \\right )} s{\\left (2 \\alpha \\right )} s{\\left (\\beta \\right )} + d{\\left (\\alpha \\right )} d{\\left (2 \\beta \\right )} s{\\left (\\alpha \\right )} s{\\left (\\beta \\right )} - d{\\left (2 \\alpha \\right )} d{\\left (\\beta \\right )} s{\\left (\\alpha \\right )} s{\\left (\\beta \\right )} + d^{2}{\\left (\\beta \\right )} s{\\left (\\alpha \\right )} s{\\left (2 \\alpha \\right )} - d{\\left (\\beta \\right )} d{\\left (2 \\beta \\right )} s^{2}{\\left (\\alpha \\right )}\\right)}{2}$$"
      ],
      "text/plain": [
       "   ⎛   2                               2                                      \n",
       "√2⋅⎝- d (α)⋅s(β)⋅s(2⋅β) + d(α)⋅d(2⋅α)⋅s (β) + d(α)⋅d(β)⋅s(α)⋅s(2⋅β) - d(α)⋅d(β\n",
       "──────────────────────────────────────────────────────────────────────────────\n",
       "                                                                              \n",
       "\n",
       "                                                                 2            \n",
       ")⋅s(2⋅α)⋅s(β) + d(α)⋅d(2⋅β)⋅s(α)⋅s(β) - d(2⋅α)⋅d(β)⋅s(α)⋅s(β) + d (β)⋅s(α)⋅s(2\n",
       "──────────────────────────────────────────────────────────────────────────────\n",
       "           2                                                                  \n",
       "\n",
       "                   2   ⎞\n",
       "⋅α) - d(β)⋅d(2⋅β)⋅s (α)⎠\n",
       "────────────────────────\n",
       "                        "
      ]
     },
     "execution_count": 38,
     "metadata": {},
     "output_type": "execute_result"
    }
   ],
   "source": [
    "qr = q.replace(i, alpha).replace(j, beta).replace(a, 2*alpha).replace(b, beta).replace(a1, 2*beta).replace(b1, alpha)\n",
    "\n",
    "simplify((1/sqrt(2))*qr)"
   ]
  },
  {
   "cell_type": "code",
   "execution_count": 44,
   "metadata": {},
   "outputs": [
    {
     "ename": "UnboundLocalError",
     "evalue": "local variable 'var' referenced before assignment",
     "output_type": "error",
     "traceback": [
      "\u001b[1;31m---------------------------------------------------------------------------\u001b[0m",
      "\u001b[1;31mUnboundLocalError\u001b[0m                         Traceback (most recent call last)",
      "\u001b[1;32m<ipython-input-44-264e73013eed>\u001b[0m in \u001b[0;36m<module>\u001b[1;34m\u001b[0m\n\u001b[0;32m     16\u001b[0m     \u001b[1;32mreturn\u001b[0m \u001b[0mres\u001b[0m\u001b[1;33m\u001b[0m\u001b[1;33m\u001b[0m\u001b[0m\n\u001b[0;32m     17\u001b[0m \u001b[1;33m\u001b[0m\u001b[0m\n\u001b[1;32m---> 18\u001b[1;33m \u001b[0mcoupling_simplify\u001b[0m\u001b[1;33m(\u001b[0m\u001b[0mqr\u001b[0m\u001b[1;33m)\u001b[0m\u001b[1;33m\u001b[0m\u001b[1;33m\u001b[0m\u001b[0m\n\u001b[0m",
      "\u001b[1;32m<ipython-input-44-264e73013eed>\u001b[0m in \u001b[0;36mcoupling_simplify\u001b[1;34m(matrix)\u001b[0m\n\u001b[0;32m      6\u001b[0m \u001b[1;32mdef\u001b[0m \u001b[0mcoupling_simplify\u001b[0m\u001b[1;33m(\u001b[0m\u001b[0mmatrix\u001b[0m\u001b[1;33m)\u001b[0m\u001b[1;33m:\u001b[0m\u001b[1;33m\u001b[0m\u001b[1;33m\u001b[0m\u001b[0m\n\u001b[0;32m      7\u001b[0m     \u001b[0mnreps\u001b[0m \u001b[1;33m=\u001b[0m \u001b[1;36m2\u001b[0m\u001b[1;33m\u001b[0m\u001b[1;33m\u001b[0m\u001b[0m\n\u001b[1;32m----> 8\u001b[1;33m     \u001b[0mvar\u001b[0m \u001b[1;33m=\u001b[0m \u001b[0mfloat\u001b[0m\u001b[1;33m(\u001b[0m\u001b[0mvar\u001b[0m\u001b[1;33m)\u001b[0m\u001b[1;33m\u001b[0m\u001b[1;33m\u001b[0m\u001b[0m\n\u001b[0m\u001b[0;32m      9\u001b[0m     \u001b[0mvar1\u001b[0m \u001b[1;33m=\u001b[0m \u001b[0mfloat\u001b[0m\u001b[1;33m(\u001b[0m\u001b[0mvar1\u001b[0m\u001b[1;33m)\u001b[0m\u001b[1;33m\u001b[0m\u001b[1;33m\u001b[0m\u001b[0m\n\u001b[0;32m     10\u001b[0m     \u001b[0minitial\u001b[0m \u001b[1;33m=\u001b[0m \u001b[1;33m[\u001b[0m \u001b[0md\u001b[0m\u001b[1;33m(\u001b[0m\u001b[0mvar\u001b[0m\u001b[1;33m)\u001b[0m\u001b[1;33m*\u001b[0m\u001b[0md\u001b[0m\u001b[1;33m(\u001b[0m\u001b[0mvar\u001b[0m\u001b[1;33m)\u001b[0m\u001b[1;33m,\u001b[0m \u001b[0ms\u001b[0m\u001b[1;33m(\u001b[0m\u001b[0mvar1\u001b[0m\u001b[1;33m)\u001b[0m\u001b[1;33m*\u001b[0m\u001b[0ms\u001b[0m\u001b[1;33m(\u001b[0m\u001b[0mvar1\u001b[0m\u001b[1;33m)\u001b[0m\u001b[1;33m]\u001b[0m\u001b[1;33m\u001b[0m\u001b[1;33m\u001b[0m\u001b[0m\n",
      "\u001b[1;31mUnboundLocalError\u001b[0m: local variable 'var' referenced before assignment"
     ]
    }
   ],
   "source": [
    "S = (SUCCESS.replace(i, alpha).replace(j, beta).replace(a, 2*alpha).replace(b, beta).replace(a1, 2*beta).replace(b1, alpha))\n",
    "m = (maybe.replace(i, alpha).replace(j, beta).replace(a, 2*alpha).replace(b, beta).replace(a1, 2*beta).replace(b1, alpha))\n",
    "\n",
    "expand(det(S) + det(m))\n",
    "\n",
    "def coupling_simplify(matrix):\n",
    "    nreps = 2\n",
    "    \n",
    "    var = float(var)\n",
    "    var1 = float(var1)\n",
    "    initial = [ d(var)*d(var), s(var1)*s(var1)]\n",
    "    final = [0, 1]\n",
    "\n",
    "    for i in range(nreps):\n",
    "        res = matrix.replace(initial[i], final[i])\n",
    "        \n",
    "    return res\n",
    "\n",
    "coupling_simplify(qr)"
   ]
  },
  {
   "cell_type": "markdown",
   "metadata": {},
   "source": [
    "Trying three electron systems..."
   ]
  },
  {
   "cell_type": "code",
   "execution_count": null,
   "metadata": {},
   "outputs": [],
   "source": [
    "M = Matrix([\n",
    "    [phi(alpha)*phi(alpha), phi(alpha)*phi(beta), phi(alpha)*phi(3*alpha)],\n",
    "    [phi(2*beta)*phi(alpha), phi(2*beta)*phi(beta), phi(2*beta)*phi(3*alpha)],\n",
    "    [phi(3*alpha)*phi(alpha), phi(3*alpha)*phi(beta), phi(3*alpha)*phi(3*alpha)]\n",
    "])\n",
    "\n",
    "display(M)\n",
    "\n",
    "N1 = Matrix_transform_1(M, 3).replace(s(alpha)*s(beta), 0).replace(s(3*alpha)*s(beta), 0).replace(d(alpha)*d(2*beta), 0).replace(s(3*alpha)*s(2*beta), 0)# , \\\n",
    "N2 = Matrix_transform_2(M, 3).replace(s(alpha)*s(2*beta), 0).replace(d(alpha)*d(beta), 0).replace(s(3*alpha)*s(2*beta), 0).replace(d(3*alpha)*d(beta), 0) #, \\\n",
    "N3 = Matrix_transform_3(M, 3).replace(s(alpha)*s(2*beta), 0).replace(s(alpha)*s(beta), 0).replace(s(3*alpha)*s(beta), 0).replace(d(3*alpha)*d(2*beta), 0)\n",
    "\n",
    "\n",
    "RF = TensorProduct(N1, eye(3)) + TensorProduct(N2, eye(3)) + TensorProduct(N3, eye(3))\n",
    "\n",
    "expand(det(RF))"
   ]
  },
  {
   "cell_type": "code",
   "execution_count": null,
   "metadata": {},
   "outputs": [],
   "source": [
    "omega = Symbol(\"Omega\")\n",
    "\n",
    "M = Matrix([\n",
    "    [phi(a)*phi(a), phi(a)*phi(b), phi(a)*phi(omega)],\n",
    "    [phi(2*b)*phi(a), phi(2*b)*phi(b), phi(2*b)*phi(omega)],\n",
    "    [phi(omega)*phi(a), phi(omega)*phi(b), phi(omega)*phi(omega)]\n",
    "])\n",
    "\n",
    "M\n",
    "\n",
    "Q = Matrix_transform_1(M, 3)\n",
    "X = Matrix_transform_2(M, 3)\n",
    "Y = Matrix_transform_3(M, 3)"
   ]
  },
  {
   "cell_type": "code",
   "execution_count": null,
   "metadata": {},
   "outputs": [],
   "source": [
    "RF = ((TensorProduct(Q, eye(3)) + TensorProduct(X, eye(3)) + TensorProduct(Y, eye(3))))\n",
    "\n",
    "RF"
   ]
  },
  {
   "cell_type": "code",
   "execution_count": null,
   "metadata": {},
   "outputs": [],
   "source": [
    "M = Matrix([\n",
    "    [phi(a)*phi(i), phi(a)*phi(j), phi(a)*phi(k)],\n",
    "    [phi(b)*phi(i), phi(b)*phi(j), phi(b)*phi(k)],\n",
    "    [phi(c)*phi(i), phi(c)*phi(j), phi(c)*phi(k)]\n",
    "])\n",
    "\n",
    "display(M)\n",
    "\n",
    "a, b, c, i, j, k = symbols(\"a, b, c, i, j, k\")"
   ]
  },
  {
   "cell_type": "code",
   "execution_count": null,
   "metadata": {},
   "outputs": [],
   "source": [
    "Matrix_transform(M, 3)"
   ]
  },
  {
   "cell_type": "markdown",
   "metadata": {},
   "source": [
    "Change definition of matrix transform. Have to do each separately. (?) What if you don't have actual values for the electrons?"
   ]
  },
  {
   "cell_type": "code",
   "execution_count": null,
   "metadata": {
    "scrolled": false
   },
   "outputs": [],
   "source": [
    "det(Matrix_transform(M, 3))"
   ]
  },
  {
   "cell_type": "code",
   "execution_count": null,
   "metadata": {},
   "outputs": [],
   "source": []
  }
 ],
 "metadata": {
  "kernelspec": {
   "display_name": "Python 3",
   "language": "python",
   "name": "python3"
  },
  "language_info": {
   "codemirror_mode": {
    "name": "ipython",
    "version": 3
   },
   "file_extension": ".py",
   "mimetype": "text/x-python",
   "name": "python",
   "nbconvert_exporter": "python",
   "pygments_lexer": "ipython3",
   "version": "3.7.1"
  }
 },
 "nbformat": 4,
 "nbformat_minor": 2
}
