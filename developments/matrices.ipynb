{
 "cells": [
  {
   "cell_type": "code",
   "execution_count": 14,
   "metadata": {},
   "outputs": [],
   "source": [
    "from sympy import *  \n",
    "init_printing() \n",
    "import numpy as np"
   ]
  },
  {
   "cell_type": "code",
   "execution_count": 15,
   "metadata": {},
   "outputs": [
    {
     "data": {
      "text/latex": [
       "$$\\left[\\begin{matrix}1 & 2 & 3\\\\4 & 5 & 6\\\\7 & 8 & 9\\end{matrix}\\right]$$"
      ],
      "text/plain": [
       "⎡1  2  3⎤\n",
       "⎢       ⎥\n",
       "⎢4  5  6⎥\n",
       "⎢       ⎥\n",
       "⎣7  8  9⎦"
      ]
     },
     "execution_count": 15,
     "metadata": {},
     "output_type": "execute_result"
    }
   ],
   "source": [
    "A = Matrix([[1, 2, 3], \n",
    "            [4, 5, 6], \n",
    "            [7,8,9]])\n",
    "\n",
    "A"
   ]
  },
  {
   "cell_type": "code",
   "execution_count": 16,
   "metadata": {},
   "outputs": [
    {
     "data": {
      "text/latex": [
       "$$\\left[\\begin{matrix}1 & 4 & 7\\\\2 & 5 & 8\\\\3 & 6 & 9\\end{matrix}\\right]$$"
      ],
      "text/plain": [
       "⎡1  4  7⎤\n",
       "⎢       ⎥\n",
       "⎢2  5  8⎥\n",
       "⎢       ⎥\n",
       "⎣3  6  9⎦"
      ]
     },
     "execution_count": 16,
     "metadata": {},
     "output_type": "execute_result"
    }
   ],
   "source": [
    "# To find the transpose:\n",
    "\n",
    "A.T"
   ]
  },
  {
   "cell_type": "code",
   "execution_count": 17,
   "metadata": {},
   "outputs": [
    {
     "data": {
      "text/latex": [
       "$$\\left[\\begin{matrix}1 & 0\\\\0 & 1\\end{matrix}\\right]$$"
      ],
      "text/plain": [
       "⎡1  0⎤\n",
       "⎢    ⎥\n",
       "⎣0  1⎦"
      ]
     },
     "metadata": {},
     "output_type": "display_data"
    },
    {
     "data": {
      "text/latex": [
       "$$\\left[\\begin{matrix}1 & 0 & 0 & 0\\\\0 & 1 & 0 & 0\\\\0 & 0 & 1 & 0\\\\0 & 0 & 0 & 1\\end{matrix}\\right]$$"
      ],
      "text/plain": [
       "⎡1  0  0  0⎤\n",
       "⎢          ⎥\n",
       "⎢0  1  0  0⎥\n",
       "⎢          ⎥\n",
       "⎢0  0  1  0⎥\n",
       "⎢          ⎥\n",
       "⎣0  0  0  1⎦"
      ]
     },
     "metadata": {},
     "output_type": "display_data"
    }
   ],
   "source": [
    "# To construct an identity matrix:\n",
    "\n",
    "display(eye(2))\n",
    "\n",
    "display(eye(4))"
   ]
  },
  {
   "cell_type": "code",
   "execution_count": 18,
   "metadata": {},
   "outputs": [
    {
     "data": {
      "image/png": "[encoded data removed]",
      "text/latex": [
       "$$0$$"
      ],
      "text/plain": [
       "0"
      ]
     },
     "execution_count": 18,
     "metadata": {},
     "output_type": "execute_result"
    }
   ],
   "source": [
    "# To take the determinant:\n",
    "\n",
    "A.det()"
   ]
  },
  {
   "cell_type": "markdown",
   "metadata": {},
   "source": [
    "The following two cells might be useful for solving Huckel matrices related problems."
   ]
  },
  {
   "cell_type": "code",
   "execution_count": 19,
   "metadata": {},
   "outputs": [
    {
     "data": {
      "text/latex": [
       "$$\\left[\\begin{matrix}x & 1 & 0 & 0 & 1\\\\1 & x & 1 & 0 & 0\\\\0 & 1 & x & 1 & 0\\\\0 & 0 & 1 & x & 1\\\\1 & 0 & 0 & 1 & x\\end{matrix}\\right]$$"
      ],
      "text/plain": [
       "⎡x  1  0  0  1⎤\n",
       "⎢             ⎥\n",
       "⎢1  x  1  0  0⎥\n",
       "⎢             ⎥\n",
       "⎢0  1  x  1  0⎥\n",
       "⎢             ⎥\n",
       "⎢0  0  1  x  1⎥\n",
       "⎢             ⎥\n",
       "⎣1  0  0  1  x⎦"
      ]
     },
     "execution_count": 19,
     "metadata": {},
     "output_type": "execute_result"
    }
   ],
   "source": [
    "x, alpha, beta = symbols(\"x alpha beta\")\n",
    "\n",
    "A = Matrix([[x, 1, 0, 0, 1],\n",
    "       [1, x, 1, 0, 0],\n",
    "       [0, 1, x, 1, 0],\n",
    "       [0, 0, 1, x, 1],\n",
    "       [1, 0, 0, 1, x]]\n",
    "      )\n",
    "\n",
    "A"
   ]
  },
  {
   "cell_type": "code",
   "execution_count": 20,
   "metadata": {},
   "outputs": [
    {
     "data": {
      "image/png": "[encoded data removed]",
      "text/latex": [
       "$$x^{5} - 5 x^{3} + 5 x + 2$$"
      ],
      "text/plain": [
       " 5      3          \n",
       "x  - 5⋅x  + 5⋅x + 2"
      ]
     },
     "execution_count": 20,
     "metadata": {},
     "output_type": "execute_result"
    }
   ],
   "source": [
    "A.det()"
   ]
  },
  {
   "cell_type": "markdown",
   "metadata": {},
   "source": [
    "# --------------------------------------------------------------------------------\n",
    "\n",
    "## Based on the Spin Adapted Configurations Document "
   ]
  },
  {
   "cell_type": "code",
   "execution_count": 21,
   "metadata": {},
   "outputs": [],
   "source": [
    "s = Function('s')\n",
    "d = Function('d')\n",
    "phi = Function('phi')\n",
    "i, j, a, b, a1, b1 = symbols(\"i, j, a, b, a1, b1\")"
   ]
  },
  {
   "cell_type": "markdown",
   "metadata": {},
   "source": [
    "Looking at a way to immediately transform a problem in dirac notation to a matrix notation... So far, unsuccessful/inefficient."
   ]
  },
  {
   "cell_type": "code",
   "execution_count": 22,
   "metadata": {},
   "outputs": [
    {
     "data": {
      "image/png": "[encoded data removed]",
      "text/latex": [
       "$$\\left\\langle \\phi{\\left (i,j \\right )} \\right. {\\left|\\phi{\\left (a,b \\right )} - \\phi{\\left (a_{1},b_{1} \\right )}\\right\\rangle }$$"
      ],
      "text/plain": [
       "⟨φ(i, j)❘φ(a, b) - φ(a₁, b₁)⟩"
      ]
     },
     "execution_count": 22,
     "metadata": {},
     "output_type": "execute_result"
    }
   ],
   "source": [
    "from sympy.physics.quantum import Bra, Ket, TensorProduct\n",
    "\n",
    "Bra(phi(i, j))*Ket(phi(a, b) - phi(a1, b1)) \n"
   ]
  },
  {
   "cell_type": "code",
   "execution_count": 23,
   "metadata": {},
   "outputs": [
    {
     "data": {
      "image/png": "[encoded data removed]",
      "text/latex": [
       "$$\\left\\langle \\phi{\\left (i,j \\right )} \\right. {\\left|\\phi{\\left (a,b \\right )}\\right\\rangle } + \\left\\langle \\phi{\\left (i,j \\right )} \\right. {\\left|- \\phi{\\left (a_{1},b_{1} \\right )}\\right\\rangle }$$"
      ],
      "text/plain": [
       "⟨φ(i, j)❘φ(a, b)⟩ + ⟨φ(i, j)❘-φ(a₁, b₁)⟩"
      ]
     },
     "metadata": {},
     "output_type": "display_data"
    },
    {
     "data": {
      "text/latex": [
       "$$\\left[\\begin{matrix}\\phi{\\left (b \\right )} \\phi{\\left (i \\right )} & \\phi{\\left (a_{1} \\right )} \\phi{\\left (i \\right )} & \\phi{\\left (b_{1} \\right )} \\phi{\\left (i \\right )}\\\\\\phi{\\left (b \\right )} \\phi{\\left (j \\right )} & \\phi{\\left (a_{1} \\right )} \\phi{\\left (j \\right )} & \\phi{\\left (b_{1} \\right )} \\phi{\\left (j \\right )}\\\\\\phi{\\left (a \\right )} \\phi{\\left (b \\right )} & \\phi{\\left (a \\right )} \\phi{\\left (a_{1} \\right )} & \\phi{\\left (a \\right )} \\phi{\\left (b_{1} \\right )}\\end{matrix}\\right]$$"
      ],
      "text/plain": [
       "⎡φ(b)⋅φ(i)  φ(a₁)⋅φ(i)  φ(b₁)⋅φ(i)⎤\n",
       "⎢                                 ⎥\n",
       "⎢φ(b)⋅φ(j)  φ(a₁)⋅φ(j)  φ(b₁)⋅φ(j)⎥\n",
       "⎢                                 ⎥\n",
       "⎣φ(a)⋅φ(b)  φ(a)⋅φ(a₁)  φ(a)⋅φ(b₁)⎦"
      ]
     },
     "execution_count": 23,
     "metadata": {},
     "output_type": "execute_result"
    }
   ],
   "source": [
    "def dirac_expand_1(bra, bra1, ket, ket1):\n",
    "    if bra1 == 1:\n",
    "        return Bra(bra)*Ket(ket) + Bra(bra)*Ket(ket1)\n",
    "    else:\n",
    "        return Bra(bra)*Ket(ket) + Bra(bra1)*Ket(ket) + Bra(bra)*Ket(ket1) + Bra(bra1)*Ket(ket1)\n",
    "\n",
    "\n",
    "display(dirac_expand_1(phi(i, j), 1, phi(a, b), -phi(a1, b1)))\n",
    "\n",
    "\n",
    "def dirac_to_matrix(var1, var2, var3, var4, var5 = None, var6 = None):\n",
    "    if var5 == None and var6 == None:\n",
    "        return Matrix([\n",
    "            [(var1)*(var3), (var1)*(var4)],\n",
    "            [(var2)*(var3), (var2)*(var4)]\n",
    "                                        ])\n",
    "    else:\n",
    "        return Matrix([\n",
    "            [var1*var4, var1*var5, var1*var6],\n",
    "            [var2*var4, var2*var5, var2*var6],\n",
    "            [var3*var4, var3*var5, var3*var6]\n",
    "                                            ])\n",
    "\n",
    "\n",
    "dirac_to_matrix(phi(i), phi(j), phi(a), phi(b), phi(a1), phi(b1))"
   ]
  },
  {
   "cell_type": "markdown",
   "metadata": {},
   "source": [
    "The following A1 and A2 matrices are part of the problem illustrated in the \"closed-shell open-shell singlet\" problem from the spin adapted configurations document.\n",
    "\n",
    "If the code can eventually work with the 2-electron system, it should be able to run 3-4 electron systems, as well.\n",
    "\n",
    "Please also note that as of now, I am unable to \"switch\" the subscripts in problems, and therefore all of the wave functions of interest are described by functions rather than subscripts (hence the phi(i) notation versus phi_i)"
   ]
  },
  {
   "cell_type": "code",
   "execution_count": 24,
   "metadata": {},
   "outputs": [
    {
     "data": {
      "text/latex": [
       "$$\\left[\\begin{matrix}\\phi{\\left (a \\right )} \\phi{\\left (i \\right )} & \\phi{\\left (b \\right )} \\phi{\\left (i \\right )}\\\\\\phi{\\left (a \\right )} \\phi{\\left (j \\right )} & \\phi{\\left (b \\right )} \\phi{\\left (j \\right )}\\end{matrix}\\right]$$"
      ],
      "text/plain": [
       "⎡φ(a)⋅φ(i)  φ(b)⋅φ(i)⎤\n",
       "⎢                    ⎥\n",
       "⎣φ(a)⋅φ(j)  φ(b)⋅φ(j)⎦"
      ]
     },
     "metadata": {},
     "output_type": "display_data"
    },
    {
     "data": {
      "text/latex": [
       "$$\\left[\\begin{matrix}\\phi{\\left (a_{1} \\right )} \\phi{\\left (i \\right )} & \\phi{\\left (b_{1} \\right )} \\phi{\\left (i \\right )}\\\\\\phi{\\left (a_{1} \\right )} \\phi{\\left (j \\right )} & \\phi{\\left (b_{1} \\right )} \\phi{\\left (j \\right )}\\end{matrix}\\right]$$"
      ],
      "text/plain": [
       "⎡φ(a₁)⋅φ(i)  φ(b₁)⋅φ(i)⎤\n",
       "⎢                      ⎥\n",
       "⎣φ(a₁)⋅φ(j)  φ(b₁)⋅φ(j)⎦"
      ]
     },
     "metadata": {},
     "output_type": "display_data"
    }
   ],
   "source": [
    "A1 =  Matrix([\n",
    "    [phi(i)*phi(a), phi(i)*phi(b)],\n",
    "    [phi(j)*phi(a), phi(j)*phi(b)]\n",
    "])\n",
    "\n",
    "A2 =  Matrix([\n",
    "    [phi(i)*phi(a1), phi(i)*phi(b1)],\n",
    "    [phi(j)*phi(a1), phi(j)*phi(b1)]\n",
    "])\n",
    "\n",
    "display(A1, A2)"
   ]
  },
  {
   "cell_type": "markdown",
   "metadata": {},
   "source": [
    "The following potential code is based off of the methods by Brendan Smith for solving higher-electron problems efficiently. \n",
    "\n",
    "A series of matrices are set up, and the columns are either \"d\" or \"s\" notation, and the \"d\" column basically shifts down the matrix, therefore creating multiple matrices. (Not sure if that makes any sense)\n",
    "\n",
    "This is shown with the example at the bottom of the cell."
   ]
  },
  {
   "cell_type": "code",
   "execution_count": 25,
   "metadata": {
    "scrolled": false
   },
   "outputs": [
    {
     "data": {
      "text/latex": [
       "$$\\left[\\begin{matrix}d{\\left (a \\right )} & s{\\left (b \\right )} & s{\\left (c \\right )} & s{\\left (e \\right )}\\\\d{\\left (a \\right )} & s{\\left (b \\right )} & s{\\left (c \\right )} & s{\\left (e \\right )}\\\\d{\\left (i \\right )} & s{\\left (j \\right )} & s{\\left (k \\right )} & s{\\left (l \\right )}\\\\d{\\left (a \\right )} & s{\\left (l \\right )} & s{\\left (k \\right )} & s{\\left (e \\right )}\\end{matrix}\\right]$$"
      ],
      "text/plain": [
       "⎡d(a)  s(b)  s(c)  s(e)⎤\n",
       "⎢                      ⎥\n",
       "⎢d(a)  s(b)  s(c)  s(e)⎥\n",
       "⎢                      ⎥\n",
       "⎢d(i)  s(j)  s(k)  s(l)⎥\n",
       "⎢                      ⎥\n",
       "⎣d(a)  s(l)  s(k)  s(e)⎦"
      ]
     },
     "metadata": {},
     "output_type": "display_data"
    },
    {
     "data": {
      "text/latex": [
       "$$\\left[\\begin{matrix}s{\\left (a \\right )} & d{\\left (b \\right )} & s{\\left (c \\right )} & s{\\left (e \\right )}\\\\s{\\left (a \\right )} & d{\\left (b \\right )} & s{\\left (c \\right )} & s{\\left (e \\right )}\\\\s{\\left (i \\right )} & d{\\left (j \\right )} & s{\\left (k \\right )} & s{\\left (l \\right )}\\\\s{\\left (a \\right )} & d{\\left (l \\right )} & s{\\left (k \\right )} & s{\\left (e \\right )}\\end{matrix}\\right]$$"
      ],
      "text/plain": [
       "⎡s(a)  d(b)  s(c)  s(e)⎤\n",
       "⎢                      ⎥\n",
       "⎢s(a)  d(b)  s(c)  s(e)⎥\n",
       "⎢                      ⎥\n",
       "⎢s(i)  d(j)  s(k)  s(l)⎥\n",
       "⎢                      ⎥\n",
       "⎣s(a)  d(l)  s(k)  s(e)⎦"
      ]
     },
     "metadata": {},
     "output_type": "display_data"
    },
    {
     "data": {
      "text/latex": [
       "$$\\left[\\begin{matrix}s{\\left (a \\right )} & s{\\left (b \\right )} & d{\\left (c \\right )} & s{\\left (e \\right )}\\\\s{\\left (a \\right )} & s{\\left (b \\right )} & d{\\left (c \\right )} & s{\\left (e \\right )}\\\\s{\\left (i \\right )} & s{\\left (j \\right )} & d{\\left (k \\right )} & s{\\left (l \\right )}\\\\s{\\left (a \\right )} & s{\\left (l \\right )} & d{\\left (k \\right )} & s{\\left (e \\right )}\\end{matrix}\\right]$$"
      ],
      "text/plain": [
       "⎡s(a)  s(b)  d(c)  s(e)⎤\n",
       "⎢                      ⎥\n",
       "⎢s(a)  s(b)  d(c)  s(e)⎥\n",
       "⎢                      ⎥\n",
       "⎢s(i)  s(j)  d(k)  s(l)⎥\n",
       "⎢                      ⎥\n",
       "⎣s(a)  s(l)  d(k)  s(e)⎦"
      ]
     },
     "metadata": {},
     "output_type": "display_data"
    },
    {
     "data": {
      "text/latex": [
       "$$\\left[\\begin{matrix}s{\\left (a \\right )} & s{\\left (b \\right )} & s{\\left (c \\right )} & d{\\left (e \\right )}\\\\s{\\left (a \\right )} & s{\\left (b \\right )} & s{\\left (c \\right )} & d{\\left (e \\right )}\\\\s{\\left (i \\right )} & s{\\left (j \\right )} & s{\\left (k \\right )} & d{\\left (l \\right )}\\\\s{\\left (a \\right )} & s{\\left (l \\right )} & s{\\left (k \\right )} & d{\\left (e \\right )}\\end{matrix}\\right]$$"
      ],
      "text/plain": [
       "⎡s(a)  s(b)  s(c)  d(e)⎤\n",
       "⎢                      ⎥\n",
       "⎢s(a)  s(b)  s(c)  d(e)⎥\n",
       "⎢                      ⎥\n",
       "⎢s(i)  s(j)  s(k)  d(l)⎥\n",
       "⎢                      ⎥\n",
       "⎣s(a)  s(l)  s(k)  d(e)⎦"
      ]
     },
     "metadata": {},
     "output_type": "display_data"
    },
    {
     "data": {
      "text/plain": [
       "(None, None, None, None)"
      ]
     },
     "execution_count": 25,
     "metadata": {},
     "output_type": "execute_result"
    }
   ],
   "source": [
    "n = Symbol(\"n\")\n",
    "\n",
    "    \n",
    "def Matrix_transform_1(matrix, dim):\n",
    "    if dim == 2:\n",
    "        Matrix_1 = matrix.col(0).replace(phi, d)\n",
    "        Matrix_2 = matrix.col(1).replace(phi, s)\n",
    "        \n",
    "        return Matrix([[Matrix_1, Matrix_2]])\n",
    "    \n",
    "    if dim == 3:\n",
    "        Matrix_1 = matrix.col(0).replace(phi, d)\n",
    "        Matrix_2 = matrix.col(1).replace(phi, s)\n",
    "        Matrix_3 = matrix.col(2).replace(phi, s)\n",
    "        return Matrix([[Matrix_1, Matrix_2, Matrix_3]])\n",
    "    \n",
    "    else:\n",
    "        Matrix_1 = matrix.col(0).replace(phi, d)\n",
    "        Matrix_2 = matrix.col(1).replace(phi, s)\n",
    "        Matrix_3 = matrix.col(2).replace(phi, s)\n",
    "        Matrix_4 = matrix.col(3).replace(phi, s)\n",
    "        return Matrix([[Matrix_1, Matrix_2, Matrix_3, Matrix_4]])\n",
    "\n",
    "def Matrix_transform_2(matrix, dim):\n",
    "    if dim == 2:\n",
    "        Matrix_1 = matrix.col(0).replace(phi, s)\n",
    "        Matrix_2 = matrix.col(1).replace(phi, d)\n",
    "        \n",
    "        return Matrix([[Matrix_1, Matrix_2]])\n",
    "    \n",
    "    if dim == 3:\n",
    "        Matrix_1 = matrix.col(0).replace(phi, s)\n",
    "        Matrix_2 = matrix.col(1).replace(phi, d)\n",
    "        Matrix_3 = matrix.col(2).replace(phi, s)\n",
    "        return Matrix([[Matrix_1, Matrix_2, Matrix_3]])\n",
    "    \n",
    "    else:\n",
    "        Matrix_1 = matrix.col(0).replace(phi, s)\n",
    "        Matrix_2 = matrix.col(1).replace(phi, d)\n",
    "        Matrix_3 = matrix.col(2).replace(phi, s)\n",
    "        Matrix_4 = matrix.col(3).replace(phi, s)\n",
    "        return Matrix([[Matrix_1, Matrix_2, Matrix_3, Matrix_4]])\n",
    "\n",
    "\n",
    "def Matrix_transform_3(matrix, dim):\n",
    "    \n",
    "    \n",
    "    if dim == 2:\n",
    "        return 0\n",
    "    \n",
    "    if dim == 3:\n",
    "        Matrix_1 = matrix.col(0).replace(phi, s)\n",
    "        Matrix_2 = matrix.col(1).replace(phi, s)\n",
    "        Matrix_3 = matrix.col(2).replace(phi, d)\n",
    "        return Matrix([[Matrix_1, Matrix_2, Matrix_3]])\n",
    "    \n",
    "    else:\n",
    "        Matrix_1 = matrix.col(0).replace(phi, s)\n",
    "        Matrix_2 = matrix.col(1).replace(phi, s)\n",
    "        Matrix_3 = matrix.col(2).replace(phi, d)\n",
    "        Matrix_4 = matrix.col(3).replace(phi, s)\n",
    "        return Matrix([[Matrix_1, Matrix_2, Matrix_3, Matrix_4]])\n",
    "\n",
    "def Matrix_transform_4(matrix, dim):\n",
    "    \n",
    "    if dim == 2 or dim == 3:\n",
    "        return 0\n",
    "    \n",
    "    else:\n",
    "        Matrix_1 = matrix.col(0).replace(phi, s)\n",
    "        Matrix_2 = matrix.col(1).replace(phi, s)\n",
    "        Matrix_3 = matrix.col(2).replace(phi, s)\n",
    "        Matrix_4 = matrix.col(3).replace(phi, d)\n",
    "        return Matrix([[Matrix_1, Matrix_2, Matrix_3, Matrix_4]])\n",
    "\n",
    "\n",
    "def matrix_transform(matrix, dim):\n",
    "    if dim == 2:\n",
    "        return TensorProduct(Matrix_transform_1(matrix, dim) + Matrix_transform_2(matrix, dim), eye(dim))\n",
    "    if dim == 3:\n",
    "        return display(TensorProduct(Matrix_transform_1(matrix, dim))) , display(TensorProduct(Matrix_transform_2(matrix, dim))) , display(TensorProduct(Matrix_transform_3(matrix, dim), eye(dim)))\n",
    "    if dim == 4:\n",
    "        return display(TensorProduct(Matrix_transform_1(matrix, dim), eye(dim))) , display(TensorProduct(Matrix_transform_2(matrix, dim), eye(dim))) , display(TensorProduct(Matrix_transform_3(matrix, dim), eye(dim))) , display(TensorProduct(Matrix_transform_4(matrix, dim), eye(dim)))\n",
    "\n",
    "\n",
    "# R = simplify(Matrix_transform_1(B) + Matrix_transform_2(B))\n",
    "\n",
    "a, b, c, e, i, j, k, l = symbols(\"a, b, c, e, i, j, k, l\")\n",
    "psi = Function('psi')\n",
    "\n",
    "M = Matrix([[phi(a), phi(b), phi(c), phi(e)],\n",
    "       [phi(a), phi(b), phi(c), phi(e)],\n",
    "       [phi(i), phi(j), phi(k), phi(l)],\n",
    "           [phi(a), phi(l), phi(k), phi(e)]\n",
    "           ])\n",
    "\n",
    "matrix_transform(M, 4)"
   ]
  },
  {
   "cell_type": "markdown",
   "metadata": {},
   "source": [
    "Now we can try the same method with the A1 and A2 matrices we defined previously.\n",
    "\n",
    "The \"determinat()\" function was defined for easy simplification. \n",
    "\n",
    "Please note that lines 14 and 16 are equivalent, but in line 16 the \"subscripts\" were simplified by hand for simplicity. (Again, keep in mind as of now I cannot work with subscripts and therefore everything is defined by functions)\n",
    "\n",
    "Please also note that the 1/sqrt(2) is not included in this example (as of now, it simplifies incorrectly, and I am unsure why that happens)"
   ]
  },
  {
   "cell_type": "code",
   "execution_count": 26,
   "metadata": {},
   "outputs": [
    {
     "data": {
      "text/latex": [
       "$$\\left[\\begin{matrix}d{\\left (a \\right )} d{\\left (i \\right )} + s{\\left (a \\right )} s{\\left (i \\right )} & d{\\left (b \\right )} d{\\left (i \\right )} + s{\\left (b \\right )} s{\\left (i \\right )}\\\\d{\\left (a \\right )} d{\\left (j \\right )} + s{\\left (a \\right )} s{\\left (j \\right )} & d{\\left (b \\right )} d{\\left (j \\right )} + s{\\left (b \\right )} s{\\left (j \\right )}\\end{matrix}\\right]$$"
      ],
      "text/plain": [
       "⎡d(a)⋅d(i) + s(a)⋅s(i)  d(b)⋅d(i) + s(b)⋅s(i)⎤\n",
       "⎢                                            ⎥\n",
       "⎣d(a)⋅d(j) + s(a)⋅s(j)  d(b)⋅d(j) + s(b)⋅s(j)⎦"
      ]
     },
     "metadata": {},
     "output_type": "display_data"
    },
    {
     "data": {
      "text/latex": [
       "$$\\left[\\begin{matrix}d{\\left (a_{1} \\right )} d{\\left (i \\right )} + s{\\left (a_{1} \\right )} s{\\left (i \\right )} & d{\\left (b_{1} \\right )} d{\\left (i \\right )} + s{\\left (b_{1} \\right )} s{\\left (i \\right )}\\\\d{\\left (a_{1} \\right )} d{\\left (j \\right )} + s{\\left (a_{1} \\right )} s{\\left (j \\right )} & d{\\left (b_{1} \\right )} d{\\left (j \\right )} + s{\\left (b_{1} \\right )} s{\\left (j \\right )}\\end{matrix}\\right]$$"
      ],
      "text/plain": [
       "⎡d(a₁)⋅d(i) + s(a₁)⋅s(i)  d(b₁)⋅d(i) + s(b₁)⋅s(i)⎤\n",
       "⎢                                                ⎥\n",
       "⎣d(a₁)⋅d(j) + s(a₁)⋅s(j)  d(b₁)⋅d(j) + s(b₁)⋅s(j)⎦"
      ]
     },
     "metadata": {},
     "output_type": "display_data"
    },
    {
     "data": {
      "image/png": "[encoded data removed]",
      "text/latex": [
       "$$d{\\left (a \\right )} d{\\left (i \\right )} s{\\left (b \\right )} s{\\left (j \\right )} - d{\\left (a \\right )} d{\\left (j \\right )} s{\\left (b \\right )} s{\\left (i \\right )} + d{\\left (a_{1} \\right )} d{\\left (i \\right )} s{\\left (b_{1} \\right )} s{\\left (j \\right )} - d{\\left (a_{1} \\right )} d{\\left (j \\right )} s{\\left (b_{1} \\right )} s{\\left (i \\right )} - d{\\left (b \\right )} d{\\left (i \\right )} s{\\left (a \\right )} s{\\left (j \\right )} + d{\\left (b \\right )} d{\\left (j \\right )} s{\\left (a \\right )} s{\\left (i \\right )} - d{\\left (b_{1} \\right )} d{\\left (i \\right )} s{\\left (a_{1} \\right )} s{\\left (j \\right )} + d{\\left (b_{1} \\right )} d{\\left (j \\right )} s{\\left (a_{1} \\right )} s{\\left (i \\right )}$$"
      ],
      "text/plain": [
       "d(a)⋅d(i)⋅s(b)⋅s(j) - d(a)⋅d(j)⋅s(b)⋅s(i) + d(a₁)⋅d(i)⋅s(b₁)⋅s(j) - d(a₁)⋅d(j)\n",
       "⋅s(b₁)⋅s(i) - d(b)⋅d(i)⋅s(a)⋅s(j) + d(b)⋅d(j)⋅s(a)⋅s(i) - d(b₁)⋅d(i)⋅s(a₁)⋅s(j\n",
       ") + d(b₁)⋅d(j)⋅s(a₁)⋅s(i)"
      ]
     },
     "metadata": {},
     "output_type": "display_data"
    },
    {
     "data": {
      "image/png": "[encoded data removed]",
      "text/latex": [
       "$$d{\\left (a,i \\right )} s{\\left (b,j \\right )} - d{\\left (a,j \\right )} s{\\left (b,i \\right )} + d{\\left (a_{1},i \\right )} s{\\left (b_{1},j \\right )} - d{\\left (a_{1},j \\right )} s{\\left (b_{1},i \\right )} - d{\\left (b,i \\right )} s{\\left (a,j \\right )} + d{\\left (b,j \\right )} s{\\left (a,i \\right )} - d{\\left (b_{1},i \\right )} s{\\left (a_{1},j \\right )} + d{\\left (b_{1},j \\right )} s{\\left (a_{1},i \\right )}$$"
      ],
      "text/plain": [
       "d(a, i)⋅s(b, j) - d(a, j)⋅s(b, i) + d(a₁, i)⋅s(b₁, j) - d(a₁, j)⋅s(b₁, i) - d(\n",
       "b, i)⋅s(a, j) + d(b, j)⋅s(a, i) - d(b₁, i)⋅s(a₁, j) + d(b₁, j)⋅s(a₁, i)"
      ]
     },
     "execution_count": 26,
     "metadata": {},
     "output_type": "execute_result"
    }
   ],
   "source": [
    "T1 = matrix_transform(A1, 2)\n",
    "T2 = matrix_transform(A2, 2)\n",
    "\n",
    "display(factor(T1), factor(T2))\n",
    "\n",
    "expand(det(factor(simplify(T1))) + det(factor(simplify(T2))))\n",
    "\n",
    "\n",
    "def determinant(matrix):\n",
    "    return expand(det(factor(simplify(matrix))))\n",
    "\n",
    "q = determinant(T1) + determinant(T2)\n",
    "\n",
    "display(q)\n",
    "\n",
    "d(a, i)*s(b, j) - d(a, j)*s(b, i) + d(a1, i)*s(b1, j) - d(a1, j)*s(b1, i) - d(b, i)*s(a, j) + d(b, j)*s(a, i) - d(b1, i)*s(a1, j) + d(b1, j)*s(a1, i)\n"
   ]
  },
  {
   "cell_type": "markdown",
   "metadata": {},
   "source": [
    "Note: need to break it into two matrices to compute properly."
   ]
  },
  {
   "cell_type": "markdown",
   "metadata": {},
   "source": [
    "In the below cell, I try to add in the 1/sqrt(2) factor (please note that this would not be correct fully, since some terms have 1/sqrt(2) and others have -1/sqrt(2))\n",
    "\n",
    "I also tried to replace the terms with those listed in the document for simplification, which leads to some interesting results."
   ]
  },
  {
   "cell_type": "code",
   "execution_count": 29,
   "metadata": {
    "scrolled": false
   },
   "outputs": [
    {
     "data": {
      "image/png": "[encoded data removed]",
      "text/latex": [
       "$$\\frac{\\sqrt{2} \\left(- d^{2}{\\left (\\alpha \\right )} s{\\left (\\beta \\right )} s{\\left (2 \\beta \\right )} + d{\\left (\\alpha \\right )} d{\\left (2 \\alpha \\right )} s^{2}{\\left (\\beta \\right )} + d{\\left (\\alpha \\right )} d{\\left (\\beta \\right )} s{\\left (\\alpha \\right )} s{\\left (2 \\beta \\right )} - d{\\left (\\alpha \\right )} d{\\left (\\beta \\right )} s{\\left (2 \\alpha \\right )} s{\\left (\\beta \\right )} + d{\\left (\\alpha \\right )} d{\\left (2 \\beta \\right )} s{\\left (\\alpha \\right )} s{\\left (\\beta \\right )} - d{\\left (2 \\alpha \\right )} d{\\left (\\beta \\right )} s{\\left (\\alpha \\right )} s{\\left (\\beta \\right )} + d^{2}{\\left (\\beta \\right )} s{\\left (\\alpha \\right )} s{\\left (2 \\alpha \\right )} - d{\\left (\\beta \\right )} d{\\left (2 \\beta \\right )} s^{2}{\\left (\\alpha \\right )}\\right)}{2}$$"
      ],
      "text/plain": [
       "   ⎛   2                               2                                      \n",
       "√2⋅⎝- d (α)⋅s(β)⋅s(2⋅β) + d(α)⋅d(2⋅α)⋅s (β) + d(α)⋅d(β)⋅s(α)⋅s(2⋅β) - d(α)⋅d(β\n",
       "──────────────────────────────────────────────────────────────────────────────\n",
       "                                                                              \n",
       "\n",
       "                                                                 2            \n",
       ")⋅s(2⋅α)⋅s(β) + d(α)⋅d(2⋅β)⋅s(α)⋅s(β) - d(2⋅α)⋅d(β)⋅s(α)⋅s(β) + d (β)⋅s(α)⋅s(2\n",
       "──────────────────────────────────────────────────────────────────────────────\n",
       "           2                                                                  \n",
       "\n",
       "                   2   ⎞\n",
       "⋅α) - d(β)⋅d(2⋅β)⋅s (α)⎠\n",
       "────────────────────────\n",
       "                        "
      ]
     },
     "execution_count": 29,
     "metadata": {},
     "output_type": "execute_result"
    }
   ],
   "source": [
    "qr = q.replace(i, alpha).replace(j, beta).replace(a, 2*alpha).replace(b, beta).replace(a1, 2*beta).replace(b1, alpha)\n",
    "\n",
    "simplify((1/sqrt(2))*qr)"
   ]
  },
  {
   "cell_type": "markdown",
   "metadata": {},
   "source": [
    "I then try splitting up the determinants back into the T1 and T2 determinants which were mentioned previously, hoping that would work. They were then added together as per usual (it might be a good idea to include the 1/sqrt(2) and -1/sqrt(2) coefficients here?)"
   ]
  },
  {
   "cell_type": "code",
   "execution_count": 28,
   "metadata": {},
   "outputs": [
    {
     "data": {
      "image/png": "[encoded data removed]",
      "text/latex": [
       "$$- d^{2}{\\left (\\alpha \\right )} s{\\left (\\beta \\right )} s{\\left (2 \\beta \\right )} + d{\\left (\\alpha \\right )} d{\\left (2 \\alpha \\right )} s^{2}{\\left (\\beta \\right )} + d{\\left (\\alpha \\right )} d{\\left (\\beta \\right )} s{\\left (\\alpha \\right )} s{\\left (2 \\beta \\right )} - d{\\left (\\alpha \\right )} d{\\left (\\beta \\right )} s{\\left (2 \\alpha \\right )} s{\\left (\\beta \\right )} + d{\\left (\\alpha \\right )} d{\\left (2 \\beta \\right )} s{\\left (\\alpha \\right )} s{\\left (\\beta \\right )} - d{\\left (2 \\alpha \\right )} d{\\left (\\beta \\right )} s{\\left (\\alpha \\right )} s{\\left (\\beta \\right )} + d^{2}{\\left (\\beta \\right )} s{\\left (\\alpha \\right )} s{\\left (2 \\alpha \\right )} - d{\\left (\\beta \\right )} d{\\left (2 \\beta \\right )} s^{2}{\\left (\\alpha \\right )}$$"
      ],
      "text/plain": [
       "   2                               2                                          \n",
       "- d (α)⋅s(β)⋅s(2⋅β) + d(α)⋅d(2⋅α)⋅s (β) + d(α)⋅d(β)⋅s(α)⋅s(2⋅β) - d(α)⋅d(β)⋅s(\n",
       "\n",
       "                                                             2                \n",
       "2⋅α)⋅s(β) + d(α)⋅d(2⋅β)⋅s(α)⋅s(β) - d(2⋅α)⋅d(β)⋅s(α)⋅s(β) + d (β)⋅s(α)⋅s(2⋅α) \n",
       "\n",
       "               2   \n",
       "- d(β)⋅d(2⋅β)⋅s (α)"
      ]
     },
     "execution_count": 28,
     "metadata": {},
     "output_type": "execute_result"
    }
   ],
   "source": [
    "S = (T1.replace(i, alpha).replace(j, beta).replace(a, 2*alpha).replace(b, beta).replace(a1, 2*beta).replace(b1, alpha))\n",
    "m = (T2.replace(i, alpha).replace(j, beta).replace(a, 2*alpha).replace(b, beta).replace(a1, 2*beta).replace(b1, alpha))\n",
    "\n",
    "expand(determinant(S) + determinant(m))"
   ]
  },
  {
   "cell_type": "markdown",
   "metadata": {},
   "source": [
    "The below code is quite muddy. It is based off of some of the code from Brendan Smith's presentation."
   ]
  },
  {
   "cell_type": "markdown",
   "metadata": {},
   "source": [
    "Trying three electron systems..."
   ]
  },
  {
   "cell_type": "code",
   "execution_count": 30,
   "metadata": {},
   "outputs": [
    {
     "data": {
      "text/latex": [
       "$$\\left[\\begin{matrix}\\phi^{2}{\\left (\\alpha \\right )} & \\phi{\\left (\\alpha \\right )} \\phi{\\left (\\beta \\right )} & \\phi{\\left (\\alpha \\right )} \\phi{\\left (3 \\alpha \\right )}\\\\\\phi{\\left (\\alpha \\right )} \\phi{\\left (2 \\beta \\right )} & \\phi{\\left (\\beta \\right )} \\phi{\\left (2 \\beta \\right )} & \\phi{\\left (3 \\alpha \\right )} \\phi{\\left (2 \\beta \\right )}\\\\\\phi{\\left (\\alpha \\right )} \\phi{\\left (3 \\alpha \\right )} & \\phi{\\left (3 \\alpha \\right )} \\phi{\\left (\\beta \\right )} & \\phi^{2}{\\left (3 \\alpha \\right )}\\end{matrix}\\right]$$"
      ],
      "text/plain": [
       "⎡    2                                  ⎤\n",
       "⎢   φ (α)      φ(α)⋅φ(β)    φ(α)⋅φ(3⋅α) ⎥\n",
       "⎢                                       ⎥\n",
       "⎢φ(α)⋅φ(2⋅β)  φ(β)⋅φ(2⋅β)  φ(3⋅α)⋅φ(2⋅β)⎥\n",
       "⎢                                       ⎥\n",
       "⎢                              2        ⎥\n",
       "⎣φ(α)⋅φ(3⋅α)  φ(3⋅α)⋅φ(β)     φ (3⋅α)   ⎦"
      ]
     },
     "metadata": {},
     "output_type": "display_data"
    },
    {
     "data": {
      "image/png": "[encoded data removed]",
      "text/latex": [
       "$$2 d^{2}{\\left (\\alpha \\right )} d{\\left (\\beta \\right )} d{\\left (2 \\beta \\right )} s^{2}{\\left (3 \\alpha \\right )} + 4 d^{2}{\\left (\\alpha \\right )} s^{2}{\\left (3 \\alpha \\right )} s{\\left (\\beta \\right )} s{\\left (2 \\beta \\right )} - 4 d{\\left (\\alpha \\right )} d{\\left (3 \\alpha \\right )} d{\\left (\\beta \\right )} d{\\left (2 \\beta \\right )} s{\\left (\\alpha \\right )} s{\\left (3 \\alpha \\right )} - 8 d{\\left (\\alpha \\right )} d{\\left (3 \\alpha \\right )} s{\\left (\\alpha \\right )} s{\\left (3 \\alpha \\right )} s{\\left (\\beta \\right )} s{\\left (2 \\beta \\right )} + 2 d^{2}{\\left (3 \\alpha \\right )} d{\\left (\\beta \\right )} d{\\left (2 \\beta \\right )} s^{2}{\\left (\\alpha \\right )} + 4 d^{2}{\\left (3 \\alpha \\right )} s^{2}{\\left (\\alpha \\right )} s{\\left (\\beta \\right )} s{\\left (2 \\beta \\right )}$$"
      ],
      "text/plain": [
       "   2                 2           2     2                                      \n",
       "2⋅d (α)⋅d(β)⋅d(2⋅β)⋅s (3⋅α) + 4⋅d (α)⋅s (3⋅α)⋅s(β)⋅s(2⋅β) - 4⋅d(α)⋅d(3⋅α)⋅d(β)\n",
       "\n",
       "                                                                 2            \n",
       "⋅d(2⋅β)⋅s(α)⋅s(3⋅α) - 8⋅d(α)⋅d(3⋅α)⋅s(α)⋅s(3⋅α)⋅s(β)⋅s(2⋅β) + 2⋅d (3⋅α)⋅d(β)⋅d\n",
       "\n",
       "       2         2       2               \n",
       "(2⋅β)⋅s (α) + 4⋅d (3⋅α)⋅s (α)⋅s(β)⋅s(2⋅β)"
      ]
     },
     "execution_count": 30,
     "metadata": {},
     "output_type": "execute_result"
    }
   ],
   "source": [
    "M = Matrix([\n",
    "    [phi(alpha)*phi(alpha), phi(alpha)*phi(beta), phi(alpha)*phi(3*alpha)],\n",
    "    [phi(2*beta)*phi(alpha), phi(2*beta)*phi(beta), phi(2*beta)*phi(3*alpha)],\n",
    "    [phi(3*alpha)*phi(alpha), phi(3*alpha)*phi(beta), phi(3*alpha)*phi(3*alpha)]\n",
    "])\n",
    "\n",
    "display(M)\n",
    "\n",
    "N1 = Matrix_transform_1(M, 3).replace(s(alpha)*s(beta), 0).replace(s(3*alpha)*s(beta), 0).replace(d(alpha)*d(2*beta), 0).replace(s(3*alpha)*s(2*beta), 0)# , \\\n",
    "N2 = Matrix_transform_2(M, 3).replace(s(alpha)*s(2*beta), 0).replace(d(alpha)*d(beta), 0).replace(s(3*alpha)*s(2*beta), 0).replace(d(3*alpha)*d(beta), 0) #, \\\n",
    "N3 = Matrix_transform_3(M, 3).replace(s(alpha)*s(2*beta), 0).replace(s(alpha)*s(beta), 0).replace(s(3*alpha)*s(beta), 0).replace(d(3*alpha)*d(2*beta), 0)\n",
    "\n",
    "\n",
    "RF = TensorProduct(N1, eye(3)) + TensorProduct(N2, eye(3)) + TensorProduct(N3, eye(3))\n",
    "\n",
    "expand(det(RF))"
   ]
  },
  {
   "cell_type": "code",
   "execution_count": 31,
   "metadata": {},
   "outputs": [],
   "source": [
    "omega = Symbol(\"Omega\")\n",
    "\n",
    "M = Matrix([\n",
    "    [phi(a)*phi(a), phi(a)*phi(b), phi(a)*phi(omega)],\n",
    "    [phi(2*b)*phi(a), phi(2*b)*phi(b), phi(2*b)*phi(omega)],\n",
    "    [phi(omega)*phi(a), phi(omega)*phi(b), phi(omega)*phi(omega)]\n",
    "])\n",
    "\n",
    "M\n",
    "\n",
    "Q = Matrix_transform_1(M, 3)\n",
    "X = Matrix_transform_2(M, 3)\n",
    "Y = Matrix_transform_3(M, 3)"
   ]
  },
  {
   "cell_type": "code",
   "execution_count": 32,
   "metadata": {},
   "outputs": [
    {
     "data": {
      "text/latex": [
       "$$\\left[\\begin{matrix}d^{2}{\\left (a \\right )} + 2 s^{2}{\\left (a \\right )} & d{\\left (a \\right )} d{\\left (b \\right )} + 2 s{\\left (a \\right )} s{\\left (b \\right )} & d{\\left (\\Omega \\right )} d{\\left (a \\right )} + 2 s{\\left (\\Omega \\right )} s{\\left (a \\right )}\\\\d{\\left (a \\right )} d{\\left (2 b \\right )} + 2 s{\\left (a \\right )} s{\\left (2 b \\right )} & d{\\left (b \\right )} d{\\left (2 b \\right )} + 2 s{\\left (b \\right )} s{\\left (2 b \\right )} & d{\\left (\\Omega \\right )} d{\\left (2 b \\right )} + 2 s{\\left (\\Omega \\right )} s{\\left (2 b \\right )}\\\\d{\\left (\\Omega \\right )} d{\\left (a \\right )} + 2 s{\\left (\\Omega \\right )} s{\\left (a \\right )} & d{\\left (\\Omega \\right )} d{\\left (b \\right )} + 2 s{\\left (\\Omega \\right )} s{\\left (b \\right )} & d^{2}{\\left (\\Omega \\right )} + 2 s^{2}{\\left (\\Omega \\right )}\\end{matrix}\\right]$$"
      ],
      "text/plain": [
       "⎡       2         2                                                           \n",
       "⎢      d (a) + 2⋅s (a)          d(a)⋅d(b) + 2⋅s(a)⋅s(b)      d(Ω)⋅d(a) + 2⋅s(Ω\n",
       "⎢                                                                             \n",
       "⎢d(a)⋅d(2⋅b) + 2⋅s(a)⋅s(2⋅b)  d(b)⋅d(2⋅b) + 2⋅s(b)⋅s(2⋅b)  d(Ω)⋅d(2⋅b) + 2⋅s(Ω\n",
       "⎢                                                                             \n",
       "⎢                                                                 2         2 \n",
       "⎣  d(Ω)⋅d(a) + 2⋅s(Ω)⋅s(a)      d(Ω)⋅d(b) + 2⋅s(Ω)⋅s(b)          d (Ω) + 2⋅s (\n",
       "\n",
       "        ⎤\n",
       ")⋅s(a)  ⎥\n",
       "        ⎥\n",
       ")⋅s(2⋅b)⎥\n",
       "        ⎥\n",
       "        ⎥\n",
       "Ω)      ⎦"
      ]
     },
     "execution_count": 32,
     "metadata": {},
     "output_type": "execute_result"
    }
   ],
   "source": [
    "RF = ((TensorProduct(Q, eye(3)) + TensorProduct(X, eye(3)) + TensorProduct(Y, eye(3))))\n",
    "\n",
    "RF"
   ]
  },
  {
   "cell_type": "markdown",
   "metadata": {},
   "source": [
    "Please note as well, that the below is for general electrons in symbolic notation, instead of known electron states as shown in Brendan Smith's work."
   ]
  },
  {
   "cell_type": "code",
   "execution_count": 33,
   "metadata": {},
   "outputs": [
    {
     "data": {
      "text/latex": [
       "$$\\left[\\begin{matrix}\\phi{\\left (a \\right )} \\phi{\\left (i \\right )} & \\phi{\\left (a \\right )} \\phi{\\left (j \\right )} & \\phi{\\left (a \\right )} \\phi{\\left (k \\right )}\\\\\\phi{\\left (b \\right )} \\phi{\\left (i \\right )} & \\phi{\\left (b \\right )} \\phi{\\left (j \\right )} & \\phi{\\left (b \\right )} \\phi{\\left (k \\right )}\\\\\\phi{\\left (c \\right )} \\phi{\\left (i \\right )} & \\phi{\\left (c \\right )} \\phi{\\left (j \\right )} & \\phi{\\left (c \\right )} \\phi{\\left (k \\right )}\\end{matrix}\\right]$$"
      ],
      "text/plain": [
       "⎡φ(a)⋅φ(i)  φ(a)⋅φ(j)  φ(a)⋅φ(k)⎤\n",
       "⎢                               ⎥\n",
       "⎢φ(b)⋅φ(i)  φ(b)⋅φ(j)  φ(b)⋅φ(k)⎥\n",
       "⎢                               ⎥\n",
       "⎣φ(c)⋅φ(i)  φ(c)⋅φ(j)  φ(c)⋅φ(k)⎦"
      ]
     },
     "metadata": {},
     "output_type": "display_data"
    }
   ],
   "source": [
    "M = Matrix([\n",
    "    [phi(a)*phi(i), phi(a)*phi(j), phi(a)*phi(k)],\n",
    "    [phi(b)*phi(i), phi(b)*phi(j), phi(b)*phi(k)],\n",
    "    [phi(c)*phi(i), phi(c)*phi(j), phi(c)*phi(k)]\n",
    "])\n",
    "\n",
    "display(M)\n",
    "\n",
    "a, b, c, i, j, k = symbols(\"a, b, c, i, j, k\")"
   ]
  },
  {
   "cell_type": "markdown",
   "metadata": {},
   "source": [
    "The below cells for just the matrix_transform() function do not seem to be working (the matrix_transform function separates the matrix into its columns to change each column individually, then rejoins the columns. The last matrix is correct, but the first two are not)."
   ]
  },
  {
   "cell_type": "code",
   "execution_count": 38,
   "metadata": {},
   "outputs": [
    {
     "data": {
      "text/latex": [
       "$$\\left[\\begin{matrix}\\left[\\begin{matrix}d{\\left (a \\right )} d{\\left (i \\right )}\\\\d{\\left (b \\right )} d{\\left (i \\right )}\\\\d{\\left (c \\right )} d{\\left (i \\right )}\\end{matrix}\\right] & \\left[\\begin{matrix}s{\\left (a \\right )} s{\\left (j \\right )}\\\\s{\\left (b \\right )} s{\\left (j \\right )}\\\\s{\\left (c \\right )} s{\\left (j \\right )}\\end{matrix}\\right] & \\left[\\begin{matrix}s{\\left (a \\right )} s{\\left (k \\right )}\\\\s{\\left (b \\right )} s{\\left (k \\right )}\\\\s{\\left (c \\right )} s{\\left (k \\right )}\\end{matrix}\\right]\\end{matrix}\\right]$$"
      ],
      "text/plain": [
       "⎡⎡d(a)⋅d(i)⎤  ⎡s(a)⋅s(j)⎤  ⎡s(a)⋅s(k)⎤⎤\n",
       "⎢⎢         ⎥  ⎢         ⎥  ⎢         ⎥⎥\n",
       "⎢⎢d(b)⋅d(i)⎥  ⎢s(b)⋅s(j)⎥  ⎢s(b)⋅s(k)⎥⎥\n",
       "⎢⎢         ⎥  ⎢         ⎥  ⎢         ⎥⎥\n",
       "⎣⎣d(c)⋅d(i)⎦  ⎣s(c)⋅s(j)⎦  ⎣s(c)⋅s(k)⎦⎦"
      ]
     },
     "metadata": {},
     "output_type": "display_data"
    },
    {
     "data": {
      "text/latex": [
       "$$\\left[\\begin{matrix}\\left[\\begin{matrix}s{\\left (a \\right )} s{\\left (i \\right )}\\\\s{\\left (b \\right )} s{\\left (i \\right )}\\\\s{\\left (c \\right )} s{\\left (i \\right )}\\end{matrix}\\right] & \\left[\\begin{matrix}d{\\left (a \\right )} d{\\left (j \\right )}\\\\d{\\left (b \\right )} d{\\left (j \\right )}\\\\d{\\left (c \\right )} d{\\left (j \\right )}\\end{matrix}\\right] & \\left[\\begin{matrix}s{\\left (a \\right )} s{\\left (k \\right )}\\\\s{\\left (b \\right )} s{\\left (k \\right )}\\\\s{\\left (c \\right )} s{\\left (k \\right )}\\end{matrix}\\right]\\end{matrix}\\right]$$"
      ],
      "text/plain": [
       "⎡⎡s(a)⋅s(i)⎤  ⎡d(a)⋅d(j)⎤  ⎡s(a)⋅s(k)⎤⎤\n",
       "⎢⎢         ⎥  ⎢         ⎥  ⎢         ⎥⎥\n",
       "⎢⎢s(b)⋅s(i)⎥  ⎢d(b)⋅d(j)⎥  ⎢s(b)⋅s(k)⎥⎥\n",
       "⎢⎢         ⎥  ⎢         ⎥  ⎢         ⎥⎥\n",
       "⎣⎣s(c)⋅s(i)⎦  ⎣d(c)⋅d(j)⎦  ⎣s(c)⋅s(k)⎦⎦"
      ]
     },
     "metadata": {},
     "output_type": "display_data"
    },
    {
     "data": {
      "text/latex": [
       "$$\\left[\\begin{matrix}s{\\left (a \\right )} s{\\left (i \\right )} & s{\\left (a \\right )} s{\\left (j \\right )} & d{\\left (a \\right )} d{\\left (k \\right )}\\\\s{\\left (b \\right )} s{\\left (i \\right )} & s{\\left (b \\right )} s{\\left (j \\right )} & d{\\left (b \\right )} d{\\left (k \\right )}\\\\s{\\left (c \\right )} s{\\left (i \\right )} & s{\\left (c \\right )} s{\\left (j \\right )} & d{\\left (c \\right )} d{\\left (k \\right )}\\end{matrix}\\right]$$"
      ],
      "text/plain": [
       "⎡s(a)⋅s(i)  s(a)⋅s(j)  d(a)⋅d(k)⎤\n",
       "⎢                               ⎥\n",
       "⎢s(b)⋅s(i)  s(b)⋅s(j)  d(b)⋅d(k)⎥\n",
       "⎢                               ⎥\n",
       "⎣s(c)⋅s(i)  s(c)⋅s(j)  d(c)⋅d(k)⎦"
      ]
     },
     "metadata": {},
     "output_type": "display_data"
    },
    {
     "data": {
      "text/plain": [
       "(None, None, None)"
      ]
     },
     "execution_count": 38,
     "metadata": {},
     "output_type": "execute_result"
    }
   ],
   "source": [
    "matrix_transform(M, 3)"
   ]
  },
  {
   "cell_type": "markdown",
   "metadata": {},
   "source": [
    "Change definition of matrix transform. Have to do each separately. (?) What if you don't have actual values for the electrons?"
   ]
  },
  {
   "cell_type": "code",
   "execution_count": 39,
   "metadata": {
    "scrolled": false
   },
   "outputs": [
    {
     "data": {
      "text/latex": [
       "$$\\left[\\begin{matrix}\\left[\\begin{matrix}d{\\left (a \\right )} d{\\left (i \\right )}\\\\d{\\left (b \\right )} d{\\left (i \\right )}\\\\d{\\left (c \\right )} d{\\left (i \\right )}\\end{matrix}\\right] & \\left[\\begin{matrix}s{\\left (a \\right )} s{\\left (j \\right )}\\\\s{\\left (b \\right )} s{\\left (j \\right )}\\\\s{\\left (c \\right )} s{\\left (j \\right )}\\end{matrix}\\right] & \\left[\\begin{matrix}s{\\left (a \\right )} s{\\left (k \\right )}\\\\s{\\left (b \\right )} s{\\left (k \\right )}\\\\s{\\left (c \\right )} s{\\left (k \\right )}\\end{matrix}\\right]\\end{matrix}\\right]$$"
      ],
      "text/plain": [
       "⎡⎡d(a)⋅d(i)⎤  ⎡s(a)⋅s(j)⎤  ⎡s(a)⋅s(k)⎤⎤\n",
       "⎢⎢         ⎥  ⎢         ⎥  ⎢         ⎥⎥\n",
       "⎢⎢d(b)⋅d(i)⎥  ⎢s(b)⋅s(j)⎥  ⎢s(b)⋅s(k)⎥⎥\n",
       "⎢⎢         ⎥  ⎢         ⎥  ⎢         ⎥⎥\n",
       "⎣⎣d(c)⋅d(i)⎦  ⎣s(c)⋅s(j)⎦  ⎣s(c)⋅s(k)⎦⎦"
      ]
     },
     "metadata": {},
     "output_type": "display_data"
    },
    {
     "data": {
      "text/latex": [
       "$$\\left[\\begin{matrix}\\left[\\begin{matrix}s{\\left (a \\right )} s{\\left (i \\right )}\\\\s{\\left (b \\right )} s{\\left (i \\right )}\\\\s{\\left (c \\right )} s{\\left (i \\right )}\\end{matrix}\\right] & \\left[\\begin{matrix}d{\\left (a \\right )} d{\\left (j \\right )}\\\\d{\\left (b \\right )} d{\\left (j \\right )}\\\\d{\\left (c \\right )} d{\\left (j \\right )}\\end{matrix}\\right] & \\left[\\begin{matrix}s{\\left (a \\right )} s{\\left (k \\right )}\\\\s{\\left (b \\right )} s{\\left (k \\right )}\\\\s{\\left (c \\right )} s{\\left (k \\right )}\\end{matrix}\\right]\\end{matrix}\\right]$$"
      ],
      "text/plain": [
       "⎡⎡s(a)⋅s(i)⎤  ⎡d(a)⋅d(j)⎤  ⎡s(a)⋅s(k)⎤⎤\n",
       "⎢⎢         ⎥  ⎢         ⎥  ⎢         ⎥⎥\n",
       "⎢⎢s(b)⋅s(i)⎥  ⎢d(b)⋅d(j)⎥  ⎢s(b)⋅s(k)⎥⎥\n",
       "⎢⎢         ⎥  ⎢         ⎥  ⎢         ⎥⎥\n",
       "⎣⎣s(c)⋅s(i)⎦  ⎣d(c)⋅d(j)⎦  ⎣s(c)⋅s(k)⎦⎦"
      ]
     },
     "metadata": {},
     "output_type": "display_data"
    },
    {
     "data": {
      "text/latex": [
       "$$\\left[\\begin{matrix}s{\\left (a \\right )} s{\\left (i \\right )} & s{\\left (a \\right )} s{\\left (j \\right )} & d{\\left (a \\right )} d{\\left (k \\right )}\\\\s{\\left (b \\right )} s{\\left (i \\right )} & s{\\left (b \\right )} s{\\left (j \\right )} & d{\\left (b \\right )} d{\\left (k \\right )}\\\\s{\\left (c \\right )} s{\\left (i \\right )} & s{\\left (c \\right )} s{\\left (j \\right )} & d{\\left (c \\right )} d{\\left (k \\right )}\\end{matrix}\\right]$$"
      ],
      "text/plain": [
       "⎡s(a)⋅s(i)  s(a)⋅s(j)  d(a)⋅d(k)⎤\n",
       "⎢                               ⎥\n",
       "⎢s(b)⋅s(i)  s(b)⋅s(j)  d(b)⋅d(k)⎥\n",
       "⎢                               ⎥\n",
       "⎣s(c)⋅s(i)  s(c)⋅s(j)  d(c)⋅d(k)⎦"
      ]
     },
     "metadata": {},
     "output_type": "display_data"
    },
    {
     "ename": "TypeError",
     "evalue": "Input to Determinant, (None, None, None), not a matrix",
     "output_type": "error",
     "traceback": [
      "\u001b[1;31m---------------------------------------------------------------------------\u001b[0m",
      "\u001b[1;31mTypeError\u001b[0m                                 Traceback (most recent call last)",
      "\u001b[1;32m<ipython-input-39-c68828fc7798>\u001b[0m in \u001b[0;36m<module>\u001b[1;34m\u001b[0m\n\u001b[1;32m----> 1\u001b[1;33m \u001b[0mdet\u001b[0m\u001b[1;33m(\u001b[0m\u001b[0mmatrix_transform\u001b[0m\u001b[1;33m(\u001b[0m\u001b[0mM\u001b[0m\u001b[1;33m,\u001b[0m \u001b[1;36m3\u001b[0m\u001b[1;33m)\u001b[0m\u001b[1;33m)\u001b[0m\u001b[1;33m\u001b[0m\u001b[1;33m\u001b[0m\u001b[0m\n\u001b[0m",
      "\u001b[1;32m~\\Anaconda3\\lib\\site-packages\\sympy\\matrices\\expressions\\determinant.py\u001b[0m in \u001b[0;36mdet\u001b[1;34m(matexpr)\u001b[0m\n\u001b[0;32m     51\u001b[0m     \"\"\"\n\u001b[0;32m     52\u001b[0m \u001b[1;33m\u001b[0m\u001b[0m\n\u001b[1;32m---> 53\u001b[1;33m     \u001b[1;32mreturn\u001b[0m \u001b[0mDeterminant\u001b[0m\u001b[1;33m(\u001b[0m\u001b[0mmatexpr\u001b[0m\u001b[1;33m)\u001b[0m\u001b[1;33m.\u001b[0m\u001b[0mdoit\u001b[0m\u001b[1;33m(\u001b[0m\u001b[1;33m)\u001b[0m\u001b[1;33m\u001b[0m\u001b[1;33m\u001b[0m\u001b[0m\n\u001b[0m\u001b[0;32m     54\u001b[0m \u001b[1;33m\u001b[0m\u001b[0m\n\u001b[0;32m     55\u001b[0m \u001b[1;33m\u001b[0m\u001b[0m\n",
      "\u001b[1;32m~\\Anaconda3\\lib\\site-packages\\sympy\\matrices\\expressions\\determinant.py\u001b[0m in \u001b[0;36m__new__\u001b[1;34m(cls, mat)\u001b[0m\n\u001b[0;32m     22\u001b[0m         \u001b[0mmat\u001b[0m \u001b[1;33m=\u001b[0m \u001b[0msympify\u001b[0m\u001b[1;33m(\u001b[0m\u001b[0mmat\u001b[0m\u001b[1;33m)\u001b[0m\u001b[1;33m\u001b[0m\u001b[1;33m\u001b[0m\u001b[0m\n\u001b[0;32m     23\u001b[0m         \u001b[1;32mif\u001b[0m \u001b[1;32mnot\u001b[0m \u001b[0mmat\u001b[0m\u001b[1;33m.\u001b[0m\u001b[0mis_Matrix\u001b[0m\u001b[1;33m:\u001b[0m\u001b[1;33m\u001b[0m\u001b[1;33m\u001b[0m\u001b[0m\n\u001b[1;32m---> 24\u001b[1;33m             \u001b[1;32mraise\u001b[0m \u001b[0mTypeError\u001b[0m\u001b[1;33m(\u001b[0m\u001b[1;34m\"Input to Determinant, %s, not a matrix\"\u001b[0m \u001b[1;33m%\u001b[0m \u001b[0mstr\u001b[0m\u001b[1;33m(\u001b[0m\u001b[0mmat\u001b[0m\u001b[1;33m)\u001b[0m\u001b[1;33m)\u001b[0m\u001b[1;33m\u001b[0m\u001b[1;33m\u001b[0m\u001b[0m\n\u001b[0m\u001b[0;32m     25\u001b[0m \u001b[1;33m\u001b[0m\u001b[0m\n\u001b[0;32m     26\u001b[0m         \u001b[1;32mif\u001b[0m \u001b[1;32mnot\u001b[0m \u001b[0mmat\u001b[0m\u001b[1;33m.\u001b[0m\u001b[0mis_square\u001b[0m\u001b[1;33m:\u001b[0m\u001b[1;33m\u001b[0m\u001b[1;33m\u001b[0m\u001b[0m\n",
      "\u001b[1;31mTypeError\u001b[0m: Input to Determinant, (None, None, None), not a matrix"
     ]
    }
   ],
   "source": [
    "det(matrix_transform(M, 3))"
   ]
  },
  {
   "cell_type": "code",
   "execution_count": null,
   "metadata": {},
   "outputs": [],
   "source": []
  }
 ],
 "metadata": {
  "kernelspec": {
   "display_name": "Python 3",
   "language": "python",
   "name": "python3"
  },
  "language_info": {
   "codemirror_mode": {
    "name": "ipython",
    "version": 3
   },
   "file_extension": ".py",
   "mimetype": "text/x-python",
   "name": "python",
   "nbconvert_exporter": "python",
   "pygments_lexer": "ipython3",
   "version": "3.7.1"
  }
 },
 "nbformat": 4,
 "nbformat_minor": 2
}
