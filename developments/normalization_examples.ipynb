<<<<<<< HEAD
{
 "cells": [
  {
   "cell_type": "code",
   "execution_count": 1,
   "metadata": {},
   "outputs": [],
   "source": [
    "from Pysces import *"
   ]
  },
  {
   "cell_type": "markdown",
   "metadata": {},
   "source": [
    "The conjugate() function will give us the complex conjugate of the wavefunction\n",
    "\n",
    "The normalize_constant() function will give us the normalization constant, as defined in the general notation."
   ]
  },
  {
   "cell_type": "markdown",
   "metadata": {},
   "source": [
    "# Let's take some wavefunctions from Homework 2:\n"
   ]
  },
  {
   "cell_type": "code",
   "execution_count": 2,
   "metadata": {},
   "outputs": [
    {
     "data": {
      "image/png": "iVBORw0KGgoAAAANSUhEUgAAABgAAAAUCAYAAACXtf2DAAAABHNCSVQICAgIfAhkiAAAATRJREFUOI3t1D0oRnEUBvDf66XMYlIMJhLlIwsLkplYZbHZDGKxWSklmUxKBossFoXJgkEyK/QmKcpHGO5f3d7ee329xeCp27n/c57znHPuPffyxzGEB9TGfPM4Q1UxCmRwgOVwnsAl6ooh/o4+PGESt2grpvg79vGM/s8mDGILOTyKnukUsgW43bjDC1o+Es5iFa9BdBFzOA2+lTx+M24wgo3QVCoWgtAsSmP+MuyFWEPw1eIc0+HcFKboShLvCISNhPhYKDCKCpxgKY+zht24I97luGjt7jFToEBjsBlco74AZzipe7gKHX509aaJJKE8JO98JzkNJcFmgq0sdoE4DkVTDCTEOxX+DlKRid33YVP04rdxJJqwGq2iVa35aoF8tGMdF6L/Sw7HonXs+an4P34HbzoIQlPXF1sbAAAAAElFTkSuQmCC\n",
      "text/latex": [
       "$$e^{x}$$"
      ],
      "text/plain": [
       " x\n",
       "ℯ "
      ]
     },
     "execution_count": 2,
     "metadata": {},
     "output_type": "execute_result"
    }
   ],
   "source": [
    "exp(x)"
   ]
  },
  {
   "cell_type": "markdown",
   "metadata": {},
   "source": [
    "Let's look at what the parameters of the normalize_constant() mean:\n",
    "\n",
    "    wavefunc: The WaveFunction/expression of interest\n",
    "    var: What the integral is taken with respect to\n",
    "    lower: The lower bound of the integral. If bounds are not listed, this is -oo\n",
    "    upper: The upper bound of the integral. If bounds are not listed, this is oo\n",
    "    \n",
    "This looks like:\n",
    "\n",
    "normalize_constant(wavefunc, var, lower, upper)\n",
    "\n",
    "Note that in sympy notation, two \"o\"s (oo) represents infinity. If a bound is not given, integrate from (-oo, oo)"
   ]
  },
  {
   "cell_type": "code",
   "execution_count": 3,
   "metadata": {
    "scrolled": true
   },
   "outputs": [
    {
     "data": {
      "image/png": "iVBORw0KGgoAAAANSUhEUgAAAB8AAAAbCAYAAACEP1QvAAAABHNCSVQICAgIfAhkiAAAAYtJREFUSInt1T9IllEUx/FPaoWgg70RDa0GbTUaTkkFQlN/VgcbjCAChyYhcGjQyf5AS7TYFDRZNAQN0RQ0iIgSKA0NgpgSBKbYcK/wou/z8Jx644XqC5fncjjn/M6993Ae/lUOBP27sfEnCqnCFVxslfgDHGpWsraAb3tem60QP4v3zRKOcg+1ZiaMnLyG1VaI92Khgb2G63iBT/iOdbzDcCB/KaM42cA+gh18wbT0NE/wNdufi8+SfTwusJ/DJftPeByfcwGXi5K21+3bMI7D0hXucgRn8KZB/BIWs0g939CJAazgVSPx+oovoA9X9/gM4mVR9SX8yN+tqgGnpUrri3oo3jgdmJVuJDSOl9Gf9wcxFRSGySw8Ew2cwkTen1fSMAXcysLzUr+EGJCaSC6iKxB7MwvPSR0fpgNrOIVHgbjbWXgWx35FeJdpPMONiv53svBHHP0dYbiWk52o4DuWfT8IvnHR6OvGa+k3WsYQnmIb96W5vpfl7BOip4LPXenUZettVPg/fy8/AX1zTYGyZhh0AAAAAElFTkSuQmCC\n",
      "text/latex": [
       "$$\\sqrt{2}$$"
      ],
      "text/plain": [
       "√2"
      ]
     },
     "execution_count": 3,
     "metadata": {},
     "output_type": "execute_result"
    }
   ],
   "source": [
    "normalize_constant(exp(x), x, -oo, 0)"
   ]
  },
  {
   "cell_type": "markdown",
   "metadata": {},
   "source": [
    "Again, this is the normalization constant. To get the normalized wavefunction, simply multiply the calculated normalization constant by the original wavefunction:"
   ]
  },
  {
   "cell_type": "code",
   "execution_count": 4,
   "metadata": {},
   "outputs": [
    {
     "data": {
      "image/png": "iVBORw0KGgoAAAANSUhEUgAAADUAAAAbCAYAAADcQMc2AAAABHNCSVQICAgIfAhkiAAAAm5JREFUWIXt11uITVEcx/EPc4gyD64pMg+iSMglpVEaGuNByu2JJBKJ1BCR8iDzQLkNQokHlJRJSYqi8KSE5DIepIhpyqWQu4e1NOM4Z5+zx4xDzbd2Z+//+v3X/7/2Wuu/9qGT/4MuKfXleFvC+B3CPMwodRLtTT26lzqJQnRNoS2L16cOyqXdSDOoybjRUYmUijr0LXUSmI+PqGhl24NG9E/b2eF2SupP6YKbOBKf1+ElhqbtaBhqc9j7YhnO4jE+4A2uYal0yzsN1fiMjcIRM6EtndRieA77CnzHc5wQluhRvI72MzruLLqBL6hpaweH8tirMMvvMzIQT4WBzW1r0ASq8A7fMC5J2BXbMDPL3gfb2xB4kzCofUVo5+ICmoUjozH6l+XQjhFWwmI0RL+81OCysHxasxCVRSSWzXphULsSNGU4FXWNOIjdeBhtx7P0FXiGzfF5tDBbU5ISGYsmvy6n/dJv+AzuxsSSPqvqo6Yu+vykG67HtpHR1gf3/b4VTguFKZEnWmamG/YWcsjBzpjQ+QTNJOEtN+RpXx77WJI2eCaH7RxmC6Ofiqsp+1wjVMsHWJSgWy1UxvfYmqN9VPxtl+o5DY/i/Q70SuG7Sni794QKmERT1Ba6pqeIn5cMXmEEDqTwWxuTuIsBBbQ9ojbtKvgjTuAkVhap3yAkeQv9itD31DKjf40FMejgIrRbovamUKGK5Xb0m5OnvVLuc6og+TZhOS4KfzeSWIxj+Cocsm9yaJ5ETTbVQnXM4BLuCEfHIIwXKu+QAvFT07sIzVaFN/qVBP+JwvfhC+EDtVnYk4eEgtVJJ538A/wA94GMDbZVK98AAAAASUVORK5CYII=\n",
      "text/latex": [
       "$$\\sqrt{2} e^{x}$$"
      ],
      "text/plain": [
       "    x\n",
       "√2⋅ℯ "
      ]
     },
     "execution_count": 4,
     "metadata": {},
     "output_type": "execute_result"
    }
   ],
   "source": [
    "normalize_constant(exp(x), x, -oo, 0)*(exp(x))"
   ]
  },
  {
   "cell_type": "markdown",
   "metadata": {},
   "source": [
    "Let's try another example over the integral (0,1)\n",
    "\n",
    "This time let's define the function as psi for simplicity:"
   ]
  },
  {
   "cell_type": "code",
   "execution_count": 5,
   "metadata": {},
   "outputs": [],
   "source": [
    "psi = a*x*(x-1)"
   ]
  },
  {
   "cell_type": "code",
   "execution_count": 6,
   "metadata": {
    "scrolled": true
   },
   "outputs": [
    {
     "data": {
      "image/png": "iVBORw0KGgoAAAANSUhEUgAAAF4AAAAvCAYAAABqrH0KAAAABHNCSVQICAgIfAhkiAAABKBJREFUeJzt22uIVVUUwPHfpPnoXWNPMKMyipxRYoKeIiap9UGy0vqglSiRGkVICJEWFRPUh4wkSgqTIok+JH2IHkRPQ9KojLL3w0pTswcTlFn2YZ1hzpy599y53hnvdTp/ODjn7LXWXnc/1t7n7CUFdaGpFzJ7GsCH/yUL6+3AQOSACuWD8Pe+cKSgO+PRUm8nBiKVRnwLNu4LR2rkSPyEU+rtSIZnccveKM7P3C/Ah/g9ud7BpWX0vsaf2IAL96byKrgPT/RzHVnG43n8KDYgV5SQacVOHF6N4dNwUebZNFyC0Un5PWINaE3JzEyezcMZeBAdOLGayqvgIPyq/zs3y1TcjenKNzwx8BbkGZqt++idhwN74cBOXJ+6X4cVGZnP0V5Gf4mYRR3YjscxLCm7En9hVEp+WWLv6JTMTt23pb3R60vyGn4p3i6nOBRT8FTqWTbMZBmEq7FL1wI8BLvFD0+zHK+XsNGEO3G+aKRJ+AGLU+XrdXXkIj1j+TK8XMJuJb2+JK/hp4g2Gp5n4C0MRjNmlJFpEaNzN34RoaeTExInxmd0luDTvIpTPIqVqfuLRehaLNaVtoz8GqXjeyW9viSv4VuT8txOb8dEXIUjysgMwanih7RjB8YkZZ0Nn423S7GphK2RYg3YKMJFh2isuzJya0VHTylh40U8UsbXPL1O7kh8zrsm5OiT3/Cjk/Ix6YeDM0JrRPjYJBasUuzCF8nf63E2bsZc0Qn/4LiMzjFiqqdpxrt4Q4SC7/Fv8uyDlNxEjBVb320l/NkhtpNZKul18hBW55TDdxXK8zgq+Xd7nlCTWBznVGH4VTyZul8nwkWaz/RcXGeLzk0vitfqPi3HJjLX4Dm8UKL+Rfgo86w3en1J3oifK9atiqzAyWXK7hVh5CQR69vFKJ2akpkpZsVcsZ18QISQ9A6D2EHtxmUidN2ILbo6Y1Ti8G2JfGtSVzaMtYhZNiK5761erRyCccm1RwyAcXpum1fhsd4YbM4pW4lvxVZtG17B5BJy8/FNIrdBz8WWaNzlYuHbJmL9/XhNTM9P9Izdz4gNQJa14mNetXq1MEHp9WBlSma4+H3n9HHdDcNkEc4G1duRDAvxUqmCRnN0b/lSzKAt+K3OvqQZh4fxc70dKSgoKCjYd3S+vPT3gXZBQUFBAzNM+TfEWq+6kv062WhMEi9FAy7pqVKWQb05C+/V24n+oJEbvkmDhIX+oJEbvk0ctFTLSPGF82NxoDK9D336X3CrOISvluPFQQhx8rVZpIA0FI084oeJ7/nVskXX0eE2cSA/orx4fWjUhh8lDlJqpU3kBm3uA1sDjsPEMWGaG9Q+SptFnD+vRjsDljnYqns8v71Gm0NF9sKsGu0MeFbpSow6FDflyOal/BHb0KdFvkxBBS7XdUA9A6eXkauU8gcXiKyC91NXkeNfhoPxlWjYasNMNuVvv6BRdjV/iIXwXJFrU45SKX/XKXYtNTEPbyqdg0PsUraKHJnJOFMkTHUon8VV0AuOFS885VJOepPyV7CXTMspq5Tyt1+xPzncJDJ7Z4n/W7Va5Gi2qZxGXVBQUFBQsM/4D7lYJJ4eGhwsAAAAAElFTkSuQmCC\n",
      "text/latex": [
       "$$\\frac{\\sqrt{30} a x \\left(x - 1\\right)}{\\sqrt{a^{2}}}$$"
      ],
      "text/plain": [
       "√30⋅a⋅x⋅(x - 1)\n",
       "───────────────\n",
       "       ____    \n",
       "      ╱  2     \n",
       "    ╲╱  a      "
      ]
     },
     "execution_count": 6,
     "metadata": {},
     "output_type": "execute_result"
    }
   ],
   "source": [
    "normalize_constant(psi, x, 0, 1)*(psi)"
   ]
  },
  {
   "cell_type": "markdown",
   "metadata": {},
   "source": [
    "The same can be done with problems involving complex numbers:"
   ]
  },
  {
   "cell_type": "code",
   "execution_count": 7,
   "metadata": {},
   "outputs": [
    {
     "data": {
      "image/png": "iVBORw0KGgoAAAANSUhEUgAAAD8AAAAdCAYAAAAdO7TiAAAABHNCSVQICAgIfAhkiAAAAwpJREFUWIXt2F+oVFUUx/HPneuVWyaiFT4kSkQ3sijJRCyT/nEzKILUoJCil/RFgvQhkqCH0AcRTE2xIIseim6QBP2DCoLKFx/sn1K+CBKYXEjKQu2WPawt9zjMmX3mzjjz4P3CMOfsvc5av9l7n7X2Hia5NOnrtYAWmY4/ei2iV6zEA70WUeRVvN+lWDsxtUuxKjETV3QhTj92d9phu5zG2Q74ybEUf+L7LsSqxBycww3pfhXOYF7B5hUcwdVtxtqMK9v00VEewl+opfs+HMDr6X4DfsN1HYj1Wgd8dJSN2F/XNox/8LwoS7eXPDsb/2J7hTjXY33G5kuxCu+q4K8jjGichL7FGJY3efYZIfaeCnHWY6hJfx9OisHsRvIFv2BNXdu94lX4D7c1efYTjKqWdPdk+ofEQB6q4CvLCuPizoqE9YILhU4TI7240HarmIGnsC/5aMQMkRj3FtpqeBkP1tnOwqaM3sfFj387Y9eUfryTHB0RS3obfk5tbxVsl4gff3m6n4dfRR6AW8TsN3oHn0j+Hi60LccXeKPOdrUoc83Ymvw9m7Frys7kZDOmFNoH8E3qm5/a1uJwup6VruuX53v4ukGcEZzCYF37ApwwXj2IHWRNc75K2u7M2JWyWMzUvpL+8wnq6YkGSAyKzcpISf9R4zM9IF8NaqKqjIlXsTLF2V0nsubfeKmB7c3pu92T4LDIyB+U9H+IR8SKuVvMajOGxGnvJ5FoJ8QJMbO5z/0TDZDYK5LdjJL++0QVgS3ypWt10vXmRAUNJge5UW6XflFByqoAsRp/x43YVcHnNqF9XatiittSuKpVBy2yTOzPy5Y88e5+jBfxQwWfC9P3gXaEfSdG8NGS/qXaPwXuEOVxdsbusaRlTsauJqrGGC5rVUwxeQ3jI7HsPhdHxxquEaM7gLmtBqjjmMjmuf33dHyGOzJ2N+FHkejeLbEZFeeMLIvEvzLHxeFkVCy9PSIRtcMiMZvPVbSfWcHmSfkE/WnLSi8Cm4SYa3stpBccxsFei5hkkkkuXf4HLZCmEiZwM7gAAAAASUVORK5CYII=\n",
      "text/latex": [
       "$$\\frac{e^{i x}}{\\sqrt{L}}$$"
      ],
      "text/plain": [
       " ⅈ⋅x\n",
       "ℯ   \n",
       "────\n",
       " √L "
      ]
     },
     "execution_count": 7,
     "metadata": {},
     "output_type": "execute_result"
    }
   ],
   "source": [
    "psi = exp(I*x)\n",
    "\n",
    "normalize_constant((psi), x, 0, L).doit()*(psi)"
   ]
  },
  {
   "cell_type": "markdown",
   "metadata": {},
   "source": [
    "Let's look at the fixed gaussian wavefunction, which is called using the fixed_gaussian() function.\n",
    "\n",
    "This function has three variables:\n",
    "\n",
    "    alpha:alpha parameter of the gaussian\n",
    "    x_0: x_0 parameter of the gaussian\n",
    "    p: p parameter of the gaussian\n",
    "\n",
    "And can be written as:\n",
    "\n",
    "fixed_gaussian(alpha, x_0, p)"
   ]
  },
  {
   "cell_type": "code",
   "execution_count": 8,
   "metadata": {
    "scrolled": true
   },
   "outputs": [
    {
     "data": {
      "text/latex": [
       "$$\\begin{cases} \\frac{1}{\\sqrt{\\frac{\\sqrt{\\pi} \\left(- \\operatorname{erfc}{\\left (\\sqrt{\\alpha} x_{0} \\right )} + 2\\right)}{2 \\sqrt{\\alpha}} + \\frac{\\sqrt{\\pi} \\operatorname{erfc}{\\left (\\sqrt{\\alpha} x_{0} \\right )}}{2 \\sqrt{\\alpha}}}} & \\text{for}\\: \\left(\\left(\\frac{\\pi}{2} \\geq \\left|{\\arg{\\left (\\alpha \\right )}}\\right| \\wedge \\pi > \\left|{2 \\arg{\\left (\\alpha \\right )} + 2 \\arg{\\left (x_{0} \\right )}}\\right|\\right) \\vee \\left(\\pi \\geq \\left|{2 \\arg{\\left (\\alpha \\right )} + 2 \\arg{\\left (x_{0} \\right )}}\\right| \\wedge \\frac{\\pi}{2} > \\left|{\\arg{\\left (\\alpha \\right )}}\\right|\\right) \\vee \\left(\\frac{\\pi}{2} > \\left|{\\arg{\\left (\\alpha \\right )}}\\right| \\wedge \\pi > \\left|{2 \\arg{\\left (\\alpha \\right )} + 2 \\arg{\\left (x_{0} \\right )}}\\right|\\right) \\vee \\frac{\\pi}{2} > \\left|{\\arg{\\left (\\alpha \\right )}}\\right|\\right) \\wedge \\left(\\left(\\frac{\\pi}{2} \\geq \\left|{\\arg{\\left (\\alpha \\right )}}\\right| \\wedge \\pi > \\left|{2 \\arg{\\left (\\alpha \\right )} + 2 \\arg{\\left (x_{0} \\right )} + 2 \\pi}\\right|\\right) \\vee \\left(\\pi \\geq \\left|{2 \\arg{\\left (\\alpha \\right )} + 2 \\arg{\\left (x_{0} \\right )} + 2 \\pi}\\right| \\wedge \\frac{\\pi}{2} > \\left|{\\arg{\\left (\\alpha \\right )}}\\right|\\right) \\vee \\left(\\frac{\\pi}{2} > \\left|{\\arg{\\left (\\alpha \\right )}}\\right| \\wedge \\pi > \\left|{2 \\arg{\\left (\\alpha \\right )} + 2 \\arg{\\left (x_{0} \\right )} + 2 \\pi}\\right|\\right) \\vee \\frac{\\pi}{2} > \\left|{\\arg{\\left (\\alpha \\right )}}\\right|\\right) \\\\\\frac{1}{\\sqrt{\\int_{-\\infty}^{\\infty} e^{- \\alpha \\left(x - x_{0}\\right)^{2}}\\, dx}} & \\text{otherwise} \\end{cases}$$"
      ],
      "text/plain": [
       "⎧                     1                            ⎛⎛π                        \n",
       "⎪────────────────────────────────────────────  for ⎜⎜─ ≥ │arg(α)│ ∧ π > │2⋅arg\n",
       "⎪    ________________________________________      ⎝⎝2                        \n",
       "⎪   ╱ √π⋅(-erfc(√α⋅x₀) + 2)   √π⋅erfc(√α⋅x₀)                                  \n",
       "⎪  ╱  ───────────────────── + ──────────────                                  \n",
       "⎪╲╱            2⋅√α                2⋅√α                                       \n",
       "⎪                                                                             \n",
       "⎪                     1                                                       \n",
       "⎨       ─────────────────────────────                                         \n",
       "⎪               _____________________                                         \n",
       "⎪              ╱ ∞                                                            \n",
       "⎪             ╱  ⌠                                                            \n",
       "⎪            ╱   ⎮              2                                             \n",
       "⎪           ╱    ⎮   -α⋅(x - x₀)                                              \n",
       "⎪          ╱     ⎮  ℯ             dx                                          \n",
       "⎪         ╱      ⌡                                                            \n",
       "⎩       ╲╱       -∞                                                           \n",
       "\n",
       "                ⎞   ⎛                             π           ⎞   ⎛π          \n",
       "(α) + 2⋅arg(x₀)│⎟ ∨ ⎜π ≥ │2⋅arg(α) + 2⋅arg(x₀)│ ∧ ─ > │arg(α)│⎟ ∨ ⎜─ > │arg(α)\n",
       "                ⎠   ⎝                             2           ⎠   ⎝2          \n",
       "                                                                              \n",
       "                                                                              \n",
       "                                                                              \n",
       "                                                                              \n",
       "                                                                              \n",
       "                                                                              \n",
       "                                                                              \n",
       "                                                                              \n",
       "                                                                              \n",
       "                                                                              \n",
       "                                                                              \n",
       "                                                                              \n",
       "                                                                              \n",
       "                                                                              \n",
       "\n",
       "                              ⎞   π           ⎞   ⎛⎛π                         \n",
       "│ ∧ π > │2⋅arg(α) + 2⋅arg(x₀)│⎟ ∨ ─ > │arg(α)│⎟ ∧ ⎜⎜─ ≥ │arg(α)│ ∧ π > │2⋅arg(\n",
       "                              ⎠   2           ⎠   ⎝⎝2                         \n",
       "                                                                              \n",
       "                                                                              \n",
       "                                                                              \n",
       "                                                                              \n",
       "                                                                              \n",
       "                                                   otherwise                  \n",
       "                                                                              \n",
       "                                                                              \n",
       "                                                                              \n",
       "                                                                              \n",
       "                                                                              \n",
       "                                                                              \n",
       "                                                                              \n",
       "                                                                              \n",
       "\n",
       "                     ⎞   ⎛                                   π           ⎞   ⎛\n",
       "α) + 2⋅arg(x₀) + 2⋅π│⎟ ∨ ⎜π ≥ │2⋅arg(α) + 2⋅arg(x₀) + 2⋅π│ ∧ ─ > │arg(α)│⎟ ∨ ⎜\n",
       "                     ⎠   ⎝                                   2           ⎠   ⎝\n",
       "                                                                              \n",
       "                                                                              \n",
       "                                                                              \n",
       "                                                                              \n",
       "                                                                              \n",
       "                                                                              \n",
       "                                                                              \n",
       "                                                                              \n",
       "                                                                              \n",
       "                                                                              \n",
       "                                                                              \n",
       "                                                                              \n",
       "                                                                              \n",
       "                                                                              \n",
       "\n",
       "π                                              ⎞   π           ⎞\n",
       "─ > │arg(α)│ ∧ π > │2⋅arg(α) + 2⋅arg(x₀) + 2⋅π│⎟ ∨ ─ > │arg(α)│⎟\n",
       "2                                              ⎠   2           ⎠\n",
       "                                                                \n",
       "                                                                \n",
       "                                                                \n",
       "                                                                \n",
       "                                                                \n",
       "                                                                \n",
       "                                                                \n",
       "                                                                \n",
       "                                                                \n",
       "                                                                \n",
       "                                                                \n",
       "                                                                \n",
       "                                                                \n",
       "                                                                "
      ]
     },
     "execution_count": 8,
     "metadata": {},
     "output_type": "execute_result"
    }
   ],
   "source": [
    "alpha, x_0, p = symbols(\"alpha, x_0, p\")\n",
    "\n",
    "FG = fixed_gaussian(alpha, x_0, p)\n",
    "\n",
    "normalize_constant(FG, x, -oo, oo)"
   ]
  },
  {
   "cell_type": "markdown",
   "metadata": {},
   "source": [
    "The above looks quite complicated, and so the \"simplify()\" function can be used:"
   ]
  },
  {
   "cell_type": "code",
   "execution_count": 9,
   "metadata": {},
   "outputs": [
    {
     "data": {
      "text/latex": [
       "$$\\begin{cases} \\frac{\\sqrt[4]{\\alpha}}{\\sqrt[4]{\\pi}} & \\text{for}\\: \\left(\\frac{\\pi}{2} \\geq \\left|{\\arg{\\left (\\alpha \\right )}}\\right| \\wedge \\pi > \\left|{2 \\arg{\\left (\\alpha \\right )} + 2 \\arg{\\left (x_{0} \\right )}}\\right| \\wedge \\pi > \\left|{2 \\arg{\\left (\\alpha \\right )} + 2 \\arg{\\left (x_{0} \\right )} + 2 \\pi}\\right|\\right) \\vee \\frac{\\pi}{2} > \\left|{\\arg{\\left (\\alpha \\right )}}\\right| \\\\\\frac{1}{\\sqrt{\\int_{-\\infty}^{\\infty} e^{- \\alpha \\left(x - x_{0}\\right)^{2}}\\, dx}} & \\text{otherwise} \\end{cases}$$"
      ],
      "text/plain": [
       "⎧            4 ___                                                            \n",
       "⎪            ╲╱ α                   ⎛π                                        \n",
       "⎪            ─────              for ⎜─ ≥ │arg(α)│ ∧ π > │2⋅arg(α) + 2⋅arg(x₀)│\n",
       "⎪            4 ___                  ⎝2                                        \n",
       "⎪            ╲╱ π                                                             \n",
       "⎪                                                                             \n",
       "⎪              1                                                              \n",
       "⎪─────────────────────────────                                              ot\n",
       "⎨        _____________________                                                \n",
       "⎪       ╱ ∞                                                                   \n",
       "⎪      ╱  ⌠                                                                   \n",
       "⎪     ╱   ⎮              2                                                    \n",
       "⎪    ╱    ⎮   -α⋅(x - x₀)                                                     \n",
       "⎪   ╱     ⎮  ℯ             dx                                                 \n",
       "⎪  ╱      ⌡                                                                   \n",
       "⎪╲╱       -∞                                                                  \n",
       "⎩                                                                             \n",
       "\n",
       "                                                   \n",
       "                                   ⎞   π           \n",
       " ∧ π > │2⋅arg(α) + 2⋅arg(x₀) + 2⋅π│⎟ ∨ ─ > │arg(α)│\n",
       "                                   ⎠   2           \n",
       "                                                   \n",
       "                                                   \n",
       "                                                   \n",
       "herwise                                            \n",
       "                                                   \n",
       "                                                   \n",
       "                                                   \n",
       "                                                   \n",
       "                                                   \n",
       "                                                   \n",
       "                                                   \n",
       "                                                   \n",
       "                                                   "
      ]
     },
     "execution_count": 9,
     "metadata": {},
     "output_type": "execute_result"
    }
   ],
   "source": [
    "ANS = normalize_constant(FG, x, -oo, oo)\n",
    "\n",
    "simplify(ANS)"
   ]
  },
  {
   "cell_type": "markdown",
   "metadata": {},
   "source": [
    "This is a bit simpler, and it is important to note that the bottom value in the piecewise function is the unsolved normalization constant. Therefore, we can use the top value as the correct constant. We can then multiply this once more by the original function to give the normalized wavefunction:"
   ]
  },
  {
   "cell_type": "code",
   "execution_count": 10,
   "metadata": {},
   "outputs": [
    {
     "data": {
      "image/png": "iVBORw0KGgoAAAANSUhEUgAAAG0AAAAlCAYAAABI82dXAAAABHNCSVQICAgIfAhkiAAABJBJREFUaIHt2muIVVUUwPGfVlqmpY1EMzqFmqKQOZaa+aAg0qzsRUUQZBgVRSVEHzKiAim/R0lPo6AsKqSiPvTQDBQiJ0Yzw5K0TMWCMooUI+3DOpfZ3rl3vHced2ac84fD2fuc/Tpr7b3XPnsvco57rsQ2/IB7y6RpxOfYik24IXm3E5vRgrXd1cgSDMVnGFDDOlPq8FEWXoCXsBqXFaV7E3OVl1/VnCiU1YghWaH1JdLVY0oWPhO7svSE0oZ2phEdZAnu7oF6U17ExUl8OJ5P4gPRrH35Vc0svJfEn8SdFeTbjLOz8E7dq7SpWIftQklvCyF8ibOSdOsxMwu/gIc6WF815VyNp5P4clyQxKdnZRSTyq9qbsQzSfwePHGMPNPwndZpaYfoTV/h1o42pAxD8D0mYKTooSswCD8Vpb0C7+MBvNKJOqsppwEbs/AyXF70/lEh45Ri+VXNTdoq7fF20teJKXRW8qwhu9fjW0yusg1bylwNuBYvJ2kPYUz2blOJspqF7RhUZT3VlJNyEnZjsbDpz+Gu5P1ajEjipeSHsFOVslvYswKjxXRXisHC0C7HhuT5nuy+VxjmC/FNFW04r513U/B1Fp4khLlDCGJwUdrpOEN806Eq6zlWOcNE5z6Md/Bh9nwwDmJldqUMEzbtjyRtKfmVbcQaHBCLjjm4GV8IBW8XijtF9IJSPW8AVmk7dZ6aNY6wa81ZfSmj8Tp+x368K4xxJSwVdnaAEFZz8u5HrR10lBh5Y8U03VRh+cWUK+c2zM/Cq5L0TfigTFnXaZVXOfmV5CKhrKUYn2VckzXskizNQmE3tuP+ovwt2X2O6GUtyTU5+7iWrLwtYkWXMhb7RO+alH3kOqGASmgUI20bbhdL/AezdysxW3S2Dcn3XC86RrW0V85SrSP1jSTPEuV/k1ZoXVmWk19J1ov/hAJX4T98UsFHdAUf46miZ/O1ThmdYYajl9fdySLMy8LpSFvjaJuVshEnVFvRKBzBpcmzedmzmaUydDHnZHX9g7+T64AYfV3BYrX5uT4Nr4of6IXZszoxBXYpBQWlP3FLxDRWC64RNuzcEldjO/n6JQXjPEzMo4ez+Olibt5do3b8KxYn+/BXjers84wVI20ZJopVTjP+FL29uxmB38SOy1SMEz+fz+q5/cI+wSNCcAfFsnu4WCHtrVH904Sx3i9GWwserlHdOTk5OTk5OT1AYWV2pEdbkdMvOZYbRG90gejXVOIG0RtdIDrMwJ5uQBcwQyhql9i7XC2O9lP2aj0I/VVsQo+sVQO7muNBaQ1CYQV+ERvg5ZgmTpELeY6II6DucIHoFqo5ue6tlNrmKrewqsNruCNJM1ucqNfjU2HfqjlNrzl9YaRtFQIudT2mtBvEHm2pxgUip5NMEApaINzgGsQ52yKcrDI3iM64QOR0gLniyKiwwpsolDguSVPODaKzLhA5HeQ+oYwCt4hTgH57ZNMXbNr5jvZbbBKjot/u4vQVpW1O4k1F8X5Hb1faQOGOlippDH7umebkVMJ4bRcdbwk3iPklc+Tk5OTk5OT0Gf4HZG8iNfagISQAAAAASUVORK5CYII=\n",
      "text/latex": [
       "$$\\frac{\\alpha^{0.25} e^{- \\frac{\\alpha \\left(x - x_{0}\\right)^{2}}{2}}}{\\pi^{0.25}}$$"
      ],
      "text/plain": [
       "                         2 \n",
       "              -α⋅(x - x₀)  \n",
       "              ─────────────\n",
       " 0.25  -0.25        2      \n",
       "α    ⋅π     ⋅ℯ             "
      ]
     },
     "execution_count": 10,
     "metadata": {},
     "output_type": "execute_result"
    }
   ],
   "source": [
    "(alpha**(1/4)/pi**(1/4))*FG"
   ]
  },
  {
   "cell_type": "code",
   "execution_count": null,
   "metadata": {},
   "outputs": [],
   "source": []
  }
 ],
 "metadata": {
  "kernelspec": {
   "display_name": "Python 3",
   "language": "python",
   "name": "python3"
  },
  "language_info": {
   "codemirror_mode": {
    "name": "ipython",
    "version": 3
   },
   "file_extension": ".py",
   "mimetype": "text/x-python",
   "name": "python",
   "nbconvert_exporter": "python",
   "pygments_lexer": "ipython3",
   "version": "3.7.1"
  }
 },
 "nbformat": 4,
 "nbformat_minor": 2
}
=======
{
 "cells": [
  {
   "cell_type": "code",
   "execution_count": 1,
   "metadata": {},
   "outputs": [],
   "source": [
    "from pysces import *"
   ]
  },
  {
   "cell_type": "markdown",
   "metadata": {},
   "source": [
    "The `normalization_constant` function will give us the normalization constant, as defined in the general notation."
   ]
  },
  {
   "cell_type": "markdown",
   "metadata": {},
   "source": [
    "# Let's take some simple wavefunctions:\n"
   ]
  },
  {
   "cell_type": "code",
   "execution_count": 2,
   "metadata": {},
   "outputs": [
    {
     "data": {
      "image/png": "iVBORw0KGgoAAAANSUhEUgAAABgAAAAUCAYAAACXtf2DAAABaUlEQVR4nOXUPUjVYRTH8c9Vg2apSdDFJQkcGgRJFAd1aEoLW9wThAYjkpA7KApOLo5Bk5AvUJiKODW46JSjuLgIKUGLUok2/I/w8OdeRe9t6izPy/k953vOc3ieQrFY9C+tpsLzz/ALTcneLPZwvxqAReziXaxHMYg+HEFdhYALjOEL9mPeHXPVAMAGtjGBJ9hJneWuqB9rOMZv2Z2OobaEthutEet73pkH1GJedrfNWMAczjGJ9zl9K5YxjM+huRIwK2vSNB7gJV7hIbYwhJbQNmEVM/iAcfSioxygLTL5hLc4S3x/Isilrh7rWEmy/haVT6WAtMkjKOAExXypUYXQ/IgK8/Y8v5ECemJ8UeJgagfX+EsC7spe3ld03iTAdXbZg0KM96oZPAWcyprUgqdltI+VfgdXWtqD17Inv4TNANagAY9wB42VADbQjjeRbRd+4jCAH28aPA8g+1MGbhOonFX6Xf8HgL9Jsz/Ib9IOcAAAAABJRU5ErkJggg==\n",
      "text/latex": [
       "$\\displaystyle e^{x}$"
      ],
      "text/plain": [
       " x\n",
       "ℯ "
      ]
     },
     "execution_count": 2,
     "metadata": {},
     "output_type": "execute_result"
    }
   ],
   "source": [
    "exp(x)"
   ]
  },
  {
   "cell_type": "markdown",
   "metadata": {},
   "source": [
    "Let's look at what the parameters of the `normalize_constant` mean:\n",
    "\n",
    "    wavefunc: The WaveFunction/expression of interest\n",
    "    var: What the integral is taken with respect to\n",
    "    lower: The lower bound of the integral. If bounds are not listed, this is -oo\n",
    "    upper: The upper bound of the integral. If bounds are not listed, this is oo\n",
    "    \n",
    "This looks like:\n",
    "\n",
    "`normalize_constant(wavefunc, var, lower, upper)`\n",
    "\n",
    "Note that in sympy notation, two \"o\"s (`oo`) represents infinity. If a bound is not given, integrate from $(-\\infty, \\infty)$"
   ]
  },
  {
   "cell_type": "code",
   "execution_count": 3,
   "metadata": {
    "scrolled": true
   },
   "outputs": [
    {
     "data": {
      "image/png": "iVBORw0KGgoAAAANSUhEUgAAAB8AAAAbCAYAAACEP1QvAAABw0lEQVR4nOXWz4tOURzH8df8sJKNSdYW1JR/YKyeSY1fRdEsLLBgp6QslJp6koWdlGJhYWUnDY1fC3oiSilFYrKQlEl+5EcUY1ico67Huc+9h6fuwqdO9/TtfM/7e77ne849A+12W1MabIyM4czxS/ChX/Dcla/Degz0o+XCW7iR6VOqHPhQbF+bgK/B7X6Bc+Ebcakp+AjeNAFfiScJ+wj24Dye4gve4xZ2V81f95xvxsWEfRIn8VI4Bc+xHFtxGhvimB//Al+F2YR9NgY2g4WC/RDuYlsM5Fxq0sGu/pEYbVFLle/1dSEjC132OZyK/VaJ72/wCYwJaSrqb6v8W/zOlw0opv2KEPG1GNSv1YzhbCZ4GDsL8ybVXY338Vm4UGARvvszrVU6itVCxq7WhcMFbIn9FjqZ4H04gMfY0WtgCj5dgE/oEXlCe3EcjzCOt7nwDpZhFIvxqSZ4P07gYQTPVTmk4PPCXk3hQU3wQRwTamYcr+o4lV1/09gufat1a0oosHtYi9d1wJTfcJdxBy8q/HfhsHAibgrF1q1nOJMD/4hNFWBYEb9Dwp6n1CmD9/rrvKsBb6t+q7XKnBt9Ov+/8J+0mlXr1JH+ywAAAABJRU5ErkJggg==\n",
      "text/latex": [
       "$\\displaystyle \\sqrt{2}$"
      ],
      "text/plain": [
       "√2"
      ]
     },
     "execution_count": 3,
     "metadata": {},
     "output_type": "execute_result"
    }
   ],
   "source": [
    "normalization_constant(exp(x), -oo, 0, x)"
   ]
  },
  {
   "cell_type": "markdown",
   "metadata": {},
   "source": [
    "Again, this is the normalization constant. To get the normalized wavefunction, simply multiply the calculated normalization constant by the original wavefunction:"
   ]
  },
  {
   "cell_type": "code",
   "execution_count": 4,
   "metadata": {},
   "outputs": [
    {
     "data": {
      "image/png": "iVBORw0KGgoAAAANSUhEUgAAADUAAAAbCAYAAADcQMc2AAAC9klEQVR4nO3YT6hVVRTH8c97T0GIJpoIBkmDEkVx4EAUo5eBZYqiYtggHZcogookCa9QFBqEIx0EFTTyT/AstUSKl5FgSY8U8V8QEhSmQX8wStMGa5vH0z7vnvO4l1D8wmGfu/c6e6/fWXuvs7hdfX197jW6/28HOsGIhvYP4tc2rt/Vxrn+pWmknsGzwpl2XB2hqahefNoBP9pKE1E96fqrQ760jSaiZuGLTjnSTpqIeg4HO+VIA5bhT0wo9O3AeYylmagxuNI214bPXpzEq+n3eiwXCewn6qf0x3A20z8GizEfU/GwOHMn8Xa6bgzP90puYhMO4Nt0Pyfdo76ohfgg078MO/GDyIoXMQ5L8BbmJZubw3K/msP4EluwAF8VB+uKehznMv3nhOAD7ozIJhzHUiFwXyOXWzMH08TxuVQe7C7dbxFvt8ho1WfpExHB8hb7EbvSfW8NJ5fiEC6L7XtevJiejO00vI+XsR9bywbFSM3FTIxPC9xiuFnvWmqvD2HTg/fEQb+APSKzzUvOTsTKgv2E5MsbeBdfYxBP4Ogto2KkPsI6sUeL/TM1/z6NwIrCvFXsEIK2YxJewlpMSWuuwORkOzrN9aHb0flGZMNt5cWLDOKq+NB+jpH4W/MMtj05dhAfV9jMEFuoH6+Uxq6JSMxKdqfxsxBe5vlyRy5R7MciIaoXAy0ElFkjIn4GLw5ht1oUtVfRlxmfktrGhW9OVL9I0xvEOXutwXyrxJY6jafF261ibmpfaDHnxQbrIy9qQJQbk/AAfq8511q8iVNC0H9SbYFRaY3P8GTN+WuTK5Oui7OwWVQGddgoBA3iKUML4vaWeqjm/I2oqv36xbbIVRFlNovEcEJE6HKNZ/4QmWuy+DjnmC3/nWpJVUVxCMfwfYvnV+J1kSGPiiRR5ju8k+nfICqRfTgiRHaL+nG6yLyPtFg/S5Wo30SR2opHU9sjzlSOAXlRh0XK3iii0otfRB15BLtrrJ+l6/5fZHcJ90XdLfwDy3qVDVfJ/WYAAAAASUVORK5CYII=\n",
      "text/latex": [
       "$\\displaystyle \\sqrt{2} e^{x}$"
      ],
      "text/plain": [
       "    x\n",
       "√2⋅ℯ "
      ]
     },
     "execution_count": 4,
     "metadata": {},
     "output_type": "execute_result"
    }
   ],
   "source": [
    "normalization_constant(exp(x), -oo, 0, x)*(exp(x))"
   ]
  },
  {
   "cell_type": "markdown",
   "metadata": {},
   "source": [
    "Let's try another example over the integral $(0,1)$\n",
    "\n",
    "This time let's define the function as $\\psi$ (psi) for simplicity:"
   ]
  },
  {
   "cell_type": "code",
   "execution_count": 5,
   "metadata": {},
   "outputs": [],
   "source": [
    "psi = a*x*(x-1)"
   ]
  },
  {
   "cell_type": "code",
   "execution_count": 6,
   "metadata": {
    "scrolled": true
   },
   "outputs": [
    {
     "data": {
      "image/png": "iVBORw0KGgoAAAANSUhEUgAAAF4AAAAvCAYAAABqrH0KAAAFaUlEQVR4nO3beYxdcxTA8c/YOqoIRRBbYl9qrdiKttTWhKYpRRBCI62tRERoaMQaiUT5o5Y0rYaIiDWq7R9IUar2vaitQlpVap9a6o9zX3rfnffefdN5M++OmW9yM+/+7vn93nnnnt85v3t/Z1omT56sj+5nvTpkVnexDi1dPH4hWacOmUuEcbrq6JXkGX5d/NUdivQ28gx/BOZ3hyK9jTzDD8J73aFIJ9kMS7FzsxXJ8CiuqHQhz/DZxHoR3sXPyfEKRlboNwFf4E+8gSM7oOzacA1mY3EXf0+ao/A0vhV2GlNB5gZMwqbZC7UMvxsWZdq+wdU4CIPxHJ7AvimZsbgTN+MAvIxnsUPeL1lL+mMc7u+i8auxEd7BxTVk3hUOeFb2Qtrw5yj33qMxLyP/JGbhU3yCa/ELDkvJXIHpuA8f4VJ8h/FVlLsuUfBXfI9paE2unYo27JiSvzP5/i2T85H4Fy+lZOrp11meFd78WI7cUzgz21gyfD8sywisr/aKZl2cgQHWJOANxGyYm5Gdi8MrjNGSjDMeeyfjHY+JyfVHRY6ZlJxfidNxgrhJMESEs3RYrKdfd7EAB2PDdGPpAapNxMhJSdumWF5loEEitrcKbx9lTQLeQhhyaabPUhxbYazVuD51/hWewR6p69ckbYuTz8OVx/KdRJzNjpvXr7v4Vjjxtunvz8b4F0XSGKG915ZYhP1xKKbiAeyTkckm5ZYKbbA9pogbt0KEm/OwJCUzFwtxI07D65kxWkUSz5LXr8TkRLdax9Aqfevhj+RvRY8v8aSY7h/jpyoDrcJnyefXxTSaiAvELPkHW2f6bKX9LBgoDDNPhIJvRKxeKJJWieHYTzjJsgr6LBfLySx5/UrcjYdrXIevc67XYvPkb1mIy3r8AuHJbR0YeB1rkuEqEW9HZGRGaP8gNjLpNxZz8AEOEauFtxKZ/UTymiCS1E0Vvv8t7JVpq6dfieXC0Wodv9fon8cgEW7KHC/r8avFCuOFKoPcKuLmEmwskvFQ5auhOzATr4ml5IUivk3NjPWDSMyjRKg5UcTilfhcrEhm4XbMEAZ+WzwTvJgaZw5uE/lleQf6dZYB2CV1vpMIwSuUz5CjRP4so6XCa+GBwiiVmI5hIpSsFDfpdvHj00zAVdgG7+Ny7ZemLWKany1i9MNixgzGaHHT5okbV+IRcROHZMaaj4eSoyP9OsNQPF+hfQbOTT5vKDz9OLyaFqpk+J7I8bgLe4ocUxQuxsnC8GXU81q4JzBHzJ7tmq1IhlXitXo76tkI6SlMabYCFbi32oX/i8f3OPoM3yT6DN8kSjG+qze0+8hQMnyv3XRuFn2hpkkU3fCt4gkx7+3h2hxNpejr+GPF7tX/LhQW3eMPxJvNVqIrKLLhS5snTQ8LXUGRDT9Y9V2jWmwvXmt/KDZURjdQp4ZRZMMPE+UjHeVvXCY2R0aI6oL+DdSrIRTZ8K06thNW4jtrtg6X4UexSVIoimr4HfFlA8YZLHb4l+QJdjdFMPwmYqM8zUli+64zDBQVEOcrYIIuguHHiBKMfqm20v7p2tIPj+MWBa12LoLhp4kamGOS841FQWw1apX8EcvQ6SIxz2ywrg2jCIYn6nlOST6fqP3meYm8kj+ipn+sqF54OzkGNVbdzlOUVwazRbVCC3YXVQGVyCv5I4pXi+JQVSmKgr+JB57DxDq8GvWU/PUIimJ4ItzcJupiKlEq+dtalPwdKcoH25SX/PUIimT4p0SYqWb4ekr+egxFifFExdU41QuS8kr+ehRF8ngi3FRjFu4RJXLzsSseFKuWwj0g5VEkj89jtfjnt4uarUgjKJrH9xr6DN8k+gzfJP4DnotWjl8WGEoAAAAASUVORK5CYII=\n",
      "text/latex": [
       "$\\displaystyle \\frac{\\sqrt{30} a x \\left(x - 1\\right)}{\\sqrt{a^{2}}}$"
      ],
      "text/plain": [
       "√30⋅a⋅x⋅(x - 1)\n",
       "───────────────\n",
       "       ____    \n",
       "      ╱  2     \n",
       "    ╲╱  a      "
      ]
     },
     "execution_count": 6,
     "metadata": {},
     "output_type": "execute_result"
    }
   ],
   "source": [
    "normalization_constant(psi, 0, 1, x)*(psi)"
   ]
  },
  {
   "cell_type": "markdown",
   "metadata": {},
   "source": [
    "The same can be done with problems involving complex numbers:"
   ]
  },
  {
   "cell_type": "code",
   "execution_count": 7,
   "metadata": {},
   "outputs": [
    {
     "data": {
      "image/png": "iVBORw0KGgoAAAANSUhEUgAAAD8AAAAdCAYAAAAdO7TiAAADg0lEQVR4nO3YW4hVVRgH8N/MZAgWQheCinwIlRFp7EYoVtLDlNnt2IV6qaCHKAiCki5UTGAU9BAWUa9FT10ZrcYsCi3qQaOT0kNZBBFEZUUXp4umPXx7M+dszz5779mbGcT+sFnnrPVf37e+tb7L2ntgbGzMkYrB2V7AbOKo2V5ARRyL35oSdrid/MW4BANNPE0Y/zRebkBOGazCe00Ja8LtH8C+BuQUYSh5/mlKYBPG/9KAjDJYgQ+bFFjX7U/FQSxO/l+Lv7Ggg7MBu3FiTV2X4s2aMrpQ1/hlmBTGEbG/S4QC3I3rRZL6saau4/FTTRldqGv8CHbiQPL/IO7HzbgXD2ENvuox9yT8iydL6FmIzws47yb6zy8hD/Vjfhnamb4t2I71uAw7cuZeKTb/tRJ6rsCmPuMDOEscwicl5KGZk29n+i5K+gfxQ5+5LeHG20roWYQv+owvxHzhHX+UkId846/GBPaI0rJbuPNQB2ceTtdt/Ahexe3YiEdy5M8Xm7RJuH66lvVYneEepzjWz07ajwt4Xci6/RBeEEnqS7wksvdqYchi3JRwz0jaXUm7QGTjx/GccL+2iMH3M3rW4GixUSlGsRwni41PUSbLn5O0eSHWE9mT3yAMfwzDuA13YqmosTdiScIdEa44KU5nM143ddo7RfZ/tIfeFvbi7Y6+zbhL5InOdS1XXN9rG3+ecNdx3If9HWP7xGmmPHhWbBD8nPy+NSP/OqzM9M0VpW8Cf2XG2mIzVyT/54iwOCAfgzgz4bX78A5Bp9vfIbLmJMZ6cJcm7UAVBT0wimPkZ/mNohJ8IO7yWwvkLRJve58JbyqNTuNHk/aGgjnfVFHQAy2RRN/IGR/HM1iXrOnhAnnTcnmmjJ8rrp/bcGFVIRUwhMvFheTXHM7WZC3DoqIUla7U+EqZnqmYT135hKoCKuICcU3td7HZL7L7g6YqST+kZa7yyafG/ymy8xKszeGu1F3np4O1InmNF/DGRfj1u9VRI9nRHfPrRBy+gnfEZgziFLG7c3BaVQUZXCXK1vcFvAl8hG8LeGlo7MVTOZw94j3jEHQav0WUmHvEKa8Scfmd2IwXCxZShHPFK/ATJbi/i4tQEVKXn4dbcjhv5U3O3vC245oSSqeDVtKWeZGh3EeS55NnWpjJD5gtfIqvZ1BnX8zkp+vhYsrM4nD7dN0o/jf+SMV/1HqnQ//YzQgAAAAASUVORK5CYII=\n",
      "text/latex": [
       "$\\displaystyle \\frac{e^{i x}}{\\sqrt{L}}$"
      ],
      "text/plain": [
       " ⅈ⋅x\n",
       "ℯ   \n",
       "────\n",
       " √L "
      ]
     },
     "execution_count": 7,
     "metadata": {},
     "output_type": "execute_result"
    }
   ],
   "source": [
    "psi = exp(I*x)\n",
    "\n",
    "normalization_constant((psi), 0, L, x)*(psi)"
   ]
  },
  {
   "cell_type": "markdown",
   "metadata": {},
   "source": [
    "Let's look at the fixed gaussian wavefunction, which is called using the `fixed_gaussian` function.\n",
    "\n",
    "This function has three variables:\n",
    "\n",
    "    alpha:alpha parameter of the gaussian\n",
    "    x_0: x_0 parameter of the gaussian\n",
    "    p: p parameter of the gaussian\n",
    "\n",
    "And can be written as:\n",
    "\n",
    "`fixed_gaussian(alpha, x_0, p)`"
   ]
  },
  {
   "cell_type": "code",
   "execution_count": 8,
   "metadata": {},
   "outputs": [],
   "source": [
    "alpha, x_0, p = symbols(\"alpha, x_0, p\")"
   ]
  },
  {
   "cell_type": "code",
   "execution_count": 9,
   "metadata": {
    "scrolled": true
   },
   "outputs": [
    {
     "data": {
      "text/latex": [
       "$\\displaystyle \\begin{cases} \\frac{\\sqrt[4]{\\alpha}}{\\sqrt[4]{\\pi}} & \\text{for}\\: \\left(\\left|{\\arg{\\left(\\alpha \\right)}}\\right| \\leq \\frac{\\pi}{2} \\wedge \\left|{2 \\arg{\\left(\\alpha \\right)} + 2 \\arg{\\left(x_{0} \\right)}}\\right| < \\pi \\wedge \\left|{2 \\arg{\\left(\\alpha \\right)} + 2 \\arg{\\left(x_{0} \\right)} + 2 \\pi}\\right| < \\pi\\right) \\vee \\left|{\\arg{\\left(\\alpha \\right)}}\\right| < \\frac{\\pi}{2} \\\\\\frac{1}{\\sqrt{\\int\\limits_{-\\infty}^{\\infty} e^{- \\alpha \\left(x - x_{0}\\right)^{2}}\\, dx}} & \\text{otherwise} \\end{cases}$"
      ],
      "text/plain": [
       "⎧            4 ___                                                            \n",
       "⎪            ╲╱ α                   ⎛           π                             \n",
       "⎪            ─────              for ⎜│arg(α)│ ≤ ─ ∧ │2⋅arg(α) + 2⋅arg(x₀)│ < π\n",
       "⎪            4 ___                  ⎝           2                             \n",
       "⎪            ╲╱ π                                                             \n",
       "⎪                                                                             \n",
       "⎪              1                                                              \n",
       "⎪─────────────────────────────                                              ot\n",
       "⎨        _____________________                                                \n",
       "⎪       ╱ ∞                                                                   \n",
       "⎪      ╱  ⌠                                                                   \n",
       "⎪     ╱   ⎮              2                                                    \n",
       "⎪    ╱    ⎮   -α⋅(x - x₀)                                                     \n",
       "⎪   ╱     ⎮  ℯ             dx                                                 \n",
       "⎪  ╱      ⌡                                                                   \n",
       "⎪╲╱       -∞                                                                  \n",
       "⎩                                                                             \n",
       "\n",
       "                                                   \n",
       "                                   ⎞              π\n",
       " ∧ │2⋅arg(α) + 2⋅arg(x₀) + 2⋅π│ < π⎟ ∨ │arg(α)│ < ─\n",
       "                                   ⎠              2\n",
       "                                                   \n",
       "                                                   \n",
       "                                                   \n",
       "herwise                                            \n",
       "                                                   \n",
       "                                                   \n",
       "                                                   \n",
       "                                                   \n",
       "                                                   \n",
       "                                                   \n",
       "                                                   \n",
       "                                                   \n",
       "                                                   "
      ]
     },
     "execution_count": 9,
     "metadata": {},
     "output_type": "execute_result"
    }
   ],
   "source": [
    "FG = fixed_gaussian(alpha, x_0, p)\n",
    "\n",
    "normalization_constant(FG, -oo, oo, x)"
   ]
  },
  {
   "cell_type": "markdown",
   "metadata": {},
   "source": [
    "It is important to note that the bottom value in the piecewise function is the unsolved normalization constant. Therefore, we can use the top value as the correct constant. We can then multiply this once more by the original function to give the normalized wavefunction:"
   ]
  },
  {
   "cell_type": "code",
   "execution_count": 10,
   "metadata": {},
   "outputs": [
    {
     "data": {
      "image/png": "iVBORw0KGgoAAAANSUhEUgAAAGwAAAAlCAYAAACnMQxpAAAFT0lEQVR4nO3aZ4wVVRQH8N9D7BILKirY+aCxgEHsiYUIsSUgid3YPmjUaDRGo0ZDNGosH2xoLDFGsRfsBbtYCLYVsZu1IGIJrqKxYftw7rjD+N7uzrLLey+8fzJ5c8vcc+f+7ylv7qlMmjRJC82DASX7740P8TGOr9K+Pp7He3gb++faPsMstOG5knIXF6vgGVSWsFwYjMdy5b1wI6ZiTKHvM/ha9fUDA0sIHogrsAfm4/UkdF6uz584OQlbG2/gCfyS2nfCzyVk9hWOwd34pw6y52MudsSreDxdq+FiQRKhPBthnNrrV0rDthPMz0kDTMW+hT7zkjD4Fh1Ys4SMxcE2eAGf4Fjcg3VT2yF4MNf3ZeyQ7q/Hab2U2dNxHsTBhbozcF2uPEqQ1+X6ldGw9QRZGb7E0C76b4tlc8/8Ixb0b1yO20rI7g4r4S6xgb7HW3hYbKDlsI4wNRnOx1l4Os3xsl7K7ek4b2JS4blnU32GcZiWKxfXD+UIq2b/a5mYwbhFmKKsz874Suz6p4U/e6eE/Nk16sdiNKbjo1Q3BJem+zXxQ+GZJ3CB8BFjS8j5qsQ4eXynU9uPxn5YCxsLzST82eR0X239UI6wuSKoyDBMBBJFLC/M5UV4JVefvew84YRHKUfYll20jdC5WzcXtv/TVP41zSmP0VhDvNMfJeQUURxnEK4WVuRePJr6LY/f0v1N6cpjkHBPHWqvH/7vw0YLVf1VRIK74AC8iJnYQpC2IibkJpShgpvTGLfm6ldOkyIitj3wbuHZYcJMfi804j7heHuChcJkV4S5WS7X1pHK2eYcKqK0MWLXj+yhjCKqjTMBt+MoHJbrO1z4/1oYIyLnWuv3H/KEbS+IeQpbiyjwPJyNc0QEeIpwjO/gWouaiDZh9g7E+FRuw1bCRE0XDnWGUPfXcs9uIrTiizTGbsKUXdPFS+YxRYTLH+ARQfipufbn0/utKIKRk9COC9O7lUWtcYYKbWNRU7ariAxrYSyeVHv9/kMl98f5ZeHgDkrlffCQYHvPcu9TGtPEBjkrVzcOd2L1Phh/O+EPju2DsbrCEcLkT8MdOiPDZzFRaHs1vC421F/dCcibiZ2we65todDA3uzAMthQbIhdxI7NsAwW9JGMmcI3VfTvf7GpuEq4kdtT3WBcqTZZRETYI2SEbZF+Z+baNhd+ZkZPB+slRuBH1Sf9ex/KKTr6/sACoWV5zMcDfSUgI2yQiGz+TuVVcaZOe9yfWCgCkW/w0xKQ19TIgo630v3Z2Ew48bkiuhnez3OYIczFFPG1YlNhIierz7e/hkZGWLsg6zgRmSwQoea7IrrrT3SICG+QCG3bxJ/eOerz7a+hUWkdrzQXyh6vtFBntAhrMrQIazJkYX3LuTcJMg2rNPG1jzhW+QQnFNo2EGdw74vjnImF9s/Fd9G3xffGer9Lt1eZ45VGRHdpC92lLFC/tIVeodl9WHdpC/VMWegXNDthZdIWqh25Z2kLr+HQ/phgX6PZTWJP0xZqHbkvbtrCEkeja9h7YoGrXeeqnrZQzLvo6si9WtpCQ6PRCRuffvcWWjBU5EYciUt0n7bQ1ZF7T9IWGg6NbhKHCG2aLiK5zbACXtKZ1JKlLQwQEWOmNW04URy5z9JJ/uHC7A3B/YLUZXCDRdMWGhKNTtgIcZKQhd0j0317rs/D6SpiZPqtZUXa9T4Bp25odJO4tc6wnFjg2ZbiLzPNQNisXHlkobzUoZEJGyASZ/IEbSxS4ZZaNDJhm4pILk9YG04XKXBLJRo56PjY//8YH1iPiTQSGlnDWqiCFmFNhhZhTYZ/AYN7Vz1p6if5AAAAAElFTkSuQmCC\n",
      "text/latex": [
       "$\\displaystyle \\frac{\\alpha^{0.25} e^{- \\frac{\\alpha \\left(x - x_{0}\\right)^{2}}{2}}}{\\pi^{0.25}}$"
      ],
      "text/plain": [
       "                         2 \n",
       "              -α⋅(x - x₀)  \n",
       "              ─────────────\n",
       " -0.25  0.25        2      \n",
       "π     ⋅α    ⋅ℯ             "
      ]
     },
     "execution_count": 10,
     "metadata": {},
     "output_type": "execute_result"
    }
   ],
   "source": [
    "(alpha**(1/4)/pi**(1/4))*FG"
   ]
  }
 ],
 "metadata": {
  "kernelspec": {
   "display_name": "Python 3",
   "language": "python",
   "name": "python3"
  },
  "language_info": {
   "codemirror_mode": {
    "name": "ipython",
    "version": 3
   },
   "file_extension": ".py",
   "mimetype": "text/x-python",
   "name": "python",
   "nbconvert_exporter": "python",
   "pygments_lexer": "ipython3",
   "version": "3.8.5"
  }
 },
 "nbformat": 4,
 "nbformat_minor": 2
}
>>>>>>> a4f82647d44132ad313b967d421082d2b21c9708
