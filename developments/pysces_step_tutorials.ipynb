{
 "cells": [
  {
   "cell_type": "code",
   "execution_count": 1,
   "metadata": {
    "scrolled": false
   },
   "outputs": [],
   "source": [
    "from pysces import *"
   ]
  },
  {
   "cell_type": "markdown",
   "metadata": {},
   "source": [
    "There are three tutorial functions in pysces at this time."
   ]
  },
  {
   "cell_type": "markdown",
   "metadata": {},
   "source": [
    "# 1. comm_steps()"
   ]
  },
  {
   "cell_type": "code",
   "execution_count": 2,
   "metadata": {},
   "outputs": [
    {
     "data": {
      "image/png": "[encoded data removed]",
      "text/latex": [
       "$$- \\left[x,- i h_{b} \\frac{d}{d x} 1\\right] f{\\left (x \\right )}$$"
      ],
      "text/plain": [
       " ⎡         d    ⎤     \n",
       "-⎢x,-ⅈ⋅h_b⋅──(1)⎥⋅f(x)\n",
       " ⎣         dx   ⎦     "
      ]
     },
     "metadata": {},
     "output_type": "display_data"
    },
    {
     "data": {
      "image/png": "[encoded data removed]",
      "text/latex": [
       "$$- x - i h_{b} \\frac{d}{d x} 1 f{\\left (x \\right )} + - i h_{b} \\frac{d}{d x} 1 x f{\\left (x \\right )}$$"
      ],
      "text/plain": [
       "    ⎛       d    ⎞               d           \n",
       "- x⋅⎜-ⅈ⋅h_b⋅──(1)⎟⋅f(x) + -ⅈ⋅h_b⋅──(1)⋅x⋅f(x)\n",
       "    ⎝       dx   ⎠               dx          "
      ]
     },
     "metadata": {},
     "output_type": "display_data"
    },
    {
     "data": {
      "image/png": "[encoded data removed]",
      "text/latex": [
       "$$- i h_{b} f{\\left (x \\right )}$$"
      ],
      "text/plain": [
       "-ⅈ⋅h_b⋅f(x)"
      ]
     },
     "metadata": {},
     "output_type": "display_data"
    },
    {
     "data": {
      "text/plain": [
       "(None, None, None)"
      ]
     },
     "execution_count": 2,
     "metadata": {},
     "output_type": "execute_result"
    }
   ],
   "source": [
    "comm_steps(lin_mom(x), x, f(x))"
   ]
  },
  {
   "cell_type": "markdown",
   "metadata": {},
   "source": [
    "# 2. normalization_constant_steps()"
   ]
  },
  {
   "cell_type": "code",
   "execution_count": 4,
   "metadata": {},
   "outputs": [
    {
     "data": {
      "image/png": "[encoded data removed]",
      "text/latex": [
       "$$\\frac{1}{\\sqrt{\\int_{0}^{L} \\sin^{2}{\\left (\\frac{\\pi n x}{L} \\right )}\\, dx}}$$"
      ],
      "text/plain": [
       "            1             \n",
       "──────────────────────────\n",
       "        __________________\n",
       "       ╱ L                \n",
       "      ╱  ⌠                \n",
       "     ╱   ⎮    2⎛π⋅n⋅x⎞    \n",
       "    ╱    ⎮ sin ⎜─────⎟ dx \n",
       "   ╱     ⎮     ⎝  L  ⎠    \n",
       "  ╱      ⌡                \n",
       "╲╱       0                "
      ]
     },
     "metadata": {},
     "output_type": "display_data"
    },
    {
     "data": {
      "text/latex": [
       "$$\\begin{cases} \\frac{\\sqrt{\\pi}}{\\sqrt{\\frac{L \\left(\\frac{\\pi n}{2} - \\frac{\\sin{\\left (\\pi n \\right )} \\cos{\\left (\\pi n \\right )}}{2}\\right)}{n}}} & \\text{for}\\: \\frac{\\pi n}{L} \\neq 0 \\\\\\tilde{\\infty} & \\text{otherwise} \\end{cases}$$"
      ],
      "text/plain": [
       "⎧                 √π                      π⋅n    \n",
       "⎪───────────────────────────────────  for ─── ≠ 0\n",
       "⎪      _____________________________       L     \n",
       "⎪     ╱   ⎛π⋅n   sin(π⋅n)⋅cos(π⋅n)⎞              \n",
       "⎪    ╱  L⋅⎜─── - ─────────────────⎟              \n",
       "⎨   ╱     ⎝ 2            2        ⎠              \n",
       "⎪  ╱    ───────────────────────────              \n",
       "⎪╲╱                  n                           \n",
       "⎪                                                \n",
       "⎪                zoo                   otherwise \n",
       "⎩                                                "
      ]
     },
     "metadata": {},
     "output_type": "display_data"
    },
    {
     "data": {
      "text/latex": [
       "$$\\begin{cases} \\frac{\\sqrt{2}}{\\sqrt{L}} & \\text{for}\\: \\frac{\\pi n}{L} \\neq 0 \\\\\\tilde{\\infty} & \\text{otherwise} \\end{cases}$$"
      ],
      "text/plain": [
       "⎧√2       π⋅n    \n",
       "⎪──   for ─── ≠ 0\n",
       "⎨√L        L     \n",
       "⎪                \n",
       "⎩zoo   otherwise "
      ]
     },
     "metadata": {},
     "output_type": "display_data"
    },
    {
     "data": {
      "text/plain": [
       "(None, None, None)"
      ]
     },
     "execution_count": 4,
     "metadata": {},
     "output_type": "execute_result"
    }
   ],
   "source": [
    "normalization_constant_steps(PIB(x, L, n), x, 0, L)"
   ]
  },
  {
   "cell_type": "markdown",
   "metadata": {},
   "source": [
    "# 3. expectation_value_steps()"
   ]
  },
  {
   "cell_type": "code",
   "execution_count": 8,
   "metadata": {},
   "outputs": [
    {
     "data": {
      "image/png": "[encoded data removed]",
      "text/latex": [
       "$$\\int_{0}^{L} \\frac{2 x \\sin^{2}{\\left (\\frac{\\pi n x}{L} \\right )}}{L}\\, dx$$"
      ],
      "text/plain": [
       "L                   \n",
       "⌠                   \n",
       "⎮        2⎛π⋅n⋅x⎞   \n",
       "⎮ 2⋅x⋅sin ⎜─────⎟   \n",
       "⎮         ⎝  L  ⎠   \n",
       "⎮ ─────────────── dx\n",
       "⎮        L          \n",
       "⌡                   \n",
       "0                   "
      ]
     },
     "metadata": {},
     "output_type": "display_data"
    },
    {
     "data": {
      "text/latex": [
       "$$\\begin{cases} \\frac{L}{2} & \\text{for}\\: n > -\\infty \\wedge n < \\infty \\wedge n \\neq 0 \\\\0 & \\text{otherwise} \\end{cases}$$"
      ],
      "text/plain": [
       "⎧L                            \n",
       "⎪─  for n > -∞ ∧ n < ∞ ∧ n ≠ 0\n",
       "⎨2                            \n",
       "⎪                             \n",
       "⎩0          otherwise         "
      ]
     },
     "metadata": {},
     "output_type": "display_data"
    },
    {
     "data": {
      "text/plain": [
       "(None, None)"
      ]
     },
     "execution_count": 8,
     "metadata": {},
     "output_type": "execute_result"
    }
   ],
   "source": [
    "expectation_value_steps(PIB_normalized(x, L, n), x, PIB_normalized(x, L, n), x, 0, L)"
   ]
  },
  {
   "cell_type": "code",
   "execution_count": null,
   "metadata": {},
   "outputs": [],
   "source": []
  }
 ],
 "metadata": {
  "kernelspec": {
   "display_name": "Python 3",
   "language": "python",
   "name": "python3"
  },
  "language_info": {
   "codemirror_mode": {
    "name": "ipython",
    "version": 3
   },
   "file_extension": ".py",
   "mimetype": "text/x-python",
   "name": "python",
   "nbconvert_exporter": "python",
   "pygments_lexer": "ipython3",
   "version": "3.7.1"
  }
 },
 "nbformat": 4,
 "nbformat_minor": 2
}
