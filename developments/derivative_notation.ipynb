{
 "cells": [
  {
   "cell_type": "code",
   "execution_count": 1,
   "metadata": {},
   "outputs": [
    {
     "ename": "ModuleNotFoundError",
     "evalue": "No module named 'pysces'",
     "output_type": "error",
     "traceback": [
      "\u001b[1;31m---------------------------------------------------------------------------\u001b[0m",
      "\u001b[1;31mModuleNotFoundError\u001b[0m                       Traceback (most recent call last)",
      "\u001b[1;32m<ipython-input-1-420553a880c5>\u001b[0m in \u001b[0;36m<module>\u001b[1;34m\u001b[0m\n\u001b[1;32m----> 1\u001b[1;33m \u001b[1;32mfrom\u001b[0m \u001b[0mpysces\u001b[0m \u001b[1;32mimport\u001b[0m \u001b[1;33m*\u001b[0m\u001b[1;33m\u001b[0m\u001b[1;33m\u001b[0m\u001b[0m\n\u001b[0m",
      "\u001b[1;31mModuleNotFoundError\u001b[0m: No module named 'pysces'"
     ]
    }
   ],
   "source": [
    "from pysces import *"
   ]
  },
  {
   "cell_type": "code",
   "execution_count": 2,
   "metadata": {},
   "outputs": [
    {
     "data": {
      "image/png": "[encoded data removed]",
      "text/latex": [
       "$$- i h_{b} \\frac{d}{d x} 1$$"
      ],
      "text/plain": [
       "       d    \n",
       "-ⅈ⋅h_b⋅──(1)\n",
       "       dx   "
      ]
     },
     "execution_count": 2,
     "metadata": {},
     "output_type": "execute_result"
    }
   ],
   "source": [
    "p_operator(x)"
   ]
  },
  {
   "cell_type": "markdown",
   "metadata": {},
   "source": [
    "Issue: the above commutator has \"1\" as a placeholder."
   ]
  },
  {
   "cell_type": "code",
   "execution_count": 3,
   "metadata": {},
   "outputs": [
    {
     "data": {
      "image/png": "[encoded data removed]",
      "text/latex": [
       "$$B - i h_{b} \\frac{d}{d x} 1$$"
      ],
      "text/plain": [
       "  ⎛       d    ⎞\n",
       "B⋅⎜-ⅈ⋅h_b⋅──(1)⎟\n",
       "  ⎝       dx   ⎠"
      ]
     },
     "execution_count": 3,
     "metadata": {},
     "output_type": "execute_result"
    }
   ],
   "source": [
    "p_operator(x)*B"
   ]
  },
  {
   "cell_type": "markdown",
   "metadata": {},
   "source": [
    "We want the \"B\" to automatically replace the \"1\" in the Derivative() function."
   ]
  },
  {
   "cell_type": "markdown",
   "metadata": {},
   "source": [
    "\n",
    "_______________________________________________________________________________________________________________________________\n",
    "\n",
    "\n",
    "# *Food for thought: Are there general instances where we need to change the derivatives? Or do we only need the change in specific cases (i.e. Expectation values)?*\n",
    "\n",
    "_______________________________________________________________________________________________________________________________"
   ]
  },
  {
   "cell_type": "markdown",
   "metadata": {},
   "source": [
    "### sympy derivative is defined as:\n",
    "\n",
    "class Derivative(sympy.core.expr.Expr)\n",
    "\n",
    " |  \"Derivative(expr, *variables, **kwargs)\"\n",
    " \n",
    "#### Variables and kwargs are optional arguments, expr. (expression) is not..."
   ]
  },
  {
   "cell_type": "markdown",
   "metadata": {},
   "source": [
    "Therefore, it looks like it needs something in that position... Is it possible to automatically change this expression from the placeholder, \"1\", to the expression of interest?\n",
    "\n",
    "This is important for expectation values, for example."
   ]
  },
  {
   "cell_type": "markdown",
   "metadata": {},
   "source": [
    "# *General Replacements*"
   ]
  },
  {
   "cell_type": "markdown",
   "metadata": {},
   "source": [
    "## Option One:"
   ]
  },
  {
   "cell_type": "code",
   "execution_count": null,
   "metadata": {},
   "outputs": [],
   "source": [
    "def P_OPERATOR(x, B = None):\n",
    "    h_b = Symbol(\"h_b\")\n",
    "    if B == None:\n",
    "        return Operator(-I*h_b*(Derivative(\"1\", x)))\n",
    "    else:\n",
    "        return Operator(-I*h_b*(Derivative(B, x)))\n",
    "    \n",
    "P_OPERATOR(x, x)"
   ]
  },
  {
   "cell_type": "markdown",
   "metadata": {},
   "source": [
    "This option involves having multiple parameters for the operators themselves. However, it also involves understanding how an expression is set up... Maybe look into an if/else statement that involves replacements, similar to the EXPRESSION_REPLACE() function already defined."
   ]
  },
  {
   "cell_type": "markdown",
   "metadata": {},
   "source": [
    "More specifically, the if/else statement should be able to replace two functions with the redefined P_OPERATOR function with two parameters.\n",
    "\n",
    "This could be done with strings."
   ]
  },
  {
   "cell_type": "markdown",
   "metadata": {},
   "source": [
    "# Option Two:\n",
    "\n",
    "### This one is similar to the EXPRESSION_REPLACE function, but can only be used if there is one derivative present. (So, not possible with commutators)"
   ]
  },
  {
   "cell_type": "code",
   "execution_count": null,
   "metadata": {},
   "outputs": [],
   "source": [
    "def OPERATOR_REPLACE(R, B, K):\n",
    "    if K == x:\n",
    "        return sympify(str(R).replace(str(1), str(B))).doit()"
   ]
  },
  {
   "cell_type": "code",
   "execution_count": null,
   "metadata": {},
   "outputs": [],
   "source": [
    "OPERATOR_REPLACE(P_OPERATOR(x), x**3, x)"
   ]
  },
  {
   "cell_type": "markdown",
   "metadata": {},
   "source": [
    "#### For reference, this is how the EXPRESSION_REPLACE function works:"
   ]
  },
  {
   "cell_type": "code",
   "execution_count": null,
   "metadata": {
    "scrolled": true
   },
   "outputs": [],
   "source": [
    "str(COMM(P_OPERATOR(x), x, F(x))).replace(str('Derivative(1, x)*x*F(x)'), str(Derivative(x*F(x), x)))"
   ]
  },
  {
   "cell_type": "markdown",
   "metadata": {},
   "source": [
    "Why does it need to be in quotes? - I think this has to do with length of the string...?"
   ]
  },
  {
   "cell_type": "markdown",
   "metadata": {},
   "source": [
    "# The EXPECTATION function was then redefined."
   ]
  },
  {
   "cell_type": "markdown",
   "metadata": {},
   "source": [
    "Look into the expectation value in regards to the kinetic energy:"
   ]
  },
  {
   "cell_type": "markdown",
   "metadata": {},
   "source": [
    "Can be done all in one line: "
   ]
  },
  {
   "cell_type": "code",
   "execution_count": null,
   "metadata": {},
   "outputs": [],
   "source": [
    "EXPECTATION(PIB_NORMALIZE(x, L, n), KINETIC_ENERGY(x), x, 0, L).doit()"
   ]
  },
  {
   "cell_type": "code",
   "execution_count": null,
   "metadata": {},
   "outputs": [],
   "source": []
  }
 ],
 "metadata": {
  "kernelspec": {
   "display_name": "Python 3",
   "language": "python",
   "name": "python3"
  },
  "language_info": {
   "codemirror_mode": {
    "name": "ipython",
    "version": 3
   },
   "file_extension": ".py",
   "mimetype": "text/x-python",
   "name": "python",
   "nbconvert_exporter": "python",
   "pygments_lexer": "ipython3",
   "version": "3.7.1"
  }
 },
 "nbformat": 4,
 "nbformat_minor": 2
}
