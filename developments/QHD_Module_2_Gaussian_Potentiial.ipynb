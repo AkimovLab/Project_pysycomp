{
 "cells": [
  {
   "cell_type": "code",
   "execution_count": 1,
   "id": "24a0c295",
   "metadata": {},
   "outputs": [],
   "source": [
    "from QHD import *\n",
    "\n",
    "import matplotlib.pyplot as plt\n",
    "import numpy as np"
   ]
  },
  {
   "cell_type": "markdown",
   "id": "e23b1dff",
   "metadata": {},
   "source": [
    "# The Gaussian Potential"
   ]
  },
  {
   "cell_type": "markdown",
   "id": "88842918",
   "metadata": {},
   "source": [
    "We first must define the potential along with its parameters, as described below, given by Rossman et. al"
   ]
  },
  {
   "cell_type": "markdown",
   "id": "1d350a9c",
   "metadata": {},
   "source": [
    "### 1. The Potential"
   ]
  },
  {
   "cell_type": "markdown",
   "id": "ca1e3cdc",
   "metadata": {},
   "source": [
    "**Parameters**\n",
    "\n",
    "$v_0 = 1$ Hartree\n",
    "\n",
    "$\\sigma = 0.1$ Angstrom\n",
    "\n",
    "**Potential**\n",
    "\n",
    "$V(q)=v_0*e^{(\\frac{-q^2}{2*\\sigma^2})}$"
   ]
  },
  {
   "cell_type": "markdown",
   "id": "cd51a57c",
   "metadata": {},
   "source": [
    "We can define this potential as `potential`, and define the given parameters as `D`, `alpha`, and `q_0` as described below. We will also need to define the dependent variable, in this case `q` as a range using the `linspace` function found in `numpy`. The parameters are all in *atomic units*."
   ]
  },
  {
   "cell_type": "code",
   "execution_count": 2,
   "id": "2fe24e97",
   "metadata": {},
   "outputs": [],
   "source": [
    "v_0 = 1 # Hartree\n",
    "sigma = 0.1 # Angstrom\n",
    "sigma1 = 0.5\n",
    "sigma2 = 0.01\n",
    "q = np.linspace(-1, 1, 1000)\n",
    "\n",
    "\n",
    "potential = -v_0*np.exp(-q**2/(2*sigma**2))\n",
    "potential1 = -v_0*np.exp(-q**2/(2*sigma1**2))\n",
    "potential2 = -v_0*np.exp(-q**2/(2*sigma2**2))"
   ]
  },
  {
   "cell_type": "markdown",
   "id": "0814a72d",
   "metadata": {},
   "source": [
    "Now that the parameters and potential have been defined, the potential can be plotted using the `matplotlib.pyplot` library. Any of the lines can be changed as desired."
   ]
  },
  {
   "cell_type": "code",
   "execution_count": 3,
   "id": "c6bdc0db",
   "metadata": {},
   "outputs": [
    {
     "data": {
      "image/png": "[encoded data removed]",
      "text/plain": [
       "<Figure size 432x288 with 1 Axes>"
      ]
     },
     "metadata": {
      "needs_background": "light"
     },
     "output_type": "display_data"
    }
   ],
   "source": [
    "q = np.linspace(-1, 1, 1000)\n",
    "plt.plot(q, potential, 'k')\n",
    "plt.plot(q, potential1, \"m\")\n",
    "plt.plot(q, potential2, \"g\")\n",
    "plt.title(\"Gaussian Potential\")\n",
    "plt.legend([r\"$\\sigma$ = 0.1\", r\"$\\sigma$ = 0.5\", r\"$\\sigma$ = 0.01\"])\n",
    "plt.xlim(-1, 1)\n",
    "plt.xlabel(\"Position, q\")\n",
    "plt.ylabel(\"Potential, V(q)\")\n",
    "plt.savefig(\"gaussian_vVq.png\")\n",
    "plt.show()"
   ]
  },
  {
   "cell_type": "markdown",
   "id": "c462eb0c",
   "metadata": {},
   "source": [
    "New potential equation given by: https://demonstrations.wolfram.com/EnergiesForParticleInAGaussianPotentialWell/"
   ]
  },
  {
   "cell_type": "markdown",
   "id": "19377087",
   "metadata": {},
   "source": [
    "### 2. Derivation of  QHD formulas"
   ]
  },
  {
   "cell_type": "markdown",
   "id": "8b6b9a80",
   "metadata": {},
   "source": [
    "Here, we use the pysces library, able to derive the equations of motion in the QHD method. We will need to define the `q`, `p`, `p2`, `x`, `x2`, and `xp` variables. In order to do this, we must first calculate the first and second derivatives of the potential of interest, defined in section 1. We will also use a change of variables as well, described below."
   ]
  },
  {
   "cell_type": "markdown",
   "id": "fea8f2b4",
   "metadata": {},
   "source": [
    "**2.1 The First and Second Derivatives of the Potential**"
   ]
  },
  {
   "cell_type": "markdown",
   "id": "c30ec4a7",
   "metadata": {},
   "source": [
    "To take the derivatives, we must represent the potential symbolically. This can be done by:"
   ]
  },
  {
   "cell_type": "code",
   "execution_count": 4,
   "id": "91660bfc",
   "metadata": {},
   "outputs": [],
   "source": [
    "# First, we must define all the parameters as stated in section 1 as symbols:\n",
    "\n",
    "v_0, sigma, q = symbols(\"v_0, sigma q\")\n",
    "\n",
    "# When computing symbolically, we do not need to use the numpy exponential function.\n",
    "\n",
    "potential_sym = -v_0*exp(-q**2/(2*sigma**2))"
   ]
  },
  {
   "cell_type": "markdown",
   "id": "152bf992",
   "metadata": {},
   "source": [
    "Now that the potential is represented symbolically, we may take the first and second derivatives, described by diff1 and diff2, respectively"
   ]
  },
  {
   "cell_type": "code",
   "execution_count": 5,
   "id": "75188ad0",
   "metadata": {},
   "outputs": [
    {
     "data": {
      "image/png": "[encoded data removed]",
      "text/latex": [
       "$\\displaystyle \\left( \\frac{q v_{0} e^{- \\frac{q^{2}}{2 \\sigma^{2}}}}{\\sigma^{2}}, \\  - \\frac{q^{2} v_{0} e^{- \\frac{q^{2}}{2 \\sigma^{2}}}}{\\sigma^{4}} + \\frac{v_{0} e^{- \\frac{q^{2}}{2 \\sigma^{2}}}}{\\sigma^{2}}\\right)$"
      ],
      "text/plain": [
       "⎛        2              2          2 ⎞\n",
       "⎜      -q             -q         -q  ⎟\n",
       "⎜      ────           ────       ────⎟\n",
       "⎜         2              2          2⎟\n",
       "⎜      2⋅σ      2     2⋅σ        2⋅σ ⎟\n",
       "⎜q⋅v₀⋅ℯ        q ⋅v₀⋅ℯ       v₀⋅ℯ    ⎟\n",
       "⎜──────────, - ─────────── + ────────⎟\n",
       "⎜     2              4           2   ⎟\n",
       "⎝    σ              σ           σ    ⎠"
      ]
     },
     "execution_count": 5,
     "metadata": {},
     "output_type": "execute_result"
    }
   ],
   "source": [
    "diff1 = diff(potential_sym, q)\n",
    "diff2 = diff(diff1, q)\n",
    "\n",
    "diff1, diff2"
   ]
  },
  {
   "cell_type": "markdown",
   "id": "4e222ac8",
   "metadata": {},
   "source": [
    "**2.2 Change of Variable**"
   ]
  },
  {
   "cell_type": "markdown",
   "id": "e48d4113",
   "metadata": {},
   "source": [
    "We can do a change of variable in the potential to:\n",
    "\n",
    "$$x=e^{(\\frac{-q^2}{2*\\sigma^2})}$$\n",
    "\n",
    "And so:\n",
    "\n",
    "$$V(q)=A*x$$\n",
    "\n",
    "We will now take the first and second derivatives of the original potential, and then perform the change of variables."
   ]
  },
  {
   "cell_type": "markdown",
   "id": "719cf509",
   "metadata": {},
   "source": [
    "- The First Derivative:"
   ]
  },
  {
   "cell_type": "code",
   "execution_count": 6,
   "id": "31f01035",
   "metadata": {},
   "outputs": [
    {
     "data": {
      "image/png": "[encoded data removed]",
      "text/latex": [
       "$\\displaystyle \\frac{q v_{0} x}{\\sigma^{2}}$"
      ],
      "text/plain": [
       "q⋅v₀⋅x\n",
       "──────\n",
       "   2  \n",
       "  σ   "
      ]
     },
     "execution_count": 6,
     "metadata": {},
     "output_type": "execute_result"
    }
   ],
   "source": [
    "x = Symbol(\"x\")\n",
    "\n",
    "diff11 = diff1.replace(exp(-q**2/(2*sigma**2)), x)\n",
    "\n",
    "diff11"
   ]
  },
  {
   "cell_type": "markdown",
   "id": "39796be7",
   "metadata": {},
   "source": [
    "- The Second Derivative:"
   ]
  },
  {
   "cell_type": "code",
   "execution_count": 7,
   "id": "d4e18d54",
   "metadata": {},
   "outputs": [
    {
     "data": {
      "image/png": "[encoded data removed]",
      "text/latex": [
       "$\\displaystyle - \\frac{q^{2} v_{0} x}{\\sigma^{4}} + \\frac{v_{0} x}{\\sigma^{2}}$"
      ],
      "text/plain": [
       "   2            \n",
       "  q ⋅v₀⋅x   v₀⋅x\n",
       "- ─────── + ────\n",
       "      4       2 \n",
       "     σ       σ  "
      ]
     },
     "execution_count": 7,
     "metadata": {},
     "output_type": "execute_result"
    }
   ],
   "source": [
    "diff22 = diff2.replace(exp(-q**2/(2*sigma**2)), x)\n",
    "\n",
    "diff22"
   ]
  },
  {
   "cell_type": "markdown",
   "id": "bd4fc062",
   "metadata": {},
   "source": [
    "**2.3 Solving for the Equations of Motion**"
   ]
  },
  {
   "cell_type": "markdown",
   "id": "65e379f7",
   "metadata": {},
   "source": [
    "We must solve the equations of motion for `q`, `p`, `x`, `x2`, and `xp` using the parameters defined in section 1."
   ]
  },
  {
   "cell_type": "code",
   "execution_count": 41,
   "id": "8ae5f953",
   "metadata": {},
   "outputs": [
    {
     "name": "stdout",
     "output_type": "stream",
     "text": [
      "q = dt*p/mass + q\n",
      "x = -0.5*dt*q*xp/(mass*sigma**2) + x\n",
      "p = -0.5*dt*q*v_0*x/sigma**2 + p\n",
      "p2 = -1.0*dt*q*v_0*xp/sigma**2 + p2\n"
     ]
    }
   ],
   "source": [
    "# Again, we must first define all variables as symbols. #\n",
    "\n",
    "q, p, p2, x, x2, xp, dt, mass, D, alpha, sigma = symbols(\"q, p, p2, x, x2, xp, dt, mass, D, alpha, sigma\")\n",
    "q_0 = 0.0\n",
    "\n",
    "########## EOM Calculations ##########\n",
    "\n",
    "# If you want to see the output of any of the below, uncomment the desired print line. #\n",
    "\n",
    "# There are two ways to derive the EOM's, using the `time_deriv` function and then the original way is with `QHD_int`\n",
    "# The `time_deriv` function is used as it's more versatile at this time, however it's still not perfect.\n",
    "# `QHD_int` uses the `time_deriv` function\n",
    "\n",
    "px = xp\n",
    "q1 = str(time_deriv(q, 1)*dt + q)\n",
    "print(\"q = \" + str(q1))\n",
    "\n",
    "x = exp(-q**2/(2*sigma**2))\n",
    "x1 = sympify(str(time_deriv(x, 1)).replace(\"exp(-q**2/(2*sigma**2))\", \"x\"))\n",
    "x1 = str((symmetrize(x1))*(0.5)*dt + Symbol(\"x\"))\n",
    "x1 = str(x1).replace(\"p*q*x\", \"q*xp\")\n",
    "print(\"x = \" + str(x1))\n",
    "\n",
    "p1 = str(time_deriv(p, 1)).replace(\"v(q)\", str(potential_sym))\n",
    "p1 = expand(sympify(p1).doit())\n",
    "p1 = str(p1).replace(\"exp(-2*alpha*q)\", \"x2\").replace(\"alpha**2\", \"0\")\n",
    "p1 = sympify(p1)\n",
    "p1 = str(symmetrize(p1)*(0.5)*dt + p).replace(\"exp(-q**2/(2*sigma**2))\", \"x\")\n",
    "print(\"p = \" + str(p1))\n",
    "\n",
    "x = Symbol(\"x\")\n",
    "p21 = str(time_deriv(p, 2)).replace(\"v(q)\", str(potential_sym))\n",
    "p21 = expand(sympify(p21).doit())\n",
    "p21 = str(-p21).replace(\"exp(-q**2/(2*sigma**2))\", \"x\").replace(\"exp(-2*alpha*q)\", \"x2\").replace(\"alpha**2\", \"0\")\n",
    "p21 = str(symmetrize(p21)*(0.5)*dt + p2).replace(\"exp(-q**2/(2*sigma**2))\", \"x\").replace(\"exp(-2*alpha*q)\", \"x2\")\n",
    "p21 = str(p21).replace(\"p*q*v_0*x\", \"q*v_0*xp\")\n",
    "print(\"p2 = \" + str(p21))"
   ]
  },
  {
   "cell_type": "code",
   "execution_count": 42,
   "id": "f2214179",
   "metadata": {},
   "outputs": [],
   "source": [
    "def integrate_x2(q,p,pq,q2,p2,x,x2,xp,xq,dt,mass,alp,D):\n",
    "    x2 = x2 - (q*xp-xp*q)/(mass*sigma**2)#4.0*(alp/mass)*x*(xp - x*p)*0.5*dt\n",
    "    x2 = exp((-(alp*p*dt/mass)**2)/sigma**2)*x2\n",
    "    x2 = x2 - (q*xp-xp*q)/(mass*sigma**2)#4.0*(alp/mass)*x*(xp - x*p)*0.5*dt\n",
    "    return x2\n",
    "\n",
    "def integrate_xp(q,p,pq,q2,p2,x,x2,xp,xq,dt,mass,alp,D):\n",
    "    xp = xp + 1/(mass*sigma**2)*(3*p2*(q*x+x*q)+p**2*(q*x+x*q))*1/4 + (v_0*q*x2-v_0*q*x)/(sigma**2)#0.5*dt*(2.0*alp*D*(x*(3.0*x2 - 2*x*x) - x2)  - (alp*x/mass)*(p2 - 2.0*p*p) )\n",
    "    xp = exp((-(alp*p*dt/mass)**2)/sigma**2)*xp\n",
    "    xp = xp + 1/(mass*sigma**2)*(3*p2*(q*x+x*q)+p**2*(q*x+x*q))*1/4 + (v_0*q*x2-v_0*q*x)/(sigma**2) #0.5*dt*(2.0*alp*D*(x*(3.0*x2 - 2*x*x) - x2)  - (alp*x/mass)*(p2 - 2.0*p*p) )\n",
    "    return xp"
   ]
  },
  {
   "cell_type": "markdown",
   "id": "9cf46d70",
   "metadata": {},
   "source": [
    "Now, we are ready to make plots of the data based on the EOM's as computed above."
   ]
  },
  {
   "cell_type": "markdown",
   "id": "f0f4c430",
   "metadata": {},
   "source": [
    "# 3. Graphing"
   ]
  },
  {
   "cell_type": "markdown",
   "id": "0fb0527b",
   "metadata": {},
   "source": [
    "**3.1 Generating Time-Dependent Values**"
   ]
  },
  {
   "cell_type": "markdown",
   "id": "5d2f3329",
   "metadata": {},
   "source": [
    "We will first define all of the parameters necessary to perform the QHD calculations."
   ]
  },
  {
   "cell_type": "code",
   "execution_count": 43,
   "id": "0c1c301f",
   "metadata": {},
   "outputs": [],
   "source": [
    "### Specific Parameters: ###\n",
    "\n",
    "v_0 = 1 # Hartree\n",
    "sigma = 0.1 # Angstrom\n",
    "mass = 1836 # a.u.\n",
    "\n",
    "\n",
    "### Constants: ###\n",
    "\n",
    "hbar = 0.6582  # eV * fs\n",
    "convert = (1.0/17.586)\n",
    "mass, q0, p0, s0, ps0, T, dt = 2980.0*convert, 0.15, 0.0, 0.05, 0.0, 500, 0.1\n",
    "alpha = 2.567\n",
    "alp = alpha\n",
    "\n",
    "\n",
    "##### Initial Conditions #####\n",
    "\n",
    "t = 0.0    \n",
    "Etot = 0.0\n",
    "Etot0 = 0.0\n",
    "Etot_cl = 0.0\n",
    "Etot_cl0 = 0.0\n",
    "q,p,pq,q2,p2,x,x2,xp,xq = 0.0, 0.0, 0.0, 0.0, 0.0, 0.0, 0.0, 0.0, 0.0\n",
    "q, p = q0, p0\n",
    "q_0 = 0.0\n",
    "q2 = q*q + s0*s0\n",
    "pq = ps0*s0 + q*p\n",
    "p2 = p*p + ps0*ps0 + (0.5*hbar/s0)**2\n",
    "x = exp(-alp*q0)*exp(0.5*alp*alp*s0*s0)\n",
    "x2 = exp(-2.0*alp*q0)*exp(2.0*alp*alp*s0*s0)\n",
    "xq = x*(q-alp*s0*s0)\n",
    "xp = x*(p - s0*ps0*alp)\n",
    "\n",
    "##### ----- #####\n",
    "\n",
    "xp = integrate_xp(q,p,pq,q2,p2,x,x2,xp,xq,0.5*dt,mass,alp,D)\n",
    "\n",
    "x2 = integrate_x2(q,p,pq,q2,p2,x,x2,xp,xq,0.5*dt,mass,alp,D)\n",
    "\n",
    "x = eval(x1)\n",
    "\n",
    "p2 = eval(p21)\n",
    "\n",
    "p = eval(p1)\n",
    "\n",
    "q = eval(q1)\n",
    "\n",
    "p = eval(p1)\n",
    "\n",
    "p2 = eval(p21)\n",
    "\n",
    "x = eval(x1)\n",
    "\n",
    "x2 = integrate_x2(q,p,pq,q2,p2,x,x2,xp,xq,0.5*dt,mass,alp,D)\n",
    "\n",
    "xp = integrate_xp(q,p,pq,q2,p2,x,x2,xp,xq,0.5*dt,mass,alp,D)\n",
    "\n",
    "##### Empty Lists for Data Storage: #####\n",
    "\n",
    "q_list = [] \n",
    "p_list = []"
   ]
  },
  {
   "cell_type": "markdown",
   "id": "9d2bcea2",
   "metadata": {},
   "source": [
    "Now that the parameters have been defined, we can compute the desired values of position and energy over a given time interval."
   ]
  },
  {
   "cell_type": "code",
   "execution_count": 44,
   "id": "00edfe36",
   "metadata": {},
   "outputs": [
    {
     "name": "stdout",
     "output_type": "stream",
     "text": [
      "0.025\n",
      "0.149699619393053\n",
      "Total runtime is 26.270827293395996\n"
     ]
    }
   ],
   "source": [
    "### Time how long it takes to compute ###\n",
    "\n",
    "import time \n",
    "begin = time.time()\n",
    "\n",
    "\n",
    "### Compute the x values ###\n",
    "\n",
    "dt = 0.1 # step size\n",
    "t_i = 0.0 # start\n",
    "t_f = 1000 # finish\n",
    "\n",
    "\n",
    "### Compute the y values ###\n",
    "\n",
    "i=0\n",
    "while i<1:        \n",
    "    s = (q2 - q*q)\n",
    "    print(q2)\n",
    "    print(q)\n",
    "    if s>0.0:\n",
    "        s = math.sqrt(s)\n",
    "    else: \n",
    "        s = 0.0\n",
    "    if s>0.0:\n",
    "        ps = (pq - p*q)/s\n",
    "    else: \n",
    "        ps = 0.0\n",
    "    i = i+1\n",
    "\n",
    "\n",
    "while t_i<=t_f:\n",
    "    xp = integrate_xp(q,p,pq,q2,p2,x,x2,xp,xq,0.5*dt,mass,alp,D)\n",
    "\n",
    "    x2 = integrate_x2(q,p,pq,q2,p2,x,x2,xp,xq,0.5*dt,mass,alp,D)\n",
    "\n",
    "    x = eval(x1)\n",
    "\n",
    "    p2 = eval(p21)\n",
    "\n",
    "    p = eval(p1)\n",
    "\n",
    "    q = eval(q1)\n",
    "\n",
    "    p = eval(p1)\n",
    "\n",
    "    p2 = eval(p21)\n",
    "\n",
    "    x = eval(x1)\n",
    "\n",
    "    x2 = integrate_x2(q,p,pq,q2,p2,x,x2,xp,xq,0.5*dt,mass,alp,D)\n",
    "\n",
    "    xp = integrate_xp(q,p,pq,q2,p2,x,x2,xp,xq,0.5*dt,mass,alp,D)\n",
    "\n",
    "\n",
    "    t_i = t_i + dt\n",
    "    i=0\n",
    "    while i<1:\n",
    "        s = (q2 - q*q)\n",
    "        if s>0.0:\n",
    "            s = math.sqrt(s)\n",
    "        else: \n",
    "            s = 0.0\n",
    "        if s>0.0:\n",
    "            ps = (pq - p*q)/s\n",
    "        else: \n",
    "            ps = 0.0\n",
    "\n",
    "        i = i+1\n",
    "        q_list.append(q)\n",
    "        p_list.append(p)\n",
    "\n",
    "\n",
    "### Compute the end time ###\n",
    "    \n",
    "time.sleep(1)\n",
    "# store end time\n",
    "end = time.time()\n",
    "  \n",
    "# total time taken\n",
    "print(f\"Total runtime is {end - begin}\")"
   ]
  },
  {
   "cell_type": "markdown",
   "id": "0a29468e",
   "metadata": {},
   "source": [
    "For the x values, we create a range with `(t_i, t_f, dt)` as the parameters. Due to the increasing nature of `t_i`, the initial value of `0.0` is used in its place."
   ]
  },
  {
   "cell_type": "code",
   "execution_count": 45,
   "id": "3b70b4f5",
   "metadata": {},
   "outputs": [],
   "source": [
    "### Define the x values ###\n",
    "\n",
    "x_list = np.arange(0, t_f, dt)\n",
    "\n",
    "\n",
    "### To change from a.u. to fs time: ###\n",
    "\n",
    "#for i in range(0, len(x_list)):\n",
    "#    x_list[i] = x_list[i] * 0.02418884254"
   ]
  },
  {
   "cell_type": "markdown",
   "id": "2f191f7a",
   "metadata": {},
   "source": [
    "**3.2 Graphing Position versus Time**"
   ]
  },
  {
   "cell_type": "code",
   "execution_count": 46,
   "id": "f5a6f597",
   "metadata": {},
   "outputs": [
    {
     "data": {
      "image/png": "[encoded data removed]",
      "text/plain": [
       "<Figure size 432x288 with 1 Axes>"
      ]
     },
     "metadata": {
      "needs_background": "light"
     },
     "output_type": "display_data"
    }
   ],
   "source": [
    "plt.plot(x_list, q_list, 'm')\n",
    "plt.title(\"Position vs. Time, Gaussian Potential\")\n",
    "plt.xlim(0, 500)\n",
    "plt.xlabel(\"Time (fs)\")\n",
    "#plt.ylim(0.149, 0.151)\n",
    "plt.ylabel(\"Position, q\")\n",
    "#plt.savefig('gaussian_qVt_001sig.png')\n",
    "plt.show()"
   ]
  },
  {
   "cell_type": "markdown",
   "id": "38596fd7",
   "metadata": {},
   "source": [
    "**3.2.1 Grpahing Potential versus Time**"
   ]
  },
  {
   "cell_type": "code",
   "execution_count": 47,
   "id": "45fe7f1d",
   "metadata": {},
   "outputs": [
    {
     "data": {
      "image/png": "[encoded data removed]",
      "text/plain": [
       "<Figure size 432x288 with 1 Axes>"
      ]
     },
     "metadata": {
      "needs_background": "light"
     },
     "output_type": "display_data"
    }
   ],
   "source": [
    "plt.plot(x_list, p_list, 'm')\n",
    "plt.title(\"Momentum vs. Time, Gaussian Potential\")\n",
    "plt.xlim(0, 500)\n",
    "plt.xlabel(\"Time (fs)\")\n",
    "#plt.ylim(-0.5, 0.5)\n",
    "plt.ylabel(\"Momentum, p\")\n",
    "#plt.savefig('gaussian_pVt_001sig.png')\n",
    "plt.show()"
   ]
  },
  {
   "cell_type": "markdown",
   "id": "5c3e61c2",
   "metadata": {},
   "source": [
    "**3.3 Energy versus Time**"
   ]
  },
  {
   "cell_type": "code",
   "execution_count": 22,
   "id": "3d01f40b",
   "metadata": {},
   "outputs": [
    {
     "ename": "NameError",
     "evalue": "name 'e_list1' is not defined",
     "output_type": "error",
     "traceback": [
      "\u001b[1;31m---------------------------------------------------------------------------\u001b[0m",
      "\u001b[1;31mNameError\u001b[0m                                 Traceback (most recent call last)",
      "\u001b[1;32m<ipython-input-22-1c58fcb99379>\u001b[0m in \u001b[0;36m<module>\u001b[1;34m\u001b[0m\n\u001b[0;32m      1\u001b[0m \u001b[1;31m#plt.plot(x_list, e_list0)\u001b[0m\u001b[1;33m\u001b[0m\u001b[1;33m\u001b[0m\u001b[1;33m\u001b[0m\u001b[0m\n\u001b[1;32m----> 2\u001b[1;33m \u001b[0mplt\u001b[0m\u001b[1;33m.\u001b[0m\u001b[0mplot\u001b[0m\u001b[1;33m(\u001b[0m\u001b[0mx_list\u001b[0m\u001b[1;33m,\u001b[0m \u001b[0me_list1\u001b[0m\u001b[1;33m,\u001b[0m \u001b[1;34m\"k\"\u001b[0m\u001b[1;33m)\u001b[0m\u001b[1;33m\u001b[0m\u001b[1;33m\u001b[0m\u001b[0m\n\u001b[0m\u001b[0;32m      3\u001b[0m \u001b[0mplt\u001b[0m\u001b[1;33m.\u001b[0m\u001b[0mplot\u001b[0m\u001b[1;33m(\u001b[0m\u001b[0mx_list\u001b[0m\u001b[1;33m,\u001b[0m \u001b[0me_list2\u001b[0m\u001b[1;33m,\u001b[0m \u001b[1;34m\"m\"\u001b[0m\u001b[1;33m)\u001b[0m\u001b[1;33m\u001b[0m\u001b[1;33m\u001b[0m\u001b[0m\n\u001b[0;32m      4\u001b[0m \u001b[0mplt\u001b[0m\u001b[1;33m.\u001b[0m\u001b[0mlegend\u001b[0m\u001b[1;33m(\u001b[0m\u001b[1;33m[\u001b[0m\u001b[1;34m\"QHD E\"\u001b[0m\u001b[1;33m,\u001b[0m \u001b[1;34m\"Classical E\"\u001b[0m\u001b[1;33m]\u001b[0m\u001b[1;33m)\u001b[0m\u001b[1;33m\u001b[0m\u001b[1;33m\u001b[0m\u001b[0m\n\u001b[0;32m      5\u001b[0m \u001b[1;31m#plt.plot([0, 500], [0, 0], \"k-\")\u001b[0m\u001b[1;33m\u001b[0m\u001b[1;33m\u001b[0m\u001b[1;33m\u001b[0m\u001b[0m\n",
      "\u001b[1;31mNameError\u001b[0m: name 'e_list1' is not defined"
     ]
    }
   ],
   "source": [
    "#plt.plot(x_list, e_list0)\n",
    "plt.plot(x_list, e_list1, \"k\")\n",
    "plt.plot(x_list, e_list2, \"m\")\n",
    "plt.legend([\"QHD E\", \"Classical E\"])\n",
    "#plt.plot([0, 500], [0, 0], \"k-\")\n",
    "plt.title(\"Energy vs. Time\")\n",
    "plt.xlim(0, 1000)\n",
    "plt.xlabel(\"Time (fs)\")\n",
    "#plt.ylim(-5, 0.5)\n",
    "plt.ylabel(\"Energy, eV\")\n",
    "#plt.savefig('gaussian_eVt.png')\n",
    "plt.show()"
   ]
  },
  {
   "cell_type": "code",
   "execution_count": null,
   "id": "43c75dd6",
   "metadata": {},
   "outputs": [],
   "source": []
  }
 ],
 "metadata": {
  "kernelspec": {
   "display_name": "Python 3",
   "language": "python",
   "name": "python3"
  },
  "language_info": {
   "codemirror_mode": {
    "name": "ipython",
    "version": 3
   },
   "file_extension": ".py",
   "mimetype": "text/x-python",
   "name": "python",
   "nbconvert_exporter": "python",
   "pygments_lexer": "ipython3",
   "version": "3.8.8"
  }
 },
 "nbformat": 4,
 "nbformat_minor": 5
}
