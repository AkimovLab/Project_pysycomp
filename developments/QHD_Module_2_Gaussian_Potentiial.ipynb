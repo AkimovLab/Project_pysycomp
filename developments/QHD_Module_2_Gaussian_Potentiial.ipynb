{
 "cells": [
  {
   "cell_type": "code",
   "execution_count": 18,
   "id": "24a0c295",
   "metadata": {},
   "outputs": [],
   "source": [
    "from QHD import *\n",
    "\n",
    "import matplotlib.pyplot as plt\n",
    "import numpy as np"
   ]
  },
  {
   "cell_type": "markdown",
   "id": "e23b1dff",
   "metadata": {},
   "source": [
    "# Tunneling Through A Gaussian Potential"
   ]
  },
  {
   "cell_type": "markdown",
   "id": "1d350a9c",
   "metadata": {},
   "source": [
    "### 1. The Potential"
   ]
  },
  {
   "cell_type": "markdown",
   "id": "ca1e3cdc",
   "metadata": {},
   "source": [
    "**Parameters**\n",
    "\n",
    "$A = 8000 cm^{(-1)}$\n",
    "\n",
    "$\\sigma = 0.1 angrstrom$\n",
    "\n",
    "**Potential**\n",
    "\n",
    "$V(q)=A*e^{(-\\sigma q^2)}$"
   ]
  },
  {
   "cell_type": "code",
   "execution_count": 20,
   "id": "2fe24e97",
   "metadata": {},
   "outputs": [
    {
     "data": {
      "image/png": "[encoded data removed]",
      "text/plain": [
       "<Figure size 432x288 with 1 Axes>"
      ]
     },
     "metadata": {
      "needs_background": "light"
     },
     "output_type": "display_data"
    }
   ],
   "source": [
    "### Might change to regular potential ###\n",
    "\n",
    "def gaussian_potential(A, sigma):\n",
    "    return (A*np.exp(sigma*q**2))\n",
    "\n",
    "A = 8000 * 10**(-2)\n",
    "sigma = 0.1 * 10**(-10)\n",
    "\n",
    "q = np.linspace(-1, 1, 1000)\n",
    "plt.plot(q, gaussian_potential(A, sigma))\n",
    "plt.title(\"Gaussian Potential\")\n",
    "plt.xlim(-5, 5)\n",
    "plt.xlabel(\"Position, q\")\n",
    "plt.ylabel(\"Potential, V(q)\")\n",
    "plt.savefig(\"gaussian_vVq.png\")\n",
    "plt.show()"
   ]
  },
  {
   "cell_type": "markdown",
   "id": "19377087",
   "metadata": {},
   "source": [
    "### 2. Derivation of  QHD formulas"
   ]
  },
  {
   "cell_type": "markdown",
   "id": "f65f7c32",
   "metadata": {},
   "source": [
    "The q expression:"
   ]
  },
  {
   "cell_type": "code",
   "execution_count": 3,
   "id": "6c66936f",
   "metadata": {},
   "outputs": [
    {
     "name": "stdout",
     "output_type": "stream",
     "text": [
      "q = dt*p/mass + q\n",
      "\n",
      "q2 = dt*(2.0*q*p/mass + 1/mass) + q**2\n"
     ]
    },
    {
     "data": {
      "image/png": "[encoded data removed]",
      "text/latex": [
       "$\\displaystyle dt \\left(\\frac{2.0 q \\frac{d}{d q} 1}{mass} + \\frac{1}{mass}\\right) + q^{2}$"
      ],
      "text/plain": [
       "   ⎛      d           ⎞     \n",
       "   ⎜2.0⋅q⋅──(1)       ⎟     \n",
       "   ⎜      dq       1  ⎟    2\n",
       "dt⋅⎜─────────── + ────⎟ + q \n",
       "   ⎝    mass      mass⎠     "
      ]
     },
     "execution_count": 3,
     "metadata": {},
     "output_type": "execute_result"
    }
   ],
   "source": [
    "q, p, mass, dt = symbols(\"q p mass dt\")\n",
    "\n",
    "print(\"q = \" + str(QHD_int(q, 1, dt)) + \"\\n\")\n",
    "\n",
    "print(\"q2 = \" + str(QHD_int(q, 2, dt)).replace(\"Derivative(1, q)\", \"p\"))\n",
    "\n",
    "QHD_int(q, 2, dt)"
   ]
  },
  {
   "cell_type": "markdown",
   "id": "3accadc6",
   "metadata": {},
   "source": [
    "**2.1 Taking the derivative in Python**"
   ]
  },
  {
   "cell_type": "markdown",
   "id": "0537b594",
   "metadata": {},
   "source": [
    "We can do a change of variable in the potential to:\n",
    "\n",
    "$$x=e^{-\\sigma q**2}$$\n",
    "\n",
    "And so:\n",
    "\n",
    "$$V(q)=A*x$$\n",
    "\n",
    "We will now take the first and second derivatives of the original potential, and then perform the change of variables:"
   ]
  },
  {
   "cell_type": "code",
   "execution_count": 4,
   "id": "cf88e1fd",
   "metadata": {},
   "outputs": [],
   "source": [
    "gaussian_potential = A*exp(sigma*q**2)"
   ]
  },
  {
   "cell_type": "code",
   "execution_count": 5,
   "id": "2a3ebd4e",
   "metadata": {},
   "outputs": [
    {
     "data": {
      "image/png": "[encoded data removed]",
      "text/latex": [
       "$\\displaystyle 1.6 \\cdot 10^{-9} q e^{1.0 \\cdot 10^{-11} q^{2}}$"
      ],
      "text/plain": [
       "                   2\n",
       "          1.0e-11⋅q \n",
       "1.6e-9⋅q⋅ℯ          "
      ]
     },
     "execution_count": 5,
     "metadata": {},
     "output_type": "execute_result"
    }
   ],
   "source": [
    "sigma, q, A = symbols(\"sigma, q, A\")\n",
    "\n",
    "diff1 = diff(gaussian_potential, q)\n",
    "\n",
    "diff1"
   ]
  },
  {
   "cell_type": "code",
   "execution_count": 6,
   "id": "5320c3aa",
   "metadata": {},
   "outputs": [
    {
     "data": {
      "image/png": "[encoded data removed]",
      "text/latex": [
       "$\\displaystyle 3.2 \\cdot 10^{-20} q^{2} e^{1.0 \\cdot 10^{-11} q^{2}} + 1.6 \\cdot 10^{-9} e^{1.0 \\cdot 10^{-11} q^{2}}$"
      ],
      "text/plain": [
       "                     2                    2\n",
       "         2  1.0e-11⋅q            1.0e-11⋅q \n",
       "3.2e-20⋅q ⋅ℯ           + 1.6e-9⋅ℯ          "
      ]
     },
     "execution_count": 6,
     "metadata": {},
     "output_type": "execute_result"
    }
   ],
   "source": [
    "sigma, q, A = symbols(\"sigma, q, A\")\n",
    "\n",
    "diff2 = diff(diff1, q)\n",
    "\n",
    "diff2"
   ]
  },
  {
   "cell_type": "code",
   "execution_count": 7,
   "id": "0ed67caa",
   "metadata": {},
   "outputs": [
    {
     "data": {
      "image/png": "[encoded data removed]",
      "text/latex": [
       "$\\displaystyle 1.6 \\cdot 10^{-9} q e^{1.0 \\cdot 10^{-11} q^{2}}$"
      ],
      "text/plain": [
       "                   2\n",
       "          1.0e-11⋅q \n",
       "1.6e-9⋅q⋅ℯ          "
      ]
     },
     "execution_count": 7,
     "metadata": {},
     "output_type": "execute_result"
    }
   ],
   "source": [
    "x = Symbol(\"x\")\n",
    "\n",
    "diff11 = diff1.replace(exp(q**2*sigma), x).replace(A, 1)\n",
    "\n",
    "diff11"
   ]
  },
  {
   "cell_type": "code",
   "execution_count": 8,
   "id": "3d296931",
   "metadata": {},
   "outputs": [
    {
     "data": {
      "image/png": "[encoded data removed]",
      "text/latex": [
       "$\\displaystyle 3.2 \\cdot 10^{-20} q^{2} e^{1.0 \\cdot 10^{-11} q^{2}} + 1.6 \\cdot 10^{-9} e^{1.0 \\cdot 10^{-11} q^{2}}$"
      ],
      "text/plain": [
       "                     2                    2\n",
       "         2  1.0e-11⋅q            1.0e-11⋅q \n",
       "3.2e-20⋅q ⋅ℯ           + 1.6e-9⋅ℯ          "
      ]
     },
     "execution_count": 8,
     "metadata": {},
     "output_type": "execute_result"
    }
   ],
   "source": [
    "diff22 = diff2.replace(exp(q**2*sigma), x).replace(A, 1)\n",
    "\n",
    "diff22"
   ]
  },
  {
   "cell_type": "markdown",
   "id": "f7b7acd4",
   "metadata": {},
   "source": [
    "The p expressions:"
   ]
  },
  {
   "cell_type": "code",
   "execution_count": 9,
   "id": "4c0fc4e8",
   "metadata": {},
   "outputs": [
    {
     "name": "stdout",
     "output_type": "stream",
     "text": [
      "p = -1.6e-9*dt*q*exp(1.0e-11*q**2) + p\n",
      "\n",
      "p2 = dt*(6.4e-9*p*q*exp(1.0e-11*q**2) + 6.4e-20*q**2*exp(1.0e-11*q**2) + 1.6e-9*exp(1.0e-11*q**2)) + p**2\n",
      "\n"
     ]
    }
   ],
   "source": [
    "p,x,x2,dt,mass,alpha,D = symbols(\"p,x,x2,dt,mass,alpha,D\")\n",
    "\n",
    "QHD_p = sympify(str(QHD_int(p, 1, dt)).replace(\"Derivative(v(q), q)\", str(diff11)))\n",
    "\n",
    "print(\"p = \" + str(QHD_p) + \"\\n\")\n",
    "\n",
    "QHD_p2 = sympify(str(QHD_int(p, 2, dt)).replace(\"Derivative(v(q), (q, 2))\", str(diff22)).replace(\"Derivative(v(q), q)\", str(diff11)))\n",
    "\n",
    "print(\"p2 = \" + str(QHD_p2) + \"\\n\")"
   ]
  },
  {
   "cell_type": "markdown",
   "id": "23803510",
   "metadata": {},
   "source": [
    "### 3. Plot position versus time"
   ]
  },
  {
   "cell_type": "code",
   "execution_count": 10,
   "id": "8de59d06",
   "metadata": {},
   "outputs": [
    {
     "name": "stdout",
     "output_type": "stream",
     "text": [
      "Total runtime is 101.76786184310913\n"
     ]
    }
   ],
   "source": [
    "### Time how long it takes to compute ###\n",
    "\n",
    "import time \n",
    "begin = time.time()\n",
    "\n",
    "### Parameters: ###\n",
    "\n",
    "q0 = 0.15\n",
    "p0 = 0.0\n",
    "s0 = 0.05\n",
    "ps0 = 0.0\n",
    "\n",
    "\n",
    "D = 4.419\n",
    "mass = 1836\n",
    "A = 8000 * 10**(-2)\n",
    "sigma = 0.1 * 10**(-10)\n",
    "hbar = 0.6582  # eV * fs\n",
    "y_list = []\n",
    "\n",
    "Etot = 0.0\n",
    "Etot0 = 0.0\n",
    "Etot_cl = 0.0\n",
    "Etot_cl0 = 0.0\n",
    "q,p,pq,q2,p2,x,x2,xp,xq = 0.0, 0.0, 0.0, 0.0, 0.0, 0.0, 0.0, 0.0, 0.0\n",
    "q, p = q0, p0\n",
    "q2 = q*q + s0*s0\n",
    "pq = ps0*s0 + q*p\n",
    "p2 = p*p + ps0*ps0 + (0.5*hbar/s0)**2\n",
    "x = exp(-sigma*q**2) #exp(-alpha*q0)*exp(0.5*alpha*alpha*s0*s0)\n",
    "#x2 = #exp(-2.0*alpha*q0)*exp(2.0*alpha*alpha*s0*s0)\n",
    "#xq = #x*(q-alpha*s0*s0)\n",
    "#xp = #x*(p - s0*ps0*alpha)\n",
    "\n",
    "### Compute the y values ###\n",
    "\n",
    "dt = 0.1\n",
    "t = 0.0\n",
    "T = 1000\n",
    "\n",
    "y_list = []\n",
    "\n",
    "while t <= T:\n",
    "    x = exp(q2*sigma) + 0.2*q2*sigma**2*exp(q2*sigma)/mass + 0.2*q*sigma*exp(q2*sigma)*p/mass + 0.1*sigma*exp(q2*sigma)/mass\n",
    "    \n",
    "    q = dt*p/mass + q \n",
    "    \n",
    "    q2 = dt*(2.0*q*p/mass + 1/mass) + q**2\n",
    "\n",
    "#    p = 2*dt*q*sigma*x + p\n",
    "    p = -2*dt*q*sigma*x + p\n",
    "\n",
    "#    p2 = dt*(-8.0*p*q*sigma*x + 8.0*q**2*sigma**2*x - 2*sigma*x) + p**2\n",
    "    p2 = dt*(8.0*p*q*sigma*x + 8.0*q**2*sigma**2*x + 2*sigma*x) + p**2\n",
    "\n",
    "    t = t + dt\n",
    "    \n",
    "    y_list.append(q)\n",
    "    \n",
    "time.sleep(1)\n",
    "# store end time\n",
    "end = time.time()\n",
    "  \n",
    "# total time taken\n",
    "print(f\"Total runtime is {end - begin}\")"
   ]
  },
  {
   "cell_type": "code",
   "execution_count": 17,
   "id": "81a682c0",
   "metadata": {},
   "outputs": [
    {
     "data": {
      "image/png": "[encoded data removed]",
      "text/plain": [
       "<Figure size 432x288 with 1 Axes>"
      ]
     },
     "metadata": {
      "needs_background": "light"
     },
     "output_type": "display_data"
    }
   ],
   "source": [
    "### Define the x values ###\n",
    "\n",
    "x_list = np.arange(0, 1000, 0.1)\n",
    "plt.plot(x_list, y_list)\n",
    "plt.plot([0, 500], [0, 0], \"k-\")\n",
    "plt.title(\"Position vs. Time, Gaussian Potential\")\n",
    "plt.xlim(0, 200)\n",
    "plt.xlabel(\"Time (fs)\")\n",
    "plt.ylim(-0.5, 0.5)\n",
    "plt.ylabel(\"Position, q\")\n",
    "plt.savefig('gaussian_qVt.png')\n",
    "plt.show()"
   ]
  },
  {
   "cell_type": "code",
   "execution_count": null,
   "id": "da26b527",
   "metadata": {},
   "outputs": [],
   "source": []
  },
  {
   "cell_type": "code",
   "execution_count": null,
   "id": "5882c241",
   "metadata": {},
   "outputs": [],
   "source": []
  },
  {
   "cell_type": "code",
   "execution_count": null,
   "id": "6fc7a2ae",
   "metadata": {},
   "outputs": [],
   "source": []
  },
  {
   "cell_type": "code",
   "execution_count": 37,
   "id": "da985708",
   "metadata": {},
   "outputs": [
    {
     "data": {
      "image/png": "[encoded data removed]",
      "text/latex": [
       "$\\displaystyle e^{q^{2} \\sigma}$"
      ],
      "text/plain": [
       "  2  \n",
       " q ⋅σ\n",
       "ℯ    "
      ]
     },
     "execution_count": 37,
     "metadata": {},
     "output_type": "execute_result"
    }
   ],
   "source": [
    "sigma, q = symbols(\"sigma, q\")\n",
    "\n",
    "x = exp(sigma*q**2)\n",
    "\n",
    "x"
   ]
  },
  {
   "cell_type": "code",
   "execution_count": 39,
   "id": "bcf1d78c",
   "metadata": {},
   "outputs": [
    {
     "name": "stdout",
     "output_type": "stream",
     "text": [
      "exp(q**2*sigma) + 0.2*q**2*sigma**2*exp(q**2*sigma)/mass + 0.2*q*sigma*exp(q**2*sigma)*Derivative(1, q)/mass + 0.1*sigma*exp(q**2*sigma)/mass\n"
     ]
    }
   ],
   "source": [
    "print(QHD_int(x, 1, dt))"
   ]
  },
  {
   "cell_type": "code",
   "execution_count": 14,
   "id": "3b9c8657",
   "metadata": {},
   "outputs": [
    {
     "data": {
      "image/png": "[encoded data removed]",
      "text/latex": [
       "$\\displaystyle 0.0225000002450735$"
      ],
      "text/plain": [
       "0.0225000002450735"
      ]
     },
     "execution_count": 14,
     "metadata": {},
     "output_type": "execute_result"
    }
   ],
   "source": [
    "QHD_int(q, 2, dt)"
   ]
  },
  {
   "cell_type": "code",
   "execution_count": null,
   "id": "79877eaf",
   "metadata": {},
   "outputs": [],
   "source": []
  }
 ],
 "metadata": {
  "kernelspec": {
   "display_name": "Python 3",
   "language": "python",
   "name": "python3"
  },
  "language_info": {
   "codemirror_mode": {
    "name": "ipython",
    "version": 3
   },
   "file_extension": ".py",
   "mimetype": "text/x-python",
   "name": "python",
   "nbconvert_exporter": "python",
   "pygments_lexer": "ipython3",
   "version": "3.8.8"
  }
 },
 "nbformat": 4,
 "nbformat_minor": 5
}
