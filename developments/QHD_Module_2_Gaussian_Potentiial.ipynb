{
 "cells": [
  {
   "cell_type": "code",
   "execution_count": 1,
   "id": "24a0c295",
   "metadata": {},
   "outputs": [],
   "source": [
    "from QHD import *\n",
    "\n",
    "import matplotlib.pyplot as plt\n",
    "import numpy as np"
   ]
  },
  {
   "cell_type": "markdown",
   "id": "e23b1dff",
   "metadata": {},
   "source": [
    "# The Gaussian Potential"
   ]
  },
  {
   "cell_type": "markdown",
   "id": "88842918",
   "metadata": {},
   "source": [
    "We first must define the potential along with its parameters, as described below, given by Rossman et. al"
   ]
  },
  {
   "cell_type": "markdown",
   "id": "1d350a9c",
   "metadata": {},
   "source": [
    "### 1. The Potential"
   ]
  },
  {
   "cell_type": "markdown",
   "id": "ca1e3cdc",
   "metadata": {},
   "source": [
    "**Parameters**\n",
    "\n",
    "$v_0 = 1$ Hartree\n",
    "\n",
    "$\\sigma = 0.1$ Angstrom\n",
    "\n",
    "**Potential**\n",
    "\n",
    "$V(q)=v_0*e^{(\\frac{-q^2}{2*\\sigma^2})}$"
   ]
  },
  {
   "cell_type": "markdown",
   "id": "cd51a57c",
   "metadata": {},
   "source": [
    "We can define this potential as `potential`, and define the given parameters as `D`, `alpha`, and `q_0` as described below. We will also need to define the dependent variable, in this case `q` as a range using the `linspace` function found in `numpy`. The parameters are all in *atomic units*."
   ]
  },
  {
   "cell_type": "code",
   "execution_count": 2,
   "id": "2fe24e97",
   "metadata": {},
   "outputs": [],
   "source": [
    "v_0 = 1 # Hartree?\n",
    "sigma = 0.1 # Angstrom\n",
    "#sigma1 = 0.5\n",
    "q = np.linspace(-1, 1, 1000)\n",
    "\n",
    "\n",
    "potential = -v_0*np.exp(-q**2/(2*sigma**2))\n",
    "#potential1 = -v_0*np.exp(-q**2/(2*sigma1**2))"
   ]
  },
  {
   "cell_type": "markdown",
   "id": "0814a72d",
   "metadata": {},
   "source": [
    "Now that the parameters and potential have been defined, the potential can be plotted using the `matplotlib.pyplot` library. Any of the lines can be changed as desired."
   ]
  },
  {
   "cell_type": "code",
   "execution_count": 3,
   "id": "c6bdc0db",
   "metadata": {},
   "outputs": [
    {
     "data": {
      "image/png": "[encoded data removed]",
      "text/plain": [
       "<Figure size 432x288 with 1 Axes>"
      ]
     },
     "metadata": {
      "needs_background": "light"
     },
     "output_type": "display_data"
    }
   ],
   "source": [
    "q = np.linspace(-1, 1, 1000)\n",
    "plt.plot(q, potential, 'k')\n",
    "#plt.plot(q, potential1, \"m\")\n",
    "plt.title(\"Gaussian Potential\")\n",
    "plt.legend([r\"$\\sigma$ = 0.1\", r\"$\\sigma$ = 0.5\"])\n",
    "plt.xlim(-1, 1)\n",
    "plt.xlabel(\"Position, q\")\n",
    "plt.ylabel(\"Potential, V(q)\")\n",
    "plt.savefig(\"gaussian_vVq.png\")\n",
    "plt.show()"
   ]
  },
  {
   "cell_type": "markdown",
   "id": "c462eb0c",
   "metadata": {},
   "source": [
    "New potential equation given by: https://demonstrations.wolfram.com/EnergiesForParticleInAGaussianPotentialWell/"
   ]
  },
  {
   "cell_type": "markdown",
   "id": "19377087",
   "metadata": {},
   "source": [
    "### 2. Derivation of  QHD formulas"
   ]
  },
  {
   "cell_type": "markdown",
   "id": "8b6b9a80",
   "metadata": {},
   "source": [
    "Here, we use the pysces library, able to derive the equations of motion in the QHD method. We will need to define the `q`, `p`, `p2`, `x`, `x2`, and `xp` variables. In order to do this, we must first calculate the first and second derivatives of the potential of interest, defined in section 1. We will also use a change of variables as well, described below."
   ]
  },
  {
   "cell_type": "markdown",
   "id": "fea8f2b4",
   "metadata": {},
   "source": [
    "**2.1 The First and Second Derivatives of the Potential**"
   ]
  },
  {
   "cell_type": "markdown",
   "id": "c30ec4a7",
   "metadata": {},
   "source": [
    "To take the derivatives, we must represent the potential symbolically. This can be done by:"
   ]
  },
  {
   "cell_type": "code",
   "execution_count": 4,
   "id": "91660bfc",
   "metadata": {},
   "outputs": [],
   "source": [
    "# First, we must define all the parameters as stated in section 1 as symbols:\n",
    "\n",
    "v_0, sigma, q = symbols(\"v_0, sigma q\")\n",
    "\n",
    "# When computing symbolically, we do not need to use the numpy exponential function.\n",
    "\n",
    "potential_sym = -v_0*exp(-q**2/(2*sigma**2))"
   ]
  },
  {
   "cell_type": "markdown",
   "id": "152bf992",
   "metadata": {},
   "source": [
    "Now that the potential is represented symbolically, we may take the first and second derivatives, described by diff1 and diff2, respectively"
   ]
  },
  {
   "cell_type": "code",
   "execution_count": 5,
   "id": "75188ad0",
   "metadata": {},
   "outputs": [
    {
     "data": {
      "image/png": "[encoded data removed]",
      "text/latex": [
       "$\\displaystyle \\left( \\frac{q v_{0} e^{- \\frac{q^{2}}{2 \\sigma^{2}}}}{\\sigma^{2}}, \\  - \\frac{q^{2} v_{0} e^{- \\frac{q^{2}}{2 \\sigma^{2}}}}{\\sigma^{4}} + \\frac{v_{0} e^{- \\frac{q^{2}}{2 \\sigma^{2}}}}{\\sigma^{2}}\\right)$"
      ],
      "text/plain": [
       "⎛        2              2          2 ⎞\n",
       "⎜      -q             -q         -q  ⎟\n",
       "⎜      ────           ────       ────⎟\n",
       "⎜         2              2          2⎟\n",
       "⎜      2⋅σ      2     2⋅σ        2⋅σ ⎟\n",
       "⎜q⋅v₀⋅ℯ        q ⋅v₀⋅ℯ       v₀⋅ℯ    ⎟\n",
       "⎜──────────, - ─────────── + ────────⎟\n",
       "⎜     2              4           2   ⎟\n",
       "⎝    σ              σ           σ    ⎠"
      ]
     },
     "execution_count": 5,
     "metadata": {},
     "output_type": "execute_result"
    }
   ],
   "source": [
    "diff1 = diff(potential_sym, q)\n",
    "diff2 = diff(diff1, q)\n",
    "\n",
    "diff1, diff2"
   ]
  },
  {
   "cell_type": "markdown",
   "id": "4e222ac8",
   "metadata": {},
   "source": [
    "**2.2 Change of Variable**"
   ]
  },
  {
   "cell_type": "markdown",
   "id": "e48d4113",
   "metadata": {},
   "source": [
    "We can do a change of variable in the potential to:\n",
    "\n",
    "$$x=e^{(\\frac{-q^2}{2*\\sigma^2})}$$\n",
    "\n",
    "And so:\n",
    "\n",
    "$$V(q)=A*x$$\n",
    "\n",
    "We will now take the first and second derivatives of the original potential, and then perform the change of variables."
   ]
  },
  {
   "cell_type": "markdown",
   "id": "719cf509",
   "metadata": {},
   "source": [
    "- The First Derivative:"
   ]
  },
  {
   "cell_type": "code",
   "execution_count": 6,
   "id": "31f01035",
   "metadata": {},
   "outputs": [
    {
     "data": {
      "image/png": "[encoded data removed]",
      "text/latex": [
       "$\\displaystyle \\frac{q v_{0} x}{\\sigma^{2}}$"
      ],
      "text/plain": [
       "q⋅v₀⋅x\n",
       "──────\n",
       "   2  \n",
       "  σ   "
      ]
     },
     "execution_count": 6,
     "metadata": {},
     "output_type": "execute_result"
    }
   ],
   "source": [
    "x = Symbol(\"x\")\n",
    "\n",
    "diff11 = diff1.replace(exp(-q**2/(2*sigma**2)), x)\n",
    "\n",
    "diff11"
   ]
  },
  {
   "cell_type": "markdown",
   "id": "39796be7",
   "metadata": {},
   "source": [
    "- The Second Derivative:"
   ]
  },
  {
   "cell_type": "code",
   "execution_count": 7,
   "id": "d4e18d54",
   "metadata": {},
   "outputs": [
    {
     "data": {
      "image/png": "[encoded data removed]",
      "text/latex": [
       "$\\displaystyle - \\frac{q^{2} v_{0} x}{\\sigma^{4}} + \\frac{v_{0} x}{\\sigma^{2}}$"
      ],
      "text/plain": [
       "   2            \n",
       "  q ⋅v₀⋅x   v₀⋅x\n",
       "- ─────── + ────\n",
       "      4       2 \n",
       "     σ       σ  "
      ]
     },
     "execution_count": 7,
     "metadata": {},
     "output_type": "execute_result"
    }
   ],
   "source": [
    "diff22 = diff2.replace(exp(-q**2/(2*sigma**2)), x)\n",
    "\n",
    "diff22"
   ]
  },
  {
   "cell_type": "markdown",
   "id": "bd4fc062",
   "metadata": {},
   "source": [
    "**2.3 Solving for the Equations of Motion**"
   ]
  },
  {
   "cell_type": "markdown",
   "id": "65e379f7",
   "metadata": {},
   "source": [
    "We must solve the equations of motion for `q`, `p`, `x`, `x2`, and `xp` using the parameters defined in section 1."
   ]
  },
  {
   "cell_type": "code",
   "execution_count": 8,
   "id": "8ae5f953",
   "metadata": {},
   "outputs": [],
   "source": [
    "# Again, we must first define all variables as symbols. #\n",
    "\n",
    "q, p, x, x2, xp, dt, mass, alpha, D = symbols(\"q, p, x, x2, xp, dt, mass, alpha, D\")\n",
    "\n",
    "\n",
    "\n",
    "########## EOM Calculations ##########\n",
    "\n",
    "# If you want to see the output of any of the below, uncomment the desired print line. #\n",
    "\n",
    "q1 = str(QHD_int(q, 1, dt))\n",
    "\n",
    "#print(q1)\n",
    "\n",
    "x = exp(-q**2/(2*sigma**2))\n",
    "\n",
    "x1 = str(sympify(str(QHD_int(x, 1, dt)).replace(\"Derivative(1, (q, 2))\", \"p**2\").replace(\"Derivative(1, q)\", \"p\")))\n",
    "\n",
    "#print(x1)\n",
    "\n",
    "\n",
    "\n",
    "# Note: The x2 and xp functions used for the morse potential are not needed for the gaussian potential. #\n",
    "\n",
    "\n",
    "\n",
    "p1 = str(sympify(str(QHD_int(p, 1, dt)).replace(\"Derivative(v(q), q)\", str(diff11))))\n",
    "\n",
    "#print(p1)\n",
    "\n",
    "p21 = str(sympify(str(QHD_int(p, 2, dt)).replace(\"Derivative(v(q), (q, 2))\", str(diff22)).replace(\"Derivative(v(q), q)\", str(diff11))))\n",
    "\n",
    "#print(p21)"
   ]
  },
  {
   "cell_type": "markdown",
   "id": "9cf46d70",
   "metadata": {},
   "source": [
    "Now, we are ready to make plots of the data based on the EOM's as computed above."
   ]
  },
  {
   "cell_type": "markdown",
   "id": "f0f4c430",
   "metadata": {},
   "source": [
    "# 3. Graphing"
   ]
  },
  {
   "cell_type": "markdown",
   "id": "0fb0527b",
   "metadata": {},
   "source": [
    "**3.1 Generating Time-Dependent Values**"
   ]
  },
  {
   "cell_type": "markdown",
   "id": "5d2f3329",
   "metadata": {},
   "source": [
    "We will first define all of the parameters necessary to perform the QHD calculations."
   ]
  },
  {
   "cell_type": "code",
   "execution_count": 11,
   "id": "0c1c301f",
   "metadata": {},
   "outputs": [],
   "source": [
    "### Specific Parameters: ###\n",
    "\n",
    "v_0 = 1 # Hartree\n",
    "sigma = 0.5 # Angstrom\n",
    "mass = 1836 # a.u.\n",
    "\n",
    "\n",
    "### Constants: ###\n",
    "\n",
    "\n",
    "\n",
    "\n",
    "\n",
    "### General Parameters: ###\n",
    "\n",
    "# The general parameters can be left as-is (if desired) unless otherwise stated. #\n",
    "\n",
    "q0 = 0.15\n",
    "p0 = 0.0\n",
    "s0 = 0.05\n",
    "ps0 = 0.0\n",
    "\n",
    "Etot = 0.0\n",
    "Etot0 = 0.0\n",
    "Etot_cl = 0.0\n",
    "Etot_cl0 = 0.0\n",
    "q,p,p2,x,x2,xp = 0.0, 0.0, 0.0, 0.0, 0.0, 0.0\n",
    "q, p = q0, p0\n",
    "p2 = p*p + ps0*ps0 + (0.5*hbar/s0)**2\n",
    "\n",
    "# If you are using a potential other than the morse potential, please change: #\n",
    "\n",
    "x = x = exp(-q**2/(2*sigma**2))\n",
    "\n",
    "# Again, the x2 and xp values are not needed for these calculations, but may be needed for other potentials #\n",
    "\n",
    "Etot, Etot_cl = Etot0, Etot_cl0\n",
    "\n",
    "\n",
    "### Initial Conditions for Energy: ###\n",
    "\n",
    "dt = 0.0\n",
    "p = QHD_int(p, 1, dt)\n",
    "p2 = QHD_int(p, 2, dt)\n",
    "Ekin_cl = 0.5*p*p/mass\n",
    "Ekin    = 0.5*p2/mass\n",
    "\n",
    "# If you are using a different potential, please change the below potentials: #\n",
    "\n",
    "Epot_cl = -v_0*exp(-q**2/(2*sigma**2))\n",
    "Epot    = -v_0*x\n",
    "Etot_cl = Ekin_cl + Epot_cl\n",
    "Etot    = Ekin    + Epot\n",
    "\n",
    "Etot, Etot_cl = Etot0,Etot_cl0\n",
    "\n",
    "\n",
    "### Empty Lists for Data Storage: ###\n",
    "\n",
    "q_list = [] \n",
    "e_list0 = [] \n",
    "e_list1 = [] \n",
    "e_list2 = [] "
   ]
  },
  {
   "cell_type": "markdown",
   "id": "9d2bcea2",
   "metadata": {},
   "source": [
    "Now that the parameters have been defined, we can compute the desired values of position and energy over a given time interval."
   ]
  },
  {
   "cell_type": "code",
   "execution_count": 12,
   "id": "00edfe36",
   "metadata": {},
   "outputs": [
    {
     "name": "stdout",
     "output_type": "stream",
     "text": [
      "Total runtime is 24.38123917579651\n"
     ]
    }
   ],
   "source": [
    "### Time how long it takes to compute ###\n",
    "\n",
    "import time \n",
    "begin = time.time()\n",
    "\n",
    "### Compute the x values ###\n",
    "\n",
    "dt = 0.1 # time step\n",
    "t_i = 0.0 # start\n",
    "t_f = 1000 # finish\n",
    "\n",
    "### Compute the y values ###\n",
    "\n",
    "while t_i <= t_f:   \n",
    "    x = eval((x1))\n",
    "   \n",
    "    q = eval((q1))  \n",
    "    \n",
    "    p = eval((p1))\n",
    "    \n",
    "    p2 = eval((p21))\n",
    "    \n",
    "    Ekin_cl = 0.5*p**2/mass\n",
    "    Ekin    = 0.5*p2/mass\n",
    "    Epot_cl = -v_0*exp(-q**2/(2*sigma**2))\n",
    "    Epot    = -v_0*x\n",
    "    Etot_cl = Ekin_cl + Epot_cl\n",
    "    Etot    = Ekin    + Epot\n",
    "\n",
    "#    Etot = Etot0\n",
    "    \n",
    "#    Etot1 = Etot/Etot0\n",
    "    \n",
    "#    e_list0.append(Etot1)\n",
    "\n",
    "    e_list1.append(Etot)\n",
    "    e_list2.append(Etot_cl)\n",
    "    \n",
    "    q_list.append(q)\n",
    "    \n",
    "    t_i = t_i + dt\n",
    "    \n",
    "time.sleep(1)\n",
    "# store end time\n",
    "end = time.time()\n",
    "  \n",
    "# total time taken\n",
    "print(f\"Total runtime is {end - begin}\")"
   ]
  },
  {
   "cell_type": "markdown",
   "id": "0a29468e",
   "metadata": {},
   "source": [
    "For the x values, we create a range with `(t_i, t_f, dt)` as the parameters. Due to the increasing nature of `t_i`, the initial value of `0.0` is used in its place."
   ]
  },
  {
   "cell_type": "code",
   "execution_count": 13,
   "id": "3b70b4f5",
   "metadata": {},
   "outputs": [],
   "source": [
    "### Define the x values ###\n",
    "\n",
    "x_list = np.arange(0, t_f, dt)"
   ]
  },
  {
   "cell_type": "markdown",
   "id": "2f191f7a",
   "metadata": {},
   "source": [
    "**3.2 Graphing Position versus Time**"
   ]
  },
  {
   "cell_type": "code",
   "execution_count": 14,
   "id": "f5a6f597",
   "metadata": {},
   "outputs": [
    {
     "data": {
      "image/png": "[encoded data removed]",
      "text/plain": [
       "<Figure size 432x288 with 1 Axes>"
      ]
     },
     "metadata": {
      "needs_background": "light"
     },
     "output_type": "display_data"
    }
   ],
   "source": [
    "plt.plot(x_list, q_list, 'm')\n",
    "plt.plot([0, 1000], [0, 0], \"k-\")\n",
    "plt.title(\"Position vs. Time, Gaussian Potential\")\n",
    "plt.xlim(0, 100)\n",
    "plt.xlabel(\"Time (fs)\")\n",
    "#plt.ylim(-0.5, 0.5)\n",
    "plt.ylabel(\"Position, q\")\n",
    "plt.savefig('gaussian_qVt.png')\n",
    "plt.show()"
   ]
  },
  {
   "cell_type": "markdown",
   "id": "5c3e61c2",
   "metadata": {},
   "source": [
    "**3.3 Energy versus Time**"
   ]
  },
  {
   "cell_type": "code",
   "execution_count": 15,
   "id": "3d01f40b",
   "metadata": {},
   "outputs": [
    {
     "data": {
      "image/png": "[encoded data removed]",
      "text/plain": [
       "<Figure size 432x288 with 1 Axes>"
      ]
     },
     "metadata": {
      "needs_background": "light"
     },
     "output_type": "display_data"
    }
   ],
   "source": [
    "#plt.plot(x_list, e_list0)\n",
    "plt.plot(x_list, e_list1, \"k\")\n",
    "plt.plot(x_list, e_list2, \"m\")\n",
    "plt.legend([\"QHD E\", \"Classical E\"])\n",
    "#plt.plot([0, 500], [0, 0], \"k-\")\n",
    "plt.title(\"Energy vs. Time\")\n",
    "plt.xlim(0, 1000)\n",
    "plt.xlabel(\"Time (fs)\")\n",
    "#plt.ylim(-5, 0.5)\n",
    "plt.ylabel(\"Energy, eV\")\n",
    "plt.savefig('gaussian_eVt.png')\n",
    "plt.show()"
   ]
  }
 ],
 "metadata": {
  "kernelspec": {
   "display_name": "Python 3",
   "language": "python",
   "name": "python3"
  },
  "language_info": {
   "codemirror_mode": {
    "name": "ipython",
    "version": 3
   },
   "file_extension": ".py",
   "mimetype": "text/x-python",
   "name": "python",
   "nbconvert_exporter": "python",
   "pygments_lexer": "ipython3",
   "version": "3.8.8"
  }
 },
 "nbformat": 4,
 "nbformat_minor": 5
}
