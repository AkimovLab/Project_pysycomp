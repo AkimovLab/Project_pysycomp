{
 "cells": [
  {
   "cell_type": "code",
   "execution_count": 7,
   "metadata": {
    "scrolled": true
   },
   "outputs": [],
   "source": [
    "from Pysces import *"
   ]
  },
  {
   "cell_type": "markdown",
   "metadata": {},
   "source": [
    "# Introduction to Raising/Lowering Operators"
   ]
  },
  {
   "cell_type": "code",
   "execution_count": 8,
   "metadata": {},
   "outputs": [],
   "source": [
    "normalized, symbol = symbols(\"normalized, symbol\")"
   ]
  },
  {
   "cell_type": "markdown",
   "metadata": {},
   "source": [
    "There are three different outputs for the a_lowering() and a_raising() operators, as shown below. The first is the general mathematic interpretation, the second is the normalized function using dirac notation, and the third is the symbolic representation. \n",
    "\n",
    "It is more common to use the second or third representations as compared to the first."
   ]
  },
  {
   "cell_type": "code",
   "execution_count": 11,
   "metadata": {},
   "outputs": [
    {
     "data": {
      "image/png": "[encoded data removed]",
      "text/latex": [
       "$$\\left ( \\frac{\\sqrt{2} \\left(m \\omega x + i p\\right)}{2 \\sqrt{h_{b} m \\omega}}, \\quad \\sqrt{n} {\\left\\langle n\\right|} {\\left|n - 1\\right\\rangle }, \\quad a_{-}\\right )$$"
      ],
      "text/plain": [
       "⎛√2⋅(m⋅ω⋅x + ⅈ⋅p)                    ⎞\n",
       "⎜────────────────, √n⋅⟨n❘⋅❘n - 1⟩, a₋⎟\n",
       "⎜     _________                      ⎟\n",
       "⎝ 2⋅╲╱ h_b⋅m⋅ω                       ⎠"
      ]
     },
     "execution_count": 11,
     "metadata": {},
     "output_type": "execute_result"
    }
   ],
   "source": [
    "a_lowering(), a_lowering(normalized), a_lowering(symbol)"
   ]
  },
  {
   "cell_type": "markdown",
   "metadata": {},
   "source": [
    "We can solve the a_lowering() and a_raising() functions for x, which is already done by using the x_ladder() function, as shown below."
   ]
  },
  {
   "cell_type": "code",
   "execution_count": 15,
   "metadata": {},
   "outputs": [
    {
     "data": {
      "image/png": "[encoded data removed]",
      "text/latex": [
       "$$a_{+} + a_{-}$$"
      ],
      "text/plain": [
       "a₊ + a₋"
      ]
     },
     "metadata": {},
     "output_type": "display_data"
    },
    {
     "data": {
      "image/png": "[encoded data removed]",
      "text/latex": [
       "$$\\frac{\\sqrt{2} m \\omega x}{\\sqrt{h_{b} m \\omega}}$$"
      ],
      "text/plain": [
       "  √2⋅m⋅ω⋅x \n",
       "───────────\n",
       "  _________\n",
       "╲╱ h_b⋅m⋅ω "
      ]
     },
     "metadata": {},
     "output_type": "display_data"
    }
   ],
   "source": [
    "display(a_raising(symbol) + a_lowering(symbol))\n",
    "\n",
    "display(simplify(a_raising() + a_lowering()))"
   ]
  },
  {
   "cell_type": "code",
   "execution_count": 16,
   "metadata": {
    "scrolled": false
   },
   "outputs": [
    {
     "data": {
      "image/png": "[encoded data removed]",
      "text/latex": [
       "$$\\frac{\\sqrt{2} \\sqrt{\\frac{h_{b}}{m \\omega}} \\left(a_{+} + a_{-}\\right)}{2}$$"
      ],
      "text/plain": [
       "       _____          \n",
       "      ╱ h_b           \n",
       "√2⋅  ╱  ─── ⋅(a₊ + a₋)\n",
       "   ╲╱   m⋅ω           \n",
       "──────────────────────\n",
       "          2           "
      ]
     },
     "metadata": {},
     "output_type": "display_data"
    },
    {
     "data": {
      "image/png": "[encoded data removed]",
      "text/latex": [
       "$$\\frac{h_{b} \\left(a_{+} + a_{-}\\right)^{2}}{2 m \\omega}$$"
      ],
      "text/plain": [
       "             2\n",
       "h_b⋅(a₊ + a₋) \n",
       "──────────────\n",
       "    2⋅m⋅ω     "
      ]
     },
     "metadata": {},
     "output_type": "display_data"
    }
   ],
   "source": [
    "display(x_ladder() )\n",
    "display(x_ladder()**2)"
   ]
  },
  {
   "cell_type": "markdown",
   "metadata": {},
   "source": [
    "Not only have we defined the x_ladder() operator, but also the p_ladder() operator, which is the \"p\" operator, or the linear momentum operator, with respect to the ladder operators."
   ]
  },
  {
   "cell_type": "code",
   "execution_count": 18,
   "metadata": {},
   "outputs": [
    {
     "data": {
      "image/png": "[encoded data removed]",
      "text/latex": [
       "$$\\frac{\\sqrt{2} i \\left(- a_{+} + a_{-}\\right)}{\\sqrt{h_{b} m \\omega}}$$"
      ],
      "text/plain": [
       "√2⋅ⅈ⋅(-a₊ + a₋)\n",
       "───────────────\n",
       "    _________  \n",
       "  ╲╱ h_b⋅m⋅ω   "
      ]
     },
     "execution_count": 18,
     "metadata": {},
     "output_type": "execute_result"
    }
   ],
   "source": [
    "p_ladder()\n"
   ]
  },
  {
   "cell_type": "markdown",
   "metadata": {},
   "source": [
    "# Different forms of the Harmonic Oscillator Hamiltonian:"
   ]
  },
  {
   "cell_type": "markdown",
   "metadata": {},
   "source": [
    "The first notation uses the linear momentum operator, and therefore involves the kinetic energy and potential energy operators:"
   ]
  },
  {
   "cell_type": "code",
   "execution_count": 19,
   "metadata": {},
   "outputs": [
    {
     "data": {
      "image/png": "[encoded data removed]",
      "text/latex": [
       "$$0.5 k x^{2} + \\frac{p^{2}}{2 m}$$"
      ],
      "text/plain": [
       "             2\n",
       "       2    p \n",
       "0.5⋅k⋅x  + ───\n",
       "           2⋅m"
      ]
     },
     "execution_count": 19,
     "metadata": {},
     "output_type": "execute_result"
    }
   ],
   "source": [
    "HO()"
   ]
  },
  {
   "cell_type": "markdown",
   "metadata": {},
   "source": [
    "The second notation involves the ladder operators, stated above.\n",
    "\n",
    "Please note that this is the same as\n",
    "\n",
    "    h_b*omega*(a_lowering(symbol)*a_raising(symbol) + 1/2)\n",
    "    \n",
    "However, this definition was ommitted for simplicity."
   ]
  },
  {
   "cell_type": "code",
   "execution_count": 20,
   "metadata": {
    "scrolled": true
   },
   "outputs": [
    {
     "data": {
      "image/png": "[encoded data removed]",
      "text/latex": [
       "$$h_{b} \\omega \\left(a_{+} a_{-} - 0.5\\right)$$"
      ],
      "text/plain": [
       "h_b⋅ω⋅(a₊⋅a₋ - 0.5)"
      ]
     },
     "execution_count": 20,
     "metadata": {},
     "output_type": "execute_result"
    }
   ],
   "source": [
    "ladder = Symbol(\"ladder\")\n",
    "\n",
    "HO(ladder)"
   ]
  },
  {
   "cell_type": "markdown",
   "metadata": {},
   "source": [
    "The last notation is the ground state of a harmonic oscillator:"
   ]
  },
  {
   "cell_type": "code",
   "execution_count": 21,
   "metadata": {},
   "outputs": [
    {
     "data": {
      "image/png": "[encoded data removed]",
      "text/latex": [
       "$$\\left(\\frac{\\alpha}{\\pi}\\right)^{0.25} e^{- \\frac{0.5 m \\omega x^{2}}{h_{b}}}$$"
      ],
      "text/plain": [
       "                   2 \n",
       "         -0.5⋅m⋅ω⋅x  \n",
       "   0.25  ────────────\n",
       "⎛α⎞          h_b     \n",
       "⎜─⎟    ⋅ℯ            \n",
       "⎝π⎠                  "
      ]
     },
     "execution_count": 21,
     "metadata": {},
     "output_type": "execute_result"
    }
   ],
   "source": [
    "ground_state = Symbol(\"ground_state\")\n",
    "\n",
    "HO(ground_state)"
   ]
  },
  {
   "cell_type": "markdown",
   "metadata": {},
   "source": [
    "##### Example One: Try solving the x_ladder()**2 operator:\n",
    "\n",
    "    < n | x_ladder()**2 | n >"
   ]
  },
  {
   "cell_type": "code",
   "execution_count": 8,
   "metadata": {
    "scrolled": false
   },
   "outputs": [
    {
     "data": {
      "image/png": "[encoded data removed]",
      "text/latex": [
       "$$\\frac{h_{b} \\left(a_{+}^{2} + 2 a_{+} a_{-} + a_{-}^{2}\\right) {\\left\\langle n\\right|} {\\left|n\\right\\rangle }}{2 m \\omega}$$"
      ],
      "text/plain": [
       "    ⎛  2               2⎞        \n",
       "h_b⋅⎝a₊  + 2⋅a₊⋅a₋ + a₋ ⎠⋅⟨n❘⋅❘n⟩\n",
       "─────────────────────────────────\n",
       "              2⋅m⋅ω              "
      ]
     },
     "metadata": {},
     "output_type": "display_data"
    },
    {
     "data": {
      "image/png": "[encoded data removed]",
      "text/latex": [
       "$$\\frac{h_{b} \\left(2 n + 1\\right) {\\left\\langle n\\right|} {\\left|n\\right\\rangle }}{2 m \\omega}$$"
      ],
      "text/plain": [
       "h_b⋅(2⋅n + 1)⋅⟨n❘⋅❘n⟩\n",
       "─────────────────────\n",
       "        2⋅m⋅ω        "
      ]
     },
     "execution_count": 8,
     "metadata": {},
     "output_type": "execute_result"
    }
   ],
   "source": [
    "display(Bra(n)*simplify(expand(x_ladder()**2))*Ket(n))\n",
    "\n",
    "simplify_ladder(x_ladder()**2)\n"
   ]
  },
  {
   "cell_type": "markdown",
   "metadata": {},
   "source": [
    "##### Example Two: Try solving the p_ladder() operator:\n",
    "\n",
    "    < n | p_ladder(x) | n + 1 >"
   ]
  },
  {
   "cell_type": "code",
   "execution_count": 23,
   "metadata": {},
   "outputs": [
    {
     "data": {
      "image/png": "[encoded data removed]",
      "text/latex": [
       "$$\\frac{\\sqrt{2} i \\left(- a_{+} + a_{-}\\right)}{\\sqrt{h_{b} m \\omega}}$$"
      ],
      "text/plain": [
       "√2⋅ⅈ⋅(-a₊ + a₋)\n",
       "───────────────\n",
       "    _________  \n",
       "  ╲╱ h_b⋅m⋅ω   "
      ]
     },
     "execution_count": 23,
     "metadata": {},
     "output_type": "execute_result"
    }
   ],
   "source": [
    "p_ladder()"
   ]
  },
  {
   "cell_type": "code",
   "execution_count": 25,
   "metadata": {},
   "outputs": [
    {
     "data": {
      "image/png": "[encoded data removed]",
      "text/latex": [
       "$$\\sqrt{n} {\\left\\langle n\\right|} {\\left|n - 1\\right\\rangle } + \\sqrt{n + 1} {\\left\\langle n\\right|} {\\left|n + 1\\right\\rangle }$$"
      ],
      "text/plain": [
       "                   _______            \n",
       "√n⋅⟨n❘⋅❘n - 1⟩ + ╲╱ n + 1 ⋅⟨n❘⋅❘n + 1⟩"
      ]
     },
     "execution_count": 25,
     "metadata": {},
     "output_type": "execute_result"
    }
   ],
   "source": [
    "a_lowering(normalized) + a_raising(normalized)"
   ]
  },
  {
   "cell_type": "markdown",
   "metadata": {},
   "source": [
    "## THIS EXAMPLE IS STILL UNDER CONSTRUCTION"
   ]
  },
  {
   "cell_type": "code",
   "execution_count": null,
   "metadata": {},
   "outputs": [],
   "source": []
  }
 ],
 "metadata": {
  "kernelspec": {
   "display_name": "Python 3",
   "language": "python",
   "name": "python3"
  },
  "language_info": {
   "codemirror_mode": {
    "name": "ipython",
    "version": 3
   },
   "file_extension": ".py",
   "mimetype": "text/x-python",
   "name": "python",
   "nbconvert_exporter": "python",
   "pygments_lexer": "ipython3",
   "version": "3.7.1"
  }
 },
 "nbformat": 4,
 "nbformat_minor": 2
}
