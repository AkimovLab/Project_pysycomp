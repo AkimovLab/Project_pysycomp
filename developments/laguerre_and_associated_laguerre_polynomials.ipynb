{
 "cells": [
  {
   "cell_type": "code",
   "execution_count": 1,
   "metadata": {},
   "outputs": [],
   "source": [
    "from Pysces import *\n",
    "init_printing()"
   ]
  },
  {
   "cell_type": "markdown",
   "metadata": {},
   "source": [
    "# Laguerre Polynomials \n",
    "\n",
    "Let's look at some of the defined functions:\n",
    "\n",
    "Laguerre(r, n) function represents a Laguerre polynomial, given by the general formula:"
   ]
  },
  {
   "cell_type": "code",
   "execution_count": 2,
   "metadata": {},
   "outputs": [
    {
     "data": {
      "image/png": "[encoded data removed]",
      "text/latex": [
       "$$e^{r} \\frac{\\partial^{n}}{\\partial r^{n}} r^{n} e^{- r}$$"
      ],
      "text/plain": [
       "     n        \n",
       " r  ∂ ⎛ n  -r⎞\n",
       "ℯ ⋅───⎝r ⋅ℯ  ⎠\n",
       "     n        \n",
       "   ∂r         "
      ]
     },
     "execution_count": 2,
     "metadata": {},
     "output_type": "execute_result"
    }
   ],
   "source": [
    "exp(r)*Derivative(exp(-r)*(r**n), (r, n))"
   ]
  },
  {
   "cell_type": "markdown",
   "metadata": {},
   "source": [
    "Pysces's LAGUERRE(r, n) function is called, where two arguments are used:\n",
    "\n",
    "the first argument, r, is with what variable it is with respect to, in this case the variable \"r\",\n",
    "\n",
    "the second argument, n, is the nth quantum number.\n",
    "\n",
    "For a 1s orbital, n = 1\n",
    "\n",
    "This function computes the Laguerre polynomial at any given value of n. \n",
    "\n",
    "Here are a few examples where n = 1, n = 2, and n = 3."
   ]
  },
  {
   "cell_type": "code",
   "execution_count": 3,
   "metadata": {},
   "outputs": [
    {
     "data": {
      "image/png": "[encoded data removed]",
      "text/latex": [
       "$$- r + 1$$"
      ],
      "text/plain": [
       "-r + 1"
      ]
     },
     "execution_count": 3,
     "metadata": {},
     "output_type": "execute_result"
    }
   ],
   "source": [
    "laguerre(r, 1)"
   ]
  },
  {
   "cell_type": "code",
   "execution_count": 4,
   "metadata": {},
   "outputs": [
    {
     "data": {
      "image/png": "[encoded data removed]",
      "text/latex": [
       "$$r^{2} - 4 r + 2$$"
      ],
      "text/plain": [
       " 2          \n",
       "r  - 4⋅r + 2"
      ]
     },
     "execution_count": 4,
     "metadata": {},
     "output_type": "execute_result"
    }
   ],
   "source": [
    "laguerre(r, 2)"
   ]
  },
  {
   "cell_type": "code",
   "execution_count": 31,
   "metadata": {},
   "outputs": [
    {
     "data": {
      "image/png": "[encoded data removed]",
      "text/latex": [
       "$$- r^{3} + 9 r^{2} - 18 r + 6$$"
      ],
      "text/plain": [
       "   3      2           \n",
       "- r  + 9⋅r  - 18⋅r + 6"
      ]
     },
     "execution_count": 31,
     "metadata": {},
     "output_type": "execute_result"
    }
   ],
   "source": [
    "LAGUERRE(r, 3)"
   ]
  },
  {
   "cell_type": "markdown",
   "metadata": {},
   "source": [
    "# Associated Laguerre Polynomials\n",
    "\n",
    "The Laguerre polynomial can be used to calculate the Laguerre Associated polynomial, given by the following:\n",
    "\n",
    "Laguerre_Assoc(n, l)\n",
    "\n",
    "The first argument, n, is the principal quantum number,\n",
    "\n",
    "The second argument, l, is the angular momentum quantum number.\n",
    "\n",
    "For a 1s orbital, n=1, l=0\n",
    "\n",
    "The expression is given by:"
   ]
  },
  {
   "cell_type": "code",
   "execution_count": 5,
   "metadata": {},
   "outputs": [
    {
     "data": {
      "image/png": "[encoded data removed]",
      "text/latex": [
       "$$\\left(-1\\right)^{l} \\frac{\\partial^{l}}{\\partial r^{l}} e^{r} \\frac{\\partial^{l + n}}{\\partial r^{l + n}} r^{l + n} e^{- r}$$"
      ],
      "text/plain": [
       "        l⎛     l + n            ⎞\n",
       "    l  ∂ ⎜ r  ∂     ⎛ l + n  -r⎞⎟\n",
       "(-1) ⋅───⎜ℯ ⋅───────⎝r     ⋅ℯ  ⎠⎟\n",
       "        l⎜     l + n            ⎟\n",
       "      ∂r ⎝   ∂r                 ⎠"
      ]
     },
     "execution_count": 5,
     "metadata": {},
     "output_type": "execute_result"
    }
   ],
   "source": [
    "((-1)**l)*Derivative(laguerre_2(r, n+l), (r, l))"
   ]
  },
  {
   "cell_type": "markdown",
   "metadata": {},
   "source": [
    "The LAGUERRE_ASSOC() function computes the Associated Laguerre polynomial at any given value of n.\n",
    "\n",
    "Here are a few examples where n = 1 & l = 0, n = 1 & l = 1, n = 2 & l = 2, and n = 3 & l = 3."
   ]
  },
  {
   "cell_type": "code",
   "execution_count": 6,
   "metadata": {},
   "outputs": [
    {
     "data": {
      "image/png": "[encoded data removed]",
      "text/latex": [
       "$$- r + 1$$"
      ],
      "text/plain": [
       "-r + 1"
      ]
     },
     "execution_count": 6,
     "metadata": {},
     "output_type": "execute_result"
    }
   ],
   "source": [
    "laguerre_assoc(1, 0)"
   ]
  },
  {
   "cell_type": "code",
   "execution_count": 7,
   "metadata": {},
   "outputs": [
    {
     "data": {
      "image/png": "[encoded data removed]",
      "text/latex": [
       "$$- 2 r + 4$$"
      ],
      "text/plain": [
       "-2⋅r + 4"
      ]
     },
     "execution_count": 7,
     "metadata": {},
     "output_type": "execute_result"
    }
   ],
   "source": [
    "laguerre_assoc(1, 1)"
   ]
  },
  {
   "cell_type": "code",
   "execution_count": 8,
   "metadata": {},
   "outputs": [
    {
     "data": {
      "image/png": "[encoded data removed]",
      "text/latex": [
       "$$3 r^{2} - 18 r + 18$$"
      ],
      "text/plain": [
       "   2            \n",
       "3⋅r  - 18⋅r + 18"
      ]
     },
     "execution_count": 8,
     "metadata": {},
     "output_type": "execute_result"
    }
   ],
   "source": [
    "laguerre_assoc(2, 1)"
   ]
  },
  {
   "cell_type": "code",
   "execution_count": 9,
   "metadata": {},
   "outputs": [
    {
     "data": {
      "image/png": "[encoded data removed]",
      "text/latex": [
       "$$12 r^{2} - 96 r + 144$$"
      ],
      "text/plain": [
       "    2             \n",
       "12⋅r  - 96⋅r + 144"
      ]
     },
     "execution_count": 9,
     "metadata": {},
     "output_type": "execute_result"
    }
   ],
   "source": [
    "laguerre_assoc(2, 2)"
   ]
  },
  {
   "cell_type": "code",
   "execution_count": 10,
   "metadata": {},
   "outputs": [
    {
     "data": {
      "image/png": "[encoded data removed]",
      "text/latex": [
       "$$60 r^{2} - 600 r + 1200$$"
      ],
      "text/plain": [
       "    2               \n",
       "60⋅r  - 600⋅r + 1200"
      ]
     },
     "execution_count": 10,
     "metadata": {},
     "output_type": "execute_result"
    }
   ],
   "source": [
    "laguerre_assoc(2, 3)"
   ]
  },
  {
   "cell_type": "code",
   "execution_count": null,
   "metadata": {},
   "outputs": [],
   "source": []
  }
 ],
 "metadata": {
  "kernelspec": {
   "display_name": "Python 3",
   "language": "python",
   "name": "python3"
  },
  "language_info": {
   "codemirror_mode": {
    "name": "ipython",
    "version": 3
   },
   "file_extension": ".py",
   "mimetype": "text/x-python",
   "name": "python",
   "nbconvert_exporter": "python",
   "pygments_lexer": "ipython3",
   "version": "3.7.1"
  }
 },
 "nbformat": 4,
 "nbformat_minor": 2
}
