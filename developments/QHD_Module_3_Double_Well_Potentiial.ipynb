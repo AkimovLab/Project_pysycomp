{
 "cells": [
  {
   "cell_type": "code",
   "execution_count": 1,
   "id": "6a5ea91e",
   "metadata": {},
   "outputs": [],
   "source": [
    "from QHD import *\n",
    "\n",
    "import matplotlib.pyplot as plt\n",
    "import numpy as np"
   ]
  },
  {
   "cell_type": "markdown",
   "id": "e28e62d4",
   "metadata": {},
   "source": [
    "# The Double Well Potential"
   ]
  },
  {
   "cell_type": "markdown",
   "id": "173fe7a9",
   "metadata": {},
   "source": [
    "**Parameters**\n",
    "\n",
    "$m=1836$ This is mass\n",
    "\n",
    "$\\lambda=lam=m$ This is a constant which can be set equal to the mass or any other value\n",
    "\n",
    "$B=2$ This is simply a constant which can be changed as well\n",
    "\n",
    "\n",
    "\n",
    "\n",
    "**Potential**\n",
    "\n",
    "$V(q)=m*\\lambda*(q^2 - B)^2$"
   ]
  },
  {
   "cell_type": "code",
   "execution_count": 10,
   "id": "62655e6d",
   "metadata": {},
   "outputs": [
    {
     "data": {
      "image/png": "[encoded data removed]",
      "text/plain": [
       "<Figure size 432x288 with 1 Axes>"
      ]
     },
     "metadata": {
      "needs_background": "light"
     },
     "output_type": "display_data"
    }
   ],
   "source": [
    "#def double_well_potential(A, B, C, D, q):\n",
    "#    B = ((m*omega**2)/4)\n",
    "#    A = (B**2/(4*D))\n",
    "#    return A*q**4 - B*q**2 + C*q + D\n",
    "\n",
    "#omega = 1/2000*10**8 # angstrom (-1)\n",
    "#m = 1/1836 # mass au\n",
    "#D = 1/2000*10**8 # angstrom (-1)\n",
    "#C = 0\n",
    "#B = ((m*omega**2)/4)\n",
    "#A = (B**2/(4*D))\n",
    "\n",
    "def double_well_potential(m, B):\n",
    "    return m*lam*(q**2 - B)**2 \n",
    "\n",
    "m = lam = 1836\n",
    "B = 2\n",
    "\n",
    "\n",
    "#q = np.linspace(-3, 3, 10000)\n",
    "#plt.plot(q, double_well_potential(m, B))\n",
    "#plt.ylim(0, 20000)\n",
    "\n",
    "q = np.linspace(-5, 5, 1000)\n",
    "\n",
    "plt.plot(q, double_well_potential(m, B))\n",
    "plt.title(\"Double Well Potential\")\n",
    "plt.ylabel(\"Potential, V(q)\")\n",
    "plt.xlabel(\"Position, q\")\n",
    "plt.ylim(0, 1e8)\n",
    "plt.xlim(-3, 3)\n",
    "plt.savefig('doublewell_vVq.png')\n",
    "plt.show()"
   ]
  },
  {
   "cell_type": "markdown",
   "id": "4e9bed19",
   "metadata": {},
   "source": [
    "New potential given by: https://web.physics.ucsb.edu/~davidgrabovsky/files-teaching/Double%20Well%20Solutions.pdf\n",
    "\n",
    "And this one: https://arxiv.org/pdf/math-ph/0611033.pdf#:~:text=Ammonia%20(NH3)%2C%20cyanamide%20(,can%20tunnel%20through%20the%20barrier."
   ]
  },
  {
   "cell_type": "markdown",
   "id": "707f12e4",
   "metadata": {},
   "source": [
    "### 2. Derivation of  QHD formulas"
   ]
  },
  {
   "cell_type": "markdown",
   "id": "8f21f72b",
   "metadata": {},
   "source": [
    "**2.1 The x expressions**"
   ]
  },
  {
   "cell_type": "code",
   "execution_count": 4,
   "id": "6092414e",
   "metadata": {},
   "outputs": [],
   "source": [
    "### I don't think there needs to be a change of variables for this system ###"
   ]
  },
  {
   "cell_type": "markdown",
   "id": "c28c79ce",
   "metadata": {},
   "source": [
    "**2.2 The q expression**"
   ]
  },
  {
   "cell_type": "code",
   "execution_count": 17,
   "id": "19933c9a",
   "metadata": {},
   "outputs": [
    {
     "name": "stdout",
     "output_type": "stream",
     "text": [
      "q = dt*p/mass + q\n"
     ]
    }
   ],
   "source": [
    "q, p, mass, dt = symbols(\"q p mass, dt\")\n",
    "\n",
    "print(\"q = \" + str(QHD_int(q, 1, dt)))"
   ]
  },
  {
   "cell_type": "markdown",
   "id": "3b4d13a8",
   "metadata": {},
   "source": [
    "**2.3 Taking the derivative in Python**"
   ]
  },
  {
   "cell_type": "code",
   "execution_count": 44,
   "id": "de0bd191",
   "metadata": {},
   "outputs": [
    {
     "data": {
      "image/png": "[encoded data removed]",
      "text/latex": [
       "$\\displaystyle m \\left(- B + q^{2}\\right)^{2}$"
      ],
      "text/plain": [
       "           2\n",
       "  ⎛      2⎞ \n",
       "m⋅⎝-B + q ⎠ "
      ]
     },
     "execution_count": 44,
     "metadata": {},
     "output_type": "execute_result"
    }
   ],
   "source": [
    "### Define the potential ###\n",
    "m, q, B = symbols(\"m, q, B\")\n",
    "pot = m*(q**2 - B)**2\n",
    "\n",
    "pot"
   ]
  },
  {
   "cell_type": "code",
   "execution_count": 45,
   "id": "820e17ad",
   "metadata": {},
   "outputs": [
    {
     "data": {
      "image/png": "[encoded data removed]",
      "text/latex": [
       "$\\displaystyle \\left( 4 m q \\left(- B + q^{2}\\right), \\  8 m q^{2} + 4 m \\left(- B + q^{2}\\right)\\right)$"
      ],
      "text/plain": [
       "⎛      ⎛      2⎞       2       ⎛      2⎞⎞\n",
       "⎝4⋅m⋅q⋅⎝-B + q ⎠, 8⋅m⋅q  + 4⋅m⋅⎝-B + q ⎠⎠"
      ]
     },
     "execution_count": 45,
     "metadata": {},
     "output_type": "execute_result"
    }
   ],
   "source": [
    "diff1 = diff(pot, q)\n",
    "diff2 = diff(diff1, q)\n",
    "\n",
    "diff1, diff2"
   ]
  },
  {
   "cell_type": "code",
   "execution_count": 46,
   "id": "b8199ff1",
   "metadata": {},
   "outputs": [
    {
     "data": {
      "image/png": "[encoded data removed]",
      "text/latex": [
       "$\\displaystyle 4 m q \\left(- B + q^{2}\\right)$"
      ],
      "text/plain": [
       "      ⎛      2⎞\n",
       "4⋅m⋅q⋅⎝-B + q ⎠"
      ]
     },
     "execution_count": 46,
     "metadata": {},
     "output_type": "execute_result"
    }
   ],
   "source": [
    "### First derivative ###\n",
    "\n",
    "diff11 = diff1.replace(exp(-alpha*q), x).replace(exp(-2*alpha*q), x**2)\n",
    "\n",
    "diff11"
   ]
  },
  {
   "cell_type": "code",
   "execution_count": 47,
   "id": "2da10e99",
   "metadata": {},
   "outputs": [
    {
     "data": {
      "image/png": "[encoded data removed]",
      "text/latex": [
       "$\\displaystyle 8 m q^{2} + 4 m \\left(- B + q^{2}\\right)$"
      ],
      "text/plain": [
       "     2       ⎛      2⎞\n",
       "8⋅m⋅q  + 4⋅m⋅⎝-B + q ⎠"
      ]
     },
     "execution_count": 47,
     "metadata": {},
     "output_type": "execute_result"
    }
   ],
   "source": [
    "### Second derivative ###\n",
    "\n",
    "diff22 = diff2.replace(exp(-alpha*q), x).replace(exp(-2*alpha*q), x**2)\n",
    "\n",
    "diff22"
   ]
  },
  {
   "cell_type": "markdown",
   "id": "18cffeb8",
   "metadata": {},
   "source": [
    "**2.4 The p expressions**"
   ]
  },
  {
   "cell_type": "code",
   "execution_count": 48,
   "id": "b76b6bd4",
   "metadata": {},
   "outputs": [
    {
     "name": "stdout",
     "output_type": "stream",
     "text": [
      "p = -4*dt*m*q*(-B + q**2) + p\n",
      "\n",
      "p2 = dt*(16.0*m*p*q*(-B + q**2) + 16.0*m*q**2 + 4*m*(-B + q**2)) + p**2\n",
      "\n"
     ]
    }
   ],
   "source": [
    "p,x,x2,dt,mass,alpha,D = symbols(\"p,x,x2,dt,mass,alpha,D\")\n",
    "\n",
    "QHD_p = sympify(str(QHD_int(p, 1, dt)).replace(\"Derivative(v(q), q)\", str(diff11)))\n",
    "\n",
    "print(\"p = \" + str(QHD_p) + \"\\n\")\n",
    "\n",
    "QHD_p2 = sympify(str(QHD_int(p, 2, dt)).replace(\"Derivative(v(q), (q, 2))\", str(diff22)).replace(\"Derivative(v(q), q)\", str(diff11)))\n",
    "\n",
    "print(\"p2 = \" + str(QHD_p2) + \"\\n\")"
   ]
  },
  {
   "cell_type": "markdown",
   "id": "b828dcca",
   "metadata": {},
   "source": [
    "**2.5 Testing Generalizability**"
   ]
  },
  {
   "cell_type": "code",
   "execution_count": 49,
   "id": "4bfb8435",
   "metadata": {},
   "outputs": [
    {
     "name": "stdout",
     "output_type": "stream",
     "text": [
      "-4*dt*m*q*(-B + q**2) + p\n",
      "dt*(16.0*m*p*q*(-B + q**2) + 16.0*m*q**2 + 4*m*(-B + q**2)) + p**2\n"
     ]
    }
   ],
   "source": [
    "q, p, x, x2, xp, dt, mass, alpha, D = symbols(\"q, p, x, x2, xp, dt, mass, alpha, D\")\n",
    "\n",
    "q1 = QHD_int(q, 1, dt)\n",
    "\n",
    "#print(q1)\n",
    "\n",
    "x1 = QHD_int(x, 1, dt)\n",
    "\n",
    "#print(x1)\n",
    "\n",
    "x21 = QHD_int(x, 2, dt)\n",
    "\n",
    "#print(x21)\n",
    "\n",
    "xp1 = QHD_int(xp, 1, dt)\n",
    "\n",
    "#print(xp1)\n",
    "\n",
    "p1 = sympify(str(QHD_int(p, 1, dt)).replace(\"Derivative(v(q), q)\", str(diff11)))\n",
    "\n",
    "print(p1)\n",
    "\n",
    "p21 = sympify(str(QHD_int(p, 2, dt)).replace(\"Derivative(v(q), (q, 2))\", str(diff22)).replace(\"Derivative(v(q), q)\", str(diff11)))\n",
    "\n",
    "print(p21)"
   ]
  },
  {
   "cell_type": "markdown",
   "id": "b62c2f63",
   "metadata": {},
   "source": [
    "### 3. Plot position versus time"
   ]
  },
  {
   "cell_type": "code",
   "execution_count": 50,
   "id": "8c45212d",
   "metadata": {},
   "outputs": [],
   "source": [
    "### Cell below runs forever... Something isn't right! ###"
   ]
  },
  {
   "cell_type": "code",
   "execution_count": 82,
   "id": "d439ba72",
   "metadata": {},
   "outputs": [
    {
     "name": "stdout",
     "output_type": "stream",
     "text": [
      "Total runtime is 115.1435227394104\n"
     ]
    }
   ],
   "source": [
    "### Time how long it takes to compute ###\n",
    "\n",
    "import time \n",
    "begin = time.time()\n",
    "\n",
    "### Parameters: ###\n",
    "\n",
    "q0 = 0.15\n",
    "p0 = 0.0\n",
    "s0 = 0.05\n",
    "ps0 = 0.0\n",
    "\n",
    "#omega = 1/2000*10**8 # angstrom (-1)\n",
    "#m = 1/1836 # mass au\n",
    "#D = 1/2000*10**8 # angstrom (-1)\n",
    "#C = 0\n",
    "#B = ((m*omega**2)/4)\n",
    "#A = (B**2/(4*D))\n",
    "\n",
    "\n",
    "m = 1836\n",
    "mass = 1836\n",
    "B = 2\n",
    "\n",
    "hbar = 0.6582  # eV * fs\n",
    "\n",
    "q_list = []\n",
    "y_list = []\n",
    "y_list1 = []\n",
    "y_list2 = []\n",
    "\n",
    "Etot = 0.0\n",
    "Etot0 = 0.0\n",
    "Etot_cl = 0.0\n",
    "Etot_cl0 = 0.0\n",
    "q,p,p2,x,x2,xp = 0.0, 0.0, 0.0, 0.0, 0.0, 0.0\n",
    "q, p = q0, p0\n",
    "p2 = p*p + ps0*ps0 + (0.5*hbar/s0)**2\n",
    "\n",
    "\n",
    "\n",
    "### Compute the y values ###\n",
    "\n",
    "dt = 0.1\n",
    "t = 0.0\n",
    "T = 1000\n",
    "\n",
    "y_list = []\n",
    "\n",
    "while t <= T: \n",
    "    q = eval(str(q1))\n",
    "\n",
    "    p = eval(str(p1))\n",
    "\n",
    "    p2 = eval(str(p21))\n",
    "    \n",
    "    Ekin_cl = 0.5*p**2/mass\n",
    "    Ekin    = 0.5*p2/mass\n",
    "    Epot_cl = D*(exp(-2.0*alpha*q) - 2.0*exp(-alpha*q))\n",
    "    Epot    = D*(x2 - 2.0*x)\n",
    "    Etot_cl = Ekin_cl + Epot_cl\n",
    "    Etot    = Ekin    + Epot\n",
    "\n",
    "    Etot0 = Etot\n",
    "    \n",
    "    Etot1 = Etot/Etot0\n",
    "    \n",
    "    y_list.append(Etot1)\n",
    "    y_list1.append(Etot)\n",
    "    y_list2.append(Etot_cl)\n",
    "    \n",
    "    q_list.append(q)\n",
    "    \n",
    "    t = t + dt\n",
    "\n",
    "    \n",
    "time.sleep(1)\n",
    "# store end time\n",
    "end = time.time()\n",
    "  \n",
    "# total time taken\n",
    "print(f\"Total runtime is {end - begin}\")"
   ]
  },
  {
   "cell_type": "code",
   "execution_count": 83,
   "id": "51ac8584",
   "metadata": {},
   "outputs": [],
   "source": [
    "### The above cell usually takes a minute or so to run ###"
   ]
  },
  {
   "cell_type": "code",
   "execution_count": 84,
   "id": "bde27e0e",
   "metadata": {},
   "outputs": [
    {
     "data": {
      "image/png": "[encoded data removed]",
      "text/plain": [
       "<Figure size 432x288 with 1 Axes>"
      ]
     },
     "metadata": {
      "needs_background": "light"
     },
     "output_type": "display_data"
    }
   ],
   "source": [
    "### Define the x values ###\n",
    "\n",
    "x_list = np.arange(0, 1000, 0.1)\n",
    "plt.plot(x_list, q_list)\n",
    "plt.plot([0, 500], [0, 0], \"k-\")\n",
    "plt.title(\"Position vs. Time, Double Well Potential\")\n",
    "plt.xlim(0, 20)\n",
    "plt.xlabel(\"Time (fs)\")\n",
    "#plt.ylim(-0.5, 0.5)\n",
    "plt.ylabel(\"Position, q\")\n",
    "plt.savefig('doublewell_qVt.png')\n",
    "plt.show()"
   ]
  },
  {
   "cell_type": "code",
   "execution_count": 102,
   "id": "a8473184",
   "metadata": {},
   "outputs": [
    {
     "data": {
      "image/png": "[encoded data removed]",
      "text/plain": [
       "<Figure size 432x288 with 1 Axes>"
      ]
     },
     "metadata": {
      "needs_background": "light"
     },
     "output_type": "display_data"
    }
   ],
   "source": [
    "### Define the x values ###\n",
    "\n",
    "x_list = np.arange(0, 1000, 0.1)\n",
    "#plt.plot(x_list, y_list)\n",
    "plt.plot(x_list, y_list1, \"k\")\n",
    "#plt.plot(x_list, y_list2, \"m\")\n",
    "#plt.legend([\"E/E_0\", \"E\", \"E_0\"])\n",
    "#plt.plot([0, 500], [0, 0], \"k-\")\n",
    "plt.title(\"Energy vs. Time, Double Well Potential\")\n",
    "plt.xlim(0, 20)\n",
    "plt.xlabel(\"Time (fs)\")\n",
    "#plt.ylim(-0.5, 0.5)\n",
    "plt.ylabel(\"Energy, eV\")\n",
    "plt.savefig('doublewell_eVt.png')\n",
    "plt.show()"
   ]
  },
  {
   "cell_type": "code",
   "execution_count": null,
   "id": "f2bf69e4",
   "metadata": {},
   "outputs": [],
   "source": []
  },
  {
   "cell_type": "code",
   "execution_count": null,
   "id": "155aa57f",
   "metadata": {},
   "outputs": [],
   "source": []
  },
  {
   "cell_type": "code",
   "execution_count": null,
   "id": "1f90ccb5",
   "metadata": {},
   "outputs": [],
   "source": []
  },
  {
   "cell_type": "code",
   "execution_count": 58,
   "id": "757e1e87",
   "metadata": {},
   "outputs": [
    {
     "data": {
      "image/png": "[encoded data removed]",
      "text/latex": [
       "$\\displaystyle \\left( 0.0, \\  20000.0\\right)$"
      ],
      "text/plain": [
       "(0.0, 20000.0)"
      ]
     },
     "execution_count": 58,
     "metadata": {},
     "output_type": "execute_result"
    },
    {
     "data": {
      "image/png": "[encoded data removed]",
      "text/plain": [
       "<Figure size 432x288 with 1 Axes>"
      ]
     },
     "metadata": {
      "needs_background": "light"
     },
     "output_type": "display_data"
    }
   ],
   "source": [
    "def double_well_potential(m, B):\n",
    "    return m*(q**2 - B)**2 \n",
    "\n",
    "m = 1836\n",
    "B = 2\n",
    "\n",
    "\n",
    "q = np.linspace(-3, 3, 10000)\n",
    "plt.plot(q, double_well_potential(m, B))\n",
    "plt.ylim(0, 20000)"
   ]
  },
  {
   "cell_type": "code",
   "execution_count": null,
   "id": "b333af31",
   "metadata": {},
   "outputs": [],
   "source": []
  }
 ],
 "metadata": {
  "kernelspec": {
   "display_name": "Python 3",
   "language": "python",
   "name": "python3"
  },
  "language_info": {
   "codemirror_mode": {
    "name": "ipython",
    "version": 3
   },
   "file_extension": ".py",
   "mimetype": "text/x-python",
   "name": "python",
   "nbconvert_exporter": "python",
   "pygments_lexer": "ipython3",
   "version": "3.8.8"
  }
 },
 "nbformat": 4,
 "nbformat_minor": 5
}
