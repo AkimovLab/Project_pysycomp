{
 "cells": [
  {
   "cell_type": "markdown",
   "id": "62f2810e",
   "metadata": {},
   "source": [
    "First, we must import all necessary libraries:"
   ]
  },
  {
   "cell_type": "code",
   "execution_count": 1,
   "id": "05d6d31b",
   "metadata": {},
   "outputs": [],
   "source": [
    "from QHD import *\n",
    "\n",
    "import matplotlib.pyplot as plt\n",
    "import numpy as np"
   ]
  },
  {
   "cell_type": "markdown",
   "id": "0264bd1c",
   "metadata": {},
   "source": [
    "# 1. The Potential"
   ]
  },
  {
   "cell_type": "markdown",
   "id": "2fdcc9d0",
   "metadata": {},
   "source": [
    "We must first define the potential that we want to compute the quantized hamiltonian dynamics of. We can name this variable `potential`, and define its parameters."
   ]
  },
  {
   "cell_type": "markdown",
   "id": "f7ff8824",
   "metadata": {},
   "source": [
    "Here, we have chosen to define the potential as a **Morse Potential**, that corresponds to the following equation:\n",
    "\n",
    "$$V(q) = D*(1-e^{-\\alpha(q-q_0)})^2$$\n",
    "\n",
    "Now, we must define the parameters so the above cell can run properly. We must define `D`, `alpha`, and `q_0`. `q` is a variable, not a constant, and so we will express this using the `linspace` function in `numpy`. All constants will be defined with *atomic units*."
   ]
  },
  {
   "cell_type": "code",
   "execution_count": 2,
   "id": "f9eb0a36",
   "metadata": {},
   "outputs": [],
   "source": [
    "D = 4.419 * 0.0367493\n",
    "alpha = 2.567\n",
    "q_0 = 0\n",
    "\n",
    "q = np.linspace(-10, 10, 1000)"
   ]
  },
  {
   "cell_type": "markdown",
   "id": "a53012b8",
   "metadata": {},
   "source": [
    "We can now define the potential as the variable `potential`."
   ]
  },
  {
   "cell_type": "code",
   "execution_count": 3,
   "id": "63f7368b",
   "metadata": {},
   "outputs": [],
   "source": [
    "potential = D * (1 - np.exp(-alpha*(q-q_0)))**2"
   ]
  },
  {
   "cell_type": "markdown",
   "id": "0144e225",
   "metadata": {},
   "source": [
    "We can now plot to examine what this potential looks like, using the `matplotlib.pyplot` library."
   ]
  },
  {
   "cell_type": "code",
   "execution_count": 4,
   "id": "e61ef274",
   "metadata": {},
   "outputs": [
    {
     "data": {
      "image/png": "[encoded data removed]",
      "text/plain": [
       "<Figure size 432x288 with 1 Axes>"
      ]
     },
     "metadata": {
      "needs_background": "light"
     },
     "output_type": "display_data"
    }
   ],
   "source": [
    "plt.plot(q, potential)\n",
    "plt.title(\"Morse Potential\")\n",
    "plt.xlim(-0.5, 2)\n",
    "plt.xlabel(\"Position, q\")\n",
    "plt.ylim(0, 0.5)\n",
    "plt.ylabel(\"Potential, V(q)\")\n",
    "plt.savefig('QHD_morse_vVq.png')\n",
    "plt.show()"
   ]
  },
  {
   "cell_type": "markdown",
   "id": "855b8b8d",
   "metadata": {},
   "source": [
    "# 2. Quantized Hamiltonian Dynamics Derivations"
   ]
  },
  {
   "cell_type": "markdown",
   "id": "0f0d9625",
   "metadata": {},
   "source": [
    "Here, we use the pysces library, able to derive the equations of motion in the QHD method. We will need to define the `q`, `p`, `p2`, `x`, `x2`, and `xp` variables. In order to do this, we must first calculate the first and second derivatives of the potential of interest, defined in section 1. We will also use a change of variables as well, described below."
   ]
  },
  {
   "cell_type": "markdown",
   "id": "2a662b04",
   "metadata": {},
   "source": [
    "**2.1 The First and Second Derivatives of the Potential**"
   ]
  },
  {
   "cell_type": "markdown",
   "id": "fb40656a",
   "metadata": {},
   "source": [
    "To take the derivatives, we must represent the potential symbollically. This can be done by:"
   ]
  },
  {
   "cell_type": "code",
   "execution_count": 5,
   "id": "28f8631c",
   "metadata": {},
   "outputs": [],
   "source": [
    "# First, we must define all the parameters as stated in section 1 as symbols:\n",
    "\n",
    "D, alpha, q_0, q = symbols(\"D, alpha, q_0, q\")\n",
    "\n",
    "# When computing symbolically, we do not need to use the numpy exponential function.\n",
    "\n",
    "potential_sym = D * (1 - exp(-alpha*(q-q_0)))**2"
   ]
  },
  {
   "cell_type": "code",
   "execution_count": 6,
   "id": "8e671c42",
   "metadata": {},
   "outputs": [
    {
     "data": {
      "image/png": "[encoded data removed]",
      "text/latex": [
       "$\\displaystyle \\left( 2 D \\alpha \\left(1 - e^{- \\alpha \\left(q - q_{0}\\right)}\\right) e^{- \\alpha \\left(q - q_{0}\\right)}, \\  - 2 D \\alpha^{2} \\left(1 - e^{- \\alpha \\left(q - q_{0}\\right)}\\right) e^{- \\alpha \\left(q - q_{0}\\right)} + 2 D \\alpha^{2} e^{- 2 \\alpha \\left(q - q_{0}\\right)}\\right)$"
      ],
      "text/plain": [
       "⎛      ⎛     -α⋅(q - q₀)⎞  -α⋅(q - q₀)         2 ⎛     -α⋅(q - q₀)⎞  -α⋅(q - q\n",
       "⎝2⋅D⋅α⋅⎝1 - ℯ           ⎠⋅ℯ           , - 2⋅D⋅α ⋅⎝1 - ℯ           ⎠⋅ℯ         \n",
       "\n",
       "₀)        2  -2⋅α⋅(q - q₀)⎞\n",
       "   + 2⋅D⋅α ⋅ℯ             ⎠"
      ]
     },
     "execution_count": 6,
     "metadata": {},
     "output_type": "execute_result"
    }
   ],
   "source": [
    "diff1 = diff(potential_sym, q)\n",
    "diff2 = diff(diff1, q)\n",
    "\n",
    "diff1, diff2"
   ]
  },
  {
   "cell_type": "markdown",
   "id": "605078cb",
   "metadata": {},
   "source": [
    "The above cell shows the first and second derivatives of the potential, given symbolically."
   ]
  },
  {
   "cell_type": "markdown",
   "id": "0af76c79",
   "metadata": {},
   "source": [
    "**2.2 Change of Variable**"
   ]
  },
  {
   "cell_type": "markdown",
   "id": "4d1be027",
   "metadata": {},
   "source": [
    "We can do a change of variable in the potential to:\n",
    "\n",
    "$$x=e^{-\\alpha q}$$\n",
    "\n",
    "And so:\n",
    "\n",
    "$$V(q)=D[x^2-2x]$$\n",
    "\n",
    "We will now take the first and second derivatives of the original potential, and then perform the change of variables."
   ]
  },
  {
   "cell_type": "markdown",
   "id": "cff036de",
   "metadata": {},
   "source": [
    "- The First Derivative:"
   ]
  },
  {
   "cell_type": "code",
   "execution_count": 7,
   "id": "5b559e98",
   "metadata": {},
   "outputs": [
    {
     "data": {
      "image/png": "[encoded data removed]",
      "text/latex": [
       "$\\displaystyle 2 D \\alpha x \\left(1 - x\\right)$"
      ],
      "text/plain": [
       "2⋅D⋅α⋅x⋅(1 - x)"
      ]
     },
     "execution_count": 7,
     "metadata": {},
     "output_type": "execute_result"
    }
   ],
   "source": [
    "diff11 = diff1.replace(exp(-alpha*(q-q_0)), x).replace(exp(-2*alpha*(q-q_0)), x**2)\n",
    "\n",
    "diff11"
   ]
  },
  {
   "cell_type": "markdown",
   "id": "4037fd0a",
   "metadata": {},
   "source": [
    "- The Second Derivative:"
   ]
  },
  {
   "cell_type": "code",
   "execution_count": 8,
   "id": "e91cdbc5",
   "metadata": {},
   "outputs": [
    {
     "data": {
      "image/png": "[encoded data removed]",
      "text/latex": [
       "$\\displaystyle 2 D \\alpha^{2} x^{2} - 2 D \\alpha^{2} x \\left(1 - x\\right)$"
      ],
      "text/plain": [
       "     2  2        2          \n",
       "2⋅D⋅α ⋅x  - 2⋅D⋅α ⋅x⋅(1 - x)"
      ]
     },
     "execution_count": 8,
     "metadata": {},
     "output_type": "execute_result"
    }
   ],
   "source": [
    "diff22 = diff2.replace(exp(-alpha*(q-q_0)), x).replace(exp(-2*alpha*(q-q_0)), x**2)\n",
    "\n",
    "diff22"
   ]
  },
  {
   "cell_type": "markdown",
   "id": "0dd1d502",
   "metadata": {},
   "source": [
    "We can now solve for the equations of motion."
   ]
  },
  {
   "cell_type": "markdown",
   "id": "c0a07b97",
   "metadata": {},
   "source": [
    "**2.3 Solving for the Equations of Motion**"
   ]
  },
  {
   "cell_type": "code",
   "execution_count": 9,
   "id": "04a79612",
   "metadata": {},
   "outputs": [],
   "source": [
    "# Again, we must first define all variables as symbols. #\n",
    "\n",
    "q, p, x, x2, xp, dt, mass, alpha, D = symbols(\"q, p, x, x2, xp, dt, mass, alpha, D\")\n",
    "\n",
    "\n",
    "\n",
    "########## EOM Calculations ##########\n",
    "\n",
    "# If you want to see the output, uncomment the desired print line. #\n",
    "\n",
    "q1 = QHD_int(q, 1, dt)\n",
    "\n",
    "#print(q1)\n",
    "\n",
    "x1 = QHD_int(x, 1, dt)\n",
    "\n",
    "#print(x1)\n",
    "\n",
    "x21 = QHD_int(x, 2, dt)\n",
    "\n",
    "#print(x21)\n",
    "\n",
    "xp1 = QHD_int(xp, 1, dt)\n",
    "\n",
    "#print(xp1)\n",
    "\n",
    "p1 = sympify(str(QHD_int(p, 1, dt)).replace(\"Derivative(v(q), q)\", str(diff11)))\n",
    "\n",
    "#print(p1)\n",
    "\n",
    "p21 = sympify(str(QHD_int(p, 2, dt)).replace(\"Derivative(v(q), (q, 2))\", str(diff22)).replace(\"Derivative(v(q), q)\", str(diff11)))\n",
    "\n",
    "#print(p21)"
   ]
  },
  {
   "cell_type": "markdown",
   "id": "f7a134d3",
   "metadata": {},
   "source": [
    "Now, we are ready to make plots of the data based on the EOM's as computed above."
   ]
  },
  {
   "cell_type": "markdown",
   "id": "1928444c",
   "metadata": {},
   "source": [
    "# 3. Graphing"
   ]
  },
  {
   "cell_type": "markdown",
   "id": "bd6b6544",
   "metadata": {},
   "source": [
    "**3.1 Generating Time-Dependent Values**"
   ]
  },
  {
   "cell_type": "markdown",
   "id": "a793bd92",
   "metadata": {},
   "source": [
    "We will first define all of the parameters necessary to perform the QHD calculations:"
   ]
  },
  {
   "cell_type": "code",
   "execution_count": 32,
   "id": "130314e4",
   "metadata": {},
   "outputs": [],
   "source": [
    "######## PLEASE MAKE CHANGES TO THE BELOW PARAMETERS ONLY: ########\n",
    "\n",
    "### Potential Specific Variables: ###\n",
    "\n",
    "D = 4.419 * 0.0367493\n",
    "alpha = 2.567\n",
    "q_0 = 0\n",
    "\n",
    "### Mass of System: ###\n",
    "\n",
    "mass = 1836\n",
    "\n",
    "######## DO NOT CHANGE THE BELOW PARAMETERS: ########\n",
    "\n",
    "q0 = 0.15\n",
    "p0 = 0.0\n",
    "s0 = 0.05\n",
    "ps0 = 0.0\n",
    "\n",
    "### Constants: ###\n",
    "\n",
    "hbar = 0.6582  # eV * fs\n",
    "\n",
    "### Initial Conditions: ###\n",
    "\n",
    "Etot = 0.0\n",
    "Etot0 = 0.0\n",
    "Etot_cl = 0.0\n",
    "Etot_cl0 = 0.0\n",
    "q,p,p2,x,x2,xp = 0.0, 0.0, 0.0, 0.0, 0.0, 0.0\n",
    "\n",
    "\n",
    "Etot, Etot_cl = Etot0, Etot_cl0\n",
    "\n",
    "q, p = q0, p0\n",
    "p2 = p*p + ps0*ps0 + (0.5*hbar/s0)**2\n",
    "\n",
    "\n",
    "### DO NOT CHANGE THE BELOW EITHER ###\n",
    "\n",
    "dt = 0.0\n",
    "p = QHD_int(p, 1, dt)\n",
    "p2 = QHD_int(p, 2, dt)\n",
    "Ekin_cl = 0.5*p*p/mass\n",
    "Ekin    = 0.5*p2/mass\n",
    "Epot_cl = D*(math.exp(-2.0*alpha*q) - 2.0*math.exp(-alpha*q))\n",
    "Epot    = D*(x2 - 2.0*x)\n",
    "Etot_cl = Ekin_cl + Epot_cl\n",
    "Etot    = Ekin    + Epot\n",
    "\n",
    "Etot, Etot_cl = Etot0,Etot_cl0\n",
    "\n",
    "# If change of variable occurred for derivatives, please change the below: \n",
    "x = exp(-alpha*q0)*exp(0.5*alpha*alpha*s0*s0)\n",
    "x2 = exp(-2.0*alpha*q0)*exp(2.0*alpha*alpha*s0*s0)\n",
    "xp = x*(p - s0*ps0*alpha)"
   ]
  },
  {
   "cell_type": "markdown",
   "id": "97ceaece",
   "metadata": {},
   "source": [
    "Now, we can define the x and y values (x being time)."
   ]
  },
  {
   "cell_type": "code",
   "execution_count": 33,
   "id": "d9cf4d06",
   "metadata": {},
   "outputs": [
    {
     "name": "stdout",
     "output_type": "stream",
     "text": [
      "Total runtime is 425.3306863307953\n"
     ]
    }
   ],
   "source": [
    "### Time how long it takes cell to run ###\n",
    "\n",
    "import time \n",
    "begin = time.time()\n",
    "\n",
    "### Empty Lists to Store Data: ###\n",
    "\n",
    "q_list = []\n",
    "y_list = []\n",
    "y_list1 = []\n",
    "y_list2 = []\n",
    "\n",
    "### Covers the x values. The range from time (t) to time (T) with step size of (dt) ###\n",
    "\n",
    "dt = 0.1\n",
    "t = 0.0\n",
    "T = 5000\n",
    "\n",
    "### Compute the y values ###\n",
    "\n",
    "while t <= T:\n",
    "    xp = eval(str(xp1))\n",
    "    \n",
    "    x2 = eval(str(x21))\n",
    "    \n",
    "    x = eval(str(x1))\n",
    "   \n",
    "    q = eval(str(q1))  \n",
    "    \n",
    "    p = eval(str(p1))\n",
    "    \n",
    "    p2 = eval(str(p21))\n",
    "    \n",
    "    Ekin_cl = 0.5*p**2/mass\n",
    "    Ekin    = 0.5*p2/mass\n",
    "    Epot_cl = D*(exp(-2.0*alpha*q) - 2.0*exp(-alpha*q))\n",
    "    Epot    = D*(x2 - 2.0*x)\n",
    "    Etot_cl = Ekin_cl + Epot_cl\n",
    "    Etot    = Ekin    + Epot\n",
    "\n",
    "#    Etot = Etot0\n",
    "    \n",
    "#    Etot1 = Etot/Etot0\n",
    "    \n",
    "#    y_list.append(Etot1)\n",
    "    y_list1.append(Etot)\n",
    "    y_list2.append(Etot_cl)\n",
    "    \n",
    "    q_list.append(q)\n",
    "    \n",
    "    t = t + dt\n",
    "    \n",
    "time.sleep(1)\n",
    "# store end time\n",
    "end = time.time()\n",
    "  \n",
    "# total time taken\n",
    "print(f\"Total runtime is {end - begin}\")"
   ]
  },
  {
   "cell_type": "code",
   "execution_count": 10,
   "id": "5b38daf4",
   "metadata": {},
   "outputs": [
    {
     "name": "stdout",
     "output_type": "stream",
     "text": [
      "Total runtime is 617.4963700771332\n"
     ]
    }
   ],
   "source": [
    "### Time how long it takes to compute ###\n",
    "\n",
    "import time \n",
    "begin = time.time()\n",
    "\n",
    "\n",
    "### Parameters: ###\n",
    "\n",
    "q0 = 0.15\n",
    "p0 = 0.0\n",
    "s0 = 0.05\n",
    "ps0 = 0.0\n",
    "\n",
    "\n",
    "D = 4.419\n",
    "mass = 1836\n",
    "alpha = 2.56\n",
    "hbar = 0.6582  # eV * fs\n",
    "\n",
    "q_list = []\n",
    "y_list = []\n",
    "y_list1 = []\n",
    "y_list2 = []\n",
    "\n",
    "Etot = 0.0\n",
    "Etot0 = 0.0\n",
    "Etot_cl = 0.0\n",
    "Etot_cl0 = 0.0\n",
    "q,p,p2,x,x2,xp = 0.0, 0.0, 0.0, 0.0, 0.0, 0.0\n",
    "q, p = q0, p0\n",
    "p2 = p*p + ps0*ps0 + (0.5*hbar/s0)**2\n",
    "x = exp(-alpha*q0)*exp(0.5*alpha*alpha*s0*s0)\n",
    "x2 = exp(-2.0*alpha*q0)*exp(2.0*alpha*alpha*s0*s0)\n",
    "xp = x*(p - s0*ps0*alpha)\n",
    "\n",
    "Etot, Etot_cl = Etot0, Etot_cl0\n",
    "\n",
    "dt = 0.0\n",
    "p = QHD_int(p, 1, dt)\n",
    "p2 = QHD_int(p, 2, dt)\n",
    "Ekin_cl = 0.5*p*p/mass\n",
    "Ekin    = 0.5*p2/mass\n",
    "Epot_cl = D*(math.exp(-2.0*alpha*q) - 2.0*math.exp(-alpha*q))\n",
    "Epot    = D*(x2 - 2.0*x)\n",
    "Etot_cl = Ekin_cl + Epot_cl\n",
    "Etot    = Ekin    + Epot\n",
    "\n",
    "Etot, Etot_cl = Etot0,Etot_cl0\n",
    "\n",
    "\n",
    "### Compute the y values ###\n",
    "\n",
    "dt = 0.1\n",
    "t = 0.0\n",
    "T = 5000\n",
    "\n",
    "y_list = []\n",
    "\n",
    "while t <= T:\n",
    "    xp = eval(str(xp1))\n",
    "    \n",
    "    x2 = eval(str(x21))\n",
    "    \n",
    "    x = eval(str(x1))\n",
    "   \n",
    "    q = eval(str(q1))  \n",
    "    \n",
    "    p = eval(str(p1))\n",
    "    \n",
    "    p2 = eval(str(p21))\n",
    "    \n",
    "    Ekin_cl = 0.5*p**2/mass\n",
    "    Ekin    = 0.5*p2/mass\n",
    "    Epot_cl = D*(exp(-2.0*alpha*q) - 2.0*exp(-alpha*q))\n",
    "    Epot    = D*(x2 - 2.0*x)\n",
    "    Etot_cl = Ekin_cl + Epot_cl\n",
    "    Etot    = Ekin    + Epot\n",
    "\n",
    "#    Etot = Etot0\n",
    "    \n",
    "#    Etot1 = Etot/Etot0\n",
    "    \n",
    "#    y_list.append(Etot1)\n",
    "    y_list1.append(Etot)\n",
    "    y_list2.append(Etot_cl)\n",
    "    \n",
    "    q_list.append(q)\n",
    "    \n",
    "    t = t + dt\n",
    "    \n",
    "time.sleep(1)\n",
    "# store end time\n",
    "end = time.time()\n",
    "  \n",
    "# total time taken\n",
    "print(f\"Total runtime is {end - begin}\")"
   ]
  },
  {
   "cell_type": "markdown",
   "id": "57397069",
   "metadata": {},
   "source": [
    "For the x values, we create a range with `(t, T, dt)` as the parameters."
   ]
  },
  {
   "cell_type": "code",
   "execution_count": 11,
   "id": "e0d433fe",
   "metadata": {},
   "outputs": [],
   "source": [
    "### Define the x values ###\n",
    "\n",
    "x_list = np.arange(0, 5000, 0.1)\n",
    "\n",
    "#for i in range(0, len(x_list)):\n",
    "#    x_list[i] = x_list[i]*0.02418884254 # a.u. to femtoseconds"
   ]
  },
  {
   "cell_type": "markdown",
   "id": "cc27a426",
   "metadata": {},
   "source": [
    "**3.2 Position versus Time**"
   ]
  },
  {
   "cell_type": "code",
   "execution_count": 12,
   "id": "d65f81e3",
   "metadata": {},
   "outputs": [
    {
     "data": {
      "image/png": "[encoded data removed]",
      "text/plain": [
       "<Figure size 432x288 with 1 Axes>"
      ]
     },
     "metadata": {
      "needs_background": "light"
     },
     "output_type": "display_data"
    }
   ],
   "source": [
    "plt.plot(x_list, q_list)\n",
    "plt.plot([0, 500], [0, 0], \"k-\")\n",
    "plt.title(\"Position vs. Time, Morse Potential\")\n",
    "plt.xlim(0, 200)\n",
    "plt.xlabel(\"Time (fs)\")\n",
    "plt.ylim(-0.5, 0.5)\n",
    "plt.ylabel(\"Position, q\")\n",
    "plt.savefig('QHD_morse_qVt.png')\n",
    "plt.show()"
   ]
  },
  {
   "cell_type": "markdown",
   "id": "8f9dab2b",
   "metadata": {},
   "source": [
    "**3.3 Energy versus Time**"
   ]
  },
  {
   "cell_type": "code",
   "execution_count": 36,
   "id": "38b26315",
   "metadata": {},
   "outputs": [
    {
     "ename": "ValueError",
     "evalue": "x and y must have same first dimension, but have shapes (50000,) and (0,)",
     "output_type": "error",
     "traceback": [
      "\u001b[1;31m---------------------------------------------------------------------------\u001b[0m",
      "\u001b[1;31mValueError\u001b[0m                                Traceback (most recent call last)",
      "\u001b[1;32m<ipython-input-36-1bfc89c2442e>\u001b[0m in \u001b[0;36m<module>\u001b[1;34m\u001b[0m\n\u001b[1;32m----> 1\u001b[1;33m \u001b[0mplt\u001b[0m\u001b[1;33m.\u001b[0m\u001b[0mplot\u001b[0m\u001b[1;33m(\u001b[0m\u001b[0mx_list\u001b[0m\u001b[1;33m,\u001b[0m \u001b[0my_list\u001b[0m\u001b[1;33m)\u001b[0m\u001b[1;33m\u001b[0m\u001b[1;33m\u001b[0m\u001b[0m\n\u001b[0m\u001b[0;32m      2\u001b[0m \u001b[0mplt\u001b[0m\u001b[1;33m.\u001b[0m\u001b[0mplot\u001b[0m\u001b[1;33m(\u001b[0m\u001b[0mx_list\u001b[0m\u001b[1;33m,\u001b[0m \u001b[0my_list1\u001b[0m\u001b[1;33m,\u001b[0m \u001b[1;34m\"k\"\u001b[0m\u001b[1;33m)\u001b[0m\u001b[1;33m\u001b[0m\u001b[1;33m\u001b[0m\u001b[0m\n\u001b[0;32m      3\u001b[0m \u001b[0mplt\u001b[0m\u001b[1;33m.\u001b[0m\u001b[0mplot\u001b[0m\u001b[1;33m(\u001b[0m\u001b[0mx_list\u001b[0m\u001b[1;33m,\u001b[0m \u001b[0my_list2\u001b[0m\u001b[1;33m,\u001b[0m \u001b[1;34m\"m\"\u001b[0m\u001b[1;33m)\u001b[0m\u001b[1;33m\u001b[0m\u001b[1;33m\u001b[0m\u001b[0m\n\u001b[0;32m      4\u001b[0m \u001b[0mplt\u001b[0m\u001b[1;33m.\u001b[0m\u001b[0mlegend\u001b[0m\u001b[1;33m(\u001b[0m\u001b[1;33m[\u001b[0m\u001b[1;34m\"E/E_0\"\u001b[0m\u001b[1;33m,\u001b[0m \u001b[1;34m\"E\"\u001b[0m\u001b[1;33m,\u001b[0m \u001b[1;34m\"E_0\"\u001b[0m\u001b[1;33m]\u001b[0m\u001b[1;33m)\u001b[0m\u001b[1;33m\u001b[0m\u001b[1;33m\u001b[0m\u001b[0m\n\u001b[0;32m      5\u001b[0m \u001b[1;31m#plt.plot([0, 500], [0, 0], \"k-\")\u001b[0m\u001b[1;33m\u001b[0m\u001b[1;33m\u001b[0m\u001b[1;33m\u001b[0m\u001b[0m\n",
      "\u001b[1;32m~\\anaconda3\\lib\\site-packages\\matplotlib\\pyplot.py\u001b[0m in \u001b[0;36mplot\u001b[1;34m(scalex, scaley, data, *args, **kwargs)\u001b[0m\n\u001b[0;32m   2838\u001b[0m \u001b[1;33m@\u001b[0m\u001b[0m_copy_docstring_and_deprecators\u001b[0m\u001b[1;33m(\u001b[0m\u001b[0mAxes\u001b[0m\u001b[1;33m.\u001b[0m\u001b[0mplot\u001b[0m\u001b[1;33m)\u001b[0m\u001b[1;33m\u001b[0m\u001b[1;33m\u001b[0m\u001b[0m\n\u001b[0;32m   2839\u001b[0m \u001b[1;32mdef\u001b[0m \u001b[0mplot\u001b[0m\u001b[1;33m(\u001b[0m\u001b[1;33m*\u001b[0m\u001b[0margs\u001b[0m\u001b[1;33m,\u001b[0m \u001b[0mscalex\u001b[0m\u001b[1;33m=\u001b[0m\u001b[1;32mTrue\u001b[0m\u001b[1;33m,\u001b[0m \u001b[0mscaley\u001b[0m\u001b[1;33m=\u001b[0m\u001b[1;32mTrue\u001b[0m\u001b[1;33m,\u001b[0m \u001b[0mdata\u001b[0m\u001b[1;33m=\u001b[0m\u001b[1;32mNone\u001b[0m\u001b[1;33m,\u001b[0m \u001b[1;33m**\u001b[0m\u001b[0mkwargs\u001b[0m\u001b[1;33m)\u001b[0m\u001b[1;33m:\u001b[0m\u001b[1;33m\u001b[0m\u001b[1;33m\u001b[0m\u001b[0m\n\u001b[1;32m-> 2840\u001b[1;33m     return gca().plot(\n\u001b[0m\u001b[0;32m   2841\u001b[0m         \u001b[1;33m*\u001b[0m\u001b[0margs\u001b[0m\u001b[1;33m,\u001b[0m \u001b[0mscalex\u001b[0m\u001b[1;33m=\u001b[0m\u001b[0mscalex\u001b[0m\u001b[1;33m,\u001b[0m \u001b[0mscaley\u001b[0m\u001b[1;33m=\u001b[0m\u001b[0mscaley\u001b[0m\u001b[1;33m,\u001b[0m\u001b[1;33m\u001b[0m\u001b[1;33m\u001b[0m\u001b[0m\n\u001b[0;32m   2842\u001b[0m         **({\"data\": data} if data is not None else {}), **kwargs)\n",
      "\u001b[1;32m~\\anaconda3\\lib\\site-packages\\matplotlib\\axes\\_axes.py\u001b[0m in \u001b[0;36mplot\u001b[1;34m(self, scalex, scaley, data, *args, **kwargs)\u001b[0m\n\u001b[0;32m   1741\u001b[0m         \"\"\"\n\u001b[0;32m   1742\u001b[0m         \u001b[0mkwargs\u001b[0m \u001b[1;33m=\u001b[0m \u001b[0mcbook\u001b[0m\u001b[1;33m.\u001b[0m\u001b[0mnormalize_kwargs\u001b[0m\u001b[1;33m(\u001b[0m\u001b[0mkwargs\u001b[0m\u001b[1;33m,\u001b[0m \u001b[0mmlines\u001b[0m\u001b[1;33m.\u001b[0m\u001b[0mLine2D\u001b[0m\u001b[1;33m)\u001b[0m\u001b[1;33m\u001b[0m\u001b[1;33m\u001b[0m\u001b[0m\n\u001b[1;32m-> 1743\u001b[1;33m         \u001b[0mlines\u001b[0m \u001b[1;33m=\u001b[0m \u001b[1;33m[\u001b[0m\u001b[1;33m*\u001b[0m\u001b[0mself\u001b[0m\u001b[1;33m.\u001b[0m\u001b[0m_get_lines\u001b[0m\u001b[1;33m(\u001b[0m\u001b[1;33m*\u001b[0m\u001b[0margs\u001b[0m\u001b[1;33m,\u001b[0m \u001b[0mdata\u001b[0m\u001b[1;33m=\u001b[0m\u001b[0mdata\u001b[0m\u001b[1;33m,\u001b[0m \u001b[1;33m**\u001b[0m\u001b[0mkwargs\u001b[0m\u001b[1;33m)\u001b[0m\u001b[1;33m]\u001b[0m\u001b[1;33m\u001b[0m\u001b[1;33m\u001b[0m\u001b[0m\n\u001b[0m\u001b[0;32m   1744\u001b[0m         \u001b[1;32mfor\u001b[0m \u001b[0mline\u001b[0m \u001b[1;32min\u001b[0m \u001b[0mlines\u001b[0m\u001b[1;33m:\u001b[0m\u001b[1;33m\u001b[0m\u001b[1;33m\u001b[0m\u001b[0m\n\u001b[0;32m   1745\u001b[0m             \u001b[0mself\u001b[0m\u001b[1;33m.\u001b[0m\u001b[0madd_line\u001b[0m\u001b[1;33m(\u001b[0m\u001b[0mline\u001b[0m\u001b[1;33m)\u001b[0m\u001b[1;33m\u001b[0m\u001b[1;33m\u001b[0m\u001b[0m\n",
      "\u001b[1;32m~\\anaconda3\\lib\\site-packages\\matplotlib\\axes\\_base.py\u001b[0m in \u001b[0;36m__call__\u001b[1;34m(self, data, *args, **kwargs)\u001b[0m\n\u001b[0;32m    271\u001b[0m                 \u001b[0mthis\u001b[0m \u001b[1;33m+=\u001b[0m \u001b[0margs\u001b[0m\u001b[1;33m[\u001b[0m\u001b[1;36m0\u001b[0m\u001b[1;33m]\u001b[0m\u001b[1;33m,\u001b[0m\u001b[1;33m\u001b[0m\u001b[1;33m\u001b[0m\u001b[0m\n\u001b[0;32m    272\u001b[0m                 \u001b[0margs\u001b[0m \u001b[1;33m=\u001b[0m \u001b[0margs\u001b[0m\u001b[1;33m[\u001b[0m\u001b[1;36m1\u001b[0m\u001b[1;33m:\u001b[0m\u001b[1;33m]\u001b[0m\u001b[1;33m\u001b[0m\u001b[1;33m\u001b[0m\u001b[0m\n\u001b[1;32m--> 273\u001b[1;33m             \u001b[1;32myield\u001b[0m \u001b[1;32mfrom\u001b[0m \u001b[0mself\u001b[0m\u001b[1;33m.\u001b[0m\u001b[0m_plot_args\u001b[0m\u001b[1;33m(\u001b[0m\u001b[0mthis\u001b[0m\u001b[1;33m,\u001b[0m \u001b[0mkwargs\u001b[0m\u001b[1;33m)\u001b[0m\u001b[1;33m\u001b[0m\u001b[1;33m\u001b[0m\u001b[0m\n\u001b[0m\u001b[0;32m    274\u001b[0m \u001b[1;33m\u001b[0m\u001b[0m\n\u001b[0;32m    275\u001b[0m     \u001b[1;32mdef\u001b[0m \u001b[0mget_next_color\u001b[0m\u001b[1;33m(\u001b[0m\u001b[0mself\u001b[0m\u001b[1;33m)\u001b[0m\u001b[1;33m:\u001b[0m\u001b[1;33m\u001b[0m\u001b[1;33m\u001b[0m\u001b[0m\n",
      "\u001b[1;32m~\\anaconda3\\lib\\site-packages\\matplotlib\\axes\\_base.py\u001b[0m in \u001b[0;36m_plot_args\u001b[1;34m(self, tup, kwargs)\u001b[0m\n\u001b[0;32m    397\u001b[0m \u001b[1;33m\u001b[0m\u001b[0m\n\u001b[0;32m    398\u001b[0m         \u001b[1;32mif\u001b[0m \u001b[0mx\u001b[0m\u001b[1;33m.\u001b[0m\u001b[0mshape\u001b[0m\u001b[1;33m[\u001b[0m\u001b[1;36m0\u001b[0m\u001b[1;33m]\u001b[0m \u001b[1;33m!=\u001b[0m \u001b[0my\u001b[0m\u001b[1;33m.\u001b[0m\u001b[0mshape\u001b[0m\u001b[1;33m[\u001b[0m\u001b[1;36m0\u001b[0m\u001b[1;33m]\u001b[0m\u001b[1;33m:\u001b[0m\u001b[1;33m\u001b[0m\u001b[1;33m\u001b[0m\u001b[0m\n\u001b[1;32m--> 399\u001b[1;33m             raise ValueError(f\"x and y must have same first dimension, but \"\n\u001b[0m\u001b[0;32m    400\u001b[0m                              f\"have shapes {x.shape} and {y.shape}\")\n\u001b[0;32m    401\u001b[0m         \u001b[1;32mif\u001b[0m \u001b[0mx\u001b[0m\u001b[1;33m.\u001b[0m\u001b[0mndim\u001b[0m \u001b[1;33m>\u001b[0m \u001b[1;36m2\u001b[0m \u001b[1;32mor\u001b[0m \u001b[0my\u001b[0m\u001b[1;33m.\u001b[0m\u001b[0mndim\u001b[0m \u001b[1;33m>\u001b[0m \u001b[1;36m2\u001b[0m\u001b[1;33m:\u001b[0m\u001b[1;33m\u001b[0m\u001b[1;33m\u001b[0m\u001b[0m\n",
      "\u001b[1;31mValueError\u001b[0m: x and y must have same first dimension, but have shapes (50000,) and (0,)"
     ]
    },
    {
     "data": {
      "image/png": "[encoded data removed]",
      "text/plain": [
       "<Figure size 432x288 with 1 Axes>"
      ]
     },
     "metadata": {
      "needs_background": "light"
     },
     "output_type": "display_data"
    }
   ],
   "source": [
    "plt.plot(x_list, y_list)\n",
    "plt.plot(x_list, y_list1, \"k\")\n",
    "plt.plot(x_list, y_list2, \"m\")\n",
    "plt.legend([\"E/E_0\", \"E\", \"E_0\"])\n",
    "#plt.plot([0, 500], [0, 0], \"k-\")\n",
    "plt.title(\"Energy vs. Time, Morse Potential\")\n",
    "plt.xlim(0, 1000)\n",
    "plt.xlabel(\"Time (fs)\")\n",
    "plt.ylim(-5, 0.5)\n",
    "plt.ylabel(\"Energy, eV\")\n",
    "plt.savefig('morse_eVt.png')\n",
    "plt.show()"
   ]
  },
  {
   "cell_type": "markdown",
   "id": "2cf2ebc7",
   "metadata": {},
   "source": [
    "We can also look at the graphs separately by making a subplot:"
   ]
  },
  {
   "cell_type": "code",
   "execution_count": 38,
   "id": "8976ee92",
   "metadata": {},
   "outputs": [
    {
     "data": {
      "text/plain": [
       "Text(0.5, 1.0, 'Classical Energy vs. Time, Morse Potential')"
      ]
     },
     "execution_count": 38,
     "metadata": {},
     "output_type": "execute_result"
    },
    {
     "data": {
      "image/png": "[encoded data removed]",
      "text/plain": [
       "<Figure size 432x288 with 3 Axes>"
      ]
     },
     "metadata": {
      "needs_background": "light"
     },
     "output_type": "display_data"
    }
   ],
   "source": [
    "plt.subplot(2, 2, 1)\n",
    "plt.plot(x_list, y_list1)\n",
    "plt.title(\"Total Energy vs. Time, Morse Potential\")\n",
    "plt.subplot(2, 2, 2)\n",
    "plt.plot(x_list, y_list1)\n",
    "plt.title(\"QHD Energy vs. Time, Morse Potential\")\n",
    "plt.subplot(2, 2, 3)\n",
    "plt.plot(x_list, y_list2)\n",
    "plt.title(\"Classical Energy vs. Time, Morse Potential\")"
   ]
  },
  {
   "cell_type": "code",
   "execution_count": null,
   "id": "b3a6a4d4",
   "metadata": {},
   "outputs": [],
   "source": []
  }
 ],
 "metadata": {
  "kernelspec": {
   "display_name": "Python 3",
   "language": "python",
   "name": "python3"
  },
  "language_info": {
   "codemirror_mode": {
    "name": "ipython",
    "version": 3
   },
   "file_extension": ".py",
   "mimetype": "text/x-python",
   "name": "python",
   "nbconvert_exporter": "python",
   "pygments_lexer": "ipython3",
   "version": "3.8.8"
  }
 },
 "nbformat": 4,
 "nbformat_minor": 5
}
