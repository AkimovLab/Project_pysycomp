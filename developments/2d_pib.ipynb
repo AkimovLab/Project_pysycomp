{
 "cells": [
  {
   "cell_type": "code",
   "execution_count": null,
   "metadata": {},
   "outputs": [],
   "source": [
    "from pysces import *"
   ]
  },
  {
   "cell_type": "markdown",
   "metadata": {},
   "source": [
    "Let's try looking at what the PIB_2D wave function looks like, and what the normalized wave function looks like."
   ]
  },
  {
   "cell_type": "code",
   "execution_count": 6,
   "metadata": {},
   "outputs": [
    {
     "data": {
      "image/png": "[encoded data removed]",
      "text/latex": [
       "$$\\sin{\\left (\\frac{\\pi n x}{L_{x}} \\right )} \\sin{\\left (\\frac{\\pi n y}{L_{y}} \\right )}$$"
      ],
      "text/plain": [
       "   ⎛π⋅n⋅x⎞    ⎛π⋅n⋅y⎞\n",
       "sin⎜─────⎟⋅sin⎜─────⎟\n",
       "   ⎝  Lₓ ⎠    ⎝ L_y ⎠"
      ]
     },
     "execution_count": 6,
     "metadata": {},
     "output_type": "execute_result"
    }
   ],
   "source": [
    "x, y, L_x, L_y, n = symbols(\"x, y, L_x, L_y, n\")\n",
    "L = Function(\"L\")\n",
    "\n",
    "PIB_2D(x, y, L_x, L_y, n)"
   ]
  },
  {
   "cell_type": "code",
   "execution_count": 7,
   "metadata": {
    "scrolled": true
   },
   "outputs": [
    {
     "data": {
      "image/png": "[encoded data removed]",
      "text/latex": [
       "$$2 \\sqrt{\\frac{1}{L_{x}}} \\sqrt{\\frac{1}{L_{y}}} \\sin{\\left (\\frac{\\pi n x}{L_{x}} \\right )} \\sin{\\left (\\frac{\\pi n y}{L_{y}} \\right )}$$"
      ],
      "text/plain": [
       "      ____     _____                      \n",
       "     ╱ 1      ╱  1      ⎛π⋅n⋅x⎞    ⎛π⋅n⋅y⎞\n",
       "2⋅  ╱  ── ⋅  ╱  ─── ⋅sin⎜─────⎟⋅sin⎜─────⎟\n",
       "  ╲╱   Lₓ  ╲╱   L_y     ⎝  Lₓ ⎠    ⎝ L_y ⎠"
      ]
     },
     "execution_count": 7,
     "metadata": {},
     "output_type": "execute_result"
    }
   ],
   "source": [
    "PIB_2D_normalized(x, y, L_x, L_y, n)"
   ]
  },
  {
   "cell_type": "markdown",
   "metadata": {},
   "source": [
    "You can also calculate the normalized wave function using the normalization_constant() function."
   ]
  },
  {
   "cell_type": "code",
   "execution_count": 10,
   "metadata": {},
   "outputs": [
    {
     "data": {
      "text/latex": [
       "$$\\begin{cases} \\frac{2}{\\sqrt{L^{2}}} & \\text{for}\\: \\frac{\\pi n}{L} \\neq 0 \\\\\\tilde{\\infty} & \\text{otherwise} \\end{cases}$$"
      ],
      "text/plain": [
       "⎧   2         π⋅n    \n",
       "⎪───────  for ─── ≠ 0\n",
       "⎪   ____       L     \n",
       "⎨  ╱  2              \n",
       "⎪╲╱  L               \n",
       "⎪                    \n",
       "⎩  zoo     otherwise "
      ]
     },
     "execution_count": 10,
     "metadata": {},
     "output_type": "execute_result"
    }
   ],
   "source": [
    "L = Symbol(\"L\")\n",
    "\n",
    "x, y, L_x, L_y, n = symbols(\"x, y, L_x, L_y, n\")\n",
    "\n",
    "normalization_constant(PIB_2D(x, y, L, L, n), 0, L, x, y)"
   ]
  },
  {
   "cell_type": "markdown",
   "metadata": {},
   "source": [
    "The next block of cells is purely experimental, and should be ignored at this time."
   ]
  },
  {
   "cell_type": "raw",
   "metadata": {},
   "source": [
    "def test_function(psi, lower, upper, **kwargs):\n",
    "    for key, value in kwargs.items():\n",
    "        nreps = 2\n",
    "        initial = [ \"lower\", \"upper\"]\n",
    "        final = [lower, upper]\n",
    "        key, value == None\n",
    "        res = 1/sqrt(Integral(sympify(psi), sympify( str(\"%s, lower, upper\" %(key))), sympify(str(\"%s, lower, upper\" %(value)))))\n",
    "\n",
    "        for i in range(nreps):\n",
    "            res = res.replace(initial[i], final[i])#.replace(initial[i], final[i])\n",
    "        return simplify( res )\n",
    "     \n",
    "    \n",
    "    \n",
    "test_function(x*y, -oo, oo, x = x)"
   ]
  },
  {
   "cell_type": "code",
   "execution_count": null,
   "metadata": {},
   "outputs": [],
   "source": []
  }
 ],
 "metadata": {
  "kernelspec": {
   "display_name": "Python 3",
   "language": "python",
   "name": "python3"
  },
  "language_info": {
   "codemirror_mode": {
    "name": "ipython",
    "version": 3
   },
   "file_extension": ".py",
   "mimetype": "text/x-python",
   "name": "python",
   "nbconvert_exporter": "python",
   "pygments_lexer": "ipython3",
   "version": "3.7.1"
  }
 },
 "nbformat": 4,
 "nbformat_minor": 2
}
