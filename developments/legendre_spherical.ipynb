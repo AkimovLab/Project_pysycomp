{
 "cells": [
  {
   "cell_type": "code",
   "execution_count": 4,
   "metadata": {},
   "outputs": [],
   "source": [
    "from sympy import *\n",
    "from sympy import printing\n",
    "init_printing()\n",
    "\n",
    "\n",
    "beta, A, P, J, m = symbols(\"beta A, P J m\")\n",
    "\n",
    "def spherical(A):\n",
    "    return A.replace(x, r*sin(theta)*cos(phi)).replace(y, r*sin(theta)*sin(phi)).replace(z, r*cos(theta))\n",
    "\n",
    "def P(J):\n",
    "    return Function('P')(J)\n",
    "\n",
    "def Legendre_Assoc(J, M, x):\n",
    "    return ((1-(x**2))**(abs(M)/2))*(Derivative(P(J), x)**M)\n",
    "\n",
    "\n",
    "def P0(x):\n",
    "    return 1\n",
    "\n",
    "def P1(x):\n",
    "    return x\n",
    "\n",
    "def P2(x):\n",
    "    return (1/2)*(3*(x**2)-1)\n",
    "\n",
    "def P3(x):\n",
    "    return (1/2)*(5*(x**3)-3*x)"
   ]
  },
  {
   "cell_type": "markdown",
   "metadata": {},
   "source": [
    "Legendre and Associated Legendre"
   ]
  },
  {
   "cell_type": "code",
   "execution_count": 2,
   "metadata": {},
   "outputs": [
    {
     "ename": "NameError",
     "evalue": "name 'x' is not defined",
     "output_type": "error",
     "traceback": [
      "\u001b[1;31m---------------------------------------------------------------------------\u001b[0m",
      "\u001b[1;31mNameError\u001b[0m                                 Traceback (most recent call last)",
      "\u001b[1;32m<ipython-input-2-dc6562989ce7>\u001b[0m in \u001b[0;36m<module>\u001b[1;34m\u001b[0m\n\u001b[1;32m----> 1\u001b[1;33m \u001b[0mP3\u001b[0m\u001b[1;33m(\u001b[0m\u001b[0mx\u001b[0m\u001b[1;33m)\u001b[0m\u001b[1;33m\u001b[0m\u001b[1;33m\u001b[0m\u001b[0m\n\u001b[0m",
      "\u001b[1;31mNameError\u001b[0m: name 'x' is not defined"
     ]
    }
   ],
   "source": [
    "P3(x)"
   ]
  },
  {
   "cell_type": "code",
   "execution_count": null,
   "metadata": {},
   "outputs": [],
   "source": [
    "x = cos(theta)\n",
    "\n",
    "ans = Legendre_Assoc(3, 1, x).replace(P(3), P3(x)).doit()"
   ]
  },
  {
   "cell_type": "code",
   "execution_count": 7,
   "metadata": {
    "scrolled": true
   },
   "outputs": [
    {
     "data": {
      "image/png": "[encoded data removed]",
      "text/latex": [
       "$$\\left(7.5 \\cos^{2}{\\left (\\theta \\right )} - 1.5\\right) \\left(\\sin^{2}{\\left (\\theta \\right )}\\right)^{0.5}$$"
      ],
      "text/plain": [
       "                           0.5\n",
       "⎛       2         ⎞    2      \n",
       "⎝7.5⋅cos (θ) - 1.5⎠⋅sin (θ)   "
      ]
     },
     "execution_count": 7,
     "metadata": {},
     "output_type": "execute_result"
    }
   ],
   "source": [
    "simplify(ans)"
   ]
  },
  {
   "cell_type": "markdown",
   "metadata": {},
   "source": [
    "Spherical Harmonics"
   ]
  },
  {
   "cell_type": "code",
   "execution_count": 26,
   "metadata": {},
   "outputs": [],
   "source": [
    "def Y(J, M):\n",
    "    return (((2*J+1)*(J-abs(M)))/((4*pi)*(J+abs(M))))**(1/2)*(Legendre_Assoc(J, M, x)*cos(theta)*exp(I*M*phi))"
   ]
  },
  {
   "cell_type": "code",
   "execution_count": 27,
   "metadata": {},
   "outputs": [
    {
     "data": {
      "image/png": "[encoded data removed]",
      "text/latex": [
       "$$\\frac{0.866025403784439 \\cos{\\left (\\theta \\right )}}{\\pi^{0.5}}$$"
      ],
      "text/plain": [
       "                   -0.5       \n",
       "0.866025403784439⋅π    ⋅cos(θ)"
      ]
     },
     "execution_count": 27,
     "metadata": {},
     "output_type": "execute_result"
    }
   ],
   "source": [
    "J, M = symbols(\"J M\")\n",
    "\n",
    "Y(1, 0)"
   ]
  },
  {
   "cell_type": "code",
   "execution_count": 28,
   "metadata": {},
   "outputs": [
    {
     "data": {
      "image/png": "[encoded data removed]",
      "text/latex": [
       "$$\\mathrm{NaN}$$"
      ],
      "text/plain": [
       "nan"
      ]
     },
     "execution_count": 28,
     "metadata": {},
     "output_type": "execute_result"
    }
   ],
   "source": [
    "Y(0,0)"
   ]
  },
  {
   "cell_type": "code",
   "execution_count": 29,
   "metadata": {},
   "outputs": [
    {
     "data": {
      "image/png": "[encoded data removed]",
      "text/latex": [
       "$$0$$"
      ],
      "text/plain": [
       "0"
      ]
     },
     "execution_count": 29,
     "metadata": {},
     "output_type": "execute_result"
    }
   ],
   "source": [
    "Y(1, 1)"
   ]
  },
  {
   "cell_type": "code",
   "execution_count": 31,
   "metadata": {},
   "outputs": [
    {
     "data": {
      "image/png": "[encoded data removed]",
      "text/latex": [
       "$$\\frac{0.5 \\left(\\frac{\\left(J - \\left|{M}\\right|\\right) \\left(2 J + 1\\right)}{J + \\left|{M}\\right|}\\right)^{0.5} \\left(- \\cos^{2}{\\left (\\theta \\right )} + 1\\right)^{\\frac{\\left|{M}\\right|}{2}} e^{i M \\phi} \\cos{\\left (\\theta \\right )} \\left(\\frac{d}{d \\cos{\\left (\\theta \\right )}} P{\\left (J \\right )}\\right)^{M}}{\\pi^{0.5}}$$"
      ],
      "text/plain": [
       "                                                  │M│                         \n",
       "                                                  ───                         \n",
       "                               0.5                 2                          \n",
       "     -0.5 ⎛(J - │M│)⋅(2⋅J + 1)⎞    ⎛     2       ⎞     ⅈ⋅M⋅φ        ⎛   d     \n",
       "0.5⋅π    ⋅⎜───────────────────⎟   ⋅⎝- cos (θ) + 1⎠   ⋅ℯ     ⋅cos(θ)⋅⎜───────(P\n",
       "          ⎝      J + │M│      ⎠                                     ⎝dcos(θ)  \n",
       "\n",
       "      \n",
       "      \n",
       "     M\n",
       "    ⎞ \n",
       "(J))⎟ \n",
       "    ⎠ "
      ]
     },
     "execution_count": 31,
     "metadata": {},
     "output_type": "execute_result"
    }
   ],
   "source": [
    "Y(J, M)"
   ]
  }
 ],
 "metadata": {
  "kernelspec": {
   "display_name": "Python 3",
   "language": "python",
   "name": "python3"
  },
  "language_info": {
   "codemirror_mode": {
    "name": "ipython",
    "version": 3
   },
   "file_extension": ".py",
   "mimetype": "text/x-python",
   "name": "python",
   "nbconvert_exporter": "python",
   "pygments_lexer": "ipython3",
   "version": "3.7.1"
  }
 },
 "nbformat": 4,
 "nbformat_minor": 2
}
