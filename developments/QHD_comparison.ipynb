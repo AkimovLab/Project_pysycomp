{
 "cells": [
  {
   "cell_type": "markdown",
   "id": "c3839fda",
   "metadata": {},
   "source": [
    "# Original Code\n",
    "\n",
    "The code in the next few cells is taken directly from **Formulation of quantized Hamiltonian dynamics in terms of natural variables** by Akimov et. al"
   ]
  },
  {
   "cell_type": "code",
   "execution_count": 64,
   "id": "6fe134be",
   "metadata": {},
   "outputs": [],
   "source": [
    "import math\n",
    "\n",
    "hbar = 0.6582  # eV * fs\n",
    "\n",
    "\n",
    "def integrate_q(q,p,pq,q2,p2,x,x2,xp,xq,dt,mass,alp,D):\n",
    "    q = q + p*dt/mass\n",
    "    return q\n",
    "\n",
    "def integrate_q2(q,p,pq,q2,p2,x,x2,xp,xq,dt,mass,alp,D):\n",
    "    q2 = q2 + 2.0*pq*dt/mass\n",
    "    return q2\n",
    "\n",
    "def integrate_p(q,p,qp,q2,p2,x,x2,xp,xq,dt,mass,alp,D):\n",
    "    p = p + 2.0*alp*D*(x2-x)*dt\n",
    "    return p\n",
    "\n",
    "def integrate_p2(q,p,qp,q2,p2,x,x2,xp,xq,dt,mass,alp,D):\n",
    "    p2 = p2 + dt*4.0*alp*D*( (x2 - 2.0*x*x)*p + (2.0*x-1.0)*xp ) \n",
    "    return p2\n",
    "\n",
    "def integrate_pq(q,p,pq,q2,p2,x,x2,xp,xq,dt,mass,alp,D):\n",
    "    pq = pq + dt*(p2/mass) + dt*2.0*alp*D*( (x2 - 2.0*x*x)*q + (2.0*x-1.0)*xq ) \n",
    "    return pq\n",
    "\n",
    "def integrate_x(q,p,pq,q2,p2,x,x2,xp,xq,dt,mass,alp,D):\n",
    "    x = x - alp*xp*dt/mass\n",
    "    return x\n",
    "\n",
    "def integrate_x2(q,p,pq,q2,p2,x,x2,xp,xq,dt,mass,alp,D):\n",
    "    x2 = x2 - 4.0*(alp/mass)*x*(xp - x*p)*0.5*dt\n",
    "    x2 = math.exp(-2.0*alp*p*dt/mass)*x2\n",
    "    x2 = x2 - 4.0*(alp/mass)*x*(xp - x*p)*0.5*dt\n",
    "    return x2\n",
    "\n",
    "def integrate_xp(q,p,pq,q2,p2,x,x2,xp,xq,dt,mass,alp,D):\n",
    "    xp = xp + 0.5*dt*(2.0*alp*D*(x*(3.0*x2 - 2*x*x) - x2)  - (alp*x/mass)*(p2 - 2.0*p*p) )\n",
    "    xp = math.exp(-2.0*alp*p*dt/mass)*xp\n",
    "    xp = xp + 0.5*dt*(2.0*alp*D*(x*(3.0*x2 - 2*x*x) - x2)  - (alp*x/mass)*(p2 - 2.0*p*p) )\n",
    "    return xp\n",
    "\n",
    "def integrate_xq(q,p,pq,q2,p2,x,x2,xp,xq,dt,mass,alp,D):\n",
    "    xq = xq + 0.5*(dt/mass)*( xp*(1.0 - alp*q) - alp*x*(pq - 2.0*q*p) )\n",
    "    xq = math.exp(-alp*p*dt/mass)*xq\n",
    "    xq = xq + 0.5*(dt/mass)*( xp*(1.0 - alp*q) - alp*x*(pq - 2.0*q*p) )\n",
    "    return xq\n",
    "\n",
    "\n",
    "def gqhd_step(q,p,pq,q2,p2,x,x2,xp,xq,dt,mass,alp,D):\n",
    "    xp = integrate_xp(q,p,pq,q2,p2,x,x2,xp,xq,0.5*dt,mass,alp,D)\n",
    "    xq = integrate_xq(q,p,pq,q2,p2,x,x2,xp,xq,0.5*dt,mass,alp,D)\n",
    "    x2 = integrate_x2(q,p,pq,q2,p2,x,x2,xp,xq,0.5*dt,mass,alp,D)\n",
    "    x  = integrate_x(q,p,pq,q2,p2,x,x2,xp,xq,0.5*dt,mass,alp,D)\n",
    "    pq = integrate_pq(q,p,pq,q2,p2,x,x2,xp,xq,0.5*dt,mass,alp,D)\n",
    "    p2 = integrate_p2(q,p,pq,q2,p2,x,x2,xp,xq,0.5*dt,mass,alp,D)\n",
    "    q2 = integrate_q2(q,p,pq,q2,p2,x,x2,xp,xq,0.5*dt,mass,alp,D)\n",
    "    p  = integrate_p(q,p,pq,q2,p2,x,x2,xp,xq,0.5*dt,mass,alp,D)\n",
    "\n",
    "    q  = integrate_q(q,p,pq,q2,p2,x,x2,xp,xq,dt,mass,alp,D)\n",
    "\n",
    "    p  = integrate_p(q,p,pq,q2,p2,x,x2,xp,xq,0.5*dt,mass,alp,D)\n",
    "    q2 = integrate_q2(q,p,pq,q2,p2,x,x2,xp,xq,0.5*dt,mass,alp,D)\n",
    "    p2 = integrate_p2(q,p,pq,q2,p2,x,x2,xp,xq,0.5*dt,mass,alp,D)\n",
    "    pq = integrate_pq(q,p,pq,q2,p2,x,x2,xp,xq,0.5*dt,mass,alp,D)\n",
    "    x  = integrate_x(q,p,pq,q2,p2,x,x2,xp,xq,0.5*dt,mass,alp,D)\n",
    "    x2 = integrate_x2(q,p,pq,q2,p2,x,x2,xp,xq,0.5*dt,mass,alp,D)\n",
    "    xq = integrate_xq(q,p,pq,q2,p2,x,x2,xp,xq,0.5*dt,mass,alp,D)\n",
    "    xp = integrate_xp(q,p,pq,q2,p2,x,x2,xp,xq,0.5*dt,mass,alp,D)\n",
    "\n",
    "    Ekin_cl = 0.5*p*p/mass\n",
    "    Ekin    = 0.5*p2/mass\n",
    "    Epot_cl = D*(math.exp(-2.0*alp*q) - 2.0*math.exp(-alp*q))\n",
    "    Epot    = D*(x2 - 2.0*x)\n",
    "    Etot_cl = Ekin_cl + Epot_cl\n",
    "    Etot    = Ekin    + Epot\n",
    "\n",
    "    return [q,p,pq,q2,p2,x,x2,xp,xq, Etot, Etot_cl]\n",
    "\n",
    "\n",
    "\n",
    "def solve(mass,q0,p0,s0,ps0,T,dt,filename):\n",
    "\n",
    "    alp = 2.567\n",
    "    D = 4.419 # eV\n",
    "#    D = 1.0\n",
    "\n",
    "    f1=open(filename,\"w\")\n",
    "    t = 0.0    \n",
    "    Etot = 0.0\n",
    "    Etot0 = 0.0\n",
    "    Etot_cl = 0.0\n",
    "    Etot_cl0 = 0.0\n",
    "    q,p,pq,q2,p2,x,x2,xp,xq = 0.0, 0.0, 0.0, 0.0, 0.0, 0.0, 0.0, 0.0, 0.0\n",
    "    q, p = q0, p0\n",
    "    q2 = q*q + s0*s0\n",
    "    pq = ps0*s0 + q*p\n",
    "    p2 = p*p + ps0*ps0 + (0.5*hbar/s0)**2\n",
    "    x = math.exp(-alp*q0)*math.exp(0.5*alp*alp*s0*s0)\n",
    "    x2 = math.exp(-2.0*alp*q0)*math.exp(2.0*alp*alp*s0*s0)\n",
    "    xq = x*(q-alp*s0*s0)\n",
    "    xp = x*(p - s0*ps0*alp)\n",
    "\n",
    "    q,p,pq,q2,p2,x,x2,xp,xq, Etot0, Etot_cl0 = gqhd_step(q,p,pq,q2,p2,x,x2,xp,xq,0.0,mass,alp,D)\n",
    "    Etot, Etot_cl = Etot0,Etot_cl0\n",
    "\n",
    "    line = str(t)+\"  \"+str(Etot/Etot0)+\"  \"\n",
    "    i=0\n",
    "    while i<1:        \n",
    "        s = (q2 - q*q)\n",
    "        if s>0.0:\n",
    "            s = math.sqrt(s)\n",
    "        else: \n",
    "            s = 0.0\n",
    "        if s>0.0:\n",
    "            ps = (pq - p*q)/s\n",
    "        else: \n",
    "            ps = 0.0\n",
    "        line = line +str(q)+\"  \"+str(p)+\"  \"+str(s)+\"  \"+str(ps)+\"  \"\n",
    "        i = i+1\n",
    "    line = line +str(Etot)+\"  \"+str(Etot_cl)+\"\\n\"\n",
    "    f1.write(line)\n",
    "    \n",
    "\n",
    "    while t<=T:\n",
    "        q,p,pq,q2,p2,x,x2,xp,xq, Etot0, Etot_cl0 = gqhd_step(q,p,pq,q2,p2,x,x2,xp,xq,dt,mass,alp,D)\n",
    "        t = t + dt\n",
    "        line = str(t)+\"  \"+str(Etot/Etot0)+\"  \"\n",
    "        i=0\n",
    "        while i<1:\n",
    "            s = (q2 - q*q)\n",
    "            if s>0.0:\n",
    "                s = math.sqrt(s)\n",
    "            else: \n",
    "                s = 0.0\n",
    "            if s>0.0:\n",
    "                ps = (pq - p*q)/s\n",
    "            else: \n",
    "                ps = 0.0\n",
    "\n",
    "            line = line +str(q)+\"  \"+str(p)+\"  \"+str(s)+\"  \"+str(ps)+\"  \"\n",
    "            i = i+1\n",
    "        line = line +str(Etot)+\"  \"+str(Etot_cl)+\"\\n\"\n",
    "        f1.write(line)\n",
    "\n",
    "    f1.close()\n",
    "\n",
    "\n",
    "#convert = (1.0/17.102)\n",
    "convert = (1.0/17.586)  # More accurate value !\n",
    "solve(2980.0*convert, 0.15, 0.0, 0.05, 0.0, 500, 0.1,\"o4\")"
   ]
  },
  {
   "cell_type": "code",
   "execution_count": 65,
   "id": "8a5ccb66",
   "metadata": {},
   "outputs": [
    {
     "data": {
      "text/plain": [
       "[<matplotlib.lines.Line2D at 0x16d632aa130>]"
      ]
     },
     "execution_count": 65,
     "metadata": {},
     "output_type": "execute_result"
    },
    {
     "data": {
      "image/png": "[encoded data removed]",
      "text/plain": [
       "<Figure size 432x288 with 1 Axes>"
      ]
     },
     "metadata": {
      "needs_background": "light"
     },
     "output_type": "display_data"
    }
   ],
   "source": [
    "import matplotlib.pyplot as plt\n",
    "import numpy as np\n",
    "\n",
    "x = np.loadtxt(\"o4\")[:,0]\n",
    "y = np.loadtxt(\"o4\")[:,2]\n",
    "\n",
    "plt.plot(x, y)"
   ]
  },
  {
   "cell_type": "markdown",
   "id": "b65e2e58",
   "metadata": {},
   "source": [
    "The above is the correct QHD result that I have tried to replicate with my own code."
   ]
  },
  {
   "cell_type": "markdown",
   "id": "77c8d965",
   "metadata": {},
   "source": [
    "# My Code"
   ]
  },
  {
   "cell_type": "code",
   "execution_count": 228,
   "id": "985668f8",
   "metadata": {},
   "outputs": [],
   "source": [
    "from QHD import *\n",
    "import math\n",
    "\n",
    "def symmetrize(expr):\n",
    "#    p, x2, x, px, xp = symbols(\"p, x2, x, px, xp\")\n",
    "    expr1 = str(expr)\n",
    "    expr1 = expr1.replace(\"p*x2\", \"(x2*p-2*x*x*p+2*x*px)\").replace(\"p*x\", \"px\")\n",
    "    return eval(expr1)"
   ]
  },
  {
   "cell_type": "markdown",
   "id": "dd38bc84",
   "metadata": {},
   "source": [
    "The main purpose of my code is to be able to derive formulas automatically, as seen through the QHD example. This is done in the below cells."
   ]
  },
  {
   "cell_type": "markdown",
   "id": "57209b10",
   "metadata": {},
   "source": [
    "1. Calcuating the derivatives."
   ]
  },
  {
   "cell_type": "code",
   "execution_count": 229,
   "id": "ff0ed4ac",
   "metadata": {},
   "outputs": [],
   "source": [
    "# First, we must define all the parameters as stated in section 1 as symbols:\n",
    "\n",
    "D, alpha, q_0, q = symbols(\"D, alpha, q_0, q\")\n",
    "\n",
    "# When computing symbolically, we do not need to use the numpy exponential function.\n",
    "\n",
    "potential_sym = D * (1 - exp(-alpha*(q-q_0)))**2\n",
    "\n",
    "diff1 = diff(potential_sym, q)\n",
    "diff2 = diff(diff1, q)\n",
    "\n",
    "x = Symbol(\"x\")\n",
    "\n",
    "diff11 = diff1.replace(exp(-alpha*(q-q_0)), x).replace(exp(-2*alpha*(q-q_0)), x**2)\n",
    "\n",
    "diff22 = diff2.replace(exp(-alpha*(q-q_0)), x).replace(exp(-2*alpha*(q-q_0)), x**2)"
   ]
  },
  {
   "cell_type": "markdown",
   "id": "49a2c966",
   "metadata": {},
   "source": [
    "Now that the derivatives are computed, the equations of motion can be derived."
   ]
  },
  {
   "cell_type": "code",
   "execution_count": 230,
   "id": "f23ed035",
   "metadata": {},
   "outputs": [
    {
     "name": "stdout",
     "output_type": "stream",
     "text": [
      "q = dt*p/mass + q\n",
      "x = -0.5*alpha*dt*xp/mass + x\n",
      "p = dt*(1.0*D*alpha*x2 - 1.0*D*alpha*x) + p\n",
      "p2 = dt*(-2.0*D*alpha*xp + 2.0*D*alpha*(-2*p*x**2 + p*x2 + 2*x*xp)) + p2\n"
     ]
    }
   ],
   "source": [
    "# Again, we must first define all variables as symbols. #\n",
    "\n",
    "q, p, p2, x, x2, xp, dt, mass, D, alpha = symbols(\"q, p, p2, x, x2, xp, dt, mass, D, alpha\")\n",
    "q_0 = 0.0\n",
    "########## EOM Calculations ##########\n",
    "\n",
    "# If you want to see the output of any of the below, uncomment the desired print line. #\n",
    "\n",
    "# There are two ways to derive the EOM's, using the `time_deriv` function and then the original way is with `QHD_int`\n",
    "# The `time_deriv` function is used as it's more versatile at this time, however it's still not perfect.\n",
    "# `QHD_int` uses the `time_deriv` function\n",
    "\n",
    "px = xp\n",
    "q1 = str(time_deriv(q, 1)*dt + q)\n",
    "print(\"q = \" + str(q1))\n",
    "\n",
    "x = exp(-alpha*q)\n",
    "x1 = sympify(str(time_deriv(x, 1)).replace(\"exp(-alpha*q)\", \"x\"))\n",
    "x1 = str((symmetrize(x1))*(0.5)*dt + Symbol(\"x\"))\n",
    "print(\"x = \" + str(x1))\n",
    "\n",
    "x21 = x2 - 4.0*(alp/mass)*x*(xp - x*p)*0.5*dt\n",
    "x21 = exp(-2.0*alp*p*dt/mass)*x21\n",
    "x21 = x21 - 4.0*(alp/mass)*x*(xp - x*p)*0.5*dt\n",
    "\n",
    "xp1 = str(QHD_int(xp, 1, 0.5*dt))\n",
    "#print(\"xp = \" + str(xp1))\n",
    "\n",
    "p1 = str(time_deriv(p, 1)).replace(\"v(q)\", str(potential_sym))\n",
    "p1 = expand(sympify(p1).doit())\n",
    "p1 = str(p1).replace(\"exp(-2*alpha*q)\", \"x2\").replace(\"alpha**2\", \"0\")\n",
    "p1 = sympify(p1)\n",
    "p1 = str(symmetrize(p1)*(0.5)*dt + p).replace(\"exp(-alpha*q)\", \"x\")\n",
    "print(\"p = \" + str(p1))\n",
    "x = Symbol(\"x\")\n",
    "p21 = str(time_deriv(p, 2)).replace(\"v(q)\", str(potential_sym))\n",
    "p21 = expand(sympify(p21).doit())\n",
    "p21 = str(-p21).replace(\"exp(-alpha*q)\", \"x\").replace(\"exp(-2*alpha*q)\", \"x2\").replace(\"alpha**2\", \"0\")\n",
    "p21 = str(symmetrize(p21)*(0.5)*dt + p2).replace(\"exp(-alpha*q)\", \"x\").replace(\"exp(-2*alpha*q)\", \"x2\")\n",
    "print(\"p2 = \" + str(p21))"
   ]
  },
  {
   "cell_type": "code",
   "execution_count": 231,
   "id": "6917e0ca",
   "metadata": {},
   "outputs": [
    {
     "name": "stdout",
     "output_type": "stream",
     "text": [
      "dt*(2.0*D*alpha*xp - 2.0*D*alpha*(-p*x2 + 2*x*xp)) + p2\n",
      "2.0*D*alpha*dt*(p*(-2.0*x**2 + x2) + xp*(2.0*x - 1.0)) + p2\n"
     ]
    }
   ],
   "source": [
    "print(dt*(2.0*D*alpha*xp - 2.0*D*alpha*(p*x2 - 2*p*x2 + 2*xp*x)) + p2)\n",
    "\n",
    "print(p2 + 0.5*dt*4.0*alpha*D*( (x2 - 2.0*x*x)*p + (2.0*x-1.0)*xp ))"
   ]
  },
  {
   "cell_type": "markdown",
   "id": "60081b32",
   "metadata": {},
   "source": [
    "There are issues with the x2, p2, and xp operators due to the symmetry issues. I have to reexamine the best way to calculate these. There also seems to be a difference in how these operators are presented in the original paper versus what was coded, so I have to reassess (example: the x2 operator that I made matches the paper but not the code to my knowledge)"
   ]
  },
  {
   "cell_type": "code",
   "execution_count": 232,
   "id": "e71d5899",
   "metadata": {},
   "outputs": [],
   "source": [
    "def integrate_x2(q,p,pq,q2,p2,x,x2,xp,xq,dt,mass,alp,D):\n",
    "    x2 = x2 - 4.0*(alp/mass)*x*(xp - x*p)*0.5*dt\n",
    "    x2 = exp(-2.0*alp*p*dt/mass)*x2\n",
    "    x2 = x2 - 4.0*(alp/mass)*x*(xp - x*p)*0.5*dt\n",
    "    return x2\n",
    "\n",
    "def integrate_xp(q,p,pq,q2,p2,x,x2,xp,xq,dt,mass,alp,D):\n",
    "    xp = xp + 0.5*dt*(2.0*alp*D*(x*(3.0*x2 - 2*x*x) - x2)  - (alp*x/mass)*(p2 - 2.0*p*p) )\n",
    "    xp = exp(-2.0*alp*p*dt/mass)*xp\n",
    "    xp = xp + 0.5*dt*(2.0*alp*D*(x*(3.0*x2 - 2*x*x) - x2)  - (alp*x/mass)*(p2 - 2.0*p*p) )\n",
    "    return xp"
   ]
  },
  {
   "cell_type": "code",
   "execution_count": 233,
   "id": "9f3decd3",
   "metadata": {},
   "outputs": [],
   "source": [
    "x2 = x2 - 4.0*(alp/mass)*x*(xp - x*p)*0.5*dt\n",
    "x2 = exp(-2.0*alp*p*dt/mass)*x2\n",
    "x2 = x2 - 4.0*(alp/mass)*x*(xp - x*p)*0.5*dt"
   ]
  },
  {
   "cell_type": "code",
   "execution_count": 234,
   "id": "93de56b1",
   "metadata": {},
   "outputs": [
    {
     "data": {
      "image/png": "[encoded data removed]",
      "text/latex": [
       "$\\displaystyle - \\frac{5.134 dt x \\left(- p x + xp\\right)}{mass} + \\left(- \\frac{10.268 dt x \\left(- p x + xp\\right)}{mass} + \\left(- \\frac{5.134 dt x \\left(- p x + xp\\right)}{mass} + x_{2}\\right) e^{- \\frac{5.134 dt p}{mass}}\\right) e^{- \\frac{5.134 dt p}{mass}}$"
      ],
      "text/plain": [
       "                           ⎛                                                  \n",
       "                           ⎜                                                  \n",
       "  5.134⋅dt⋅x⋅(-p⋅x + xp)   ⎜  10.268⋅dt⋅x⋅(-p⋅x + xp)   ⎛  5.134⋅dt⋅x⋅(-p⋅x + \n",
       "- ────────────────────── + ⎜- ─────────────────────── + ⎜- ───────────────────\n",
       "           mass            ⎝            mass            ⎝           mass      \n",
       "\n",
       "           -5.134⋅dt⋅p ⎞  -5.134⋅dt⋅p \n",
       "           ────────────⎟  ────────────\n",
       "xp)     ⎞      mass    ⎟      mass    \n",
       "─── + x₂⎟⋅ℯ            ⎟⋅ℯ            \n",
       "        ⎠              ⎠              "
      ]
     },
     "execution_count": 234,
     "metadata": {},
     "output_type": "execute_result"
    }
   ],
   "source": [
    "integrate_x2(q,p,pq,q2,p2,x,x2,xp,xq,dt,mass,alp,D)"
   ]
  },
  {
   "cell_type": "code",
   "execution_count": 235,
   "id": "b912dfe9",
   "metadata": {},
   "outputs": [],
   "source": [
    "xp1 = str(QHD_int(xp, 1, dt))\n",
    "x21 = str(QHD_int(x, 2, dt))"
   ]
  },
  {
   "cell_type": "code",
   "execution_count": 236,
   "id": "fc8c2e5f",
   "metadata": {},
   "outputs": [],
   "source": [
    "hbar = 0.6582  # eV * fs\n",
    "convert = (1.0/17.586)\n",
    "mass, q0, p0, s0, ps0, T, dt = 2980.0*convert, 0.15, 0.0, 0.05, 0.0, 500, 0.1\n",
    "\n",
    "alp = 2.567\n",
    "alpha = alp\n",
    "D = 4.419\n",
    "\n",
    "\n",
    "t = 0.0    \n",
    "Etot = 0.0\n",
    "Etot0 = 0.0\n",
    "Etot_cl = 0.0\n",
    "Etot_cl0 = 0.0\n",
    "q,p,pq,q2,p2,x,x2,xp,xq = 0.0, 0.0, 0.0, 0.0, 0.0, 0.0, 0.0, 0.0, 0.0\n",
    "q, p = q0, p0\n",
    "q_0 = 0.0\n",
    "q2 = q*q + s0*s0\n",
    "pq = ps0*s0 + q*p\n",
    "p2 = p*p + ps0*ps0 + (0.5*hbar/s0)**2\n",
    "x = math.exp(-alp*q0)*math.exp(0.5*alp*alp*s0*s0)\n",
    "x2 = math.exp(-2.0*alp*q0)*math.exp(2.0*alp*alp*s0*s0)\n",
    "xq = x*(q-alp*s0*s0)\n",
    "xp = x*(p - s0*ps0*alp)\n",
    "\n",
    "\n",
    "xp = integrate_xp(q,p,pq,q2,p2,x,x2,xp,xq,0.5*dt,mass,alp,D)\n",
    "\n",
    "x2 = integrate_x2(q,p,pq,q2,p2,x,x2,xp,xq,0.5*dt,mass,alp,D)\n",
    "\n",
    "x = eval(x1)\n",
    "\n",
    "p2 = eval(p21)\n",
    "\n",
    "p = eval(p1)\n",
    "\n",
    "q = eval(q1)\n",
    "\n",
    "p = eval(p1)\n",
    "\n",
    "p2 = eval(p21)\n",
    "\n",
    "x = eval(x1)\n",
    "\n",
    "x2 = integrate_x2(q,p,pq,q2,p2,x,x2,xp,xq,0.5*dt,mass,alp,D)\n",
    "\n",
    "xp = integrate_xp(q,p,pq,q2,p2,x,x2,xp,xq,0.5*dt,mass,alp,D)"
   ]
  },
  {
   "cell_type": "code",
   "execution_count": 237,
   "id": "8504a2ce",
   "metadata": {},
   "outputs": [],
   "source": [
    "q_list = []\n",
    "t_list = []\n",
    "\n",
    "i=0\n",
    "while i<1:        \n",
    "    s = (q2 - q*q)\n",
    "    if s>0.0:\n",
    "        s = math.sqrt(s)\n",
    "    else: \n",
    "        s = 0.0\n",
    "    if s>0.0:\n",
    "        ps = (pq - p*q)/s\n",
    "    else: \n",
    "        ps = 0.0\n",
    "    i = i+1\n",
    "    q_list.append(q)\n",
    "    t_list.append(t)\n",
    "\n",
    "\n",
    "while t<=T:\n",
    "    xp = integrate_xp(q,p,pq,q2,p2,x,x2,xp,xq,0.5*dt,mass,alp,D)\n",
    "\n",
    "    x2 = integrate_x2(q,p,pq,q2,p2,x,x2,xp,xq,0.5*dt,mass,alp,D)\n",
    "\n",
    "    x = eval(x1)\n",
    "\n",
    "    p2 = eval(p21)\n",
    "\n",
    "    p = eval(p1)\n",
    "\n",
    "    q = eval(q1)\n",
    "\n",
    "    p = eval(p1)\n",
    "\n",
    "    p2 = eval(p21)\n",
    "\n",
    "    x = eval(x1)\n",
    "\n",
    "    x2 = integrate_x2(q,p,pq,q2,p2,x,x2,xp,xq,0.5*dt,mass,alp,D)\n",
    "\n",
    "    xp = integrate_xp(q,p,pq,q2,p2,x,x2,xp,xq,0.5*dt,mass,alp,D)\n",
    "\n",
    "\n",
    "    t = t + dt\n",
    "    i=0\n",
    "    while i<1:\n",
    "        s = (q2 - q*q)\n",
    "        if s>0.0:\n",
    "            s = math.sqrt(s)\n",
    "        else: \n",
    "            s = 0.0\n",
    "        if s>0.0:\n",
    "            ps = (pq - p*q)/s\n",
    "        else: \n",
    "            ps = 0.0\n",
    "\n",
    "        i = i+1\n",
    "        q_list.append(q)\n",
    "        t_list.append(t)"
   ]
  },
  {
   "cell_type": "code",
   "execution_count": 238,
   "id": "21ca88ed",
   "metadata": {
    "scrolled": true
   },
   "outputs": [
    {
     "data": {
      "text/plain": [
       "[<matplotlib.lines.Line2D at 0x16d65bc3970>]"
      ]
     },
     "execution_count": 238,
     "metadata": {},
     "output_type": "execute_result"
    },
    {
     "data": {
      "image/png": "[encoded data removed]",
      "text/plain": [
       "<Figure size 432x288 with 1 Axes>"
      ]
     },
     "metadata": {
      "needs_background": "light"
     },
     "output_type": "display_data"
    }
   ],
   "source": [
    "import matplotlib.pyplot as plt\n",
    "\n",
    "plt.plot(t_list, q_list)\n",
    "#plt.savefig(\"D10.png\")"
   ]
  },
  {
   "cell_type": "code",
   "execution_count": 197,
   "id": "794d64c6",
   "metadata": {},
   "outputs": [],
   "source": [
    "## Even using the QHD_int for xp and x2 it still is not correct which is rather interesting... "
   ]
  },
  {
   "cell_type": "code",
   "execution_count": null,
   "id": "c0045e99",
   "metadata": {},
   "outputs": [],
   "source": []
  }
 ],
 "metadata": {
  "kernelspec": {
   "display_name": "Python 3",
   "language": "python",
   "name": "python3"
  },
  "language_info": {
   "codemirror_mode": {
    "name": "ipython",
    "version": 3
   },
   "file_extension": ".py",
   "mimetype": "text/x-python",
   "name": "python",
   "nbconvert_exporter": "python",
   "pygments_lexer": "ipython3",
   "version": "3.8.8"
  }
 },
 "nbformat": 4,
 "nbformat_minor": 5
}
