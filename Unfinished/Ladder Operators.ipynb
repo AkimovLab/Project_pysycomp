{
 "cells": [
  {
   "cell_type": "code",
   "execution_count": 4,
   "metadata": {},
   "outputs": [],
   "source": [
    "from Pysces import *"
   ]
  },
  {
   "cell_type": "code",
   "execution_count": 5,
   "metadata": {},
   "outputs": [
    {
     "data": {
      "image/png": "[encoded data removed]",
      "text/latex": [
       "$$\\frac{\\sqrt{2} \\left(m \\omega x + i p\\right)}{2 \\sqrt{h_{b} m \\omega}}$$"
      ],
      "text/plain": [
       "√2⋅(m⋅ω⋅x + ⅈ⋅p)\n",
       "────────────────\n",
       "     _________  \n",
       " 2⋅╲╱ h_b⋅m⋅ω   "
      ]
     },
     "execution_count": 5,
     "metadata": {},
     "output_type": "execute_result"
    }
   ],
   "source": [
    "def a_raising(A = None):\n",
    "    h_b, m, omega, p, x, a_R = symbols(\"h_b m omega p x a_+\")\n",
    "    if A == None:\n",
    "        return (1/sqrt(2*h_b*m*omega)*(-I*p + m*omega*x))\n",
    "    else:\n",
    "        return a_R\n",
    "   # else: \n",
    "    #    return (1/sqrt(2*h_b*m*omega)*(-I*p + m*omega*x))\n",
    "\n",
    "def a_lowering(A = None):\n",
    "    h_b, m, omega, p, x, a_L = symbols(\"h_b m omega p x a_-\")\n",
    "    if A == None:\n",
    "        return (1/sqrt(2*h_b*m*omega)*(I*p + m*omega*x)) \n",
    "    else:\n",
    "        return a_L\n",
    "\n",
    "    \n",
    "a_lowering()"
   ]
  },
  {
   "cell_type": "code",
   "execution_count": 6,
   "metadata": {},
   "outputs": [
    {
     "data": {
      "image/png": "[encoded data removed]",
      "text/latex": [
       "$$\\frac{\\sqrt{2} m \\omega x}{\\sqrt{h_{b} m \\omega}}$$"
      ],
      "text/plain": [
       "  √2⋅m⋅ω⋅x \n",
       "───────────\n",
       "  _________\n",
       "╲╱ h_b⋅m⋅ω "
      ]
     },
     "execution_count": 6,
     "metadata": {},
     "output_type": "execute_result"
    }
   ],
   "source": [
    "simplify(a_raising() + a_lowering())"
   ]
  },
  {
   "cell_type": "code",
   "execution_count": 24,
   "metadata": {},
   "outputs": [
    {
     "data": {
      "image/png": "[encoded data removed]",
      "text/latex": [
       "$$\\left ( \\sqrt{n + 1} {\\left\\langle n\\right|} {\\left|n + 1\\right\\rangle }, \\quad \\sqrt{n} {\\left\\langle n\\right|} {\\left|n - 1\\right\\rangle }\\right )$$"
      ],
      "text/plain": [
       "⎛  _______                            ⎞\n",
       "⎝╲╱ n + 1 ⋅⟨n❘⋅❘n + 1⟩, √n⋅⟨n❘⋅❘n - 1⟩⎠"
      ]
     },
     "execution_count": 24,
     "metadata": {},
     "output_type": "execute_result"
    }
   ],
   "source": [
    "def a_raising_normalized(n):\n",
    " #   return sqrt(n+1)*Ket(n+1)\n",
    "    return Bra(str(n))*sqrt(n+1)*Ket(str(n+1))\n",
    "\n",
    "def a_lowering_normalized(n):\n",
    "    return Bra(n)*sqrt(n)*Ket(n-1)\n",
    "\n",
    "n = Symbol(\"n\")\n",
    "\n",
    "a_raising_normalized(n), a_lowering_normalized(n)"
   ]
  },
  {
   "cell_type": "code",
   "execution_count": 25,
   "metadata": {},
   "outputs": [
    {
     "data": {
      "image/png": "[encoded data removed]",
      "text/latex": [
       "$$\\frac{h_{b} \\left(\\sqrt{n} {\\left\\langle n\\right|} {\\left|n - 1\\right\\rangle } + \\sqrt{n + 1} {\\left\\langle n\\right|} {\\left|n + 1\\right\\rangle }\\right)^{2}}{2 m \\omega}$$"
      ],
      "text/plain": [
       "                                            2\n",
       "    ⎛                   _______            ⎞ \n",
       "h_b⋅⎝√n⋅⟨n❘⋅❘n - 1⟩ + ╲╱ n + 1 ⋅⟨n❘⋅❘n + 1⟩⎠ \n",
       "─────────────────────────────────────────────\n",
       "                    2⋅m⋅ω                    "
      ]
     },
     "execution_count": 25,
     "metadata": {},
     "output_type": "execute_result"
    }
   ],
   "source": [
    "h_b, m, omega = symbols(\"h_b m omega\")\n",
    "x = sqrt(h_b/(2*m*omega))*(a_raising() + a_lowering())\n",
    "\n",
    "def x_ladder():\n",
    "    h_b, m, omega = symbols(\"h_b m omega\")\n",
    "    return (sqrt(h_b/(2*m*omega))*(a_raising_normalized(n)+a_lowering_normalized(n)))\n",
    "\n",
    "x_ladder()**2"
   ]
  },
  {
   "cell_type": "code",
   "execution_count": 26,
   "metadata": {},
   "outputs": [
    {
     "data": {
      "image/png": "[encoded data removed]",
      "text/latex": [
       "$$\\sqrt{n} \\sqrt{n + 1} {\\left\\langle n\\right|} {\\left|n + 1\\right\\rangle } {\\left\\langle n\\right|} {\\left|n - 1\\right\\rangle } + \\sqrt{n} \\sqrt{n + 1} {\\left\\langle n\\right|} {\\left|n - 1\\right\\rangle } {\\left\\langle n\\right|} {\\left|n + 1\\right\\rangle } + n {\\left\\langle n\\right|} {\\left|n + 1\\right\\rangle } {\\left\\langle n\\right|} {\\left|n + 1\\right\\rangle } + n {\\left\\langle n\\right|} {\\left|n - 1\\right\\rangle } {\\left\\langle n\\right|} {\\left|n - 1\\right\\rangle } + {\\left\\langle n\\right|} {\\left|n + 1\\right\\rangle } {\\left\\langle n\\right|} {\\left|n + 1\\right\\rangle }$$"
      ],
      "text/plain": [
       "     _______                                _______                           \n",
       "√n⋅╲╱ n + 1 ⋅⟨n❘⋅❘n + 1⟩⋅⟨n❘⋅❘n - 1⟩ + √n⋅╲╱ n + 1 ⋅⟨n❘⋅❘n - 1⟩⋅⟨n❘⋅❘n + 1⟩ + \n",
       "\n",
       "                                                                              \n",
       "n⋅⟨n❘⋅❘n + 1⟩⋅⟨n❘⋅❘n + 1⟩ + n⋅⟨n❘⋅❘n - 1⟩⋅⟨n❘⋅❘n - 1⟩ + ⟨n❘⋅❘n + 1⟩⋅⟨n❘⋅❘n + 1\n",
       "\n",
       " \n",
       "⟩"
      ]
     },
     "execution_count": 26,
     "metadata": {},
     "output_type": "execute_result"
    }
   ],
   "source": [
    "F = simplify(expand(x_ladder()**2))\n",
    "\n",
    "expand((a_raising_normalized(n)+a_lowering_normalized(n))**2)"
   ]
  },
  {
   "cell_type": "code",
   "execution_count": 27,
   "metadata": {},
   "outputs": [
    {
     "data": {
      "image/png": "[encoded data removed]",
      "text/latex": [
       "$$\\left(n + 1\\right) \\left({\\left\\langle n\\right|} {\\left|n + 1\\right\\rangle }\\right)^{2}$$"
      ],
      "text/plain": [
       "                     2\n",
       "(n + 1)⋅(⟨n❘⋅❘n + 1⟩) "
      ]
     },
     "execution_count": 27,
     "metadata": {},
     "output_type": "execute_result"
    }
   ],
   "source": [
    "(a_raising_normalized(n)**2)"
   ]
  },
  {
   "cell_type": "code",
   "execution_count": 36,
   "metadata": {},
   "outputs": [
    {
     "data": {
      "image/png": "[encoded data removed]",
      "text/latex": [
       "$$\\sqrt{n} \\sqrt{n + 1} \\left({\\left\\langle n\\right|} {\\left|n + 1\\right\\rangle } {\\left\\langle n\\right|} {\\left|n - 1\\right\\rangle } + {\\left\\langle n\\right|} {\\left|n - 1\\right\\rangle } {\\left\\langle n\\right|} {\\left|n + 1\\right\\rangle }\\right)$$"
      ],
      "text/plain": [
       "     _______                                                    \n",
       "√n⋅╲╱ n + 1 ⋅(⟨n❘⋅❘n + 1⟩⋅⟨n❘⋅❘n - 1⟩ + ⟨n❘⋅❘n - 1⟩⋅⟨n❘⋅❘n + 1⟩)"
      ]
     },
     "execution_count": 36,
     "metadata": {},
     "output_type": "execute_result"
    }
   ],
   "source": [
    "A = simplify(a_raising_normalized(n)*a_lowering_normalized(n) + a_lowering_normalized(n)*a_raising_normalized(n))\n",
    "\n",
    "A"
   ]
  },
  {
   "cell_type": "code",
   "execution_count": null,
   "metadata": {},
   "outputs": [],
   "source": []
  },
  {
   "cell_type": "code",
   "execution_count": null,
   "metadata": {},
   "outputs": [],
   "source": []
  }
 ],
 "metadata": {
  "kernelspec": {
   "display_name": "Python 3",
   "language": "python",
   "name": "python3"
  },
  "language_info": {
   "codemirror_mode": {
    "name": "ipython",
    "version": 3
   },
   "file_extension": ".py",
   "mimetype": "text/x-python",
   "name": "python",
   "nbconvert_exporter": "python",
   "pygments_lexer": "ipython3",
   "version": "3.7.1"
  }
 },
 "nbformat": 4,
 "nbformat_minor": 2
}
