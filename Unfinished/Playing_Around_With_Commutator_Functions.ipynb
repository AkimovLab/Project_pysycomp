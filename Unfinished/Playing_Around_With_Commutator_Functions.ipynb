{
 "cells": [
  {
   "cell_type": "code",
   "execution_count": 12,
   "metadata": {},
   "outputs": [],
   "source": [
    "from Pysces import *"
   ]
  },
  {
   "cell_type": "markdown",
   "metadata": {},
   "source": [
    "#### Newly edited code to show the steps:\n",
    "\n",
    "(this may be beneficial for education, personally I like to see problems solved out rather than the answer as it helps me learn)"
   ]
  },
  {
   "cell_type": "markdown",
   "metadata": {},
   "source": [
    "### The Below Line of Code is Helpful for Simple Problems, But More Complex Ones It Gets Confusing\n",
    "\n",
    "It shows the steps for the problem\n",
    "\n",
    "It's also good for checking the code if the answer is not correct."
   ]
  },
  {
   "cell_type": "code",
   "execution_count": 13,
   "metadata": {},
   "outputs": [],
   "source": [
    "def comm_steps(A, B, a = None, b = None):\n",
    "        return display(Commutator(Operator(A), Operator(B))*a), display(comm_1(Operator(A), Operator(B), a)), display(expression_replace(comm_1(Operator(A), Operator(B), a), sympify(str('x'))) or expression_replace(comm_1(Operator(A), Operator(B), a), sympify(str('y'))) or expression_replace(comm_1(Operator(A), Operator(B), a), sympify(str('z'))))"
   ]
  },
  {
   "cell_type": "code",
   "execution_count": 14,
   "metadata": {},
   "outputs": [
    {
     "data": {
      "image/png": "[encoded data removed]",
      "text/latex": [
       "$$- \\left[z,- i h_{b} \\frac{d}{d z} 1\\right] f{\\left (z \\right )}$$"
      ],
      "text/plain": [
       " ⎡         d    ⎤     \n",
       "-⎢z,-ⅈ⋅h_b⋅──(1)⎥⋅f(z)\n",
       " ⎣         dz   ⎦     "
      ]
     },
     "metadata": {},
     "output_type": "display_data"
    },
    {
     "data": {
      "image/png": "[encoded data removed]",
      "text/latex": [
       "$$- z - i h_{b} \\frac{d}{d z} 1 f{\\left (z \\right )} + - i h_{b} \\frac{d}{d z} 1 z f{\\left (z \\right )}$$"
      ],
      "text/plain": [
       "    ⎛       d    ⎞               d           \n",
       "- z⋅⎜-ⅈ⋅h_b⋅──(1)⎟⋅f(z) + -ⅈ⋅h_b⋅──(1)⋅z⋅f(z)\n",
       "    ⎝       dz   ⎠               dz          "
      ]
     },
     "metadata": {},
     "output_type": "display_data"
    },
    {
     "data": {
      "image/png": "[encoded data removed]",
      "text/latex": [
       "$$- i h_{b} f{\\left (z \\right )}$$"
      ],
      "text/plain": [
       "-ⅈ⋅h_b⋅f(z)"
      ]
     },
     "metadata": {},
     "output_type": "display_data"
    },
    {
     "data": {
      "text/plain": [
       "(None, None, None)"
      ]
     },
     "execution_count": 14,
     "metadata": {},
     "output_type": "execute_result"
    }
   ],
   "source": [
    "comm_steps(p_operator(z), z, f(z))"
   ]
  },
  {
   "cell_type": "markdown",
   "metadata": {},
   "source": [
    "## New Code:"
   ]
  },
  {
   "cell_type": "code",
   "execution_count": 15,
   "metadata": {},
   "outputs": [],
   "source": [
    "x, p_y, y, p_x, z, p_z, L_z, L_y, L_x = symbols(\"x, p_y, y, p_x, z, p_z, L_z, L_y, L_x\")\n",
    "L_z = x*p_y - y*p_x\n",
    "L_y = z*p_x - x*p_z\n",
    "L_x = y*p_z - z*p_y\n",
    "\n",
    "def comm(commutator_1, commutator_2, aux):\n",
    "    if commutator_1 == L_z and commutator_2 == L_y:\n",
    "        return (Commutator(Operator(x*p_y), Operator(z*p_x))*aux + Commutator(Operator(y*p_x), Operator(x*p_z))*aux - Commutator(Operator(x*p_y), Operator(x*p_z))*aux - Commutator(Operator(y*p_x), Operator(z*p_x))*aux)\n",
    "    if commutator_1 == L_z and commutator_2 == L_x:\n",
    "        return (Commutator(Operator(x*p_y), Operator(y*p_z))*aux + Commutator(Operator(y*p_x), Operator(z*p_y))*aux - Commutator(Operator(x*p_y), Operator(z*p_y))*aux - Commutator(Operator(y*p_x), Operator(y*p_z))*aux)\n",
    "    if commutator_1 == L_y and commutator_2 == L_z:\n",
    "        return (Commutator(Operator(z*p_x), Operator(x*p_y))*aux + Commutator(Operator(x*p_z), Operator(y*p_x))*aux - Commutator(Operator(z*p_x), Operator(y*p_x))*aux - Commutator(Operator(x*p_z), Operator(x*p_y))*aux)\n",
    "    if commutator_1 == L_y and commutator_2 == L_x:\n",
    "        return (Commutator(Operator(z*p_x), Operator(y*p_z))*aux + Commutator(Operator(x*p_z), Operator(z*p_y))*aux - Commutator(Operator(z*p_x), Operator(z*p_y))*aux - Commutator(Operator(x*p_z), Operator(y*p_z))*aux)\n",
    "    if commutator_1 == L_x and commutator_2 == L_z:\n",
    "        return (Commutator(Operator(y*p_z), Operator(x*p_y))*aux + Commutator(Operator(z*p_y), Operator(y*p_x))*aux - Commutator(Operator(y*p_z), Operator(y*p_x))*aux - Commutator(Operator(z*p_y), Operator(x*p_y))*aux)\n",
    "    if commutator_1 == L_x and commutator_2 == L_y:\n",
    "        return (Commutator(Operator(y*p_z), Operator(z*p_x))*aux + Commutator(Operator(z*p_y), Operator(x*p_z))*aux - Commutator(Operator(y*p_z), Operator(x*p_z))*aux - Commutator(Operator(z*p_y), Operator(z*p_x))*aux)\n",
    "    \n",
    "    if commutator_1 == L_z:\n",
    "        return (Commutator(Operator(x*p_y), Operator(commutator_2))*aux - Commutator(Operator(y*p_x), Operator(commutator_2))*aux)\n",
    "    if commutator_1 == L_y:\n",
    "        return (Commutator(Operator(z*p_x), Operator(commutator_2))*aux - Commutator(Operator(x*p_z), Operator(commutator_2))*aux)\n",
    "    if commutator_1 == L_x:\n",
    "        return (Commutator(Operator(y*p_z), Operator(commutator_2))*aux - Commutator(Operator(z*p_y), Operator(commutator_2))*aux)\n",
    "    if commutator_2 == L_z:\n",
    "        return (Commutator(Operator(commutator_1), Operator(x*p_y))*aux - Commutator(Operator(commutator_1), Operator(y*p_x))*aux)\n",
    "    if commutator_2 == L_y:\n",
    "        return (Commutator(Operator(commutator_1), Operator(z*p_x))*aux - Commutator(Operator(commutator_1), Operator(x*p_z))*aux)\n",
    "    if commutator_2 == L_x:\n",
    "        return (Commutator(Operator(commutator_1), Operator(y*p_z))*aux - Commutator(Operator(commutator_1), Operator(z*p_y))*aux)\n",
    "    else:\n",
    "        return (expression_replace(comm_1(Operator(commutator_1), Operator(commutator_2), aux), sympify(str('x'))) or expression_replace(comm_1(Operator(commutator_1), Operator(commutator_2), aux), sympify(str('y'))) or expression_replace(comm_1(Operator(commutator_1), Operator(commutator_2), aux), sympify(str('z')))) \n",
    "    \n",
    "    \n",
    "def factorization(expr, var):\n",
    "    L_z, L_y, L_x = symbols(\"L_z, L_y, L_x\")\n",
    "    if var == z:\n",
    "        return comm(Operator(z), p_operator(z), f(z))*L_z\n",
    "    if var == y:\n",
    "        return comm(Operator(y), p_operator(y), f(y))*L_y\n",
    "    if var == x:\n",
    "        return comm(Operator(x), p_operator(x), f(x))*L_x"
   ]
  },
  {
   "cell_type": "markdown",
   "metadata": {},
   "source": [
    "The first case:"
   ]
  },
  {
   "cell_type": "code",
   "execution_count": 16,
   "metadata": {
    "scrolled": true
   },
   "outputs": [
    {
     "data": {
      "image/png": "[encoded data removed]",
      "text/latex": [
       "$$- i h_{b} f{\\left (z \\right )}$$"
      ],
      "text/plain": [
       "-ⅈ⋅h_b⋅f(z)"
      ]
     },
     "execution_count": 16,
     "metadata": {},
     "output_type": "execute_result"
    }
   ],
   "source": [
    "comm(p_operator(z), z, f(z))"
   ]
  },
  {
   "cell_type": "markdown",
   "metadata": {},
   "source": [
    "Trying with Angular Momentum:"
   ]
  },
  {
   "cell_type": "code",
   "execution_count": 17,
   "metadata": {},
   "outputs": [
    {
     "data": {
      "image/png": "[encoded data removed]",
      "text/latex": [
       "$$\\left[x,p_{x} y\\right] f{\\left (x \\right )} - \\left[x,p_{y} x\\right] f{\\left (x \\right )}$$"
      ],
      "text/plain": [
       "[x,pₓ⋅y]⋅f(x) - [x,p_y⋅x]⋅f(x)"
      ]
     },
     "execution_count": 17,
     "metadata": {},
     "output_type": "execute_result"
    }
   ],
   "source": [
    "comm(L_z, x, f(x))"
   ]
  },
  {
   "cell_type": "code",
   "execution_count": 18,
   "metadata": {
    "scrolled": true
   },
   "outputs": [
    {
     "data": {
      "image/png": "[encoded data removed]",
      "text/latex": [
       "$$0$$"
      ],
      "text/plain": [
       "0"
      ]
     },
     "execution_count": 18,
     "metadata": {},
     "output_type": "execute_result"
    }
   ],
   "source": [
    "B = comm(x, p_operator(x)*y, f(x)) #- comm(x, p_operator(y)*x, f(x))\n",
    "B"
   ]
  },
  {
   "cell_type": "markdown",
   "metadata": {},
   "source": [
    "For some reason, the steps are correct but the code has issues with \"x\" variables. Basically, if there is an \"x\", the code equals to zero for the last step. The bottom code has an \"x\" and it works, though, so I'm quite confused.\n",
    "\n",
    "I don't know why, sometimes I just have to shut down the code and reenter and it fixes itself. Huge mystery."
   ]
  },
  {
   "cell_type": "markdown",
   "metadata": {},
   "source": [
    "Another Example:"
   ]
  },
  {
   "cell_type": "code",
   "execution_count": 19,
   "metadata": {},
   "outputs": [
    {
     "data": {
      "image/png": "[encoded data removed]",
      "text/latex": [
       "$$- \\left[z,p_{x} z\\right] f{\\left (z \\right )} + \\left[z,p_{z} x\\right] f{\\left (z \\right )}$$"
      ],
      "text/plain": [
       "-[z,pₓ⋅z]⋅f(z) + [z,p_z⋅x]⋅f(z)"
      ]
     },
     "execution_count": 19,
     "metadata": {},
     "output_type": "execute_result"
    }
   ],
   "source": [
    "comm(L_y, z, f(z))"
   ]
  },
  {
   "cell_type": "code",
   "execution_count": 20,
   "metadata": {
    "scrolled": true
   },
   "outputs": [
    {
     "data": {
      "image/png": "[encoded data removed]",
      "text/latex": [
       "$$i h_{b} x f{\\left (z \\right )}$$"
      ],
      "text/plain": [
       "ⅈ⋅h_b⋅x⋅f(z)"
      ]
     },
     "execution_count": 20,
     "metadata": {},
     "output_type": "execute_result"
    }
   ],
   "source": [
    "A = comm(Operator(z), p_operator(z)*(x), f(z)) - comm(z, p_operator(x)*z, f(z))\n",
    "A"
   ]
  },
  {
   "cell_type": "markdown",
   "metadata": {},
   "source": [
    "Another Example, this time switching the operators:\n"
   ]
  },
  {
   "cell_type": "code",
   "execution_count": 7,
   "metadata": {},
   "outputs": [
    {
     "data": {
      "image/png": "[encoded data removed]",
      "text/latex": [
       "$$- \\left[x,p_{x} y\\right] f{\\left (x \\right )} + \\left[x,p_{y} x\\right] f{\\left (x \\right )}$$"
      ],
      "text/plain": [
       "-[x,pₓ⋅y]⋅f(x) + [x,p_y⋅x]⋅f(x)"
      ]
     },
     "execution_count": 7,
     "metadata": {},
     "output_type": "execute_result"
    }
   ],
   "source": [
    "comm(x, L_z, f(x))"
   ]
  },
  {
   "cell_type": "code",
   "execution_count": 21,
   "metadata": {},
   "outputs": [
    {
     "data": {
      "image/png": "[encoded data removed]",
      "text/latex": [
       "$$0$$"
      ],
      "text/plain": [
       "0"
      ]
     },
     "execution_count": 21,
     "metadata": {},
     "output_type": "execute_result"
    }
   ],
   "source": [
    "C = -comm(x, p_operator(x)*y, f(x)) - comm(x, p_operator(y)*x, f(x))\n",
    "C"
   ]
  },
  {
   "cell_type": "markdown",
   "metadata": {},
   "source": [
    "_______________________________________________________________________________________________________________________________\n",
    "\n",
    "Let's try a more complicated example:"
   ]
  },
  {
   "cell_type": "code",
   "execution_count": 9,
   "metadata": {},
   "outputs": [
    {
     "data": {
      "image/png": "[encoded data removed]",
      "text/latex": [
       "$$\\left[p_{x} z,p_{y} z\\right] f{\\left (z \\right )} - \\left[p_{x} z,p_{z} y\\right] f{\\left (z \\right )} + \\left[p_{y} z,p_{z} x\\right] f{\\left (z \\right )} + \\left[p_{z} x,p_{z} y\\right] f{\\left (z \\right )}$$"
      ],
      "text/plain": [
       "[pₓ⋅z,p_y⋅z]⋅f(z) - [pₓ⋅z,p_z⋅y]⋅f(z) + [p_y⋅z,p_z⋅x]⋅f(z) + [p_z⋅x,p_z⋅y]⋅f(z\n",
       ")"
      ]
     },
     "execution_count": 9,
     "metadata": {},
     "output_type": "execute_result"
    }
   ],
   "source": [
    "R = comm(L_x, L_y, f(z))\n",
    "R"
   ]
  },
  {
   "cell_type": "code",
   "execution_count": 10,
   "metadata": {},
   "outputs": [
    {
     "data": {
      "image/png": "[encoded data removed]",
      "text/latex": [
       "$$h_{b}^{2} x z f{\\left (z \\right )} \\frac{d}{d y} 1 \\frac{d}{d z} 1 - h_{b}^{2} y z f{\\left (z \\right )} \\frac{d}{d x} 1 \\frac{d}{d z} 1$$"
      ],
      "text/plain": [
       "   2          d     d          2          d     d    \n",
       "h_b ⋅x⋅z⋅f(z)⋅──(1)⋅──(1) - h_b ⋅y⋅z⋅f(z)⋅──(1)⋅──(1)\n",
       "              dy    dz                    dx    dz   "
      ]
     },
     "execution_count": 10,
     "metadata": {},
     "output_type": "execute_result"
    }
   ],
   "source": [
    "h_b = Symbol(\"h_b\")\n",
    "\n",
    "\n",
    "A = - comm(p_operator(x)*z, p_operator(z)*y, f(z)) + comm(p_operator(y)*z, p_operator(z)*x, f(z))\n",
    "A"
   ]
  },
  {
   "cell_type": "code",
   "execution_count": 11,
   "metadata": {},
   "outputs": [
    {
     "data": {
      "image/png": "[encoded data removed]",
      "text/latex": [
       "$$i L_{y} h_{b} f{\\left (y \\right )}$$"
      ],
      "text/plain": [
       "ⅈ⋅L_y⋅h_b⋅f(y)"
      ]
     },
     "execution_count": 11,
     "metadata": {},
     "output_type": "execute_result"
    }
   ],
   "source": [
    "  \n",
    "S = comm(L_z, L_x, f(y))\n",
    "\n",
    "S\n",
    "\n",
    "\n",
    "factorization(S, y)\n"
   ]
  },
  {
   "cell_type": "markdown",
   "metadata": {},
   "source": [
    "This is so close to being correct, but it just needs to take the derivative of \"z\" in terms of \"z\"... Looking into why this error is occuring.\n",
    "\n",
    "Most likely going to have to develop some sort of simplification() function"
   ]
  },
  {
   "cell_type": "markdown",
   "metadata": {},
   "source": [
    "This is the correct answer:"
   ]
  },
  {
   "cell_type": "code",
   "execution_count": 33,
   "metadata": {
    "scrolled": true
   },
   "outputs": [
    {
     "data": {
      "image/png": "[encoded data removed]",
      "text/latex": [
       "$$- p_{x} y + p_{y} x$$"
      ],
      "text/plain": [
       "-pₓ⋅y + p_y⋅x"
      ]
     },
     "execution_count": 33,
     "metadata": {},
     "output_type": "execute_result"
    }
   ],
   "source": [
    "L_z"
   ]
  },
  {
   "cell_type": "code",
   "execution_count": 34,
   "metadata": {},
   "outputs": [
    {
     "data": {
      "image/png": "[encoded data removed]",
      "text/latex": [
       "$$x - i h_{b} \\frac{d}{d y} 1 - y - i h_{b} \\frac{d}{d x} 1$$"
      ],
      "text/plain": [
       "  ⎛       d    ⎞     ⎛       d    ⎞\n",
       "x⋅⎜-ⅈ⋅h_b⋅──(1)⎟ - y⋅⎜-ⅈ⋅h_b⋅──(1)⎟\n",
       "  ⎝       dy   ⎠     ⎝       dx   ⎠"
      ]
     },
     "execution_count": 34,
     "metadata": {},
     "output_type": "execute_result"
    }
   ],
   "source": [
    "L_z.replace(p_x, p_operator(x)).replace(p_y, p_operator(y))"
   ]
  },
  {
   "cell_type": "markdown",
   "metadata": {},
   "source": [
    "Steps shown of the above problem:"
   ]
  },
  {
   "cell_type": "code",
   "execution_count": 35,
   "metadata": {},
   "outputs": [],
   "source": [
    "def comm(A, B, a = None, b = None):\n",
    "        return display(Commutator(Operator(A), Operator(B))*a), display(comm_1(Operator(A), Operator(B), a)), display(expression_replace(comm_1(Operator(A), Operator(B), a), sympify(str('x'))) or expression_replace(comm_1(Operator(A), Operator(B), a), sympify(str('y'))) or expression_replace(comm_1(Operator(A), Operator(B), a), sympify(str('z'))))"
   ]
  },
  {
   "cell_type": "code",
   "execution_count": 36,
   "metadata": {},
   "outputs": [
    {
     "data": {
      "image/png": "[encoded data removed]",
      "text/latex": [
       "$$\\left[z - i h_{b} \\frac{d}{d x} 1,z - i h_{b} \\frac{d}{d y} 1\\right] f{\\left (z \\right )}$$"
      ],
      "text/plain": [
       "⎡  ⎛       d    ⎞   ⎛       d    ⎞⎤     \n",
       "⎢z⋅⎜-ⅈ⋅h_b⋅──(1)⎟,z⋅⎜-ⅈ⋅h_b⋅──(1)⎟⎥⋅f(z)\n",
       "⎣  ⎝       dx   ⎠   ⎝       dy   ⎠⎦     "
      ]
     },
     "metadata": {},
     "output_type": "display_data"
    },
    {
     "data": {
      "image/png": "[encoded data removed]",
      "text/latex": [
       "$$z - i h_{b} \\frac{d}{d x} 1 z - i h_{b} \\frac{d}{d y} 1 f{\\left (z \\right )} - z - i h_{b} \\frac{d}{d y} 1 z - i h_{b} \\frac{d}{d x} 1 f{\\left (z \\right )}$$"
      ],
      "text/plain": [
       "  ⎛       d    ⎞   ⎛       d    ⎞          ⎛       d    ⎞   ⎛       d    ⎞    \n",
       "z⋅⎜-ⅈ⋅h_b⋅──(1)⎟⋅z⋅⎜-ⅈ⋅h_b⋅──(1)⎟⋅f(z) - z⋅⎜-ⅈ⋅h_b⋅──(1)⎟⋅z⋅⎜-ⅈ⋅h_b⋅──(1)⎟⋅f(z\n",
       "  ⎝       dx   ⎠   ⎝       dy   ⎠          ⎝       dy   ⎠   ⎝       dx   ⎠    \n",
       "\n",
       " \n",
       ")\n",
       " "
      ]
     },
     "metadata": {},
     "output_type": "display_data"
    },
    {
     "data": {
      "image/png": "[encoded data removed]",
      "text/latex": [
       "$$0$$"
      ],
      "text/plain": [
       "0"
      ]
     },
     "metadata": {},
     "output_type": "display_data"
    },
    {
     "data": {
      "image/png": "[encoded data removed]",
      "text/latex": [
       "$$- \\left[y - i h_{b} \\frac{d}{d z} 1,z - i h_{b} \\frac{d}{d x} 1\\right] f{\\left (z \\right )}$$"
      ],
      "text/plain": [
       " ⎡  ⎛       d    ⎞   ⎛       d    ⎞⎤     \n",
       "-⎢y⋅⎜-ⅈ⋅h_b⋅──(1)⎟,z⋅⎜-ⅈ⋅h_b⋅──(1)⎟⎥⋅f(z)\n",
       " ⎣  ⎝       dz   ⎠   ⎝       dx   ⎠⎦     "
      ]
     },
     "metadata": {},
     "output_type": "display_data"
    },
    {
     "data": {
      "image/png": "[encoded data removed]",
      "text/latex": [
       "$$- y - i h_{b} \\frac{d}{d z} 1 z - i h_{b} \\frac{d}{d x} 1 f{\\left (z \\right )} + z - i h_{b} \\frac{d}{d x} 1 y - i h_{b} \\frac{d}{d z} 1 f{\\left (z \\right )}$$"
      ],
      "text/plain": [
       "    ⎛       d    ⎞   ⎛       d    ⎞          ⎛       d    ⎞   ⎛       d    ⎞  \n",
       "- y⋅⎜-ⅈ⋅h_b⋅──(1)⎟⋅z⋅⎜-ⅈ⋅h_b⋅──(1)⎟⋅f(z) + z⋅⎜-ⅈ⋅h_b⋅──(1)⎟⋅y⋅⎜-ⅈ⋅h_b⋅──(1)⎟⋅f\n",
       "    ⎝       dz   ⎠   ⎝       dx   ⎠          ⎝       dx   ⎠   ⎝       dz   ⎠  \n",
       "\n",
       "   \n",
       "(z)\n",
       "   "
      ]
     },
     "metadata": {},
     "output_type": "display_data"
    },
    {
     "data": {
      "image/png": "[encoded data removed]",
      "text/latex": [
       "$$h_{b}^{2} y z f{\\left (z \\right )} \\frac{d}{d x} 1 \\frac{d}{d z} 1$$"
      ],
      "text/plain": [
       "   2          d     d    \n",
       "h_b ⋅y⋅z⋅f(z)⋅──(1)⋅──(1)\n",
       "              dx    dz   "
      ]
     },
     "metadata": {},
     "output_type": "display_data"
    },
    {
     "ename": "TypeError",
     "evalue": "unsupported operand type(s) for -: 'tuple' and 'tuple'",
     "output_type": "error",
     "traceback": [
      "\u001b[1;31m---------------------------------------------------------------------------\u001b[0m",
      "\u001b[1;31mTypeError\u001b[0m                                 Traceback (most recent call last)",
      "\u001b[1;32m<ipython-input-36-dab73e6ad8d0>\u001b[0m in \u001b[0;36m<module>\u001b[1;34m\u001b[0m\n\u001b[0;32m      2\u001b[0m \u001b[1;33m\u001b[0m\u001b[0m\n\u001b[0;32m      3\u001b[0m \u001b[1;33m\u001b[0m\u001b[0m\n\u001b[1;32m----> 4\u001b[1;33m \u001b[0mA\u001b[0m \u001b[1;33m=\u001b[0m \u001b[0mcomm\u001b[0m\u001b[1;33m(\u001b[0m\u001b[0mp_operator\u001b[0m\u001b[1;33m(\u001b[0m\u001b[0mx\u001b[0m\u001b[1;33m)\u001b[0m\u001b[1;33m*\u001b[0m\u001b[0mz\u001b[0m\u001b[1;33m,\u001b[0m \u001b[0mp_operator\u001b[0m\u001b[1;33m(\u001b[0m\u001b[0my\u001b[0m\u001b[1;33m)\u001b[0m\u001b[1;33m*\u001b[0m\u001b[0mz\u001b[0m\u001b[1;33m,\u001b[0m \u001b[0mf\u001b[0m\u001b[1;33m(\u001b[0m\u001b[0mz\u001b[0m\u001b[1;33m)\u001b[0m\u001b[1;33m)\u001b[0m \u001b[1;33m-\u001b[0m \u001b[0mcomm\u001b[0m\u001b[1;33m(\u001b[0m\u001b[0mp_operator\u001b[0m\u001b[1;33m(\u001b[0m\u001b[0mx\u001b[0m\u001b[1;33m)\u001b[0m\u001b[1;33m*\u001b[0m\u001b[0mz\u001b[0m\u001b[1;33m,\u001b[0m \u001b[0mp_operator\u001b[0m\u001b[1;33m(\u001b[0m\u001b[0mz\u001b[0m\u001b[1;33m)\u001b[0m\u001b[1;33m*\u001b[0m\u001b[0my\u001b[0m\u001b[1;33m,\u001b[0m \u001b[0mf\u001b[0m\u001b[1;33m(\u001b[0m\u001b[0mz\u001b[0m\u001b[1;33m)\u001b[0m\u001b[1;33m)\u001b[0m \u001b[1;33m+\u001b[0m \u001b[0mcomm\u001b[0m\u001b[1;33m(\u001b[0m\u001b[0mp_operator\u001b[0m\u001b[1;33m(\u001b[0m\u001b[0my\u001b[0m\u001b[1;33m)\u001b[0m\u001b[1;33m*\u001b[0m\u001b[0mz\u001b[0m\u001b[1;33m,\u001b[0m \u001b[0mp_operator\u001b[0m\u001b[1;33m(\u001b[0m\u001b[0mz\u001b[0m\u001b[1;33m)\u001b[0m\u001b[1;33m*\u001b[0m\u001b[0mx\u001b[0m\u001b[1;33m,\u001b[0m \u001b[0mf\u001b[0m\u001b[1;33m(\u001b[0m\u001b[0mz\u001b[0m\u001b[1;33m)\u001b[0m\u001b[1;33m)\u001b[0m \u001b[1;33m+\u001b[0m \u001b[0mcomm\u001b[0m\u001b[1;33m(\u001b[0m\u001b[0mp_operator\u001b[0m\u001b[1;33m(\u001b[0m\u001b[0mz\u001b[0m\u001b[1;33m)\u001b[0m\u001b[1;33m*\u001b[0m\u001b[0mx\u001b[0m\u001b[1;33m,\u001b[0m \u001b[0mp_operator\u001b[0m\u001b[1;33m(\u001b[0m\u001b[0mz\u001b[0m\u001b[1;33m)\u001b[0m\u001b[1;33m*\u001b[0m\u001b[0my\u001b[0m\u001b[1;33m,\u001b[0m \u001b[0mf\u001b[0m\u001b[1;33m(\u001b[0m\u001b[0mz\u001b[0m\u001b[1;33m)\u001b[0m\u001b[1;33m)\u001b[0m\u001b[1;33m\u001b[0m\u001b[1;33m\u001b[0m\u001b[0m\n\u001b[0m\u001b[0;32m      5\u001b[0m \u001b[0mA\u001b[0m\u001b[1;33m\u001b[0m\u001b[1;33m\u001b[0m\u001b[0m\n",
      "\u001b[1;31mTypeError\u001b[0m: unsupported operand type(s) for -: 'tuple' and 'tuple'"
     ]
    }
   ],
   "source": [
    "h_b = Symbol(\"h_b\")\n",
    "\n",
    "\n",
    "A = comm(p_operator(x)*z, p_operator(y)*z, f(z)) - comm(p_operator(x)*z, p_operator(z)*y, f(z)) + comm(p_operator(y)*z, p_operator(z)*x, f(z)) + comm(p_operator(z)*x, p_operator(z)*y, f(z))\n",
    "A"
   ]
  },
  {
   "cell_type": "code",
   "execution_count": 37,
   "metadata": {
    "scrolled": true
   },
   "outputs": [
    {
     "data": {
      "image/png": "[encoded data removed]",
      "text/latex": [
       "$$\\left[p_{x} z,p_{y} z\\right] f{\\left (z \\right )}$$"
      ],
      "text/plain": [
       "[pₓ⋅z,p_y⋅z]⋅f(z)"
      ]
     },
     "metadata": {},
     "output_type": "display_data"
    },
    {
     "data": {
      "image/png": "[encoded data removed]",
      "text/latex": [
       "$$p_{x} z p_{y} z f{\\left (z \\right )} - p_{y} z p_{x} z f{\\left (z \\right )}$$"
      ],
      "text/plain": [
       "pₓ⋅z⋅p_y⋅z⋅f(z) - p_y⋅z⋅pₓ⋅z⋅f(z)"
      ]
     },
     "metadata": {},
     "output_type": "display_data"
    },
    {
     "data": {
      "image/png": "[encoded data removed]",
      "text/latex": [
       "$$0$$"
      ],
      "text/plain": [
       "0"
      ]
     },
     "metadata": {},
     "output_type": "display_data"
    },
    {
     "data": {
      "image/png": "[encoded data removed]",
      "text/latex": [
       "$$\\left[p_{x} z,p_{z} y\\right] f{\\left (z \\right )}$$"
      ],
      "text/plain": [
       "[pₓ⋅z,p_z⋅y]⋅f(z)"
      ]
     },
     "metadata": {},
     "output_type": "display_data"
    },
    {
     "data": {
      "image/png": "[encoded data removed]",
      "text/latex": [
       "$$p_{x} z p_{z} y f{\\left (z \\right )} - p_{z} y p_{x} z f{\\left (z \\right )}$$"
      ],
      "text/plain": [
       "pₓ⋅z⋅p_z⋅y⋅f(z) - p_z⋅y⋅pₓ⋅z⋅f(z)"
      ]
     },
     "metadata": {},
     "output_type": "display_data"
    },
    {
     "data": {
      "image/png": "[encoded data removed]",
      "text/latex": [
       "$$0$$"
      ],
      "text/plain": [
       "0"
      ]
     },
     "metadata": {},
     "output_type": "display_data"
    },
    {
     "data": {
      "image/png": "[encoded data removed]",
      "text/latex": [
       "$$\\left[p_{y} z,p_{z} x\\right] f{\\left (z \\right )}$$"
      ],
      "text/plain": [
       "[p_y⋅z,p_z⋅x]⋅f(z)"
      ]
     },
     "metadata": {},
     "output_type": "display_data"
    },
    {
     "data": {
      "image/png": "[encoded data removed]",
      "text/latex": [
       "$$p_{y} z p_{z} x f{\\left (z \\right )} - p_{z} x p_{y} z f{\\left (z \\right )}$$"
      ],
      "text/plain": [
       "p_y⋅z⋅p_z⋅x⋅f(z) - p_z⋅x⋅p_y⋅z⋅f(z)"
      ]
     },
     "metadata": {},
     "output_type": "display_data"
    },
    {
     "data": {
      "image/png": "[encoded data removed]",
      "text/latex": [
       "$$0$$"
      ],
      "text/plain": [
       "0"
      ]
     },
     "metadata": {},
     "output_type": "display_data"
    },
    {
     "data": {
      "image/png": "[encoded data removed]",
      "text/latex": [
       "$$\\left[p_{z} x,p_{z} y\\right] f{\\left (z \\right )}$$"
      ],
      "text/plain": [
       "[p_z⋅x,p_z⋅y]⋅f(z)"
      ]
     },
     "metadata": {},
     "output_type": "display_data"
    },
    {
     "data": {
      "image/png": "[encoded data removed]",
      "text/latex": [
       "$$p_{z} x p_{z} y f{\\left (z \\right )} - p_{z} y p_{z} x f{\\left (z \\right )}$$"
      ],
      "text/plain": [
       "p_z⋅x⋅p_z⋅y⋅f(z) - p_z⋅y⋅p_z⋅x⋅f(z)"
      ]
     },
     "metadata": {},
     "output_type": "display_data"
    },
    {
     "data": {
      "image/png": "[encoded data removed]",
      "text/latex": [
       "$$0$$"
      ],
      "text/plain": [
       "0"
      ]
     },
     "metadata": {},
     "output_type": "display_data"
    },
    {
     "data": {
      "text/plain": [
       "(None, None, None)"
      ]
     },
     "execution_count": 37,
     "metadata": {},
     "output_type": "execute_result"
    }
   ],
   "source": [
    "h_b = Symbol(\"h_b\")\n",
    "\n",
    "\n",
    "comm(p_x*z, p_y*z, f(z)) \n",
    "(comm(p_x*z, p_z*y, f(z)) )\n",
    "(comm(p_y*z, p_z*x, f(z)) )\n",
    "comm(p_z*x, p_z*y, f(z))\n"
   ]
  },
  {
   "cell_type": "code",
   "execution_count": 38,
   "metadata": {},
   "outputs": [
    {
     "data": {
      "image/png": "[encoded data removed]",
      "text/latex": [
       "$$- i h_{b} \\frac{d}{d x} 1$$"
      ],
      "text/plain": [
       "       d    \n",
       "-ⅈ⋅h_b⋅──(1)\n",
       "       dx   "
      ]
     },
     "execution_count": 38,
     "metadata": {},
     "output_type": "execute_result"
    }
   ],
   "source": [
    "p_operator(x)"
   ]
  },
  {
   "cell_type": "code",
   "execution_count": null,
   "metadata": {},
   "outputs": [],
   "source": []
  }
 ],
 "metadata": {
  "kernelspec": {
   "display_name": "Python 3",
   "language": "python",
   "name": "python3"
  },
  "language_info": {
   "codemirror_mode": {
    "name": "ipython",
    "version": 3
   },
   "file_extension": ".py",
   "mimetype": "text/x-python",
   "name": "python",
   "nbconvert_exporter": "python",
   "pygments_lexer": "ipython3",
   "version": "3.7.1"
  }
 },
 "nbformat": 4,
 "nbformat_minor": 2
}
