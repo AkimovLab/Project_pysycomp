{
 "cells": [
  {
   "cell_type": "code",
   "execution_count": 1,
   "metadata": {},
   "outputs": [],
   "source": [
    "from sympy import *\n",
    "from sympy.physics.hydrogen import *\n",
    "from sympy.functions.special.polynomials import *\n",
    "r, Z = symbols('r, Z')\n",
    "init_printing()"
   ]
  },
  {
   "cell_type": "markdown",
   "metadata": {},
   "source": [
    "# Radial Solutions: \n",
    "### (using a function defined in SymPy)\n",
    "\n",
    "\n",
    "SymPy's R_nl(n, l, r, Z=1) function is called, where four arguments are used:\n",
    "\n",
    "the first argument, n,  is the principal quantum number,\n",
    "\n",
    "the second argument, l, is the angular momentum quantum number,\n",
    "\n",
    "the third argument, r, is with what variable it is with respect to, in this case the variable \"r\".\n",
    "\n",
    "the fourth argument, Z, is that atomic number of the atom in question (Z=1 for Hydrogen, Z=2 for Helium, ...).\n",
    "\n",
    "This function automatically computes the solution to the radial part of a wavefunction with any given values of n, l, and Z.\n",
    "\n",
    "Note that if a value of Z is not given, the function computes the solution with Z as a variable.\n",
    "\n",
    "Here are a few examples where:\n",
    "\n",
    "                              n = 1, l = 0, and Z = 1\n",
    "                              \n",
    "                              n = 1 and l = 0  (any value of Z)\n",
    "                              \n",
    "                              n = 2 and l = 1  (any value of Z)\n",
    "                              \n",
    "                              n = 3 and l = 2  (any value of Z)\n",
    "                              \n",
    "Note that this function only works on Hydrogen-like atoms, meaning atoms with only one electron, and that this function assumes the Bohr radius to be 1/Z."
   ]
  },
  {
   "cell_type": "code",
   "execution_count": 2,
   "metadata": {},
   "outputs": [
    {
     "data": {
      "image/png": "[encoded data removed]",
      "text/latex": [
       "$$2 e^{- r}$$"
      ],
      "text/plain": [
       "   -r\n",
       "2⋅ℯ  "
      ]
     },
     "execution_count": 2,
     "metadata": {},
     "output_type": "execute_result"
    }
   ],
   "source": [
    "R_nl(1, 0, r, Z=1).doit()"
   ]
  },
  {
   "cell_type": "code",
   "execution_count": 3,
   "metadata": {},
   "outputs": [
    {
     "data": {
      "image/png": "[encoded data removed]",
      "text/latex": [
       "$$2 e^{- r}$$"
      ],
      "text/plain": [
       "   -r\n",
       "2⋅ℯ  "
      ]
     },
     "execution_count": 3,
     "metadata": {},
     "output_type": "execute_result"
    }
   ],
   "source": [
    "R_nl(1, 0, r)     "
   ]
  },
  {
   "cell_type": "code",
   "execution_count": 4,
   "metadata": {},
   "outputs": [
    {
     "data": {
      "image/png": "[encoded data removed]",
      "text/latex": [
       "$$2 \\sqrt{Z^{3}} e^{- Z r}$$"
      ],
      "text/plain": [
       "     ____      \n",
       "    ╱  3   -Z⋅r\n",
       "2⋅╲╱  Z  ⋅ℯ    "
      ]
     },
     "execution_count": 4,
     "metadata": {},
     "output_type": "execute_result"
    }
   ],
   "source": [
    "R_nl(1, 0, r, Z)    "
   ]
  },
  {
   "cell_type": "code",
   "execution_count": 5,
   "metadata": {},
   "outputs": [
    {
     "data": {
      "image/png": "[encoded data removed]",
      "text/latex": [
       "$$\\frac{\\sqrt{2} \\left(- Z r + 2\\right) \\sqrt{Z^{3}} e^{- \\frac{Z r}{2}}}{4}$$"
      ],
      "text/plain": [
       "                       -Z⋅r \n",
       "                 ____  ─────\n",
       "                ╱  3     2  \n",
       "√2⋅(-Z⋅r + 2)⋅╲╱  Z  ⋅ℯ     \n",
       "────────────────────────────\n",
       "             4              "
      ]
     },
     "execution_count": 5,
     "metadata": {},
     "output_type": "execute_result"
    }
   ],
   "source": [
    "R_nl(2, 0, r, Z)"
   ]
  },
  {
   "cell_type": "code",
   "execution_count": 6,
   "metadata": {},
   "outputs": [
    {
     "data": {
      "image/png": "[encoded data removed]",
      "text/latex": [
       "$$\\frac{\\sqrt{6} Z r \\sqrt{Z^{3}} e^{- \\frac{Z r}{2}}}{12}$$"
      ],
      "text/plain": [
       "                -Z⋅r \n",
       "          ____  ─────\n",
       "         ╱  3     2  \n",
       "√6⋅Z⋅r⋅╲╱  Z  ⋅ℯ     \n",
       "─────────────────────\n",
       "          12         "
      ]
     },
     "execution_count": 6,
     "metadata": {},
     "output_type": "execute_result"
    }
   ],
   "source": [
    "R_nl(2, 1, r, Z)"
   ]
  }
 ],
 "metadata": {
  "kernelspec": {
   "display_name": "Python 3",
   "language": "python",
   "name": "python3"
  },
  "language_info": {
   "codemirror_mode": {
    "name": "ipython",
    "version": 3
   },
   "file_extension": ".py",
   "mimetype": "text/x-python",
   "name": "python",
   "nbconvert_exporter": "python",
   "pygments_lexer": "ipython3",
   "version": "3.7.5"
  }
 },
 "nbformat": 4,
 "nbformat_minor": 2
}
