{
 "cells": [
  {
   "cell_type": "code",
   "execution_count": 2,
   "metadata": {},
   "outputs": [],
   "source": [
    "from Pysces import *"
   ]
  },
  {
   "cell_type": "code",
   "execution_count": 40,
   "metadata": {},
   "outputs": [],
   "source": [
    "def V(x):\n",
    "    return Operator(Function(\"V\")(x))\n",
    "\n",
    "def Hamiltonian_NEW(x):\n",
    "    return Operator(((p_x**2)/(2*m)))\n"
   ]
  },
  {
   "cell_type": "markdown",
   "metadata": {},
   "source": [
    "The Hamiltonian_NEW() function was created for simplicity for the following examples. However, it is equivalent to the original Hamiltonian() function."
   ]
  },
  {
   "cell_type": "markdown",
   "metadata": {},
   "source": [
    "# Example One "
   ]
  },
  {
   "cell_type": "markdown",
   "metadata": {},
   "source": [
    "We are asked to find: "
   ]
  },
  {
   "cell_type": "code",
   "execution_count": 180,
   "metadata": {
    "scrolled": true
   },
   "outputs": [
    {
     "data": {
      "image/png": "[encoded data removed]",
      "text/latex": [
       "$$\\frac{d}{d x} <x>$$"
      ],
      "text/plain": [
       "d      \n",
       "──(<x>)\n",
       "dx     "
      ]
     },
     "execution_count": 180,
     "metadata": {},
     "output_type": "execute_result"
    }
   ],
   "source": [
    "Derivative(Exp_Sym(x), x)"
   ]
  },
  {
   "cell_type": "markdown",
   "metadata": {},
   "source": [
    "Given the operator:"
   ]
  },
  {
   "cell_type": "code",
   "execution_count": 181,
   "metadata": {},
   "outputs": [
    {
     "data": {
      "image/png": "[encoded data removed]",
      "text/latex": [
       "$$\\frac{p_{x}^{2}}{2 m} + V{\\left (x \\right )}$$"
      ],
      "text/plain": [
       "  2       \n",
       "pₓ        \n",
       "─── + V(x)\n",
       "2⋅m       "
      ]
     },
     "execution_count": 181,
     "metadata": {},
     "output_type": "execute_result"
    }
   ],
   "source": [
    "Hamiltonian_NEW(x) + V(x)"
   ]
  },
  {
   "cell_type": "markdown",
   "metadata": {},
   "source": [
    "Note that the first term is kinetic energy, and the second is potential energy."
   ]
  },
  {
   "cell_type": "markdown",
   "metadata": {},
   "source": [
    "The first step is similar to the earlier angular momentum example, and so the commutator has to be \"distributed\" into multiple commutators:\n",
    "\n",
    "This uses the expand_COMM_1() function."
   ]
  },
  {
   "cell_type": "code",
   "execution_count": 214,
   "metadata": {},
   "outputs": [
    {
     "data": {
      "image/png": "[encoded data removed]",
      "text/latex": [
       "$$\\left[x,\\frac{p_{x}^{2}}{2 m}\\right] - \\left[x,V{\\left (x \\right )}\\right]$$"
      ],
      "text/plain": [
       "⎡    2⎤           \n",
       "⎢  pₓ ⎥           \n",
       "⎢x,───⎥ - [x,V(x)]\n",
       "⎣  2⋅m⎦           "
      ]
     },
     "metadata": {},
     "output_type": "display_data"
    }
   ],
   "source": [
    "Comm_1 = expand(expand_COMM_1(OP(x), Hamiltonian_NEW(x), V(x)))\n",
    "\n",
    "display(Comm_1)"
   ]
  },
  {
   "cell_type": "markdown",
   "metadata": {},
   "source": [
    "The 1/2m can be taken out, since it is a constant, and the second commutator is a known commutator that is equal to zero. \n",
    "\n",
    "This leads to:"
   ]
  },
  {
   "cell_type": "code",
   "execution_count": 43,
   "metadata": {},
   "outputs": [
    {
     "data": {
      "image/png": "[encoded data removed]",
      "text/latex": [
       "$$\\frac{\\left[x,p_{x}^{2}\\right]}{2 m}$$"
      ],
      "text/plain": [
       "⎡    2⎤\n",
       "⎣x,pₓ ⎦\n",
       "───────\n",
       "  2⋅m  "
      ]
     },
     "execution_count": 43,
     "metadata": {},
     "output_type": "execute_result"
    }
   ],
   "source": [
    "(1/(2*m))*Commutator(OP(x), OP(p_x**2))"
   ]
  },
  {
   "cell_type": "markdown",
   "metadata": {},
   "source": [
    "We have not yet defined how to handle operators that are squared. This process is defined below, and expands the commutator into multiple commutators:"
   ]
  },
  {
   "cell_type": "code",
   "execution_count": 184,
   "metadata": {},
   "outputs": [],
   "source": [
    "def Comm_Sq(x, y):\n",
    "    return OP(y)*Commutator(OP(x), OP(y)) + Commutator(OP(x), OP(y))*OP(y)"
   ]
  },
  {
   "cell_type": "code",
   "execution_count": 185,
   "metadata": {
    "scrolled": false
   },
   "outputs": [
    {
     "data": {
      "image/png": "[encoded data removed]",
      "text/latex": [
       "$$\\frac{- \\left[p_{x},x\\right] p_{x} - p_{x} \\left[p_{x},x\\right]}{2 m}$$"
      ],
      "text/plain": [
       "-[pₓ,x]⋅pₓ - pₓ⋅[pₓ,x]\n",
       "──────────────────────\n",
       "         2⋅m          "
      ]
     },
     "execution_count": 185,
     "metadata": {},
     "output_type": "execute_result"
    }
   ],
   "source": [
    "(1/(2*m))*Comm_Sq(x, p_x)"
   ]
  },
  {
   "cell_type": "markdown",
   "metadata": {},
   "source": [
    "Note that the above is equivalent to adding them."
   ]
  },
  {
   "cell_type": "markdown",
   "metadata": {},
   "source": [
    "Next, the [p_x, x] commutators can be solved like the first operator example. Note that this is not the same as the first operator example, as the order is different."
   ]
  },
  {
   "cell_type": "code",
   "execution_count": 211,
   "metadata": {},
   "outputs": [
    {
     "name": "stdout",
     "output_type": "stream",
     "text": [
      "x*-I*h_b*Derivative(1, x)*f(x) - -I*h_b*Derivative(1, x)*x*f(x)\n"
     ]
    }
   ],
   "source": [
    "print(COMM(OP(x), p_OP(x), f(x)).doit())"
   ]
  },
  {
   "cell_type": "code",
   "execution_count": 205,
   "metadata": {},
   "outputs": [
    {
     "name": "stdout",
     "output_type": "stream",
     "text": [
      "-I*h_b*x*Derivative(f(x), x) + I*h_b*(x*Derivative(f(x), x) + f(x))\n"
     ]
    },
    {
     "data": {
      "image/png": "[encoded data removed]",
      "text/latex": [
       "$$- I h_{b} x \\frac{d}{d x} f{\\left (x \\right )} + I h_{b} \\left(x \\frac{d}{d x} f{\\left (x \\right )} + f{\\left (x \\right )}\\right)$$"
      ],
      "text/plain": [
       "          d                ⎛  d              ⎞\n",
       "- I⋅h_b⋅x⋅──(f(x)) + I⋅h_b⋅⎜x⋅──(f(x)) + f(x)⎟\n",
       "          dx               ⎝  dx             ⎠"
      ]
     },
     "metadata": {},
     "output_type": "display_data"
    }
   ],
   "source": [
    "x_px = x*-I*h_b*Derivative(f(x), x) - -I*h_b*Prod_Rule_Sp(x, f(x), x)\n",
    "\n",
    "print(x_px)\n",
    "display(x_px)"
   ]
  },
  {
   "cell_type": "code",
   "execution_count": 210,
   "metadata": {},
   "outputs": [
    {
     "data": {
      "image/png": "[encoded data removed]",
      "text/latex": [
       "$$I h_{b} f{\\left (x \\right )}$$"
      ],
      "text/plain": [
       "I⋅h_b⋅f(x)"
      ]
     },
     "execution_count": 210,
     "metadata": {},
     "output_type": "execute_result"
    }
   ],
   "source": [
    "simplify(I*h_b*(-x*Derivative(f(x), x) + x*Derivative(f(x), x) + f(x)))"
   ]
  },
  {
   "cell_type": "markdown",
   "metadata": {},
   "source": [
    "Let's reprint the Comm_Sq() function, and do a .replace() to replace the commutator with the solved commutator just done:"
   ]
  },
  {
   "cell_type": "code",
   "execution_count": 202,
   "metadata": {},
   "outputs": [
    {
     "data": {
      "image/png": "[encoded data removed]",
      "text/latex": [
       "$$- 2 I h_{b} p_{x}$$"
      ],
      "text/plain": [
       "-2⋅I⋅h_b⋅pₓ"
      ]
     },
     "execution_count": 202,
     "metadata": {},
     "output_type": "execute_result"
    }
   ],
   "source": [
    "(Comm_Sq(x, p_x).replace(Commutator(OP(p_x), OP(x)), I*h_b))"
   ]
  },
  {
   "cell_type": "markdown",
   "metadata": {},
   "source": [
    "It is important to recognize that the p_x term is NOT purely an operator, but an expectation value, which has a different notation. This notation can be defined as follows:"
   ]
  },
  {
   "cell_type": "code",
   "execution_count": 190,
   "metadata": {},
   "outputs": [],
   "source": [
    "def Exp_Sym(x):\n",
    "    return Operator(\"<\" + str(x) + \">\")\n"
   ]
  },
  {
   "cell_type": "markdown",
   "metadata": {},
   "source": [
    "Finally, this can be replaced manually in the found expression above:"
   ]
  },
  {
   "cell_type": "code",
   "execution_count": 220,
   "metadata": {},
   "outputs": [
    {
     "data": {
      "image/png": "[encoded data removed]",
      "text/latex": [
       "$$\\frac{I h_{b} <p_{x>}}{m}$$"
      ],
      "text/plain": [
       "I⋅h_b⋅<p_x>\n",
       "───────────\n",
       "     m     "
      ]
     },
     "execution_count": 220,
     "metadata": {},
     "output_type": "execute_result"
    }
   ],
   "source": [
    "2*I*h_b*Exp_Sym(p_x)/(2*m)"
   ]
  },
  {
   "cell_type": "markdown",
   "metadata": {},
   "source": [
    "# Example Two"
   ]
  },
  {
   "cell_type": "markdown",
   "metadata": {},
   "source": [
    "This example involves the p_x operator instead of the x operator:"
   ]
  },
  {
   "cell_type": "code",
   "execution_count": 221,
   "metadata": {},
   "outputs": [
    {
     "data": {
      "image/png": "[encoded data removed]",
      "text/latex": [
       "$$\\left[p_{x},\\frac{p_{x}^{2}}{2 m}\\right] - \\left[p_{x},V{\\left (x \\right )}\\right]$$"
      ],
      "text/plain": [
       "⎡     2⎤            \n",
       "⎢   pₓ ⎥            \n",
       "⎢pₓ,───⎥ - [pₓ,V(x)]\n",
       "⎣   2⋅m⎦            "
      ]
     },
     "metadata": {},
     "output_type": "display_data"
    }
   ],
   "source": [
    "C = expand(expand_COMM_1(OP(p_x), Hamiltonian_NEW(x), V(x)))\n",
    "\n",
    "display(C)"
   ]
  },
  {
   "cell_type": "markdown",
   "metadata": {},
   "source": [
    "Since in the first commutator, both terms have a p_x term, this commutator is equal to zero, leaving the second term."
   ]
  },
  {
   "cell_type": "code",
   "execution_count": 222,
   "metadata": {},
   "outputs": [
    {
     "data": {
      "image/png": "[encoded data removed]",
      "text/latex": [
       "$$- \\left[p_{x},V{\\left (x \\right )}\\right]$$"
      ],
      "text/plain": [
       "-[pₓ,V(x)]"
      ]
     },
     "execution_count": 222,
     "metadata": {},
     "output_type": "execute_result"
    }
   ],
   "source": [
    "-Commutator(OP(p_x), V(x))"
   ]
  },
  {
   "cell_type": "markdown",
   "metadata": {},
   "source": [
    "This can then be expanded using the COMM() funtion:"
   ]
  },
  {
   "cell_type": "code",
   "execution_count": 225,
   "metadata": {},
   "outputs": [
    {
     "name": "stdout",
     "output_type": "stream",
     "text": [
      "-I*h_b*Derivative(1, x)*V(x)*f(x) - V(x)*-I*h_b*Derivative(1, x)*f(x)\n"
     ]
    }
   ],
   "source": [
    "print(COMM(p_OP(x), V(x), f(x)))"
   ]
  },
  {
   "cell_type": "markdown",
   "metadata": {},
   "source": [
    "Note that both V(x) and f(x) are functions, and the derivatives cannot be taken explicitly. This introduces a new function, Prod_Rule_Sp2().\n",
    "\n",
    "This function is the symbolic representation of the product rule."
   ]
  },
  {
   "cell_type": "code",
   "execution_count": 196,
   "metadata": {},
   "outputs": [],
   "source": [
    "def Prod_Rule_Sp2(x, y, z):\n",
    "    return y*Derivative(x, z) + x*Derivative(y, z)\n"
   ]
  },
  {
   "cell_type": "markdown",
   "metadata": {},
   "source": [
    "This function can then replace the Derivative() function in the first term, and in the second term, the Derivative(1, x) can be replaced with the Derivative(f(x), x)"
   ]
  },
  {
   "cell_type": "code",
   "execution_count": 197,
   "metadata": {},
   "outputs": [
    {
     "name": "stdout",
     "output_type": "stream",
     "text": [
      "I*h_b*V(x)*Derivative(f(x), x) - I*h_b*f(x)*Derivative(V(x), x) - I*h_b*V(x)*Derivative(f(x), x)\n"
     ]
    }
   ],
   "source": [
    "print(expand(-I*h_b*Prod_Rule_Sp2(OP(V(x)), f(x), x) - V(x)*-I*h_b*Derivative(f(x), x)))"
   ]
  },
  {
   "cell_type": "markdown",
   "metadata": {},
   "source": [
    "The output of the above cell can be copied and pasted, and it will be simplified automatically:"
   ]
  },
  {
   "cell_type": "code",
   "execution_count": 200,
   "metadata": {},
   "outputs": [
    {
     "data": {
      "image/png": "[encoded data removed]",
      "text/latex": [
       "$$- I h_{b} f{\\left (x \\right )} \\frac{d}{d x} V{\\left (x \\right )}$$"
      ],
      "text/plain": [
       "            d       \n",
       "-I⋅h_b⋅f(x)⋅──(V(x))\n",
       "            dx      "
      ]
     },
     "execution_count": 200,
     "metadata": {},
     "output_type": "execute_result"
    }
   ],
   "source": [
    "I*h_b*V(x)*Derivative(f(x), x) - I*h_b*f(x)*Derivative(V(x), x) - I*h_b*V(x)*Derivative(f(x), x)"
   ]
  },
  {
   "cell_type": "markdown",
   "metadata": {},
   "source": [
    "It is important to note that the f(x) is an auxiliary function."
   ]
  }
 ],
 "metadata": {
  "kernelspec": {
   "display_name": "Python 3",
   "language": "python",
   "name": "python3"
  },
  "language_info": {
   "codemirror_mode": {
    "name": "ipython",
    "version": 3
   },
   "file_extension": ".py",
   "mimetype": "text/x-python",
   "name": "python",
   "nbconvert_exporter": "python",
   "pygments_lexer": "ipython3",
   "version": "3.7.5"
  }
 },
 "nbformat": 4,
 "nbformat_minor": 2
}
