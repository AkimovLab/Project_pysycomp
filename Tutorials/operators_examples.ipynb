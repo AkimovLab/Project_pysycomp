<<<<<<< HEAD
{
 "cells": [
  {
   "cell_type": "code",
   "execution_count": 1,
   "metadata": {
    "scrolled": true
   },
   "outputs": [],
   "source": [
    "from Pysces import *"
   ]
  },
  {
   "cell_type": "markdown",
   "metadata": {},
   "source": [
    "# Example 1:\n",
    "\n",
    "[p_x, x]"
   ]
  },
  {
   "cell_type": "markdown",
   "metadata": {},
   "source": [
    "The comm() function can be called for a commutator problem.\n",
    "\n",
    "    commutator_1: the first operator\n",
    "    commutator_2: the second operator\n",
    "    aux: the auxiliary function\n",
    "    \n",
    "This looks like:\n",
    "\n",
    "comm(commutator_1, commutator_2, aux)"
   ]
  },
  {
   "cell_type": "code",
   "execution_count": 2,
   "metadata": {},
   "outputs": [
    {
     "data": {
      "image/png": "iVBORw0KGgoAAAANSUhEUgAAAFAAAAAXCAYAAACcTMh5AAAABHNCSVQICAgIfAhkiAAAA7RJREFUWIXtmEloFFEQhr8xGrO4gCCouKEhJoLGDY074oYeXQ7xoqKCuIELil70oBhcLnpwQSSIGgWDiogSEQ8uuBE3SPSgRkHjcnDFuOuhqpmXl9czne6JiswPw/T89eqv19316tUbSOOfwwrgF1Diw89qhpjtgB1ALfBV46xR2wHgFZAbQX+was6LoBEYhzVYvsUfVL6gGWKeUu3TwEZgA1AIDAF+Ii8vKo4DdUCbFGglRHfkIcUsvhr4CLRIcbwC5OGdddgqgbdAdgriDNU461Kg1WTkAj+AS82gvQi5sQUWn49k394UxqoBngAZKdRsgHHIzWyx+JHK7wD6Isv5BZKRV4BhIWJNV03XpwAo1evxPv6Vap9m8TGgTG2llm298pNDzDcQVuLeQJYpfxL4hNSsLUjN+gW8BNo2MdYIpNa9Ar7p9QbkJjOAm8B3/DePImRVVNMwo7brnFyZO0Ft25o418A4pAH6WHwZ8Qc1yLJVqG10iHgZyAu5a/G5yMO7l8Tfm9cc/b1Ofx/FXavbq/16iLkGQg3wwRH8rgae4vDZqLaJBrcJOBcgXj/1LbP4fOUrk/h3BeqR9mcJ8c0oM4FPPVJ+nKjFv664PgcNX2+juGhpZiFL7KFPTK/t6WVwpwm2TGar7zKLH048k5JhM/H7uQzkJBn/DMluAFpaxofA5wBBPTw3rouQzKuyxhRpHL9sGAS8Ax4b3ACgPEB8rxzcsvh6/c4KoPHauJ6HlIREyDb0UwpvCcyxeK/NmO/waYtk7QWD60j8xHIeuaE7QLHD/yLSqtgbUBfVSNY2lah/nY7flWR8Cx3vt5oiYb9Oor/F71N+oMNnDI13tUnKVQFjkZbkDNJ/mSsmBrwHHjh0Y8ju/Nph8zAVOfbdQ15aDVJqEp2UCnVuFQnGhMZtJLXtslAFfAFaOXyW0/h8vFrH9zC4/jouz+D6KHfEZz7HHD4eRiGZ/QjorNwMHX/CRw9gro5ZkmBMKLRG3qa9vWcqf8PHzzsfm21POdIOmehN4/N1iXKrfbQ9+2KLL0KOd3Wqa+IGiVuqcmQD6eZjDw3v34rdPvweHz9X21MDrLLGzURu2szurao9wUc7E2k3rhlcnnJvaFxqIN4oX3XY2iMrLFGG/nXkIG94rcHFkM1gZwi9tfjX36ZiKeEb/j+GYqSQVyPn4zxkmdcCHULoZSGbz6mI88pGWrZjEXWaHQuB+8gB/ylS6CuAThE0xyDn4yh/qBYi5+yeETTSSCONNP47/AYDTQT6sJgWgAAAAABJRU5ErkJggg==\n",
      "text/latex": [
       "$$- i h_{b} f{\\left (x \\right )}$$"
      ],
      "text/plain": [
       "-ⅈ⋅h_b⋅f(x)"
      ]
     },
     "execution_count": 2,
     "metadata": {},
     "output_type": "execute_result"
    }
   ],
   "source": [
    "comm(p_operator(x), x, f(x))"
   ]
  },
  {
   "cell_type": "markdown",
   "metadata": {},
   "source": [
    "Note that the answer is retrieved automatically by this notation."
   ]
  },
  {
   "cell_type": "markdown",
   "metadata": {},
   "source": [
    "# Example 2:\n",
    "\n",
    "#### [L_y, z]"
   ]
  },
  {
   "cell_type": "markdown",
   "metadata": {},
   "source": [
    "This example also utilizes the comm() function:"
   ]
  },
  {
   "cell_type": "code",
   "execution_count": 4,
   "metadata": {},
   "outputs": [
    {
     "data": {
      "image/png": "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\n",
      "text/latex": [
       "$$- \\left[z,p_{x} z\\right] f{\\left (z \\right )} + \\left[z,p_{z} x\\right] f{\\left (z \\right )}$$"
      ],
      "text/plain": [
       "-[z,pₓ⋅z]⋅f(z) + [z,p_z⋅x]⋅f(z)"
      ]
     },
     "execution_count": 4,
     "metadata": {},
     "output_type": "execute_result"
    }
   ],
   "source": [
    "comm(L_y, z, f(z))"
   ]
  },
  {
   "cell_type": "markdown",
   "metadata": {},
   "source": [
    "Note that this is not the final answer. One more step is needed, using the comm() function again for each commutator:"
   ]
  },
  {
   "cell_type": "code",
   "execution_count": 5,
   "metadata": {},
   "outputs": [
    {
     "data": {
      "image/png": "iVBORw0KGgoAAAANSUhEUgAAAEkAAAAXCAYAAABH92JbAAAABHNCSVQICAgIfAhkiAAABCNJREFUWIXtmG9o1lUUxz/bbDmXjYQgIzJkzE3TUqOszIg2Rd8EWS/sRZtYUKJBf8zyTQWK/fGVif2lppQoNMx/lAuR0EWJrangkvLPglrqi1IrKW3rxfdcnvtc7332+OwZvXm+MH6733vuOef3u+ece+4DJRSEZ4B+YF6Ee+R/8SgbVwOrgRPAP8ivpTa3HjgFVBegd6rpWpCP8AYTrvO4j4yrL8B4sbEN+bIDWA68DDQAtwF9aEMLxWagF7hqIMEb0cco87jDwB9A+SAcKAbq0Qf6PDLXDvwOVA1C/+2mf9nlLqwG/gX2DsJ4sbAQvcTjAV+HoujdItjoBnqAipTAfebE6x53t3GrgfEo9X5FkfUVcEeBzrSb3gcDvgxotblXjZtr49hfvcn1A/cnbHXkWN8PfOnJvmTcLEcMC5RNsed3HjfVnmOA/cAuVCAnAHOArUAtcC7hYApLgE5UV7agaAVYBTQD7wEvGNcLvIIi6RpghfH9wA9Ao63/OmFrM/BFhJ+Pystuj+uwZxOwM6bsYzM8zuNajTtJ5iM6tNncPQnnBoLT3WLjZTbexKX1rwL4CzgY8NXAReDQZdp+w2x9GNiqMX5famE3igh/0UFbNDsiv9zmmgJ+BfGdC3EDcB4d54vIFOXKiOxEm28N+Drj2/OwB0rntbZmDdkHlMN5VFIugSvQezxuOHABOJow6NqFsQG/A6VNPlhJpjZ0ACMScs0m81TA30km+gZCBbDO5F/LIfczik4gO2JusXFnwA0jvUtTgDPA8YC/FejKw2mA097/C1BKpWxBdr0E7TpoQ3PhCmAj8CjqrZbmkK3y9GbBhXuLx7kj97GI/EgUebsD/loy3fku9NIHgGkRHfPQ0d1ra97K4fgekx0Z8Nfb2lwtynBgu8k9m0MOFCh9JLLnA1MyyePeN25yRH6GzYVpNdP4TuBedER/hnoP/zSdg64Vh9CH7UapHevqy4CzwJHE3CmyI9JHNdqsPuDJhIyPBvO/LTbZhULMf5FO4G8UqiGeJn6fe97WjPG4SSZba+PpKMKOAaONe8hkPo3YGmdzG2OOA58E+h1qUJ27iNIsH8w3XYsc4T7IlahR7CJTsCqBm1GqXIgoc/3TtwE/2Zzu8bg/7VmO6tx2VMuaUKpha/YDD6CWwj9AXD3y66WPNtRwzgJ+9PgNwF3oOB+LalGIlWhTHWaiMrIlFHQ34Lcj3DsJx2LtguOfC7iH0b2qFh2tv5Gd1g6NZjNsCl1P05jwpdL0fuNx5eZfrk77ZKCnBmVTLJqLhhEoEl/0uDJUVN8cSsNmM1U/88ViBtcc54VpKDUPoztdLbrrnQBGDaVhdIL1oJ9SCkEV8AtK+yHFE8D36NL6EyrObcB1Q23YMANdUAv50a0B1aybiuhPCSWUUELR8R/LJRxsBryLUwAAAABJRU5ErkJggg==\n",
      "text/latex": [
       "$$i h_{b} x f{\\left (z \\right )}$$"
      ],
      "text/plain": [
       "ⅈ⋅h_b⋅x⋅f(z)"
      ]
     },
     "execution_count": 5,
     "metadata": {},
     "output_type": "execute_result"
    }
   ],
   "source": [
    "comm(Operator(z), p_operator(z)*(x), f(z)) - comm(z, p_operator(x)*z, f(z))"
   ]
  },
  {
   "cell_type": "markdown",
   "metadata": {},
   "source": [
    "# Example 3:\n",
    "\n",
    "#### [L_x, L_y]"
   ]
  },
  {
   "cell_type": "markdown",
   "metadata": {},
   "source": [
    "Once again, this question is started by using the comm() function:"
   ]
  },
  {
   "cell_type": "code",
   "execution_count": 6,
   "metadata": {},
   "outputs": [
    {
     "data": {
      "image/png": "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\n",
      "text/latex": [
       "$$\\left[p_{x} z,p_{y} z\\right] f{\\left (z \\right )} - \\left[p_{x} z,p_{z} y\\right] f{\\left (z \\right )} + \\left[p_{y} z,p_{z} x\\right] f{\\left (z \\right )} + \\left[p_{z} x,p_{z} y\\right] f{\\left (z \\right )}$$"
      ],
      "text/plain": [
       "[pₓ⋅z,p_y⋅z]⋅f(z) - [pₓ⋅z,p_z⋅y]⋅f(z) + [p_y⋅z,p_z⋅x]⋅f(z) + [p_z⋅x,p_z⋅y]⋅f(z\n",
       ")"
      ]
     },
     "execution_count": 6,
     "metadata": {},
     "output_type": "execute_result"
    }
   ],
   "source": [
    "comm(L_x, L_y, f(z))"
   ]
  },
  {
   "cell_type": "markdown",
   "metadata": {},
   "source": [
    "You can then use the factorization() function which has the following parameters:\n",
    "\n",
    "    expr: the expression of interest\n",
    "    var: the variable of interest. This is most likely going to be the same variable used in the auxiliary function.\n",
    "    \n",
    "This looks like:\n",
    "\n",
    "factorization(expr, var)"
   ]
  },
  {
   "cell_type": "code",
   "execution_count": 7,
   "metadata": {},
   "outputs": [
    {
     "data": {
      "image/png": "iVBORw0KGgoAAAANSUhEUgAAAFMAAAAaCAYAAADL5WCkAAAABHNCSVQICAgIfAhkiAAABKxJREFUaIHtmGuMXVMUx393qo9xVVFCRFRkzKOlnU6L0iiinYb4pOmH9gMR0YjHh2mF1gevtIl4RLQliki9RU08GiltEI/WEMYoZipeLWKoR2l1GnQ6PvzXZt9j73Pv3HtGI7n/5Obcs9Ze/73O3muvvfaGKoYUC4EBYN5/0Mf8IeA+GFgObAX+sH6uNd3DwHYgXwH/FOO8pJTGj1vjek/2isnOqMAJH48aX2NGfD7WGvcLwFLgRqAJmArsQxNZKZ4BeoGDijU8Fn1kzt5zwC9AfynGJaIb+A2oyYjPoREN5IsB3Xr0HbUZ9HOK9XPdYA3rzbA7AydAS6wfeDMjPh+XI18vTcjrUVTel2FfPcA2YFiswdnmzK2ebJ7JHsnIienGtxwYj5b8dyhSNwGnlsE5xzhDv0bgFvt/TsB2kekWRbgbgN+B1xPyG8xuthMckGjQYs/3PdlUe74b/ZTBYYo9xxnny2hjmACcBzwP1AG7BsHZC9yEIvNQYJnJB4BPgZloNXQEbN0KmRbhXoGi78qEfKM9ZwEvhQwfMwcaPNlrJpse6WywWG183/PP5Dm0U/5GNwzoAzYn5HlgL/BhxG642X0V0M01f+4K6MaY7p2YQz0oItzGUAPsNGcqKSd8bDYnzg3olppuVkK+DNhQhPcks12dkLucvz7F1gXM0Z4sD3yNJn1MxG4PSlFA4W6at467ULJ2jowGtgC7U5wpFaNQmfIFsC6gP96enyfkzcAHRbhdlHcm5GPtuSPF1i1Zf6lfDxyDatRfI3Y/A4e7F38wJ9m770zW+XISytOxKGlBjn+ZkDejSU5DKN+Dogc0kTG4wXSbXyPQBrwFPJRiV+vxFwxm2ubzXgqhwzf8uyBuRjvheHt3m0+IbzRwgvU/4MmPQMtvH9qs+lCUJjeMFrNLDvp2e44ljk1m6zhXohx8RcIXHzXAIR5/AR40w4me7A2TnZbiiMMa4ImE7FVzzOEB45scsJ9hutsT8laTdwJnoqhZh2o8V43kUG7/JMCbQx/8QxH/P0apbL71d0+R9k3Wrj2k7EIh6xysQbXfXko7NSwEPvPe56Cc4kdEJ4rU4QH7NsLn9WvMZpwnm2ht6+y9wd6fjPj2dKJ9CKuszS408IeltAW42Nr/XTK5gRuJlmIXGjzQyOfRbK2IEP4ILLb/HcAd5sRuVPjfDPxk+hHAiWiJ/hngiqWAyWgwtnkytxm6NBXbfBza0eTOpnDCfWwEFqAjcxsKhDS0otr1uaTC3YTc68kuJH6qcD//DDwSRVArGuAtFEag62NVxLlkWebLr07I5qJztguG24x7ZoR7BCph3o7oQbWtqxtzKe1ApdIe4Nki7SpCB4rincD5GfAdiFbKEk+WQ6eW2GqJYQnxfA06efUDJ5fAdRXZ3qIFcSfadYPHqzIwDaWEblS21KGz/FaK57QkRqFUsTagc5vOyoAuiVrgW5R6hhQXoUiakBHfZShdXICOe30o/x1VJt8MdEGRR1eNi4H7UXr6CK2EYmhCd6THlelDydgA3D3UnWSEBSgadwBPUXiU3G+oAY5EF6W96NamijJxFsqTPcDp+9eVKqqooooq/i/4C2/uKdpi08ODAAAAAElFTkSuQmCC\n",
      "text/latex": [
       "$$i L_{y} h_{b} f{\\left (y \\right )}$$"
      ],
      "text/plain": [
       "ⅈ⋅L_y⋅h_b⋅f(y)"
      ]
     },
     "execution_count": 7,
     "metadata": {},
     "output_type": "execute_result"
    }
   ],
   "source": [
    "S = comm(L_z, L_x, f(y))\n",
    "\n",
    "S\n",
    "\n",
    "factorization(S, y)"
   ]
  },
  {
   "cell_type": "markdown",
   "metadata": {},
   "source": [
    "###### This last example is still under development."
   ]
  },
  {
   "cell_type": "code",
   "execution_count": null,
   "metadata": {},
   "outputs": [],
   "source": []
  }
 ],
 "metadata": {
  "kernelspec": {
   "display_name": "Python 3",
   "language": "python",
   "name": "python3"
  },
  "language_info": {
   "codemirror_mode": {
    "name": "ipython",
    "version": 3
   },
   "file_extension": ".py",
   "mimetype": "text/x-python",
   "name": "python",
   "nbconvert_exporter": "python",
   "pygments_lexer": "ipython3",
   "version": "3.7.1"
  }
 },
 "nbformat": 4,
 "nbformat_minor": 2
}
=======
{
 "cells": [
  {
   "cell_type": "code",
   "execution_count": 1,
   "metadata": {
    "scrolled": true
   },
   "outputs": [],
   "source": [
    "from pysces import *"
   ]
  },
  {
   "cell_type": "code",
   "execution_count": 2,
   "metadata": {},
   "outputs": [],
   "source": [
    "x, y, z, = symbols(\"x, y, z\")"
   ]
  },
  {
   "cell_type": "markdown",
   "metadata": {},
   "source": [
    "# Commutator Examples"
   ]
  },
  {
   "cell_type": "markdown",
   "metadata": {},
   "source": [
    "# Example 1:\n",
    "\n",
    "$[p_y, y]$"
   ]
  },
  {
   "cell_type": "markdown",
   "metadata": {},
   "source": [
    "This example utilizes the $p_y$ operator, also known as the linear momentum operator in the y direction, along with a simple $y$ directional operator. The $p$ operator is defined by the `lin_mom` function, which has the following arguments:\n",
    "\n",
    "    x: The variable in which the linear momentum operator is with respect to\n",
    "    exp: The exponent of the linear momentum operator\n",
    "    \n",
    "For this example, the exponent of the $p_y$ operator is $1$, and the variable in which the operator is in respect to is $y$."
   ]
  },
  {
   "cell_type": "markdown",
   "metadata": {},
   "source": [
    "The `comm` function can be called for a commutator problem.\n",
    "\n",
    "    commutator_1: the first operator\n",
    "    commutator_2: the second operator\n",
    "    aux: the auxiliary function\n",
    "    \n",
    "This looks like:\n",
    "\n",
    "`comm(commutator_1, commutator_2, aux)`"
   ]
  },
  {
   "cell_type": "code",
   "execution_count": 3,
   "metadata": {
    "scrolled": true
   },
   "outputs": [
    {
     "data": {
      "image/png": "iVBORw0KGgoAAAANSUhEUgAAAEcAAAAXCAYAAABZPlLoAAAD/ElEQVR4nO3YW4hWVRQH8N9oUTZ2Q1+sjKBQkWA0TXsKyunyUFBYD1kJXaCoHiqziEqm6AJFRWqERnTBIAWjIoJCCMrsMmiTlhUSWUFDFpmkZaZND2vv5syZc76x6SgY/uGwv7PWXvus/d9rrb3319bV1eUgqjFiH4w5A3146l/a3ZrsLqvQHYWF2Ixdqd8dSfcCtqB9GL7CtDTeNWXFIcMcsA5z9U9uKhan3714YAjb6aldW6F7ERfgDSzDbryWbK7AbdgxTJ/X4hXcj+XYnhVtDadVt/5JFvEyZg9heyKOwJdiJTMm4XO8ifNLNm+JSB2H34fhb8YMfIi78GAWNp1Wp+N97MFotKVnKGLgW3xhIDFwdmpXluQT0IkV/hsx8FH69nUYmYVNkzMSHfhURMEifIc/sAnX1tidJUh5uCCbnWRPpvel6b1PRNPVgvjlFePNS/3m1XxvYvLpnYLsJRG9nVnQdM2ZLEj5FZ+I1ViB8bgET2O9WKkiTkvtxwVZL+7FDThWf83qE0R3igj9oMKP1ak9o8bPRWIhbyrI3kvtOSKFGydnWmpn4GJRQDMeEYVzlnpy1hVka0QduF3UnK6Crh1TkryqEK8TqTazQnepIGChWKiM7tSemQVNp1Um5x4DiYGe1JZrCkHOdhERRUzGKANJg+PFyvfW+PGnmOx4HFeQt+MxsfUvKNlsw06RWhhMzmb9eb03z7KS/XQR6s9WODwutd+U5O2iuPbgr5KuKqJgTGq3VnwnI6dJMbUW4ARxRtpWYfMzxuaXclp9JdjbW3xf+J2L8Xr8WNF3Smp7SvIOsUhlAqiuRfTvToe38C2TM1McJSbhFrGbPl9jM6ow9iByZrX42FDIKVB1iCMmukOcY8pyBhOQdX0GE7oltWPUY02yzZGzWCzgjapTewSOwddFQVPIh7+qCGgX22ePvU+dNhFVm8TuV0SviM6JLfzZKgr2dMwRC79E9SJIY7UpLEST5ORiXBU5U7ROnZ3YWJJPwJGqJ9MnzihjcUoLn1aLo8US/IS7W/TNEfZ2FjRNzm4Dt8eMHB1l4g4T6bgh2VbZVBFK/4n5vBY+5bozGneKgluHc8Vm8moWNEVOLsYbVRf0uomeikMr5K1sMlbiB3HZrUOuH914pkW/o3ERXhcnejRHzh4Rvh01+qtEPm8oydcm+fUVNvOTblXNmLvwhDhwTq3pM1/UuLoinDFX7HyPFoX74v+c/YnHxYX1vgrdHFwo/lfqrtBnjBIptxLvFhVNXx/2N3biSnFxbRdb+xycLKLhM3H9aIWTxKX2ubLiQCeH2LXy7fpyPIRfRGG9Gb8NYV++t/2D/wM5RSxNTyM40GvOPsVBclrgb1cT6llXIxHBAAAAAElFTkSuQmCC\n",
      "text/latex": [
       "$\\displaystyle - \\hbar i f{\\left(y \\right)}$"
      ],
      "text/plain": [
       "-h̅⋅i⋅f(y)"
      ]
     },
     "execution_count": 3,
     "metadata": {},
     "output_type": "execute_result"
    }
   ],
   "source": [
    "comm(lin_mom(y, 1), y, f(y))"
   ]
  },
  {
   "cell_type": "markdown",
   "metadata": {},
   "source": [
    "Note that the answer is retrieved automatically by this notation."
   ]
  },
  {
   "cell_type": "markdown",
   "metadata": {},
   "source": [
    "# Example 2:\n",
    "\n",
    "$ [L_y, z] $"
   ]
  },
  {
   "cell_type": "markdown",
   "metadata": {},
   "source": [
    "This example also utilizes the `comm` function. This function is able to automatically replace the $L_y$ notation with its expanded form, as shown in the example below."
   ]
  },
  {
   "cell_type": "code",
   "execution_count": 4,
   "metadata": {},
   "outputs": [],
   "source": [
    "L_y = Symbol(\"L_y\")"
   ]
  },
  {
   "cell_type": "code",
   "execution_count": 5,
   "metadata": {},
   "outputs": [
    {
     "data": {
      "image/png": "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\n",
      "text/latex": [
       "$\\displaystyle - \\left[z,p_{x} z\\right] f{\\left(z \\right)} + \\left[z,p_{z} x\\right] f{\\left(z \\right)}$"
      ],
      "text/plain": [
       "-[z,pₓ⋅z]⋅f(z) + [z,p_z⋅x]⋅f(z)"
      ]
     },
     "execution_count": 5,
     "metadata": {},
     "output_type": "execute_result"
    }
   ],
   "source": [
    "comm(L_y, z, f(z))"
   ]
  },
  {
   "cell_type": "markdown",
   "metadata": {},
   "source": [
    "Note that this is not the final answer. One more step is needed, using the `comm` function again for each commutator:"
   ]
  },
  {
   "cell_type": "code",
   "execution_count": 6,
   "metadata": {},
   "outputs": [
    {
     "data": {
      "image/png": "iVBORw0KGgoAAAANSUhEUgAAAJkAAAAVCAYAAABVLkwZAAAFPklEQVR4nO3ae6hmUxjH8c+ZIca4xh8klyQjyYwzTBIjjEso19KUO+WSScn9UofcMkQuKf5wF5PBCIU/hNxvx+Q2DblmGEVyF3P88azd2bPP2u95z37P++ZwfvW2zvvstZ+91vc8a61nrf32DQwMmNSkuqkpGdscDOG2Mfg5O90zfxzatD5uwmf4M/k9P127BysxvYHf2cnXyZ03sSM14cv4MO4WW1rwXaPy/TjDndgZt6S/V+DKFg/YJZVvNWxgWffjEDyF+/AXHk/POAbn4JcGft/CY7gCD+HncWjrWNWUL+PDuFtsi3Y9JsO3r7JcvmG4M2U9giNbPGBLrINlIpqbant8iKdxYOXaM2IW2Ay/NfQ/B6/hYlzV0EcnasqXzhl3my01fKvL5a54BX9jXfSlz2gAvsBHOgsw2CeViyv27TAPi3QG4XXRzlMxtQM/TdWUL50z7jZbavhWg2wqZuI9MWpuxpf4A8txSsbx3qLj11bszyT7ERV7H+5K165JtiPT91vT99vT9yExAk9K9z1U07mXSvVzn+dLdR8Us8K8Gl/dVBO+1DNup9+9ZEuGbzUn2yF1/ie8K6JyEbbAUbgDS0XEFupP5TsVX+fibbFGLxGjF67D8cnXBcm2ApfhDGxkOD8ZEvDnpftfzWLgUTybsZ+YOvxcyfZSKvcTS0cv1YQv9Yzb6Xcv2ZLhWw2y2amcg8NFglhooUgM95UPsrcrvt7FvSKgjhWz10Vil7QIp5XqvizW8vNE3jBQujYds5K9Lim9LmNbKCDchctL9jdSObfGVzfVhC/1jNvp9yq9Y0uGb12QXWp1ADCYympO0C92EsszjbkER4uOrStG0dMi6FZV6u6AaUaC3FwsMysy/nPqE0vD6alcUGnzj/hdQOq1mvClNeNCrfrdK7Zk+FZzsl3E1Hln5gGbpfLzkm26SBwHjQwa+Ao3YiuRf7wscrQ/M3XrRuvGqfwhc09VU8XoOl3kL2fK/9O+xyZt+PtM63yk+rlvFH9j5cvojBm9371kS4VveSYrktKl+C5z46xUDpZsM0WgVhtfVtnXyfi1pl5d3lHseNZu8QxYEw+I3GZA5CF1mqa9ndQnYlS2q69bXGvCl9EZt9PvXrKlwrccZMWUWnfY1y/W7WUVGyMbX2i+WNO/waY4S4yEOv9DRkJemcqN1WttPIyDRV5zfYu6U7AhPm1Rp9C+bdRpV034FnbyjNvtd6/YkuFbXi6LQ8LciJmOGUZO2XXTMByEu/E+dhI7qVPEtrmqPjFil4udV1krxMifkbmvaNuT6XlnGB3CjPS8wVHqjbea8KWecbv97iVbMnzLQVYkpbmRNkt+yu4Xy8kHFfseIvq/wv6iI5eKmfMaI7Ud1pMfrUN4Qazx21aubSDO4/bCCdp7H7hbKqtb726rCV/yjMfS716yJcO3vFzOFu+ylmZuLEZTGdBaYgkYTPcVmoknxC5jP8M7l4fxJg7Fnngx478u71gsDhUPwMcl+wPYXWz5t7H69rzQ1eKws9D+IvleUvOsbmmsfKlnPJZ+95ItGb5FkBVJ6QfyiW6uoTuKhLBs21YcUQylRn9S8XOhONhbaDji6/yXtRjfihfMxcn1FMNnMXPSp6qVVoezAQ4Tg+DLmmd1Q034kmc81n73ii01fKsvyP/NulC8dO1Xv9EYTQvET13mWn0m/b9rPNhSwzf3e7J/q24QL4mrJ8ztapqAudhkgFXVKVta8J1IQfa7eFPwpmY/rNtavBw+Zxzb9F9Rp2xpwXciLZeTmqCaSDPZpCao/gGSj+5bVi2JfwAAAABJRU5ErkJggg==\n",
      "text/latex": [
       "$\\displaystyle \\hbar i x f{\\left(z \\right)} - \\hbar i z f{\\left(z \\right)}$"
      ],
      "text/plain": [
       "h̅⋅i⋅x⋅f(z) - h̅⋅i⋅z⋅f(z)"
      ]
     },
     "execution_count": 6,
     "metadata": {},
     "output_type": "execute_result"
    }
   ],
   "source": [
    "-comm(z, lin_mom(z, 1)*z, f(z)) + comm(z, lin_mom(z, 1)*x, f(z))"
   ]
  },
  {
   "cell_type": "markdown",
   "metadata": {},
   "source": [
    "# Example 3:\n",
    "\n",
    "$[L_x, L_y]$"
   ]
  },
  {
   "cell_type": "markdown",
   "metadata": {},
   "source": [
    "Once again, this question is started by using the `comm` function:"
   ]
  },
  {
   "cell_type": "code",
   "execution_count": 7,
   "metadata": {},
   "outputs": [],
   "source": [
    "L_x, L_y = symbols(\"L_x, L_y\")"
   ]
  },
  {
   "cell_type": "code",
   "execution_count": 8,
   "metadata": {},
   "outputs": [
    {
     "data": {
      "image/png": "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\n",
      "text/latex": [
       "$\\displaystyle \\left[p_{x} z,p_{y} z\\right] f{\\left(z \\right)} - \\left[p_{x} z,p_{z} y\\right] f{\\left(z \\right)} + \\left[p_{y} z,p_{z} x\\right] f{\\left(z \\right)} + \\left[p_{z} x,p_{z} y\\right] f{\\left(z \\right)}$"
      ],
      "text/plain": [
       "[pₓ⋅z,p_y⋅z]⋅f(z) - [pₓ⋅z,p_z⋅y]⋅f(z) + [p_y⋅z,p_z⋅x]⋅f(z) + [p_z⋅x,p_z⋅y]⋅f(z\n",
       ")"
      ]
     },
     "execution_count": 8,
     "metadata": {},
     "output_type": "execute_result"
    }
   ],
   "source": [
    "comm(L_x, L_y, f(z))"
   ]
  },
  {
   "cell_type": "markdown",
   "metadata": {},
   "source": [
    "You can then use the `factorization` function which has the following parameters:\n",
    "\n",
    "    expr: the expression of interest\n",
    "    var: the variable of interest. This is most likely going to be the same variable used in the auxiliary function.\n",
    "    \n",
    "This looks like:\n",
    "\n",
    "`factorization(expr, var)`"
   ]
  },
  {
   "cell_type": "code",
   "execution_count": 9,
   "metadata": {},
   "outputs": [
    {
     "data": {
      "image/png": "iVBORw0KGgoAAAANSUhEUgAAAEgAAAAXCAYAAACoNQllAAAESElEQVR4nO3YW4iVVRQH8N8Zi7QpLewhiSKitCRwGm2IHkzNLkQPhRIFJd0oiuohIguxRukCWUQXC+ohiYoU7EYFFhQZdjNrkjDNgi4PYxZJmGSRTQ9rb893vvnOmZmTEwX+4WOfb62997fOf6+19tq71tvbaz+ao2OU5+/BAB4fwZib05hLKnTj8TC+wR+p38Kkexrb0dmGndPTXFeVFQdUdH4LszET77bxsYwF6n/yFDyafvfj7hbjZqR2Q4XuWZyP1/EM/sQracyluAW72rB1A17CXViJX7OiVgqxGnbgUEwodmwD69X/bBEvYF6LccfgYGwRq5pxIr7AGpxbGvOG8NZJ+K1Ne3vwIRbhniwsh9gJgpgt/hk5cCrexx4cIsivaU0OfIfNGsmBOaldXZJPxlys0j458FH67rUYk4Vlgqantsq9R4oxmIbPhUc8gu/xO7bi6ooxswUx9xVk85JseXp/Ir0PCK+6UhC/sokd6wr9q553Cn2fFx48NwvKOSiHxMdNPjYSTBXE7MRnYnVW4WjMx5PYKFYuozu1nxZk/ViC63G4ev4aEETPFV76QRM7XsSbFfIrBBlvF2TrUnuWCOVRJSh7Yw8uFIk1Y5lIqGeqJuiTguw9kRtuFTmot6DrRFeSN0vO91fIlglyVmBpQb4+tTOzoBhiHWK32YO+Jh8bCTJBizWSozB/Oc90i9y3tSSfinEaiYOjRCj3D9OmGh4Ti7NchOdfBf0v2C3IQyNBk8XutVl7W2UZMwTZT1XoJqX224KsM9nQp9Foqj0LJqZ2xzDsGSM85jqR424weIHgZxyRX4oE7cvwygl6I36s0Heltq8gm5bsKZNAdW6ivmuNHcKeA0UCXiBCdGGLvuMK81YSNJwd7DbVO8KdSZ9Dotlc3cJLt5RkDCYh6wYMDv3tqZ2oOcaKRD1fhNaSFn07cFhh3gaCcs4YjgctF2GSn4ewTVS61Mmu8oZOTDE4lJqFUU1411axIxbRLzx0ShM7O/EazhO74ANN+mVMSd/ry4KOQjuSBL1TELJNJLqLMAtfJX2reqpLdSh1iwS5qSTPubHKswawVuSM40u6CaLCPgOXG9558LTU7t368zZ/kmB7lyjoqvCTCK0iFomVmYUvC/Lp4py0sWKe7ClF8g4SYdmXxlX1r/JGorKeh3PUFwiew+mijDhOY3mQca8oXDPOFk7ychZkgvKKd6o40SasKb0vxjVihYqG5QS9SXhEGVV/+GSRSFsl6FYE/SAScK62O9RrmZ70lLFdI2kTcAFeFRU/Bh9Wh4s7xFFhNr5uZ4J9jNvFAbNbdSgOBzeKq5SGW4x27oMW4SZcLELyyPQMtdWOJh4Uh9ylQ3VsgnGC5NVKVzxV90GtUBMl/3j1c0vGHI3nmn8Tu3GZ8OicS0eCY8UheEVZMVKCBkSs/hexNj3toHzG24vRvnL932M/QUNgP0FD4G8fpPyjVh92zQAAAABJRU5ErkJggg==\n",
      "text/latex": [
       "$\\displaystyle L_{z} \\hbar i f{\\left(z \\right)}$"
      ],
      "text/plain": [
       "L_z⋅h̅⋅i⋅f(z)"
      ]
     },
     "execution_count": 9,
     "metadata": {},
     "output_type": "execute_result"
    }
   ],
   "source": [
    "S = comm(L_x, L_y, f(z))\n",
    "\n",
    "S\n",
    "\n",
    "factorization(S, z)"
   ]
  },
  {
   "cell_type": "markdown",
   "metadata": {},
   "source": [
    "###### This last example is still under development."
   ]
  },
  {
   "cell_type": "markdown",
   "metadata": {},
   "source": [
    "# Computing Commutators With Higher Exponents"
   ]
  },
  {
   "cell_type": "markdown",
   "metadata": {},
   "source": [
    "In order to have the linear momentum operator to a higher power, you must change the second argument in the `lin_mom` function."
   ]
  },
  {
   "cell_type": "markdown",
   "metadata": {},
   "source": [
    "# Example One:\n",
    "\n",
    "$[p_x^2, x]$"
   ]
  },
  {
   "cell_type": "code",
   "execution_count": 10,
   "metadata": {},
   "outputs": [
    {
     "data": {
      "image/png": "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\n",
      "text/latex": [
       "$\\displaystyle - 2 \\hbar^{2} \\frac{d}{d x} f{\\left(x \\right)}$"
      ],
      "text/plain": [
       "    2 d       \n",
       "-2⋅h̅ ⋅──(f(x))\n",
       "      dx      "
      ]
     },
     "execution_count": 10,
     "metadata": {},
     "output_type": "execute_result"
    }
   ],
   "source": [
    "comm(lin_mom(x, 2), x, f(x))"
   ]
  },
  {
   "cell_type": "markdown",
   "metadata": {},
   "source": [
    "# Example Two:\n",
    "\n",
    "$[p_x, x^2]$"
   ]
  },
  {
   "cell_type": "code",
   "execution_count": 11,
   "metadata": {
    "scrolled": true
   },
   "outputs": [
    {
     "data": {
      "image/png": "iVBORw0KGgoAAAANSUhEUgAAAGAAAAAVCAYAAAC5d+tKAAAEpklEQVR4nO3ZeYhVVRwH8M+kkWYbFJQULRTZYmmjSX+UVNpCRYtRES2CChXRQhlmJYxtSAvtFPVHm0GFE21EGiQZ2aLWaOWSSZbRtGFEm5k1/fE7h/e6c9+M781DK/zC5bz7O/f8fuf+9nNfS1tbmy3YfNhqc28gYRS68GCd665K687to/wdcC9WY33iOSXNPYFvMagP/EcknhOLE/37wLSInXEGTsYh2F28zId4NF1/lay7UEWBh+H+9LsTt/Qic2QaFzW868BTOAWvYCY24MXE/3xMxi994L8Iz+NmPIOf80RLE1PQxcKDOzEXX2BXjMOOaMdZwhOqsUBFkdV4Dmf2InNPbIsVJXw3FgdgGWbjxMLcHBGdg/Fbg/wzRuFdXI9bM7GZKegTnIo9cB6mYoJ4wTVCmeNK1h2Ot/EntkNLunpTPmHk5RpXPhybxvYCfX+MxbP6rnx4T+z1IvTLxGYa4HW8pHua+RoPpd9Hl6zrh2H4SHjzfcJgv2MlJtWQd4xQ/G1VtDmJVjR0Cx5LczMS7cx0/0C6fzjddwmnmZDWPVNDfj2yMp4WUTs2EzZVEf4jjRtK5g4Siv8Ji3Gw8LoXsC8eEeFbRGsaP6iiXSMc4GZVXoY7MD7xujbROjEd36V9TU9XmzD8WBGV79R4p3pkZbyVxuMyYVMYoL8otPBqyfyINI4S3n4srsbZuDPNjSlZlw3wfhVtMZ7Egbgg0a4T3dKzok5lzMdNIu0tE4pvE0YYgOGJXqv41iMrY0EaR2dCM7ugWpiBoaLDmF0ynw0wLT1TjY40luX4VtFNrCzQb8A5QpnbiU5qtlBSMT0ehIH+aUSig+snoqQn1CMLfsQ6kYbQPQJWq+TBjblm9rLBy4U3L1fxkiJGilB/tGRucBo/L9AHiSLZofuLfom7sZeoJ/NFnl5fwr8sioiWGn6osedGZGWsxS75phgBq4SFNhZf9TB3Ke7BUpFC1pY8kwvwEpGLixiexo4CfZhwnqLiMqp5TcSvNZ4rqyNUup4BNdY1IitjYBX/bgYoy7WN4ErcJTqbMeIkWYacAmodpFpFDl5RQqe74ohD3R2i+9oNV+CSHvh36W7gvN+d9Yx6ZBFOsxM+qyY0G1OE8jtEq1hL+VQOYGWePAhDlKeZWqnjJDyOj3GoSH2TRFtZRIuIpJWiA6tGp/DsIT3svR5ZGUOS3I5MaLYBpomiu0h4/ve9PJ8LcFkEDFc7zbSKVLm0inYkZom8fLxQ4DQR5cV+nKgh2yuPoi7ME7l6v5L5emVlHJHGuZnQzC5oPG4UBfVNUYCLWC0OKRkjRA++pOTZ7OVF42wjUleHyrliGF4WXcZxKt3LLCzEaTgq7avIv1YdaReHtRPwaRW9EVkZxwv9vJAJzTTAPmnsJ2pAGd5QMUAuwEuVF/5aChqKravo+4nWr0soa1Xh+al4DbereGBP/DPa8Y04w+TTcqOyiO9hpwvjrcnEZn6M+z9iqvhw1qo8VdWDy8Qn79GqouPf8n/AvxV3iQ9+N/aRz0BhzHaF1LTFAD1jnThALtS3P2T2Fh/7JhcnNsWniP865qWrL8jfmrphSwRsZvwNS7s81h1hFGEAAAAASUVORK5CYII=\n",
      "text/latex": [
       "$\\displaystyle - 2 \\hbar i x f{\\left(x \\right)}$"
      ],
      "text/plain": [
       "-2⋅h̅⋅i⋅x⋅f(x)"
      ]
     },
     "execution_count": 11,
     "metadata": {},
     "output_type": "execute_result"
    }
   ],
   "source": [
    "comm(lin_mom(x, 1), x**2, f(x))"
   ]
  },
  {
   "cell_type": "markdown",
   "metadata": {},
   "source": [
    "# Example Three:\n",
    "\n",
    "$[p_x^2, x^2]$"
   ]
  },
  {
   "cell_type": "code",
   "execution_count": 12,
   "metadata": {},
   "outputs": [
    {
     "data": {
      "image/png": "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\n",
      "text/latex": [
       "$\\displaystyle - 2 \\hbar^{2} \\left(2 x \\frac{d}{d x} f{\\left(x \\right)} + f{\\left(x \\right)}\\right)$"
      ],
      "text/plain": [
       "    2 ⎛    d              ⎞\n",
       "-2⋅h̅ ⋅⎜2⋅x⋅──(f(x)) + f(x)⎟\n",
       "      ⎝    dx             ⎠"
      ]
     },
     "execution_count": 12,
     "metadata": {},
     "output_type": "execute_result"
    }
   ],
   "source": [
    "comm(lin_mom(x, 2), x**2, f(x))"
   ]
  },
  {
   "cell_type": "markdown",
   "metadata": {},
   "source": [
    "# Example Four:\n",
    "\n",
    "$[p_x^a, x^b]$"
   ]
  },
  {
   "cell_type": "code",
   "execution_count": 13,
   "metadata": {},
   "outputs": [
    {
     "data": {
      "image/png": "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\n",
      "text/latex": [
       "$\\displaystyle - 2 \\hbar^{2} \\left(2 x \\frac{d}{d x} f{\\left(x \\right)} + f{\\left(x \\right)}\\right)$"
      ],
      "text/plain": [
       "    2 ⎛    d              ⎞\n",
       "-2⋅h̅ ⋅⎜2⋅x⋅──(f(x)) + f(x)⎟\n",
       "      ⎝    dx             ⎠"
      ]
     },
     "execution_count": 13,
     "metadata": {},
     "output_type": "execute_result"
    }
   ],
   "source": [
    "a, b = 2, 2\n",
    "\n",
    "comm(lin_mom(x, a), x**b, f(x))"
   ]
  },
  {
   "cell_type": "markdown",
   "metadata": {},
   "source": [
    "# Example Five:\n",
    "\n",
    "$[p_x^a, x^b]$"
   ]
  },
  {
   "cell_type": "code",
   "execution_count": 14,
   "metadata": {},
   "outputs": [
    {
     "data": {
      "image/png": "iVBORw0KGgoAAAANSUhEUgAAAA4AAAASCAYAAABrXO8xAAABDUlEQVR4nK3STyvEURTG8c/Iihg2VhYiM29A/mRl1GTpDVjYUixslIWxsKYplpJ3YGtjRd4BRlNK2VlIkg0Wvzv1c+dOIs/mqdP5nntuzynUajV/UVeiNowjPOId99jHYL6pO4LGcIkhnOIGk1jHAmbxlHrxMEBrWMQmKthDGbupVUdRDasdRAO38Yol9MZgJfgZPiLwBRfowXQMloM3pHUXvBSDxeDPHcBWfSAGf1Ih+GcMtiYWpdWf78uDt8FLHcDx4I0YPA9e1f6FPln4b7iKwaYsihGsRuCOLL8TWZ5tJ7ciO7k65nGNKcyFFbdajfFKTUzgOAAbsvutY0a409SL8IDlRP2bfpPj/4BfAUMv45ahjIgAAAAASUVORK5CYII=\n",
      "text/latex": [
       "$\\displaystyle 0$"
      ],
      "text/plain": [
       "0"
      ]
     },
     "execution_count": 14,
     "metadata": {},
     "output_type": "execute_result"
    }
   ],
   "source": [
    "a, b = 10, 12\n",
    "\n",
    "comm(lin_mom(x, a), x**b, f(x))"
   ]
  },
  {
   "cell_type": "code",
   "execution_count": null,
   "metadata": {},
   "outputs": [],
   "source": []
  }
 ],
 "metadata": {
  "kernelspec": {
   "display_name": "Python 3",
   "language": "python",
   "name": "python3"
  },
  "language_info": {
   "codemirror_mode": {
    "name": "ipython",
    "version": 3
   },
   "file_extension": ".py",
   "mimetype": "text/x-python",
   "name": "python",
   "nbconvert_exporter": "python",
   "pygments_lexer": "ipython3",
   "version": "3.8.5"
  }
 },
 "nbformat": 4,
 "nbformat_minor": 2
}
>>>>>>> a4f82647d44132ad313b967d421082d2b21c9708
