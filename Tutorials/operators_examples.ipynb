{
 "cells": [
  {
   "cell_type": "code",
   "execution_count": 1,
   "metadata": {
    "scrolled": true
   },
   "outputs": [],
   "source": [
    "from pysces import *"
   ]
  },
  {
   "cell_type": "code",
   "execution_count": 2,
   "metadata": {},
   "outputs": [],
   "source": [
    "x, y, z, = symbols(\"x, y, z\")"
   ]
  },
  {
   "cell_type": "markdown",
   "metadata": {},
   "source": [
    "# Commutator Examples"
   ]
  },
  {
   "cell_type": "markdown",
   "metadata": {},
   "source": [
    "# Example 1:\n",
    "\n",
    "[p_x, x]"
   ]
  },
  {
   "cell_type": "markdown",
   "metadata": {},
   "source": [
    "The comm() function can be called for a commutator problem.\n",
    "\n",
    "    commutator_1: the first operator\n",
    "    commutator_2: the second operator\n",
    "    aux: the auxiliary function\n",
    "    \n",
    "This looks like:\n",
    "\n",
    "comm(commutator_1, commutator_2, aux)"
   ]
  },
  {
   "cell_type": "code",
   "execution_count": 3,
   "metadata": {
    "scrolled": true
   },
   "outputs": [
    {
     "data": {
      "image/png": "[encoded data removed]",
      "text/latex": [
       "$$- i h_{b} f{\\left (x \\right )}$$"
      ],
      "text/plain": [
       "-ⅈ⋅h_b⋅f(x)"
      ]
     },
     "execution_count": 3,
     "metadata": {},
     "output_type": "execute_result"
    }
   ],
   "source": [
    "comm(lin_mom(x), x, f(x))"
   ]
  },
  {
   "cell_type": "markdown",
   "metadata": {},
   "source": [
    "Note that the answer is retrieved automatically by this notation."
   ]
  },
  {
   "cell_type": "markdown",
   "metadata": {},
   "source": [
    "# Example 2:\n",
    "\n",
    "#### [L_y, z]"
   ]
  },
  {
   "cell_type": "markdown",
   "metadata": {},
   "source": [
    "This example also utilizes the comm() function:"
   ]
  },
  {
   "cell_type": "code",
   "execution_count": 4,
   "metadata": {},
   "outputs": [],
   "source": [
    "L_y = Symbol(\"L_y\")"
   ]
  },
  {
   "cell_type": "code",
   "execution_count": 5,
   "metadata": {},
   "outputs": [
    {
     "data": {
      "image/png": "[encoded data removed]",
      "text/latex": [
       "$$- \\left[z,p_{x} z\\right] f{\\left (z \\right )} + \\left[z,p_{z} x\\right] f{\\left (z \\right )}$$"
      ],
      "text/plain": [
       "-[z,pₓ⋅z]⋅f(z) + [z,p_z⋅x]⋅f(z)"
      ]
     },
     "execution_count": 5,
     "metadata": {},
     "output_type": "execute_result"
    }
   ],
   "source": [
    "comm(L_y, z, f(z))"
   ]
  },
  {
   "cell_type": "markdown",
   "metadata": {},
   "source": [
    "Note that this is not the final answer. One more step is needed, using the comm() function again for each commutator:"
   ]
  },
  {
   "cell_type": "code",
   "execution_count": 6,
   "metadata": {},
   "outputs": [
    {
     "data": {
      "image/png": "[encoded data removed]",
      "text/latex": [
       "$$i h_{b} x f{\\left (z \\right )}$$"
      ],
      "text/plain": [
       "ⅈ⋅h_b⋅x⋅f(z)"
      ]
     },
     "execution_count": 6,
     "metadata": {},
     "output_type": "execute_result"
    }
   ],
   "source": [
    "comm(z, lin_mom(z)*(x), f(z)) - comm(z, lin_mom(x)*z, f(z))"
   ]
  },
  {
   "cell_type": "markdown",
   "metadata": {},
   "source": [
    "# Example 3:\n",
    "\n",
    "#### [L_x, L_y]"
   ]
  },
  {
   "cell_type": "markdown",
   "metadata": {},
   "source": [
    "Once again, this question is started by using the comm() function:"
   ]
  },
  {
   "cell_type": "code",
   "execution_count": 7,
   "metadata": {},
   "outputs": [],
   "source": [
    "L_x, L_y = symbols(\"L_x, L_y\")"
   ]
  },
  {
   "cell_type": "code",
   "execution_count": 8,
   "metadata": {},
   "outputs": [
    {
     "data": {
      "image/png": "[encoded data removed]",
      "text/latex": [
       "$$\\left[p_{x} z,p_{y} z\\right] f{\\left (z \\right )} - \\left[p_{x} z,p_{z} y\\right] f{\\left (z \\right )} + \\left[p_{y} z,p_{z} x\\right] f{\\left (z \\right )} + \\left[p_{z} x,p_{z} y\\right] f{\\left (z \\right )}$$"
      ],
      "text/plain": [
       "[pₓ⋅z,p_y⋅z]⋅f(z) - [pₓ⋅z,p_z⋅y]⋅f(z) + [p_y⋅z,p_z⋅x]⋅f(z) + [p_z⋅x,p_z⋅y]⋅f(z\n",
       ")"
      ]
     },
     "execution_count": 8,
     "metadata": {},
     "output_type": "execute_result"
    }
   ],
   "source": [
    "comm(L_x, L_y, f(z))"
   ]
  },
  {
   "cell_type": "markdown",
   "metadata": {},
   "source": [
    "You can then use the factorization() function which has the following parameters:\n",
    "\n",
    "    expr: the expression of interest\n",
    "    var: the variable of interest. This is most likely going to be the same variable used in the auxiliary function.\n",
    "    \n",
    "This looks like:\n",
    "\n",
    "factorization(expr, var)"
   ]
  },
  {
   "cell_type": "code",
   "execution_count": 9,
   "metadata": {},
   "outputs": [
    {
     "data": {
      "image/png": "[encoded data removed]",
      "text/latex": [
       "$$i L_{z} h_{b} f{\\left (z \\right )}$$"
      ],
      "text/plain": [
       "ⅈ⋅L_z⋅h_b⋅f(z)"
      ]
     },
     "execution_count": 9,
     "metadata": {},
     "output_type": "execute_result"
    }
   ],
   "source": [
    "S = comm(L_x, L_y, f(z))\n",
    "\n",
    "S\n",
    "\n",
    "factorization(S, z)"
   ]
  },
  {
   "cell_type": "markdown",
   "metadata": {},
   "source": [
    "###### This last example is still under development."
   ]
  },
  {
   "cell_type": "code",
   "execution_count": null,
   "metadata": {},
   "outputs": [],
   "source": []
  }
 ],
 "metadata": {
  "kernelspec": {
   "display_name": "Python 3",
   "language": "python",
   "name": "python3"
  },
  "language_info": {
   "codemirror_mode": {
    "name": "ipython",
    "version": 3
   },
   "file_extension": ".py",
   "mimetype": "text/x-python",
   "name": "python",
   "nbconvert_exporter": "python",
   "pygments_lexer": "ipython3",
   "version": "3.7.1"
  }
 },
 "nbformat": 4,
 "nbformat_minor": 2
}
