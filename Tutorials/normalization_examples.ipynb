{
 "cells": [
  {
   "cell_type": "code",
   "execution_count": 1,
   "metadata": {},
   "outputs": [],
   "source": [
    "from Pysces import *"
   ]
  },
  {
   "cell_type": "markdown",
   "metadata": {},
   "source": [
    "The conjugate() function will give us the complex conjugate of the wavefunction\n",
    "\n",
    "The normalize_constant() function will give us the normalization constant, as defined in the general notation."
   ]
  },
  {
   "cell_type": "markdown",
   "metadata": {},
   "source": [
    "# Let's take some wavefunctions from Homework 2:\n"
   ]
  },
  {
   "cell_type": "code",
   "execution_count": 2,
   "metadata": {},
   "outputs": [
    {
     "data": {
      "image/png": "[encoded data removed]",
      "text/latex": [
       "$$e^{x}$$"
      ],
      "text/plain": [
       " x\n",
       "ℯ "
      ]
     },
     "execution_count": 2,
     "metadata": {},
     "output_type": "execute_result"
    }
   ],
   "source": [
    "exp(x)"
   ]
  },
  {
   "cell_type": "markdown",
   "metadata": {},
   "source": [
    "Let's look at what the parameters of the normalize_constant() mean:\n",
    "\n",
    "    wavefunc: The WaveFunction/expression of interest\n",
    "    var: What the integral is taken with respect to\n",
    "    lower: The lower bound of the integral. If bounds are not listed, this is -oo\n",
    "    upper: The upper bound of the integral. If bounds are not listed, this is oo\n",
    "    \n",
    "This looks like:\n",
    "\n",
    "normalize_constant(wavefunc, var, lower, upper)\n",
    "\n",
    "Note that in sympy notation, two \"o\"s (oo) represents infinity. If a bound is not given, integrate from (-oo, oo)"
   ]
  },
  {
   "cell_type": "code",
   "execution_count": 3,
   "metadata": {
    "scrolled": true
   },
   "outputs": [
    {
     "data": {
      "image/png": "[encoded data removed]",
      "text/latex": [
       "$$\\sqrt{2}$$"
      ],
      "text/plain": [
       "√2"
      ]
     },
     "execution_count": 3,
     "metadata": {},
     "output_type": "execute_result"
    }
   ],
   "source": [
    "normalize_constant(exp(x), x, -oo, 0)"
   ]
  },
  {
   "cell_type": "markdown",
   "metadata": {},
   "source": [
    "Again, this is the normalization constant. To get the normalized wavefunction, simply multiply the calculated normalization constant by the original wavefunction:"
   ]
  },
  {
   "cell_type": "code",
   "execution_count": 4,
   "metadata": {},
   "outputs": [
    {
     "data": {
      "image/png": "[encoded data removed]",
      "text/latex": [
       "$$\\sqrt{2} e^{x}$$"
      ],
      "text/plain": [
       "    x\n",
       "√2⋅ℯ "
      ]
     },
     "execution_count": 4,
     "metadata": {},
     "output_type": "execute_result"
    }
   ],
   "source": [
    "normalize_constant(exp(x), x, -oo, 0)*(exp(x))"
   ]
  },
  {
   "cell_type": "markdown",
   "metadata": {},
   "source": [
    "Let's try another example over the integral (0,1)\n",
    "\n",
    "This time let's define the function as psi for simplicity:"
   ]
  },
  {
   "cell_type": "code",
   "execution_count": 5,
   "metadata": {},
   "outputs": [],
   "source": [
    "psi = a*x*(x-1)"
   ]
  },
  {
   "cell_type": "code",
   "execution_count": 6,
   "metadata": {
    "scrolled": true
   },
   "outputs": [
    {
     "data": {
      "image/png": "[encoded data removed]",
      "text/latex": [
       "$$\\frac{\\sqrt{30} a x \\left(x - 1\\right)}{\\sqrt{a^{2}}}$$"
      ],
      "text/plain": [
       "√30⋅a⋅x⋅(x - 1)\n",
       "───────────────\n",
       "       ____    \n",
       "      ╱  2     \n",
       "    ╲╱  a      "
      ]
     },
     "execution_count": 6,
     "metadata": {},
     "output_type": "execute_result"
    }
   ],
   "source": [
    "normalize_constant(psi, x, 0, 1)*(psi)"
   ]
  },
  {
   "cell_type": "markdown",
   "metadata": {},
   "source": [
    "The same can be done with problems involving complex numbers:"
   ]
  },
  {
   "cell_type": "code",
   "execution_count": 7,
   "metadata": {},
   "outputs": [
    {
     "data": {
      "image/png": "[encoded data removed]",
      "text/latex": [
       "$$\\frac{e^{i x}}{\\sqrt{L}}$$"
      ],
      "text/plain": [
       " ⅈ⋅x\n",
       "ℯ   \n",
       "────\n",
       " √L "
      ]
     },
     "execution_count": 7,
     "metadata": {},
     "output_type": "execute_result"
    }
   ],
   "source": [
    "psi = exp(I*x)\n",
    "\n",
    "normalize_constant((psi), x, 0, L).doit()*(psi)"
   ]
  },
  {
   "cell_type": "markdown",
   "metadata": {},
   "source": [
    "Let's look at the fixed gaussian wavefunction, which is called using the fixed_gaussian() function.\n",
    "\n",
    "This function has three variables:\n",
    "\n",
    "    alpha:alpha parameter of the gaussian\n",
    "    x_0: x_0 parameter of the gaussian\n",
    "    p: p parameter of the gaussian\n",
    "\n",
    "And can be written as:\n",
    "\n",
    "fixed_gaussian(alpha, x_0, p)"
   ]
  },
  {
   "cell_type": "code",
   "execution_count": 8,
   "metadata": {
    "scrolled": true
   },
   "outputs": [
    {
     "data": {
      "text/latex": [
       "$$\\begin{cases} \\frac{1}{\\sqrt{\\frac{\\sqrt{\\pi} \\left(- \\operatorname{erfc}{\\left (\\sqrt{\\alpha} x_{0} \\right )} + 2\\right)}{2 \\sqrt{\\alpha}} + \\frac{\\sqrt{\\pi} \\operatorname{erfc}{\\left (\\sqrt{\\alpha} x_{0} \\right )}}{2 \\sqrt{\\alpha}}}} & \\text{for}\\: \\left(\\left(\\frac{\\pi}{2} \\geq \\left|{\\arg{\\left (\\alpha \\right )}}\\right| \\wedge \\pi > \\left|{2 \\arg{\\left (\\alpha \\right )} + 2 \\arg{\\left (x_{0} \\right )}}\\right|\\right) \\vee \\left(\\pi \\geq \\left|{2 \\arg{\\left (\\alpha \\right )} + 2 \\arg{\\left (x_{0} \\right )}}\\right| \\wedge \\frac{\\pi}{2} > \\left|{\\arg{\\left (\\alpha \\right )}}\\right|\\right) \\vee \\left(\\frac{\\pi}{2} > \\left|{\\arg{\\left (\\alpha \\right )}}\\right| \\wedge \\pi > \\left|{2 \\arg{\\left (\\alpha \\right )} + 2 \\arg{\\left (x_{0} \\right )}}\\right|\\right) \\vee \\frac{\\pi}{2} > \\left|{\\arg{\\left (\\alpha \\right )}}\\right|\\right) \\wedge \\left(\\left(\\frac{\\pi}{2} \\geq \\left|{\\arg{\\left (\\alpha \\right )}}\\right| \\wedge \\pi > \\left|{2 \\arg{\\left (\\alpha \\right )} + 2 \\arg{\\left (x_{0} \\right )} + 2 \\pi}\\right|\\right) \\vee \\left(\\pi \\geq \\left|{2 \\arg{\\left (\\alpha \\right )} + 2 \\arg{\\left (x_{0} \\right )} + 2 \\pi}\\right| \\wedge \\frac{\\pi}{2} > \\left|{\\arg{\\left (\\alpha \\right )}}\\right|\\right) \\vee \\left(\\frac{\\pi}{2} > \\left|{\\arg{\\left (\\alpha \\right )}}\\right| \\wedge \\pi > \\left|{2 \\arg{\\left (\\alpha \\right )} + 2 \\arg{\\left (x_{0} \\right )} + 2 \\pi}\\right|\\right) \\vee \\frac{\\pi}{2} > \\left|{\\arg{\\left (\\alpha \\right )}}\\right|\\right) \\\\\\frac{1}{\\sqrt{\\int_{-\\infty}^{\\infty} e^{- \\alpha \\left(x - x_{0}\\right)^{2}}\\, dx}} & \\text{otherwise} \\end{cases}$$"
      ],
      "text/plain": [
       "⎧                     1                            ⎛⎛π                        \n",
       "⎪────────────────────────────────────────────  for ⎜⎜─ ≥ │arg(α)│ ∧ π > │2⋅arg\n",
       "⎪    ________________________________________      ⎝⎝2                        \n",
       "⎪   ╱ √π⋅(-erfc(√α⋅x₀) + 2)   √π⋅erfc(√α⋅x₀)                                  \n",
       "⎪  ╱  ───────────────────── + ──────────────                                  \n",
       "⎪╲╱            2⋅√α                2⋅√α                                       \n",
       "⎪                                                                             \n",
       "⎪                     1                                                       \n",
       "⎨       ─────────────────────────────                                         \n",
       "⎪               _____________________                                         \n",
       "⎪              ╱ ∞                                                            \n",
       "⎪             ╱  ⌠                                                            \n",
       "⎪            ╱   ⎮              2                                             \n",
       "⎪           ╱    ⎮   -α⋅(x - x₀)                                              \n",
       "⎪          ╱     ⎮  ℯ             dx                                          \n",
       "⎪         ╱      ⌡                                                            \n",
       "⎩       ╲╱       -∞                                                           \n",
       "\n",
       "                ⎞   ⎛                             π           ⎞   ⎛π          \n",
       "(α) + 2⋅arg(x₀)│⎟ ∨ ⎜π ≥ │2⋅arg(α) + 2⋅arg(x₀)│ ∧ ─ > │arg(α)│⎟ ∨ ⎜─ > │arg(α)\n",
       "                ⎠   ⎝                             2           ⎠   ⎝2          \n",
       "                                                                              \n",
       "                                                                              \n",
       "                                                                              \n",
       "                                                                              \n",
       "                                                                              \n",
       "                                                                              \n",
       "                                                                              \n",
       "                                                                              \n",
       "                                                                              \n",
       "                                                                              \n",
       "                                                                              \n",
       "                                                                              \n",
       "                                                                              \n",
       "                                                                              \n",
       "\n",
       "                              ⎞   π           ⎞   ⎛⎛π                         \n",
       "│ ∧ π > │2⋅arg(α) + 2⋅arg(x₀)│⎟ ∨ ─ > │arg(α)│⎟ ∧ ⎜⎜─ ≥ │arg(α)│ ∧ π > │2⋅arg(\n",
       "                              ⎠   2           ⎠   ⎝⎝2                         \n",
       "                                                                              \n",
       "                                                                              \n",
       "                                                                              \n",
       "                                                                              \n",
       "                                                                              \n",
       "                                                   otherwise                  \n",
       "                                                                              \n",
       "                                                                              \n",
       "                                                                              \n",
       "                                                                              \n",
       "                                                                              \n",
       "                                                                              \n",
       "                                                                              \n",
       "                                                                              \n",
       "\n",
       "                     ⎞   ⎛                                   π           ⎞   ⎛\n",
       "α) + 2⋅arg(x₀) + 2⋅π│⎟ ∨ ⎜π ≥ │2⋅arg(α) + 2⋅arg(x₀) + 2⋅π│ ∧ ─ > │arg(α)│⎟ ∨ ⎜\n",
       "                     ⎠   ⎝                                   2           ⎠   ⎝\n",
       "                                                                              \n",
       "                                                                              \n",
       "                                                                              \n",
       "                                                                              \n",
       "                                                                              \n",
       "                                                                              \n",
       "                                                                              \n",
       "                                                                              \n",
       "                                                                              \n",
       "                                                                              \n",
       "                                                                              \n",
       "                                                                              \n",
       "                                                                              \n",
       "                                                                              \n",
       "\n",
       "π                                              ⎞   π           ⎞\n",
       "─ > │arg(α)│ ∧ π > │2⋅arg(α) + 2⋅arg(x₀) + 2⋅π│⎟ ∨ ─ > │arg(α)│⎟\n",
       "2                                              ⎠   2           ⎠\n",
       "                                                                \n",
       "                                                                \n",
       "                                                                \n",
       "                                                                \n",
       "                                                                \n",
       "                                                                \n",
       "                                                                \n",
       "                                                                \n",
       "                                                                \n",
       "                                                                \n",
       "                                                                \n",
       "                                                                \n",
       "                                                                \n",
       "                                                                "
      ]
     },
     "execution_count": 8,
     "metadata": {},
     "output_type": "execute_result"
    }
   ],
   "source": [
    "alpha, x_0, p = symbols(\"alpha, x_0, p\")\n",
    "\n",
    "FG = fixed_gaussian(alpha, x_0, p)\n",
    "\n",
    "normalize_constant(FG, x, -oo, oo)"
   ]
  },
  {
   "cell_type": "markdown",
   "metadata": {},
   "source": [
    "The above looks quite complicated, and so the \"simplify()\" function can be used:"
   ]
  },
  {
   "cell_type": "code",
   "execution_count": 9,
   "metadata": {},
   "outputs": [
    {
     "data": {
      "text/latex": [
       "$$\\begin{cases} \\frac{\\sqrt[4]{\\alpha}}{\\sqrt[4]{\\pi}} & \\text{for}\\: \\left(\\frac{\\pi}{2} \\geq \\left|{\\arg{\\left (\\alpha \\right )}}\\right| \\wedge \\pi > \\left|{2 \\arg{\\left (\\alpha \\right )} + 2 \\arg{\\left (x_{0} \\right )}}\\right| \\wedge \\pi > \\left|{2 \\arg{\\left (\\alpha \\right )} + 2 \\arg{\\left (x_{0} \\right )} + 2 \\pi}\\right|\\right) \\vee \\frac{\\pi}{2} > \\left|{\\arg{\\left (\\alpha \\right )}}\\right| \\\\\\frac{1}{\\sqrt{\\int_{-\\infty}^{\\infty} e^{- \\alpha \\left(x - x_{0}\\right)^{2}}\\, dx}} & \\text{otherwise} \\end{cases}$$"
      ],
      "text/plain": [
       "⎧            4 ___                                                            \n",
       "⎪            ╲╱ α                   ⎛π                                        \n",
       "⎪            ─────              for ⎜─ ≥ │arg(α)│ ∧ π > │2⋅arg(α) + 2⋅arg(x₀)│\n",
       "⎪            4 ___                  ⎝2                                        \n",
       "⎪            ╲╱ π                                                             \n",
       "⎪                                                                             \n",
       "⎪              1                                                              \n",
       "⎪─────────────────────────────                                              ot\n",
       "⎨        _____________________                                                \n",
       "⎪       ╱ ∞                                                                   \n",
       "⎪      ╱  ⌠                                                                   \n",
       "⎪     ╱   ⎮              2                                                    \n",
       "⎪    ╱    ⎮   -α⋅(x - x₀)                                                     \n",
       "⎪   ╱     ⎮  ℯ             dx                                                 \n",
       "⎪  ╱      ⌡                                                                   \n",
       "⎪╲╱       -∞                                                                  \n",
       "⎩                                                                             \n",
       "\n",
       "                                                   \n",
       "                                   ⎞   π           \n",
       " ∧ π > │2⋅arg(α) + 2⋅arg(x₀) + 2⋅π│⎟ ∨ ─ > │arg(α)│\n",
       "                                   ⎠   2           \n",
       "                                                   \n",
       "                                                   \n",
       "                                                   \n",
       "herwise                                            \n",
       "                                                   \n",
       "                                                   \n",
       "                                                   \n",
       "                                                   \n",
       "                                                   \n",
       "                                                   \n",
       "                                                   \n",
       "                                                   \n",
       "                                                   "
      ]
     },
     "execution_count": 9,
     "metadata": {},
     "output_type": "execute_result"
    }
   ],
   "source": [
    "ANS = normalize_constant(FG, x, -oo, oo)\n",
    "\n",
    "simplify(ANS)"
   ]
  },
  {
   "cell_type": "markdown",
   "metadata": {},
   "source": [
    "This is a bit simpler, and it is important to note that the bottom value in the piecewise function is the unsolved normalization constant. Therefore, we can use the top value as the correct constant. We can then multiply this once more by the original function to give the normalized wavefunction:"
   ]
  },
  {
   "cell_type": "code",
   "execution_count": 10,
   "metadata": {},
   "outputs": [
    {
     "data": {
      "image/png": "[encoded data removed]",
      "text/latex": [
       "$$\\frac{\\alpha^{0.25} e^{- \\frac{\\alpha \\left(x - x_{0}\\right)^{2}}{2}}}{\\pi^{0.25}}$$"
      ],
      "text/plain": [
       "                         2 \n",
       "              -α⋅(x - x₀)  \n",
       "              ─────────────\n",
       " 0.25  -0.25        2      \n",
       "α    ⋅π     ⋅ℯ             "
      ]
     },
     "execution_count": 10,
     "metadata": {},
     "output_type": "execute_result"
    }
   ],
   "source": [
    "(alpha**(1/4)/pi**(1/4))*FG"
   ]
  },
  {
   "cell_type": "code",
   "execution_count": null,
   "metadata": {},
   "outputs": [],
   "source": []
  }
 ],
 "metadata": {
  "kernelspec": {
   "display_name": "Python 3",
   "language": "python",
   "name": "python3"
  },
  "language_info": {
   "codemirror_mode": {
    "name": "ipython",
    "version": 3
   },
   "file_extension": ".py",
   "mimetype": "text/x-python",
   "name": "python",
   "nbconvert_exporter": "python",
   "pygments_lexer": "ipython3",
   "version": "3.7.1"
  }
 },
 "nbformat": 4,
 "nbformat_minor": 2
}
