{
 "cells": [
  {
   "cell_type": "code",
   "execution_count": 1,
   "metadata": {
    "scrolled": false
   },
   "outputs": [],
   "source": [
    "from pysces import *"
   ]
  },
  {
   "cell_type": "markdown",
   "metadata": {},
   "source": [
    "There are three tutorial functions in pysces at this time.\n",
    "\n",
    "These tutorial functions walk a user through how to calculate quantum problems."
   ]
  },
  {
   "cell_type": "markdown",
   "metadata": {},
   "source": [
    "# 1. `comm_steps`"
   ]
  },
  {
   "cell_type": "code",
   "execution_count": 2,
   "metadata": {},
   "outputs": [
    {
     "data": {
      "image/png": "[encoded data removed]",
      "text/latex": [
       "$\\displaystyle - \\left[x,- \\hbar i \\frac{d}{d x} 1\\right] f{\\left(x \\right)}$"
      ],
      "text/plain": [
       " ⎡       d    ⎤     \n",
       "-⎢x,-h̅⋅i⋅──(1)⎥⋅f(x)\n",
       " ⎣       dx   ⎦     "
      ]
     },
     "metadata": {},
     "output_type": "display_data"
    },
    {
     "data": {
      "image/png": "[encoded data removed]",
      "text/latex": [
       "$\\displaystyle - x - \\hbar i \\frac{d}{d x} 1 f{\\left(x \\right)} + - \\hbar i \\frac{d}{d x} 1 x f{\\left(x \\right)}$"
      ],
      "text/plain": [
       "    ⎛     d    ⎞             d           \n",
       "- x⋅⎜-h̅⋅i⋅──(1)⎟⋅f(x) + -h̅⋅i⋅──(1)⋅x⋅f(x)\n",
       "    ⎝     dx   ⎠             dx          "
      ]
     },
     "metadata": {},
     "output_type": "display_data"
    },
    {
     "data": {
      "image/png": "[encoded data removed]",
      "text/latex": [
       "$\\displaystyle - \\hbar i f{\\left(x \\right)}$"
      ],
      "text/plain": [
       "-h̅⋅i⋅f(x)"
      ]
     },
     "metadata": {},
     "output_type": "display_data"
    },
    {
     "data": {
      "text/plain": [
       "(None, None, None)"
      ]
     },
     "execution_count": 2,
     "metadata": {},
     "output_type": "execute_result"
    }
   ],
   "source": [
    "comm_steps(lin_mom(x), x, f(x))"
   ]
  },
  {
   "cell_type": "markdown",
   "metadata": {},
   "source": [
    "# 2. `normalization_constant_steps`"
   ]
  },
  {
   "cell_type": "code",
   "execution_count": 3,
   "metadata": {},
   "outputs": [
    {
     "data": {
      "image/png": "[encoded data removed]",
      "text/latex": [
       "$\\displaystyle \\frac{1}{\\sqrt{\\int\\limits_{x}^{0} \\sin^{2}{\\left(\\frac{\\pi n x}{L} \\right)}\\, dL}}$"
      ],
      "text/plain": [
       "            1             \n",
       "──────────────────────────\n",
       "        __________________\n",
       "       ╱ 0                \n",
       "      ╱  ⌠                \n",
       "     ╱   ⎮    2⎛π⋅n⋅x⎞    \n",
       "    ╱    ⎮ sin ⎜─────⎟ dL \n",
       "   ╱     ⎮     ⎝  L  ⎠    \n",
       "  ╱      ⌡                \n",
       "╲╱       x                "
      ]
     },
     "metadata": {},
     "output_type": "display_data"
    },
    {
     "data": {
      "image/png": "[encoded data removed]",
      "text/latex": [
       "$\\displaystyle \\frac{1}{\\sqrt{\\int\\limits_{x}^{0} \\sin^{2}{\\left(\\frac{\\pi n x}{L} \\right)}\\, dL}}$"
      ],
      "text/plain": [
       "            1             \n",
       "──────────────────────────\n",
       "        __________________\n",
       "       ╱ 0                \n",
       "      ╱  ⌠                \n",
       "     ╱   ⎮    2⎛π⋅n⋅x⎞    \n",
       "    ╱    ⎮ sin ⎜─────⎟ dL \n",
       "   ╱     ⎮     ⎝  L  ⎠    \n",
       "  ╱      ⌡                \n",
       "╲╱       x                "
      ]
     },
     "metadata": {},
     "output_type": "display_data"
    },
    {
     "data": {
      "image/png": "[encoded data removed]",
      "text/latex": [
       "$\\displaystyle \\frac{1}{\\sqrt{\\int\\limits_{x}^{0} \\sin^{2}{\\left(\\frac{\\pi n x}{L} \\right)}\\, dL}}$"
      ],
      "text/plain": [
       "            1             \n",
       "──────────────────────────\n",
       "        __________________\n",
       "       ╱ 0                \n",
       "      ╱  ⌠                \n",
       "     ╱   ⎮    2⎛π⋅n⋅x⎞    \n",
       "    ╱    ⎮ sin ⎜─────⎟ dL \n",
       "   ╱     ⎮     ⎝  L  ⎠    \n",
       "  ╱      ⌡                \n",
       "╲╱       x                "
      ]
     },
     "metadata": {},
     "output_type": "display_data"
    },
    {
     "data": {
      "text/plain": [
       "(None, None, None)"
      ]
     },
     "execution_count": 3,
     "metadata": {},
     "output_type": "execute_result"
    }
   ],
   "source": [
    "normalization_constant_steps(PIB(x, L, n), x, 0, L)"
   ]
  },
  {
   "cell_type": "markdown",
   "metadata": {},
   "source": [
    "# 3. `expectation_value_steps`"
   ]
  },
  {
   "cell_type": "code",
   "execution_count": 4,
   "metadata": {},
   "outputs": [
    {
     "data": {
      "image/png": "[encoded data removed]",
      "text/latex": [
       "$\\displaystyle \\int\\limits_{x}^{0} \\frac{2 x \\sin^{2}{\\left(\\frac{\\pi n x}{L} \\right)}}{L}\\, dL$"
      ],
      "text/plain": [
       "0                   \n",
       "⌠                   \n",
       "⎮        2⎛π⋅n⋅x⎞   \n",
       "⎮ 2⋅x⋅sin ⎜─────⎟   \n",
       "⎮         ⎝  L  ⎠   \n",
       "⎮ ─────────────── dL\n",
       "⎮        L          \n",
       "⌡                   \n",
       "x                   "
      ]
     },
     "metadata": {},
     "output_type": "display_data"
    },
    {
     "data": {
      "image/png": "[encoded data removed]",
      "text/latex": [
       "$\\displaystyle x \\left(\\log{\\left(n \\right)} - \\frac{\\log{\\left(n^{2} \\right)}}{2} - \\log{\\left(x \\right)} - \\operatorname{Ci}{\\left(2 \\pi n \\right)} - \\frac{\\infty}{\\left|{x}\\right|}\\right)$"
      ],
      "text/plain": [
       "  ⎛            ⎛ 2⎞                           ⎞\n",
       "  ⎜         log⎝n ⎠                         ∞ ⎟\n",
       "x⋅⎜log(n) - ─────── - log(x) - Ci(2⋅π⋅n) - ───⎟\n",
       "  ⎝            2                           │x│⎠"
      ]
     },
     "metadata": {},
     "output_type": "display_data"
    },
    {
     "data": {
      "text/plain": [
       "(None, None)"
      ]
     },
     "execution_count": 4,
     "metadata": {},
     "output_type": "execute_result"
    }
   ],
   "source": [
    "expectation_value_steps(PIB_normalized(x, L, n), x, PIB_normalized(x, L, n), x, 0, L)"
   ]
  }
 ],
 "metadata": {
  "kernelspec": {
   "display_name": "Python 3",
   "language": "python",
   "name": "python3"
  },
  "language_info": {
   "codemirror_mode": {
    "name": "ipython",
    "version": 3
   },
   "file_extension": ".py",
   "mimetype": "text/x-python",
   "name": "python",
   "nbconvert_exporter": "python",
   "pygments_lexer": "ipython3",
   "version": "3.8.5"
  }
 },
 "nbformat": 4,
 "nbformat_minor": 2
}
