{
 "cells": [
  {
   "cell_type": "code",
   "execution_count": 21,
   "metadata": {},
   "outputs": [],
   "source": [
    "from sympy import *\n",
    "from sympy.physics.hydrogen import *\n",
    "from sympy.functions.special.polynomials import *"
   ]
  },
  {
   "cell_type": "markdown",
   "metadata": {},
   "source": [
    "Laguerre Polynomials:\n",
    "\n",
    "SymPy's laguerre(n, r) function is called, where two arguments are used:\n",
    "\n",
    "the first argument, n,  is the nth quantum number,\n",
    "\n",
    "the second argument, r, is with what variable it is with respect to, in this case the variable \"r\".\n",
    "\n",
    "This function automatically computes the Laguerre polynomial at any given value of n.\n",
    "\n",
    "Here are a few examples where n = 1, n = 2, and n = 3.\n"
   ]
  },
  {
   "cell_type": "code",
   "execution_count": 22,
   "metadata": {},
   "outputs": [
    {
     "data": {
      "text/plain": [
       "-r + 1"
      ]
     },
     "execution_count": 22,
     "metadata": {},
     "output_type": "execute_result"
    }
   ],
   "source": [
    "r = symbols('r')\n",
    "laguerre(1, r)"
   ]
  },
  {
   "cell_type": "code",
   "execution_count": 23,
   "metadata": {},
   "outputs": [
    {
     "data": {
      "text/plain": [
       "r**2/2 - 2*r + 1"
      ]
     },
     "execution_count": 23,
     "metadata": {},
     "output_type": "execute_result"
    }
   ],
   "source": [
    "laguerre(2, r)        "
   ]
  },
  {
   "cell_type": "code",
   "execution_count": 24,
   "metadata": {},
   "outputs": [
    {
     "data": {
      "text/plain": [
       "(r**2 - 4*r + 2)/2"
      ]
     },
     "execution_count": 24,
     "metadata": {},
     "output_type": "execute_result"
    }
   ],
   "source": [
    "factor(laguerre(2, r))"
   ]
  },
  {
   "cell_type": "markdown",
   "metadata": {},
   "source": [
    "Note that when computing the laguerre() function in In[15], python divides the exponent of r in the first term by 2, rather than dividing the entire first term by 2.\n",
    "\n",
    "Because of this, we use the factor() function in In[16] in order to format the answer more clearly. \n",
    "\n",
    "This factor() function should be used for all laguerre() functions when n is greater than 1."
   ]
  },
  {
   "cell_type": "code",
   "execution_count": 25,
   "metadata": {},
   "outputs": [
    {
     "data": {
      "text/plain": [
       "-(r**3 - 9*r**2 + 18*r - 6)/6"
      ]
     },
     "execution_count": 25,
     "metadata": {},
     "output_type": "execute_result"
    }
   ],
   "source": [
    "factor(laguerre(3, r))"
   ]
  },
  {
   "cell_type": "markdown",
   "metadata": {},
   "source": [
    "Associated Laguerre Polynomials:\n",
    "\n",
    "SymPy's assoc_laguerre(n, l, r) function is called, where three arguments are used:\n",
    "\n",
    "the first argument, n, is the nth quantum number,\n",
    "\n",
    "the second argument, l, is the lth angular momentum quantum number,\n",
    "\n",
    "the third argument, r, is with what variable it is with respect to, in this case the variable \"r\".\n",
    "\n",
    "This function automatically computes the Associated Laguerre polynomial at given values of n and l.\n",
    "\n",
    "Here are a few examples where n = 1 & l = 0, n = 1 & l = 1, n = 2 & l = 2, and n = 3 & l = 3."
   ]
  },
  {
   "cell_type": "code",
   "execution_count": 32,
   "metadata": {},
   "outputs": [
    {
     "data": {
      "text/plain": [
       "-r + 1"
      ]
     },
     "execution_count": 32,
     "metadata": {},
     "output_type": "execute_result"
    }
   ],
   "source": [
    "assoc_laguerre(1, 0, r)"
   ]
  },
  {
   "cell_type": "markdown",
   "metadata": {},
   "source": [
    "Note that if l = 0, assoc_laguerre() simply returns the Laguerre polynomial at the given value of n."
   ]
  },
  {
   "cell_type": "code",
   "execution_count": 28,
   "metadata": {},
   "outputs": [
    {
     "data": {
      "text/plain": [
       "-r + 2"
      ]
     },
     "execution_count": 28,
     "metadata": {},
     "output_type": "execute_result"
    }
   ],
   "source": [
    "assoc_laguerre(1, 1, r)"
   ]
  },
  {
   "cell_type": "code",
   "execution_count": 30,
   "metadata": {},
   "outputs": [
    {
     "data": {
      "text/plain": [
       "(r**2 - 6*r + 6)/2"
      ]
     },
     "execution_count": 30,
     "metadata": {},
     "output_type": "execute_result"
    }
   ],
   "source": [
    "factor(assoc_laguerre(2, 1, r))"
   ]
  },
  {
   "cell_type": "code",
   "execution_count": 35,
   "metadata": {},
   "outputs": [
    {
     "data": {
      "image/png": "[encoded data removed]",
      "text/latex": [
       "$$2 \\sqrt{Z^{3}} e^{- Z r}$$"
      ],
      "text/plain": [
       "     ____      \n",
       "    ╱  3   -Z⋅r\n",
       "2⋅╲╱  Z  ⋅ℯ    "
      ]
     },
     "execution_count": 35,
     "metadata": {},
     "output_type": "execute_result"
    }
   ],
   "source": [
    "init_printing()\n",
    "Z = symbols(\"Z\")\n",
    "R_nl(1, 0, r, Z)"
   ]
  },
  {
   "cell_type": "code",
   "execution_count": null,
   "metadata": {},
   "outputs": [],
   "source": []
  }
 ],
 "metadata": {
  "kernelspec": {
   "display_name": "Python 3",
   "language": "python",
   "name": "python3"
  },
  "language_info": {
   "codemirror_mode": {
    "name": "ipython",
    "version": 3
   },
   "file_extension": ".py",
   "mimetype": "text/x-python",
   "name": "python",
   "nbconvert_exporter": "python",
   "pygments_lexer": "ipython3",
   "version": "3.7.5"
  }
 },
 "nbformat": 4,
 "nbformat_minor": 2
}
