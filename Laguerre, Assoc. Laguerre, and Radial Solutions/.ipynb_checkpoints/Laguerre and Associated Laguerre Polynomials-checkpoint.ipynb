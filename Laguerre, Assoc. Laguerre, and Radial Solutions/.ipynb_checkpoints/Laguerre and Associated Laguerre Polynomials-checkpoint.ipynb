{
 "cells": [
  {
   "cell_type": "code",
   "execution_count": 12,
   "metadata": {},
   "outputs": [],
   "source": [
    "from Pysces import *"
   ]
  },
  {
   "cell_type": "markdown",
   "metadata": {},
   "source": [
    "Laguerre Polynomials and the Radial Solution\n",
    "\n",
    "Let's look at some of the defined functions:\n",
    "\n",
    "Laguerre(r, n) function represents a Laguerre polynomial, given by the general formula:"
   ]
  },
  {
   "cell_type": "code",
   "execution_count": 13,
   "metadata": {},
   "outputs": [
    {
     "data": {
      "image/png": "[encoded data removed]",
      "text/latex": [
       "$$e^{r} \\frac{\\partial^{n}}{\\partial r^{n}} r^{n} e^{- r}$$"
      ],
      "text/plain": [
       "     n        \n",
       " r  ∂ ⎛ n  -r⎞\n",
       "ℯ ⋅───⎝r ⋅ℯ  ⎠\n",
       "     n        \n",
       "   ∂r         "
      ]
     },
     "execution_count": 13,
     "metadata": {},
     "output_type": "execute_result"
    }
   ],
   "source": [
    "exp(r)*Derivative(exp(-r)*(r**n), (r, n))"
   ]
  },
  {
   "cell_type": "markdown",
   "metadata": {},
   "source": [
    "Pysces's LAGUERRE(r, n) function is called, where two arguments are used:\n",
    "\n",
    "the first argument, r, is with what variable it is with respect to, in this case the variable \"r\",\n",
    "\n",
    "the second argument, n, is the nth quantum number.\n",
    "\n",
    "For a 1s orbital, n = 1\n",
    "\n",
    "This function expands the Laguerre polynomial at any given value of n. To automatically evaluate the values of these polynomials, we use the SymPy's .doit() function.\n",
    "\n",
    "Here are a few examples where n = 1, n = 2, and n = 3."
   ]
  },
  {
   "cell_type": "code",
   "execution_count": 17,
   "metadata": {},
   "outputs": [
    {
     "data": {
      "image/png": "[encoded data removed]",
      "text/latex": [
       "$$- r + 1$$"
      ],
      "text/plain": [
       "-r + 1"
      ]
     },
     "execution_count": 17,
     "metadata": {},
     "output_type": "execute_result"
    }
   ],
   "source": [
    "expand(LAGUERRE(r, 1).doit())"
   ]
  },
  {
   "cell_type": "markdown",
   "metadata": {},
   "source": [
    "The Laguerre polynomial can be used to calculate the Laguerre Associated polynomial, given by the following:\n",
    "\n",
    "Laguerre_Assoc(n, l)\n",
    "\n",
    "Where n is the principal quantum number and l is the angular momentum quantum number.\n",
    "\n",
    "For a 1s orbital, n=1, l=0\n",
    "\n",
    "The expression is given by:"
   ]
  },
  {
   "cell_type": "code",
   "execution_count": 15,
   "metadata": {},
   "outputs": [
    {
     "data": {
      "image/png": "[encoded data removed]",
      "text/latex": [
       "$$\\left(-1\\right)^{l} \\frac{\\partial^{l}}{\\partial r^{l}} e^{r} \\frac{\\partial^{l + n}}{\\partial r^{l + n}} r^{l + n} e^{- r}$$"
      ],
      "text/plain": [
       "        l⎛     l + n            ⎞\n",
       "    l  ∂ ⎜ r  ∂     ⎛ l + n  -r⎞⎟\n",
       "(-1) ⋅───⎜ℯ ⋅───────⎝r     ⋅ℯ  ⎠⎟\n",
       "        l⎜     l + n            ⎟\n",
       "      ∂r ⎝   ∂r                 ⎠"
      ]
     },
     "execution_count": 15,
     "metadata": {},
     "output_type": "execute_result"
    }
   ],
   "source": [
    "((-1)**l)*Derivative(LAGUERRE(r, n+l), (r, l))"
   ]
  },
  {
   "cell_type": "code",
   "execution_count": null,
   "metadata": {},
   "outputs": [],
   "source": []
  },
  {
   "cell_type": "code",
   "execution_count": null,
   "metadata": {},
   "outputs": [],
   "source": []
  }
 ],
 "metadata": {
  "kernelspec": {
   "display_name": "Python 3",
   "language": "python",
   "name": "python3"
  },
  "language_info": {
   "codemirror_mode": {
    "name": "ipython",
    "version": 3
   },
   "file_extension": ".py",
   "mimetype": "text/x-python",
   "name": "python",
   "nbconvert_exporter": "python",
   "pygments_lexer": "ipython3",
   "version": "3.7.5"
  }
 },
 "nbformat": 4,
 "nbformat_minor": 2
}
